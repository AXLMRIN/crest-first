{
 "cells": [
  {
   "cell_type": "markdown",
   "metadata": {},
   "source": [
    "This notebook goal is to plot a figure using no custom function before we get to design and write useful ones"
   ]
  },
  {
   "cell_type": "markdown",
   "metadata": {},
   "source": [
    "# Imports"
   ]
  },
  {
   "cell_type": "code",
   "execution_count": 2,
   "metadata": {},
   "outputs": [],
   "source": [
    "# Third Parties\n",
    "import pandas as pd\n",
    "import plotly.express as px\n",
    "import plotly.graph_objs as go\n",
    "import numpy as np \n",
    "\n",
    "# Native\n",
    "\n",
    "# Custom \n",
    "# /\n",
    "\n",
    "# Classes\n",
    "from plotly.graph_objs._figure import Figure as goFigure\n",
    "# Functions\n",
    "from plotly.subplots import make_subplots\n",
    "from itertools import product"
   ]
  },
  {
   "cell_type": "markdown",
   "metadata": {},
   "source": [
    "# Open file and prepare for plotting"
   ]
  },
  {
   "cell_type": "code",
   "execution_count": 3,
   "metadata": {},
   "outputs": [
    {
     "name": "stderr",
     "output_type": "stream",
     "text": [
      "/var/folders/xs/d90v1vkn16db_7z493h6kwt40000gn/T/ipykernel_30339/3563665539.py:1: DtypeWarning: Columns (0) have mixed types. Specify dtype option on import or set low_memory=False.\n",
      "  articles = pd.read_csv(\n"
     ]
    }
   ],
   "source": [
    "articles = pd.read_csv(\n",
    "    '../../data/2025-01-07-2024-10-29-quinquadef4-neat-abstract-bert.csv'\n",
    ")\n",
    "\n",
    "revues = pd.read_csv(\n",
    "    '../../data/Classification revues - Feuille 1.csv'\n",
    ")"
   ]
  },
  {
   "cell_type": "code",
   "execution_count": 4,
   "metadata": {},
   "outputs": [
    {
     "data": {
      "text/plain": [
       "Index(['iddef', 'titre', 'soustitre', 'auteurs', 'annee', 'revue', 'num_titre',\n",
       "       'num_num', 'abstract', 'url_art', 'auteurs_fam', 'auteurs_prenom',\n",
       "       'source', 'n_auteurs', 'femme', 'annee5', 'majo_femmes', 'sexe3',\n",
       "       'tag_race', 'tag_inclusif', 'bert_pronoms', 'bert_quanti', 'bert_quali',\n",
       "       'bert_genre', 'bert_genre_stat', 'bert_classe_large',\n",
       "       'bert_classe_stricte', 'bert_genre_pas_stat', 'bert_monostricte',\n",
       "       'bert_interstricte_2plus', 'bert_interstricte_3',\n",
       "       'bert_interstricte_GC', 'bert_interstricte_GR', 'bert_interstricte_CR',\n",
       "       'bert_interstricte_cl', 'bert_interstricte_cl2', 'bert_monolarge',\n",
       "       'bert_interlarge_2plus', 'bert_interlarge_3', 'bert_interlarge_GC',\n",
       "       'bert_interlarge_GR', 'bert_interlarge_CR', 'bert_interlarge_cl',\n",
       "       'bert_interlarge_cl2'],\n",
       "      dtype='object')"
      ]
     },
     "execution_count": 4,
     "metadata": {},
     "output_type": "execute_result"
    }
   ],
   "source": [
    "articles.columns"
   ]
  },
  {
   "cell_type": "code",
   "execution_count": 5,
   "metadata": {},
   "outputs": [
    {
     "data": {
      "text/plain": [
       "Index(['revue', 'Dominante', 'Aréale', 'Anthropo', 'Demo', 'Eco', 'Genre',\n",
       "       'Géographie', 'Histoire', 'SIC', 'Sociologie', 'SciencePo'],\n",
       "      dtype='object')"
      ]
     },
     "execution_count": 5,
     "metadata": {},
     "output_type": "execute_result"
    }
   ],
   "source": [
    "revues.columns"
   ]
  },
  {
   "cell_type": "code",
   "execution_count": 6,
   "metadata": {},
   "outputs": [],
   "source": [
    "# 'Économie' and 'Economie' exist in the revue.Dominante column\n",
    "# We only want 'Economie' :\n",
    "revues.loc[:,\"Dominante\"] = revues.loc[\n",
    "                            :,\n",
    "                            'Dominante'\n",
    "                            ].replace(\"Économie\",\"Economie\")"
   ]
  },
  {
   "cell_type": "code",
   "execution_count": 7,
   "metadata": {},
   "outputs": [],
   "source": [
    "CAT = [\n",
    "    'Aréale'        ,\n",
    "    'Anthropologie' ,\n",
    "    'Démographie'   ,\n",
    "    'Economie'      ,\n",
    "    'Genre'         ,\n",
    "    'Géographie'    ,\n",
    "    'Histoire'      ,\n",
    "    'SIC'           ,\n",
    "    'Sociologie'    ,\n",
    "    'Science politique' \n",
    "]\n"
   ]
  },
  {
   "cell_type": "code",
   "execution_count": 29,
   "metadata": {},
   "outputs": [],
   "source": [
    "unknown_revues = []\n",
    "unknown_categories = []\n",
    "\n",
    "found_categorie : list[str] = []\n",
    "\n",
    "for i in range(len(articles)): \n",
    "    # retrieve the name of the revue\n",
    "    revue_i : str = articles.loc[i,'revue']\n",
    "\n",
    "    # find the category\n",
    "    try : \n",
    "        found_categorie_i : str = revues.loc[\n",
    "                                    revues.revue == revue_i,\n",
    "                                    'Dominante'].item()\n",
    "    except:\n",
    "        unknown_revues.append(revue_i)\n",
    "        found_categorie_i = \"NaN\"\n",
    "\n",
    "    if found_categorie_i in CAT : \n",
    "        cat_label : str = found_categorie_i\n",
    "    if found_categorie_i == \"NaN\":\n",
    "        cat_label : str = \"NaN\"\n",
    "    else : \n",
    "        if found_categorie_i != 'Autre interdisciplinaire' : \n",
    "            unknown_categories.append(found_categorie)\n",
    "            \n",
    "        cat_label : str = 'Autre interdisciplinaire'\n",
    "    found_categorie.append(found_categorie_i)\n"
   ]
  },
  {
   "cell_type": "code",
   "execution_count": 30,
   "metadata": {},
   "outputs": [
    {
     "data": {
      "text/plain": [
       "['Commentaire',\n",
       " 'Commentaire',\n",
       " 'Commentaire',\n",
       " 'Commentaire',\n",
       " 'Commentaire',\n",
       " 'Commentaire',\n",
       " 'Commentaire',\n",
       " 'Commentaire',\n",
       " 'Commentaire',\n",
       " 'Commentaire',\n",
       " 'Commentaire',\n",
       " 'Commentaire',\n",
       " 'Commentaire',\n",
       " 'Commentaire',\n",
       " 'Commentaire',\n",
       " 'Commentaire',\n",
       " 'Commentaire',\n",
       " 'Éducation & formations',\n",
       " 'Éducation & formations',\n",
       " 'Éducation & formations',\n",
       " 'Éducation & formations',\n",
       " 'Éducation & formations',\n",
       " 'Éducation & formations']"
      ]
     },
     "execution_count": 30,
     "metadata": {},
     "output_type": "execute_result"
    }
   ],
   "source": [
    "unknown_revues"
   ]
  },
  {
   "cell_type": "code",
   "execution_count": 31,
   "metadata": {},
   "outputs": [
    {
     "data": {
      "text/plain": [
       "{'Anthropologie',\n",
       " 'Aréale',\n",
       " 'Autre interdisciplinaire',\n",
       " 'Démographie',\n",
       " 'Economie',\n",
       " 'Genre',\n",
       " 'Géographie',\n",
       " 'Histoire',\n",
       " 'NaN',\n",
       " 'SIC',\n",
       " 'Science politique',\n",
       " 'Sociologie'}"
      ]
     },
     "execution_count": 31,
     "metadata": {},
     "output_type": "execute_result"
    }
   ],
   "source": [
    "set(found_categorie)"
   ]
  },
  {
   "cell_type": "code",
   "execution_count": 32,
   "metadata": {},
   "outputs": [],
   "source": [
    "articles['Discipline'] = found_categorie"
   ]
  },
  {
   "cell_type": "code",
   "execution_count": 33,
   "metadata": {},
   "outputs": [
    {
     "data": {
      "text/html": [
       "<div>\n",
       "<style scoped>\n",
       "    .dataframe tbody tr th:only-of-type {\n",
       "        vertical-align: middle;\n",
       "    }\n",
       "\n",
       "    .dataframe tbody tr th {\n",
       "        vertical-align: top;\n",
       "    }\n",
       "\n",
       "    .dataframe thead th {\n",
       "        text-align: right;\n",
       "    }\n",
       "</style>\n",
       "<table border=\"1\" class=\"dataframe\">\n",
       "  <thead>\n",
       "    <tr style=\"text-align: right;\">\n",
       "      <th></th>\n",
       "      <th>revue</th>\n",
       "      <th>Discipline</th>\n",
       "    </tr>\n",
       "  </thead>\n",
       "  <tbody>\n",
       "    <tr>\n",
       "      <th>5916</th>\n",
       "      <td>Commentaire</td>\n",
       "      <td>NaN</td>\n",
       "    </tr>\n",
       "    <tr>\n",
       "      <th>5917</th>\n",
       "      <td>Commentaire</td>\n",
       "      <td>NaN</td>\n",
       "    </tr>\n",
       "    <tr>\n",
       "      <th>5918</th>\n",
       "      <td>Commentaire</td>\n",
       "      <td>NaN</td>\n",
       "    </tr>\n",
       "    <tr>\n",
       "      <th>5919</th>\n",
       "      <td>Commentaire</td>\n",
       "      <td>NaN</td>\n",
       "    </tr>\n",
       "    <tr>\n",
       "      <th>5920</th>\n",
       "      <td>Commentaire</td>\n",
       "      <td>NaN</td>\n",
       "    </tr>\n",
       "    <tr>\n",
       "      <th>5921</th>\n",
       "      <td>Commentaire</td>\n",
       "      <td>NaN</td>\n",
       "    </tr>\n",
       "    <tr>\n",
       "      <th>5922</th>\n",
       "      <td>Commentaire</td>\n",
       "      <td>NaN</td>\n",
       "    </tr>\n",
       "    <tr>\n",
       "      <th>5923</th>\n",
       "      <td>Commentaire</td>\n",
       "      <td>NaN</td>\n",
       "    </tr>\n",
       "    <tr>\n",
       "      <th>5924</th>\n",
       "      <td>Commentaire</td>\n",
       "      <td>NaN</td>\n",
       "    </tr>\n",
       "    <tr>\n",
       "      <th>5925</th>\n",
       "      <td>Commentaire</td>\n",
       "      <td>NaN</td>\n",
       "    </tr>\n",
       "    <tr>\n",
       "      <th>5926</th>\n",
       "      <td>Commentaire</td>\n",
       "      <td>NaN</td>\n",
       "    </tr>\n",
       "    <tr>\n",
       "      <th>5927</th>\n",
       "      <td>Commentaire</td>\n",
       "      <td>NaN</td>\n",
       "    </tr>\n",
       "    <tr>\n",
       "      <th>5928</th>\n",
       "      <td>Commentaire</td>\n",
       "      <td>NaN</td>\n",
       "    </tr>\n",
       "    <tr>\n",
       "      <th>5929</th>\n",
       "      <td>Commentaire</td>\n",
       "      <td>NaN</td>\n",
       "    </tr>\n",
       "    <tr>\n",
       "      <th>5930</th>\n",
       "      <td>Commentaire</td>\n",
       "      <td>NaN</td>\n",
       "    </tr>\n",
       "    <tr>\n",
       "      <th>5931</th>\n",
       "      <td>Commentaire</td>\n",
       "      <td>NaN</td>\n",
       "    </tr>\n",
       "    <tr>\n",
       "      <th>5932</th>\n",
       "      <td>Commentaire</td>\n",
       "      <td>NaN</td>\n",
       "    </tr>\n",
       "    <tr>\n",
       "      <th>8679</th>\n",
       "      <td>Éducation &amp; formations</td>\n",
       "      <td>NaN</td>\n",
       "    </tr>\n",
       "    <tr>\n",
       "      <th>8680</th>\n",
       "      <td>Éducation &amp; formations</td>\n",
       "      <td>NaN</td>\n",
       "    </tr>\n",
       "    <tr>\n",
       "      <th>8681</th>\n",
       "      <td>Éducation &amp; formations</td>\n",
       "      <td>NaN</td>\n",
       "    </tr>\n",
       "    <tr>\n",
       "      <th>8682</th>\n",
       "      <td>Éducation &amp; formations</td>\n",
       "      <td>NaN</td>\n",
       "    </tr>\n",
       "    <tr>\n",
       "      <th>8683</th>\n",
       "      <td>Éducation &amp; formations</td>\n",
       "      <td>NaN</td>\n",
       "    </tr>\n",
       "    <tr>\n",
       "      <th>8684</th>\n",
       "      <td>Éducation &amp; formations</td>\n",
       "      <td>NaN</td>\n",
       "    </tr>\n",
       "  </tbody>\n",
       "</table>\n",
       "</div>"
      ],
      "text/plain": [
       "                       revue Discipline\n",
       "5916             Commentaire        NaN\n",
       "5917             Commentaire        NaN\n",
       "5918             Commentaire        NaN\n",
       "5919             Commentaire        NaN\n",
       "5920             Commentaire        NaN\n",
       "5921             Commentaire        NaN\n",
       "5922             Commentaire        NaN\n",
       "5923             Commentaire        NaN\n",
       "5924             Commentaire        NaN\n",
       "5925             Commentaire        NaN\n",
       "5926             Commentaire        NaN\n",
       "5927             Commentaire        NaN\n",
       "5928             Commentaire        NaN\n",
       "5929             Commentaire        NaN\n",
       "5930             Commentaire        NaN\n",
       "5931             Commentaire        NaN\n",
       "5932             Commentaire        NaN\n",
       "8679  Éducation & formations        NaN\n",
       "8680  Éducation & formations        NaN\n",
       "8681  Éducation & formations        NaN\n",
       "8682  Éducation & formations        NaN\n",
       "8683  Éducation & formations        NaN\n",
       "8684  Éducation & formations        NaN"
      ]
     },
     "execution_count": 33,
     "metadata": {},
     "output_type": "execute_result"
    }
   ],
   "source": [
    "articles.loc[articles.Discipline == \"NaN\",['revue','Discipline']]"
   ]
  },
  {
   "cell_type": "code",
   "execution_count": 34,
   "metadata": {},
   "outputs": [
    {
     "data": {
      "text/html": [
       "<div>\n",
       "<style scoped>\n",
       "    .dataframe tbody tr th:only-of-type {\n",
       "        vertical-align: middle;\n",
       "    }\n",
       "\n",
       "    .dataframe tbody tr th {\n",
       "        vertical-align: top;\n",
       "    }\n",
       "\n",
       "    .dataframe thead th {\n",
       "        text-align: right;\n",
       "    }\n",
       "</style>\n",
       "<table border=\"1\" class=\"dataframe\">\n",
       "  <thead>\n",
       "    <tr style=\"text-align: right;\">\n",
       "      <th></th>\n",
       "      <th>annee</th>\n",
       "      <th>bert_genre</th>\n",
       "      <th>Discipline</th>\n",
       "    </tr>\n",
       "  </thead>\n",
       "  <tbody>\n",
       "    <tr>\n",
       "      <th>0</th>\n",
       "      <td>2001</td>\n",
       "      <td>False</td>\n",
       "      <td>Histoire</td>\n",
       "    </tr>\n",
       "    <tr>\n",
       "      <th>1</th>\n",
       "      <td>2001</td>\n",
       "      <td>False</td>\n",
       "      <td>Science politique</td>\n",
       "    </tr>\n",
       "    <tr>\n",
       "      <th>2</th>\n",
       "      <td>2001</td>\n",
       "      <td>False</td>\n",
       "      <td>Science politique</td>\n",
       "    </tr>\n",
       "    <tr>\n",
       "      <th>3</th>\n",
       "      <td>2001</td>\n",
       "      <td>False</td>\n",
       "      <td>Science politique</td>\n",
       "    </tr>\n",
       "    <tr>\n",
       "      <th>4</th>\n",
       "      <td>2001</td>\n",
       "      <td>False</td>\n",
       "      <td>Science politique</td>\n",
       "    </tr>\n",
       "  </tbody>\n",
       "</table>\n",
       "</div>"
      ],
      "text/plain": [
       "   annee  bert_genre         Discipline\n",
       "0   2001       False           Histoire\n",
       "1   2001       False  Science politique\n",
       "2   2001       False  Science politique\n",
       "3   2001       False  Science politique\n",
       "4   2001       False  Science politique"
      ]
     },
     "execution_count": 34,
     "metadata": {},
     "output_type": "execute_result"
    }
   ],
   "source": [
    "# Create usable df\n",
    "df = articles.loc[\n",
    "    articles.Discipline != \"NaN\",\n",
    "    [\"annee\", \"bert_genre\", \"Discipline\"]\n",
    "]\n",
    "df = df.sort_values('annee')\n",
    "df.index = np.arange(0,len(df))\n",
    "df.head()"
   ]
  },
  {
   "cell_type": "code",
   "execution_count": 35,
   "metadata": {},
   "outputs": [
    {
     "data": {
      "text/plain": [
       "{'Anthropologie',\n",
       " 'Aréale',\n",
       " 'Autre interdisciplinaire',\n",
       " 'Démographie',\n",
       " 'Economie',\n",
       " 'Genre',\n",
       " 'Géographie',\n",
       " 'Histoire',\n",
       " 'SIC',\n",
       " 'Science politique',\n",
       " 'Sociologie'}"
      ]
     },
     "execution_count": 35,
     "metadata": {},
     "output_type": "execute_result"
    }
   ],
   "source": [
    "set(df.Discipline)"
   ]
  },
  {
   "cell_type": "code",
   "execution_count": 36,
   "metadata": {},
   "outputs": [],
   "source": [
    "# create the df to plot for all the categories\n",
    "# NOTE mind the nan in bert_genre\n",
    "# >>> no 'nan' found in the 'bert_genre' column\n",
    "\n",
    "# Do not plot the year 2023\n",
    "dfPlot = {\n",
    "    'annee' : list(set(df.annee) - set([2023]))\n",
    "                        # already sorted because of previous manipulations\n",
    "}\n",
    "\n",
    "\n",
    "for y,cat in product(dfPlot['annee'], set(df.Discipline)):\n",
    "\n",
    "    if cat not in dfPlot:\n",
    "        dfPlot[cat] = []\n",
    "    dfPlot[cat].append(\n",
    "        df.loc[\n",
    "            (df.annee == y) & (df.Discipline == cat),\n",
    "            \"bert_genre\"\n",
    "        ].mean() * 100\n",
    "    )\n",
    "\n",
    "# Add the \"Toutes\" groupe\n",
    "dfPlot['Toutes'] = []\n",
    "for y in dfPlot['annee']:\n",
    "\n",
    "    dfPlot['Toutes'].append(\n",
    "        df.loc[\n",
    "            (df.annee == y),\n",
    "            \"bert_genre\"\n",
    "        ].mean() * 100\n",
    "    )\n",
    "\n",
    "# Add the \"Toutes Sauf Genre\" groupe\n",
    "dfPlot['Toutes sauf Genre'] = []\n",
    "for y in dfPlot['annee']:\n",
    "\n",
    "    dfPlot['Toutes sauf Genre'].append(\n",
    "        df.loc[\n",
    "            (df.annee == y) & (df.Discipline != \"Genre\"),\n",
    "            \"bert_genre\"\n",
    "        ].mean() * 100\n",
    "    )"
   ]
  },
  {
   "cell_type": "code",
   "execution_count": 37,
   "metadata": {},
   "outputs": [
    {
     "data": {
      "text/html": [
       "<div>\n",
       "<style scoped>\n",
       "    .dataframe tbody tr th:only-of-type {\n",
       "        vertical-align: middle;\n",
       "    }\n",
       "\n",
       "    .dataframe tbody tr th {\n",
       "        vertical-align: top;\n",
       "    }\n",
       "\n",
       "    .dataframe thead th {\n",
       "        text-align: right;\n",
       "    }\n",
       "</style>\n",
       "<table border=\"1\" class=\"dataframe\">\n",
       "  <thead>\n",
       "    <tr style=\"text-align: right;\">\n",
       "      <th></th>\n",
       "      <th>annee</th>\n",
       "      <th>Aréale</th>\n",
       "      <th>Genre</th>\n",
       "      <th>SIC</th>\n",
       "      <th>Economie</th>\n",
       "      <th>Anthropologie</th>\n",
       "      <th>Démographie</th>\n",
       "      <th>Géographie</th>\n",
       "      <th>Autre interdisciplinaire</th>\n",
       "      <th>Sociologie</th>\n",
       "      <th>Science politique</th>\n",
       "      <th>Histoire</th>\n",
       "      <th>Toutes</th>\n",
       "      <th>Toutes sauf Genre</th>\n",
       "    </tr>\n",
       "  </thead>\n",
       "  <tbody>\n",
       "    <tr>\n",
       "      <th>0</th>\n",
       "      <td>2001</td>\n",
       "      <td>3.571429</td>\n",
       "      <td>92.592593</td>\n",
       "      <td>3.448276</td>\n",
       "      <td>0.000000</td>\n",
       "      <td>8.750000</td>\n",
       "      <td>25.000000</td>\n",
       "      <td>0.000000</td>\n",
       "      <td>0.588235</td>\n",
       "      <td>4.242424</td>\n",
       "      <td>1.000000</td>\n",
       "      <td>2.614379</td>\n",
       "      <td>7.601185</td>\n",
       "      <td>2.815433</td>\n",
       "    </tr>\n",
       "    <tr>\n",
       "      <th>1</th>\n",
       "      <td>2002</td>\n",
       "      <td>4.109589</td>\n",
       "      <td>91.228070</td>\n",
       "      <td>0.000000</td>\n",
       "      <td>1.639344</td>\n",
       "      <td>7.317073</td>\n",
       "      <td>24.000000</td>\n",
       "      <td>0.000000</td>\n",
       "      <td>8.108108</td>\n",
       "      <td>3.184713</td>\n",
       "      <td>4.678363</td>\n",
       "      <td>11.351351</td>\n",
       "      <td>10.254163</td>\n",
       "      <td>5.996310</td>\n",
       "    </tr>\n",
       "    <tr>\n",
       "      <th>2</th>\n",
       "      <td>2003</td>\n",
       "      <td>2.739726</td>\n",
       "      <td>83.333333</td>\n",
       "      <td>7.586207</td>\n",
       "      <td>0.000000</td>\n",
       "      <td>7.594937</td>\n",
       "      <td>26.086957</td>\n",
       "      <td>0.000000</td>\n",
       "      <td>6.719368</td>\n",
       "      <td>8.500000</td>\n",
       "      <td>3.141361</td>\n",
       "      <td>1.704545</td>\n",
       "      <td>9.318996</td>\n",
       "      <td>5.291005</td>\n",
       "    </tr>\n",
       "    <tr>\n",
       "      <th>3</th>\n",
       "      <td>2004</td>\n",
       "      <td>7.377049</td>\n",
       "      <td>95.522388</td>\n",
       "      <td>2.469136</td>\n",
       "      <td>7.446809</td>\n",
       "      <td>5.681818</td>\n",
       "      <td>15.000000</td>\n",
       "      <td>0.000000</td>\n",
       "      <td>3.448276</td>\n",
       "      <td>6.091371</td>\n",
       "      <td>2.427184</td>\n",
       "      <td>3.191489</td>\n",
       "      <td>8.311518</td>\n",
       "      <td>4.312115</td>\n",
       "    </tr>\n",
       "    <tr>\n",
       "      <th>4</th>\n",
       "      <td>2005</td>\n",
       "      <td>1.923077</td>\n",
       "      <td>89.855072</td>\n",
       "      <td>5.384615</td>\n",
       "      <td>0.000000</td>\n",
       "      <td>17.241379</td>\n",
       "      <td>29.411765</td>\n",
       "      <td>0.000000</td>\n",
       "      <td>9.489051</td>\n",
       "      <td>3.125000</td>\n",
       "      <td>2.515723</td>\n",
       "      <td>4.232804</td>\n",
       "      <td>9.650259</td>\n",
       "      <td>5.898305</td>\n",
       "    </tr>\n",
       "    <tr>\n",
       "      <th>5</th>\n",
       "      <td>2006</td>\n",
       "      <td>1.307190</td>\n",
       "      <td>93.827160</td>\n",
       "      <td>1.388889</td>\n",
       "      <td>0.000000</td>\n",
       "      <td>8.602151</td>\n",
       "      <td>23.809524</td>\n",
       "      <td>0.000000</td>\n",
       "      <td>5.894309</td>\n",
       "      <td>5.418719</td>\n",
       "      <td>7.647059</td>\n",
       "      <td>10.695187</td>\n",
       "      <td>9.512894</td>\n",
       "      <td>5.408654</td>\n",
       "    </tr>\n",
       "    <tr>\n",
       "      <th>6</th>\n",
       "      <td>2007</td>\n",
       "      <td>5.035971</td>\n",
       "      <td>90.625000</td>\n",
       "      <td>1.574803</td>\n",
       "      <td>1.111111</td>\n",
       "      <td>4.629630</td>\n",
       "      <td>30.555556</td>\n",
       "      <td>2.702703</td>\n",
       "      <td>6.488550</td>\n",
       "      <td>15.087719</td>\n",
       "      <td>4.184100</td>\n",
       "      <td>3.781513</td>\n",
       "      <td>9.205867</td>\n",
       "      <td>6.481965</td>\n",
       "    </tr>\n",
       "    <tr>\n",
       "      <th>7</th>\n",
       "      <td>2008</td>\n",
       "      <td>2.688172</td>\n",
       "      <td>91.044776</td>\n",
       "      <td>2.352941</td>\n",
       "      <td>0.000000</td>\n",
       "      <td>3.773585</td>\n",
       "      <td>15.625000</td>\n",
       "      <td>2.127660</td>\n",
       "      <td>4.273504</td>\n",
       "      <td>6.287425</td>\n",
       "      <td>1.968504</td>\n",
       "      <td>3.396226</td>\n",
       "      <td>6.450072</td>\n",
       "      <td>3.652517</td>\n",
       "    </tr>\n",
       "    <tr>\n",
       "      <th>8</th>\n",
       "      <td>2009</td>\n",
       "      <td>5.327869</td>\n",
       "      <td>83.146067</td>\n",
       "      <td>7.065217</td>\n",
       "      <td>1.666667</td>\n",
       "      <td>6.593407</td>\n",
       "      <td>11.538462</td>\n",
       "      <td>2.564103</td>\n",
       "      <td>12.213740</td>\n",
       "      <td>5.389222</td>\n",
       "      <td>5.084746</td>\n",
       "      <td>5.415162</td>\n",
       "      <td>10.212569</td>\n",
       "      <td>7.084337</td>\n",
       "    </tr>\n",
       "    <tr>\n",
       "      <th>9</th>\n",
       "      <td>2010</td>\n",
       "      <td>4.291845</td>\n",
       "      <td>95.180723</td>\n",
       "      <td>2.762431</td>\n",
       "      <td>2.054795</td>\n",
       "      <td>15.740741</td>\n",
       "      <td>26.000000</td>\n",
       "      <td>2.222222</td>\n",
       "      <td>6.151142</td>\n",
       "      <td>5.523256</td>\n",
       "      <td>1.107011</td>\n",
       "      <td>1.433692</td>\n",
       "      <td>8.185362</td>\n",
       "      <td>4.941599</td>\n",
       "    </tr>\n",
       "    <tr>\n",
       "      <th>10</th>\n",
       "      <td>2011</td>\n",
       "      <td>1.333333</td>\n",
       "      <td>87.234043</td>\n",
       "      <td>4.812834</td>\n",
       "      <td>1.587302</td>\n",
       "      <td>26.356589</td>\n",
       "      <td>29.411765</td>\n",
       "      <td>0.000000</td>\n",
       "      <td>3.538175</td>\n",
       "      <td>6.264501</td>\n",
       "      <td>2.334630</td>\n",
       "      <td>1.748252</td>\n",
       "      <td>8.379413</td>\n",
       "      <td>5.095259</td>\n",
       "    </tr>\n",
       "    <tr>\n",
       "      <th>11</th>\n",
       "      <td>2012</td>\n",
       "      <td>3.913043</td>\n",
       "      <td>92.500000</td>\n",
       "      <td>1.657459</td>\n",
       "      <td>0.746269</td>\n",
       "      <td>7.339450</td>\n",
       "      <td>37.837838</td>\n",
       "      <td>4.761905</td>\n",
       "      <td>10.469314</td>\n",
       "      <td>17.506631</td>\n",
       "      <td>1.418440</td>\n",
       "      <td>6.779661</td>\n",
       "      <td>11.158983</td>\n",
       "      <td>8.255243</td>\n",
       "    </tr>\n",
       "    <tr>\n",
       "      <th>12</th>\n",
       "      <td>2013</td>\n",
       "      <td>3.238866</td>\n",
       "      <td>81.481481</td>\n",
       "      <td>1.923077</td>\n",
       "      <td>2.836879</td>\n",
       "      <td>16.981132</td>\n",
       "      <td>27.777778</td>\n",
       "      <td>4.545455</td>\n",
       "      <td>5.325444</td>\n",
       "      <td>7.122507</td>\n",
       "      <td>6.405694</td>\n",
       "      <td>5.405405</td>\n",
       "      <td>8.827524</td>\n",
       "      <td>6.062030</td>\n",
       "    </tr>\n",
       "    <tr>\n",
       "      <th>13</th>\n",
       "      <td>2014</td>\n",
       "      <td>1.951220</td>\n",
       "      <td>88.732394</td>\n",
       "      <td>7.142857</td>\n",
       "      <td>14.388489</td>\n",
       "      <td>13.821138</td>\n",
       "      <td>26.666667</td>\n",
       "      <td>0.000000</td>\n",
       "      <td>7.432432</td>\n",
       "      <td>5.974026</td>\n",
       "      <td>1.967213</td>\n",
       "      <td>2.527076</td>\n",
       "      <td>8.703000</td>\n",
       "      <td>6.228223</td>\n",
       "    </tr>\n",
       "    <tr>\n",
       "      <th>14</th>\n",
       "      <td>2015</td>\n",
       "      <td>2.611940</td>\n",
       "      <td>93.939394</td>\n",
       "      <td>4.166667</td>\n",
       "      <td>0.000000</td>\n",
       "      <td>13.636364</td>\n",
       "      <td>19.354839</td>\n",
       "      <td>2.173913</td>\n",
       "      <td>7.945736</td>\n",
       "      <td>8.272506</td>\n",
       "      <td>12.741313</td>\n",
       "      <td>4.729730</td>\n",
       "      <td>9.347368</td>\n",
       "      <td>6.929407</td>\n",
       "    </tr>\n",
       "    <tr>\n",
       "      <th>15</th>\n",
       "      <td>2016</td>\n",
       "      <td>5.147059</td>\n",
       "      <td>96.000000</td>\n",
       "      <td>0.000000</td>\n",
       "      <td>1.025641</td>\n",
       "      <td>19.827586</td>\n",
       "      <td>23.684211</td>\n",
       "      <td>2.439024</td>\n",
       "      <td>5.809859</td>\n",
       "      <td>8.997429</td>\n",
       "      <td>5.604720</td>\n",
       "      <td>3.041825</td>\n",
       "      <td>9.677419</td>\n",
       "      <td>6.050420</td>\n",
       "    </tr>\n",
       "    <tr>\n",
       "      <th>16</th>\n",
       "      <td>2017</td>\n",
       "      <td>7.171315</td>\n",
       "      <td>91.549296</td>\n",
       "      <td>3.664921</td>\n",
       "      <td>3.086420</td>\n",
       "      <td>22.413793</td>\n",
       "      <td>25.000000</td>\n",
       "      <td>0.000000</td>\n",
       "      <td>12.500000</td>\n",
       "      <td>12.672176</td>\n",
       "      <td>3.202847</td>\n",
       "      <td>1.600000</td>\n",
       "      <td>11.011905</td>\n",
       "      <td>8.505042</td>\n",
       "    </tr>\n",
       "    <tr>\n",
       "      <th>17</th>\n",
       "      <td>2018</td>\n",
       "      <td>6.437768</td>\n",
       "      <td>93.670886</td>\n",
       "      <td>2.926829</td>\n",
       "      <td>1.818182</td>\n",
       "      <td>13.513514</td>\n",
       "      <td>26.666667</td>\n",
       "      <td>3.125000</td>\n",
       "      <td>6.138934</td>\n",
       "      <td>11.557789</td>\n",
       "      <td>1.337793</td>\n",
       "      <td>3.205128</td>\n",
       "      <td>8.860250</td>\n",
       "      <td>6.073211</td>\n",
       "    </tr>\n",
       "    <tr>\n",
       "      <th>18</th>\n",
       "      <td>2019</td>\n",
       "      <td>8.203125</td>\n",
       "      <td>93.055556</td>\n",
       "      <td>5.202312</td>\n",
       "      <td>2.824859</td>\n",
       "      <td>19.230769</td>\n",
       "      <td>28.205128</td>\n",
       "      <td>0.000000</td>\n",
       "      <td>11.377246</td>\n",
       "      <td>8.877285</td>\n",
       "      <td>3.071672</td>\n",
       "      <td>4.491018</td>\n",
       "      <td>10.437710</td>\n",
       "      <td>7.855903</td>\n",
       "    </tr>\n",
       "    <tr>\n",
       "      <th>19</th>\n",
       "      <td>2020</td>\n",
       "      <td>4.910714</td>\n",
       "      <td>95.000000</td>\n",
       "      <td>6.081081</td>\n",
       "      <td>3.355705</td>\n",
       "      <td>10.256410</td>\n",
       "      <td>28.571429</td>\n",
       "      <td>0.000000</td>\n",
       "      <td>11.702128</td>\n",
       "      <td>8.955224</td>\n",
       "      <td>6.343284</td>\n",
       "      <td>9.180328</td>\n",
       "      <td>10.715979</td>\n",
       "      <td>8.247926</td>\n",
       "    </tr>\n",
       "    <tr>\n",
       "      <th>20</th>\n",
       "      <td>2021</td>\n",
       "      <td>9.803922</td>\n",
       "      <td>95.370370</td>\n",
       "      <td>2.116402</td>\n",
       "      <td>4.575163</td>\n",
       "      <td>7.619048</td>\n",
       "      <td>17.241379</td>\n",
       "      <td>0.000000</td>\n",
       "      <td>11.111111</td>\n",
       "      <td>7.774799</td>\n",
       "      <td>5.844156</td>\n",
       "      <td>4.923077</td>\n",
       "      <td>11.102544</td>\n",
       "      <td>7.441673</td>\n",
       "    </tr>\n",
       "    <tr>\n",
       "      <th>21</th>\n",
       "      <td>2022</td>\n",
       "      <td>10.502283</td>\n",
       "      <td>91.304348</td>\n",
       "      <td>4.444444</td>\n",
       "      <td>4.320988</td>\n",
       "      <td>6.224066</td>\n",
       "      <td>32.142857</td>\n",
       "      <td>2.040816</td>\n",
       "      <td>8.960573</td>\n",
       "      <td>15.123457</td>\n",
       "      <td>8.552632</td>\n",
       "      <td>8.359133</td>\n",
       "      <td>12.056452</td>\n",
       "      <td>9.003350</td>\n",
       "    </tr>\n",
       "  </tbody>\n",
       "</table>\n",
       "</div>"
      ],
      "text/plain": [
       "    annee     Aréale      Genre       SIC   Economie  Anthropologie  \\\n",
       "0    2001   3.571429  92.592593  3.448276   0.000000       8.750000   \n",
       "1    2002   4.109589  91.228070  0.000000   1.639344       7.317073   \n",
       "2    2003   2.739726  83.333333  7.586207   0.000000       7.594937   \n",
       "3    2004   7.377049  95.522388  2.469136   7.446809       5.681818   \n",
       "4    2005   1.923077  89.855072  5.384615   0.000000      17.241379   \n",
       "5    2006   1.307190  93.827160  1.388889   0.000000       8.602151   \n",
       "6    2007   5.035971  90.625000  1.574803   1.111111       4.629630   \n",
       "7    2008   2.688172  91.044776  2.352941   0.000000       3.773585   \n",
       "8    2009   5.327869  83.146067  7.065217   1.666667       6.593407   \n",
       "9    2010   4.291845  95.180723  2.762431   2.054795      15.740741   \n",
       "10   2011   1.333333  87.234043  4.812834   1.587302      26.356589   \n",
       "11   2012   3.913043  92.500000  1.657459   0.746269       7.339450   \n",
       "12   2013   3.238866  81.481481  1.923077   2.836879      16.981132   \n",
       "13   2014   1.951220  88.732394  7.142857  14.388489      13.821138   \n",
       "14   2015   2.611940  93.939394  4.166667   0.000000      13.636364   \n",
       "15   2016   5.147059  96.000000  0.000000   1.025641      19.827586   \n",
       "16   2017   7.171315  91.549296  3.664921   3.086420      22.413793   \n",
       "17   2018   6.437768  93.670886  2.926829   1.818182      13.513514   \n",
       "18   2019   8.203125  93.055556  5.202312   2.824859      19.230769   \n",
       "19   2020   4.910714  95.000000  6.081081   3.355705      10.256410   \n",
       "20   2021   9.803922  95.370370  2.116402   4.575163       7.619048   \n",
       "21   2022  10.502283  91.304348  4.444444   4.320988       6.224066   \n",
       "\n",
       "    Démographie  Géographie  Autre interdisciplinaire  Sociologie  \\\n",
       "0     25.000000    0.000000                  0.588235    4.242424   \n",
       "1     24.000000    0.000000                  8.108108    3.184713   \n",
       "2     26.086957    0.000000                  6.719368    8.500000   \n",
       "3     15.000000    0.000000                  3.448276    6.091371   \n",
       "4     29.411765    0.000000                  9.489051    3.125000   \n",
       "5     23.809524    0.000000                  5.894309    5.418719   \n",
       "6     30.555556    2.702703                  6.488550   15.087719   \n",
       "7     15.625000    2.127660                  4.273504    6.287425   \n",
       "8     11.538462    2.564103                 12.213740    5.389222   \n",
       "9     26.000000    2.222222                  6.151142    5.523256   \n",
       "10    29.411765    0.000000                  3.538175    6.264501   \n",
       "11    37.837838    4.761905                 10.469314   17.506631   \n",
       "12    27.777778    4.545455                  5.325444    7.122507   \n",
       "13    26.666667    0.000000                  7.432432    5.974026   \n",
       "14    19.354839    2.173913                  7.945736    8.272506   \n",
       "15    23.684211    2.439024                  5.809859    8.997429   \n",
       "16    25.000000    0.000000                 12.500000   12.672176   \n",
       "17    26.666667    3.125000                  6.138934   11.557789   \n",
       "18    28.205128    0.000000                 11.377246    8.877285   \n",
       "19    28.571429    0.000000                 11.702128    8.955224   \n",
       "20    17.241379    0.000000                 11.111111    7.774799   \n",
       "21    32.142857    2.040816                  8.960573   15.123457   \n",
       "\n",
       "    Science politique   Histoire     Toutes  Toutes sauf Genre  \n",
       "0            1.000000   2.614379   7.601185           2.815433  \n",
       "1            4.678363  11.351351  10.254163           5.996310  \n",
       "2            3.141361   1.704545   9.318996           5.291005  \n",
       "3            2.427184   3.191489   8.311518           4.312115  \n",
       "4            2.515723   4.232804   9.650259           5.898305  \n",
       "5            7.647059  10.695187   9.512894           5.408654  \n",
       "6            4.184100   3.781513   9.205867           6.481965  \n",
       "7            1.968504   3.396226   6.450072           3.652517  \n",
       "8            5.084746   5.415162  10.212569           7.084337  \n",
       "9            1.107011   1.433692   8.185362           4.941599  \n",
       "10           2.334630   1.748252   8.379413           5.095259  \n",
       "11           1.418440   6.779661  11.158983           8.255243  \n",
       "12           6.405694   5.405405   8.827524           6.062030  \n",
       "13           1.967213   2.527076   8.703000           6.228223  \n",
       "14          12.741313   4.729730   9.347368           6.929407  \n",
       "15           5.604720   3.041825   9.677419           6.050420  \n",
       "16           3.202847   1.600000  11.011905           8.505042  \n",
       "17           1.337793   3.205128   8.860250           6.073211  \n",
       "18           3.071672   4.491018  10.437710           7.855903  \n",
       "19           6.343284   9.180328  10.715979           8.247926  \n",
       "20           5.844156   4.923077  11.102544           7.441673  \n",
       "21           8.552632   8.359133  12.056452           9.003350  "
      ]
     },
     "execution_count": 37,
     "metadata": {},
     "output_type": "execute_result"
    }
   ],
   "source": [
    "dfPlot = pd.DataFrame(dfPlot)\n",
    "dfPlot"
   ]
  },
  {
   "cell_type": "markdown",
   "metadata": {},
   "source": [
    "### Running average"
   ]
  },
  {
   "cell_type": "code",
   "execution_count": 38,
   "metadata": {},
   "outputs": [],
   "source": [
    "windowsize = 5\n",
    "\n",
    "def running_average(vec : np.ndarray, windowsize : int = 3) -> np.ndarray :\n",
    "    window = np.ones(windowsize) / windowsize\n",
    "    # NOTE check avec EOLLION\n",
    "    return np.convolve(vec,window,mode = 'valid')\n",
    "\n",
    "dfPlotRA = pd.DataFrame({\n",
    "    **{'annee' : dfPlot.loc[\n",
    "                            range(windowsize - 1,len(dfPlot)),\n",
    "                            'annee'\n",
    "                            ]},\n",
    "    **{key : running_average(   dfPlot.loc[:,key],\n",
    "                                windowsize\n",
    "                            ) for key in dfPlot.keys() if key != 'annee'}\n",
    "})"
   ]
  },
  {
   "cell_type": "code",
   "execution_count": 39,
   "metadata": {},
   "outputs": [
    {
     "data": {
      "text/html": [
       "<div>\n",
       "<style scoped>\n",
       "    .dataframe tbody tr th:only-of-type {\n",
       "        vertical-align: middle;\n",
       "    }\n",
       "\n",
       "    .dataframe tbody tr th {\n",
       "        vertical-align: top;\n",
       "    }\n",
       "\n",
       "    .dataframe thead th {\n",
       "        text-align: right;\n",
       "    }\n",
       "</style>\n",
       "<table border=\"1\" class=\"dataframe\">\n",
       "  <thead>\n",
       "    <tr style=\"text-align: right;\">\n",
       "      <th></th>\n",
       "      <th>annee</th>\n",
       "      <th>Aréale</th>\n",
       "      <th>Genre</th>\n",
       "      <th>SIC</th>\n",
       "      <th>Economie</th>\n",
       "      <th>Anthropologie</th>\n",
       "      <th>Démographie</th>\n",
       "      <th>Géographie</th>\n",
       "      <th>Autre interdisciplinaire</th>\n",
       "      <th>Sociologie</th>\n",
       "      <th>Science politique</th>\n",
       "      <th>Histoire</th>\n",
       "      <th>Toutes</th>\n",
       "      <th>Toutes sauf Genre</th>\n",
       "    </tr>\n",
       "  </thead>\n",
       "  <tbody>\n",
       "    <tr>\n",
       "      <th>4</th>\n",
       "      <td>2005</td>\n",
       "      <td>3.944174</td>\n",
       "      <td>90.506291</td>\n",
       "      <td>3.777647</td>\n",
       "      <td>1.817231</td>\n",
       "      <td>9.317041</td>\n",
       "      <td>23.899744</td>\n",
       "      <td>0.000000</td>\n",
       "      <td>5.670608</td>\n",
       "      <td>5.028702</td>\n",
       "      <td>2.752526</td>\n",
       "      <td>4.618914</td>\n",
       "      <td>9.027224</td>\n",
       "      <td>4.862634</td>\n",
       "    </tr>\n",
       "    <tr>\n",
       "      <th>5</th>\n",
       "      <td>2006</td>\n",
       "      <td>3.491326</td>\n",
       "      <td>90.753205</td>\n",
       "      <td>3.365769</td>\n",
       "      <td>1.817231</td>\n",
       "      <td>9.287472</td>\n",
       "      <td>23.661649</td>\n",
       "      <td>0.000000</td>\n",
       "      <td>6.731822</td>\n",
       "      <td>5.263961</td>\n",
       "      <td>4.081938</td>\n",
       "      <td>6.235076</td>\n",
       "      <td>9.409566</td>\n",
       "      <td>5.381278</td>\n",
       "    </tr>\n",
       "    <tr>\n",
       "      <th>6</th>\n",
       "      <td>2007</td>\n",
       "      <td>3.676603</td>\n",
       "      <td>90.632591</td>\n",
       "      <td>3.680730</td>\n",
       "      <td>1.711584</td>\n",
       "      <td>8.749983</td>\n",
       "      <td>24.972760</td>\n",
       "      <td>0.540541</td>\n",
       "      <td>6.407911</td>\n",
       "      <td>7.644562</td>\n",
       "      <td>3.983086</td>\n",
       "      <td>4.721108</td>\n",
       "      <td>9.199907</td>\n",
       "      <td>5.478409</td>\n",
       "    </tr>\n",
       "    <tr>\n",
       "      <th>7</th>\n",
       "      <td>2008</td>\n",
       "      <td>3.666292</td>\n",
       "      <td>92.174879</td>\n",
       "      <td>2.634077</td>\n",
       "      <td>1.711584</td>\n",
       "      <td>7.985713</td>\n",
       "      <td>22.880369</td>\n",
       "      <td>0.966072</td>\n",
       "      <td>5.918738</td>\n",
       "      <td>7.202047</td>\n",
       "      <td>3.748514</td>\n",
       "      <td>5.059444</td>\n",
       "      <td>8.626122</td>\n",
       "      <td>5.150711</td>\n",
       "    </tr>\n",
       "    <tr>\n",
       "      <th>8</th>\n",
       "      <td>2009</td>\n",
       "      <td>3.256456</td>\n",
       "      <td>89.699615</td>\n",
       "      <td>3.553293</td>\n",
       "      <td>0.555556</td>\n",
       "      <td>8.168030</td>\n",
       "      <td>22.188061</td>\n",
       "      <td>1.478893</td>\n",
       "      <td>7.671831</td>\n",
       "      <td>7.061617</td>\n",
       "      <td>4.280026</td>\n",
       "      <td>5.504179</td>\n",
       "      <td>9.006332</td>\n",
       "      <td>5.705156</td>\n",
       "    </tr>\n",
       "    <tr>\n",
       "      <th>9</th>\n",
       "      <td>2010</td>\n",
       "      <td>3.730209</td>\n",
       "      <td>90.764745</td>\n",
       "      <td>3.028856</td>\n",
       "      <td>0.966514</td>\n",
       "      <td>7.867902</td>\n",
       "      <td>21.505708</td>\n",
       "      <td>1.923337</td>\n",
       "      <td>7.004249</td>\n",
       "      <td>7.541268</td>\n",
       "      <td>3.998284</td>\n",
       "      <td>4.944356</td>\n",
       "      <td>8.713353</td>\n",
       "      <td>5.513815</td>\n",
       "    </tr>\n",
       "    <tr>\n",
       "      <th>10</th>\n",
       "      <td>2011</td>\n",
       "      <td>3.735438</td>\n",
       "      <td>89.446122</td>\n",
       "      <td>3.713645</td>\n",
       "      <td>1.283975</td>\n",
       "      <td>11.418790</td>\n",
       "      <td>22.626156</td>\n",
       "      <td>1.923337</td>\n",
       "      <td>6.533022</td>\n",
       "      <td>7.710425</td>\n",
       "      <td>2.935798</td>\n",
       "      <td>3.154969</td>\n",
       "      <td>8.486657</td>\n",
       "      <td>5.451136</td>\n",
       "    </tr>\n",
       "    <tr>\n",
       "      <th>11</th>\n",
       "      <td>2012</td>\n",
       "      <td>3.510853</td>\n",
       "      <td>89.821122</td>\n",
       "      <td>3.730176</td>\n",
       "      <td>1.211006</td>\n",
       "      <td>11.960754</td>\n",
       "      <td>24.082613</td>\n",
       "      <td>2.335178</td>\n",
       "      <td>7.329175</td>\n",
       "      <td>8.194207</td>\n",
       "      <td>2.382666</td>\n",
       "      <td>3.754599</td>\n",
       "      <td>8.877280</td>\n",
       "      <td>5.805791</td>\n",
       "    </tr>\n",
       "    <tr>\n",
       "      <th>12</th>\n",
       "      <td>2013</td>\n",
       "      <td>3.620992</td>\n",
       "      <td>87.908463</td>\n",
       "      <td>3.644204</td>\n",
       "      <td>1.778382</td>\n",
       "      <td>14.602264</td>\n",
       "      <td>26.513168</td>\n",
       "      <td>2.818737</td>\n",
       "      <td>7.539563</td>\n",
       "      <td>8.361223</td>\n",
       "      <td>3.270104</td>\n",
       "      <td>4.156434</td>\n",
       "      <td>9.352770</td>\n",
       "      <td>6.287694</td>\n",
       "    </tr>\n",
       "    <tr>\n",
       "      <th>13</th>\n",
       "      <td>2014</td>\n",
       "      <td>2.945662</td>\n",
       "      <td>89.025728</td>\n",
       "      <td>3.659732</td>\n",
       "      <td>4.322747</td>\n",
       "      <td>16.047810</td>\n",
       "      <td>29.538809</td>\n",
       "      <td>2.305916</td>\n",
       "      <td>6.583302</td>\n",
       "      <td>8.478184</td>\n",
       "      <td>2.646598</td>\n",
       "      <td>3.578817</td>\n",
       "      <td>9.050856</td>\n",
       "      <td>6.116471</td>\n",
       "    </tr>\n",
       "    <tr>\n",
       "      <th>14</th>\n",
       "      <td>2015</td>\n",
       "      <td>2.609681</td>\n",
       "      <td>88.777462</td>\n",
       "      <td>3.940579</td>\n",
       "      <td>3.911788</td>\n",
       "      <td>15.626935</td>\n",
       "      <td>28.209777</td>\n",
       "      <td>2.296254</td>\n",
       "      <td>6.942220</td>\n",
       "      <td>9.028034</td>\n",
       "      <td>4.973458</td>\n",
       "      <td>4.238025</td>\n",
       "      <td>9.283258</td>\n",
       "      <td>6.514032</td>\n",
       "    </tr>\n",
       "    <tr>\n",
       "      <th>15</th>\n",
       "      <td>2016</td>\n",
       "      <td>3.372426</td>\n",
       "      <td>90.530654</td>\n",
       "      <td>2.978012</td>\n",
       "      <td>3.799456</td>\n",
       "      <td>14.321134</td>\n",
       "      <td>27.064266</td>\n",
       "      <td>2.784059</td>\n",
       "      <td>7.396557</td>\n",
       "      <td>9.574620</td>\n",
       "      <td>5.627476</td>\n",
       "      <td>4.496739</td>\n",
       "      <td>9.542859</td>\n",
       "      <td>6.705065</td>\n",
       "    </tr>\n",
       "    <tr>\n",
       "      <th>16</th>\n",
       "      <td>2017</td>\n",
       "      <td>4.024080</td>\n",
       "      <td>90.340513</td>\n",
       "      <td>3.379504</td>\n",
       "      <td>4.267486</td>\n",
       "      <td>17.336003</td>\n",
       "      <td>24.496699</td>\n",
       "      <td>1.831678</td>\n",
       "      <td>7.802694</td>\n",
       "      <td>8.607729</td>\n",
       "      <td>5.984357</td>\n",
       "      <td>3.460807</td>\n",
       "      <td>9.513443</td>\n",
       "      <td>6.755024</td>\n",
       "    </tr>\n",
       "    <tr>\n",
       "      <th>17</th>\n",
       "      <td>2018</td>\n",
       "      <td>4.663860</td>\n",
       "      <td>92.778394</td>\n",
       "      <td>3.580255</td>\n",
       "      <td>4.063746</td>\n",
       "      <td>16.642479</td>\n",
       "      <td>24.274477</td>\n",
       "      <td>1.547587</td>\n",
       "      <td>7.965392</td>\n",
       "      <td>9.494785</td>\n",
       "      <td>4.970777</td>\n",
       "      <td>3.020752</td>\n",
       "      <td>9.519988</td>\n",
       "      <td>6.757261</td>\n",
       "    </tr>\n",
       "    <tr>\n",
       "      <th>18</th>\n",
       "      <td>2019</td>\n",
       "      <td>5.914241</td>\n",
       "      <td>93.643026</td>\n",
       "      <td>3.192146</td>\n",
       "      <td>1.751020</td>\n",
       "      <td>17.724405</td>\n",
       "      <td>24.582169</td>\n",
       "      <td>1.547587</td>\n",
       "      <td>8.754355</td>\n",
       "      <td>10.075437</td>\n",
       "      <td>5.191669</td>\n",
       "      <td>3.413540</td>\n",
       "      <td>9.866931</td>\n",
       "      <td>7.082797</td>\n",
       "    </tr>\n",
       "    <tr>\n",
       "      <th>19</th>\n",
       "      <td>2020</td>\n",
       "      <td>6.373996</td>\n",
       "      <td>93.855147</td>\n",
       "      <td>3.575029</td>\n",
       "      <td>2.422161</td>\n",
       "      <td>17.048414</td>\n",
       "      <td>26.425487</td>\n",
       "      <td>1.112805</td>\n",
       "      <td>9.505633</td>\n",
       "      <td>10.211981</td>\n",
       "      <td>3.912063</td>\n",
       "      <td>4.303660</td>\n",
       "      <td>10.140653</td>\n",
       "      <td>7.346500</td>\n",
       "    </tr>\n",
       "    <tr>\n",
       "      <th>20</th>\n",
       "      <td>2021</td>\n",
       "      <td>7.305369</td>\n",
       "      <td>93.729222</td>\n",
       "      <td>3.998309</td>\n",
       "      <td>3.132066</td>\n",
       "      <td>14.606707</td>\n",
       "      <td>25.136921</td>\n",
       "      <td>0.625000</td>\n",
       "      <td>10.565884</td>\n",
       "      <td>9.967455</td>\n",
       "      <td>3.959950</td>\n",
       "      <td>4.679910</td>\n",
       "      <td>10.425678</td>\n",
       "      <td>7.624751</td>\n",
       "    </tr>\n",
       "    <tr>\n",
       "      <th>21</th>\n",
       "      <td>2022</td>\n",
       "      <td>7.971562</td>\n",
       "      <td>93.680232</td>\n",
       "      <td>4.154214</td>\n",
       "      <td>3.378979</td>\n",
       "      <td>11.368761</td>\n",
       "      <td>26.565492</td>\n",
       "      <td>1.033163</td>\n",
       "      <td>9.857998</td>\n",
       "      <td>10.457711</td>\n",
       "      <td>5.029907</td>\n",
       "      <td>6.031737</td>\n",
       "      <td>10.634587</td>\n",
       "      <td>7.724413</td>\n",
       "    </tr>\n",
       "  </tbody>\n",
       "</table>\n",
       "</div>"
      ],
      "text/plain": [
       "    annee    Aréale      Genre       SIC  Economie  Anthropologie  \\\n",
       "4    2005  3.944174  90.506291  3.777647  1.817231       9.317041   \n",
       "5    2006  3.491326  90.753205  3.365769  1.817231       9.287472   \n",
       "6    2007  3.676603  90.632591  3.680730  1.711584       8.749983   \n",
       "7    2008  3.666292  92.174879  2.634077  1.711584       7.985713   \n",
       "8    2009  3.256456  89.699615  3.553293  0.555556       8.168030   \n",
       "9    2010  3.730209  90.764745  3.028856  0.966514       7.867902   \n",
       "10   2011  3.735438  89.446122  3.713645  1.283975      11.418790   \n",
       "11   2012  3.510853  89.821122  3.730176  1.211006      11.960754   \n",
       "12   2013  3.620992  87.908463  3.644204  1.778382      14.602264   \n",
       "13   2014  2.945662  89.025728  3.659732  4.322747      16.047810   \n",
       "14   2015  2.609681  88.777462  3.940579  3.911788      15.626935   \n",
       "15   2016  3.372426  90.530654  2.978012  3.799456      14.321134   \n",
       "16   2017  4.024080  90.340513  3.379504  4.267486      17.336003   \n",
       "17   2018  4.663860  92.778394  3.580255  4.063746      16.642479   \n",
       "18   2019  5.914241  93.643026  3.192146  1.751020      17.724405   \n",
       "19   2020  6.373996  93.855147  3.575029  2.422161      17.048414   \n",
       "20   2021  7.305369  93.729222  3.998309  3.132066      14.606707   \n",
       "21   2022  7.971562  93.680232  4.154214  3.378979      11.368761   \n",
       "\n",
       "    Démographie  Géographie  Autre interdisciplinaire  Sociologie  \\\n",
       "4     23.899744    0.000000                  5.670608    5.028702   \n",
       "5     23.661649    0.000000                  6.731822    5.263961   \n",
       "6     24.972760    0.540541                  6.407911    7.644562   \n",
       "7     22.880369    0.966072                  5.918738    7.202047   \n",
       "8     22.188061    1.478893                  7.671831    7.061617   \n",
       "9     21.505708    1.923337                  7.004249    7.541268   \n",
       "10    22.626156    1.923337                  6.533022    7.710425   \n",
       "11    24.082613    2.335178                  7.329175    8.194207   \n",
       "12    26.513168    2.818737                  7.539563    8.361223   \n",
       "13    29.538809    2.305916                  6.583302    8.478184   \n",
       "14    28.209777    2.296254                  6.942220    9.028034   \n",
       "15    27.064266    2.784059                  7.396557    9.574620   \n",
       "16    24.496699    1.831678                  7.802694    8.607729   \n",
       "17    24.274477    1.547587                  7.965392    9.494785   \n",
       "18    24.582169    1.547587                  8.754355   10.075437   \n",
       "19    26.425487    1.112805                  9.505633   10.211981   \n",
       "20    25.136921    0.625000                 10.565884    9.967455   \n",
       "21    26.565492    1.033163                  9.857998   10.457711   \n",
       "\n",
       "    Science politique  Histoire     Toutes  Toutes sauf Genre  \n",
       "4            2.752526  4.618914   9.027224           4.862634  \n",
       "5            4.081938  6.235076   9.409566           5.381278  \n",
       "6            3.983086  4.721108   9.199907           5.478409  \n",
       "7            3.748514  5.059444   8.626122           5.150711  \n",
       "8            4.280026  5.504179   9.006332           5.705156  \n",
       "9            3.998284  4.944356   8.713353           5.513815  \n",
       "10           2.935798  3.154969   8.486657           5.451136  \n",
       "11           2.382666  3.754599   8.877280           5.805791  \n",
       "12           3.270104  4.156434   9.352770           6.287694  \n",
       "13           2.646598  3.578817   9.050856           6.116471  \n",
       "14           4.973458  4.238025   9.283258           6.514032  \n",
       "15           5.627476  4.496739   9.542859           6.705065  \n",
       "16           5.984357  3.460807   9.513443           6.755024  \n",
       "17           4.970777  3.020752   9.519988           6.757261  \n",
       "18           5.191669  3.413540   9.866931           7.082797  \n",
       "19           3.912063  4.303660  10.140653           7.346500  \n",
       "20           3.959950  4.679910  10.425678           7.624751  \n",
       "21           5.029907  6.031737  10.634587           7.724413  "
      ]
     },
     "execution_count": 39,
     "metadata": {},
     "output_type": "execute_result"
    }
   ],
   "source": [
    "dfPlotRA"
   ]
  },
  {
   "cell_type": "markdown",
   "metadata": {},
   "source": [
    "# Plotting"
   ]
  },
  {
   "cell_type": "code",
   "execution_count": 92,
   "metadata": {},
   "outputs": [],
   "source": [
    "toute_discipline = list(set(dfPlot.columns) - set(['annee']))\n",
    "fig = px.line(\n",
    "    dfPlotRA,\n",
    "    x = 'annee', y = toute_discipline,\n",
    "    # color = 'Discipline',\n",
    "    # labels = {\n",
    "    #         'y' : 'Dominante de la revue',\n",
    "    #     }\n",
    ")"
   ]
  },
  {
   "cell_type": "code",
   "execution_count": 93,
   "metadata": {},
   "outputs": [
    {
     "data": {
      "application/vnd.plotly.v1+json": {
       "config": {
        "plotlyServerURL": "https://plot.ly"
       },
       "data": [
        {
         "hovertemplate": "variable=Aréale<br>annee=%{x}<br>value=%{y}<extra></extra>",
         "legendgroup": "Aréale",
         "line": {
          "color": "#636efa",
          "dash": "solid"
         },
         "marker": {
          "symbol": "circle"
         },
         "mode": "lines",
         "name": "Aréale",
         "orientation": "v",
         "showlegend": true,
         "type": "scatter",
         "x": [
          2005,
          2006,
          2007,
          2008,
          2009,
          2010,
          2011,
          2012,
          2013,
          2014,
          2015,
          2016,
          2017,
          2018,
          2019,
          2020,
          2021,
          2022
         ],
         "xaxis": "x",
         "y": [
          3.944173948665303,
          3.4913261428763205,
          3.6766025792614587,
          3.6662917823841576,
          3.2564557168103874,
          3.7302094309074487,
          3.7354381890773833,
          3.5108526401252402,
          3.620991510875317,
          2.945661642822538,
          2.6096806038115843,
          3.3724257018508,
          4.0240799544057975,
          4.663860323122241,
          5.914241420683216,
          6.37399621812458,
          7.305368767144189,
          7.971562439941584
         ],
         "yaxis": "y"
        },
        {
         "hovertemplate": "variable=Genre<br>annee=%{x}<br>value=%{y}<extra></extra>",
         "legendgroup": "Genre",
         "line": {
          "color": "#EF553B",
          "dash": "solid"
         },
         "marker": {
          "symbol": "circle"
         },
         "mode": "lines",
         "name": "Genre",
         "orientation": "v",
         "showlegend": true,
         "type": "scatter",
         "x": [
          2005,
          2006,
          2007,
          2008,
          2009,
          2010,
          2011,
          2012,
          2013,
          2014,
          2015,
          2016,
          2017,
          2018,
          2019,
          2020,
          2021,
          2022
         ],
         "xaxis": "x",
         "y": [
          90.50629132496684,
          90.75320490521374,
          90.63259087012602,
          92.17487942733995,
          89.69961529854572,
          90.76474538410535,
          89.44612179597823,
          89.82112179597823,
          87.90846286839391,
          89.02572825848729,
          88.77746246805282,
          90.53065395741453,
          90.34051311234411,
          92.77839403123768,
          93.64302626910936,
          93.85514748123056,
          93.72922155530465,
          93.68023196559245
         ],
         "yaxis": "y"
        },
        {
         "hovertemplate": "variable=SIC<br>annee=%{x}<br>value=%{y}<extra></extra>",
         "legendgroup": "SIC",
         "line": {
          "color": "#00cc96",
          "dash": "solid"
         },
         "marker": {
          "symbol": "circle"
         },
         "mode": "lines",
         "name": "SIC",
         "orientation": "v",
         "showlegend": true,
         "type": "scatter",
         "x": [
          2005,
          2006,
          2007,
          2008,
          2009,
          2010,
          2011,
          2012,
          2013,
          2014,
          2015,
          2016,
          2017,
          2018,
          2019,
          2020,
          2021,
          2022
         ],
         "xaxis": "x",
         "y": [
          3.777646789141042,
          3.365769394505027,
          3.680730024426287,
          2.6340768804100594,
          3.553293198177102,
          3.0288563090993286,
          3.713645376241337,
          3.7301764590272595,
          3.6442036083485267,
          3.6597315586590855,
          3.9405787041471148,
          2.9780118592273292,
          3.379504439713864,
          3.580254908757016,
          3.192145907931252,
          3.575028790814135,
          3.9983092140945584,
          4.15421380978973
         ],
         "yaxis": "y"
        },
        {
         "hovertemplate": "variable=Toutes<br>annee=%{x}<br>value=%{y}<extra></extra>",
         "legendgroup": "Toutes",
         "line": {
          "color": "#ab63fa",
          "dash": "solid"
         },
         "marker": {
          "symbol": "circle"
         },
         "mode": "lines",
         "name": "Toutes",
         "orientation": "v",
         "showlegend": true,
         "type": "scatter",
         "x": [
          2005,
          2006,
          2007,
          2008,
          2009,
          2010,
          2011,
          2012,
          2013,
          2014,
          2015,
          2016,
          2017,
          2018,
          2019,
          2020,
          2021,
          2022
         ],
         "xaxis": "x",
         "y": [
          9.02722428456642,
          9.409566161088538,
          9.199907053303434,
          8.626122103641906,
          9.006332301936707,
          8.713352814147317,
          8.48665662073331,
          8.87727976491815,
          9.352770184707582,
          9.050856236996175,
          9.283257595524587,
          9.542858863344733,
          9.513443176346106,
          9.519988362653287,
          9.866930534690516,
          10.140652677886342,
          10.425677673533865,
          10.63458704373356
         ],
         "yaxis": "y"
        },
        {
         "hovertemplate": "variable=Economie<br>annee=%{x}<br>value=%{y}<extra></extra>",
         "legendgroup": "Economie",
         "line": {
          "color": "#FFA15A",
          "dash": "solid"
         },
         "marker": {
          "symbol": "circle"
         },
         "mode": "lines",
         "name": "Economie",
         "orientation": "v",
         "showlegend": true,
         "type": "scatter",
         "x": [
          2005,
          2006,
          2007,
          2008,
          2009,
          2010,
          2011,
          2012,
          2013,
          2014,
          2015,
          2016,
          2017,
          2018,
          2019,
          2020,
          2021,
          2022
         ],
         "xaxis": "x",
         "y": [
          1.817230554586676,
          1.817230554586676,
          1.711583924349882,
          1.711583924349882,
          0.5555555555555556,
          0.9665144596651446,
          1.2839747771254622,
          1.2110062862465234,
          1.7783821727713462,
          4.322746681164632,
          3.9117877770550424,
          3.7994556647229305,
          4.2674858839969305,
          4.063746361108471,
          1.7510202707942821,
          2.4221612103915975,
          3.1320656850019546,
          3.378979265248868
         ],
         "yaxis": "y"
        },
        {
         "hovertemplate": "variable=Anthropologie<br>annee=%{x}<br>value=%{y}<extra></extra>",
         "legendgroup": "Anthropologie",
         "line": {
          "color": "#19d3f3",
          "dash": "solid"
         },
         "marker": {
          "symbol": "circle"
         },
         "mode": "lines",
         "name": "Anthropologie",
         "orientation": "v",
         "showlegend": true,
         "type": "scatter",
         "x": [
          2005,
          2006,
          2007,
          2008,
          2009,
          2010,
          2011,
          2012,
          2013,
          2014,
          2015,
          2016,
          2017,
          2018,
          2019,
          2020,
          2021,
          2022
         ],
         "xaxis": "x",
         "y": [
          9.317041474351097,
          9.287471581877979,
          8.749982873657562,
          7.985712513017486,
          8.168030195335168,
          7.86790248141435,
          11.418790203344834,
          11.960754185675789,
          14.602263619638054,
          16.04780994323316,
          15.626934522357736,
          14.321133934279683,
          17.33600264671246,
          16.64247893432082,
          17.724405138198247,
          17.048414462207568,
          14.60670674463778,
          11.368761401956425
         ],
         "yaxis": "y"
        },
        {
         "hovertemplate": "variable=Géographie<br>annee=%{x}<br>value=%{y}<extra></extra>",
         "legendgroup": "Géographie",
         "line": {
          "color": "#FF6692",
          "dash": "solid"
         },
         "marker": {
          "symbol": "circle"
         },
         "mode": "lines",
         "name": "Géographie",
         "orientation": "v",
         "showlegend": true,
         "type": "scatter",
         "x": [
          2005,
          2006,
          2007,
          2008,
          2009,
          2010,
          2011,
          2012,
          2013,
          2014,
          2015,
          2016,
          2017,
          2018,
          2019,
          2020,
          2021,
          2022
         ],
         "xaxis": "x",
         "y": [
          0,
          0,
          0.5405405405405406,
          0.9660724554341577,
          1.4788929682546705,
          1.923337412699115,
          1.923337412699115,
          2.3351778245395267,
          2.818736818736819,
          2.3059163059163064,
          2.296254470167514,
          2.7840593482162945,
          1.8316783958353418,
          1.5475874867444328,
          1.5475874867444328,
          1.1128048780487805,
          0.625,
          1.0331632653061225
         ],
         "yaxis": "y"
        },
        {
         "hovertemplate": "variable=Toutes sauf Genre<br>annee=%{x}<br>value=%{y}<extra></extra>",
         "legendgroup": "Toutes sauf Genre",
         "line": {
          "color": "#B6E880",
          "dash": "solid"
         },
         "marker": {
          "symbol": "circle"
         },
         "mode": "lines",
         "name": "Toutes sauf Genre",
         "orientation": "v",
         "showlegend": true,
         "type": "scatter",
         "x": [
          2005,
          2006,
          2007,
          2008,
          2009,
          2010,
          2011,
          2012,
          2013,
          2014,
          2015,
          2016,
          2017,
          2018,
          2019,
          2020,
          2021,
          2022
         ],
         "xaxis": "x",
         "y": [
          4.862633614204758,
          5.381277834947519,
          5.478408942170771,
          5.150711339053622,
          5.705155810986528,
          5.51381465028176,
          5.45113571977496,
          5.805791258932229,
          6.287693818885914,
          6.11647094830953,
          6.5140324259759295,
          6.7050646208654054,
          6.755024311544925,
          6.757260559402505,
          7.082796515654924,
          7.346500345238528,
          7.624750985800466,
          7.724412672870919
         ],
         "yaxis": "y"
        },
        {
         "hovertemplate": "variable=Autre interdisciplinaire<br>annee=%{x}<br>value=%{y}<extra></extra>",
         "legendgroup": "Autre interdisciplinaire",
         "line": {
          "color": "#FF97FF",
          "dash": "solid"
         },
         "marker": {
          "symbol": "circle"
         },
         "mode": "lines",
         "name": "Autre interdisciplinaire",
         "orientation": "v",
         "showlegend": true,
         "type": "scatter",
         "x": [
          2005,
          2006,
          2007,
          2008,
          2009,
          2010,
          2011,
          2012,
          2013,
          2014,
          2015,
          2016,
          2017,
          2018,
          2019,
          2020,
          2021,
          2022
         ],
         "xaxis": "x",
         "y": [
          5.670607589623608,
          6.731822319417964,
          6.4079106214604655,
          5.918737958374758,
          7.671830877564018,
          7.004249129587674,
          6.533022350280775,
          7.32917524250113,
          7.539563145196725,
          6.583301540080158,
          6.942220355900106,
          7.396557177575033,
          7.802694361690556,
          7.965392357121248,
          8.75435497243117,
          9.505633217524357,
          10.565883608760663,
          9.857998304101166
         ],
         "yaxis": "y"
        },
        {
         "hovertemplate": "variable=Sociologie<br>annee=%{x}<br>value=%{y}<extra></extra>",
         "legendgroup": "Sociologie",
         "line": {
          "color": "#FECB52",
          "dash": "solid"
         },
         "marker": {
          "symbol": "circle"
         },
         "mode": "lines",
         "name": "Sociologie",
         "orientation": "v",
         "showlegend": true,
         "type": "scatter",
         "x": [
          2005,
          2006,
          2007,
          2008,
          2009,
          2010,
          2011,
          2012,
          2013,
          2014,
          2015,
          2016,
          2017,
          2018,
          2019,
          2020,
          2021,
          2022
         ],
         "xaxis": "x",
         "y": [
          5.028701635319211,
          5.263960629198895,
          7.644561813688782,
          7.202046843628901,
          7.06161704333102,
          7.5412682061217176,
          7.710424595775748,
          8.194206996073575,
          8.36122339063488,
          8.478184274062828,
          9.028034327817144,
          9.5746199569811,
          8.60772895874214,
          9.49478532318544,
          10.075437047440296,
          10.211980607014688,
          9.967454531354957,
          10.45771062767166
         ],
         "yaxis": "y"
        },
        {
         "hovertemplate": "variable=Science politique<br>annee=%{x}<br>value=%{y}<extra></extra>",
         "legendgroup": "Science politique",
         "line": {
          "color": "#636efa",
          "dash": "solid"
         },
         "marker": {
          "symbol": "circle"
         },
         "mode": "lines",
         "name": "Science politique",
         "orientation": "v",
         "showlegend": true,
         "type": "scatter",
         "x": [
          2005,
          2006,
          2007,
          2008,
          2009,
          2010,
          2011,
          2012,
          2013,
          2014,
          2015,
          2016,
          2017,
          2018,
          2019,
          2020,
          2021,
          2022
         ],
         "xaxis": "x",
         "y": [
          2.752526313220717,
          4.0819380779265995,
          3.9830856469887252,
          3.7485141830814,
          4.2800264424198895,
          3.9982840023539796,
          2.935798307687007,
          2.3826661672674097,
          3.270104169901422,
          2.646597640309869,
          4.973457974550277,
          5.627475857313727,
          5.984357309069109,
          4.970777047461615,
          5.191668895500556,
          3.912063063655918,
          3.959950279684728,
          5.029907200456408
         ],
         "yaxis": "y"
        },
        {
         "hovertemplate": "variable=Démographie<br>annee=%{x}<br>value=%{y}<extra></extra>",
         "legendgroup": "Démographie",
         "line": {
          "color": "#EF553B",
          "dash": "solid"
         },
         "marker": {
          "symbol": "circle"
         },
         "mode": "lines",
         "name": "Démographie",
         "orientation": "v",
         "showlegend": true,
         "type": "scatter",
         "x": [
          2005,
          2006,
          2007,
          2008,
          2009,
          2010,
          2011,
          2012,
          2013,
          2014,
          2015,
          2016,
          2017,
          2018,
          2019,
          2020,
          2021,
          2022
         ],
         "xaxis": "x",
         "y": [
          23.8997442455243,
          23.661649007429062,
          24.97276011854017,
          22.880368814192344,
          22.18806112188465,
          21.50570818070818,
          22.62615635997989,
          24.08261281643635,
          26.513168371991906,
          29.538809397632928,
          28.209777139568413,
          27.0642663036551,
          24.49669873608753,
          24.27447651386531,
          24.582168821557616,
          26.425486793907847,
          25.136920550713654,
          26.565491979285085
         ],
         "yaxis": "y"
        },
        {
         "hovertemplate": "variable=Histoire<br>annee=%{x}<br>value=%{y}<extra></extra>",
         "legendgroup": "Histoire",
         "line": {
          "color": "#00cc96",
          "dash": "solid"
         },
         "marker": {
          "symbol": "circle"
         },
         "mode": "lines",
         "name": "Histoire",
         "orientation": "v",
         "showlegend": true,
         "type": "scatter",
         "x": [
          2005,
          2006,
          2007,
          2008,
          2009,
          2010,
          2011,
          2012,
          2013,
          2014,
          2015,
          2016,
          2017,
          2018,
          2019,
          2020,
          2021,
          2022
         ],
         "xaxis": "x",
         "y": [
          4.618913897074098,
          6.2350755132357145,
          4.721107763973847,
          5.059443956083624,
          5.504178574717928,
          4.944356079411561,
          3.1549689959068306,
          3.7545986782882577,
          4.156434476350471,
          3.578817147830615,
          4.2380247425220805,
          4.496739411883138,
          3.4608072084933075,
          3.0207517684378673,
          3.4135401987973655,
          4.303659826621911,
          4.679910192225889,
          6.031736817612885
         ],
         "yaxis": "y"
        }
       ],
       "layout": {
        "legend": {
         "title": {
          "text": "variable"
         },
         "tracegroupgap": 0
        },
        "margin": {
         "t": 60
        },
        "template": {
         "data": {
          "bar": [
           {
            "error_x": {
             "color": "#2a3f5f"
            },
            "error_y": {
             "color": "#2a3f5f"
            },
            "marker": {
             "line": {
              "color": "#E5ECF6",
              "width": 0.5
             },
             "pattern": {
              "fillmode": "overlay",
              "size": 10,
              "solidity": 0.2
             }
            },
            "type": "bar"
           }
          ],
          "barpolar": [
           {
            "marker": {
             "line": {
              "color": "#E5ECF6",
              "width": 0.5
             },
             "pattern": {
              "fillmode": "overlay",
              "size": 10,
              "solidity": 0.2
             }
            },
            "type": "barpolar"
           }
          ],
          "carpet": [
           {
            "aaxis": {
             "endlinecolor": "#2a3f5f",
             "gridcolor": "white",
             "linecolor": "white",
             "minorgridcolor": "white",
             "startlinecolor": "#2a3f5f"
            },
            "baxis": {
             "endlinecolor": "#2a3f5f",
             "gridcolor": "white",
             "linecolor": "white",
             "minorgridcolor": "white",
             "startlinecolor": "#2a3f5f"
            },
            "type": "carpet"
           }
          ],
          "choropleth": [
           {
            "colorbar": {
             "outlinewidth": 0,
             "ticks": ""
            },
            "type": "choropleth"
           }
          ],
          "contour": [
           {
            "colorbar": {
             "outlinewidth": 0,
             "ticks": ""
            },
            "colorscale": [
             [
              0,
              "#0d0887"
             ],
             [
              0.1111111111111111,
              "#46039f"
             ],
             [
              0.2222222222222222,
              "#7201a8"
             ],
             [
              0.3333333333333333,
              "#9c179e"
             ],
             [
              0.4444444444444444,
              "#bd3786"
             ],
             [
              0.5555555555555556,
              "#d8576b"
             ],
             [
              0.6666666666666666,
              "#ed7953"
             ],
             [
              0.7777777777777778,
              "#fb9f3a"
             ],
             [
              0.8888888888888888,
              "#fdca26"
             ],
             [
              1,
              "#f0f921"
             ]
            ],
            "type": "contour"
           }
          ],
          "contourcarpet": [
           {
            "colorbar": {
             "outlinewidth": 0,
             "ticks": ""
            },
            "type": "contourcarpet"
           }
          ],
          "heatmap": [
           {
            "colorbar": {
             "outlinewidth": 0,
             "ticks": ""
            },
            "colorscale": [
             [
              0,
              "#0d0887"
             ],
             [
              0.1111111111111111,
              "#46039f"
             ],
             [
              0.2222222222222222,
              "#7201a8"
             ],
             [
              0.3333333333333333,
              "#9c179e"
             ],
             [
              0.4444444444444444,
              "#bd3786"
             ],
             [
              0.5555555555555556,
              "#d8576b"
             ],
             [
              0.6666666666666666,
              "#ed7953"
             ],
             [
              0.7777777777777778,
              "#fb9f3a"
             ],
             [
              0.8888888888888888,
              "#fdca26"
             ],
             [
              1,
              "#f0f921"
             ]
            ],
            "type": "heatmap"
           }
          ],
          "heatmapgl": [
           {
            "colorbar": {
             "outlinewidth": 0,
             "ticks": ""
            },
            "colorscale": [
             [
              0,
              "#0d0887"
             ],
             [
              0.1111111111111111,
              "#46039f"
             ],
             [
              0.2222222222222222,
              "#7201a8"
             ],
             [
              0.3333333333333333,
              "#9c179e"
             ],
             [
              0.4444444444444444,
              "#bd3786"
             ],
             [
              0.5555555555555556,
              "#d8576b"
             ],
             [
              0.6666666666666666,
              "#ed7953"
             ],
             [
              0.7777777777777778,
              "#fb9f3a"
             ],
             [
              0.8888888888888888,
              "#fdca26"
             ],
             [
              1,
              "#f0f921"
             ]
            ],
            "type": "heatmapgl"
           }
          ],
          "histogram": [
           {
            "marker": {
             "pattern": {
              "fillmode": "overlay",
              "size": 10,
              "solidity": 0.2
             }
            },
            "type": "histogram"
           }
          ],
          "histogram2d": [
           {
            "colorbar": {
             "outlinewidth": 0,
             "ticks": ""
            },
            "colorscale": [
             [
              0,
              "#0d0887"
             ],
             [
              0.1111111111111111,
              "#46039f"
             ],
             [
              0.2222222222222222,
              "#7201a8"
             ],
             [
              0.3333333333333333,
              "#9c179e"
             ],
             [
              0.4444444444444444,
              "#bd3786"
             ],
             [
              0.5555555555555556,
              "#d8576b"
             ],
             [
              0.6666666666666666,
              "#ed7953"
             ],
             [
              0.7777777777777778,
              "#fb9f3a"
             ],
             [
              0.8888888888888888,
              "#fdca26"
             ],
             [
              1,
              "#f0f921"
             ]
            ],
            "type": "histogram2d"
           }
          ],
          "histogram2dcontour": [
           {
            "colorbar": {
             "outlinewidth": 0,
             "ticks": ""
            },
            "colorscale": [
             [
              0,
              "#0d0887"
             ],
             [
              0.1111111111111111,
              "#46039f"
             ],
             [
              0.2222222222222222,
              "#7201a8"
             ],
             [
              0.3333333333333333,
              "#9c179e"
             ],
             [
              0.4444444444444444,
              "#bd3786"
             ],
             [
              0.5555555555555556,
              "#d8576b"
             ],
             [
              0.6666666666666666,
              "#ed7953"
             ],
             [
              0.7777777777777778,
              "#fb9f3a"
             ],
             [
              0.8888888888888888,
              "#fdca26"
             ],
             [
              1,
              "#f0f921"
             ]
            ],
            "type": "histogram2dcontour"
           }
          ],
          "mesh3d": [
           {
            "colorbar": {
             "outlinewidth": 0,
             "ticks": ""
            },
            "type": "mesh3d"
           }
          ],
          "parcoords": [
           {
            "line": {
             "colorbar": {
              "outlinewidth": 0,
              "ticks": ""
             }
            },
            "type": "parcoords"
           }
          ],
          "pie": [
           {
            "automargin": true,
            "type": "pie"
           }
          ],
          "scatter": [
           {
            "fillpattern": {
             "fillmode": "overlay",
             "size": 10,
             "solidity": 0.2
            },
            "type": "scatter"
           }
          ],
          "scatter3d": [
           {
            "line": {
             "colorbar": {
              "outlinewidth": 0,
              "ticks": ""
             }
            },
            "marker": {
             "colorbar": {
              "outlinewidth": 0,
              "ticks": ""
             }
            },
            "type": "scatter3d"
           }
          ],
          "scattercarpet": [
           {
            "marker": {
             "colorbar": {
              "outlinewidth": 0,
              "ticks": ""
             }
            },
            "type": "scattercarpet"
           }
          ],
          "scattergeo": [
           {
            "marker": {
             "colorbar": {
              "outlinewidth": 0,
              "ticks": ""
             }
            },
            "type": "scattergeo"
           }
          ],
          "scattergl": [
           {
            "marker": {
             "colorbar": {
              "outlinewidth": 0,
              "ticks": ""
             }
            },
            "type": "scattergl"
           }
          ],
          "scattermapbox": [
           {
            "marker": {
             "colorbar": {
              "outlinewidth": 0,
              "ticks": ""
             }
            },
            "type": "scattermapbox"
           }
          ],
          "scatterpolar": [
           {
            "marker": {
             "colorbar": {
              "outlinewidth": 0,
              "ticks": ""
             }
            },
            "type": "scatterpolar"
           }
          ],
          "scatterpolargl": [
           {
            "marker": {
             "colorbar": {
              "outlinewidth": 0,
              "ticks": ""
             }
            },
            "type": "scatterpolargl"
           }
          ],
          "scatterternary": [
           {
            "marker": {
             "colorbar": {
              "outlinewidth": 0,
              "ticks": ""
             }
            },
            "type": "scatterternary"
           }
          ],
          "surface": [
           {
            "colorbar": {
             "outlinewidth": 0,
             "ticks": ""
            },
            "colorscale": [
             [
              0,
              "#0d0887"
             ],
             [
              0.1111111111111111,
              "#46039f"
             ],
             [
              0.2222222222222222,
              "#7201a8"
             ],
             [
              0.3333333333333333,
              "#9c179e"
             ],
             [
              0.4444444444444444,
              "#bd3786"
             ],
             [
              0.5555555555555556,
              "#d8576b"
             ],
             [
              0.6666666666666666,
              "#ed7953"
             ],
             [
              0.7777777777777778,
              "#fb9f3a"
             ],
             [
              0.8888888888888888,
              "#fdca26"
             ],
             [
              1,
              "#f0f921"
             ]
            ],
            "type": "surface"
           }
          ],
          "table": [
           {
            "cells": {
             "fill": {
              "color": "#EBF0F8"
             },
             "line": {
              "color": "white"
             }
            },
            "header": {
             "fill": {
              "color": "#C8D4E3"
             },
             "line": {
              "color": "white"
             }
            },
            "type": "table"
           }
          ]
         },
         "layout": {
          "annotationdefaults": {
           "arrowcolor": "#2a3f5f",
           "arrowhead": 0,
           "arrowwidth": 1
          },
          "autotypenumbers": "strict",
          "coloraxis": {
           "colorbar": {
            "outlinewidth": 0,
            "ticks": ""
           }
          },
          "colorscale": {
           "diverging": [
            [
             0,
             "#8e0152"
            ],
            [
             0.1,
             "#c51b7d"
            ],
            [
             0.2,
             "#de77ae"
            ],
            [
             0.3,
             "#f1b6da"
            ],
            [
             0.4,
             "#fde0ef"
            ],
            [
             0.5,
             "#f7f7f7"
            ],
            [
             0.6,
             "#e6f5d0"
            ],
            [
             0.7,
             "#b8e186"
            ],
            [
             0.8,
             "#7fbc41"
            ],
            [
             0.9,
             "#4d9221"
            ],
            [
             1,
             "#276419"
            ]
           ],
           "sequential": [
            [
             0,
             "#0d0887"
            ],
            [
             0.1111111111111111,
             "#46039f"
            ],
            [
             0.2222222222222222,
             "#7201a8"
            ],
            [
             0.3333333333333333,
             "#9c179e"
            ],
            [
             0.4444444444444444,
             "#bd3786"
            ],
            [
             0.5555555555555556,
             "#d8576b"
            ],
            [
             0.6666666666666666,
             "#ed7953"
            ],
            [
             0.7777777777777778,
             "#fb9f3a"
            ],
            [
             0.8888888888888888,
             "#fdca26"
            ],
            [
             1,
             "#f0f921"
            ]
           ],
           "sequentialminus": [
            [
             0,
             "#0d0887"
            ],
            [
             0.1111111111111111,
             "#46039f"
            ],
            [
             0.2222222222222222,
             "#7201a8"
            ],
            [
             0.3333333333333333,
             "#9c179e"
            ],
            [
             0.4444444444444444,
             "#bd3786"
            ],
            [
             0.5555555555555556,
             "#d8576b"
            ],
            [
             0.6666666666666666,
             "#ed7953"
            ],
            [
             0.7777777777777778,
             "#fb9f3a"
            ],
            [
             0.8888888888888888,
             "#fdca26"
            ],
            [
             1,
             "#f0f921"
            ]
           ]
          },
          "colorway": [
           "#636efa",
           "#EF553B",
           "#00cc96",
           "#ab63fa",
           "#FFA15A",
           "#19d3f3",
           "#FF6692",
           "#B6E880",
           "#FF97FF",
           "#FECB52"
          ],
          "font": {
           "color": "#2a3f5f"
          },
          "geo": {
           "bgcolor": "white",
           "lakecolor": "white",
           "landcolor": "#E5ECF6",
           "showlakes": true,
           "showland": true,
           "subunitcolor": "white"
          },
          "hoverlabel": {
           "align": "left"
          },
          "hovermode": "closest",
          "mapbox": {
           "style": "light"
          },
          "paper_bgcolor": "white",
          "plot_bgcolor": "#E5ECF6",
          "polar": {
           "angularaxis": {
            "gridcolor": "white",
            "linecolor": "white",
            "ticks": ""
           },
           "bgcolor": "#E5ECF6",
           "radialaxis": {
            "gridcolor": "white",
            "linecolor": "white",
            "ticks": ""
           }
          },
          "scene": {
           "xaxis": {
            "backgroundcolor": "#E5ECF6",
            "gridcolor": "white",
            "gridwidth": 2,
            "linecolor": "white",
            "showbackground": true,
            "ticks": "",
            "zerolinecolor": "white"
           },
           "yaxis": {
            "backgroundcolor": "#E5ECF6",
            "gridcolor": "white",
            "gridwidth": 2,
            "linecolor": "white",
            "showbackground": true,
            "ticks": "",
            "zerolinecolor": "white"
           },
           "zaxis": {
            "backgroundcolor": "#E5ECF6",
            "gridcolor": "white",
            "gridwidth": 2,
            "linecolor": "white",
            "showbackground": true,
            "ticks": "",
            "zerolinecolor": "white"
           }
          },
          "shapedefaults": {
           "line": {
            "color": "#2a3f5f"
           }
          },
          "ternary": {
           "aaxis": {
            "gridcolor": "white",
            "linecolor": "white",
            "ticks": ""
           },
           "baxis": {
            "gridcolor": "white",
            "linecolor": "white",
            "ticks": ""
           },
           "bgcolor": "#E5ECF6",
           "caxis": {
            "gridcolor": "white",
            "linecolor": "white",
            "ticks": ""
           }
          },
          "title": {
           "x": 0.05
          },
          "xaxis": {
           "automargin": true,
           "gridcolor": "white",
           "linecolor": "white",
           "ticks": "",
           "title": {
            "standoff": 15
           },
           "zerolinecolor": "white",
           "zerolinewidth": 2
          },
          "yaxis": {
           "automargin": true,
           "gridcolor": "white",
           "linecolor": "white",
           "ticks": "",
           "title": {
            "standoff": 15
           },
           "zerolinecolor": "white",
           "zerolinewidth": 2
          }
         }
        },
        "xaxis": {
         "anchor": "y",
         "domain": [
          0,
          1
         ],
         "title": {
          "text": "annee"
         }
        },
        "yaxis": {
         "anchor": "x",
         "domain": [
          0,
          1
         ],
         "title": {
          "text": "value"
         }
        }
       }
      }
     },
     "metadata": {},
     "output_type": "display_data"
    }
   ],
   "source": [
    "# Default parameters\n",
    "fig"
   ]
  },
  {
   "cell_type": "markdown",
   "metadata": {},
   "source": [
    "### Customisation"
   ]
  },
  {
   "cell_type": "code",
   "execution_count": 94,
   "metadata": {},
   "outputs": [
    {
     "name": "stdout",
     "output_type": "stream",
     "text": [
      "This is the format of your plot grid:\n",
      "[ (1,1) x,y      ]\n",
      "[ (2,1) x2,y2    ]\n",
      "[ (3,1) x3,y3    ]\n",
      "[ (4,1) x4,y4    ]\n",
      "[ (5,1) x5,y5    ]\n",
      "[ (6,1) x6,y6    ]\n",
      "[ (7,1) x7,y7    ]\n",
      "[ (8,1) x8,y8    ]\n",
      "[ (9,1) x9,y9    ]\n",
      "[ (10,1) x10,y10 ]\n",
      "[ (11,1) x11,y11 ]\n",
      "\n"
     ]
    }
   ],
   "source": [
    "# https://plotly.com/python-api-reference/generated/plotly.subplots.make_subplots.html\n",
    "\n",
    "# Facetting\n",
    "fig = make_subplots(\n",
    "    rows=11, cols=1,\n",
    "    specs=[[{}]] * 11,\n",
    "    row_heights= [0.5] + [0.05] * 10,\n",
    "    subplot_titles=(\n",
    "       \"\",\"Science Politique\",\"Sociologie\",\"Anthropologie\",\n",
    "       \"Histoire\", \"Démographie\", \"Économie\",\"SIC\", \"Géographie\", \"Aréales\", \n",
    "       \"Autre interdisciplinaire\"),\n",
    "\n",
    "       shared_xaxes = 'all',\n",
    "       print_grid = True,\n",
    "\n",
    "       x_title = 'Année de publication',\n",
    "       y_title = ''\n",
    ")\n",
    "\n",
    "# Setting title and axis names\n",
    "fig = fig.update_layout(dict(\n",
    "    title = dict(\n",
    "            text = (\"Évolution de la proportion d'articles publiés invoquant le \"\n",
    "                    \"thème du genre (def extensive et statistique)\"),\n",
    "             automargin = True,  # TODO Check that again\n",
    "             pad = dict(t = 10, b = 10 , r = 10, l = 10)),\n",
    "    width = 1150, height = 1400,\n",
    "    plot_bgcolor = 'white',\n",
    "    showlegend = False\n",
    "))"
   ]
  },
  {
   "cell_type": "code",
   "execution_count": 95,
   "metadata": {},
   "outputs": [],
   "source": [
    "all_categories = [\n",
    "    'Science politique',\n",
    "    'Sociologie'\t,\n",
    "    'Anthropologie'\t,\n",
    "    'Histoire'\t,\n",
    "    'Autre interdisciplinaire'\t,\n",
    "    'Démographie',\n",
    "    'Economie',\n",
    "    'SIC'\t,\n",
    "    'Géographie'\t,\n",
    "    'Aréale']\n",
    "\n",
    "\n",
    "def add_traces_to_subplot(fig : goFigure, df : pd.DataFrame,\n",
    "                          x : str, columns : list[str],\n",
    "                          row : int, col : int, **kwargs) -> None:\n",
    "    '''takes a dataframe and addit to the figure. \n",
    "    the kwargs can contain : \n",
    "        {\n",
    "        # will be applied to the traces one at a time\n",
    "         'local' : {\n",
    "                        [kwargs, kwargs, ]\n",
    "                    }, \n",
    "        # will be applied to all the traces\n",
    "         'global' : kwargs \n",
    "        }\n",
    "    all customisation must be in the kwargs\n",
    "    '''\n",
    "    \n",
    "    for i, column  in zip( range(len(columns)), columns):\n",
    "        fig.add_trace(\n",
    "            go.Scatter(\n",
    "                x = df[x], y = df[column],\n",
    "                mode = 'lines'\n",
    "            ), row = row, col = col\n",
    "        )\n",
    "        if 'global' in kwargs:\n",
    "            fig.data[-1].update(kwargs['global'])\n",
    "        if 'local' in kwargs: \n",
    "            print(kwargs['local'][i])\n",
    "            fig.data[-1].update(**kwargs['local'][i])"
   ]
  },
  {
   "cell_type": "markdown",
   "metadata": {},
   "source": [
    "## Create figure 1"
   ]
  },
  {
   "cell_type": "code",
   "execution_count": 96,
   "metadata": {},
   "outputs": [],
   "source": [
    "grey = 'rgba(200,200,200,0.5)'\n",
    "# Add all the categories\n",
    "\n",
    "kwargs = {\n",
    "    'global' : {\n",
    "        'line' : {\n",
    "            'color' : grey,\n",
    "            'width' : 1}\n",
    "    }\n",
    "}\n",
    "\n",
    "add_traces_to_subplot(fig,dfPlot,\n",
    "                      x = \"annee\",columns=all_categories,\n",
    "                      row = 1, col = 1, **kwargs) # All categories except gender studies\n",
    "add_traces_to_subplot(fig, dfPlot,\n",
    "                      x = \"annee\", columns=[\"Genre\"],\n",
    "                      row = 1, col = 1, **kwargs)\n",
    "\n",
    "# Add the colourful traces\n",
    "kwargs = {\n",
    "    'local' : [\n",
    "        {\n",
    "            'name' : \"Moyenne de toutes les revues\",\n",
    "            'line' : {'color' : 'red'}\n",
    "        },\n",
    "        {\n",
    "            'name' :  (\"Moyennes de toutes les revues qui ne sont pas\"\n",
    "                       \" des revues spécialisées dans les études de genre\"),\n",
    "            'line' : {'color' : 'green'}\n",
    "        },\n",
    "        {\n",
    "            'name' : \"Revues spécialisées dans les études de genre\",\n",
    "            'line' : {'color' : 'black', 'width' : 40}\n",
    "        }\n",
    "    ]\n",
    "}\n",
    "add_traces_to_subplot(  fig, dfPlotRA,\n",
    "                        x = \"annee\",\n",
    "                        columns = [\"Toutes\", \"Toutes sauf Genre\", \"Genre\"],\n",
    "                        row = 1, col = 1)\n"
   ]
  },
  {
   "cell_type": "code",
   "execution_count": 97,
   "metadata": {},
   "outputs": [],
   "source": [
    "tick_grid_colour = 'rgb(50,50,50)'\n",
    "\n",
    "fig = fig.update_layout(\n",
    "    xaxis = dict(\n",
    "        showline = True,\n",
    "        linewidth = 1,\n",
    "        linecolor = tick_grid_colour,\n",
    "\n",
    "        ticks = 'outside',\n",
    "        showticklabels = True,\n",
    "        tickangle = 0,\n",
    "        tickwidth = 1,\n",
    "        tickfont = dict(),\n",
    "        tickvals = [2000,2005,2010,2015,2020],\n",
    "        \n",
    "        showgrid = False\n",
    "    ),\n",
    "    yaxis = dict(\n",
    "        showline = False,\n",
    "\n",
    "        ticks = \"outside\",\n",
    "        showticklabels = True,\n",
    "        tickangle = 0,\n",
    "        tickfont = dict(),\n",
    "        tickvals = [10,50,92],\n",
    "        ticksuffix = \"%\",\n",
    "        tickwidth = 1,\n",
    "\n",
    "        showgrid = True,\n",
    "        gridcolor = tick_grid_colour,\n",
    "        gridwidth = 1,\n",
    "\n",
    "        autorange = True,\n",
    "        # range = [1, 100],\n",
    "    )\n",
    ")"
   ]
  },
  {
   "cell_type": "markdown",
   "metadata": {},
   "source": [
    "## Save Image"
   ]
  },
  {
   "cell_type": "code",
   "execution_count": 98,
   "metadata": {},
   "outputs": [],
   "source": [
    "fig.write_image('fig_test.png')"
   ]
  },
  {
   "cell_type": "code",
   "execution_count": 99,
   "metadata": {},
   "outputs": [
    {
     "data": {
      "text/plain": [
       "Scatter({\n",
       "    'line': {'color': 'rgba(200,200,200,0.5)', 'width': 1},\n",
       "    'mode': 'lines',\n",
       "    'x': array([2001, 2002, 2003, 2004, 2005, 2006, 2007, 2008, 2009, 2010, 2011, 2012,\n",
       "                2013, 2014, 2015, 2016, 2017, 2018, 2019, 2020, 2021, 2022]),\n",
       "    'xaxis': 'x',\n",
       "    'y': array([92.59259259, 91.22807018, 83.33333333, 95.52238806, 89.85507246,\n",
       "                93.82716049, 90.625     , 91.04477612, 83.14606742, 95.18072289,\n",
       "                87.23404255, 92.5       , 81.48148148, 88.73239437, 93.93939394,\n",
       "                96.        , 91.54929577, 93.67088608, 93.05555556, 95.        ,\n",
       "                95.37037037, 91.30434783]),\n",
       "    'yaxis': 'y'\n",
       "})"
      ]
     },
     "execution_count": 99,
     "metadata": {},
     "output_type": "execute_result"
    }
   ],
   "source": [
    "fig.data[-4]"
   ]
  },
  {
   "cell_type": "code",
   "execution_count": 100,
   "metadata": {},
   "outputs": [],
   "source": [
    "# FIXME Gender studies et pas Genre"
   ]
  }
 ],
 "metadata": {
  "kernelspec": {
   "display_name": "CREST",
   "language": "python",
   "name": "python3"
  },
  "language_info": {
   "codemirror_mode": {
    "name": "ipython",
    "version": 3
   },
   "file_extension": ".py",
   "mimetype": "text/x-python",
   "name": "python",
   "nbconvert_exporter": "python",
   "pygments_lexer": "ipython3",
   "version": "3.12.7"
  }
 },
 "nbformat": 4,
 "nbformat_minor": 2
}
