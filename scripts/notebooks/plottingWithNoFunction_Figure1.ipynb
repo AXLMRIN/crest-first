{
 "cells": [
  {
   "cell_type": "markdown",
   "metadata": {},
   "source": [
    "This notebook goal is to plot a figure using no custom function before we get to design and write useful ones"
   ]
  },
  {
   "cell_type": "markdown",
   "metadata": {},
   "source": [
    "# Imports"
   ]
  },
  {
   "cell_type": "code",
   "execution_count": 352,
   "metadata": {},
   "outputs": [],
   "source": [
    "# Third Parties\n",
    "import pandas as pd\n",
    "import plotly.express as px\n",
    "import plotly.graph_objs as go\n",
    "import numpy as np \n",
    "\n",
    "# Native\n",
    "\n",
    "# Custom \n",
    "# /\n",
    "\n",
    "# Classes\n",
    "from plotly.graph_objs._figure import Figure as goFigure\n",
    "# Functions\n",
    "from plotly.subplots import make_subplots\n",
    "from itertools import product"
   ]
  },
  {
   "cell_type": "markdown",
   "metadata": {},
   "source": [
    "# Open file and prepare for plotting"
   ]
  },
  {
   "cell_type": "code",
   "execution_count": 353,
   "metadata": {},
   "outputs": [
    {
     "name": "stderr",
     "output_type": "stream",
     "text": [
      "/var/folders/xs/d90v1vkn16db_7z493h6kwt40000gn/T/ipykernel_7059/3563665539.py:1: DtypeWarning:\n",
      "\n",
      "Columns (0) have mixed types. Specify dtype option on import or set low_memory=False.\n",
      "\n"
     ]
    }
   ],
   "source": [
    "articles = pd.read_csv(\n",
    "    '../../data/2025-01-07-2024-10-29-quinquadef4-neat-abstract-bert.csv'\n",
    ")\n",
    "\n",
    "revues = pd.read_csv(\n",
    "    '../../data/Classification revues - Feuille 1.csv'\n",
    ")"
   ]
  },
  {
   "cell_type": "code",
   "execution_count": 354,
   "metadata": {},
   "outputs": [
    {
     "data": {
      "text/plain": [
       "Index(['iddef', 'titre', 'soustitre', 'auteurs', 'annee', 'revue', 'num_titre',\n",
       "       'num_num', 'abstract', 'url_art', 'auteurs_fam', 'auteurs_prenom',\n",
       "       'source', 'n_auteurs', 'femme', 'annee5', 'majo_femmes', 'sexe3',\n",
       "       'tag_race', 'tag_inclusif', 'bert_pronoms', 'bert_quanti', 'bert_quali',\n",
       "       'bert_genre', 'bert_genre_stat', 'bert_classe_large',\n",
       "       'bert_classe_stricte', 'bert_genre_pas_stat', 'bert_monostricte',\n",
       "       'bert_interstricte_2plus', 'bert_interstricte_3',\n",
       "       'bert_interstricte_GC', 'bert_interstricte_GR', 'bert_interstricte_CR',\n",
       "       'bert_interstricte_cl', 'bert_interstricte_cl2', 'bert_monolarge',\n",
       "       'bert_interlarge_2plus', 'bert_interlarge_3', 'bert_interlarge_GC',\n",
       "       'bert_interlarge_GR', 'bert_interlarge_CR', 'bert_interlarge_cl',\n",
       "       'bert_interlarge_cl2'],\n",
       "      dtype='object')"
      ]
     },
     "execution_count": 354,
     "metadata": {},
     "output_type": "execute_result"
    }
   ],
   "source": [
    "articles.columns"
   ]
  },
  {
   "cell_type": "code",
   "execution_count": 355,
   "metadata": {},
   "outputs": [
    {
     "data": {
      "text/plain": [
       "Index(['revue', 'Dominante', 'Aréale', 'Anthropo', 'Demo', 'Eco', 'Genre',\n",
       "       'Géographie', 'Histoire', 'SIC', 'Sociologie', 'SciencePo'],\n",
       "      dtype='object')"
      ]
     },
     "execution_count": 355,
     "metadata": {},
     "output_type": "execute_result"
    }
   ],
   "source": [
    "revues.columns"
   ]
  },
  {
   "cell_type": "markdown",
   "metadata": {},
   "source": [
    "## Doing non-sense because i am stupid"
   ]
  },
  {
   "cell_type": "code",
   "execution_count": 202,
   "metadata": {},
   "outputs": [
    {
     "name": "stderr",
     "output_type": "stream",
     "text": [
      "/var/folders/xs/d90v1vkn16db_7z493h6kwt40000gn/T/ipykernel_7059/1780883791.py:4: FutureWarning:\n",
      "\n",
      "Downcasting behavior in `replace` is deprecated and will be removed in a future version. To retain the old behavior, explicitly call `result.infer_objects(copy=False)`. To opt-in to the future behavior, set `pd.set_option('future.no_silent_downcasting', True)`\n",
      "\n"
     ]
    }
   ],
   "source": [
    "# Transforming cells, where NaN -> False and where x -> True\n",
    "# revues.replace({np.nan: False, 'x' : True})\n",
    "revues = revues.fillna(False)\n",
    "revues = revues.replace({'x' : True})\n",
    "revues = revues.astype({\n",
    "    'revue'         : str,\n",
    "    'Dominante'     : str,\n",
    "    'Aréale'        : bool,\n",
    "    'Anthropo'      : bool,\n",
    "    'Demo'          : bool,\n",
    "    'Eco'           : bool,\n",
    "    'Genre'         : bool,\n",
    "    'Géographie'    : bool,\n",
    "    'Histoire'      : bool,\n",
    "    'SIC'           : bool,\n",
    "    'Sociologie'    : bool,\n",
    "    'SciencePo'     : bool\n",
    "})\n",
    "revues.loc[:,'Dominante'] = revues.loc[:,'Dominante'].replace({'Économie' : 'Economie'})"
   ]
  },
  {
   "cell_type": "code",
   "execution_count": 203,
   "metadata": {},
   "outputs": [],
   "source": [
    "CAT = [\n",
    "    'Aréale'    ,\n",
    "    'Anthropologie'  ,\n",
    "    'Démographie'      ,\n",
    "    'Economie'       ,\n",
    "    'Genre'     ,\n",
    "    'Géographie',\n",
    "    'Histoire'  ,\n",
    "    'SIC'       ,\n",
    "    'Sociologie',\n",
    "    'Science politique' \n",
    "]\n",
    "\n",
    "df = pd.DataFrame({\n",
    "    \"annee\"         : [],\n",
    "    'Aréale'        : [],\n",
    "    'Anthropologie' : [],\n",
    "    'Démographie'   : [],\n",
    "    'Economie'      : [],\n",
    "    'Genre'         : [],\n",
    "    'Géographie'    : [],\n",
    "    'Histoire'      : [],\n",
    "    'SIC'           : [],\n",
    "    'Sociologie'    : [],\n",
    "    'Science politique'         : [],\n",
    "    'Autre interdisciplinaire'  : []\n",
    "})\n"
   ]
  },
  {
   "cell_type": "code",
   "execution_count": 204,
   "metadata": {},
   "outputs": [
    {
     "data": {
      "text/html": [
       "<div>\n",
       "<style scoped>\n",
       "    .dataframe tbody tr th:only-of-type {\n",
       "        vertical-align: middle;\n",
       "    }\n",
       "\n",
       "    .dataframe tbody tr th {\n",
       "        vertical-align: top;\n",
       "    }\n",
       "\n",
       "    .dataframe thead th {\n",
       "        text-align: right;\n",
       "    }\n",
       "</style>\n",
       "<table border=\"1\" class=\"dataframe\">\n",
       "  <thead>\n",
       "    <tr style=\"text-align: right;\">\n",
       "      <th></th>\n",
       "      <th>revue</th>\n",
       "      <th>Dominante</th>\n",
       "      <th>Aréale</th>\n",
       "      <th>Anthropo</th>\n",
       "      <th>Demo</th>\n",
       "      <th>Eco</th>\n",
       "      <th>Genre</th>\n",
       "      <th>Géographie</th>\n",
       "      <th>Histoire</th>\n",
       "      <th>SIC</th>\n",
       "      <th>Sociologie</th>\n",
       "      <th>SciencePo</th>\n",
       "    </tr>\n",
       "  </thead>\n",
       "  <tbody>\n",
       "    <tr>\n",
       "      <th>0</th>\n",
       "      <td>Les Études Sociales</td>\n",
       "      <td>Autre interdisciplinaire</td>\n",
       "      <td>False</td>\n",
       "      <td>False</td>\n",
       "      <td>False</td>\n",
       "      <td>False</td>\n",
       "      <td>False</td>\n",
       "      <td>False</td>\n",
       "      <td>True</td>\n",
       "      <td>False</td>\n",
       "      <td>True</td>\n",
       "      <td>False</td>\n",
       "    </tr>\n",
       "    <tr>\n",
       "      <th>1</th>\n",
       "      <td>Ethnologie française</td>\n",
       "      <td>Anthropologie</td>\n",
       "      <td>False</td>\n",
       "      <td>True</td>\n",
       "      <td>False</td>\n",
       "      <td>False</td>\n",
       "      <td>False</td>\n",
       "      <td>False</td>\n",
       "      <td>False</td>\n",
       "      <td>False</td>\n",
       "      <td>True</td>\n",
       "      <td>False</td>\n",
       "    </tr>\n",
       "    <tr>\n",
       "      <th>2</th>\n",
       "      <td>Hommes &amp; Migrations</td>\n",
       "      <td>Anthropologie</td>\n",
       "      <td>False</td>\n",
       "      <td>True</td>\n",
       "      <td>False</td>\n",
       "      <td>False</td>\n",
       "      <td>False</td>\n",
       "      <td>False</td>\n",
       "      <td>False</td>\n",
       "      <td>False</td>\n",
       "      <td>False</td>\n",
       "      <td>False</td>\n",
       "    </tr>\n",
       "    <tr>\n",
       "      <th>3</th>\n",
       "      <td>Journal des anthropologues</td>\n",
       "      <td>Anthropologie</td>\n",
       "      <td>False</td>\n",
       "      <td>True</td>\n",
       "      <td>False</td>\n",
       "      <td>False</td>\n",
       "      <td>False</td>\n",
       "      <td>False</td>\n",
       "      <td>False</td>\n",
       "      <td>False</td>\n",
       "      <td>False</td>\n",
       "      <td>False</td>\n",
       "    </tr>\n",
       "    <tr>\n",
       "      <th>4</th>\n",
       "      <td>L’Homme</td>\n",
       "      <td>Anthropologie</td>\n",
       "      <td>False</td>\n",
       "      <td>True</td>\n",
       "      <td>False</td>\n",
       "      <td>False</td>\n",
       "      <td>False</td>\n",
       "      <td>False</td>\n",
       "      <td>False</td>\n",
       "      <td>False</td>\n",
       "      <td>False</td>\n",
       "      <td>False</td>\n",
       "    </tr>\n",
       "  </tbody>\n",
       "</table>\n",
       "</div>"
      ],
      "text/plain": [
       "                        revue                 Dominante  Aréale  Anthropo  \\\n",
       "0         Les Études Sociales  Autre interdisciplinaire   False     False   \n",
       "1        Ethnologie française             Anthropologie   False      True   \n",
       "2         Hommes & Migrations             Anthropologie   False      True   \n",
       "3  Journal des anthropologues             Anthropologie   False      True   \n",
       "4                     L’Homme             Anthropologie   False      True   \n",
       "\n",
       "    Demo    Eco  Genre  Géographie  Histoire    SIC  Sociologie  SciencePo  \n",
       "0  False  False  False       False      True  False        True      False  \n",
       "1  False  False  False       False     False  False        True      False  \n",
       "2  False  False  False       False     False  False       False      False  \n",
       "3  False  False  False       False     False  False       False      False  \n",
       "4  False  False  False       False     False  False       False      False  "
      ]
     },
     "execution_count": 204,
     "metadata": {},
     "output_type": "execute_result"
    }
   ],
   "source": [
    "revues.head()"
   ]
  },
  {
   "cell_type": "code",
   "execution_count": 205,
   "metadata": {},
   "outputs": [
    {
     "data": {
      "text/html": [
       "<div>\n",
       "<style scoped>\n",
       "    .dataframe tbody tr th:only-of-type {\n",
       "        vertical-align: middle;\n",
       "    }\n",
       "\n",
       "    .dataframe tbody tr th {\n",
       "        vertical-align: top;\n",
       "    }\n",
       "\n",
       "    .dataframe thead th {\n",
       "        text-align: right;\n",
       "    }\n",
       "</style>\n",
       "<table border=\"1\" class=\"dataframe\">\n",
       "  <thead>\n",
       "    <tr style=\"text-align: right;\">\n",
       "      <th></th>\n",
       "      <th>annee</th>\n",
       "      <th>Aréale</th>\n",
       "      <th>Anthropologie</th>\n",
       "      <th>Démographie</th>\n",
       "      <th>Economie</th>\n",
       "      <th>Genre</th>\n",
       "      <th>Géographie</th>\n",
       "      <th>Histoire</th>\n",
       "      <th>SIC</th>\n",
       "      <th>Sociologie</th>\n",
       "      <th>Science politique</th>\n",
       "      <th>Autre interdisciplinaire</th>\n",
       "    </tr>\n",
       "  </thead>\n",
       "  <tbody>\n",
       "  </tbody>\n",
       "</table>\n",
       "</div>"
      ],
      "text/plain": [
       "Empty DataFrame\n",
       "Columns: [annee, Aréale, Anthropologie, Démographie, Economie, Genre, Géographie, Histoire, SIC, Sociologie, Science politique, Autre interdisciplinaire]\n",
       "Index: []"
      ]
     },
     "execution_count": 205,
     "metadata": {},
     "output_type": "execute_result"
    }
   ],
   "source": [
    "df"
   ]
  },
  {
   "cell_type": "code",
   "execution_count": 103,
   "metadata": {},
   "outputs": [],
   "source": [
    "unknown_revues = []\n",
    "unknown_categories = []\n",
    "for i in range(len(articles)): \n",
    "    # retrieve the publication year and the name of the revue\n",
    "    revue_i : str = articles.loc[i,'revue']\n",
    "    annee_i : int = int(articles.loc[i,'annee'])\n",
    "\n",
    "    # find if the category\n",
    "    try : \n",
    "        found_categorie : str = revues.loc[\n",
    "                                    revues.revue == revue_i,\n",
    "                                    'Dominante'].item()\n",
    "    except:\n",
    "        unknown_revues.append(revue_i)\n",
    "        pass\n",
    "\n",
    "    if found_categorie in CAT : \n",
    "        cat_label : str = found_categorie\n",
    "    else : \n",
    "        if found_categorie != 'Autre interdisciplinaire' : \n",
    "            unknown_categories.append(found_categorie)\n",
    "            \n",
    "        cat_label : str = 'Autre interdisciplinaire'\n",
    "\n",
    "    # Make sure the row for the year exists\n",
    "    if annee_i not in df['annee'].values:\n",
    "        # if not, create it\n",
    "        df.loc[len(df),:] = [annee_i] + [0] * (len(df.columns) - 1)\n",
    "    \n",
    "    # add data to df\n",
    "    df.loc[\n",
    "        df['annee'] == annee_i,\n",
    "        cat_label\n",
    "    ] += 1\n",
    "    "
   ]
  },
  {
   "cell_type": "code",
   "execution_count": 104,
   "metadata": {},
   "outputs": [
    {
     "data": {
      "text/plain": [
       "{'Commentaire', 'Éducation & formations'}"
      ]
     },
     "execution_count": 104,
     "metadata": {},
     "output_type": "execute_result"
    }
   ],
   "source": [
    "set(unknown_revues)"
   ]
  },
  {
   "cell_type": "code",
   "execution_count": 105,
   "metadata": {},
   "outputs": [
    {
     "data": {
      "text/plain": [
       "set()"
      ]
     },
     "execution_count": 105,
     "metadata": {},
     "output_type": "execute_result"
    }
   ],
   "source": [
    "set(unknown_categories)"
   ]
  },
  {
   "cell_type": "code",
   "execution_count": 112,
   "metadata": {},
   "outputs": [
    {
     "data": {
      "text/html": [
       "<div>\n",
       "<style scoped>\n",
       "    .dataframe tbody tr th:only-of-type {\n",
       "        vertical-align: middle;\n",
       "    }\n",
       "\n",
       "    .dataframe tbody tr th {\n",
       "        vertical-align: top;\n",
       "    }\n",
       "\n",
       "    .dataframe thead th {\n",
       "        text-align: right;\n",
       "    }\n",
       "</style>\n",
       "<table border=\"1\" class=\"dataframe\">\n",
       "  <thead>\n",
       "    <tr style=\"text-align: right;\">\n",
       "      <th></th>\n",
       "      <th>annee</th>\n",
       "      <th>Aréale</th>\n",
       "      <th>Anthropologie</th>\n",
       "      <th>Démographie</th>\n",
       "      <th>Economie</th>\n",
       "      <th>Genre</th>\n",
       "      <th>Géographie</th>\n",
       "      <th>Histoire</th>\n",
       "      <th>SIC</th>\n",
       "      <th>Sociologie</th>\n",
       "      <th>Science politique</th>\n",
       "      <th>Autre interdisciplinaire</th>\n",
       "    </tr>\n",
       "  </thead>\n",
       "  <tbody>\n",
       "    <tr>\n",
       "      <th>0</th>\n",
       "      <td>2001</td>\n",
       "      <td>56</td>\n",
       "      <td>80</td>\n",
       "      <td>4</td>\n",
       "      <td>29</td>\n",
       "      <td>54</td>\n",
       "      <td>15</td>\n",
       "      <td>153</td>\n",
       "      <td>87</td>\n",
       "      <td>165</td>\n",
       "      <td>200</td>\n",
       "      <td>170</td>\n",
       "    </tr>\n",
       "    <tr>\n",
       "      <th>1</th>\n",
       "      <td>2002</td>\n",
       "      <td>73</td>\n",
       "      <td>82</td>\n",
       "      <td>25</td>\n",
       "      <td>61</td>\n",
       "      <td>57</td>\n",
       "      <td>14</td>\n",
       "      <td>185</td>\n",
       "      <td>131</td>\n",
       "      <td>157</td>\n",
       "      <td>171</td>\n",
       "      <td>185</td>\n",
       "    </tr>\n",
       "    <tr>\n",
       "      <th>2</th>\n",
       "      <td>2003</td>\n",
       "      <td>146</td>\n",
       "      <td>79</td>\n",
       "      <td>23</td>\n",
       "      <td>95</td>\n",
       "      <td>72</td>\n",
       "      <td>15</td>\n",
       "      <td>176</td>\n",
       "      <td>145</td>\n",
       "      <td>200</td>\n",
       "      <td>191</td>\n",
       "      <td>253</td>\n",
       "    </tr>\n",
       "    <tr>\n",
       "      <th>3</th>\n",
       "      <td>2004</td>\n",
       "      <td>122</td>\n",
       "      <td>88</td>\n",
       "      <td>20</td>\n",
       "      <td>94</td>\n",
       "      <td>67</td>\n",
       "      <td>36</td>\n",
       "      <td>188</td>\n",
       "      <td>162</td>\n",
       "      <td>197</td>\n",
       "      <td>206</td>\n",
       "      <td>348</td>\n",
       "    </tr>\n",
       "    <tr>\n",
       "      <th>4</th>\n",
       "      <td>2005</td>\n",
       "      <td>104</td>\n",
       "      <td>87</td>\n",
       "      <td>17</td>\n",
       "      <td>109</td>\n",
       "      <td>69</td>\n",
       "      <td>45</td>\n",
       "      <td>189</td>\n",
       "      <td>130</td>\n",
       "      <td>224</td>\n",
       "      <td>159</td>\n",
       "      <td>411</td>\n",
       "    </tr>\n",
       "    <tr>\n",
       "      <th>5</th>\n",
       "      <td>2006</td>\n",
       "      <td>153</td>\n",
       "      <td>93</td>\n",
       "      <td>21</td>\n",
       "      <td>153</td>\n",
       "      <td>81</td>\n",
       "      <td>48</td>\n",
       "      <td>187</td>\n",
       "      <td>144</td>\n",
       "      <td>203</td>\n",
       "      <td>170</td>\n",
       "      <td>492</td>\n",
       "    </tr>\n",
       "    <tr>\n",
       "      <th>6</th>\n",
       "      <td>2007</td>\n",
       "      <td>139</td>\n",
       "      <td>108</td>\n",
       "      <td>36</td>\n",
       "      <td>180</td>\n",
       "      <td>64</td>\n",
       "      <td>37</td>\n",
       "      <td>238</td>\n",
       "      <td>127</td>\n",
       "      <td>285</td>\n",
       "      <td>239</td>\n",
       "      <td>524</td>\n",
       "    </tr>\n",
       "    <tr>\n",
       "      <th>7</th>\n",
       "      <td>2008</td>\n",
       "      <td>186</td>\n",
       "      <td>106</td>\n",
       "      <td>32</td>\n",
       "      <td>164</td>\n",
       "      <td>67</td>\n",
       "      <td>47</td>\n",
       "      <td>265</td>\n",
       "      <td>170</td>\n",
       "      <td>334</td>\n",
       "      <td>254</td>\n",
       "      <td>468</td>\n",
       "    </tr>\n",
       "    <tr>\n",
       "      <th>8</th>\n",
       "      <td>2009</td>\n",
       "      <td>244</td>\n",
       "      <td>91</td>\n",
       "      <td>26</td>\n",
       "      <td>120</td>\n",
       "      <td>89</td>\n",
       "      <td>39</td>\n",
       "      <td>277</td>\n",
       "      <td>184</td>\n",
       "      <td>334</td>\n",
       "      <td>236</td>\n",
       "      <td>524</td>\n",
       "    </tr>\n",
       "    <tr>\n",
       "      <th>9</th>\n",
       "      <td>2010</td>\n",
       "      <td>233</td>\n",
       "      <td>108</td>\n",
       "      <td>50</td>\n",
       "      <td>146</td>\n",
       "      <td>83</td>\n",
       "      <td>45</td>\n",
       "      <td>279</td>\n",
       "      <td>181</td>\n",
       "      <td>344</td>\n",
       "      <td>271</td>\n",
       "      <td>569</td>\n",
       "    </tr>\n",
       "    <tr>\n",
       "      <th>10</th>\n",
       "      <td>2011</td>\n",
       "      <td>225</td>\n",
       "      <td>129</td>\n",
       "      <td>34</td>\n",
       "      <td>126</td>\n",
       "      <td>94</td>\n",
       "      <td>45</td>\n",
       "      <td>286</td>\n",
       "      <td>187</td>\n",
       "      <td>431</td>\n",
       "      <td>257</td>\n",
       "      <td>537</td>\n",
       "    </tr>\n",
       "    <tr>\n",
       "      <th>11</th>\n",
       "      <td>2012</td>\n",
       "      <td>230</td>\n",
       "      <td>109</td>\n",
       "      <td>37</td>\n",
       "      <td>134</td>\n",
       "      <td>80</td>\n",
       "      <td>42</td>\n",
       "      <td>295</td>\n",
       "      <td>181</td>\n",
       "      <td>377</td>\n",
       "      <td>282</td>\n",
       "      <td>554</td>\n",
       "    </tr>\n",
       "    <tr>\n",
       "      <th>12</th>\n",
       "      <td>2013</td>\n",
       "      <td>247</td>\n",
       "      <td>106</td>\n",
       "      <td>36</td>\n",
       "      <td>141</td>\n",
       "      <td>81</td>\n",
       "      <td>44</td>\n",
       "      <td>259</td>\n",
       "      <td>156</td>\n",
       "      <td>351</td>\n",
       "      <td>281</td>\n",
       "      <td>507</td>\n",
       "    </tr>\n",
       "    <tr>\n",
       "      <th>13</th>\n",
       "      <td>2014</td>\n",
       "      <td>205</td>\n",
       "      <td>123</td>\n",
       "      <td>30</td>\n",
       "      <td>139</td>\n",
       "      <td>71</td>\n",
       "      <td>44</td>\n",
       "      <td>277</td>\n",
       "      <td>196</td>\n",
       "      <td>385</td>\n",
       "      <td>305</td>\n",
       "      <td>592</td>\n",
       "    </tr>\n",
       "    <tr>\n",
       "      <th>14</th>\n",
       "      <td>2015</td>\n",
       "      <td>268</td>\n",
       "      <td>110</td>\n",
       "      <td>31</td>\n",
       "      <td>156</td>\n",
       "      <td>66</td>\n",
       "      <td>46</td>\n",
       "      <td>296</td>\n",
       "      <td>216</td>\n",
       "      <td>411</td>\n",
       "      <td>259</td>\n",
       "      <td>516</td>\n",
       "    </tr>\n",
       "    <tr>\n",
       "      <th>15</th>\n",
       "      <td>2016</td>\n",
       "      <td>272</td>\n",
       "      <td>116</td>\n",
       "      <td>38</td>\n",
       "      <td>195</td>\n",
       "      <td>100</td>\n",
       "      <td>41</td>\n",
       "      <td>263</td>\n",
       "      <td>159</td>\n",
       "      <td>389</td>\n",
       "      <td>339</td>\n",
       "      <td>568</td>\n",
       "    </tr>\n",
       "    <tr>\n",
       "      <th>16</th>\n",
       "      <td>2017</td>\n",
       "      <td>251</td>\n",
       "      <td>116</td>\n",
       "      <td>32</td>\n",
       "      <td>162</td>\n",
       "      <td>88</td>\n",
       "      <td>67</td>\n",
       "      <td>250</td>\n",
       "      <td>191</td>\n",
       "      <td>363</td>\n",
       "      <td>281</td>\n",
       "      <td>568</td>\n",
       "    </tr>\n",
       "    <tr>\n",
       "      <th>17</th>\n",
       "      <td>2018</td>\n",
       "      <td>233</td>\n",
       "      <td>111</td>\n",
       "      <td>30</td>\n",
       "      <td>165</td>\n",
       "      <td>79</td>\n",
       "      <td>32</td>\n",
       "      <td>312</td>\n",
       "      <td>205</td>\n",
       "      <td>398</td>\n",
       "      <td>299</td>\n",
       "      <td>619</td>\n",
       "    </tr>\n",
       "    <tr>\n",
       "      <th>18</th>\n",
       "      <td>2019</td>\n",
       "      <td>256</td>\n",
       "      <td>104</td>\n",
       "      <td>39</td>\n",
       "      <td>177</td>\n",
       "      <td>72</td>\n",
       "      <td>44</td>\n",
       "      <td>334</td>\n",
       "      <td>173</td>\n",
       "      <td>383</td>\n",
       "      <td>293</td>\n",
       "      <td>501</td>\n",
       "    </tr>\n",
       "    <tr>\n",
       "      <th>19</th>\n",
       "      <td>2020</td>\n",
       "      <td>224</td>\n",
       "      <td>78</td>\n",
       "      <td>21</td>\n",
       "      <td>149</td>\n",
       "      <td>60</td>\n",
       "      <td>51</td>\n",
       "      <td>305</td>\n",
       "      <td>148</td>\n",
       "      <td>335</td>\n",
       "      <td>268</td>\n",
       "      <td>470</td>\n",
       "    </tr>\n",
       "    <tr>\n",
       "      <th>20</th>\n",
       "      <td>2021</td>\n",
       "      <td>255</td>\n",
       "      <td>210</td>\n",
       "      <td>29</td>\n",
       "      <td>153</td>\n",
       "      <td>108</td>\n",
       "      <td>59</td>\n",
       "      <td>325</td>\n",
       "      <td>189</td>\n",
       "      <td>373</td>\n",
       "      <td>308</td>\n",
       "      <td>585</td>\n",
       "    </tr>\n",
       "    <tr>\n",
       "      <th>21</th>\n",
       "      <td>2022</td>\n",
       "      <td>219</td>\n",
       "      <td>241</td>\n",
       "      <td>28</td>\n",
       "      <td>162</td>\n",
       "      <td>92</td>\n",
       "      <td>49</td>\n",
       "      <td>323</td>\n",
       "      <td>180</td>\n",
       "      <td>324</td>\n",
       "      <td>304</td>\n",
       "      <td>558</td>\n",
       "    </tr>\n",
       "    <tr>\n",
       "      <th>22</th>\n",
       "      <td>2023</td>\n",
       "      <td>191</td>\n",
       "      <td>163</td>\n",
       "      <td>10</td>\n",
       "      <td>90</td>\n",
       "      <td>74</td>\n",
       "      <td>28</td>\n",
       "      <td>214</td>\n",
       "      <td>104</td>\n",
       "      <td>208</td>\n",
       "      <td>222</td>\n",
       "      <td>434</td>\n",
       "    </tr>\n",
       "  </tbody>\n",
       "</table>\n",
       "</div>"
      ],
      "text/plain": [
       "    annee  Aréale  Anthropologie  Démographie  Economie  Genre  Géographie  \\\n",
       "0    2001      56             80            4        29     54          15   \n",
       "1    2002      73             82           25        61     57          14   \n",
       "2    2003     146             79           23        95     72          15   \n",
       "3    2004     122             88           20        94     67          36   \n",
       "4    2005     104             87           17       109     69          45   \n",
       "5    2006     153             93           21       153     81          48   \n",
       "6    2007     139            108           36       180     64          37   \n",
       "7    2008     186            106           32       164     67          47   \n",
       "8    2009     244             91           26       120     89          39   \n",
       "9    2010     233            108           50       146     83          45   \n",
       "10   2011     225            129           34       126     94          45   \n",
       "11   2012     230            109           37       134     80          42   \n",
       "12   2013     247            106           36       141     81          44   \n",
       "13   2014     205            123           30       139     71          44   \n",
       "14   2015     268            110           31       156     66          46   \n",
       "15   2016     272            116           38       195    100          41   \n",
       "16   2017     251            116           32       162     88          67   \n",
       "17   2018     233            111           30       165     79          32   \n",
       "18   2019     256            104           39       177     72          44   \n",
       "19   2020     224             78           21       149     60          51   \n",
       "20   2021     255            210           29       153    108          59   \n",
       "21   2022     219            241           28       162     92          49   \n",
       "22   2023     191            163           10        90     74          28   \n",
       "\n",
       "    Histoire  SIC  Sociologie  Science politique  Autre interdisciplinaire  \n",
       "0        153   87         165                200                       170  \n",
       "1        185  131         157                171                       185  \n",
       "2        176  145         200                191                       253  \n",
       "3        188  162         197                206                       348  \n",
       "4        189  130         224                159                       411  \n",
       "5        187  144         203                170                       492  \n",
       "6        238  127         285                239                       524  \n",
       "7        265  170         334                254                       468  \n",
       "8        277  184         334                236                       524  \n",
       "9        279  181         344                271                       569  \n",
       "10       286  187         431                257                       537  \n",
       "11       295  181         377                282                       554  \n",
       "12       259  156         351                281                       507  \n",
       "13       277  196         385                305                       592  \n",
       "14       296  216         411                259                       516  \n",
       "15       263  159         389                339                       568  \n",
       "16       250  191         363                281                       568  \n",
       "17       312  205         398                299                       619  \n",
       "18       334  173         383                293                       501  \n",
       "19       305  148         335                268                       470  \n",
       "20       325  189         373                308                       585  \n",
       "21       323  180         324                304                       558  \n",
       "22       214  104         208                222                       434  "
      ]
     },
     "execution_count": 112,
     "metadata": {},
     "output_type": "execute_result"
    }
   ],
   "source": [
    "df = df.astype({\n",
    "    \"annee\"         : int,\n",
    "    'Aréale'        : int,\n",
    "    'Anthropologie' : int,\n",
    "    'Démographie'   : int,\n",
    "    'Economie'      : int,\n",
    "    'Genre'         : int,\n",
    "    'Géographie'    : int,\n",
    "    'Histoire'      : int,\n",
    "    'SIC'           : int,\n",
    "    'Sociologie'    : int,\n",
    "    'Science politique'         : int,\n",
    "    'Autre interdisciplinaire'  : int\n",
    "})\n",
    "df = df.sort_values('annee')\n",
    "df.index = np.arange(0,len(df))\n",
    "df"
   ]
  },
  {
   "cell_type": "code",
   "execution_count": 113,
   "metadata": {},
   "outputs": [],
   "source": [
    "df.to_csv('../../data/checkpoints/categories_DRAFT.csv')"
   ]
  },
  {
   "cell_type": "markdown",
   "metadata": {},
   "source": [
    "## Being smart starts now"
   ]
  },
  {
   "cell_type": "code",
   "execution_count": 356,
   "metadata": {},
   "outputs": [],
   "source": [
    "unknown_revues = []\n",
    "unknown_categories = []\n",
    "\n",
    "found_categorie : list[str] = []\n",
    "\n",
    "for i in range(len(articles)): \n",
    "    # retrieve the publication year and the name of the revue\n",
    "    revue_i : str = articles.loc[i,'revue']\n",
    "\n",
    "    # find if the category\n",
    "    try : \n",
    "        found_categorie_i : str = revues.loc[\n",
    "                                    revues.revue == revue_i,\n",
    "                                    'Dominante'].item()\n",
    "    except:\n",
    "        unknown_revues.append(revue_i)\n",
    "        found_categorie_i = \"NaN\"\n",
    "\n",
    "    if found_categorie_i in CAT : \n",
    "        cat_label : str = found_categorie_i\n",
    "    if found_categorie_i == \"NaN\":\n",
    "        cat_label : str = \"NaN\"\n",
    "    else : \n",
    "        if found_categorie_i != 'Autre interdisciplinaire' : \n",
    "            unknown_categories.append(found_categorie)\n",
    "            \n",
    "        cat_label : str = 'Autre interdisciplinaire'\n",
    "    found_categorie.append(found_categorie_i)\n"
   ]
  },
  {
   "cell_type": "code",
   "execution_count": 357,
   "metadata": {},
   "outputs": [
    {
     "data": {
      "text/plain": [
       "['Commentaire',\n",
       " 'Commentaire',\n",
       " 'Commentaire',\n",
       " 'Commentaire',\n",
       " 'Commentaire',\n",
       " 'Commentaire',\n",
       " 'Commentaire',\n",
       " 'Commentaire',\n",
       " 'Commentaire',\n",
       " 'Commentaire',\n",
       " 'Commentaire',\n",
       " 'Commentaire',\n",
       " 'Commentaire',\n",
       " 'Commentaire',\n",
       " 'Commentaire',\n",
       " 'Commentaire',\n",
       " 'Commentaire',\n",
       " 'Éducation & formations',\n",
       " 'Éducation & formations',\n",
       " 'Éducation & formations',\n",
       " 'Éducation & formations',\n",
       " 'Éducation & formations',\n",
       " 'Éducation & formations']"
      ]
     },
     "execution_count": 357,
     "metadata": {},
     "output_type": "execute_result"
    }
   ],
   "source": [
    "unknown_revues"
   ]
  },
  {
   "cell_type": "code",
   "execution_count": 358,
   "metadata": {},
   "outputs": [
    {
     "data": {
      "text/plain": [
       "{'Anthropologie',\n",
       " 'Aréale',\n",
       " 'Autre interdisciplinaire',\n",
       " 'Démographie',\n",
       " 'Economie',\n",
       " 'Genre',\n",
       " 'Géographie',\n",
       " 'Histoire',\n",
       " 'NaN',\n",
       " 'SIC',\n",
       " 'Science politique',\n",
       " 'Sociologie',\n",
       " 'Économie'}"
      ]
     },
     "execution_count": 358,
     "metadata": {},
     "output_type": "execute_result"
    }
   ],
   "source": [
    "set(found_categorie)"
   ]
  },
  {
   "cell_type": "code",
   "execution_count": 359,
   "metadata": {},
   "outputs": [],
   "source": [
    "articles['Discipline'] = found_categorie"
   ]
  },
  {
   "cell_type": "code",
   "execution_count": 360,
   "metadata": {},
   "outputs": [
    {
     "data": {
      "text/html": [
       "<div>\n",
       "<style scoped>\n",
       "    .dataframe tbody tr th:only-of-type {\n",
       "        vertical-align: middle;\n",
       "    }\n",
       "\n",
       "    .dataframe tbody tr th {\n",
       "        vertical-align: top;\n",
       "    }\n",
       "\n",
       "    .dataframe thead th {\n",
       "        text-align: right;\n",
       "    }\n",
       "</style>\n",
       "<table border=\"1\" class=\"dataframe\">\n",
       "  <thead>\n",
       "    <tr style=\"text-align: right;\">\n",
       "      <th></th>\n",
       "      <th>revue</th>\n",
       "      <th>Discipline</th>\n",
       "    </tr>\n",
       "  </thead>\n",
       "  <tbody>\n",
       "    <tr>\n",
       "      <th>5916</th>\n",
       "      <td>Commentaire</td>\n",
       "      <td>NaN</td>\n",
       "    </tr>\n",
       "    <tr>\n",
       "      <th>5917</th>\n",
       "      <td>Commentaire</td>\n",
       "      <td>NaN</td>\n",
       "    </tr>\n",
       "    <tr>\n",
       "      <th>5918</th>\n",
       "      <td>Commentaire</td>\n",
       "      <td>NaN</td>\n",
       "    </tr>\n",
       "    <tr>\n",
       "      <th>5919</th>\n",
       "      <td>Commentaire</td>\n",
       "      <td>NaN</td>\n",
       "    </tr>\n",
       "    <tr>\n",
       "      <th>5920</th>\n",
       "      <td>Commentaire</td>\n",
       "      <td>NaN</td>\n",
       "    </tr>\n",
       "    <tr>\n",
       "      <th>5921</th>\n",
       "      <td>Commentaire</td>\n",
       "      <td>NaN</td>\n",
       "    </tr>\n",
       "    <tr>\n",
       "      <th>5922</th>\n",
       "      <td>Commentaire</td>\n",
       "      <td>NaN</td>\n",
       "    </tr>\n",
       "    <tr>\n",
       "      <th>5923</th>\n",
       "      <td>Commentaire</td>\n",
       "      <td>NaN</td>\n",
       "    </tr>\n",
       "    <tr>\n",
       "      <th>5924</th>\n",
       "      <td>Commentaire</td>\n",
       "      <td>NaN</td>\n",
       "    </tr>\n",
       "    <tr>\n",
       "      <th>5925</th>\n",
       "      <td>Commentaire</td>\n",
       "      <td>NaN</td>\n",
       "    </tr>\n",
       "    <tr>\n",
       "      <th>5926</th>\n",
       "      <td>Commentaire</td>\n",
       "      <td>NaN</td>\n",
       "    </tr>\n",
       "    <tr>\n",
       "      <th>5927</th>\n",
       "      <td>Commentaire</td>\n",
       "      <td>NaN</td>\n",
       "    </tr>\n",
       "    <tr>\n",
       "      <th>5928</th>\n",
       "      <td>Commentaire</td>\n",
       "      <td>NaN</td>\n",
       "    </tr>\n",
       "    <tr>\n",
       "      <th>5929</th>\n",
       "      <td>Commentaire</td>\n",
       "      <td>NaN</td>\n",
       "    </tr>\n",
       "    <tr>\n",
       "      <th>5930</th>\n",
       "      <td>Commentaire</td>\n",
       "      <td>NaN</td>\n",
       "    </tr>\n",
       "    <tr>\n",
       "      <th>5931</th>\n",
       "      <td>Commentaire</td>\n",
       "      <td>NaN</td>\n",
       "    </tr>\n",
       "    <tr>\n",
       "      <th>5932</th>\n",
       "      <td>Commentaire</td>\n",
       "      <td>NaN</td>\n",
       "    </tr>\n",
       "    <tr>\n",
       "      <th>8679</th>\n",
       "      <td>Éducation &amp; formations</td>\n",
       "      <td>NaN</td>\n",
       "    </tr>\n",
       "    <tr>\n",
       "      <th>8680</th>\n",
       "      <td>Éducation &amp; formations</td>\n",
       "      <td>NaN</td>\n",
       "    </tr>\n",
       "    <tr>\n",
       "      <th>8681</th>\n",
       "      <td>Éducation &amp; formations</td>\n",
       "      <td>NaN</td>\n",
       "    </tr>\n",
       "    <tr>\n",
       "      <th>8682</th>\n",
       "      <td>Éducation &amp; formations</td>\n",
       "      <td>NaN</td>\n",
       "    </tr>\n",
       "    <tr>\n",
       "      <th>8683</th>\n",
       "      <td>Éducation &amp; formations</td>\n",
       "      <td>NaN</td>\n",
       "    </tr>\n",
       "    <tr>\n",
       "      <th>8684</th>\n",
       "      <td>Éducation &amp; formations</td>\n",
       "      <td>NaN</td>\n",
       "    </tr>\n",
       "  </tbody>\n",
       "</table>\n",
       "</div>"
      ],
      "text/plain": [
       "                       revue Discipline\n",
       "5916             Commentaire        NaN\n",
       "5917             Commentaire        NaN\n",
       "5918             Commentaire        NaN\n",
       "5919             Commentaire        NaN\n",
       "5920             Commentaire        NaN\n",
       "5921             Commentaire        NaN\n",
       "5922             Commentaire        NaN\n",
       "5923             Commentaire        NaN\n",
       "5924             Commentaire        NaN\n",
       "5925             Commentaire        NaN\n",
       "5926             Commentaire        NaN\n",
       "5927             Commentaire        NaN\n",
       "5928             Commentaire        NaN\n",
       "5929             Commentaire        NaN\n",
       "5930             Commentaire        NaN\n",
       "5931             Commentaire        NaN\n",
       "5932             Commentaire        NaN\n",
       "8679  Éducation & formations        NaN\n",
       "8680  Éducation & formations        NaN\n",
       "8681  Éducation & formations        NaN\n",
       "8682  Éducation & formations        NaN\n",
       "8683  Éducation & formations        NaN\n",
       "8684  Éducation & formations        NaN"
      ]
     },
     "execution_count": 360,
     "metadata": {},
     "output_type": "execute_result"
    }
   ],
   "source": [
    "articles.loc[articles.Discipline == \"NaN\",['revue','Discipline']]"
   ]
  },
  {
   "cell_type": "code",
   "execution_count": 361,
   "metadata": {},
   "outputs": [
    {
     "data": {
      "text/html": [
       "<div>\n",
       "<style scoped>\n",
       "    .dataframe tbody tr th:only-of-type {\n",
       "        vertical-align: middle;\n",
       "    }\n",
       "\n",
       "    .dataframe tbody tr th {\n",
       "        vertical-align: top;\n",
       "    }\n",
       "\n",
       "    .dataframe thead th {\n",
       "        text-align: right;\n",
       "    }\n",
       "</style>\n",
       "<table border=\"1\" class=\"dataframe\">\n",
       "  <thead>\n",
       "    <tr style=\"text-align: right;\">\n",
       "      <th></th>\n",
       "      <th>annee</th>\n",
       "      <th>bert_genre</th>\n",
       "      <th>Discipline</th>\n",
       "    </tr>\n",
       "  </thead>\n",
       "  <tbody>\n",
       "    <tr>\n",
       "      <th>0</th>\n",
       "      <td>2001</td>\n",
       "      <td>False</td>\n",
       "      <td>Histoire</td>\n",
       "    </tr>\n",
       "    <tr>\n",
       "      <th>1</th>\n",
       "      <td>2001</td>\n",
       "      <td>False</td>\n",
       "      <td>Science politique</td>\n",
       "    </tr>\n",
       "    <tr>\n",
       "      <th>2</th>\n",
       "      <td>2001</td>\n",
       "      <td>False</td>\n",
       "      <td>Science politique</td>\n",
       "    </tr>\n",
       "    <tr>\n",
       "      <th>3</th>\n",
       "      <td>2001</td>\n",
       "      <td>False</td>\n",
       "      <td>Science politique</td>\n",
       "    </tr>\n",
       "    <tr>\n",
       "      <th>4</th>\n",
       "      <td>2001</td>\n",
       "      <td>False</td>\n",
       "      <td>Science politique</td>\n",
       "    </tr>\n",
       "  </tbody>\n",
       "</table>\n",
       "</div>"
      ],
      "text/plain": [
       "   annee  bert_genre         Discipline\n",
       "0   2001       False           Histoire\n",
       "1   2001       False  Science politique\n",
       "2   2001       False  Science politique\n",
       "3   2001       False  Science politique\n",
       "4   2001       False  Science politique"
      ]
     },
     "execution_count": 361,
     "metadata": {},
     "output_type": "execute_result"
    }
   ],
   "source": [
    "# Create usable df\n",
    "df = articles.loc[\n",
    "    articles.Discipline != \"NaN\",\n",
    "    [\"annee\", \"bert_genre\", \"Discipline\"]\n",
    "]\n",
    "df = df.sort_values('annee')\n",
    "df.index = np.arange(0,len(df))\n",
    "df.head()"
   ]
  },
  {
   "cell_type": "code",
   "execution_count": 362,
   "metadata": {},
   "outputs": [
    {
     "data": {
      "text/plain": [
       "{'Anthropologie',\n",
       " 'Aréale',\n",
       " 'Autre interdisciplinaire',\n",
       " 'Démographie',\n",
       " 'Economie',\n",
       " 'Genre',\n",
       " 'Géographie',\n",
       " 'Histoire',\n",
       " 'SIC',\n",
       " 'Science politique',\n",
       " 'Sociologie',\n",
       " 'Économie'}"
      ]
     },
     "execution_count": 362,
     "metadata": {},
     "output_type": "execute_result"
    }
   ],
   "source": [
    "set(df.Discipline)"
   ]
  },
  {
   "cell_type": "markdown",
   "metadata": {},
   "source": [
    "### organisation dataframe en 3 colonnes"
   ]
  },
  {
   "cell_type": "code",
   "execution_count": 149,
   "metadata": {},
   "outputs": [],
   "source": [
    "# create the df to plot for all the categories\n",
    "# NOTE mind the nan in bert_genre\n",
    "annee, discipline, pourcentage = [],[],[]\n",
    "\n",
    "for y,cat in product(set(df.annee), set(df.Discipline)):\n",
    "    annee.append(y)\n",
    "    discipline.append(cat)\n",
    "    pourcentage.append(\n",
    "        df.loc[\n",
    "            (df.annee == y) & (df.Discipline == cat),\n",
    "            \"bert_genre\"\n",
    "        ].mean() * 100\n",
    "    )\n",
    "\n",
    "# Add the \"Toutes\" groupe\n",
    "for y in set(df.annee):\n",
    "    annee.append(y)\n",
    "    discipline.append(\"Toutes\")\n",
    "    pourcentage.append(\n",
    "        df.loc[\n",
    "            (df.annee == y),\n",
    "            \"bert_genre\"\n",
    "        ].mean() * 100\n",
    "    )\n",
    "\n",
    "# Add the \"Toutes Sauf Genre\" groupe\n",
    "for y in set(df.annee):\n",
    "    annee.append(y)\n",
    "    discipline.append(\"Toutes sauf Genre\")\n",
    "    pourcentage.append(\n",
    "        df.loc[\n",
    "            (df.annee == y) & (df.Discipline != 'Genre'),\n",
    "            \"bert_genre\"\n",
    "        ].mean() * 100\n",
    "    )"
   ]
  },
  {
   "cell_type": "code",
   "execution_count": 159,
   "metadata": {},
   "outputs": [
    {
     "data": {
      "text/html": [
       "<div>\n",
       "<style scoped>\n",
       "    .dataframe tbody tr th:only-of-type {\n",
       "        vertical-align: middle;\n",
       "    }\n",
       "\n",
       "    .dataframe tbody tr th {\n",
       "        vertical-align: top;\n",
       "    }\n",
       "\n",
       "    .dataframe thead th {\n",
       "        text-align: right;\n",
       "    }\n",
       "</style>\n",
       "<table border=\"1\" class=\"dataframe\">\n",
       "  <thead>\n",
       "    <tr style=\"text-align: right;\">\n",
       "      <th></th>\n",
       "      <th>annee</th>\n",
       "      <th>Discipline</th>\n",
       "      <th>pourcentage</th>\n",
       "    </tr>\n",
       "  </thead>\n",
       "  <tbody>\n",
       "    <tr>\n",
       "      <th>0</th>\n",
       "      <td>2001</td>\n",
       "      <td>Science politique</td>\n",
       "      <td>1.000000</td>\n",
       "    </tr>\n",
       "    <tr>\n",
       "      <th>1</th>\n",
       "      <td>2001</td>\n",
       "      <td>Sociologie</td>\n",
       "      <td>4.242424</td>\n",
       "    </tr>\n",
       "    <tr>\n",
       "      <th>2</th>\n",
       "      <td>2001</td>\n",
       "      <td>Genre</td>\n",
       "      <td>92.592593</td>\n",
       "    </tr>\n",
       "    <tr>\n",
       "      <th>3</th>\n",
       "      <td>2001</td>\n",
       "      <td>Anthropologie</td>\n",
       "      <td>8.750000</td>\n",
       "    </tr>\n",
       "    <tr>\n",
       "      <th>4</th>\n",
       "      <td>2001</td>\n",
       "      <td>Histoire</td>\n",
       "      <td>2.614379</td>\n",
       "    </tr>\n",
       "    <tr>\n",
       "      <th>...</th>\n",
       "      <td>...</td>\n",
       "      <td>...</td>\n",
       "      <td>...</td>\n",
       "    </tr>\n",
       "    <tr>\n",
       "      <th>294</th>\n",
       "      <td>2019</td>\n",
       "      <td>Toutes sauf Genre</td>\n",
       "      <td>7.855903</td>\n",
       "    </tr>\n",
       "    <tr>\n",
       "      <th>295</th>\n",
       "      <td>2020</td>\n",
       "      <td>Toutes sauf Genre</td>\n",
       "      <td>8.247926</td>\n",
       "    </tr>\n",
       "    <tr>\n",
       "      <th>296</th>\n",
       "      <td>2021</td>\n",
       "      <td>Toutes sauf Genre</td>\n",
       "      <td>7.441673</td>\n",
       "    </tr>\n",
       "    <tr>\n",
       "      <th>297</th>\n",
       "      <td>2022</td>\n",
       "      <td>Toutes sauf Genre</td>\n",
       "      <td>9.003350</td>\n",
       "    </tr>\n",
       "    <tr>\n",
       "      <th>298</th>\n",
       "      <td>2023</td>\n",
       "      <td>Toutes sauf Genre</td>\n",
       "      <td>9.770808</td>\n",
       "    </tr>\n",
       "  </tbody>\n",
       "</table>\n",
       "<p>299 rows × 3 columns</p>\n",
       "</div>"
      ],
      "text/plain": [
       "     annee         Discipline  pourcentage\n",
       "0     2001  Science politique     1.000000\n",
       "1     2001         Sociologie     4.242424\n",
       "2     2001              Genre    92.592593\n",
       "3     2001      Anthropologie     8.750000\n",
       "4     2001           Histoire     2.614379\n",
       "..     ...                ...          ...\n",
       "294   2019  Toutes sauf Genre     7.855903\n",
       "295   2020  Toutes sauf Genre     8.247926\n",
       "296   2021  Toutes sauf Genre     7.441673\n",
       "297   2022  Toutes sauf Genre     9.003350\n",
       "298   2023  Toutes sauf Genre     9.770808\n",
       "\n",
       "[299 rows x 3 columns]"
      ]
     },
     "execution_count": 159,
     "metadata": {},
     "output_type": "execute_result"
    }
   ],
   "source": [
    "# running mean : https://stackoverflow.com/questions/13728392/moving-average-or-running-mean\n",
    "running_mean_window_lenght = 2\n",
    "window = np.ones(running_mean_window_lenght) / running_mean_window_lenght\n",
    "\n",
    "# TODO deal with running mean\n",
    "\n",
    "dfPlot = pd.DataFrame({\n",
    "    \"annee\" : annee,\n",
    "    \"Discipline\" : discipline,\n",
    "    \"pourcentage\" : pourcentage,\n",
    "})\n",
    "dfPlot"
   ]
  },
  {
   "cell_type": "markdown",
   "metadata": {},
   "source": [
    "### Organisation dataframe en N colonnes"
   ]
  },
  {
   "cell_type": "code",
   "execution_count": 363,
   "metadata": {},
   "outputs": [],
   "source": [
    "# Autre df (peut être plus simple)\n",
    "\n",
    "# create the df to plot for all the categories\n",
    "# NOTE mind the nan in bert_genre\n",
    "\n",
    "dfPlot = {\n",
    "    'annee' : list(set(df.annee))\n",
    "                        # already sorted because of previous manipulations\n",
    "}\n",
    "\n",
    "\n",
    "for y,cat in product(dfPlot['annee'], set(df.Discipline)):\n",
    "\n",
    "    if cat not in dfPlot:\n",
    "        dfPlot[cat] = []\n",
    "    dfPlot[cat].append(\n",
    "        df.loc[\n",
    "            (df.annee == y) & (df.Discipline == cat),\n",
    "            \"bert_genre\"\n",
    "        ].mean() * 100\n",
    "    )\n",
    "\n",
    "# Add the \"Toutes\" groupe\n",
    "dfPlot['Toutes'] = []\n",
    "for y in dfPlot['annee']:\n",
    "\n",
    "    dfPlot['Toutes'].append(\n",
    "        df.loc[\n",
    "            (df.annee == y),\n",
    "            \"bert_genre\"\n",
    "        ].mean() * 100\n",
    "    )\n",
    "\n",
    "# Add the \"Toutes Sauf Genre\" groupe\n",
    "dfPlot['Toutes sauf Genre'] = []\n",
    "for y in dfPlot['annee']:\n",
    "\n",
    "    dfPlot['Toutes sauf Genre'].append(\n",
    "        df.loc[\n",
    "            (df.annee == y) & df.Discipline != \"Genre\",\n",
    "            \"bert_genre\"\n",
    "        ].mean() * 100\n",
    "    )\n",
    "\n",
    "# FIXME /!\\ GENDER STUDIES !!!!"
   ]
  },
  {
   "cell_type": "code",
   "execution_count": 364,
   "metadata": {},
   "outputs": [
    {
     "data": {
      "text/html": [
       "<div>\n",
       "<style scoped>\n",
       "    .dataframe tbody tr th:only-of-type {\n",
       "        vertical-align: middle;\n",
       "    }\n",
       "\n",
       "    .dataframe tbody tr th {\n",
       "        vertical-align: top;\n",
       "    }\n",
       "\n",
       "    .dataframe thead th {\n",
       "        text-align: right;\n",
       "    }\n",
       "</style>\n",
       "<table border=\"1\" class=\"dataframe\">\n",
       "  <thead>\n",
       "    <tr style=\"text-align: right;\">\n",
       "      <th></th>\n",
       "      <th>annee</th>\n",
       "      <th>Science politique</th>\n",
       "      <th>Économie</th>\n",
       "      <th>Sociologie</th>\n",
       "      <th>Genre</th>\n",
       "      <th>Anthropologie</th>\n",
       "      <th>Histoire</th>\n",
       "      <th>Autre interdisciplinaire</th>\n",
       "      <th>Démographie</th>\n",
       "      <th>Economie</th>\n",
       "      <th>SIC</th>\n",
       "      <th>Géographie</th>\n",
       "      <th>Aréale</th>\n",
       "      <th>Toutes</th>\n",
       "      <th>Toutes sauf Genre</th>\n",
       "    </tr>\n",
       "  </thead>\n",
       "  <tbody>\n",
       "    <tr>\n",
       "      <th>0</th>\n",
       "      <td>2001</td>\n",
       "      <td>1.000000</td>\n",
       "      <td>0.000000</td>\n",
       "      <td>4.242424</td>\n",
       "      <td>92.592593</td>\n",
       "      <td>8.750000</td>\n",
       "      <td>2.614379</td>\n",
       "      <td>0.588235</td>\n",
       "      <td>25.000000</td>\n",
       "      <td>NaN</td>\n",
       "      <td>3.448276</td>\n",
       "      <td>0.000000</td>\n",
       "      <td>3.571429</td>\n",
       "      <td>7.601185</td>\n",
       "      <td>9.72676</td>\n",
       "    </tr>\n",
       "    <tr>\n",
       "      <th>1</th>\n",
       "      <td>2002</td>\n",
       "      <td>4.678363</td>\n",
       "      <td>3.333333</td>\n",
       "      <td>3.184713</td>\n",
       "      <td>91.228070</td>\n",
       "      <td>7.317073</td>\n",
       "      <td>11.351351</td>\n",
       "      <td>8.108108</td>\n",
       "      <td>24.000000</td>\n",
       "      <td>0.000000</td>\n",
       "      <td>0.000000</td>\n",
       "      <td>0.000000</td>\n",
       "      <td>4.109589</td>\n",
       "      <td>10.254163</td>\n",
       "      <td>9.72676</td>\n",
       "    </tr>\n",
       "    <tr>\n",
       "      <th>2</th>\n",
       "      <td>2003</td>\n",
       "      <td>3.141361</td>\n",
       "      <td>0.000000</td>\n",
       "      <td>8.500000</td>\n",
       "      <td>83.333333</td>\n",
       "      <td>7.594937</td>\n",
       "      <td>1.704545</td>\n",
       "      <td>6.719368</td>\n",
       "      <td>26.086957</td>\n",
       "      <td>0.000000</td>\n",
       "      <td>7.586207</td>\n",
       "      <td>0.000000</td>\n",
       "      <td>2.739726</td>\n",
       "      <td>9.318996</td>\n",
       "      <td>9.72676</td>\n",
       "    </tr>\n",
       "    <tr>\n",
       "      <th>3</th>\n",
       "      <td>2004</td>\n",
       "      <td>2.427184</td>\n",
       "      <td>0.000000</td>\n",
       "      <td>6.091371</td>\n",
       "      <td>95.522388</td>\n",
       "      <td>5.681818</td>\n",
       "      <td>3.191489</td>\n",
       "      <td>3.448276</td>\n",
       "      <td>15.000000</td>\n",
       "      <td>9.589041</td>\n",
       "      <td>2.469136</td>\n",
       "      <td>0.000000</td>\n",
       "      <td>7.377049</td>\n",
       "      <td>8.311518</td>\n",
       "      <td>9.72676</td>\n",
       "    </tr>\n",
       "    <tr>\n",
       "      <th>4</th>\n",
       "      <td>2005</td>\n",
       "      <td>2.515723</td>\n",
       "      <td>0.000000</td>\n",
       "      <td>3.125000</td>\n",
       "      <td>89.855072</td>\n",
       "      <td>17.241379</td>\n",
       "      <td>4.232804</td>\n",
       "      <td>9.489051</td>\n",
       "      <td>29.411765</td>\n",
       "      <td>0.000000</td>\n",
       "      <td>5.384615</td>\n",
       "      <td>0.000000</td>\n",
       "      <td>1.923077</td>\n",
       "      <td>9.650259</td>\n",
       "      <td>9.72676</td>\n",
       "    </tr>\n",
       "    <tr>\n",
       "      <th>5</th>\n",
       "      <td>2006</td>\n",
       "      <td>7.647059</td>\n",
       "      <td>0.000000</td>\n",
       "      <td>5.418719</td>\n",
       "      <td>93.827160</td>\n",
       "      <td>8.602151</td>\n",
       "      <td>10.695187</td>\n",
       "      <td>5.894309</td>\n",
       "      <td>23.809524</td>\n",
       "      <td>0.000000</td>\n",
       "      <td>1.388889</td>\n",
       "      <td>0.000000</td>\n",
       "      <td>1.307190</td>\n",
       "      <td>9.512894</td>\n",
       "      <td>9.72676</td>\n",
       "    </tr>\n",
       "    <tr>\n",
       "      <th>6</th>\n",
       "      <td>2007</td>\n",
       "      <td>4.184100</td>\n",
       "      <td>1.030928</td>\n",
       "      <td>15.087719</td>\n",
       "      <td>90.625000</td>\n",
       "      <td>4.629630</td>\n",
       "      <td>3.781513</td>\n",
       "      <td>6.488550</td>\n",
       "      <td>30.555556</td>\n",
       "      <td>1.204819</td>\n",
       "      <td>1.574803</td>\n",
       "      <td>2.702703</td>\n",
       "      <td>5.035971</td>\n",
       "      <td>9.205867</td>\n",
       "      <td>9.72676</td>\n",
       "    </tr>\n",
       "    <tr>\n",
       "      <th>7</th>\n",
       "      <td>2008</td>\n",
       "      <td>1.968504</td>\n",
       "      <td>0.000000</td>\n",
       "      <td>6.287425</td>\n",
       "      <td>91.044776</td>\n",
       "      <td>3.773585</td>\n",
       "      <td>3.396226</td>\n",
       "      <td>4.273504</td>\n",
       "      <td>15.625000</td>\n",
       "      <td>0.000000</td>\n",
       "      <td>2.352941</td>\n",
       "      <td>2.127660</td>\n",
       "      <td>2.688172</td>\n",
       "      <td>6.450072</td>\n",
       "      <td>9.72676</td>\n",
       "    </tr>\n",
       "    <tr>\n",
       "      <th>8</th>\n",
       "      <td>2009</td>\n",
       "      <td>5.084746</td>\n",
       "      <td>2.380952</td>\n",
       "      <td>5.389222</td>\n",
       "      <td>83.146067</td>\n",
       "      <td>6.593407</td>\n",
       "      <td>5.415162</td>\n",
       "      <td>12.213740</td>\n",
       "      <td>11.538462</td>\n",
       "      <td>1.282051</td>\n",
       "      <td>7.065217</td>\n",
       "      <td>2.564103</td>\n",
       "      <td>5.327869</td>\n",
       "      <td>10.212569</td>\n",
       "      <td>9.72676</td>\n",
       "    </tr>\n",
       "    <tr>\n",
       "      <th>9</th>\n",
       "      <td>2010</td>\n",
       "      <td>1.107011</td>\n",
       "      <td>0.000000</td>\n",
       "      <td>5.523256</td>\n",
       "      <td>95.180723</td>\n",
       "      <td>15.740741</td>\n",
       "      <td>1.433692</td>\n",
       "      <td>6.151142</td>\n",
       "      <td>26.000000</td>\n",
       "      <td>2.857143</td>\n",
       "      <td>2.762431</td>\n",
       "      <td>2.222222</td>\n",
       "      <td>4.291845</td>\n",
       "      <td>8.185362</td>\n",
       "      <td>9.72676</td>\n",
       "    </tr>\n",
       "    <tr>\n",
       "      <th>10</th>\n",
       "      <td>2011</td>\n",
       "      <td>2.334630</td>\n",
       "      <td>3.636364</td>\n",
       "      <td>6.264501</td>\n",
       "      <td>87.234043</td>\n",
       "      <td>26.356589</td>\n",
       "      <td>1.748252</td>\n",
       "      <td>3.538175</td>\n",
       "      <td>29.411765</td>\n",
       "      <td>0.000000</td>\n",
       "      <td>4.812834</td>\n",
       "      <td>0.000000</td>\n",
       "      <td>1.333333</td>\n",
       "      <td>8.379413</td>\n",
       "      <td>9.72676</td>\n",
       "    </tr>\n",
       "    <tr>\n",
       "      <th>11</th>\n",
       "      <td>2012</td>\n",
       "      <td>1.418440</td>\n",
       "      <td>1.666667</td>\n",
       "      <td>17.506631</td>\n",
       "      <td>92.500000</td>\n",
       "      <td>7.339450</td>\n",
       "      <td>6.779661</td>\n",
       "      <td>10.469314</td>\n",
       "      <td>37.837838</td>\n",
       "      <td>0.000000</td>\n",
       "      <td>1.657459</td>\n",
       "      <td>4.761905</td>\n",
       "      <td>3.913043</td>\n",
       "      <td>11.158983</td>\n",
       "      <td>9.72676</td>\n",
       "    </tr>\n",
       "    <tr>\n",
       "      <th>12</th>\n",
       "      <td>2013</td>\n",
       "      <td>6.405694</td>\n",
       "      <td>5.172414</td>\n",
       "      <td>7.122507</td>\n",
       "      <td>81.481481</td>\n",
       "      <td>16.981132</td>\n",
       "      <td>5.405405</td>\n",
       "      <td>5.325444</td>\n",
       "      <td>27.777778</td>\n",
       "      <td>1.204819</td>\n",
       "      <td>1.923077</td>\n",
       "      <td>4.545455</td>\n",
       "      <td>3.238866</td>\n",
       "      <td>8.827524</td>\n",
       "      <td>9.72676</td>\n",
       "    </tr>\n",
       "    <tr>\n",
       "      <th>13</th>\n",
       "      <td>2014</td>\n",
       "      <td>1.967213</td>\n",
       "      <td>22.619048</td>\n",
       "      <td>5.974026</td>\n",
       "      <td>88.732394</td>\n",
       "      <td>13.821138</td>\n",
       "      <td>2.527076</td>\n",
       "      <td>7.432432</td>\n",
       "      <td>26.666667</td>\n",
       "      <td>1.818182</td>\n",
       "      <td>7.142857</td>\n",
       "      <td>0.000000</td>\n",
       "      <td>1.951220</td>\n",
       "      <td>8.703000</td>\n",
       "      <td>9.72676</td>\n",
       "    </tr>\n",
       "    <tr>\n",
       "      <th>14</th>\n",
       "      <td>2015</td>\n",
       "      <td>12.741313</td>\n",
       "      <td>0.000000</td>\n",
       "      <td>8.272506</td>\n",
       "      <td>93.939394</td>\n",
       "      <td>13.636364</td>\n",
       "      <td>4.729730</td>\n",
       "      <td>7.945736</td>\n",
       "      <td>19.354839</td>\n",
       "      <td>0.000000</td>\n",
       "      <td>4.166667</td>\n",
       "      <td>2.173913</td>\n",
       "      <td>2.611940</td>\n",
       "      <td>9.347368</td>\n",
       "      <td>9.72676</td>\n",
       "    </tr>\n",
       "    <tr>\n",
       "      <th>15</th>\n",
       "      <td>2016</td>\n",
       "      <td>5.604720</td>\n",
       "      <td>0.847458</td>\n",
       "      <td>8.997429</td>\n",
       "      <td>96.000000</td>\n",
       "      <td>19.827586</td>\n",
       "      <td>3.041825</td>\n",
       "      <td>5.809859</td>\n",
       "      <td>23.684211</td>\n",
       "      <td>1.298701</td>\n",
       "      <td>0.000000</td>\n",
       "      <td>2.439024</td>\n",
       "      <td>5.147059</td>\n",
       "      <td>9.677419</td>\n",
       "      <td>9.72676</td>\n",
       "    </tr>\n",
       "    <tr>\n",
       "      <th>16</th>\n",
       "      <td>2017</td>\n",
       "      <td>3.202847</td>\n",
       "      <td>3.571429</td>\n",
       "      <td>12.672176</td>\n",
       "      <td>91.549296</td>\n",
       "      <td>22.413793</td>\n",
       "      <td>1.600000</td>\n",
       "      <td>12.500000</td>\n",
       "      <td>25.000000</td>\n",
       "      <td>2.000000</td>\n",
       "      <td>3.664921</td>\n",
       "      <td>0.000000</td>\n",
       "      <td>7.171315</td>\n",
       "      <td>11.011905</td>\n",
       "      <td>9.72676</td>\n",
       "    </tr>\n",
       "    <tr>\n",
       "      <th>17</th>\n",
       "      <td>2018</td>\n",
       "      <td>1.337793</td>\n",
       "      <td>2.777778</td>\n",
       "      <td>11.557789</td>\n",
       "      <td>93.670886</td>\n",
       "      <td>13.513514</td>\n",
       "      <td>3.205128</td>\n",
       "      <td>6.138934</td>\n",
       "      <td>26.666667</td>\n",
       "      <td>0.000000</td>\n",
       "      <td>2.926829</td>\n",
       "      <td>3.125000</td>\n",
       "      <td>6.437768</td>\n",
       "      <td>8.860250</td>\n",
       "      <td>9.72676</td>\n",
       "    </tr>\n",
       "    <tr>\n",
       "      <th>18</th>\n",
       "      <td>2019</td>\n",
       "      <td>3.071672</td>\n",
       "      <td>4.201681</td>\n",
       "      <td>8.877285</td>\n",
       "      <td>93.055556</td>\n",
       "      <td>19.230769</td>\n",
       "      <td>4.491018</td>\n",
       "      <td>11.377246</td>\n",
       "      <td>28.205128</td>\n",
       "      <td>0.000000</td>\n",
       "      <td>5.202312</td>\n",
       "      <td>0.000000</td>\n",
       "      <td>8.203125</td>\n",
       "      <td>10.437710</td>\n",
       "      <td>9.72676</td>\n",
       "    </tr>\n",
       "    <tr>\n",
       "      <th>19</th>\n",
       "      <td>2020</td>\n",
       "      <td>6.343284</td>\n",
       "      <td>4.123711</td>\n",
       "      <td>8.955224</td>\n",
       "      <td>95.000000</td>\n",
       "      <td>10.256410</td>\n",
       "      <td>9.180328</td>\n",
       "      <td>11.702128</td>\n",
       "      <td>28.571429</td>\n",
       "      <td>1.923077</td>\n",
       "      <td>6.081081</td>\n",
       "      <td>0.000000</td>\n",
       "      <td>4.910714</td>\n",
       "      <td>10.715979</td>\n",
       "      <td>9.72676</td>\n",
       "    </tr>\n",
       "    <tr>\n",
       "      <th>20</th>\n",
       "      <td>2021</td>\n",
       "      <td>5.844156</td>\n",
       "      <td>6.741573</td>\n",
       "      <td>7.774799</td>\n",
       "      <td>95.370370</td>\n",
       "      <td>7.619048</td>\n",
       "      <td>4.923077</td>\n",
       "      <td>11.111111</td>\n",
       "      <td>17.241379</td>\n",
       "      <td>1.562500</td>\n",
       "      <td>2.116402</td>\n",
       "      <td>0.000000</td>\n",
       "      <td>9.803922</td>\n",
       "      <td>11.102544</td>\n",
       "      <td>9.72676</td>\n",
       "    </tr>\n",
       "    <tr>\n",
       "      <th>21</th>\n",
       "      <td>2022</td>\n",
       "      <td>8.552632</td>\n",
       "      <td>5.128205</td>\n",
       "      <td>15.123457</td>\n",
       "      <td>91.304348</td>\n",
       "      <td>6.224066</td>\n",
       "      <td>8.359133</td>\n",
       "      <td>8.960573</td>\n",
       "      <td>32.142857</td>\n",
       "      <td>2.222222</td>\n",
       "      <td>4.444444</td>\n",
       "      <td>2.040816</td>\n",
       "      <td>10.502283</td>\n",
       "      <td>12.056452</td>\n",
       "      <td>9.72676</td>\n",
       "    </tr>\n",
       "    <tr>\n",
       "      <th>22</th>\n",
       "      <td>2023</td>\n",
       "      <td>7.657658</td>\n",
       "      <td>2.469136</td>\n",
       "      <td>8.415842</td>\n",
       "      <td>95.945946</td>\n",
       "      <td>6.748466</td>\n",
       "      <td>10.280374</td>\n",
       "      <td>12.442396</td>\n",
       "      <td>40.000000</td>\n",
       "      <td>0.000000</td>\n",
       "      <td>8.653846</td>\n",
       "      <td>0.000000</td>\n",
       "      <td>13.612565</td>\n",
       "      <td>13.452656</td>\n",
       "      <td>9.72676</td>\n",
       "    </tr>\n",
       "  </tbody>\n",
       "</table>\n",
       "</div>"
      ],
      "text/plain": [
       "    annee  Science politique   Économie  Sociologie      Genre  Anthropologie  \\\n",
       "0    2001           1.000000   0.000000    4.242424  92.592593       8.750000   \n",
       "1    2002           4.678363   3.333333    3.184713  91.228070       7.317073   \n",
       "2    2003           3.141361   0.000000    8.500000  83.333333       7.594937   \n",
       "3    2004           2.427184   0.000000    6.091371  95.522388       5.681818   \n",
       "4    2005           2.515723   0.000000    3.125000  89.855072      17.241379   \n",
       "5    2006           7.647059   0.000000    5.418719  93.827160       8.602151   \n",
       "6    2007           4.184100   1.030928   15.087719  90.625000       4.629630   \n",
       "7    2008           1.968504   0.000000    6.287425  91.044776       3.773585   \n",
       "8    2009           5.084746   2.380952    5.389222  83.146067       6.593407   \n",
       "9    2010           1.107011   0.000000    5.523256  95.180723      15.740741   \n",
       "10   2011           2.334630   3.636364    6.264501  87.234043      26.356589   \n",
       "11   2012           1.418440   1.666667   17.506631  92.500000       7.339450   \n",
       "12   2013           6.405694   5.172414    7.122507  81.481481      16.981132   \n",
       "13   2014           1.967213  22.619048    5.974026  88.732394      13.821138   \n",
       "14   2015          12.741313   0.000000    8.272506  93.939394      13.636364   \n",
       "15   2016           5.604720   0.847458    8.997429  96.000000      19.827586   \n",
       "16   2017           3.202847   3.571429   12.672176  91.549296      22.413793   \n",
       "17   2018           1.337793   2.777778   11.557789  93.670886      13.513514   \n",
       "18   2019           3.071672   4.201681    8.877285  93.055556      19.230769   \n",
       "19   2020           6.343284   4.123711    8.955224  95.000000      10.256410   \n",
       "20   2021           5.844156   6.741573    7.774799  95.370370       7.619048   \n",
       "21   2022           8.552632   5.128205   15.123457  91.304348       6.224066   \n",
       "22   2023           7.657658   2.469136    8.415842  95.945946       6.748466   \n",
       "\n",
       "     Histoire  Autre interdisciplinaire  Démographie  Economie       SIC  \\\n",
       "0    2.614379                  0.588235    25.000000       NaN  3.448276   \n",
       "1   11.351351                  8.108108    24.000000  0.000000  0.000000   \n",
       "2    1.704545                  6.719368    26.086957  0.000000  7.586207   \n",
       "3    3.191489                  3.448276    15.000000  9.589041  2.469136   \n",
       "4    4.232804                  9.489051    29.411765  0.000000  5.384615   \n",
       "5   10.695187                  5.894309    23.809524  0.000000  1.388889   \n",
       "6    3.781513                  6.488550    30.555556  1.204819  1.574803   \n",
       "7    3.396226                  4.273504    15.625000  0.000000  2.352941   \n",
       "8    5.415162                 12.213740    11.538462  1.282051  7.065217   \n",
       "9    1.433692                  6.151142    26.000000  2.857143  2.762431   \n",
       "10   1.748252                  3.538175    29.411765  0.000000  4.812834   \n",
       "11   6.779661                 10.469314    37.837838  0.000000  1.657459   \n",
       "12   5.405405                  5.325444    27.777778  1.204819  1.923077   \n",
       "13   2.527076                  7.432432    26.666667  1.818182  7.142857   \n",
       "14   4.729730                  7.945736    19.354839  0.000000  4.166667   \n",
       "15   3.041825                  5.809859    23.684211  1.298701  0.000000   \n",
       "16   1.600000                 12.500000    25.000000  2.000000  3.664921   \n",
       "17   3.205128                  6.138934    26.666667  0.000000  2.926829   \n",
       "18   4.491018                 11.377246    28.205128  0.000000  5.202312   \n",
       "19   9.180328                 11.702128    28.571429  1.923077  6.081081   \n",
       "20   4.923077                 11.111111    17.241379  1.562500  2.116402   \n",
       "21   8.359133                  8.960573    32.142857  2.222222  4.444444   \n",
       "22  10.280374                 12.442396    40.000000  0.000000  8.653846   \n",
       "\n",
       "    Géographie     Aréale     Toutes  Toutes sauf Genre  \n",
       "0     0.000000   3.571429   7.601185            9.72676  \n",
       "1     0.000000   4.109589  10.254163            9.72676  \n",
       "2     0.000000   2.739726   9.318996            9.72676  \n",
       "3     0.000000   7.377049   8.311518            9.72676  \n",
       "4     0.000000   1.923077   9.650259            9.72676  \n",
       "5     0.000000   1.307190   9.512894            9.72676  \n",
       "6     2.702703   5.035971   9.205867            9.72676  \n",
       "7     2.127660   2.688172   6.450072            9.72676  \n",
       "8     2.564103   5.327869  10.212569            9.72676  \n",
       "9     2.222222   4.291845   8.185362            9.72676  \n",
       "10    0.000000   1.333333   8.379413            9.72676  \n",
       "11    4.761905   3.913043  11.158983            9.72676  \n",
       "12    4.545455   3.238866   8.827524            9.72676  \n",
       "13    0.000000   1.951220   8.703000            9.72676  \n",
       "14    2.173913   2.611940   9.347368            9.72676  \n",
       "15    2.439024   5.147059   9.677419            9.72676  \n",
       "16    0.000000   7.171315  11.011905            9.72676  \n",
       "17    3.125000   6.437768   8.860250            9.72676  \n",
       "18    0.000000   8.203125  10.437710            9.72676  \n",
       "19    0.000000   4.910714  10.715979            9.72676  \n",
       "20    0.000000   9.803922  11.102544            9.72676  \n",
       "21    2.040816  10.502283  12.056452            9.72676  \n",
       "22    0.000000  13.612565  13.452656            9.72676  "
      ]
     },
     "execution_count": 364,
     "metadata": {},
     "output_type": "execute_result"
    }
   ],
   "source": [
    "dfPlot = pd.DataFrame(dfPlot)\n",
    "dfPlot"
   ]
  },
  {
   "cell_type": "code",
   "execution_count": 385,
   "metadata": {},
   "outputs": [
    {
     "data": {
      "text/html": [
       "<div>\n",
       "<style scoped>\n",
       "    .dataframe tbody tr th:only-of-type {\n",
       "        vertical-align: middle;\n",
       "    }\n",
       "\n",
       "    .dataframe tbody tr th {\n",
       "        vertical-align: top;\n",
       "    }\n",
       "\n",
       "    .dataframe thead th {\n",
       "        text-align: right;\n",
       "    }\n",
       "</style>\n",
       "<table border=\"1\" class=\"dataframe\">\n",
       "  <thead>\n",
       "    <tr style=\"text-align: right;\">\n",
       "      <th>annee</th>\n",
       "      <th>2001</th>\n",
       "      <th>2002</th>\n",
       "      <th>2003</th>\n",
       "      <th>2004</th>\n",
       "      <th>2005</th>\n",
       "      <th>2006</th>\n",
       "      <th>2007</th>\n",
       "      <th>2008</th>\n",
       "      <th>2009</th>\n",
       "      <th>2010</th>\n",
       "      <th>...</th>\n",
       "      <th>2014</th>\n",
       "      <th>2015</th>\n",
       "      <th>2016</th>\n",
       "      <th>2017</th>\n",
       "      <th>2018</th>\n",
       "      <th>2019</th>\n",
       "      <th>2020</th>\n",
       "      <th>2021</th>\n",
       "      <th>2022</th>\n",
       "      <th>2023</th>\n",
       "    </tr>\n",
       "  </thead>\n",
       "  <tbody>\n",
       "    <tr>\n",
       "      <th>Démographie</th>\n",
       "      <td>25.000000</td>\n",
       "      <td>24.000000</td>\n",
       "      <td>26.086957</td>\n",
       "      <td>15.000000</td>\n",
       "      <td>29.411765</td>\n",
       "      <td>23.809524</td>\n",
       "      <td>30.555556</td>\n",
       "      <td>15.625000</td>\n",
       "      <td>11.538462</td>\n",
       "      <td>26.000000</td>\n",
       "      <td>...</td>\n",
       "      <td>26.666667</td>\n",
       "      <td>19.354839</td>\n",
       "      <td>23.684211</td>\n",
       "      <td>25.000000</td>\n",
       "      <td>26.666667</td>\n",
       "      <td>28.205128</td>\n",
       "      <td>28.571429</td>\n",
       "      <td>17.241379</td>\n",
       "      <td>32.142857</td>\n",
       "      <td>40.000000</td>\n",
       "    </tr>\n",
       "    <tr>\n",
       "      <th>Anthropologie</th>\n",
       "      <td>8.750000</td>\n",
       "      <td>7.317073</td>\n",
       "      <td>7.594937</td>\n",
       "      <td>5.681818</td>\n",
       "      <td>17.241379</td>\n",
       "      <td>8.602151</td>\n",
       "      <td>4.629630</td>\n",
       "      <td>3.773585</td>\n",
       "      <td>6.593407</td>\n",
       "      <td>15.740741</td>\n",
       "      <td>...</td>\n",
       "      <td>13.821138</td>\n",
       "      <td>13.636364</td>\n",
       "      <td>19.827586</td>\n",
       "      <td>22.413793</td>\n",
       "      <td>13.513514</td>\n",
       "      <td>19.230769</td>\n",
       "      <td>10.256410</td>\n",
       "      <td>7.619048</td>\n",
       "      <td>6.224066</td>\n",
       "      <td>6.748466</td>\n",
       "    </tr>\n",
       "    <tr>\n",
       "      <th>Toutes sauf Genre</th>\n",
       "      <td>9.726760</td>\n",
       "      <td>9.726760</td>\n",
       "      <td>9.726760</td>\n",
       "      <td>9.726760</td>\n",
       "      <td>9.726760</td>\n",
       "      <td>9.726760</td>\n",
       "      <td>9.726760</td>\n",
       "      <td>9.726760</td>\n",
       "      <td>9.726760</td>\n",
       "      <td>9.726760</td>\n",
       "      <td>...</td>\n",
       "      <td>9.726760</td>\n",
       "      <td>9.726760</td>\n",
       "      <td>9.726760</td>\n",
       "      <td>9.726760</td>\n",
       "      <td>9.726760</td>\n",
       "      <td>9.726760</td>\n",
       "      <td>9.726760</td>\n",
       "      <td>9.726760</td>\n",
       "      <td>9.726760</td>\n",
       "      <td>9.726760</td>\n",
       "    </tr>\n",
       "    <tr>\n",
       "      <th>Toutes</th>\n",
       "      <td>7.601185</td>\n",
       "      <td>10.254163</td>\n",
       "      <td>9.318996</td>\n",
       "      <td>8.311518</td>\n",
       "      <td>9.650259</td>\n",
       "      <td>9.512894</td>\n",
       "      <td>9.205867</td>\n",
       "      <td>6.450072</td>\n",
       "      <td>10.212569</td>\n",
       "      <td>8.185362</td>\n",
       "      <td>...</td>\n",
       "      <td>8.703000</td>\n",
       "      <td>9.347368</td>\n",
       "      <td>9.677419</td>\n",
       "      <td>11.011905</td>\n",
       "      <td>8.860250</td>\n",
       "      <td>10.437710</td>\n",
       "      <td>10.715979</td>\n",
       "      <td>11.102544</td>\n",
       "      <td>12.056452</td>\n",
       "      <td>13.452656</td>\n",
       "    </tr>\n",
       "    <tr>\n",
       "      <th>Sociologie</th>\n",
       "      <td>4.242424</td>\n",
       "      <td>3.184713</td>\n",
       "      <td>8.500000</td>\n",
       "      <td>6.091371</td>\n",
       "      <td>3.125000</td>\n",
       "      <td>5.418719</td>\n",
       "      <td>15.087719</td>\n",
       "      <td>6.287425</td>\n",
       "      <td>5.389222</td>\n",
       "      <td>5.523256</td>\n",
       "      <td>...</td>\n",
       "      <td>5.974026</td>\n",
       "      <td>8.272506</td>\n",
       "      <td>8.997429</td>\n",
       "      <td>12.672176</td>\n",
       "      <td>11.557789</td>\n",
       "      <td>8.877285</td>\n",
       "      <td>8.955224</td>\n",
       "      <td>7.774799</td>\n",
       "      <td>15.123457</td>\n",
       "      <td>8.415842</td>\n",
       "    </tr>\n",
       "    <tr>\n",
       "      <th>Autre interdisciplinaire</th>\n",
       "      <td>0.588235</td>\n",
       "      <td>8.108108</td>\n",
       "      <td>6.719368</td>\n",
       "      <td>3.448276</td>\n",
       "      <td>9.489051</td>\n",
       "      <td>5.894309</td>\n",
       "      <td>6.488550</td>\n",
       "      <td>4.273504</td>\n",
       "      <td>12.213740</td>\n",
       "      <td>6.151142</td>\n",
       "      <td>...</td>\n",
       "      <td>7.432432</td>\n",
       "      <td>7.945736</td>\n",
       "      <td>5.809859</td>\n",
       "      <td>12.500000</td>\n",
       "      <td>6.138934</td>\n",
       "      <td>11.377246</td>\n",
       "      <td>11.702128</td>\n",
       "      <td>11.111111</td>\n",
       "      <td>8.960573</td>\n",
       "      <td>12.442396</td>\n",
       "    </tr>\n",
       "    <tr>\n",
       "      <th>Aréale</th>\n",
       "      <td>3.571429</td>\n",
       "      <td>4.109589</td>\n",
       "      <td>2.739726</td>\n",
       "      <td>7.377049</td>\n",
       "      <td>1.923077</td>\n",
       "      <td>1.307190</td>\n",
       "      <td>5.035971</td>\n",
       "      <td>2.688172</td>\n",
       "      <td>5.327869</td>\n",
       "      <td>4.291845</td>\n",
       "      <td>...</td>\n",
       "      <td>1.951220</td>\n",
       "      <td>2.611940</td>\n",
       "      <td>5.147059</td>\n",
       "      <td>7.171315</td>\n",
       "      <td>6.437768</td>\n",
       "      <td>8.203125</td>\n",
       "      <td>4.910714</td>\n",
       "      <td>9.803922</td>\n",
       "      <td>10.502283</td>\n",
       "      <td>13.612565</td>\n",
       "    </tr>\n",
       "    <tr>\n",
       "      <th>Histoire</th>\n",
       "      <td>2.614379</td>\n",
       "      <td>11.351351</td>\n",
       "      <td>1.704545</td>\n",
       "      <td>3.191489</td>\n",
       "      <td>4.232804</td>\n",
       "      <td>10.695187</td>\n",
       "      <td>3.781513</td>\n",
       "      <td>3.396226</td>\n",
       "      <td>5.415162</td>\n",
       "      <td>1.433692</td>\n",
       "      <td>...</td>\n",
       "      <td>2.527076</td>\n",
       "      <td>4.729730</td>\n",
       "      <td>3.041825</td>\n",
       "      <td>1.600000</td>\n",
       "      <td>3.205128</td>\n",
       "      <td>4.491018</td>\n",
       "      <td>9.180328</td>\n",
       "      <td>4.923077</td>\n",
       "      <td>8.359133</td>\n",
       "      <td>10.280374</td>\n",
       "    </tr>\n",
       "    <tr>\n",
       "      <th>Science politique</th>\n",
       "      <td>1.000000</td>\n",
       "      <td>4.678363</td>\n",
       "      <td>3.141361</td>\n",
       "      <td>2.427184</td>\n",
       "      <td>2.515723</td>\n",
       "      <td>7.647059</td>\n",
       "      <td>4.184100</td>\n",
       "      <td>1.968504</td>\n",
       "      <td>5.084746</td>\n",
       "      <td>1.107011</td>\n",
       "      <td>...</td>\n",
       "      <td>1.967213</td>\n",
       "      <td>12.741313</td>\n",
       "      <td>5.604720</td>\n",
       "      <td>3.202847</td>\n",
       "      <td>1.337793</td>\n",
       "      <td>3.071672</td>\n",
       "      <td>6.343284</td>\n",
       "      <td>5.844156</td>\n",
       "      <td>8.552632</td>\n",
       "      <td>7.657658</td>\n",
       "    </tr>\n",
       "    <tr>\n",
       "      <th>SIC</th>\n",
       "      <td>3.448276</td>\n",
       "      <td>0.000000</td>\n",
       "      <td>7.586207</td>\n",
       "      <td>2.469136</td>\n",
       "      <td>5.384615</td>\n",
       "      <td>1.388889</td>\n",
       "      <td>1.574803</td>\n",
       "      <td>2.352941</td>\n",
       "      <td>7.065217</td>\n",
       "      <td>2.762431</td>\n",
       "      <td>...</td>\n",
       "      <td>7.142857</td>\n",
       "      <td>4.166667</td>\n",
       "      <td>0.000000</td>\n",
       "      <td>3.664921</td>\n",
       "      <td>2.926829</td>\n",
       "      <td>5.202312</td>\n",
       "      <td>6.081081</td>\n",
       "      <td>2.116402</td>\n",
       "      <td>4.444444</td>\n",
       "      <td>8.653846</td>\n",
       "    </tr>\n",
       "    <tr>\n",
       "      <th>Économie</th>\n",
       "      <td>0.000000</td>\n",
       "      <td>3.333333</td>\n",
       "      <td>0.000000</td>\n",
       "      <td>0.000000</td>\n",
       "      <td>0.000000</td>\n",
       "      <td>0.000000</td>\n",
       "      <td>1.030928</td>\n",
       "      <td>0.000000</td>\n",
       "      <td>2.380952</td>\n",
       "      <td>0.000000</td>\n",
       "      <td>...</td>\n",
       "      <td>22.619048</td>\n",
       "      <td>0.000000</td>\n",
       "      <td>0.847458</td>\n",
       "      <td>3.571429</td>\n",
       "      <td>2.777778</td>\n",
       "      <td>4.201681</td>\n",
       "      <td>4.123711</td>\n",
       "      <td>6.741573</td>\n",
       "      <td>5.128205</td>\n",
       "      <td>2.469136</td>\n",
       "    </tr>\n",
       "    <tr>\n",
       "      <th>Géographie</th>\n",
       "      <td>0.000000</td>\n",
       "      <td>0.000000</td>\n",
       "      <td>0.000000</td>\n",
       "      <td>0.000000</td>\n",
       "      <td>0.000000</td>\n",
       "      <td>0.000000</td>\n",
       "      <td>2.702703</td>\n",
       "      <td>2.127660</td>\n",
       "      <td>2.564103</td>\n",
       "      <td>2.222222</td>\n",
       "      <td>...</td>\n",
       "      <td>0.000000</td>\n",
       "      <td>2.173913</td>\n",
       "      <td>2.439024</td>\n",
       "      <td>0.000000</td>\n",
       "      <td>3.125000</td>\n",
       "      <td>0.000000</td>\n",
       "      <td>0.000000</td>\n",
       "      <td>0.000000</td>\n",
       "      <td>2.040816</td>\n",
       "      <td>0.000000</td>\n",
       "    </tr>\n",
       "    <tr>\n",
       "      <th>Economie</th>\n",
       "      <td>NaN</td>\n",
       "      <td>0.000000</td>\n",
       "      <td>0.000000</td>\n",
       "      <td>9.589041</td>\n",
       "      <td>0.000000</td>\n",
       "      <td>0.000000</td>\n",
       "      <td>1.204819</td>\n",
       "      <td>0.000000</td>\n",
       "      <td>1.282051</td>\n",
       "      <td>2.857143</td>\n",
       "      <td>...</td>\n",
       "      <td>1.818182</td>\n",
       "      <td>0.000000</td>\n",
       "      <td>1.298701</td>\n",
       "      <td>2.000000</td>\n",
       "      <td>0.000000</td>\n",
       "      <td>0.000000</td>\n",
       "      <td>1.923077</td>\n",
       "      <td>1.562500</td>\n",
       "      <td>2.222222</td>\n",
       "      <td>0.000000</td>\n",
       "    </tr>\n",
       "  </tbody>\n",
       "</table>\n",
       "<p>13 rows × 23 columns</p>\n",
       "</div>"
      ],
      "text/plain": [
       "annee                          2001       2002       2003       2004  \\\n",
       "Démographie               25.000000  24.000000  26.086957  15.000000   \n",
       "Anthropologie              8.750000   7.317073   7.594937   5.681818   \n",
       "Toutes sauf Genre          9.726760   9.726760   9.726760   9.726760   \n",
       "Toutes                     7.601185  10.254163   9.318996   8.311518   \n",
       "Sociologie                 4.242424   3.184713   8.500000   6.091371   \n",
       "Autre interdisciplinaire   0.588235   8.108108   6.719368   3.448276   \n",
       "Aréale                     3.571429   4.109589   2.739726   7.377049   \n",
       "Histoire                   2.614379  11.351351   1.704545   3.191489   \n",
       "Science politique          1.000000   4.678363   3.141361   2.427184   \n",
       "SIC                        3.448276   0.000000   7.586207   2.469136   \n",
       "Économie                   0.000000   3.333333   0.000000   0.000000   \n",
       "Géographie                 0.000000   0.000000   0.000000   0.000000   \n",
       "Economie                        NaN   0.000000   0.000000   9.589041   \n",
       "\n",
       "annee                          2005       2006       2007       2008  \\\n",
       "Démographie               29.411765  23.809524  30.555556  15.625000   \n",
       "Anthropologie             17.241379   8.602151   4.629630   3.773585   \n",
       "Toutes sauf Genre          9.726760   9.726760   9.726760   9.726760   \n",
       "Toutes                     9.650259   9.512894   9.205867   6.450072   \n",
       "Sociologie                 3.125000   5.418719  15.087719   6.287425   \n",
       "Autre interdisciplinaire   9.489051   5.894309   6.488550   4.273504   \n",
       "Aréale                     1.923077   1.307190   5.035971   2.688172   \n",
       "Histoire                   4.232804  10.695187   3.781513   3.396226   \n",
       "Science politique          2.515723   7.647059   4.184100   1.968504   \n",
       "SIC                        5.384615   1.388889   1.574803   2.352941   \n",
       "Économie                   0.000000   0.000000   1.030928   0.000000   \n",
       "Géographie                 0.000000   0.000000   2.702703   2.127660   \n",
       "Economie                   0.000000   0.000000   1.204819   0.000000   \n",
       "\n",
       "annee                          2009       2010  ...       2014       2015  \\\n",
       "Démographie               11.538462  26.000000  ...  26.666667  19.354839   \n",
       "Anthropologie              6.593407  15.740741  ...  13.821138  13.636364   \n",
       "Toutes sauf Genre          9.726760   9.726760  ...   9.726760   9.726760   \n",
       "Toutes                    10.212569   8.185362  ...   8.703000   9.347368   \n",
       "Sociologie                 5.389222   5.523256  ...   5.974026   8.272506   \n",
       "Autre interdisciplinaire  12.213740   6.151142  ...   7.432432   7.945736   \n",
       "Aréale                     5.327869   4.291845  ...   1.951220   2.611940   \n",
       "Histoire                   5.415162   1.433692  ...   2.527076   4.729730   \n",
       "Science politique          5.084746   1.107011  ...   1.967213  12.741313   \n",
       "SIC                        7.065217   2.762431  ...   7.142857   4.166667   \n",
       "Économie                   2.380952   0.000000  ...  22.619048   0.000000   \n",
       "Géographie                 2.564103   2.222222  ...   0.000000   2.173913   \n",
       "Economie                   1.282051   2.857143  ...   1.818182   0.000000   \n",
       "\n",
       "annee                          2016       2017       2018       2019  \\\n",
       "Démographie               23.684211  25.000000  26.666667  28.205128   \n",
       "Anthropologie             19.827586  22.413793  13.513514  19.230769   \n",
       "Toutes sauf Genre          9.726760   9.726760   9.726760   9.726760   \n",
       "Toutes                     9.677419  11.011905   8.860250  10.437710   \n",
       "Sociologie                 8.997429  12.672176  11.557789   8.877285   \n",
       "Autre interdisciplinaire   5.809859  12.500000   6.138934  11.377246   \n",
       "Aréale                     5.147059   7.171315   6.437768   8.203125   \n",
       "Histoire                   3.041825   1.600000   3.205128   4.491018   \n",
       "Science politique          5.604720   3.202847   1.337793   3.071672   \n",
       "SIC                        0.000000   3.664921   2.926829   5.202312   \n",
       "Économie                   0.847458   3.571429   2.777778   4.201681   \n",
       "Géographie                 2.439024   0.000000   3.125000   0.000000   \n",
       "Economie                   1.298701   2.000000   0.000000   0.000000   \n",
       "\n",
       "annee                          2020       2021       2022       2023  \n",
       "Démographie               28.571429  17.241379  32.142857  40.000000  \n",
       "Anthropologie             10.256410   7.619048   6.224066   6.748466  \n",
       "Toutes sauf Genre          9.726760   9.726760   9.726760   9.726760  \n",
       "Toutes                    10.715979  11.102544  12.056452  13.452656  \n",
       "Sociologie                 8.955224   7.774799  15.123457   8.415842  \n",
       "Autre interdisciplinaire  11.702128  11.111111   8.960573  12.442396  \n",
       "Aréale                     4.910714   9.803922  10.502283  13.612565  \n",
       "Histoire                   9.180328   4.923077   8.359133  10.280374  \n",
       "Science politique          6.343284   5.844156   8.552632   7.657658  \n",
       "SIC                        6.081081   2.116402   4.444444   8.653846  \n",
       "Économie                   4.123711   6.741573   5.128205   2.469136  \n",
       "Géographie                 0.000000   0.000000   2.040816   0.000000  \n",
       "Economie                   1.923077   1.562500   2.222222   0.000000  \n",
       "\n",
       "[13 rows x 23 columns]"
      ]
     },
     "execution_count": 385,
     "metadata": {},
     "output_type": "execute_result"
    }
   ],
   "source": []
  },
  {
   "cell_type": "code",
   "execution_count": 391,
   "metadata": {},
   "outputs": [
    {
     "data": {
      "application/vnd.plotly.v1+json": {
       "config": {
        "plotlyServerURL": "https://plot.ly"
       },
       "data": [
        {
         "coloraxis": "coloraxis",
         "hovertemplate": "annee: %{x}<br>y: %{y}<br>color: %{z}<extra></extra>",
         "name": "0",
         "type": "heatmap",
         "x": [
          2001,
          2002,
          2003,
          2004,
          2005,
          2006,
          2007,
          2008,
          2009,
          2010,
          2011,
          2012,
          2013,
          2014,
          2015,
          2016,
          2017,
          2018,
          2019,
          2020,
          2021,
          2022,
          2023
         ],
         "xaxis": "x",
         "y": [
          "Démographie",
          "Anthropologie",
          "Sociologie",
          "Autre interdisciplinaire",
          "Aréale",
          "Histoire",
          "Science politique",
          "SIC",
          "Économie",
          "Géographie",
          "Economie"
         ],
         "yaxis": "y",
         "z": [
          [
           25,
           24,
           26.08695652173913,
           15,
           29.411764705882355,
           23.809523809523807,
           30.555555555555557,
           15.625,
           11.538461538461538,
           26,
           29.411764705882355,
           37.83783783783784,
           27.77777777777778,
           26.666666666666668,
           19.35483870967742,
           23.684210526315788,
           25,
           26.666666666666668,
           28.205128205128204,
           28.57142857142857,
           17.24137931034483,
           32.142857142857146,
           40
          ],
          [
           8.75,
           7.317073170731707,
           7.59493670886076,
           5.681818181818182,
           17.24137931034483,
           8.60215053763441,
           4.62962962962963,
           3.7735849056603774,
           6.593406593406594,
           15.74074074074074,
           26.356589147286826,
           7.339449541284404,
           16.9811320754717,
           13.821138211382115,
           13.636363636363635,
           19.82758620689655,
           22.413793103448278,
           13.513513513513514,
           19.230769230769234,
           10.256410256410255,
           7.6190476190476195,
           6.224066390041494,
           6.748466257668712
          ],
          [
           4.242424242424243,
           3.1847133757961785,
           8.5,
           6.091370558375635,
           3.125,
           5.41871921182266,
           15.087719298245613,
           6.287425149700598,
           5.389221556886228,
           5.523255813953488,
           6.2645011600928076,
           17.50663129973475,
           7.122507122507122,
           5.974025974025974,
           8.27250608272506,
           8.997429305912597,
           12.672176308539946,
           11.557788944723619,
           8.87728459530026,
           8.955223880597014,
           7.774798927613941,
           15.123456790123457,
           8.415841584158416
          ],
          [
           0.5882352941176471,
           8.108108108108109,
           6.719367588932807,
           3.4482758620689653,
           9.48905109489051,
           5.894308943089431,
           6.488549618320611,
           4.273504273504273,
           12.213740458015266,
           6.151142355008787,
           3.5381750465549344,
           10.469314079422382,
           5.325443786982249,
           7.4324324324324325,
           7.945736434108527,
           5.809859154929577,
           12.5,
           6.138933764135703,
           11.377245508982035,
           11.702127659574469,
           11.11111111111111,
           8.960573476702509,
           12.442396313364055
          ],
          [
           3.571428571428571,
           4.10958904109589,
           2.73972602739726,
           7.377049180327869,
           1.9230769230769231,
           1.3071895424836601,
           5.0359712230215825,
           2.6881720430107525,
           5.327868852459016,
           4.291845493562231,
           1.3333333333333335,
           3.91304347826087,
           3.2388663967611335,
           1.951219512195122,
           2.6119402985074625,
           5.147058823529411,
           7.171314741035857,
           6.437768240343347,
           8.203125,
           4.910714285714286,
           9.803921568627452,
           10.50228310502283,
           13.612565445026178
          ],
          [
           2.6143790849673203,
           11.351351351351353,
           1.7045454545454544,
           3.1914893617021276,
           4.232804232804233,
           10.695187165775401,
           3.7815126050420167,
           3.3962264150943398,
           5.415162454873646,
           1.4336917562724014,
           1.7482517482517483,
           6.779661016949152,
           5.405405405405405,
           2.527075812274368,
           4.72972972972973,
           3.041825095057034,
           1.6,
           3.205128205128205,
           4.491017964071856,
           9.180327868852459,
           4.923076923076923,
           8.359133126934983,
           10.2803738317757
          ],
          [
           1,
           4.678362573099415,
           3.1413612565445024,
           2.4271844660194173,
           2.515723270440252,
           7.647058823529412,
           4.184100418410042,
           1.968503937007874,
           5.084745762711865,
           1.107011070110701,
           2.3346303501945527,
           1.4184397163120568,
           6.405693950177936,
           1.9672131147540985,
           12.741312741312742,
           5.604719764011799,
           3.202846975088968,
           1.3377926421404682,
           3.0716723549488054,
           6.343283582089552,
           5.844155844155844,
           8.552631578947368,
           7.657657657657657
          ],
          [
           3.4482758620689653,
           0,
           7.586206896551724,
           2.4691358024691357,
           5.384615384615385,
           1.3888888888888888,
           1.574803149606299,
           2.3529411764705883,
           7.065217391304348,
           2.7624309392265194,
           4.81283422459893,
           1.6574585635359116,
           1.9230769230769231,
           7.142857142857142,
           4.166666666666666,
           0,
           3.664921465968586,
           2.9268292682926833,
           5.202312138728324,
           6.081081081081082,
           2.1164021164021163,
           4.444444444444445,
           8.653846153846153
          ],
          [
           0,
           3.3333333333333335,
           0,
           0,
           0,
           0,
           1.0309278350515463,
           0,
           2.380952380952381,
           0,
           3.6363636363636362,
           1.6666666666666667,
           5.172413793103448,
           22.61904761904762,
           0,
           0.847457627118644,
           3.571428571428571,
           2.7777777777777777,
           4.201680672268908,
           4.123711340206185,
           6.741573033707865,
           5.128205128205128,
           2.4691358024691357
          ],
          [
           0,
           0,
           0,
           0,
           0,
           0,
           2.7027027027027026,
           2.127659574468085,
           2.564102564102564,
           2.2222222222222223,
           0,
           4.761904761904762,
           4.545454545454546,
           0,
           2.1739130434782608,
           2.4390243902439024,
           0,
           3.125,
           0,
           0,
           0,
           2.0408163265306123,
           0
          ],
          [
           null,
           0,
           0,
           9.58904109589041,
           0,
           0,
           1.2048192771084338,
           0,
           1.282051282051282,
           2.857142857142857,
           0,
           0,
           1.2048192771084338,
           1.8181818181818181,
           0,
           1.2987012987012987,
           2,
           0,
           0,
           1.9230769230769231,
           1.5625,
           2.2222222222222223,
           0
          ]
         ]
        }
       ],
       "layout": {
        "coloraxis": {
         "colorscale": [
          [
           0,
           "#000004"
          ],
          [
           0.1111111111111111,
           "#1b0c41"
          ],
          [
           0.2222222222222222,
           "#4a0c6b"
          ],
          [
           0.3333333333333333,
           "#781c6d"
          ],
          [
           0.4444444444444444,
           "#a52c60"
          ],
          [
           0.5555555555555556,
           "#cf4446"
          ],
          [
           0.6666666666666666,
           "#ed6925"
          ],
          [
           0.7777777777777778,
           "#fb9b06"
          ],
          [
           0.8888888888888888,
           "#f7d13d"
          ],
          [
           1,
           "#fcffa4"
          ]
         ]
        },
        "margin": {
         "t": 60
        },
        "template": {
         "data": {
          "bar": [
           {
            "error_x": {
             "color": "#2a3f5f"
            },
            "error_y": {
             "color": "#2a3f5f"
            },
            "marker": {
             "line": {
              "color": "#E5ECF6",
              "width": 0.5
             },
             "pattern": {
              "fillmode": "overlay",
              "size": 10,
              "solidity": 0.2
             }
            },
            "type": "bar"
           }
          ],
          "barpolar": [
           {
            "marker": {
             "line": {
              "color": "#E5ECF6",
              "width": 0.5
             },
             "pattern": {
              "fillmode": "overlay",
              "size": 10,
              "solidity": 0.2
             }
            },
            "type": "barpolar"
           }
          ],
          "carpet": [
           {
            "aaxis": {
             "endlinecolor": "#2a3f5f",
             "gridcolor": "white",
             "linecolor": "white",
             "minorgridcolor": "white",
             "startlinecolor": "#2a3f5f"
            },
            "baxis": {
             "endlinecolor": "#2a3f5f",
             "gridcolor": "white",
             "linecolor": "white",
             "minorgridcolor": "white",
             "startlinecolor": "#2a3f5f"
            },
            "type": "carpet"
           }
          ],
          "choropleth": [
           {
            "colorbar": {
             "outlinewidth": 0,
             "ticks": ""
            },
            "type": "choropleth"
           }
          ],
          "contour": [
           {
            "colorbar": {
             "outlinewidth": 0,
             "ticks": ""
            },
            "colorscale": [
             [
              0,
              "#0d0887"
             ],
             [
              0.1111111111111111,
              "#46039f"
             ],
             [
              0.2222222222222222,
              "#7201a8"
             ],
             [
              0.3333333333333333,
              "#9c179e"
             ],
             [
              0.4444444444444444,
              "#bd3786"
             ],
             [
              0.5555555555555556,
              "#d8576b"
             ],
             [
              0.6666666666666666,
              "#ed7953"
             ],
             [
              0.7777777777777778,
              "#fb9f3a"
             ],
             [
              0.8888888888888888,
              "#fdca26"
             ],
             [
              1,
              "#f0f921"
             ]
            ],
            "type": "contour"
           }
          ],
          "contourcarpet": [
           {
            "colorbar": {
             "outlinewidth": 0,
             "ticks": ""
            },
            "type": "contourcarpet"
           }
          ],
          "heatmap": [
           {
            "colorbar": {
             "outlinewidth": 0,
             "ticks": ""
            },
            "colorscale": [
             [
              0,
              "#0d0887"
             ],
             [
              0.1111111111111111,
              "#46039f"
             ],
             [
              0.2222222222222222,
              "#7201a8"
             ],
             [
              0.3333333333333333,
              "#9c179e"
             ],
             [
              0.4444444444444444,
              "#bd3786"
             ],
             [
              0.5555555555555556,
              "#d8576b"
             ],
             [
              0.6666666666666666,
              "#ed7953"
             ],
             [
              0.7777777777777778,
              "#fb9f3a"
             ],
             [
              0.8888888888888888,
              "#fdca26"
             ],
             [
              1,
              "#f0f921"
             ]
            ],
            "type": "heatmap"
           }
          ],
          "heatmapgl": [
           {
            "colorbar": {
             "outlinewidth": 0,
             "ticks": ""
            },
            "colorscale": [
             [
              0,
              "#0d0887"
             ],
             [
              0.1111111111111111,
              "#46039f"
             ],
             [
              0.2222222222222222,
              "#7201a8"
             ],
             [
              0.3333333333333333,
              "#9c179e"
             ],
             [
              0.4444444444444444,
              "#bd3786"
             ],
             [
              0.5555555555555556,
              "#d8576b"
             ],
             [
              0.6666666666666666,
              "#ed7953"
             ],
             [
              0.7777777777777778,
              "#fb9f3a"
             ],
             [
              0.8888888888888888,
              "#fdca26"
             ],
             [
              1,
              "#f0f921"
             ]
            ],
            "type": "heatmapgl"
           }
          ],
          "histogram": [
           {
            "marker": {
             "pattern": {
              "fillmode": "overlay",
              "size": 10,
              "solidity": 0.2
             }
            },
            "type": "histogram"
           }
          ],
          "histogram2d": [
           {
            "colorbar": {
             "outlinewidth": 0,
             "ticks": ""
            },
            "colorscale": [
             [
              0,
              "#0d0887"
             ],
             [
              0.1111111111111111,
              "#46039f"
             ],
             [
              0.2222222222222222,
              "#7201a8"
             ],
             [
              0.3333333333333333,
              "#9c179e"
             ],
             [
              0.4444444444444444,
              "#bd3786"
             ],
             [
              0.5555555555555556,
              "#d8576b"
             ],
             [
              0.6666666666666666,
              "#ed7953"
             ],
             [
              0.7777777777777778,
              "#fb9f3a"
             ],
             [
              0.8888888888888888,
              "#fdca26"
             ],
             [
              1,
              "#f0f921"
             ]
            ],
            "type": "histogram2d"
           }
          ],
          "histogram2dcontour": [
           {
            "colorbar": {
             "outlinewidth": 0,
             "ticks": ""
            },
            "colorscale": [
             [
              0,
              "#0d0887"
             ],
             [
              0.1111111111111111,
              "#46039f"
             ],
             [
              0.2222222222222222,
              "#7201a8"
             ],
             [
              0.3333333333333333,
              "#9c179e"
             ],
             [
              0.4444444444444444,
              "#bd3786"
             ],
             [
              0.5555555555555556,
              "#d8576b"
             ],
             [
              0.6666666666666666,
              "#ed7953"
             ],
             [
              0.7777777777777778,
              "#fb9f3a"
             ],
             [
              0.8888888888888888,
              "#fdca26"
             ],
             [
              1,
              "#f0f921"
             ]
            ],
            "type": "histogram2dcontour"
           }
          ],
          "mesh3d": [
           {
            "colorbar": {
             "outlinewidth": 0,
             "ticks": ""
            },
            "type": "mesh3d"
           }
          ],
          "parcoords": [
           {
            "line": {
             "colorbar": {
              "outlinewidth": 0,
              "ticks": ""
             }
            },
            "type": "parcoords"
           }
          ],
          "pie": [
           {
            "automargin": true,
            "type": "pie"
           }
          ],
          "scatter": [
           {
            "fillpattern": {
             "fillmode": "overlay",
             "size": 10,
             "solidity": 0.2
            },
            "type": "scatter"
           }
          ],
          "scatter3d": [
           {
            "line": {
             "colorbar": {
              "outlinewidth": 0,
              "ticks": ""
             }
            },
            "marker": {
             "colorbar": {
              "outlinewidth": 0,
              "ticks": ""
             }
            },
            "type": "scatter3d"
           }
          ],
          "scattercarpet": [
           {
            "marker": {
             "colorbar": {
              "outlinewidth": 0,
              "ticks": ""
             }
            },
            "type": "scattercarpet"
           }
          ],
          "scattergeo": [
           {
            "marker": {
             "colorbar": {
              "outlinewidth": 0,
              "ticks": ""
             }
            },
            "type": "scattergeo"
           }
          ],
          "scattergl": [
           {
            "marker": {
             "colorbar": {
              "outlinewidth": 0,
              "ticks": ""
             }
            },
            "type": "scattergl"
           }
          ],
          "scattermapbox": [
           {
            "marker": {
             "colorbar": {
              "outlinewidth": 0,
              "ticks": ""
             }
            },
            "type": "scattermapbox"
           }
          ],
          "scatterpolar": [
           {
            "marker": {
             "colorbar": {
              "outlinewidth": 0,
              "ticks": ""
             }
            },
            "type": "scatterpolar"
           }
          ],
          "scatterpolargl": [
           {
            "marker": {
             "colorbar": {
              "outlinewidth": 0,
              "ticks": ""
             }
            },
            "type": "scatterpolargl"
           }
          ],
          "scatterternary": [
           {
            "marker": {
             "colorbar": {
              "outlinewidth": 0,
              "ticks": ""
             }
            },
            "type": "scatterternary"
           }
          ],
          "surface": [
           {
            "colorbar": {
             "outlinewidth": 0,
             "ticks": ""
            },
            "colorscale": [
             [
              0,
              "#0d0887"
             ],
             [
              0.1111111111111111,
              "#46039f"
             ],
             [
              0.2222222222222222,
              "#7201a8"
             ],
             [
              0.3333333333333333,
              "#9c179e"
             ],
             [
              0.4444444444444444,
              "#bd3786"
             ],
             [
              0.5555555555555556,
              "#d8576b"
             ],
             [
              0.6666666666666666,
              "#ed7953"
             ],
             [
              0.7777777777777778,
              "#fb9f3a"
             ],
             [
              0.8888888888888888,
              "#fdca26"
             ],
             [
              1,
              "#f0f921"
             ]
            ],
            "type": "surface"
           }
          ],
          "table": [
           {
            "cells": {
             "fill": {
              "color": "#EBF0F8"
             },
             "line": {
              "color": "white"
             }
            },
            "header": {
             "fill": {
              "color": "#C8D4E3"
             },
             "line": {
              "color": "white"
             }
            },
            "type": "table"
           }
          ]
         },
         "layout": {
          "annotationdefaults": {
           "arrowcolor": "#2a3f5f",
           "arrowhead": 0,
           "arrowwidth": 1
          },
          "autotypenumbers": "strict",
          "coloraxis": {
           "colorbar": {
            "outlinewidth": 0,
            "ticks": ""
           }
          },
          "colorscale": {
           "diverging": [
            [
             0,
             "#8e0152"
            ],
            [
             0.1,
             "#c51b7d"
            ],
            [
             0.2,
             "#de77ae"
            ],
            [
             0.3,
             "#f1b6da"
            ],
            [
             0.4,
             "#fde0ef"
            ],
            [
             0.5,
             "#f7f7f7"
            ],
            [
             0.6,
             "#e6f5d0"
            ],
            [
             0.7,
             "#b8e186"
            ],
            [
             0.8,
             "#7fbc41"
            ],
            [
             0.9,
             "#4d9221"
            ],
            [
             1,
             "#276419"
            ]
           ],
           "sequential": [
            [
             0,
             "#0d0887"
            ],
            [
             0.1111111111111111,
             "#46039f"
            ],
            [
             0.2222222222222222,
             "#7201a8"
            ],
            [
             0.3333333333333333,
             "#9c179e"
            ],
            [
             0.4444444444444444,
             "#bd3786"
            ],
            [
             0.5555555555555556,
             "#d8576b"
            ],
            [
             0.6666666666666666,
             "#ed7953"
            ],
            [
             0.7777777777777778,
             "#fb9f3a"
            ],
            [
             0.8888888888888888,
             "#fdca26"
            ],
            [
             1,
             "#f0f921"
            ]
           ],
           "sequentialminus": [
            [
             0,
             "#0d0887"
            ],
            [
             0.1111111111111111,
             "#46039f"
            ],
            [
             0.2222222222222222,
             "#7201a8"
            ],
            [
             0.3333333333333333,
             "#9c179e"
            ],
            [
             0.4444444444444444,
             "#bd3786"
            ],
            [
             0.5555555555555556,
             "#d8576b"
            ],
            [
             0.6666666666666666,
             "#ed7953"
            ],
            [
             0.7777777777777778,
             "#fb9f3a"
            ],
            [
             0.8888888888888888,
             "#fdca26"
            ],
            [
             1,
             "#f0f921"
            ]
           ]
          },
          "colorway": [
           "#636efa",
           "#EF553B",
           "#00cc96",
           "#ab63fa",
           "#FFA15A",
           "#19d3f3",
           "#FF6692",
           "#B6E880",
           "#FF97FF",
           "#FECB52"
          ],
          "font": {
           "color": "#2a3f5f"
          },
          "geo": {
           "bgcolor": "white",
           "lakecolor": "white",
           "landcolor": "#E5ECF6",
           "showlakes": true,
           "showland": true,
           "subunitcolor": "white"
          },
          "hoverlabel": {
           "align": "left"
          },
          "hovermode": "closest",
          "mapbox": {
           "style": "light"
          },
          "paper_bgcolor": "white",
          "plot_bgcolor": "#E5ECF6",
          "polar": {
           "angularaxis": {
            "gridcolor": "white",
            "linecolor": "white",
            "ticks": ""
           },
           "bgcolor": "#E5ECF6",
           "radialaxis": {
            "gridcolor": "white",
            "linecolor": "white",
            "ticks": ""
           }
          },
          "scene": {
           "xaxis": {
            "backgroundcolor": "#E5ECF6",
            "gridcolor": "white",
            "gridwidth": 2,
            "linecolor": "white",
            "showbackground": true,
            "ticks": "",
            "zerolinecolor": "white"
           },
           "yaxis": {
            "backgroundcolor": "#E5ECF6",
            "gridcolor": "white",
            "gridwidth": 2,
            "linecolor": "white",
            "showbackground": true,
            "ticks": "",
            "zerolinecolor": "white"
           },
           "zaxis": {
            "backgroundcolor": "#E5ECF6",
            "gridcolor": "white",
            "gridwidth": 2,
            "linecolor": "white",
            "showbackground": true,
            "ticks": "",
            "zerolinecolor": "white"
           }
          },
          "shapedefaults": {
           "line": {
            "color": "#2a3f5f"
           }
          },
          "ternary": {
           "aaxis": {
            "gridcolor": "white",
            "linecolor": "white",
            "ticks": ""
           },
           "baxis": {
            "gridcolor": "white",
            "linecolor": "white",
            "ticks": ""
           },
           "bgcolor": "#E5ECF6",
           "caxis": {
            "gridcolor": "white",
            "linecolor": "white",
            "ticks": ""
           }
          },
          "title": {
           "x": 0.05
          },
          "xaxis": {
           "automargin": true,
           "gridcolor": "white",
           "linecolor": "white",
           "ticks": "",
           "title": {
            "standoff": 15
           },
           "zerolinecolor": "white",
           "zerolinewidth": 2
          },
          "yaxis": {
           "automargin": true,
           "gridcolor": "white",
           "linecolor": "white",
           "ticks": "",
           "title": {
            "standoff": 15
           },
           "zerolinecolor": "white",
           "zerolinewidth": 2
          }
         }
        },
        "xaxis": {
         "anchor": "y",
         "constrain": "domain",
         "domain": [
          0,
          1
         ],
         "scaleanchor": "y",
         "title": {
          "text": "annee"
         }
        },
        "yaxis": {
         "anchor": "x",
         "autorange": "reversed",
         "constrain": "domain",
         "domain": [
          0,
          1
         ]
        }
       }
      }
     },
     "metadata": {},
     "output_type": "display_data"
    }
   ],
   "source": [
    "dfprime = dfPlot.set_index(\"annee\")\n",
    "dfprime = dfprime.drop([\"Genre\", \"Toutes\", \"Toutes sauf Genre\"], axis = 1)\n",
    "dfprime = dfprime.T\n",
    "dfprime[\"mean\"] = dfprime.mean(axis=1)\n",
    "px.imshow(dfprime.sort_values(\"mean\", ascending=False).drop(\"mean\", axis=1),\n",
    "          color_continuous_scale='inferno')\n"
   ]
  },
  {
   "cell_type": "markdown",
   "metadata": {},
   "source": [
    "# Plotting"
   ]
  },
  {
   "cell_type": "markdown",
   "metadata": {},
   "source": [
    "The plotting section is first going to turn all the data into a usable data frame. We are going to use the following logic. : \n",
    "> Each row is a data, it will contain the year, percentage and any tag used for the actual plotting section"
   ]
  },
  {
   "cell_type": "markdown",
   "metadata": {},
   "source": [
    "## Actually plotting"
   ]
  },
  {
   "cell_type": "code",
   "execution_count": 254,
   "metadata": {},
   "outputs": [],
   "source": [
    "toute_discipline = list(set(dfPlot.columns) - set(['annee']))\n",
    "fig = px.line(\n",
    "    dfPlot,\n",
    "    x = 'annee', y = toute_discipline,\n",
    "    # color = 'Discipline',\n",
    "    # labels = {\n",
    "    #         'y' : 'Dominante de la revue',\n",
    "    #     }\n",
    ")"
   ]
  },
  {
   "cell_type": "code",
   "execution_count": 255,
   "metadata": {},
   "outputs": [
    {
     "data": {
      "application/vnd.plotly.v1+json": {
       "config": {
        "plotlyServerURL": "https://plot.ly"
       },
       "data": [
        {
         "hovertemplate": "variable=Science politique<br>annee=%{x}<br>value=%{y}<extra></extra>",
         "legendgroup": "Science politique",
         "line": {
          "color": "#636efa",
          "dash": "solid"
         },
         "marker": {
          "symbol": "circle"
         },
         "mode": "lines",
         "name": "Science politique",
         "orientation": "v",
         "showlegend": true,
         "type": "scatter",
         "x": [
          2001,
          2002,
          2003,
          2004,
          2005,
          2006,
          2007,
          2008,
          2009,
          2010,
          2011,
          2012,
          2013,
          2014,
          2015,
          2016,
          2017,
          2018,
          2019,
          2020,
          2021,
          2022,
          2023
         ],
         "xaxis": "x",
         "y": [
          1,
          4.678362573099415,
          3.1413612565445024,
          2.4271844660194173,
          2.515723270440252,
          7.647058823529412,
          4.184100418410042,
          1.968503937007874,
          5.084745762711865,
          1.107011070110701,
          2.3346303501945527,
          1.4184397163120568,
          6.405693950177936,
          1.9672131147540985,
          12.741312741312742,
          5.604719764011799,
          3.202846975088968,
          1.3377926421404682,
          3.0716723549488054,
          6.343283582089552,
          5.844155844155844,
          8.552631578947368,
          7.657657657657657
         ],
         "yaxis": "y"
        },
        {
         "hovertemplate": "variable=Toutes sauf Genre<br>annee=%{x}<br>value=%{y}<extra></extra>",
         "legendgroup": "Toutes sauf Genre",
         "line": {
          "color": "#EF553B",
          "dash": "solid"
         },
         "marker": {
          "symbol": "circle"
         },
         "mode": "lines",
         "name": "Toutes sauf Genre",
         "orientation": "v",
         "showlegend": true,
         "type": "scatter",
         "x": [
          2001,
          2002,
          2003,
          2004,
          2005,
          2006,
          2007,
          2008,
          2009,
          2010,
          2011,
          2012,
          2013,
          2014,
          2015,
          2016,
          2017,
          2018,
          2019,
          2020,
          2021,
          2022,
          2023
         ],
         "xaxis": "x",
         "y": [
          9.726759726759726,
          9.726759726759726,
          9.726759726759726,
          9.726759726759726,
          9.726759726759726,
          9.726759726759726,
          9.726759726759726,
          9.726759726759726,
          9.726759726759726,
          9.726759726759726,
          9.726759726759726,
          9.726759726759726,
          9.726759726759726,
          9.726759726759726,
          9.726759726759726,
          9.726759726759726,
          9.726759726759726,
          9.726759726759726,
          9.726759726759726,
          9.726759726759726,
          9.726759726759726,
          9.726759726759726,
          9.726759726759726
         ],
         "yaxis": "y"
        },
        {
         "hovertemplate": "variable=Sociologie<br>annee=%{x}<br>value=%{y}<extra></extra>",
         "legendgroup": "Sociologie",
         "line": {
          "color": "#00cc96",
          "dash": "solid"
         },
         "marker": {
          "symbol": "circle"
         },
         "mode": "lines",
         "name": "Sociologie",
         "orientation": "v",
         "showlegend": true,
         "type": "scatter",
         "x": [
          2001,
          2002,
          2003,
          2004,
          2005,
          2006,
          2007,
          2008,
          2009,
          2010,
          2011,
          2012,
          2013,
          2014,
          2015,
          2016,
          2017,
          2018,
          2019,
          2020,
          2021,
          2022,
          2023
         ],
         "xaxis": "x",
         "y": [
          4.242424242424243,
          3.1847133757961785,
          8.5,
          6.091370558375635,
          3.125,
          5.41871921182266,
          15.087719298245613,
          6.287425149700598,
          5.389221556886228,
          5.523255813953488,
          6.2645011600928076,
          17.50663129973475,
          7.122507122507122,
          5.974025974025974,
          8.27250608272506,
          8.997429305912597,
          12.672176308539946,
          11.557788944723619,
          8.87728459530026,
          8.955223880597014,
          7.774798927613941,
          15.123456790123457,
          8.415841584158416
         ],
         "yaxis": "y"
        },
        {
         "hovertemplate": "variable=Toutes<br>annee=%{x}<br>value=%{y}<extra></extra>",
         "legendgroup": "Toutes",
         "line": {
          "color": "#ab63fa",
          "dash": "solid"
         },
         "marker": {
          "symbol": "circle"
         },
         "mode": "lines",
         "name": "Toutes",
         "orientation": "v",
         "showlegend": true,
         "type": "scatter",
         "x": [
          2001,
          2002,
          2003,
          2004,
          2005,
          2006,
          2007,
          2008,
          2009,
          2010,
          2011,
          2012,
          2013,
          2014,
          2015,
          2016,
          2017,
          2018,
          2019,
          2020,
          2021,
          2022,
          2023
         ],
         "xaxis": "x",
         "y": [
          7.601184600197433,
          10.254163014899213,
          9.31899641577061,
          8.311518324607329,
          9.650259067357512,
          9.512893982808022,
          9.205867475973697,
          6.4500716674629714,
          10.21256931608133,
          8.185361628410567,
          8.379413015737985,
          11.15898319689789,
          8.82752376641014,
          8.702999577524292,
          9.347368421052632,
          9.67741935483871,
          11.011904761904761,
          8.860249697946033,
          10.437710437710438,
          10.715979137031768,
          11.10254433307633,
          12.056451612903226,
          13.452655889145495
         ],
         "yaxis": "y"
        },
        {
         "hovertemplate": "variable=Anthropologie<br>annee=%{x}<br>value=%{y}<extra></extra>",
         "legendgroup": "Anthropologie",
         "line": {
          "color": "#FFA15A",
          "dash": "solid"
         },
         "marker": {
          "symbol": "circle"
         },
         "mode": "lines",
         "name": "Anthropologie",
         "orientation": "v",
         "showlegend": true,
         "type": "scatter",
         "x": [
          2001,
          2002,
          2003,
          2004,
          2005,
          2006,
          2007,
          2008,
          2009,
          2010,
          2011,
          2012,
          2013,
          2014,
          2015,
          2016,
          2017,
          2018,
          2019,
          2020,
          2021,
          2022,
          2023
         ],
         "xaxis": "x",
         "y": [
          8.75,
          7.317073170731707,
          7.59493670886076,
          5.681818181818182,
          17.24137931034483,
          8.60215053763441,
          4.62962962962963,
          3.7735849056603774,
          6.593406593406594,
          15.74074074074074,
          26.356589147286826,
          7.339449541284404,
          16.9811320754717,
          13.821138211382115,
          13.636363636363635,
          19.82758620689655,
          22.413793103448278,
          13.513513513513514,
          19.230769230769234,
          10.256410256410255,
          7.6190476190476195,
          6.224066390041494,
          6.748466257668712
         ],
         "yaxis": "y"
        },
        {
         "hovertemplate": "variable=Genre<br>annee=%{x}<br>value=%{y}<extra></extra>",
         "legendgroup": "Genre",
         "line": {
          "color": "#19d3f3",
          "dash": "solid"
         },
         "marker": {
          "symbol": "circle"
         },
         "mode": "lines",
         "name": "Genre",
         "orientation": "v",
         "showlegend": true,
         "type": "scatter",
         "x": [
          2001,
          2002,
          2003,
          2004,
          2005,
          2006,
          2007,
          2008,
          2009,
          2010,
          2011,
          2012,
          2013,
          2014,
          2015,
          2016,
          2017,
          2018,
          2019,
          2020,
          2021,
          2022,
          2023
         ],
         "xaxis": "x",
         "y": [
          92.5925925925926,
          91.22807017543859,
          83.33333333333334,
          95.52238805970148,
          89.85507246376811,
          93.82716049382715,
          90.625,
          91.04477611940298,
          83.14606741573034,
          95.18072289156626,
          87.2340425531915,
          92.5,
          81.48148148148148,
          88.73239436619718,
          93.93939393939394,
          96,
          91.54929577464789,
          93.67088607594937,
          93.05555555555556,
          95,
          95.37037037037037,
          91.30434782608695,
          95.94594594594594
         ],
         "yaxis": "y"
        },
        {
         "hovertemplate": "variable=Histoire<br>annee=%{x}<br>value=%{y}<extra></extra>",
         "legendgroup": "Histoire",
         "line": {
          "color": "#FF6692",
          "dash": "solid"
         },
         "marker": {
          "symbol": "circle"
         },
         "mode": "lines",
         "name": "Histoire",
         "orientation": "v",
         "showlegend": true,
         "type": "scatter",
         "x": [
          2001,
          2002,
          2003,
          2004,
          2005,
          2006,
          2007,
          2008,
          2009,
          2010,
          2011,
          2012,
          2013,
          2014,
          2015,
          2016,
          2017,
          2018,
          2019,
          2020,
          2021,
          2022,
          2023
         ],
         "xaxis": "x",
         "y": [
          2.6143790849673203,
          11.351351351351353,
          1.7045454545454544,
          3.1914893617021276,
          4.232804232804233,
          10.695187165775401,
          3.7815126050420167,
          3.3962264150943398,
          5.415162454873646,
          1.4336917562724014,
          1.7482517482517483,
          6.779661016949152,
          5.405405405405405,
          2.527075812274368,
          4.72972972972973,
          3.041825095057034,
          1.6,
          3.205128205128205,
          4.491017964071856,
          9.180327868852459,
          4.923076923076923,
          8.359133126934983,
          10.2803738317757
         ],
         "yaxis": "y"
        },
        {
         "hovertemplate": "variable=Autre interdisciplinaire<br>annee=%{x}<br>value=%{y}<extra></extra>",
         "legendgroup": "Autre interdisciplinaire",
         "line": {
          "color": "#B6E880",
          "dash": "solid"
         },
         "marker": {
          "symbol": "circle"
         },
         "mode": "lines",
         "name": "Autre interdisciplinaire",
         "orientation": "v",
         "showlegend": true,
         "type": "scatter",
         "x": [
          2001,
          2002,
          2003,
          2004,
          2005,
          2006,
          2007,
          2008,
          2009,
          2010,
          2011,
          2012,
          2013,
          2014,
          2015,
          2016,
          2017,
          2018,
          2019,
          2020,
          2021,
          2022,
          2023
         ],
         "xaxis": "x",
         "y": [
          0.5882352941176471,
          8.108108108108109,
          6.719367588932807,
          3.4482758620689653,
          9.48905109489051,
          5.894308943089431,
          6.488549618320611,
          4.273504273504273,
          12.213740458015266,
          6.151142355008787,
          3.5381750465549344,
          10.469314079422382,
          5.325443786982249,
          7.4324324324324325,
          7.945736434108527,
          5.809859154929577,
          12.5,
          6.138933764135703,
          11.377245508982035,
          11.702127659574469,
          11.11111111111111,
          8.960573476702509,
          12.442396313364055
         ],
         "yaxis": "y"
        },
        {
         "hovertemplate": "variable=Démographie<br>annee=%{x}<br>value=%{y}<extra></extra>",
         "legendgroup": "Démographie",
         "line": {
          "color": "#FF97FF",
          "dash": "solid"
         },
         "marker": {
          "symbol": "circle"
         },
         "mode": "lines",
         "name": "Démographie",
         "orientation": "v",
         "showlegend": true,
         "type": "scatter",
         "x": [
          2001,
          2002,
          2003,
          2004,
          2005,
          2006,
          2007,
          2008,
          2009,
          2010,
          2011,
          2012,
          2013,
          2014,
          2015,
          2016,
          2017,
          2018,
          2019,
          2020,
          2021,
          2022,
          2023
         ],
         "xaxis": "x",
         "y": [
          25,
          24,
          26.08695652173913,
          15,
          29.411764705882355,
          23.809523809523807,
          30.555555555555557,
          15.625,
          11.538461538461538,
          26,
          29.411764705882355,
          37.83783783783784,
          27.77777777777778,
          26.666666666666668,
          19.35483870967742,
          23.684210526315788,
          25,
          26.666666666666668,
          28.205128205128204,
          28.57142857142857,
          17.24137931034483,
          32.142857142857146,
          40
         ],
         "yaxis": "y"
        },
        {
         "hovertemplate": "variable=Economie<br>annee=%{x}<br>value=%{y}<extra></extra>",
         "legendgroup": "Economie",
         "line": {
          "color": "#FECB52",
          "dash": "solid"
         },
         "marker": {
          "symbol": "circle"
         },
         "mode": "lines",
         "name": "Economie",
         "orientation": "v",
         "showlegend": true,
         "type": "scatter",
         "x": [
          2001,
          2002,
          2003,
          2004,
          2005,
          2006,
          2007,
          2008,
          2009,
          2010,
          2011,
          2012,
          2013,
          2014,
          2015,
          2016,
          2017,
          2018,
          2019,
          2020,
          2021,
          2022,
          2023
         ],
         "xaxis": "x",
         "y": [
          0,
          1.639344262295082,
          0,
          7.446808510638298,
          0,
          0,
          1.1111111111111112,
          0,
          1.6666666666666667,
          2.054794520547945,
          1.5873015873015872,
          0.7462686567164178,
          2.8368794326241136,
          14.388489208633093,
          0,
          1.0256410256410255,
          3.0864197530864197,
          1.8181818181818181,
          2.824858757062147,
          3.3557046979865772,
          4.57516339869281,
          4.320987654320987,
          2.2222222222222223
         ],
         "yaxis": "y"
        },
        {
         "hovertemplate": "variable=SIC<br>annee=%{x}<br>value=%{y}<extra></extra>",
         "legendgroup": "SIC",
         "line": {
          "color": "#636efa",
          "dash": "solid"
         },
         "marker": {
          "symbol": "circle"
         },
         "mode": "lines",
         "name": "SIC",
         "orientation": "v",
         "showlegend": true,
         "type": "scatter",
         "x": [
          2001,
          2002,
          2003,
          2004,
          2005,
          2006,
          2007,
          2008,
          2009,
          2010,
          2011,
          2012,
          2013,
          2014,
          2015,
          2016,
          2017,
          2018,
          2019,
          2020,
          2021,
          2022,
          2023
         ],
         "xaxis": "x",
         "y": [
          3.4482758620689653,
          0,
          7.586206896551724,
          2.4691358024691357,
          5.384615384615385,
          1.3888888888888888,
          1.574803149606299,
          2.3529411764705883,
          7.065217391304348,
          2.7624309392265194,
          4.81283422459893,
          1.6574585635359116,
          1.9230769230769231,
          7.142857142857142,
          4.166666666666666,
          0,
          3.664921465968586,
          2.9268292682926833,
          5.202312138728324,
          6.081081081081082,
          2.1164021164021163,
          4.444444444444445,
          8.653846153846153
         ],
         "yaxis": "y"
        },
        {
         "hovertemplate": "variable=Géographie<br>annee=%{x}<br>value=%{y}<extra></extra>",
         "legendgroup": "Géographie",
         "line": {
          "color": "#EF553B",
          "dash": "solid"
         },
         "marker": {
          "symbol": "circle"
         },
         "mode": "lines",
         "name": "Géographie",
         "orientation": "v",
         "showlegend": true,
         "type": "scatter",
         "x": [
          2001,
          2002,
          2003,
          2004,
          2005,
          2006,
          2007,
          2008,
          2009,
          2010,
          2011,
          2012,
          2013,
          2014,
          2015,
          2016,
          2017,
          2018,
          2019,
          2020,
          2021,
          2022,
          2023
         ],
         "xaxis": "x",
         "y": [
          0,
          0,
          0,
          0,
          0,
          0,
          2.7027027027027026,
          2.127659574468085,
          2.564102564102564,
          2.2222222222222223,
          0,
          4.761904761904762,
          4.545454545454546,
          0,
          2.1739130434782608,
          2.4390243902439024,
          0,
          3.125,
          0,
          0,
          0,
          2.0408163265306123,
          0
         ],
         "yaxis": "y"
        },
        {
         "hovertemplate": "variable=Aréale<br>annee=%{x}<br>value=%{y}<extra></extra>",
         "legendgroup": "Aréale",
         "line": {
          "color": "#00cc96",
          "dash": "solid"
         },
         "marker": {
          "symbol": "circle"
         },
         "mode": "lines",
         "name": "Aréale",
         "orientation": "v",
         "showlegend": true,
         "type": "scatter",
         "x": [
          2001,
          2002,
          2003,
          2004,
          2005,
          2006,
          2007,
          2008,
          2009,
          2010,
          2011,
          2012,
          2013,
          2014,
          2015,
          2016,
          2017,
          2018,
          2019,
          2020,
          2021,
          2022,
          2023
         ],
         "xaxis": "x",
         "y": [
          3.571428571428571,
          4.10958904109589,
          2.73972602739726,
          7.377049180327869,
          1.9230769230769231,
          1.3071895424836601,
          5.0359712230215825,
          2.6881720430107525,
          5.327868852459016,
          4.291845493562231,
          1.3333333333333335,
          3.91304347826087,
          3.2388663967611335,
          1.951219512195122,
          2.6119402985074625,
          5.147058823529411,
          7.171314741035857,
          6.437768240343347,
          8.203125,
          4.910714285714286,
          9.803921568627452,
          10.50228310502283,
          13.612565445026178
         ],
         "yaxis": "y"
        }
       ],
       "layout": {
        "legend": {
         "title": {
          "text": "variable"
         },
         "tracegroupgap": 0
        },
        "margin": {
         "t": 60
        },
        "template": {
         "data": {
          "bar": [
           {
            "error_x": {
             "color": "#2a3f5f"
            },
            "error_y": {
             "color": "#2a3f5f"
            },
            "marker": {
             "line": {
              "color": "#E5ECF6",
              "width": 0.5
             },
             "pattern": {
              "fillmode": "overlay",
              "size": 10,
              "solidity": 0.2
             }
            },
            "type": "bar"
           }
          ],
          "barpolar": [
           {
            "marker": {
             "line": {
              "color": "#E5ECF6",
              "width": 0.5
             },
             "pattern": {
              "fillmode": "overlay",
              "size": 10,
              "solidity": 0.2
             }
            },
            "type": "barpolar"
           }
          ],
          "carpet": [
           {
            "aaxis": {
             "endlinecolor": "#2a3f5f",
             "gridcolor": "white",
             "linecolor": "white",
             "minorgridcolor": "white",
             "startlinecolor": "#2a3f5f"
            },
            "baxis": {
             "endlinecolor": "#2a3f5f",
             "gridcolor": "white",
             "linecolor": "white",
             "minorgridcolor": "white",
             "startlinecolor": "#2a3f5f"
            },
            "type": "carpet"
           }
          ],
          "choropleth": [
           {
            "colorbar": {
             "outlinewidth": 0,
             "ticks": ""
            },
            "type": "choropleth"
           }
          ],
          "contour": [
           {
            "colorbar": {
             "outlinewidth": 0,
             "ticks": ""
            },
            "colorscale": [
             [
              0,
              "#0d0887"
             ],
             [
              0.1111111111111111,
              "#46039f"
             ],
             [
              0.2222222222222222,
              "#7201a8"
             ],
             [
              0.3333333333333333,
              "#9c179e"
             ],
             [
              0.4444444444444444,
              "#bd3786"
             ],
             [
              0.5555555555555556,
              "#d8576b"
             ],
             [
              0.6666666666666666,
              "#ed7953"
             ],
             [
              0.7777777777777778,
              "#fb9f3a"
             ],
             [
              0.8888888888888888,
              "#fdca26"
             ],
             [
              1,
              "#f0f921"
             ]
            ],
            "type": "contour"
           }
          ],
          "contourcarpet": [
           {
            "colorbar": {
             "outlinewidth": 0,
             "ticks": ""
            },
            "type": "contourcarpet"
           }
          ],
          "heatmap": [
           {
            "colorbar": {
             "outlinewidth": 0,
             "ticks": ""
            },
            "colorscale": [
             [
              0,
              "#0d0887"
             ],
             [
              0.1111111111111111,
              "#46039f"
             ],
             [
              0.2222222222222222,
              "#7201a8"
             ],
             [
              0.3333333333333333,
              "#9c179e"
             ],
             [
              0.4444444444444444,
              "#bd3786"
             ],
             [
              0.5555555555555556,
              "#d8576b"
             ],
             [
              0.6666666666666666,
              "#ed7953"
             ],
             [
              0.7777777777777778,
              "#fb9f3a"
             ],
             [
              0.8888888888888888,
              "#fdca26"
             ],
             [
              1,
              "#f0f921"
             ]
            ],
            "type": "heatmap"
           }
          ],
          "heatmapgl": [
           {
            "colorbar": {
             "outlinewidth": 0,
             "ticks": ""
            },
            "colorscale": [
             [
              0,
              "#0d0887"
             ],
             [
              0.1111111111111111,
              "#46039f"
             ],
             [
              0.2222222222222222,
              "#7201a8"
             ],
             [
              0.3333333333333333,
              "#9c179e"
             ],
             [
              0.4444444444444444,
              "#bd3786"
             ],
             [
              0.5555555555555556,
              "#d8576b"
             ],
             [
              0.6666666666666666,
              "#ed7953"
             ],
             [
              0.7777777777777778,
              "#fb9f3a"
             ],
             [
              0.8888888888888888,
              "#fdca26"
             ],
             [
              1,
              "#f0f921"
             ]
            ],
            "type": "heatmapgl"
           }
          ],
          "histogram": [
           {
            "marker": {
             "pattern": {
              "fillmode": "overlay",
              "size": 10,
              "solidity": 0.2
             }
            },
            "type": "histogram"
           }
          ],
          "histogram2d": [
           {
            "colorbar": {
             "outlinewidth": 0,
             "ticks": ""
            },
            "colorscale": [
             [
              0,
              "#0d0887"
             ],
             [
              0.1111111111111111,
              "#46039f"
             ],
             [
              0.2222222222222222,
              "#7201a8"
             ],
             [
              0.3333333333333333,
              "#9c179e"
             ],
             [
              0.4444444444444444,
              "#bd3786"
             ],
             [
              0.5555555555555556,
              "#d8576b"
             ],
             [
              0.6666666666666666,
              "#ed7953"
             ],
             [
              0.7777777777777778,
              "#fb9f3a"
             ],
             [
              0.8888888888888888,
              "#fdca26"
             ],
             [
              1,
              "#f0f921"
             ]
            ],
            "type": "histogram2d"
           }
          ],
          "histogram2dcontour": [
           {
            "colorbar": {
             "outlinewidth": 0,
             "ticks": ""
            },
            "colorscale": [
             [
              0,
              "#0d0887"
             ],
             [
              0.1111111111111111,
              "#46039f"
             ],
             [
              0.2222222222222222,
              "#7201a8"
             ],
             [
              0.3333333333333333,
              "#9c179e"
             ],
             [
              0.4444444444444444,
              "#bd3786"
             ],
             [
              0.5555555555555556,
              "#d8576b"
             ],
             [
              0.6666666666666666,
              "#ed7953"
             ],
             [
              0.7777777777777778,
              "#fb9f3a"
             ],
             [
              0.8888888888888888,
              "#fdca26"
             ],
             [
              1,
              "#f0f921"
             ]
            ],
            "type": "histogram2dcontour"
           }
          ],
          "mesh3d": [
           {
            "colorbar": {
             "outlinewidth": 0,
             "ticks": ""
            },
            "type": "mesh3d"
           }
          ],
          "parcoords": [
           {
            "line": {
             "colorbar": {
              "outlinewidth": 0,
              "ticks": ""
             }
            },
            "type": "parcoords"
           }
          ],
          "pie": [
           {
            "automargin": true,
            "type": "pie"
           }
          ],
          "scatter": [
           {
            "fillpattern": {
             "fillmode": "overlay",
             "size": 10,
             "solidity": 0.2
            },
            "type": "scatter"
           }
          ],
          "scatter3d": [
           {
            "line": {
             "colorbar": {
              "outlinewidth": 0,
              "ticks": ""
             }
            },
            "marker": {
             "colorbar": {
              "outlinewidth": 0,
              "ticks": ""
             }
            },
            "type": "scatter3d"
           }
          ],
          "scattercarpet": [
           {
            "marker": {
             "colorbar": {
              "outlinewidth": 0,
              "ticks": ""
             }
            },
            "type": "scattercarpet"
           }
          ],
          "scattergeo": [
           {
            "marker": {
             "colorbar": {
              "outlinewidth": 0,
              "ticks": ""
             }
            },
            "type": "scattergeo"
           }
          ],
          "scattergl": [
           {
            "marker": {
             "colorbar": {
              "outlinewidth": 0,
              "ticks": ""
             }
            },
            "type": "scattergl"
           }
          ],
          "scattermapbox": [
           {
            "marker": {
             "colorbar": {
              "outlinewidth": 0,
              "ticks": ""
             }
            },
            "type": "scattermapbox"
           }
          ],
          "scatterpolar": [
           {
            "marker": {
             "colorbar": {
              "outlinewidth": 0,
              "ticks": ""
             }
            },
            "type": "scatterpolar"
           }
          ],
          "scatterpolargl": [
           {
            "marker": {
             "colorbar": {
              "outlinewidth": 0,
              "ticks": ""
             }
            },
            "type": "scatterpolargl"
           }
          ],
          "scatterternary": [
           {
            "marker": {
             "colorbar": {
              "outlinewidth": 0,
              "ticks": ""
             }
            },
            "type": "scatterternary"
           }
          ],
          "surface": [
           {
            "colorbar": {
             "outlinewidth": 0,
             "ticks": ""
            },
            "colorscale": [
             [
              0,
              "#0d0887"
             ],
             [
              0.1111111111111111,
              "#46039f"
             ],
             [
              0.2222222222222222,
              "#7201a8"
             ],
             [
              0.3333333333333333,
              "#9c179e"
             ],
             [
              0.4444444444444444,
              "#bd3786"
             ],
             [
              0.5555555555555556,
              "#d8576b"
             ],
             [
              0.6666666666666666,
              "#ed7953"
             ],
             [
              0.7777777777777778,
              "#fb9f3a"
             ],
             [
              0.8888888888888888,
              "#fdca26"
             ],
             [
              1,
              "#f0f921"
             ]
            ],
            "type": "surface"
           }
          ],
          "table": [
           {
            "cells": {
             "fill": {
              "color": "#EBF0F8"
             },
             "line": {
              "color": "white"
             }
            },
            "header": {
             "fill": {
              "color": "#C8D4E3"
             },
             "line": {
              "color": "white"
             }
            },
            "type": "table"
           }
          ]
         },
         "layout": {
          "annotationdefaults": {
           "arrowcolor": "#2a3f5f",
           "arrowhead": 0,
           "arrowwidth": 1
          },
          "autotypenumbers": "strict",
          "coloraxis": {
           "colorbar": {
            "outlinewidth": 0,
            "ticks": ""
           }
          },
          "colorscale": {
           "diverging": [
            [
             0,
             "#8e0152"
            ],
            [
             0.1,
             "#c51b7d"
            ],
            [
             0.2,
             "#de77ae"
            ],
            [
             0.3,
             "#f1b6da"
            ],
            [
             0.4,
             "#fde0ef"
            ],
            [
             0.5,
             "#f7f7f7"
            ],
            [
             0.6,
             "#e6f5d0"
            ],
            [
             0.7,
             "#b8e186"
            ],
            [
             0.8,
             "#7fbc41"
            ],
            [
             0.9,
             "#4d9221"
            ],
            [
             1,
             "#276419"
            ]
           ],
           "sequential": [
            [
             0,
             "#0d0887"
            ],
            [
             0.1111111111111111,
             "#46039f"
            ],
            [
             0.2222222222222222,
             "#7201a8"
            ],
            [
             0.3333333333333333,
             "#9c179e"
            ],
            [
             0.4444444444444444,
             "#bd3786"
            ],
            [
             0.5555555555555556,
             "#d8576b"
            ],
            [
             0.6666666666666666,
             "#ed7953"
            ],
            [
             0.7777777777777778,
             "#fb9f3a"
            ],
            [
             0.8888888888888888,
             "#fdca26"
            ],
            [
             1,
             "#f0f921"
            ]
           ],
           "sequentialminus": [
            [
             0,
             "#0d0887"
            ],
            [
             0.1111111111111111,
             "#46039f"
            ],
            [
             0.2222222222222222,
             "#7201a8"
            ],
            [
             0.3333333333333333,
             "#9c179e"
            ],
            [
             0.4444444444444444,
             "#bd3786"
            ],
            [
             0.5555555555555556,
             "#d8576b"
            ],
            [
             0.6666666666666666,
             "#ed7953"
            ],
            [
             0.7777777777777778,
             "#fb9f3a"
            ],
            [
             0.8888888888888888,
             "#fdca26"
            ],
            [
             1,
             "#f0f921"
            ]
           ]
          },
          "colorway": [
           "#636efa",
           "#EF553B",
           "#00cc96",
           "#ab63fa",
           "#FFA15A",
           "#19d3f3",
           "#FF6692",
           "#B6E880",
           "#FF97FF",
           "#FECB52"
          ],
          "font": {
           "color": "#2a3f5f"
          },
          "geo": {
           "bgcolor": "white",
           "lakecolor": "white",
           "landcolor": "#E5ECF6",
           "showlakes": true,
           "showland": true,
           "subunitcolor": "white"
          },
          "hoverlabel": {
           "align": "left"
          },
          "hovermode": "closest",
          "mapbox": {
           "style": "light"
          },
          "paper_bgcolor": "white",
          "plot_bgcolor": "#E5ECF6",
          "polar": {
           "angularaxis": {
            "gridcolor": "white",
            "linecolor": "white",
            "ticks": ""
           },
           "bgcolor": "#E5ECF6",
           "radialaxis": {
            "gridcolor": "white",
            "linecolor": "white",
            "ticks": ""
           }
          },
          "scene": {
           "xaxis": {
            "backgroundcolor": "#E5ECF6",
            "gridcolor": "white",
            "gridwidth": 2,
            "linecolor": "white",
            "showbackground": true,
            "ticks": "",
            "zerolinecolor": "white"
           },
           "yaxis": {
            "backgroundcolor": "#E5ECF6",
            "gridcolor": "white",
            "gridwidth": 2,
            "linecolor": "white",
            "showbackground": true,
            "ticks": "",
            "zerolinecolor": "white"
           },
           "zaxis": {
            "backgroundcolor": "#E5ECF6",
            "gridcolor": "white",
            "gridwidth": 2,
            "linecolor": "white",
            "showbackground": true,
            "ticks": "",
            "zerolinecolor": "white"
           }
          },
          "shapedefaults": {
           "line": {
            "color": "#2a3f5f"
           }
          },
          "ternary": {
           "aaxis": {
            "gridcolor": "white",
            "linecolor": "white",
            "ticks": ""
           },
           "baxis": {
            "gridcolor": "white",
            "linecolor": "white",
            "ticks": ""
           },
           "bgcolor": "#E5ECF6",
           "caxis": {
            "gridcolor": "white",
            "linecolor": "white",
            "ticks": ""
           }
          },
          "title": {
           "x": 0.05
          },
          "xaxis": {
           "automargin": true,
           "gridcolor": "white",
           "linecolor": "white",
           "ticks": "",
           "title": {
            "standoff": 15
           },
           "zerolinecolor": "white",
           "zerolinewidth": 2
          },
          "yaxis": {
           "automargin": true,
           "gridcolor": "white",
           "linecolor": "white",
           "ticks": "",
           "title": {
            "standoff": 15
           },
           "zerolinecolor": "white",
           "zerolinewidth": 2
          }
         }
        },
        "xaxis": {
         "anchor": "y",
         "domain": [
          0,
          1
         ],
         "title": {
          "text": "annee"
         }
        },
        "yaxis": {
         "anchor": "x",
         "domain": [
          0,
          1
         ],
         "title": {
          "text": "value"
         }
        }
       }
      }
     },
     "metadata": {},
     "output_type": "display_data"
    }
   ],
   "source": [
    "fig"
   ]
  },
  {
   "cell_type": "markdown",
   "metadata": {},
   "source": [
    "### Customisation"
   ]
  },
  {
   "cell_type": "code",
   "execution_count": 346,
   "metadata": {},
   "outputs": [
    {
     "name": "stdout",
     "output_type": "stream",
     "text": [
      "This is the format of your plot grid:\n",
      "[ (1,1) x,y               -        ]  [ (1,3) x2,y2   ]\n",
      "[ (2,1) x3,y3   ]  [ (2,2) x4,y4   ]  [ (2,3) x5,y5   ]\n",
      "[ (3,1) x6,y6   ]  [ (3,2) x7,y7   ]  [ (3,3) x8,y8   ]\n",
      "[ (4,1) x9,y9   ]  [ (4,2) x10,y10 ]  [ (4,3) x11,y11 ]\n",
      "[ (5,1) x12,y12 ]  [ (5,2) x13,y13 ]  [ (5,3) x14,y14 ]\n",
      "\n"
     ]
    }
   ],
   "source": [
    "# all_direction_pad = \n",
    "# Facetting\n",
    "fig = make_subplots(\n",
    "    rows=5, cols=3,\n",
    "    specs=[\n",
    "              [{\"colspan\": 2}, None , {}],\n",
    "              [{},{},{}],\n",
    "              [{},{},{}],\n",
    "              [{},{},{}],\n",
    "              [{},{},{}],\n",
    "           ],\n",
    "    subplot_titles=(\n",
    "       \"Général\",\"\",\"Science Politique\",\"Sociologie\",\"Genre\",\"Anthropologie\",\n",
    "       \"Histoire\", \"Démographie\", \"Économie\",\"SIC\", \"Géographie\", \"Aréales\", \n",
    "       \"Autre interdisciplinaire\"),\n",
    "\n",
    "       shared_xaxes = 'rows',\n",
    "       shared_yaxes = 'rows',\n",
    "       print_grid = True,\n",
    "\n",
    "       x_title = 'Année de publication',\n",
    "       y_title = 'Part des articles qui invoquent le concept du genre'\n",
    ")\n",
    "\n",
    "# Setting title and axis names\n",
    "fig = fig.update_layout(dict(\n",
    "    title = dict(\n",
    "            text = (\"Évolution de la proportion d'articles publiés invoquant le \"\n",
    "                    \"thème du genre (def extensive et statistique)\"),\n",
    "             automargin = True, \n",
    "             pad = dict(t = 10, b = 10 , r = 10, l = 10)),\n",
    "    width = 1150, height = 700\n",
    "))"
   ]
  },
  {
   "cell_type": "code",
   "execution_count": 349,
   "metadata": {},
   "outputs": [],
   "source": [
    "all_categories = [\n",
    "    'Science politique',\n",
    "    'Sociologie'\t,\n",
    "    'Anthropologie'\t,\n",
    "    'Histoire'\t,\n",
    "    'Autre interdisciplinaire'\t,\n",
    "    'Démographie',\n",
    "    'Economie',\n",
    "    'SIC'\t,\n",
    "    'Géographie'\t,\n",
    "    'Aréale']\n",
    "\n",
    "\n",
    "def add_traces_to_subplot(fig : goFigure, df : pd.DataFrame,\n",
    "                          x : str, columns : list[str], names : list[str],\n",
    "                          colours : list[str],\n",
    "                          row : int, col : int, \n",
    "                          reorder : bool = False) -> None:\n",
    "    if reorder: \n",
    "        # UPGRADE create a new way of ordering, for now we only add the traces\n",
    "        # so that the colors are on top of the grey ones\n",
    "        # in a very not nice way either\n",
    "        df_temp = pd.DataFrame({\n",
    "            \"colours\" : colours, 'names' : names, 'columns' : columns\n",
    "        })\n",
    "        df_temp_grey = df_temp.loc[\n",
    "            df_temp['colours'] == 'rgba(200,200,200,80)',:]\n",
    "        df_temp_not_grey = df_temp.loc[\n",
    "            df_temp['colours'] != 'rgba(200,200,200,80)',:]\n",
    "        \n",
    "        colours = list(df_temp_grey['colours']) + list(df_temp_not_grey['colours'])\n",
    "        names   = list(df_temp_grey['names'] )+ list(df_temp_not_grey['names'])\n",
    "        columns = list(df_temp_grey['columns']) + list(df_temp_not_grey['columns'])\n",
    "                       \n",
    "    for column, name,colour in zip(columns,names, colours):\n",
    "        fig.add_trace(\n",
    "            go.Scatter( \n",
    "                x = df[x], y = df[column], name = name,mode = \"lines\",\n",
    "                line = dict(color = colour)\n",
    "                ),\n",
    "            row = row, col = col\n",
    "            )\n",
    "\n",
    "\n",
    "def greying(\n",
    "        n : int,new_color : int = \"blue\",\n",
    "        N : int = len(all_categories)) -> list[str]: \n",
    "    grey = [\"rgba(200,200,200,80)\"] * N\n",
    "    grey[n] = new_color\n",
    "    return grey\n",
    "\n",
    "# TOP\n",
    "add_traces_to_subplot(\n",
    "    fig, dfPlot, x = 'annee',\n",
    "    columns = ['Toutes', 'Genre', 'Toutes sauf Genre'],\n",
    "    names = [\"Toutes les disciplines\", \"Études de Genre\", \n",
    "             \"Toutes les disciplines sauf Études de Genre\"],\n",
    "    colours = [\"red\",\"blue\",\"green\"],\n",
    "    row = 1, col = 1\n",
    ")\n",
    "\n",
    "# Science Politique\n",
    "add_traces_to_subplot(\n",
    "    fig, dfPlot, x = 'annee',\n",
    "    columns = ['Toutes'] + all_categories ,\n",
    "    names = [\"\"] * (len(all_categories) + 1),\n",
    "    colours = [\"red\"] + greying(0),\n",
    "    row = 2, col = 1, reorder = True\n",
    ")\n",
    "\n",
    "# Sociologie\n",
    "add_traces_to_subplot(\n",
    "    fig, dfPlot, x = 'annee',\n",
    "    columns = ['Toutes'] + all_categories ,\n",
    "    names = [\"\"] * (len(all_categories) + 1),\n",
    "    colours = [\"red\"] + greying(1),\n",
    "    row = 2, col = 2, reorder = True\n",
    ")\n",
    "\n",
    "# Anthropologie\n",
    "add_traces_to_subplot(\n",
    "    fig, dfPlot, x = 'annee',\n",
    "    columns = ['Toutes'] + all_categories ,\n",
    "    names = [\"\"] * (len(all_categories) + 1),\n",
    "    colours = [\"red\"] + greying(2),\n",
    "    row = 3, col = 1, reorder = True\n",
    ")\n",
    "\n",
    "# Histoire\n",
    "add_traces_to_subplot(\n",
    "    fig, dfPlot, x = 'annee',\n",
    "    columns = ['Toutes'] + all_categories ,\n",
    "    names = [\"\"] * (len(all_categories) + 1),\n",
    "    colours = [\"red\"] + greying(3),\n",
    "    row = 3, col = 2, reorder = True\n",
    ")\n",
    "\n",
    "# Démographie\n",
    "add_traces_to_subplot(\n",
    "    fig, dfPlot, x = 'annee',\n",
    "    columns = ['Toutes'] + all_categories ,\n",
    "    names = [\"\"] * (len(all_categories) + 1),\n",
    "    colours = [\"red\"] + greying(5),\n",
    "    row = 3, col = 3, reorder = True\n",
    ")\n",
    "\n",
    "# Economie\n",
    "add_traces_to_subplot(\n",
    "    fig, dfPlot, x = 'annee',\n",
    "    columns = ['Toutes'] + all_categories ,\n",
    "    names = [\"\"] * (len(all_categories) + 1),\n",
    "    colours = [\"red\"] + greying(6),\n",
    "    row = 4, col = 1, reorder = True\n",
    ")\n",
    "\n",
    "#SIC\n",
    "add_traces_to_subplot(\n",
    "    fig, dfPlot, x = 'annee',\n",
    "    columns = ['Toutes'] + all_categories ,\n",
    "    names = [\"\"] * (len(all_categories) + 1),\n",
    "    colours = [\"red\"] + greying(7),\n",
    "    row = 4, col = 2, reorder = True\n",
    ")\n",
    "\n",
    "#Géographie\n",
    "add_traces_to_subplot(\n",
    "    fig, dfPlot, x = 'annee',\n",
    "    columns = ['Toutes'] + all_categories ,\n",
    "    names = [\"\"] * (len(all_categories) + 1),\n",
    "    colours = [\"red\"] + greying(8),\n",
    "    row = 4, col = 3, reorder = True\n",
    ")\n",
    "\n",
    "# Aréales\n",
    "add_traces_to_subplot(\n",
    "    fig, dfPlot, x = 'annee',\n",
    "    columns = ['Toutes'] + all_categories ,\n",
    "    names = [\"\"] * (len(all_categories) + 1),\n",
    "    colours = [\"red\"] + greying(9),\n",
    "    row = 5, col = 1, reorder = True\n",
    ")\n",
    "\n",
    "# Autres\n",
    "add_traces_to_subplot(\n",
    "    fig, dfPlot, x = 'annee',\n",
    "    columns = ['Toutes'] + all_categories ,\n",
    "    names = [\"\"] * (len(all_categories) + 1),\n",
    "    colours = [\"red\"] + greying(4),\n",
    "    row = 5, col = 2, reorder = True\n",
    ")\n",
    "\n"
   ]
  },
  {
   "cell_type": "code",
   "execution_count": 351,
   "metadata": {},
   "outputs": [
    {
     "data": {
      "application/vnd.plotly.v1+json": {
       "config": {
        "plotlyServerURL": "https://plot.ly"
       },
       "data": [
        {
         "line": {
          "color": "red"
         },
         "mode": "lines",
         "name": "Toutes les disciplines",
         "type": "scatter",
         "x": [
          2001,
          2002,
          2003,
          2004,
          2005,
          2006,
          2007,
          2008,
          2009,
          2010,
          2011,
          2012,
          2013,
          2014,
          2015,
          2016,
          2017,
          2018,
          2019,
          2020,
          2021,
          2022,
          2023
         ],
         "xaxis": "x",
         "y": [
          7.601184600197433,
          10.254163014899213,
          9.31899641577061,
          8.311518324607329,
          9.650259067357512,
          9.512893982808022,
          9.205867475973697,
          6.4500716674629714,
          10.21256931608133,
          8.185361628410567,
          8.379413015737985,
          11.15898319689789,
          8.82752376641014,
          8.702999577524292,
          9.347368421052632,
          9.67741935483871,
          11.011904761904761,
          8.860249697946033,
          10.437710437710438,
          10.715979137031768,
          11.10254433307633,
          12.056451612903226,
          13.452655889145495
         ],
         "yaxis": "y"
        },
        {
         "line": {
          "color": "blue"
         },
         "mode": "lines",
         "name": "Études de Genre",
         "type": "scatter",
         "x": [
          2001,
          2002,
          2003,
          2004,
          2005,
          2006,
          2007,
          2008,
          2009,
          2010,
          2011,
          2012,
          2013,
          2014,
          2015,
          2016,
          2017,
          2018,
          2019,
          2020,
          2021,
          2022,
          2023
         ],
         "xaxis": "x",
         "y": [
          92.5925925925926,
          91.22807017543859,
          83.33333333333334,
          95.52238805970148,
          89.85507246376811,
          93.82716049382715,
          90.625,
          91.04477611940298,
          83.14606741573034,
          95.18072289156626,
          87.2340425531915,
          92.5,
          81.48148148148148,
          88.73239436619718,
          93.93939393939394,
          96,
          91.54929577464789,
          93.67088607594937,
          93.05555555555556,
          95,
          95.37037037037037,
          91.30434782608695,
          95.94594594594594
         ],
         "yaxis": "y"
        },
        {
         "line": {
          "color": "green"
         },
         "mode": "lines",
         "name": "Toutes les disciplines sauf Études de Genre",
         "type": "scatter",
         "x": [
          2001,
          2002,
          2003,
          2004,
          2005,
          2006,
          2007,
          2008,
          2009,
          2010,
          2011,
          2012,
          2013,
          2014,
          2015,
          2016,
          2017,
          2018,
          2019,
          2020,
          2021,
          2022,
          2023
         ],
         "xaxis": "x",
         "y": [
          9.726759726759726,
          9.726759726759726,
          9.726759726759726,
          9.726759726759726,
          9.726759726759726,
          9.726759726759726,
          9.726759726759726,
          9.726759726759726,
          9.726759726759726,
          9.726759726759726,
          9.726759726759726,
          9.726759726759726,
          9.726759726759726,
          9.726759726759726,
          9.726759726759726,
          9.726759726759726,
          9.726759726759726,
          9.726759726759726,
          9.726759726759726,
          9.726759726759726,
          9.726759726759726,
          9.726759726759726,
          9.726759726759726
         ],
         "yaxis": "y"
        },
        {
         "line": {
          "color": "rgba(180,180,180,80)"
         },
         "mode": "lines",
         "name": "",
         "type": "scatter",
         "x": [
          2001,
          2002,
          2003,
          2004,
          2005,
          2006,
          2007,
          2008,
          2009,
          2010,
          2011,
          2012,
          2013,
          2014,
          2015,
          2016,
          2017,
          2018,
          2019,
          2020,
          2021,
          2022,
          2023
         ],
         "xaxis": "x3",
         "y": [
          4.242424242424243,
          3.1847133757961785,
          8.5,
          6.091370558375635,
          3.125,
          5.41871921182266,
          15.087719298245613,
          6.287425149700598,
          5.389221556886228,
          5.523255813953488,
          6.2645011600928076,
          17.50663129973475,
          7.122507122507122,
          5.974025974025974,
          8.27250608272506,
          8.997429305912597,
          12.672176308539946,
          11.557788944723619,
          8.87728459530026,
          8.955223880597014,
          7.774798927613941,
          15.123456790123457,
          8.415841584158416
         ],
         "yaxis": "y3"
        },
        {
         "line": {
          "color": "rgba(180,180,180,80)"
         },
         "mode": "lines",
         "name": "",
         "type": "scatter",
         "x": [
          2001,
          2002,
          2003,
          2004,
          2005,
          2006,
          2007,
          2008,
          2009,
          2010,
          2011,
          2012,
          2013,
          2014,
          2015,
          2016,
          2017,
          2018,
          2019,
          2020,
          2021,
          2022,
          2023
         ],
         "xaxis": "x3",
         "y": [
          8.75,
          7.317073170731707,
          7.59493670886076,
          5.681818181818182,
          17.24137931034483,
          8.60215053763441,
          4.62962962962963,
          3.7735849056603774,
          6.593406593406594,
          15.74074074074074,
          26.356589147286826,
          7.339449541284404,
          16.9811320754717,
          13.821138211382115,
          13.636363636363635,
          19.82758620689655,
          22.413793103448278,
          13.513513513513514,
          19.230769230769234,
          10.256410256410255,
          7.6190476190476195,
          6.224066390041494,
          6.748466257668712
         ],
         "yaxis": "y3"
        },
        {
         "line": {
          "color": "rgba(180,180,180,80)"
         },
         "mode": "lines",
         "name": "",
         "type": "scatter",
         "x": [
          2001,
          2002,
          2003,
          2004,
          2005,
          2006,
          2007,
          2008,
          2009,
          2010,
          2011,
          2012,
          2013,
          2014,
          2015,
          2016,
          2017,
          2018,
          2019,
          2020,
          2021,
          2022,
          2023
         ],
         "xaxis": "x3",
         "y": [
          2.6143790849673203,
          11.351351351351353,
          1.7045454545454544,
          3.1914893617021276,
          4.232804232804233,
          10.695187165775401,
          3.7815126050420167,
          3.3962264150943398,
          5.415162454873646,
          1.4336917562724014,
          1.7482517482517483,
          6.779661016949152,
          5.405405405405405,
          2.527075812274368,
          4.72972972972973,
          3.041825095057034,
          1.6,
          3.205128205128205,
          4.491017964071856,
          9.180327868852459,
          4.923076923076923,
          8.359133126934983,
          10.2803738317757
         ],
         "yaxis": "y3"
        },
        {
         "line": {
          "color": "rgba(180,180,180,80)"
         },
         "mode": "lines",
         "name": "",
         "type": "scatter",
         "x": [
          2001,
          2002,
          2003,
          2004,
          2005,
          2006,
          2007,
          2008,
          2009,
          2010,
          2011,
          2012,
          2013,
          2014,
          2015,
          2016,
          2017,
          2018,
          2019,
          2020,
          2021,
          2022,
          2023
         ],
         "xaxis": "x3",
         "y": [
          0.5882352941176471,
          8.108108108108109,
          6.719367588932807,
          3.4482758620689653,
          9.48905109489051,
          5.894308943089431,
          6.488549618320611,
          4.273504273504273,
          12.213740458015266,
          6.151142355008787,
          3.5381750465549344,
          10.469314079422382,
          5.325443786982249,
          7.4324324324324325,
          7.945736434108527,
          5.809859154929577,
          12.5,
          6.138933764135703,
          11.377245508982035,
          11.702127659574469,
          11.11111111111111,
          8.960573476702509,
          12.442396313364055
         ],
         "yaxis": "y3"
        },
        {
         "line": {
          "color": "rgba(180,180,180,80)"
         },
         "mode": "lines",
         "name": "",
         "type": "scatter",
         "x": [
          2001,
          2002,
          2003,
          2004,
          2005,
          2006,
          2007,
          2008,
          2009,
          2010,
          2011,
          2012,
          2013,
          2014,
          2015,
          2016,
          2017,
          2018,
          2019,
          2020,
          2021,
          2022,
          2023
         ],
         "xaxis": "x3",
         "y": [
          25,
          24,
          26.08695652173913,
          15,
          29.411764705882355,
          23.809523809523807,
          30.555555555555557,
          15.625,
          11.538461538461538,
          26,
          29.411764705882355,
          37.83783783783784,
          27.77777777777778,
          26.666666666666668,
          19.35483870967742,
          23.684210526315788,
          25,
          26.666666666666668,
          28.205128205128204,
          28.57142857142857,
          17.24137931034483,
          32.142857142857146,
          40
         ],
         "yaxis": "y3"
        },
        {
         "line": {
          "color": "rgba(180,180,180,80)"
         },
         "mode": "lines",
         "name": "",
         "type": "scatter",
         "x": [
          2001,
          2002,
          2003,
          2004,
          2005,
          2006,
          2007,
          2008,
          2009,
          2010,
          2011,
          2012,
          2013,
          2014,
          2015,
          2016,
          2017,
          2018,
          2019,
          2020,
          2021,
          2022,
          2023
         ],
         "xaxis": "x3",
         "y": [
          0,
          1.639344262295082,
          0,
          7.446808510638298,
          0,
          0,
          1.1111111111111112,
          0,
          1.6666666666666667,
          2.054794520547945,
          1.5873015873015872,
          0.7462686567164178,
          2.8368794326241136,
          14.388489208633093,
          0,
          1.0256410256410255,
          3.0864197530864197,
          1.8181818181818181,
          2.824858757062147,
          3.3557046979865772,
          4.57516339869281,
          4.320987654320987,
          2.2222222222222223
         ],
         "yaxis": "y3"
        },
        {
         "line": {
          "color": "rgba(180,180,180,80)"
         },
         "mode": "lines",
         "name": "",
         "type": "scatter",
         "x": [
          2001,
          2002,
          2003,
          2004,
          2005,
          2006,
          2007,
          2008,
          2009,
          2010,
          2011,
          2012,
          2013,
          2014,
          2015,
          2016,
          2017,
          2018,
          2019,
          2020,
          2021,
          2022,
          2023
         ],
         "xaxis": "x3",
         "y": [
          3.4482758620689653,
          0,
          7.586206896551724,
          2.4691358024691357,
          5.384615384615385,
          1.3888888888888888,
          1.574803149606299,
          2.3529411764705883,
          7.065217391304348,
          2.7624309392265194,
          4.81283422459893,
          1.6574585635359116,
          1.9230769230769231,
          7.142857142857142,
          4.166666666666666,
          0,
          3.664921465968586,
          2.9268292682926833,
          5.202312138728324,
          6.081081081081082,
          2.1164021164021163,
          4.444444444444445,
          8.653846153846153
         ],
         "yaxis": "y3"
        },
        {
         "line": {
          "color": "rgba(180,180,180,80)"
         },
         "mode": "lines",
         "name": "",
         "type": "scatter",
         "x": [
          2001,
          2002,
          2003,
          2004,
          2005,
          2006,
          2007,
          2008,
          2009,
          2010,
          2011,
          2012,
          2013,
          2014,
          2015,
          2016,
          2017,
          2018,
          2019,
          2020,
          2021,
          2022,
          2023
         ],
         "xaxis": "x3",
         "y": [
          0,
          0,
          0,
          0,
          0,
          0,
          2.7027027027027026,
          2.127659574468085,
          2.564102564102564,
          2.2222222222222223,
          0,
          4.761904761904762,
          4.545454545454546,
          0,
          2.1739130434782608,
          2.4390243902439024,
          0,
          3.125,
          0,
          0,
          0,
          2.0408163265306123,
          0
         ],
         "yaxis": "y3"
        },
        {
         "line": {
          "color": "rgba(180,180,180,80)"
         },
         "mode": "lines",
         "name": "",
         "type": "scatter",
         "x": [
          2001,
          2002,
          2003,
          2004,
          2005,
          2006,
          2007,
          2008,
          2009,
          2010,
          2011,
          2012,
          2013,
          2014,
          2015,
          2016,
          2017,
          2018,
          2019,
          2020,
          2021,
          2022,
          2023
         ],
         "xaxis": "x3",
         "y": [
          3.571428571428571,
          4.10958904109589,
          2.73972602739726,
          7.377049180327869,
          1.9230769230769231,
          1.3071895424836601,
          5.0359712230215825,
          2.6881720430107525,
          5.327868852459016,
          4.291845493562231,
          1.3333333333333335,
          3.91304347826087,
          3.2388663967611335,
          1.951219512195122,
          2.6119402985074625,
          5.147058823529411,
          7.171314741035857,
          6.437768240343347,
          8.203125,
          4.910714285714286,
          9.803921568627452,
          10.50228310502283,
          13.612565445026178
         ],
         "yaxis": "y3"
        },
        {
         "line": {
          "color": "red"
         },
         "mode": "lines",
         "name": "",
         "type": "scatter",
         "x": [
          2001,
          2002,
          2003,
          2004,
          2005,
          2006,
          2007,
          2008,
          2009,
          2010,
          2011,
          2012,
          2013,
          2014,
          2015,
          2016,
          2017,
          2018,
          2019,
          2020,
          2021,
          2022,
          2023
         ],
         "xaxis": "x3",
         "y": [
          7.601184600197433,
          10.254163014899213,
          9.31899641577061,
          8.311518324607329,
          9.650259067357512,
          9.512893982808022,
          9.205867475973697,
          6.4500716674629714,
          10.21256931608133,
          8.185361628410567,
          8.379413015737985,
          11.15898319689789,
          8.82752376641014,
          8.702999577524292,
          9.347368421052632,
          9.67741935483871,
          11.011904761904761,
          8.860249697946033,
          10.437710437710438,
          10.715979137031768,
          11.10254433307633,
          12.056451612903226,
          13.452655889145495
         ],
         "yaxis": "y3"
        },
        {
         "line": {
          "color": "blue"
         },
         "mode": "lines",
         "name": "",
         "type": "scatter",
         "x": [
          2001,
          2002,
          2003,
          2004,
          2005,
          2006,
          2007,
          2008,
          2009,
          2010,
          2011,
          2012,
          2013,
          2014,
          2015,
          2016,
          2017,
          2018,
          2019,
          2020,
          2021,
          2022,
          2023
         ],
         "xaxis": "x3",
         "y": [
          1,
          4.678362573099415,
          3.1413612565445024,
          2.4271844660194173,
          2.515723270440252,
          7.647058823529412,
          4.184100418410042,
          1.968503937007874,
          5.084745762711865,
          1.107011070110701,
          2.3346303501945527,
          1.4184397163120568,
          6.405693950177936,
          1.9672131147540985,
          12.741312741312742,
          5.604719764011799,
          3.202846975088968,
          1.3377926421404682,
          3.0716723549488054,
          6.343283582089552,
          5.844155844155844,
          8.552631578947368,
          7.657657657657657
         ],
         "yaxis": "y3"
        },
        {
         "line": {
          "color": "rgba(180,180,180,80)"
         },
         "mode": "lines",
         "name": "",
         "type": "scatter",
         "x": [
          2001,
          2002,
          2003,
          2004,
          2005,
          2006,
          2007,
          2008,
          2009,
          2010,
          2011,
          2012,
          2013,
          2014,
          2015,
          2016,
          2017,
          2018,
          2019,
          2020,
          2021,
          2022,
          2023
         ],
         "xaxis": "x4",
         "y": [
          1,
          4.678362573099415,
          3.1413612565445024,
          2.4271844660194173,
          2.515723270440252,
          7.647058823529412,
          4.184100418410042,
          1.968503937007874,
          5.084745762711865,
          1.107011070110701,
          2.3346303501945527,
          1.4184397163120568,
          6.405693950177936,
          1.9672131147540985,
          12.741312741312742,
          5.604719764011799,
          3.202846975088968,
          1.3377926421404682,
          3.0716723549488054,
          6.343283582089552,
          5.844155844155844,
          8.552631578947368,
          7.657657657657657
         ],
         "yaxis": "y4"
        },
        {
         "line": {
          "color": "rgba(180,180,180,80)"
         },
         "mode": "lines",
         "name": "",
         "type": "scatter",
         "x": [
          2001,
          2002,
          2003,
          2004,
          2005,
          2006,
          2007,
          2008,
          2009,
          2010,
          2011,
          2012,
          2013,
          2014,
          2015,
          2016,
          2017,
          2018,
          2019,
          2020,
          2021,
          2022,
          2023
         ],
         "xaxis": "x4",
         "y": [
          8.75,
          7.317073170731707,
          7.59493670886076,
          5.681818181818182,
          17.24137931034483,
          8.60215053763441,
          4.62962962962963,
          3.7735849056603774,
          6.593406593406594,
          15.74074074074074,
          26.356589147286826,
          7.339449541284404,
          16.9811320754717,
          13.821138211382115,
          13.636363636363635,
          19.82758620689655,
          22.413793103448278,
          13.513513513513514,
          19.230769230769234,
          10.256410256410255,
          7.6190476190476195,
          6.224066390041494,
          6.748466257668712
         ],
         "yaxis": "y4"
        },
        {
         "line": {
          "color": "rgba(180,180,180,80)"
         },
         "mode": "lines",
         "name": "",
         "type": "scatter",
         "x": [
          2001,
          2002,
          2003,
          2004,
          2005,
          2006,
          2007,
          2008,
          2009,
          2010,
          2011,
          2012,
          2013,
          2014,
          2015,
          2016,
          2017,
          2018,
          2019,
          2020,
          2021,
          2022,
          2023
         ],
         "xaxis": "x4",
         "y": [
          2.6143790849673203,
          11.351351351351353,
          1.7045454545454544,
          3.1914893617021276,
          4.232804232804233,
          10.695187165775401,
          3.7815126050420167,
          3.3962264150943398,
          5.415162454873646,
          1.4336917562724014,
          1.7482517482517483,
          6.779661016949152,
          5.405405405405405,
          2.527075812274368,
          4.72972972972973,
          3.041825095057034,
          1.6,
          3.205128205128205,
          4.491017964071856,
          9.180327868852459,
          4.923076923076923,
          8.359133126934983,
          10.2803738317757
         ],
         "yaxis": "y4"
        },
        {
         "line": {
          "color": "rgba(180,180,180,80)"
         },
         "mode": "lines",
         "name": "",
         "type": "scatter",
         "x": [
          2001,
          2002,
          2003,
          2004,
          2005,
          2006,
          2007,
          2008,
          2009,
          2010,
          2011,
          2012,
          2013,
          2014,
          2015,
          2016,
          2017,
          2018,
          2019,
          2020,
          2021,
          2022,
          2023
         ],
         "xaxis": "x4",
         "y": [
          0.5882352941176471,
          8.108108108108109,
          6.719367588932807,
          3.4482758620689653,
          9.48905109489051,
          5.894308943089431,
          6.488549618320611,
          4.273504273504273,
          12.213740458015266,
          6.151142355008787,
          3.5381750465549344,
          10.469314079422382,
          5.325443786982249,
          7.4324324324324325,
          7.945736434108527,
          5.809859154929577,
          12.5,
          6.138933764135703,
          11.377245508982035,
          11.702127659574469,
          11.11111111111111,
          8.960573476702509,
          12.442396313364055
         ],
         "yaxis": "y4"
        },
        {
         "line": {
          "color": "rgba(180,180,180,80)"
         },
         "mode": "lines",
         "name": "",
         "type": "scatter",
         "x": [
          2001,
          2002,
          2003,
          2004,
          2005,
          2006,
          2007,
          2008,
          2009,
          2010,
          2011,
          2012,
          2013,
          2014,
          2015,
          2016,
          2017,
          2018,
          2019,
          2020,
          2021,
          2022,
          2023
         ],
         "xaxis": "x4",
         "y": [
          25,
          24,
          26.08695652173913,
          15,
          29.411764705882355,
          23.809523809523807,
          30.555555555555557,
          15.625,
          11.538461538461538,
          26,
          29.411764705882355,
          37.83783783783784,
          27.77777777777778,
          26.666666666666668,
          19.35483870967742,
          23.684210526315788,
          25,
          26.666666666666668,
          28.205128205128204,
          28.57142857142857,
          17.24137931034483,
          32.142857142857146,
          40
         ],
         "yaxis": "y4"
        },
        {
         "line": {
          "color": "rgba(180,180,180,80)"
         },
         "mode": "lines",
         "name": "",
         "type": "scatter",
         "x": [
          2001,
          2002,
          2003,
          2004,
          2005,
          2006,
          2007,
          2008,
          2009,
          2010,
          2011,
          2012,
          2013,
          2014,
          2015,
          2016,
          2017,
          2018,
          2019,
          2020,
          2021,
          2022,
          2023
         ],
         "xaxis": "x4",
         "y": [
          0,
          1.639344262295082,
          0,
          7.446808510638298,
          0,
          0,
          1.1111111111111112,
          0,
          1.6666666666666667,
          2.054794520547945,
          1.5873015873015872,
          0.7462686567164178,
          2.8368794326241136,
          14.388489208633093,
          0,
          1.0256410256410255,
          3.0864197530864197,
          1.8181818181818181,
          2.824858757062147,
          3.3557046979865772,
          4.57516339869281,
          4.320987654320987,
          2.2222222222222223
         ],
         "yaxis": "y4"
        },
        {
         "line": {
          "color": "rgba(180,180,180,80)"
         },
         "mode": "lines",
         "name": "",
         "type": "scatter",
         "x": [
          2001,
          2002,
          2003,
          2004,
          2005,
          2006,
          2007,
          2008,
          2009,
          2010,
          2011,
          2012,
          2013,
          2014,
          2015,
          2016,
          2017,
          2018,
          2019,
          2020,
          2021,
          2022,
          2023
         ],
         "xaxis": "x4",
         "y": [
          3.4482758620689653,
          0,
          7.586206896551724,
          2.4691358024691357,
          5.384615384615385,
          1.3888888888888888,
          1.574803149606299,
          2.3529411764705883,
          7.065217391304348,
          2.7624309392265194,
          4.81283422459893,
          1.6574585635359116,
          1.9230769230769231,
          7.142857142857142,
          4.166666666666666,
          0,
          3.664921465968586,
          2.9268292682926833,
          5.202312138728324,
          6.081081081081082,
          2.1164021164021163,
          4.444444444444445,
          8.653846153846153
         ],
         "yaxis": "y4"
        },
        {
         "line": {
          "color": "rgba(180,180,180,80)"
         },
         "mode": "lines",
         "name": "",
         "type": "scatter",
         "x": [
          2001,
          2002,
          2003,
          2004,
          2005,
          2006,
          2007,
          2008,
          2009,
          2010,
          2011,
          2012,
          2013,
          2014,
          2015,
          2016,
          2017,
          2018,
          2019,
          2020,
          2021,
          2022,
          2023
         ],
         "xaxis": "x4",
         "y": [
          0,
          0,
          0,
          0,
          0,
          0,
          2.7027027027027026,
          2.127659574468085,
          2.564102564102564,
          2.2222222222222223,
          0,
          4.761904761904762,
          4.545454545454546,
          0,
          2.1739130434782608,
          2.4390243902439024,
          0,
          3.125,
          0,
          0,
          0,
          2.0408163265306123,
          0
         ],
         "yaxis": "y4"
        },
        {
         "line": {
          "color": "rgba(180,180,180,80)"
         },
         "mode": "lines",
         "name": "",
         "type": "scatter",
         "x": [
          2001,
          2002,
          2003,
          2004,
          2005,
          2006,
          2007,
          2008,
          2009,
          2010,
          2011,
          2012,
          2013,
          2014,
          2015,
          2016,
          2017,
          2018,
          2019,
          2020,
          2021,
          2022,
          2023
         ],
         "xaxis": "x4",
         "y": [
          3.571428571428571,
          4.10958904109589,
          2.73972602739726,
          7.377049180327869,
          1.9230769230769231,
          1.3071895424836601,
          5.0359712230215825,
          2.6881720430107525,
          5.327868852459016,
          4.291845493562231,
          1.3333333333333335,
          3.91304347826087,
          3.2388663967611335,
          1.951219512195122,
          2.6119402985074625,
          5.147058823529411,
          7.171314741035857,
          6.437768240343347,
          8.203125,
          4.910714285714286,
          9.803921568627452,
          10.50228310502283,
          13.612565445026178
         ],
         "yaxis": "y4"
        },
        {
         "line": {
          "color": "red"
         },
         "mode": "lines",
         "name": "",
         "type": "scatter",
         "x": [
          2001,
          2002,
          2003,
          2004,
          2005,
          2006,
          2007,
          2008,
          2009,
          2010,
          2011,
          2012,
          2013,
          2014,
          2015,
          2016,
          2017,
          2018,
          2019,
          2020,
          2021,
          2022,
          2023
         ],
         "xaxis": "x4",
         "y": [
          7.601184600197433,
          10.254163014899213,
          9.31899641577061,
          8.311518324607329,
          9.650259067357512,
          9.512893982808022,
          9.205867475973697,
          6.4500716674629714,
          10.21256931608133,
          8.185361628410567,
          8.379413015737985,
          11.15898319689789,
          8.82752376641014,
          8.702999577524292,
          9.347368421052632,
          9.67741935483871,
          11.011904761904761,
          8.860249697946033,
          10.437710437710438,
          10.715979137031768,
          11.10254433307633,
          12.056451612903226,
          13.452655889145495
         ],
         "yaxis": "y4"
        },
        {
         "line": {
          "color": "blue"
         },
         "mode": "lines",
         "name": "",
         "type": "scatter",
         "x": [
          2001,
          2002,
          2003,
          2004,
          2005,
          2006,
          2007,
          2008,
          2009,
          2010,
          2011,
          2012,
          2013,
          2014,
          2015,
          2016,
          2017,
          2018,
          2019,
          2020,
          2021,
          2022,
          2023
         ],
         "xaxis": "x4",
         "y": [
          4.242424242424243,
          3.1847133757961785,
          8.5,
          6.091370558375635,
          3.125,
          5.41871921182266,
          15.087719298245613,
          6.287425149700598,
          5.389221556886228,
          5.523255813953488,
          6.2645011600928076,
          17.50663129973475,
          7.122507122507122,
          5.974025974025974,
          8.27250608272506,
          8.997429305912597,
          12.672176308539946,
          11.557788944723619,
          8.87728459530026,
          8.955223880597014,
          7.774798927613941,
          15.123456790123457,
          8.415841584158416
         ],
         "yaxis": "y4"
        },
        {
         "line": {
          "color": "rgba(180,180,180,80)"
         },
         "mode": "lines",
         "name": "",
         "type": "scatter",
         "x": [
          2001,
          2002,
          2003,
          2004,
          2005,
          2006,
          2007,
          2008,
          2009,
          2010,
          2011,
          2012,
          2013,
          2014,
          2015,
          2016,
          2017,
          2018,
          2019,
          2020,
          2021,
          2022,
          2023
         ],
         "xaxis": "x6",
         "y": [
          1,
          4.678362573099415,
          3.1413612565445024,
          2.4271844660194173,
          2.515723270440252,
          7.647058823529412,
          4.184100418410042,
          1.968503937007874,
          5.084745762711865,
          1.107011070110701,
          2.3346303501945527,
          1.4184397163120568,
          6.405693950177936,
          1.9672131147540985,
          12.741312741312742,
          5.604719764011799,
          3.202846975088968,
          1.3377926421404682,
          3.0716723549488054,
          6.343283582089552,
          5.844155844155844,
          8.552631578947368,
          7.657657657657657
         ],
         "yaxis": "y6"
        },
        {
         "line": {
          "color": "rgba(180,180,180,80)"
         },
         "mode": "lines",
         "name": "",
         "type": "scatter",
         "x": [
          2001,
          2002,
          2003,
          2004,
          2005,
          2006,
          2007,
          2008,
          2009,
          2010,
          2011,
          2012,
          2013,
          2014,
          2015,
          2016,
          2017,
          2018,
          2019,
          2020,
          2021,
          2022,
          2023
         ],
         "xaxis": "x6",
         "y": [
          4.242424242424243,
          3.1847133757961785,
          8.5,
          6.091370558375635,
          3.125,
          5.41871921182266,
          15.087719298245613,
          6.287425149700598,
          5.389221556886228,
          5.523255813953488,
          6.2645011600928076,
          17.50663129973475,
          7.122507122507122,
          5.974025974025974,
          8.27250608272506,
          8.997429305912597,
          12.672176308539946,
          11.557788944723619,
          8.87728459530026,
          8.955223880597014,
          7.774798927613941,
          15.123456790123457,
          8.415841584158416
         ],
         "yaxis": "y6"
        },
        {
         "line": {
          "color": "rgba(180,180,180,80)"
         },
         "mode": "lines",
         "name": "",
         "type": "scatter",
         "x": [
          2001,
          2002,
          2003,
          2004,
          2005,
          2006,
          2007,
          2008,
          2009,
          2010,
          2011,
          2012,
          2013,
          2014,
          2015,
          2016,
          2017,
          2018,
          2019,
          2020,
          2021,
          2022,
          2023
         ],
         "xaxis": "x6",
         "y": [
          2.6143790849673203,
          11.351351351351353,
          1.7045454545454544,
          3.1914893617021276,
          4.232804232804233,
          10.695187165775401,
          3.7815126050420167,
          3.3962264150943398,
          5.415162454873646,
          1.4336917562724014,
          1.7482517482517483,
          6.779661016949152,
          5.405405405405405,
          2.527075812274368,
          4.72972972972973,
          3.041825095057034,
          1.6,
          3.205128205128205,
          4.491017964071856,
          9.180327868852459,
          4.923076923076923,
          8.359133126934983,
          10.2803738317757
         ],
         "yaxis": "y6"
        },
        {
         "line": {
          "color": "rgba(180,180,180,80)"
         },
         "mode": "lines",
         "name": "",
         "type": "scatter",
         "x": [
          2001,
          2002,
          2003,
          2004,
          2005,
          2006,
          2007,
          2008,
          2009,
          2010,
          2011,
          2012,
          2013,
          2014,
          2015,
          2016,
          2017,
          2018,
          2019,
          2020,
          2021,
          2022,
          2023
         ],
         "xaxis": "x6",
         "y": [
          0.5882352941176471,
          8.108108108108109,
          6.719367588932807,
          3.4482758620689653,
          9.48905109489051,
          5.894308943089431,
          6.488549618320611,
          4.273504273504273,
          12.213740458015266,
          6.151142355008787,
          3.5381750465549344,
          10.469314079422382,
          5.325443786982249,
          7.4324324324324325,
          7.945736434108527,
          5.809859154929577,
          12.5,
          6.138933764135703,
          11.377245508982035,
          11.702127659574469,
          11.11111111111111,
          8.960573476702509,
          12.442396313364055
         ],
         "yaxis": "y6"
        },
        {
         "line": {
          "color": "rgba(180,180,180,80)"
         },
         "mode": "lines",
         "name": "",
         "type": "scatter",
         "x": [
          2001,
          2002,
          2003,
          2004,
          2005,
          2006,
          2007,
          2008,
          2009,
          2010,
          2011,
          2012,
          2013,
          2014,
          2015,
          2016,
          2017,
          2018,
          2019,
          2020,
          2021,
          2022,
          2023
         ],
         "xaxis": "x6",
         "y": [
          25,
          24,
          26.08695652173913,
          15,
          29.411764705882355,
          23.809523809523807,
          30.555555555555557,
          15.625,
          11.538461538461538,
          26,
          29.411764705882355,
          37.83783783783784,
          27.77777777777778,
          26.666666666666668,
          19.35483870967742,
          23.684210526315788,
          25,
          26.666666666666668,
          28.205128205128204,
          28.57142857142857,
          17.24137931034483,
          32.142857142857146,
          40
         ],
         "yaxis": "y6"
        },
        {
         "line": {
          "color": "rgba(180,180,180,80)"
         },
         "mode": "lines",
         "name": "",
         "type": "scatter",
         "x": [
          2001,
          2002,
          2003,
          2004,
          2005,
          2006,
          2007,
          2008,
          2009,
          2010,
          2011,
          2012,
          2013,
          2014,
          2015,
          2016,
          2017,
          2018,
          2019,
          2020,
          2021,
          2022,
          2023
         ],
         "xaxis": "x6",
         "y": [
          0,
          1.639344262295082,
          0,
          7.446808510638298,
          0,
          0,
          1.1111111111111112,
          0,
          1.6666666666666667,
          2.054794520547945,
          1.5873015873015872,
          0.7462686567164178,
          2.8368794326241136,
          14.388489208633093,
          0,
          1.0256410256410255,
          3.0864197530864197,
          1.8181818181818181,
          2.824858757062147,
          3.3557046979865772,
          4.57516339869281,
          4.320987654320987,
          2.2222222222222223
         ],
         "yaxis": "y6"
        },
        {
         "line": {
          "color": "rgba(180,180,180,80)"
         },
         "mode": "lines",
         "name": "",
         "type": "scatter",
         "x": [
          2001,
          2002,
          2003,
          2004,
          2005,
          2006,
          2007,
          2008,
          2009,
          2010,
          2011,
          2012,
          2013,
          2014,
          2015,
          2016,
          2017,
          2018,
          2019,
          2020,
          2021,
          2022,
          2023
         ],
         "xaxis": "x6",
         "y": [
          3.4482758620689653,
          0,
          7.586206896551724,
          2.4691358024691357,
          5.384615384615385,
          1.3888888888888888,
          1.574803149606299,
          2.3529411764705883,
          7.065217391304348,
          2.7624309392265194,
          4.81283422459893,
          1.6574585635359116,
          1.9230769230769231,
          7.142857142857142,
          4.166666666666666,
          0,
          3.664921465968586,
          2.9268292682926833,
          5.202312138728324,
          6.081081081081082,
          2.1164021164021163,
          4.444444444444445,
          8.653846153846153
         ],
         "yaxis": "y6"
        },
        {
         "line": {
          "color": "rgba(180,180,180,80)"
         },
         "mode": "lines",
         "name": "",
         "type": "scatter",
         "x": [
          2001,
          2002,
          2003,
          2004,
          2005,
          2006,
          2007,
          2008,
          2009,
          2010,
          2011,
          2012,
          2013,
          2014,
          2015,
          2016,
          2017,
          2018,
          2019,
          2020,
          2021,
          2022,
          2023
         ],
         "xaxis": "x6",
         "y": [
          0,
          0,
          0,
          0,
          0,
          0,
          2.7027027027027026,
          2.127659574468085,
          2.564102564102564,
          2.2222222222222223,
          0,
          4.761904761904762,
          4.545454545454546,
          0,
          2.1739130434782608,
          2.4390243902439024,
          0,
          3.125,
          0,
          0,
          0,
          2.0408163265306123,
          0
         ],
         "yaxis": "y6"
        },
        {
         "line": {
          "color": "rgba(180,180,180,80)"
         },
         "mode": "lines",
         "name": "",
         "type": "scatter",
         "x": [
          2001,
          2002,
          2003,
          2004,
          2005,
          2006,
          2007,
          2008,
          2009,
          2010,
          2011,
          2012,
          2013,
          2014,
          2015,
          2016,
          2017,
          2018,
          2019,
          2020,
          2021,
          2022,
          2023
         ],
         "xaxis": "x6",
         "y": [
          3.571428571428571,
          4.10958904109589,
          2.73972602739726,
          7.377049180327869,
          1.9230769230769231,
          1.3071895424836601,
          5.0359712230215825,
          2.6881720430107525,
          5.327868852459016,
          4.291845493562231,
          1.3333333333333335,
          3.91304347826087,
          3.2388663967611335,
          1.951219512195122,
          2.6119402985074625,
          5.147058823529411,
          7.171314741035857,
          6.437768240343347,
          8.203125,
          4.910714285714286,
          9.803921568627452,
          10.50228310502283,
          13.612565445026178
         ],
         "yaxis": "y6"
        },
        {
         "line": {
          "color": "red"
         },
         "mode": "lines",
         "name": "",
         "type": "scatter",
         "x": [
          2001,
          2002,
          2003,
          2004,
          2005,
          2006,
          2007,
          2008,
          2009,
          2010,
          2011,
          2012,
          2013,
          2014,
          2015,
          2016,
          2017,
          2018,
          2019,
          2020,
          2021,
          2022,
          2023
         ],
         "xaxis": "x6",
         "y": [
          7.601184600197433,
          10.254163014899213,
          9.31899641577061,
          8.311518324607329,
          9.650259067357512,
          9.512893982808022,
          9.205867475973697,
          6.4500716674629714,
          10.21256931608133,
          8.185361628410567,
          8.379413015737985,
          11.15898319689789,
          8.82752376641014,
          8.702999577524292,
          9.347368421052632,
          9.67741935483871,
          11.011904761904761,
          8.860249697946033,
          10.437710437710438,
          10.715979137031768,
          11.10254433307633,
          12.056451612903226,
          13.452655889145495
         ],
         "yaxis": "y6"
        },
        {
         "line": {
          "color": "blue"
         },
         "mode": "lines",
         "name": "",
         "type": "scatter",
         "x": [
          2001,
          2002,
          2003,
          2004,
          2005,
          2006,
          2007,
          2008,
          2009,
          2010,
          2011,
          2012,
          2013,
          2014,
          2015,
          2016,
          2017,
          2018,
          2019,
          2020,
          2021,
          2022,
          2023
         ],
         "xaxis": "x6",
         "y": [
          8.75,
          7.317073170731707,
          7.59493670886076,
          5.681818181818182,
          17.24137931034483,
          8.60215053763441,
          4.62962962962963,
          3.7735849056603774,
          6.593406593406594,
          15.74074074074074,
          26.356589147286826,
          7.339449541284404,
          16.9811320754717,
          13.821138211382115,
          13.636363636363635,
          19.82758620689655,
          22.413793103448278,
          13.513513513513514,
          19.230769230769234,
          10.256410256410255,
          7.6190476190476195,
          6.224066390041494,
          6.748466257668712
         ],
         "yaxis": "y6"
        },
        {
         "line": {
          "color": "rgba(180,180,180,80)"
         },
         "mode": "lines",
         "name": "",
         "type": "scatter",
         "x": [
          2001,
          2002,
          2003,
          2004,
          2005,
          2006,
          2007,
          2008,
          2009,
          2010,
          2011,
          2012,
          2013,
          2014,
          2015,
          2016,
          2017,
          2018,
          2019,
          2020,
          2021,
          2022,
          2023
         ],
         "xaxis": "x7",
         "y": [
          1,
          4.678362573099415,
          3.1413612565445024,
          2.4271844660194173,
          2.515723270440252,
          7.647058823529412,
          4.184100418410042,
          1.968503937007874,
          5.084745762711865,
          1.107011070110701,
          2.3346303501945527,
          1.4184397163120568,
          6.405693950177936,
          1.9672131147540985,
          12.741312741312742,
          5.604719764011799,
          3.202846975088968,
          1.3377926421404682,
          3.0716723549488054,
          6.343283582089552,
          5.844155844155844,
          8.552631578947368,
          7.657657657657657
         ],
         "yaxis": "y7"
        },
        {
         "line": {
          "color": "rgba(180,180,180,80)"
         },
         "mode": "lines",
         "name": "",
         "type": "scatter",
         "x": [
          2001,
          2002,
          2003,
          2004,
          2005,
          2006,
          2007,
          2008,
          2009,
          2010,
          2011,
          2012,
          2013,
          2014,
          2015,
          2016,
          2017,
          2018,
          2019,
          2020,
          2021,
          2022,
          2023
         ],
         "xaxis": "x7",
         "y": [
          4.242424242424243,
          3.1847133757961785,
          8.5,
          6.091370558375635,
          3.125,
          5.41871921182266,
          15.087719298245613,
          6.287425149700598,
          5.389221556886228,
          5.523255813953488,
          6.2645011600928076,
          17.50663129973475,
          7.122507122507122,
          5.974025974025974,
          8.27250608272506,
          8.997429305912597,
          12.672176308539946,
          11.557788944723619,
          8.87728459530026,
          8.955223880597014,
          7.774798927613941,
          15.123456790123457,
          8.415841584158416
         ],
         "yaxis": "y7"
        },
        {
         "line": {
          "color": "rgba(180,180,180,80)"
         },
         "mode": "lines",
         "name": "",
         "type": "scatter",
         "x": [
          2001,
          2002,
          2003,
          2004,
          2005,
          2006,
          2007,
          2008,
          2009,
          2010,
          2011,
          2012,
          2013,
          2014,
          2015,
          2016,
          2017,
          2018,
          2019,
          2020,
          2021,
          2022,
          2023
         ],
         "xaxis": "x7",
         "y": [
          8.75,
          7.317073170731707,
          7.59493670886076,
          5.681818181818182,
          17.24137931034483,
          8.60215053763441,
          4.62962962962963,
          3.7735849056603774,
          6.593406593406594,
          15.74074074074074,
          26.356589147286826,
          7.339449541284404,
          16.9811320754717,
          13.821138211382115,
          13.636363636363635,
          19.82758620689655,
          22.413793103448278,
          13.513513513513514,
          19.230769230769234,
          10.256410256410255,
          7.6190476190476195,
          6.224066390041494,
          6.748466257668712
         ],
         "yaxis": "y7"
        },
        {
         "line": {
          "color": "rgba(180,180,180,80)"
         },
         "mode": "lines",
         "name": "",
         "type": "scatter",
         "x": [
          2001,
          2002,
          2003,
          2004,
          2005,
          2006,
          2007,
          2008,
          2009,
          2010,
          2011,
          2012,
          2013,
          2014,
          2015,
          2016,
          2017,
          2018,
          2019,
          2020,
          2021,
          2022,
          2023
         ],
         "xaxis": "x7",
         "y": [
          0.5882352941176471,
          8.108108108108109,
          6.719367588932807,
          3.4482758620689653,
          9.48905109489051,
          5.894308943089431,
          6.488549618320611,
          4.273504273504273,
          12.213740458015266,
          6.151142355008787,
          3.5381750465549344,
          10.469314079422382,
          5.325443786982249,
          7.4324324324324325,
          7.945736434108527,
          5.809859154929577,
          12.5,
          6.138933764135703,
          11.377245508982035,
          11.702127659574469,
          11.11111111111111,
          8.960573476702509,
          12.442396313364055
         ],
         "yaxis": "y7"
        },
        {
         "line": {
          "color": "rgba(180,180,180,80)"
         },
         "mode": "lines",
         "name": "",
         "type": "scatter",
         "x": [
          2001,
          2002,
          2003,
          2004,
          2005,
          2006,
          2007,
          2008,
          2009,
          2010,
          2011,
          2012,
          2013,
          2014,
          2015,
          2016,
          2017,
          2018,
          2019,
          2020,
          2021,
          2022,
          2023
         ],
         "xaxis": "x7",
         "y": [
          25,
          24,
          26.08695652173913,
          15,
          29.411764705882355,
          23.809523809523807,
          30.555555555555557,
          15.625,
          11.538461538461538,
          26,
          29.411764705882355,
          37.83783783783784,
          27.77777777777778,
          26.666666666666668,
          19.35483870967742,
          23.684210526315788,
          25,
          26.666666666666668,
          28.205128205128204,
          28.57142857142857,
          17.24137931034483,
          32.142857142857146,
          40
         ],
         "yaxis": "y7"
        },
        {
         "line": {
          "color": "rgba(180,180,180,80)"
         },
         "mode": "lines",
         "name": "",
         "type": "scatter",
         "x": [
          2001,
          2002,
          2003,
          2004,
          2005,
          2006,
          2007,
          2008,
          2009,
          2010,
          2011,
          2012,
          2013,
          2014,
          2015,
          2016,
          2017,
          2018,
          2019,
          2020,
          2021,
          2022,
          2023
         ],
         "xaxis": "x7",
         "y": [
          0,
          1.639344262295082,
          0,
          7.446808510638298,
          0,
          0,
          1.1111111111111112,
          0,
          1.6666666666666667,
          2.054794520547945,
          1.5873015873015872,
          0.7462686567164178,
          2.8368794326241136,
          14.388489208633093,
          0,
          1.0256410256410255,
          3.0864197530864197,
          1.8181818181818181,
          2.824858757062147,
          3.3557046979865772,
          4.57516339869281,
          4.320987654320987,
          2.2222222222222223
         ],
         "yaxis": "y7"
        },
        {
         "line": {
          "color": "rgba(180,180,180,80)"
         },
         "mode": "lines",
         "name": "",
         "type": "scatter",
         "x": [
          2001,
          2002,
          2003,
          2004,
          2005,
          2006,
          2007,
          2008,
          2009,
          2010,
          2011,
          2012,
          2013,
          2014,
          2015,
          2016,
          2017,
          2018,
          2019,
          2020,
          2021,
          2022,
          2023
         ],
         "xaxis": "x7",
         "y": [
          3.4482758620689653,
          0,
          7.586206896551724,
          2.4691358024691357,
          5.384615384615385,
          1.3888888888888888,
          1.574803149606299,
          2.3529411764705883,
          7.065217391304348,
          2.7624309392265194,
          4.81283422459893,
          1.6574585635359116,
          1.9230769230769231,
          7.142857142857142,
          4.166666666666666,
          0,
          3.664921465968586,
          2.9268292682926833,
          5.202312138728324,
          6.081081081081082,
          2.1164021164021163,
          4.444444444444445,
          8.653846153846153
         ],
         "yaxis": "y7"
        },
        {
         "line": {
          "color": "rgba(180,180,180,80)"
         },
         "mode": "lines",
         "name": "",
         "type": "scatter",
         "x": [
          2001,
          2002,
          2003,
          2004,
          2005,
          2006,
          2007,
          2008,
          2009,
          2010,
          2011,
          2012,
          2013,
          2014,
          2015,
          2016,
          2017,
          2018,
          2019,
          2020,
          2021,
          2022,
          2023
         ],
         "xaxis": "x7",
         "y": [
          0,
          0,
          0,
          0,
          0,
          0,
          2.7027027027027026,
          2.127659574468085,
          2.564102564102564,
          2.2222222222222223,
          0,
          4.761904761904762,
          4.545454545454546,
          0,
          2.1739130434782608,
          2.4390243902439024,
          0,
          3.125,
          0,
          0,
          0,
          2.0408163265306123,
          0
         ],
         "yaxis": "y7"
        },
        {
         "line": {
          "color": "rgba(180,180,180,80)"
         },
         "mode": "lines",
         "name": "",
         "type": "scatter",
         "x": [
          2001,
          2002,
          2003,
          2004,
          2005,
          2006,
          2007,
          2008,
          2009,
          2010,
          2011,
          2012,
          2013,
          2014,
          2015,
          2016,
          2017,
          2018,
          2019,
          2020,
          2021,
          2022,
          2023
         ],
         "xaxis": "x7",
         "y": [
          3.571428571428571,
          4.10958904109589,
          2.73972602739726,
          7.377049180327869,
          1.9230769230769231,
          1.3071895424836601,
          5.0359712230215825,
          2.6881720430107525,
          5.327868852459016,
          4.291845493562231,
          1.3333333333333335,
          3.91304347826087,
          3.2388663967611335,
          1.951219512195122,
          2.6119402985074625,
          5.147058823529411,
          7.171314741035857,
          6.437768240343347,
          8.203125,
          4.910714285714286,
          9.803921568627452,
          10.50228310502283,
          13.612565445026178
         ],
         "yaxis": "y7"
        },
        {
         "line": {
          "color": "red"
         },
         "mode": "lines",
         "name": "",
         "type": "scatter",
         "x": [
          2001,
          2002,
          2003,
          2004,
          2005,
          2006,
          2007,
          2008,
          2009,
          2010,
          2011,
          2012,
          2013,
          2014,
          2015,
          2016,
          2017,
          2018,
          2019,
          2020,
          2021,
          2022,
          2023
         ],
         "xaxis": "x7",
         "y": [
          7.601184600197433,
          10.254163014899213,
          9.31899641577061,
          8.311518324607329,
          9.650259067357512,
          9.512893982808022,
          9.205867475973697,
          6.4500716674629714,
          10.21256931608133,
          8.185361628410567,
          8.379413015737985,
          11.15898319689789,
          8.82752376641014,
          8.702999577524292,
          9.347368421052632,
          9.67741935483871,
          11.011904761904761,
          8.860249697946033,
          10.437710437710438,
          10.715979137031768,
          11.10254433307633,
          12.056451612903226,
          13.452655889145495
         ],
         "yaxis": "y7"
        },
        {
         "line": {
          "color": "blue"
         },
         "mode": "lines",
         "name": "",
         "type": "scatter",
         "x": [
          2001,
          2002,
          2003,
          2004,
          2005,
          2006,
          2007,
          2008,
          2009,
          2010,
          2011,
          2012,
          2013,
          2014,
          2015,
          2016,
          2017,
          2018,
          2019,
          2020,
          2021,
          2022,
          2023
         ],
         "xaxis": "x7",
         "y": [
          2.6143790849673203,
          11.351351351351353,
          1.7045454545454544,
          3.1914893617021276,
          4.232804232804233,
          10.695187165775401,
          3.7815126050420167,
          3.3962264150943398,
          5.415162454873646,
          1.4336917562724014,
          1.7482517482517483,
          6.779661016949152,
          5.405405405405405,
          2.527075812274368,
          4.72972972972973,
          3.041825095057034,
          1.6,
          3.205128205128205,
          4.491017964071856,
          9.180327868852459,
          4.923076923076923,
          8.359133126934983,
          10.2803738317757
         ],
         "yaxis": "y7"
        },
        {
         "line": {
          "color": "rgba(180,180,180,80)"
         },
         "mode": "lines",
         "name": "",
         "type": "scatter",
         "x": [
          2001,
          2002,
          2003,
          2004,
          2005,
          2006,
          2007,
          2008,
          2009,
          2010,
          2011,
          2012,
          2013,
          2014,
          2015,
          2016,
          2017,
          2018,
          2019,
          2020,
          2021,
          2022,
          2023
         ],
         "xaxis": "x8",
         "y": [
          1,
          4.678362573099415,
          3.1413612565445024,
          2.4271844660194173,
          2.515723270440252,
          7.647058823529412,
          4.184100418410042,
          1.968503937007874,
          5.084745762711865,
          1.107011070110701,
          2.3346303501945527,
          1.4184397163120568,
          6.405693950177936,
          1.9672131147540985,
          12.741312741312742,
          5.604719764011799,
          3.202846975088968,
          1.3377926421404682,
          3.0716723549488054,
          6.343283582089552,
          5.844155844155844,
          8.552631578947368,
          7.657657657657657
         ],
         "yaxis": "y8"
        },
        {
         "line": {
          "color": "rgba(180,180,180,80)"
         },
         "mode": "lines",
         "name": "",
         "type": "scatter",
         "x": [
          2001,
          2002,
          2003,
          2004,
          2005,
          2006,
          2007,
          2008,
          2009,
          2010,
          2011,
          2012,
          2013,
          2014,
          2015,
          2016,
          2017,
          2018,
          2019,
          2020,
          2021,
          2022,
          2023
         ],
         "xaxis": "x8",
         "y": [
          4.242424242424243,
          3.1847133757961785,
          8.5,
          6.091370558375635,
          3.125,
          5.41871921182266,
          15.087719298245613,
          6.287425149700598,
          5.389221556886228,
          5.523255813953488,
          6.2645011600928076,
          17.50663129973475,
          7.122507122507122,
          5.974025974025974,
          8.27250608272506,
          8.997429305912597,
          12.672176308539946,
          11.557788944723619,
          8.87728459530026,
          8.955223880597014,
          7.774798927613941,
          15.123456790123457,
          8.415841584158416
         ],
         "yaxis": "y8"
        },
        {
         "line": {
          "color": "rgba(180,180,180,80)"
         },
         "mode": "lines",
         "name": "",
         "type": "scatter",
         "x": [
          2001,
          2002,
          2003,
          2004,
          2005,
          2006,
          2007,
          2008,
          2009,
          2010,
          2011,
          2012,
          2013,
          2014,
          2015,
          2016,
          2017,
          2018,
          2019,
          2020,
          2021,
          2022,
          2023
         ],
         "xaxis": "x8",
         "y": [
          8.75,
          7.317073170731707,
          7.59493670886076,
          5.681818181818182,
          17.24137931034483,
          8.60215053763441,
          4.62962962962963,
          3.7735849056603774,
          6.593406593406594,
          15.74074074074074,
          26.356589147286826,
          7.339449541284404,
          16.9811320754717,
          13.821138211382115,
          13.636363636363635,
          19.82758620689655,
          22.413793103448278,
          13.513513513513514,
          19.230769230769234,
          10.256410256410255,
          7.6190476190476195,
          6.224066390041494,
          6.748466257668712
         ],
         "yaxis": "y8"
        },
        {
         "line": {
          "color": "rgba(180,180,180,80)"
         },
         "mode": "lines",
         "name": "",
         "type": "scatter",
         "x": [
          2001,
          2002,
          2003,
          2004,
          2005,
          2006,
          2007,
          2008,
          2009,
          2010,
          2011,
          2012,
          2013,
          2014,
          2015,
          2016,
          2017,
          2018,
          2019,
          2020,
          2021,
          2022,
          2023
         ],
         "xaxis": "x8",
         "y": [
          2.6143790849673203,
          11.351351351351353,
          1.7045454545454544,
          3.1914893617021276,
          4.232804232804233,
          10.695187165775401,
          3.7815126050420167,
          3.3962264150943398,
          5.415162454873646,
          1.4336917562724014,
          1.7482517482517483,
          6.779661016949152,
          5.405405405405405,
          2.527075812274368,
          4.72972972972973,
          3.041825095057034,
          1.6,
          3.205128205128205,
          4.491017964071856,
          9.180327868852459,
          4.923076923076923,
          8.359133126934983,
          10.2803738317757
         ],
         "yaxis": "y8"
        },
        {
         "line": {
          "color": "rgba(180,180,180,80)"
         },
         "mode": "lines",
         "name": "",
         "type": "scatter",
         "x": [
          2001,
          2002,
          2003,
          2004,
          2005,
          2006,
          2007,
          2008,
          2009,
          2010,
          2011,
          2012,
          2013,
          2014,
          2015,
          2016,
          2017,
          2018,
          2019,
          2020,
          2021,
          2022,
          2023
         ],
         "xaxis": "x8",
         "y": [
          0.5882352941176471,
          8.108108108108109,
          6.719367588932807,
          3.4482758620689653,
          9.48905109489051,
          5.894308943089431,
          6.488549618320611,
          4.273504273504273,
          12.213740458015266,
          6.151142355008787,
          3.5381750465549344,
          10.469314079422382,
          5.325443786982249,
          7.4324324324324325,
          7.945736434108527,
          5.809859154929577,
          12.5,
          6.138933764135703,
          11.377245508982035,
          11.702127659574469,
          11.11111111111111,
          8.960573476702509,
          12.442396313364055
         ],
         "yaxis": "y8"
        },
        {
         "line": {
          "color": "rgba(180,180,180,80)"
         },
         "mode": "lines",
         "name": "",
         "type": "scatter",
         "x": [
          2001,
          2002,
          2003,
          2004,
          2005,
          2006,
          2007,
          2008,
          2009,
          2010,
          2011,
          2012,
          2013,
          2014,
          2015,
          2016,
          2017,
          2018,
          2019,
          2020,
          2021,
          2022,
          2023
         ],
         "xaxis": "x8",
         "y": [
          0,
          1.639344262295082,
          0,
          7.446808510638298,
          0,
          0,
          1.1111111111111112,
          0,
          1.6666666666666667,
          2.054794520547945,
          1.5873015873015872,
          0.7462686567164178,
          2.8368794326241136,
          14.388489208633093,
          0,
          1.0256410256410255,
          3.0864197530864197,
          1.8181818181818181,
          2.824858757062147,
          3.3557046979865772,
          4.57516339869281,
          4.320987654320987,
          2.2222222222222223
         ],
         "yaxis": "y8"
        },
        {
         "line": {
          "color": "rgba(180,180,180,80)"
         },
         "mode": "lines",
         "name": "",
         "type": "scatter",
         "x": [
          2001,
          2002,
          2003,
          2004,
          2005,
          2006,
          2007,
          2008,
          2009,
          2010,
          2011,
          2012,
          2013,
          2014,
          2015,
          2016,
          2017,
          2018,
          2019,
          2020,
          2021,
          2022,
          2023
         ],
         "xaxis": "x8",
         "y": [
          3.4482758620689653,
          0,
          7.586206896551724,
          2.4691358024691357,
          5.384615384615385,
          1.3888888888888888,
          1.574803149606299,
          2.3529411764705883,
          7.065217391304348,
          2.7624309392265194,
          4.81283422459893,
          1.6574585635359116,
          1.9230769230769231,
          7.142857142857142,
          4.166666666666666,
          0,
          3.664921465968586,
          2.9268292682926833,
          5.202312138728324,
          6.081081081081082,
          2.1164021164021163,
          4.444444444444445,
          8.653846153846153
         ],
         "yaxis": "y8"
        },
        {
         "line": {
          "color": "rgba(180,180,180,80)"
         },
         "mode": "lines",
         "name": "",
         "type": "scatter",
         "x": [
          2001,
          2002,
          2003,
          2004,
          2005,
          2006,
          2007,
          2008,
          2009,
          2010,
          2011,
          2012,
          2013,
          2014,
          2015,
          2016,
          2017,
          2018,
          2019,
          2020,
          2021,
          2022,
          2023
         ],
         "xaxis": "x8",
         "y": [
          0,
          0,
          0,
          0,
          0,
          0,
          2.7027027027027026,
          2.127659574468085,
          2.564102564102564,
          2.2222222222222223,
          0,
          4.761904761904762,
          4.545454545454546,
          0,
          2.1739130434782608,
          2.4390243902439024,
          0,
          3.125,
          0,
          0,
          0,
          2.0408163265306123,
          0
         ],
         "yaxis": "y8"
        },
        {
         "line": {
          "color": "rgba(180,180,180,80)"
         },
         "mode": "lines",
         "name": "",
         "type": "scatter",
         "x": [
          2001,
          2002,
          2003,
          2004,
          2005,
          2006,
          2007,
          2008,
          2009,
          2010,
          2011,
          2012,
          2013,
          2014,
          2015,
          2016,
          2017,
          2018,
          2019,
          2020,
          2021,
          2022,
          2023
         ],
         "xaxis": "x8",
         "y": [
          3.571428571428571,
          4.10958904109589,
          2.73972602739726,
          7.377049180327869,
          1.9230769230769231,
          1.3071895424836601,
          5.0359712230215825,
          2.6881720430107525,
          5.327868852459016,
          4.291845493562231,
          1.3333333333333335,
          3.91304347826087,
          3.2388663967611335,
          1.951219512195122,
          2.6119402985074625,
          5.147058823529411,
          7.171314741035857,
          6.437768240343347,
          8.203125,
          4.910714285714286,
          9.803921568627452,
          10.50228310502283,
          13.612565445026178
         ],
         "yaxis": "y8"
        },
        {
         "line": {
          "color": "red"
         },
         "mode": "lines",
         "name": "",
         "type": "scatter",
         "x": [
          2001,
          2002,
          2003,
          2004,
          2005,
          2006,
          2007,
          2008,
          2009,
          2010,
          2011,
          2012,
          2013,
          2014,
          2015,
          2016,
          2017,
          2018,
          2019,
          2020,
          2021,
          2022,
          2023
         ],
         "xaxis": "x8",
         "y": [
          7.601184600197433,
          10.254163014899213,
          9.31899641577061,
          8.311518324607329,
          9.650259067357512,
          9.512893982808022,
          9.205867475973697,
          6.4500716674629714,
          10.21256931608133,
          8.185361628410567,
          8.379413015737985,
          11.15898319689789,
          8.82752376641014,
          8.702999577524292,
          9.347368421052632,
          9.67741935483871,
          11.011904761904761,
          8.860249697946033,
          10.437710437710438,
          10.715979137031768,
          11.10254433307633,
          12.056451612903226,
          13.452655889145495
         ],
         "yaxis": "y8"
        },
        {
         "line": {
          "color": "blue"
         },
         "mode": "lines",
         "name": "",
         "type": "scatter",
         "x": [
          2001,
          2002,
          2003,
          2004,
          2005,
          2006,
          2007,
          2008,
          2009,
          2010,
          2011,
          2012,
          2013,
          2014,
          2015,
          2016,
          2017,
          2018,
          2019,
          2020,
          2021,
          2022,
          2023
         ],
         "xaxis": "x8",
         "y": [
          25,
          24,
          26.08695652173913,
          15,
          29.411764705882355,
          23.809523809523807,
          30.555555555555557,
          15.625,
          11.538461538461538,
          26,
          29.411764705882355,
          37.83783783783784,
          27.77777777777778,
          26.666666666666668,
          19.35483870967742,
          23.684210526315788,
          25,
          26.666666666666668,
          28.205128205128204,
          28.57142857142857,
          17.24137931034483,
          32.142857142857146,
          40
         ],
         "yaxis": "y8"
        },
        {
         "line": {
          "color": "rgba(180,180,180,80)"
         },
         "mode": "lines",
         "name": "",
         "type": "scatter",
         "x": [
          2001,
          2002,
          2003,
          2004,
          2005,
          2006,
          2007,
          2008,
          2009,
          2010,
          2011,
          2012,
          2013,
          2014,
          2015,
          2016,
          2017,
          2018,
          2019,
          2020,
          2021,
          2022,
          2023
         ],
         "xaxis": "x9",
         "y": [
          1,
          4.678362573099415,
          3.1413612565445024,
          2.4271844660194173,
          2.515723270440252,
          7.647058823529412,
          4.184100418410042,
          1.968503937007874,
          5.084745762711865,
          1.107011070110701,
          2.3346303501945527,
          1.4184397163120568,
          6.405693950177936,
          1.9672131147540985,
          12.741312741312742,
          5.604719764011799,
          3.202846975088968,
          1.3377926421404682,
          3.0716723549488054,
          6.343283582089552,
          5.844155844155844,
          8.552631578947368,
          7.657657657657657
         ],
         "yaxis": "y9"
        },
        {
         "line": {
          "color": "rgba(180,180,180,80)"
         },
         "mode": "lines",
         "name": "",
         "type": "scatter",
         "x": [
          2001,
          2002,
          2003,
          2004,
          2005,
          2006,
          2007,
          2008,
          2009,
          2010,
          2011,
          2012,
          2013,
          2014,
          2015,
          2016,
          2017,
          2018,
          2019,
          2020,
          2021,
          2022,
          2023
         ],
         "xaxis": "x9",
         "y": [
          4.242424242424243,
          3.1847133757961785,
          8.5,
          6.091370558375635,
          3.125,
          5.41871921182266,
          15.087719298245613,
          6.287425149700598,
          5.389221556886228,
          5.523255813953488,
          6.2645011600928076,
          17.50663129973475,
          7.122507122507122,
          5.974025974025974,
          8.27250608272506,
          8.997429305912597,
          12.672176308539946,
          11.557788944723619,
          8.87728459530026,
          8.955223880597014,
          7.774798927613941,
          15.123456790123457,
          8.415841584158416
         ],
         "yaxis": "y9"
        },
        {
         "line": {
          "color": "rgba(180,180,180,80)"
         },
         "mode": "lines",
         "name": "",
         "type": "scatter",
         "x": [
          2001,
          2002,
          2003,
          2004,
          2005,
          2006,
          2007,
          2008,
          2009,
          2010,
          2011,
          2012,
          2013,
          2014,
          2015,
          2016,
          2017,
          2018,
          2019,
          2020,
          2021,
          2022,
          2023
         ],
         "xaxis": "x9",
         "y": [
          8.75,
          7.317073170731707,
          7.59493670886076,
          5.681818181818182,
          17.24137931034483,
          8.60215053763441,
          4.62962962962963,
          3.7735849056603774,
          6.593406593406594,
          15.74074074074074,
          26.356589147286826,
          7.339449541284404,
          16.9811320754717,
          13.821138211382115,
          13.636363636363635,
          19.82758620689655,
          22.413793103448278,
          13.513513513513514,
          19.230769230769234,
          10.256410256410255,
          7.6190476190476195,
          6.224066390041494,
          6.748466257668712
         ],
         "yaxis": "y9"
        },
        {
         "line": {
          "color": "rgba(180,180,180,80)"
         },
         "mode": "lines",
         "name": "",
         "type": "scatter",
         "x": [
          2001,
          2002,
          2003,
          2004,
          2005,
          2006,
          2007,
          2008,
          2009,
          2010,
          2011,
          2012,
          2013,
          2014,
          2015,
          2016,
          2017,
          2018,
          2019,
          2020,
          2021,
          2022,
          2023
         ],
         "xaxis": "x9",
         "y": [
          2.6143790849673203,
          11.351351351351353,
          1.7045454545454544,
          3.1914893617021276,
          4.232804232804233,
          10.695187165775401,
          3.7815126050420167,
          3.3962264150943398,
          5.415162454873646,
          1.4336917562724014,
          1.7482517482517483,
          6.779661016949152,
          5.405405405405405,
          2.527075812274368,
          4.72972972972973,
          3.041825095057034,
          1.6,
          3.205128205128205,
          4.491017964071856,
          9.180327868852459,
          4.923076923076923,
          8.359133126934983,
          10.2803738317757
         ],
         "yaxis": "y9"
        },
        {
         "line": {
          "color": "rgba(180,180,180,80)"
         },
         "mode": "lines",
         "name": "",
         "type": "scatter",
         "x": [
          2001,
          2002,
          2003,
          2004,
          2005,
          2006,
          2007,
          2008,
          2009,
          2010,
          2011,
          2012,
          2013,
          2014,
          2015,
          2016,
          2017,
          2018,
          2019,
          2020,
          2021,
          2022,
          2023
         ],
         "xaxis": "x9",
         "y": [
          0.5882352941176471,
          8.108108108108109,
          6.719367588932807,
          3.4482758620689653,
          9.48905109489051,
          5.894308943089431,
          6.488549618320611,
          4.273504273504273,
          12.213740458015266,
          6.151142355008787,
          3.5381750465549344,
          10.469314079422382,
          5.325443786982249,
          7.4324324324324325,
          7.945736434108527,
          5.809859154929577,
          12.5,
          6.138933764135703,
          11.377245508982035,
          11.702127659574469,
          11.11111111111111,
          8.960573476702509,
          12.442396313364055
         ],
         "yaxis": "y9"
        },
        {
         "line": {
          "color": "rgba(180,180,180,80)"
         },
         "mode": "lines",
         "name": "",
         "type": "scatter",
         "x": [
          2001,
          2002,
          2003,
          2004,
          2005,
          2006,
          2007,
          2008,
          2009,
          2010,
          2011,
          2012,
          2013,
          2014,
          2015,
          2016,
          2017,
          2018,
          2019,
          2020,
          2021,
          2022,
          2023
         ],
         "xaxis": "x9",
         "y": [
          25,
          24,
          26.08695652173913,
          15,
          29.411764705882355,
          23.809523809523807,
          30.555555555555557,
          15.625,
          11.538461538461538,
          26,
          29.411764705882355,
          37.83783783783784,
          27.77777777777778,
          26.666666666666668,
          19.35483870967742,
          23.684210526315788,
          25,
          26.666666666666668,
          28.205128205128204,
          28.57142857142857,
          17.24137931034483,
          32.142857142857146,
          40
         ],
         "yaxis": "y9"
        },
        {
         "line": {
          "color": "rgba(180,180,180,80)"
         },
         "mode": "lines",
         "name": "",
         "type": "scatter",
         "x": [
          2001,
          2002,
          2003,
          2004,
          2005,
          2006,
          2007,
          2008,
          2009,
          2010,
          2011,
          2012,
          2013,
          2014,
          2015,
          2016,
          2017,
          2018,
          2019,
          2020,
          2021,
          2022,
          2023
         ],
         "xaxis": "x9",
         "y": [
          3.4482758620689653,
          0,
          7.586206896551724,
          2.4691358024691357,
          5.384615384615385,
          1.3888888888888888,
          1.574803149606299,
          2.3529411764705883,
          7.065217391304348,
          2.7624309392265194,
          4.81283422459893,
          1.6574585635359116,
          1.9230769230769231,
          7.142857142857142,
          4.166666666666666,
          0,
          3.664921465968586,
          2.9268292682926833,
          5.202312138728324,
          6.081081081081082,
          2.1164021164021163,
          4.444444444444445,
          8.653846153846153
         ],
         "yaxis": "y9"
        },
        {
         "line": {
          "color": "rgba(180,180,180,80)"
         },
         "mode": "lines",
         "name": "",
         "type": "scatter",
         "x": [
          2001,
          2002,
          2003,
          2004,
          2005,
          2006,
          2007,
          2008,
          2009,
          2010,
          2011,
          2012,
          2013,
          2014,
          2015,
          2016,
          2017,
          2018,
          2019,
          2020,
          2021,
          2022,
          2023
         ],
         "xaxis": "x9",
         "y": [
          0,
          0,
          0,
          0,
          0,
          0,
          2.7027027027027026,
          2.127659574468085,
          2.564102564102564,
          2.2222222222222223,
          0,
          4.761904761904762,
          4.545454545454546,
          0,
          2.1739130434782608,
          2.4390243902439024,
          0,
          3.125,
          0,
          0,
          0,
          2.0408163265306123,
          0
         ],
         "yaxis": "y9"
        },
        {
         "line": {
          "color": "rgba(180,180,180,80)"
         },
         "mode": "lines",
         "name": "",
         "type": "scatter",
         "x": [
          2001,
          2002,
          2003,
          2004,
          2005,
          2006,
          2007,
          2008,
          2009,
          2010,
          2011,
          2012,
          2013,
          2014,
          2015,
          2016,
          2017,
          2018,
          2019,
          2020,
          2021,
          2022,
          2023
         ],
         "xaxis": "x9",
         "y": [
          3.571428571428571,
          4.10958904109589,
          2.73972602739726,
          7.377049180327869,
          1.9230769230769231,
          1.3071895424836601,
          5.0359712230215825,
          2.6881720430107525,
          5.327868852459016,
          4.291845493562231,
          1.3333333333333335,
          3.91304347826087,
          3.2388663967611335,
          1.951219512195122,
          2.6119402985074625,
          5.147058823529411,
          7.171314741035857,
          6.437768240343347,
          8.203125,
          4.910714285714286,
          9.803921568627452,
          10.50228310502283,
          13.612565445026178
         ],
         "yaxis": "y9"
        },
        {
         "line": {
          "color": "red"
         },
         "mode": "lines",
         "name": "",
         "type": "scatter",
         "x": [
          2001,
          2002,
          2003,
          2004,
          2005,
          2006,
          2007,
          2008,
          2009,
          2010,
          2011,
          2012,
          2013,
          2014,
          2015,
          2016,
          2017,
          2018,
          2019,
          2020,
          2021,
          2022,
          2023
         ],
         "xaxis": "x9",
         "y": [
          7.601184600197433,
          10.254163014899213,
          9.31899641577061,
          8.311518324607329,
          9.650259067357512,
          9.512893982808022,
          9.205867475973697,
          6.4500716674629714,
          10.21256931608133,
          8.185361628410567,
          8.379413015737985,
          11.15898319689789,
          8.82752376641014,
          8.702999577524292,
          9.347368421052632,
          9.67741935483871,
          11.011904761904761,
          8.860249697946033,
          10.437710437710438,
          10.715979137031768,
          11.10254433307633,
          12.056451612903226,
          13.452655889145495
         ],
         "yaxis": "y9"
        },
        {
         "line": {
          "color": "blue"
         },
         "mode": "lines",
         "name": "",
         "type": "scatter",
         "x": [
          2001,
          2002,
          2003,
          2004,
          2005,
          2006,
          2007,
          2008,
          2009,
          2010,
          2011,
          2012,
          2013,
          2014,
          2015,
          2016,
          2017,
          2018,
          2019,
          2020,
          2021,
          2022,
          2023
         ],
         "xaxis": "x9",
         "y": [
          0,
          1.639344262295082,
          0,
          7.446808510638298,
          0,
          0,
          1.1111111111111112,
          0,
          1.6666666666666667,
          2.054794520547945,
          1.5873015873015872,
          0.7462686567164178,
          2.8368794326241136,
          14.388489208633093,
          0,
          1.0256410256410255,
          3.0864197530864197,
          1.8181818181818181,
          2.824858757062147,
          3.3557046979865772,
          4.57516339869281,
          4.320987654320987,
          2.2222222222222223
         ],
         "yaxis": "y9"
        },
        {
         "line": {
          "color": "rgba(180,180,180,80)"
         },
         "mode": "lines",
         "name": "",
         "type": "scatter",
         "x": [
          2001,
          2002,
          2003,
          2004,
          2005,
          2006,
          2007,
          2008,
          2009,
          2010,
          2011,
          2012,
          2013,
          2014,
          2015,
          2016,
          2017,
          2018,
          2019,
          2020,
          2021,
          2022,
          2023
         ],
         "xaxis": "x10",
         "y": [
          1,
          4.678362573099415,
          3.1413612565445024,
          2.4271844660194173,
          2.515723270440252,
          7.647058823529412,
          4.184100418410042,
          1.968503937007874,
          5.084745762711865,
          1.107011070110701,
          2.3346303501945527,
          1.4184397163120568,
          6.405693950177936,
          1.9672131147540985,
          12.741312741312742,
          5.604719764011799,
          3.202846975088968,
          1.3377926421404682,
          3.0716723549488054,
          6.343283582089552,
          5.844155844155844,
          8.552631578947368,
          7.657657657657657
         ],
         "yaxis": "y10"
        },
        {
         "line": {
          "color": "rgba(180,180,180,80)"
         },
         "mode": "lines",
         "name": "",
         "type": "scatter",
         "x": [
          2001,
          2002,
          2003,
          2004,
          2005,
          2006,
          2007,
          2008,
          2009,
          2010,
          2011,
          2012,
          2013,
          2014,
          2015,
          2016,
          2017,
          2018,
          2019,
          2020,
          2021,
          2022,
          2023
         ],
         "xaxis": "x10",
         "y": [
          4.242424242424243,
          3.1847133757961785,
          8.5,
          6.091370558375635,
          3.125,
          5.41871921182266,
          15.087719298245613,
          6.287425149700598,
          5.389221556886228,
          5.523255813953488,
          6.2645011600928076,
          17.50663129973475,
          7.122507122507122,
          5.974025974025974,
          8.27250608272506,
          8.997429305912597,
          12.672176308539946,
          11.557788944723619,
          8.87728459530026,
          8.955223880597014,
          7.774798927613941,
          15.123456790123457,
          8.415841584158416
         ],
         "yaxis": "y10"
        },
        {
         "line": {
          "color": "rgba(180,180,180,80)"
         },
         "mode": "lines",
         "name": "",
         "type": "scatter",
         "x": [
          2001,
          2002,
          2003,
          2004,
          2005,
          2006,
          2007,
          2008,
          2009,
          2010,
          2011,
          2012,
          2013,
          2014,
          2015,
          2016,
          2017,
          2018,
          2019,
          2020,
          2021,
          2022,
          2023
         ],
         "xaxis": "x10",
         "y": [
          8.75,
          7.317073170731707,
          7.59493670886076,
          5.681818181818182,
          17.24137931034483,
          8.60215053763441,
          4.62962962962963,
          3.7735849056603774,
          6.593406593406594,
          15.74074074074074,
          26.356589147286826,
          7.339449541284404,
          16.9811320754717,
          13.821138211382115,
          13.636363636363635,
          19.82758620689655,
          22.413793103448278,
          13.513513513513514,
          19.230769230769234,
          10.256410256410255,
          7.6190476190476195,
          6.224066390041494,
          6.748466257668712
         ],
         "yaxis": "y10"
        },
        {
         "line": {
          "color": "rgba(180,180,180,80)"
         },
         "mode": "lines",
         "name": "",
         "type": "scatter",
         "x": [
          2001,
          2002,
          2003,
          2004,
          2005,
          2006,
          2007,
          2008,
          2009,
          2010,
          2011,
          2012,
          2013,
          2014,
          2015,
          2016,
          2017,
          2018,
          2019,
          2020,
          2021,
          2022,
          2023
         ],
         "xaxis": "x10",
         "y": [
          2.6143790849673203,
          11.351351351351353,
          1.7045454545454544,
          3.1914893617021276,
          4.232804232804233,
          10.695187165775401,
          3.7815126050420167,
          3.3962264150943398,
          5.415162454873646,
          1.4336917562724014,
          1.7482517482517483,
          6.779661016949152,
          5.405405405405405,
          2.527075812274368,
          4.72972972972973,
          3.041825095057034,
          1.6,
          3.205128205128205,
          4.491017964071856,
          9.180327868852459,
          4.923076923076923,
          8.359133126934983,
          10.2803738317757
         ],
         "yaxis": "y10"
        },
        {
         "line": {
          "color": "rgba(180,180,180,80)"
         },
         "mode": "lines",
         "name": "",
         "type": "scatter",
         "x": [
          2001,
          2002,
          2003,
          2004,
          2005,
          2006,
          2007,
          2008,
          2009,
          2010,
          2011,
          2012,
          2013,
          2014,
          2015,
          2016,
          2017,
          2018,
          2019,
          2020,
          2021,
          2022,
          2023
         ],
         "xaxis": "x10",
         "y": [
          0.5882352941176471,
          8.108108108108109,
          6.719367588932807,
          3.4482758620689653,
          9.48905109489051,
          5.894308943089431,
          6.488549618320611,
          4.273504273504273,
          12.213740458015266,
          6.151142355008787,
          3.5381750465549344,
          10.469314079422382,
          5.325443786982249,
          7.4324324324324325,
          7.945736434108527,
          5.809859154929577,
          12.5,
          6.138933764135703,
          11.377245508982035,
          11.702127659574469,
          11.11111111111111,
          8.960573476702509,
          12.442396313364055
         ],
         "yaxis": "y10"
        },
        {
         "line": {
          "color": "rgba(180,180,180,80)"
         },
         "mode": "lines",
         "name": "",
         "type": "scatter",
         "x": [
          2001,
          2002,
          2003,
          2004,
          2005,
          2006,
          2007,
          2008,
          2009,
          2010,
          2011,
          2012,
          2013,
          2014,
          2015,
          2016,
          2017,
          2018,
          2019,
          2020,
          2021,
          2022,
          2023
         ],
         "xaxis": "x10",
         "y": [
          25,
          24,
          26.08695652173913,
          15,
          29.411764705882355,
          23.809523809523807,
          30.555555555555557,
          15.625,
          11.538461538461538,
          26,
          29.411764705882355,
          37.83783783783784,
          27.77777777777778,
          26.666666666666668,
          19.35483870967742,
          23.684210526315788,
          25,
          26.666666666666668,
          28.205128205128204,
          28.57142857142857,
          17.24137931034483,
          32.142857142857146,
          40
         ],
         "yaxis": "y10"
        },
        {
         "line": {
          "color": "rgba(180,180,180,80)"
         },
         "mode": "lines",
         "name": "",
         "type": "scatter",
         "x": [
          2001,
          2002,
          2003,
          2004,
          2005,
          2006,
          2007,
          2008,
          2009,
          2010,
          2011,
          2012,
          2013,
          2014,
          2015,
          2016,
          2017,
          2018,
          2019,
          2020,
          2021,
          2022,
          2023
         ],
         "xaxis": "x10",
         "y": [
          0,
          1.639344262295082,
          0,
          7.446808510638298,
          0,
          0,
          1.1111111111111112,
          0,
          1.6666666666666667,
          2.054794520547945,
          1.5873015873015872,
          0.7462686567164178,
          2.8368794326241136,
          14.388489208633093,
          0,
          1.0256410256410255,
          3.0864197530864197,
          1.8181818181818181,
          2.824858757062147,
          3.3557046979865772,
          4.57516339869281,
          4.320987654320987,
          2.2222222222222223
         ],
         "yaxis": "y10"
        },
        {
         "line": {
          "color": "rgba(180,180,180,80)"
         },
         "mode": "lines",
         "name": "",
         "type": "scatter",
         "x": [
          2001,
          2002,
          2003,
          2004,
          2005,
          2006,
          2007,
          2008,
          2009,
          2010,
          2011,
          2012,
          2013,
          2014,
          2015,
          2016,
          2017,
          2018,
          2019,
          2020,
          2021,
          2022,
          2023
         ],
         "xaxis": "x10",
         "y": [
          0,
          0,
          0,
          0,
          0,
          0,
          2.7027027027027026,
          2.127659574468085,
          2.564102564102564,
          2.2222222222222223,
          0,
          4.761904761904762,
          4.545454545454546,
          0,
          2.1739130434782608,
          2.4390243902439024,
          0,
          3.125,
          0,
          0,
          0,
          2.0408163265306123,
          0
         ],
         "yaxis": "y10"
        },
        {
         "line": {
          "color": "rgba(180,180,180,80)"
         },
         "mode": "lines",
         "name": "",
         "type": "scatter",
         "x": [
          2001,
          2002,
          2003,
          2004,
          2005,
          2006,
          2007,
          2008,
          2009,
          2010,
          2011,
          2012,
          2013,
          2014,
          2015,
          2016,
          2017,
          2018,
          2019,
          2020,
          2021,
          2022,
          2023
         ],
         "xaxis": "x10",
         "y": [
          3.571428571428571,
          4.10958904109589,
          2.73972602739726,
          7.377049180327869,
          1.9230769230769231,
          1.3071895424836601,
          5.0359712230215825,
          2.6881720430107525,
          5.327868852459016,
          4.291845493562231,
          1.3333333333333335,
          3.91304347826087,
          3.2388663967611335,
          1.951219512195122,
          2.6119402985074625,
          5.147058823529411,
          7.171314741035857,
          6.437768240343347,
          8.203125,
          4.910714285714286,
          9.803921568627452,
          10.50228310502283,
          13.612565445026178
         ],
         "yaxis": "y10"
        },
        {
         "line": {
          "color": "red"
         },
         "mode": "lines",
         "name": "",
         "type": "scatter",
         "x": [
          2001,
          2002,
          2003,
          2004,
          2005,
          2006,
          2007,
          2008,
          2009,
          2010,
          2011,
          2012,
          2013,
          2014,
          2015,
          2016,
          2017,
          2018,
          2019,
          2020,
          2021,
          2022,
          2023
         ],
         "xaxis": "x10",
         "y": [
          7.601184600197433,
          10.254163014899213,
          9.31899641577061,
          8.311518324607329,
          9.650259067357512,
          9.512893982808022,
          9.205867475973697,
          6.4500716674629714,
          10.21256931608133,
          8.185361628410567,
          8.379413015737985,
          11.15898319689789,
          8.82752376641014,
          8.702999577524292,
          9.347368421052632,
          9.67741935483871,
          11.011904761904761,
          8.860249697946033,
          10.437710437710438,
          10.715979137031768,
          11.10254433307633,
          12.056451612903226,
          13.452655889145495
         ],
         "yaxis": "y10"
        },
        {
         "line": {
          "color": "blue"
         },
         "mode": "lines",
         "name": "",
         "type": "scatter",
         "x": [
          2001,
          2002,
          2003,
          2004,
          2005,
          2006,
          2007,
          2008,
          2009,
          2010,
          2011,
          2012,
          2013,
          2014,
          2015,
          2016,
          2017,
          2018,
          2019,
          2020,
          2021,
          2022,
          2023
         ],
         "xaxis": "x10",
         "y": [
          3.4482758620689653,
          0,
          7.586206896551724,
          2.4691358024691357,
          5.384615384615385,
          1.3888888888888888,
          1.574803149606299,
          2.3529411764705883,
          7.065217391304348,
          2.7624309392265194,
          4.81283422459893,
          1.6574585635359116,
          1.9230769230769231,
          7.142857142857142,
          4.166666666666666,
          0,
          3.664921465968586,
          2.9268292682926833,
          5.202312138728324,
          6.081081081081082,
          2.1164021164021163,
          4.444444444444445,
          8.653846153846153
         ],
         "yaxis": "y10"
        },
        {
         "line": {
          "color": "rgba(180,180,180,80)"
         },
         "mode": "lines",
         "name": "",
         "type": "scatter",
         "x": [
          2001,
          2002,
          2003,
          2004,
          2005,
          2006,
          2007,
          2008,
          2009,
          2010,
          2011,
          2012,
          2013,
          2014,
          2015,
          2016,
          2017,
          2018,
          2019,
          2020,
          2021,
          2022,
          2023
         ],
         "xaxis": "x11",
         "y": [
          1,
          4.678362573099415,
          3.1413612565445024,
          2.4271844660194173,
          2.515723270440252,
          7.647058823529412,
          4.184100418410042,
          1.968503937007874,
          5.084745762711865,
          1.107011070110701,
          2.3346303501945527,
          1.4184397163120568,
          6.405693950177936,
          1.9672131147540985,
          12.741312741312742,
          5.604719764011799,
          3.202846975088968,
          1.3377926421404682,
          3.0716723549488054,
          6.343283582089552,
          5.844155844155844,
          8.552631578947368,
          7.657657657657657
         ],
         "yaxis": "y11"
        },
        {
         "line": {
          "color": "rgba(180,180,180,80)"
         },
         "mode": "lines",
         "name": "",
         "type": "scatter",
         "x": [
          2001,
          2002,
          2003,
          2004,
          2005,
          2006,
          2007,
          2008,
          2009,
          2010,
          2011,
          2012,
          2013,
          2014,
          2015,
          2016,
          2017,
          2018,
          2019,
          2020,
          2021,
          2022,
          2023
         ],
         "xaxis": "x11",
         "y": [
          4.242424242424243,
          3.1847133757961785,
          8.5,
          6.091370558375635,
          3.125,
          5.41871921182266,
          15.087719298245613,
          6.287425149700598,
          5.389221556886228,
          5.523255813953488,
          6.2645011600928076,
          17.50663129973475,
          7.122507122507122,
          5.974025974025974,
          8.27250608272506,
          8.997429305912597,
          12.672176308539946,
          11.557788944723619,
          8.87728459530026,
          8.955223880597014,
          7.774798927613941,
          15.123456790123457,
          8.415841584158416
         ],
         "yaxis": "y11"
        },
        {
         "line": {
          "color": "rgba(180,180,180,80)"
         },
         "mode": "lines",
         "name": "",
         "type": "scatter",
         "x": [
          2001,
          2002,
          2003,
          2004,
          2005,
          2006,
          2007,
          2008,
          2009,
          2010,
          2011,
          2012,
          2013,
          2014,
          2015,
          2016,
          2017,
          2018,
          2019,
          2020,
          2021,
          2022,
          2023
         ],
         "xaxis": "x11",
         "y": [
          8.75,
          7.317073170731707,
          7.59493670886076,
          5.681818181818182,
          17.24137931034483,
          8.60215053763441,
          4.62962962962963,
          3.7735849056603774,
          6.593406593406594,
          15.74074074074074,
          26.356589147286826,
          7.339449541284404,
          16.9811320754717,
          13.821138211382115,
          13.636363636363635,
          19.82758620689655,
          22.413793103448278,
          13.513513513513514,
          19.230769230769234,
          10.256410256410255,
          7.6190476190476195,
          6.224066390041494,
          6.748466257668712
         ],
         "yaxis": "y11"
        },
        {
         "line": {
          "color": "rgba(180,180,180,80)"
         },
         "mode": "lines",
         "name": "",
         "type": "scatter",
         "x": [
          2001,
          2002,
          2003,
          2004,
          2005,
          2006,
          2007,
          2008,
          2009,
          2010,
          2011,
          2012,
          2013,
          2014,
          2015,
          2016,
          2017,
          2018,
          2019,
          2020,
          2021,
          2022,
          2023
         ],
         "xaxis": "x11",
         "y": [
          2.6143790849673203,
          11.351351351351353,
          1.7045454545454544,
          3.1914893617021276,
          4.232804232804233,
          10.695187165775401,
          3.7815126050420167,
          3.3962264150943398,
          5.415162454873646,
          1.4336917562724014,
          1.7482517482517483,
          6.779661016949152,
          5.405405405405405,
          2.527075812274368,
          4.72972972972973,
          3.041825095057034,
          1.6,
          3.205128205128205,
          4.491017964071856,
          9.180327868852459,
          4.923076923076923,
          8.359133126934983,
          10.2803738317757
         ],
         "yaxis": "y11"
        },
        {
         "line": {
          "color": "rgba(180,180,180,80)"
         },
         "mode": "lines",
         "name": "",
         "type": "scatter",
         "x": [
          2001,
          2002,
          2003,
          2004,
          2005,
          2006,
          2007,
          2008,
          2009,
          2010,
          2011,
          2012,
          2013,
          2014,
          2015,
          2016,
          2017,
          2018,
          2019,
          2020,
          2021,
          2022,
          2023
         ],
         "xaxis": "x11",
         "y": [
          0.5882352941176471,
          8.108108108108109,
          6.719367588932807,
          3.4482758620689653,
          9.48905109489051,
          5.894308943089431,
          6.488549618320611,
          4.273504273504273,
          12.213740458015266,
          6.151142355008787,
          3.5381750465549344,
          10.469314079422382,
          5.325443786982249,
          7.4324324324324325,
          7.945736434108527,
          5.809859154929577,
          12.5,
          6.138933764135703,
          11.377245508982035,
          11.702127659574469,
          11.11111111111111,
          8.960573476702509,
          12.442396313364055
         ],
         "yaxis": "y11"
        },
        {
         "line": {
          "color": "rgba(180,180,180,80)"
         },
         "mode": "lines",
         "name": "",
         "type": "scatter",
         "x": [
          2001,
          2002,
          2003,
          2004,
          2005,
          2006,
          2007,
          2008,
          2009,
          2010,
          2011,
          2012,
          2013,
          2014,
          2015,
          2016,
          2017,
          2018,
          2019,
          2020,
          2021,
          2022,
          2023
         ],
         "xaxis": "x11",
         "y": [
          25,
          24,
          26.08695652173913,
          15,
          29.411764705882355,
          23.809523809523807,
          30.555555555555557,
          15.625,
          11.538461538461538,
          26,
          29.411764705882355,
          37.83783783783784,
          27.77777777777778,
          26.666666666666668,
          19.35483870967742,
          23.684210526315788,
          25,
          26.666666666666668,
          28.205128205128204,
          28.57142857142857,
          17.24137931034483,
          32.142857142857146,
          40
         ],
         "yaxis": "y11"
        },
        {
         "line": {
          "color": "rgba(180,180,180,80)"
         },
         "mode": "lines",
         "name": "",
         "type": "scatter",
         "x": [
          2001,
          2002,
          2003,
          2004,
          2005,
          2006,
          2007,
          2008,
          2009,
          2010,
          2011,
          2012,
          2013,
          2014,
          2015,
          2016,
          2017,
          2018,
          2019,
          2020,
          2021,
          2022,
          2023
         ],
         "xaxis": "x11",
         "y": [
          0,
          1.639344262295082,
          0,
          7.446808510638298,
          0,
          0,
          1.1111111111111112,
          0,
          1.6666666666666667,
          2.054794520547945,
          1.5873015873015872,
          0.7462686567164178,
          2.8368794326241136,
          14.388489208633093,
          0,
          1.0256410256410255,
          3.0864197530864197,
          1.8181818181818181,
          2.824858757062147,
          3.3557046979865772,
          4.57516339869281,
          4.320987654320987,
          2.2222222222222223
         ],
         "yaxis": "y11"
        },
        {
         "line": {
          "color": "rgba(180,180,180,80)"
         },
         "mode": "lines",
         "name": "",
         "type": "scatter",
         "x": [
          2001,
          2002,
          2003,
          2004,
          2005,
          2006,
          2007,
          2008,
          2009,
          2010,
          2011,
          2012,
          2013,
          2014,
          2015,
          2016,
          2017,
          2018,
          2019,
          2020,
          2021,
          2022,
          2023
         ],
         "xaxis": "x11",
         "y": [
          3.4482758620689653,
          0,
          7.586206896551724,
          2.4691358024691357,
          5.384615384615385,
          1.3888888888888888,
          1.574803149606299,
          2.3529411764705883,
          7.065217391304348,
          2.7624309392265194,
          4.81283422459893,
          1.6574585635359116,
          1.9230769230769231,
          7.142857142857142,
          4.166666666666666,
          0,
          3.664921465968586,
          2.9268292682926833,
          5.202312138728324,
          6.081081081081082,
          2.1164021164021163,
          4.444444444444445,
          8.653846153846153
         ],
         "yaxis": "y11"
        },
        {
         "line": {
          "color": "rgba(180,180,180,80)"
         },
         "mode": "lines",
         "name": "",
         "type": "scatter",
         "x": [
          2001,
          2002,
          2003,
          2004,
          2005,
          2006,
          2007,
          2008,
          2009,
          2010,
          2011,
          2012,
          2013,
          2014,
          2015,
          2016,
          2017,
          2018,
          2019,
          2020,
          2021,
          2022,
          2023
         ],
         "xaxis": "x11",
         "y": [
          3.571428571428571,
          4.10958904109589,
          2.73972602739726,
          7.377049180327869,
          1.9230769230769231,
          1.3071895424836601,
          5.0359712230215825,
          2.6881720430107525,
          5.327868852459016,
          4.291845493562231,
          1.3333333333333335,
          3.91304347826087,
          3.2388663967611335,
          1.951219512195122,
          2.6119402985074625,
          5.147058823529411,
          7.171314741035857,
          6.437768240343347,
          8.203125,
          4.910714285714286,
          9.803921568627452,
          10.50228310502283,
          13.612565445026178
         ],
         "yaxis": "y11"
        },
        {
         "line": {
          "color": "red"
         },
         "mode": "lines",
         "name": "",
         "type": "scatter",
         "x": [
          2001,
          2002,
          2003,
          2004,
          2005,
          2006,
          2007,
          2008,
          2009,
          2010,
          2011,
          2012,
          2013,
          2014,
          2015,
          2016,
          2017,
          2018,
          2019,
          2020,
          2021,
          2022,
          2023
         ],
         "xaxis": "x11",
         "y": [
          7.601184600197433,
          10.254163014899213,
          9.31899641577061,
          8.311518324607329,
          9.650259067357512,
          9.512893982808022,
          9.205867475973697,
          6.4500716674629714,
          10.21256931608133,
          8.185361628410567,
          8.379413015737985,
          11.15898319689789,
          8.82752376641014,
          8.702999577524292,
          9.347368421052632,
          9.67741935483871,
          11.011904761904761,
          8.860249697946033,
          10.437710437710438,
          10.715979137031768,
          11.10254433307633,
          12.056451612903226,
          13.452655889145495
         ],
         "yaxis": "y11"
        },
        {
         "line": {
          "color": "blue"
         },
         "mode": "lines",
         "name": "",
         "type": "scatter",
         "x": [
          2001,
          2002,
          2003,
          2004,
          2005,
          2006,
          2007,
          2008,
          2009,
          2010,
          2011,
          2012,
          2013,
          2014,
          2015,
          2016,
          2017,
          2018,
          2019,
          2020,
          2021,
          2022,
          2023
         ],
         "xaxis": "x11",
         "y": [
          0,
          0,
          0,
          0,
          0,
          0,
          2.7027027027027026,
          2.127659574468085,
          2.564102564102564,
          2.2222222222222223,
          0,
          4.761904761904762,
          4.545454545454546,
          0,
          2.1739130434782608,
          2.4390243902439024,
          0,
          3.125,
          0,
          0,
          0,
          2.0408163265306123,
          0
         ],
         "yaxis": "y11"
        },
        {
         "line": {
          "color": "rgba(180,180,180,80)"
         },
         "mode": "lines",
         "name": "",
         "type": "scatter",
         "x": [
          2001,
          2002,
          2003,
          2004,
          2005,
          2006,
          2007,
          2008,
          2009,
          2010,
          2011,
          2012,
          2013,
          2014,
          2015,
          2016,
          2017,
          2018,
          2019,
          2020,
          2021,
          2022,
          2023
         ],
         "xaxis": "x12",
         "y": [
          1,
          4.678362573099415,
          3.1413612565445024,
          2.4271844660194173,
          2.515723270440252,
          7.647058823529412,
          4.184100418410042,
          1.968503937007874,
          5.084745762711865,
          1.107011070110701,
          2.3346303501945527,
          1.4184397163120568,
          6.405693950177936,
          1.9672131147540985,
          12.741312741312742,
          5.604719764011799,
          3.202846975088968,
          1.3377926421404682,
          3.0716723549488054,
          6.343283582089552,
          5.844155844155844,
          8.552631578947368,
          7.657657657657657
         ],
         "yaxis": "y12"
        },
        {
         "line": {
          "color": "rgba(180,180,180,80)"
         },
         "mode": "lines",
         "name": "",
         "type": "scatter",
         "x": [
          2001,
          2002,
          2003,
          2004,
          2005,
          2006,
          2007,
          2008,
          2009,
          2010,
          2011,
          2012,
          2013,
          2014,
          2015,
          2016,
          2017,
          2018,
          2019,
          2020,
          2021,
          2022,
          2023
         ],
         "xaxis": "x12",
         "y": [
          4.242424242424243,
          3.1847133757961785,
          8.5,
          6.091370558375635,
          3.125,
          5.41871921182266,
          15.087719298245613,
          6.287425149700598,
          5.389221556886228,
          5.523255813953488,
          6.2645011600928076,
          17.50663129973475,
          7.122507122507122,
          5.974025974025974,
          8.27250608272506,
          8.997429305912597,
          12.672176308539946,
          11.557788944723619,
          8.87728459530026,
          8.955223880597014,
          7.774798927613941,
          15.123456790123457,
          8.415841584158416
         ],
         "yaxis": "y12"
        },
        {
         "line": {
          "color": "rgba(180,180,180,80)"
         },
         "mode": "lines",
         "name": "",
         "type": "scatter",
         "x": [
          2001,
          2002,
          2003,
          2004,
          2005,
          2006,
          2007,
          2008,
          2009,
          2010,
          2011,
          2012,
          2013,
          2014,
          2015,
          2016,
          2017,
          2018,
          2019,
          2020,
          2021,
          2022,
          2023
         ],
         "xaxis": "x12",
         "y": [
          8.75,
          7.317073170731707,
          7.59493670886076,
          5.681818181818182,
          17.24137931034483,
          8.60215053763441,
          4.62962962962963,
          3.7735849056603774,
          6.593406593406594,
          15.74074074074074,
          26.356589147286826,
          7.339449541284404,
          16.9811320754717,
          13.821138211382115,
          13.636363636363635,
          19.82758620689655,
          22.413793103448278,
          13.513513513513514,
          19.230769230769234,
          10.256410256410255,
          7.6190476190476195,
          6.224066390041494,
          6.748466257668712
         ],
         "yaxis": "y12"
        },
        {
         "line": {
          "color": "rgba(180,180,180,80)"
         },
         "mode": "lines",
         "name": "",
         "type": "scatter",
         "x": [
          2001,
          2002,
          2003,
          2004,
          2005,
          2006,
          2007,
          2008,
          2009,
          2010,
          2011,
          2012,
          2013,
          2014,
          2015,
          2016,
          2017,
          2018,
          2019,
          2020,
          2021,
          2022,
          2023
         ],
         "xaxis": "x12",
         "y": [
          2.6143790849673203,
          11.351351351351353,
          1.7045454545454544,
          3.1914893617021276,
          4.232804232804233,
          10.695187165775401,
          3.7815126050420167,
          3.3962264150943398,
          5.415162454873646,
          1.4336917562724014,
          1.7482517482517483,
          6.779661016949152,
          5.405405405405405,
          2.527075812274368,
          4.72972972972973,
          3.041825095057034,
          1.6,
          3.205128205128205,
          4.491017964071856,
          9.180327868852459,
          4.923076923076923,
          8.359133126934983,
          10.2803738317757
         ],
         "yaxis": "y12"
        },
        {
         "line": {
          "color": "rgba(180,180,180,80)"
         },
         "mode": "lines",
         "name": "",
         "type": "scatter",
         "x": [
          2001,
          2002,
          2003,
          2004,
          2005,
          2006,
          2007,
          2008,
          2009,
          2010,
          2011,
          2012,
          2013,
          2014,
          2015,
          2016,
          2017,
          2018,
          2019,
          2020,
          2021,
          2022,
          2023
         ],
         "xaxis": "x12",
         "y": [
          0.5882352941176471,
          8.108108108108109,
          6.719367588932807,
          3.4482758620689653,
          9.48905109489051,
          5.894308943089431,
          6.488549618320611,
          4.273504273504273,
          12.213740458015266,
          6.151142355008787,
          3.5381750465549344,
          10.469314079422382,
          5.325443786982249,
          7.4324324324324325,
          7.945736434108527,
          5.809859154929577,
          12.5,
          6.138933764135703,
          11.377245508982035,
          11.702127659574469,
          11.11111111111111,
          8.960573476702509,
          12.442396313364055
         ],
         "yaxis": "y12"
        },
        {
         "line": {
          "color": "rgba(180,180,180,80)"
         },
         "mode": "lines",
         "name": "",
         "type": "scatter",
         "x": [
          2001,
          2002,
          2003,
          2004,
          2005,
          2006,
          2007,
          2008,
          2009,
          2010,
          2011,
          2012,
          2013,
          2014,
          2015,
          2016,
          2017,
          2018,
          2019,
          2020,
          2021,
          2022,
          2023
         ],
         "xaxis": "x12",
         "y": [
          25,
          24,
          26.08695652173913,
          15,
          29.411764705882355,
          23.809523809523807,
          30.555555555555557,
          15.625,
          11.538461538461538,
          26,
          29.411764705882355,
          37.83783783783784,
          27.77777777777778,
          26.666666666666668,
          19.35483870967742,
          23.684210526315788,
          25,
          26.666666666666668,
          28.205128205128204,
          28.57142857142857,
          17.24137931034483,
          32.142857142857146,
          40
         ],
         "yaxis": "y12"
        },
        {
         "line": {
          "color": "rgba(180,180,180,80)"
         },
         "mode": "lines",
         "name": "",
         "type": "scatter",
         "x": [
          2001,
          2002,
          2003,
          2004,
          2005,
          2006,
          2007,
          2008,
          2009,
          2010,
          2011,
          2012,
          2013,
          2014,
          2015,
          2016,
          2017,
          2018,
          2019,
          2020,
          2021,
          2022,
          2023
         ],
         "xaxis": "x12",
         "y": [
          0,
          1.639344262295082,
          0,
          7.446808510638298,
          0,
          0,
          1.1111111111111112,
          0,
          1.6666666666666667,
          2.054794520547945,
          1.5873015873015872,
          0.7462686567164178,
          2.8368794326241136,
          14.388489208633093,
          0,
          1.0256410256410255,
          3.0864197530864197,
          1.8181818181818181,
          2.824858757062147,
          3.3557046979865772,
          4.57516339869281,
          4.320987654320987,
          2.2222222222222223
         ],
         "yaxis": "y12"
        },
        {
         "line": {
          "color": "rgba(180,180,180,80)"
         },
         "mode": "lines",
         "name": "",
         "type": "scatter",
         "x": [
          2001,
          2002,
          2003,
          2004,
          2005,
          2006,
          2007,
          2008,
          2009,
          2010,
          2011,
          2012,
          2013,
          2014,
          2015,
          2016,
          2017,
          2018,
          2019,
          2020,
          2021,
          2022,
          2023
         ],
         "xaxis": "x12",
         "y": [
          3.4482758620689653,
          0,
          7.586206896551724,
          2.4691358024691357,
          5.384615384615385,
          1.3888888888888888,
          1.574803149606299,
          2.3529411764705883,
          7.065217391304348,
          2.7624309392265194,
          4.81283422459893,
          1.6574585635359116,
          1.9230769230769231,
          7.142857142857142,
          4.166666666666666,
          0,
          3.664921465968586,
          2.9268292682926833,
          5.202312138728324,
          6.081081081081082,
          2.1164021164021163,
          4.444444444444445,
          8.653846153846153
         ],
         "yaxis": "y12"
        },
        {
         "line": {
          "color": "rgba(180,180,180,80)"
         },
         "mode": "lines",
         "name": "",
         "type": "scatter",
         "x": [
          2001,
          2002,
          2003,
          2004,
          2005,
          2006,
          2007,
          2008,
          2009,
          2010,
          2011,
          2012,
          2013,
          2014,
          2015,
          2016,
          2017,
          2018,
          2019,
          2020,
          2021,
          2022,
          2023
         ],
         "xaxis": "x12",
         "y": [
          0,
          0,
          0,
          0,
          0,
          0,
          2.7027027027027026,
          2.127659574468085,
          2.564102564102564,
          2.2222222222222223,
          0,
          4.761904761904762,
          4.545454545454546,
          0,
          2.1739130434782608,
          2.4390243902439024,
          0,
          3.125,
          0,
          0,
          0,
          2.0408163265306123,
          0
         ],
         "yaxis": "y12"
        },
        {
         "line": {
          "color": "red"
         },
         "mode": "lines",
         "name": "",
         "type": "scatter",
         "x": [
          2001,
          2002,
          2003,
          2004,
          2005,
          2006,
          2007,
          2008,
          2009,
          2010,
          2011,
          2012,
          2013,
          2014,
          2015,
          2016,
          2017,
          2018,
          2019,
          2020,
          2021,
          2022,
          2023
         ],
         "xaxis": "x12",
         "y": [
          7.601184600197433,
          10.254163014899213,
          9.31899641577061,
          8.311518324607329,
          9.650259067357512,
          9.512893982808022,
          9.205867475973697,
          6.4500716674629714,
          10.21256931608133,
          8.185361628410567,
          8.379413015737985,
          11.15898319689789,
          8.82752376641014,
          8.702999577524292,
          9.347368421052632,
          9.67741935483871,
          11.011904761904761,
          8.860249697946033,
          10.437710437710438,
          10.715979137031768,
          11.10254433307633,
          12.056451612903226,
          13.452655889145495
         ],
         "yaxis": "y12"
        },
        {
         "line": {
          "color": "blue"
         },
         "mode": "lines",
         "name": "",
         "type": "scatter",
         "x": [
          2001,
          2002,
          2003,
          2004,
          2005,
          2006,
          2007,
          2008,
          2009,
          2010,
          2011,
          2012,
          2013,
          2014,
          2015,
          2016,
          2017,
          2018,
          2019,
          2020,
          2021,
          2022,
          2023
         ],
         "xaxis": "x12",
         "y": [
          3.571428571428571,
          4.10958904109589,
          2.73972602739726,
          7.377049180327869,
          1.9230769230769231,
          1.3071895424836601,
          5.0359712230215825,
          2.6881720430107525,
          5.327868852459016,
          4.291845493562231,
          1.3333333333333335,
          3.91304347826087,
          3.2388663967611335,
          1.951219512195122,
          2.6119402985074625,
          5.147058823529411,
          7.171314741035857,
          6.437768240343347,
          8.203125,
          4.910714285714286,
          9.803921568627452,
          10.50228310502283,
          13.612565445026178
         ],
         "yaxis": "y12"
        },
        {
         "line": {
          "color": "rgba(180,180,180,80)"
         },
         "mode": "lines",
         "name": "",
         "type": "scatter",
         "x": [
          2001,
          2002,
          2003,
          2004,
          2005,
          2006,
          2007,
          2008,
          2009,
          2010,
          2011,
          2012,
          2013,
          2014,
          2015,
          2016,
          2017,
          2018,
          2019,
          2020,
          2021,
          2022,
          2023
         ],
         "xaxis": "x13",
         "y": [
          1,
          4.678362573099415,
          3.1413612565445024,
          2.4271844660194173,
          2.515723270440252,
          7.647058823529412,
          4.184100418410042,
          1.968503937007874,
          5.084745762711865,
          1.107011070110701,
          2.3346303501945527,
          1.4184397163120568,
          6.405693950177936,
          1.9672131147540985,
          12.741312741312742,
          5.604719764011799,
          3.202846975088968,
          1.3377926421404682,
          3.0716723549488054,
          6.343283582089552,
          5.844155844155844,
          8.552631578947368,
          7.657657657657657
         ],
         "yaxis": "y13"
        },
        {
         "line": {
          "color": "rgba(180,180,180,80)"
         },
         "mode": "lines",
         "name": "",
         "type": "scatter",
         "x": [
          2001,
          2002,
          2003,
          2004,
          2005,
          2006,
          2007,
          2008,
          2009,
          2010,
          2011,
          2012,
          2013,
          2014,
          2015,
          2016,
          2017,
          2018,
          2019,
          2020,
          2021,
          2022,
          2023
         ],
         "xaxis": "x13",
         "y": [
          4.242424242424243,
          3.1847133757961785,
          8.5,
          6.091370558375635,
          3.125,
          5.41871921182266,
          15.087719298245613,
          6.287425149700598,
          5.389221556886228,
          5.523255813953488,
          6.2645011600928076,
          17.50663129973475,
          7.122507122507122,
          5.974025974025974,
          8.27250608272506,
          8.997429305912597,
          12.672176308539946,
          11.557788944723619,
          8.87728459530026,
          8.955223880597014,
          7.774798927613941,
          15.123456790123457,
          8.415841584158416
         ],
         "yaxis": "y13"
        },
        {
         "line": {
          "color": "rgba(180,180,180,80)"
         },
         "mode": "lines",
         "name": "",
         "type": "scatter",
         "x": [
          2001,
          2002,
          2003,
          2004,
          2005,
          2006,
          2007,
          2008,
          2009,
          2010,
          2011,
          2012,
          2013,
          2014,
          2015,
          2016,
          2017,
          2018,
          2019,
          2020,
          2021,
          2022,
          2023
         ],
         "xaxis": "x13",
         "y": [
          8.75,
          7.317073170731707,
          7.59493670886076,
          5.681818181818182,
          17.24137931034483,
          8.60215053763441,
          4.62962962962963,
          3.7735849056603774,
          6.593406593406594,
          15.74074074074074,
          26.356589147286826,
          7.339449541284404,
          16.9811320754717,
          13.821138211382115,
          13.636363636363635,
          19.82758620689655,
          22.413793103448278,
          13.513513513513514,
          19.230769230769234,
          10.256410256410255,
          7.6190476190476195,
          6.224066390041494,
          6.748466257668712
         ],
         "yaxis": "y13"
        },
        {
         "line": {
          "color": "rgba(180,180,180,80)"
         },
         "mode": "lines",
         "name": "",
         "type": "scatter",
         "x": [
          2001,
          2002,
          2003,
          2004,
          2005,
          2006,
          2007,
          2008,
          2009,
          2010,
          2011,
          2012,
          2013,
          2014,
          2015,
          2016,
          2017,
          2018,
          2019,
          2020,
          2021,
          2022,
          2023
         ],
         "xaxis": "x13",
         "y": [
          2.6143790849673203,
          11.351351351351353,
          1.7045454545454544,
          3.1914893617021276,
          4.232804232804233,
          10.695187165775401,
          3.7815126050420167,
          3.3962264150943398,
          5.415162454873646,
          1.4336917562724014,
          1.7482517482517483,
          6.779661016949152,
          5.405405405405405,
          2.527075812274368,
          4.72972972972973,
          3.041825095057034,
          1.6,
          3.205128205128205,
          4.491017964071856,
          9.180327868852459,
          4.923076923076923,
          8.359133126934983,
          10.2803738317757
         ],
         "yaxis": "y13"
        },
        {
         "line": {
          "color": "rgba(180,180,180,80)"
         },
         "mode": "lines",
         "name": "",
         "type": "scatter",
         "x": [
          2001,
          2002,
          2003,
          2004,
          2005,
          2006,
          2007,
          2008,
          2009,
          2010,
          2011,
          2012,
          2013,
          2014,
          2015,
          2016,
          2017,
          2018,
          2019,
          2020,
          2021,
          2022,
          2023
         ],
         "xaxis": "x13",
         "y": [
          25,
          24,
          26.08695652173913,
          15,
          29.411764705882355,
          23.809523809523807,
          30.555555555555557,
          15.625,
          11.538461538461538,
          26,
          29.411764705882355,
          37.83783783783784,
          27.77777777777778,
          26.666666666666668,
          19.35483870967742,
          23.684210526315788,
          25,
          26.666666666666668,
          28.205128205128204,
          28.57142857142857,
          17.24137931034483,
          32.142857142857146,
          40
         ],
         "yaxis": "y13"
        },
        {
         "line": {
          "color": "rgba(180,180,180,80)"
         },
         "mode": "lines",
         "name": "",
         "type": "scatter",
         "x": [
          2001,
          2002,
          2003,
          2004,
          2005,
          2006,
          2007,
          2008,
          2009,
          2010,
          2011,
          2012,
          2013,
          2014,
          2015,
          2016,
          2017,
          2018,
          2019,
          2020,
          2021,
          2022,
          2023
         ],
         "xaxis": "x13",
         "y": [
          0,
          1.639344262295082,
          0,
          7.446808510638298,
          0,
          0,
          1.1111111111111112,
          0,
          1.6666666666666667,
          2.054794520547945,
          1.5873015873015872,
          0.7462686567164178,
          2.8368794326241136,
          14.388489208633093,
          0,
          1.0256410256410255,
          3.0864197530864197,
          1.8181818181818181,
          2.824858757062147,
          3.3557046979865772,
          4.57516339869281,
          4.320987654320987,
          2.2222222222222223
         ],
         "yaxis": "y13"
        },
        {
         "line": {
          "color": "rgba(180,180,180,80)"
         },
         "mode": "lines",
         "name": "",
         "type": "scatter",
         "x": [
          2001,
          2002,
          2003,
          2004,
          2005,
          2006,
          2007,
          2008,
          2009,
          2010,
          2011,
          2012,
          2013,
          2014,
          2015,
          2016,
          2017,
          2018,
          2019,
          2020,
          2021,
          2022,
          2023
         ],
         "xaxis": "x13",
         "y": [
          3.4482758620689653,
          0,
          7.586206896551724,
          2.4691358024691357,
          5.384615384615385,
          1.3888888888888888,
          1.574803149606299,
          2.3529411764705883,
          7.065217391304348,
          2.7624309392265194,
          4.81283422459893,
          1.6574585635359116,
          1.9230769230769231,
          7.142857142857142,
          4.166666666666666,
          0,
          3.664921465968586,
          2.9268292682926833,
          5.202312138728324,
          6.081081081081082,
          2.1164021164021163,
          4.444444444444445,
          8.653846153846153
         ],
         "yaxis": "y13"
        },
        {
         "line": {
          "color": "rgba(180,180,180,80)"
         },
         "mode": "lines",
         "name": "",
         "type": "scatter",
         "x": [
          2001,
          2002,
          2003,
          2004,
          2005,
          2006,
          2007,
          2008,
          2009,
          2010,
          2011,
          2012,
          2013,
          2014,
          2015,
          2016,
          2017,
          2018,
          2019,
          2020,
          2021,
          2022,
          2023
         ],
         "xaxis": "x13",
         "y": [
          0,
          0,
          0,
          0,
          0,
          0,
          2.7027027027027026,
          2.127659574468085,
          2.564102564102564,
          2.2222222222222223,
          0,
          4.761904761904762,
          4.545454545454546,
          0,
          2.1739130434782608,
          2.4390243902439024,
          0,
          3.125,
          0,
          0,
          0,
          2.0408163265306123,
          0
         ],
         "yaxis": "y13"
        },
        {
         "line": {
          "color": "rgba(180,180,180,80)"
         },
         "mode": "lines",
         "name": "",
         "type": "scatter",
         "x": [
          2001,
          2002,
          2003,
          2004,
          2005,
          2006,
          2007,
          2008,
          2009,
          2010,
          2011,
          2012,
          2013,
          2014,
          2015,
          2016,
          2017,
          2018,
          2019,
          2020,
          2021,
          2022,
          2023
         ],
         "xaxis": "x13",
         "y": [
          3.571428571428571,
          4.10958904109589,
          2.73972602739726,
          7.377049180327869,
          1.9230769230769231,
          1.3071895424836601,
          5.0359712230215825,
          2.6881720430107525,
          5.327868852459016,
          4.291845493562231,
          1.3333333333333335,
          3.91304347826087,
          3.2388663967611335,
          1.951219512195122,
          2.6119402985074625,
          5.147058823529411,
          7.171314741035857,
          6.437768240343347,
          8.203125,
          4.910714285714286,
          9.803921568627452,
          10.50228310502283,
          13.612565445026178
         ],
         "yaxis": "y13"
        },
        {
         "line": {
          "color": "red"
         },
         "mode": "lines",
         "name": "",
         "type": "scatter",
         "x": [
          2001,
          2002,
          2003,
          2004,
          2005,
          2006,
          2007,
          2008,
          2009,
          2010,
          2011,
          2012,
          2013,
          2014,
          2015,
          2016,
          2017,
          2018,
          2019,
          2020,
          2021,
          2022,
          2023
         ],
         "xaxis": "x13",
         "y": [
          7.601184600197433,
          10.254163014899213,
          9.31899641577061,
          8.311518324607329,
          9.650259067357512,
          9.512893982808022,
          9.205867475973697,
          6.4500716674629714,
          10.21256931608133,
          8.185361628410567,
          8.379413015737985,
          11.15898319689789,
          8.82752376641014,
          8.702999577524292,
          9.347368421052632,
          9.67741935483871,
          11.011904761904761,
          8.860249697946033,
          10.437710437710438,
          10.715979137031768,
          11.10254433307633,
          12.056451612903226,
          13.452655889145495
         ],
         "yaxis": "y13"
        },
        {
         "line": {
          "color": "blue"
         },
         "mode": "lines",
         "name": "",
         "type": "scatter",
         "x": [
          2001,
          2002,
          2003,
          2004,
          2005,
          2006,
          2007,
          2008,
          2009,
          2010,
          2011,
          2012,
          2013,
          2014,
          2015,
          2016,
          2017,
          2018,
          2019,
          2020,
          2021,
          2022,
          2023
         ],
         "xaxis": "x13",
         "y": [
          0.5882352941176471,
          8.108108108108109,
          6.719367588932807,
          3.4482758620689653,
          9.48905109489051,
          5.894308943089431,
          6.488549618320611,
          4.273504273504273,
          12.213740458015266,
          6.151142355008787,
          3.5381750465549344,
          10.469314079422382,
          5.325443786982249,
          7.4324324324324325,
          7.945736434108527,
          5.809859154929577,
          12.5,
          6.138933764135703,
          11.377245508982035,
          11.702127659574469,
          11.11111111111111,
          8.960573476702509,
          12.442396313364055
         ],
         "yaxis": "y13"
        },
        {
         "line": {
          "color": "red"
         },
         "mode": "lines",
         "name": "Toutes les disciplines",
         "type": "scatter",
         "x": [
          2001,
          2002,
          2003,
          2004,
          2005,
          2006,
          2007,
          2008,
          2009,
          2010,
          2011,
          2012,
          2013,
          2014,
          2015,
          2016,
          2017,
          2018,
          2019,
          2020,
          2021,
          2022,
          2023
         ],
         "xaxis": "x",
         "y": [
          7.601184600197433,
          10.254163014899213,
          9.31899641577061,
          8.311518324607329,
          9.650259067357512,
          9.512893982808022,
          9.205867475973697,
          6.4500716674629714,
          10.21256931608133,
          8.185361628410567,
          8.379413015737985,
          11.15898319689789,
          8.82752376641014,
          8.702999577524292,
          9.347368421052632,
          9.67741935483871,
          11.011904761904761,
          8.860249697946033,
          10.437710437710438,
          10.715979137031768,
          11.10254433307633,
          12.056451612903226,
          13.452655889145495
         ],
         "yaxis": "y"
        },
        {
         "line": {
          "color": "blue"
         },
         "mode": "lines",
         "name": "Études de Genre",
         "type": "scatter",
         "x": [
          2001,
          2002,
          2003,
          2004,
          2005,
          2006,
          2007,
          2008,
          2009,
          2010,
          2011,
          2012,
          2013,
          2014,
          2015,
          2016,
          2017,
          2018,
          2019,
          2020,
          2021,
          2022,
          2023
         ],
         "xaxis": "x",
         "y": [
          92.5925925925926,
          91.22807017543859,
          83.33333333333334,
          95.52238805970148,
          89.85507246376811,
          93.82716049382715,
          90.625,
          91.04477611940298,
          83.14606741573034,
          95.18072289156626,
          87.2340425531915,
          92.5,
          81.48148148148148,
          88.73239436619718,
          93.93939393939394,
          96,
          91.54929577464789,
          93.67088607594937,
          93.05555555555556,
          95,
          95.37037037037037,
          91.30434782608695,
          95.94594594594594
         ],
         "yaxis": "y"
        },
        {
         "line": {
          "color": "green"
         },
         "mode": "lines",
         "name": "Toutes les disciplines sauf Études de Genre",
         "type": "scatter",
         "x": [
          2001,
          2002,
          2003,
          2004,
          2005,
          2006,
          2007,
          2008,
          2009,
          2010,
          2011,
          2012,
          2013,
          2014,
          2015,
          2016,
          2017,
          2018,
          2019,
          2020,
          2021,
          2022,
          2023
         ],
         "xaxis": "x",
         "y": [
          9.726759726759726,
          9.726759726759726,
          9.726759726759726,
          9.726759726759726,
          9.726759726759726,
          9.726759726759726,
          9.726759726759726,
          9.726759726759726,
          9.726759726759726,
          9.726759726759726,
          9.726759726759726,
          9.726759726759726,
          9.726759726759726,
          9.726759726759726,
          9.726759726759726,
          9.726759726759726,
          9.726759726759726,
          9.726759726759726,
          9.726759726759726,
          9.726759726759726,
          9.726759726759726,
          9.726759726759726,
          9.726759726759726
         ],
         "yaxis": "y"
        },
        {
         "line": {
          "color": "rgba(200,200,200,80)"
         },
         "mode": "lines",
         "name": "",
         "type": "scatter",
         "x": [
          2001,
          2002,
          2003,
          2004,
          2005,
          2006,
          2007,
          2008,
          2009,
          2010,
          2011,
          2012,
          2013,
          2014,
          2015,
          2016,
          2017,
          2018,
          2019,
          2020,
          2021,
          2022,
          2023
         ],
         "xaxis": "x3",
         "y": [
          4.242424242424243,
          3.1847133757961785,
          8.5,
          6.091370558375635,
          3.125,
          5.41871921182266,
          15.087719298245613,
          6.287425149700598,
          5.389221556886228,
          5.523255813953488,
          6.2645011600928076,
          17.50663129973475,
          7.122507122507122,
          5.974025974025974,
          8.27250608272506,
          8.997429305912597,
          12.672176308539946,
          11.557788944723619,
          8.87728459530026,
          8.955223880597014,
          7.774798927613941,
          15.123456790123457,
          8.415841584158416
         ],
         "yaxis": "y3"
        },
        {
         "line": {
          "color": "rgba(200,200,200,80)"
         },
         "mode": "lines",
         "name": "",
         "type": "scatter",
         "x": [
          2001,
          2002,
          2003,
          2004,
          2005,
          2006,
          2007,
          2008,
          2009,
          2010,
          2011,
          2012,
          2013,
          2014,
          2015,
          2016,
          2017,
          2018,
          2019,
          2020,
          2021,
          2022,
          2023
         ],
         "xaxis": "x3",
         "y": [
          8.75,
          7.317073170731707,
          7.59493670886076,
          5.681818181818182,
          17.24137931034483,
          8.60215053763441,
          4.62962962962963,
          3.7735849056603774,
          6.593406593406594,
          15.74074074074074,
          26.356589147286826,
          7.339449541284404,
          16.9811320754717,
          13.821138211382115,
          13.636363636363635,
          19.82758620689655,
          22.413793103448278,
          13.513513513513514,
          19.230769230769234,
          10.256410256410255,
          7.6190476190476195,
          6.224066390041494,
          6.748466257668712
         ],
         "yaxis": "y3"
        },
        {
         "line": {
          "color": "rgba(200,200,200,80)"
         },
         "mode": "lines",
         "name": "",
         "type": "scatter",
         "x": [
          2001,
          2002,
          2003,
          2004,
          2005,
          2006,
          2007,
          2008,
          2009,
          2010,
          2011,
          2012,
          2013,
          2014,
          2015,
          2016,
          2017,
          2018,
          2019,
          2020,
          2021,
          2022,
          2023
         ],
         "xaxis": "x3",
         "y": [
          2.6143790849673203,
          11.351351351351353,
          1.7045454545454544,
          3.1914893617021276,
          4.232804232804233,
          10.695187165775401,
          3.7815126050420167,
          3.3962264150943398,
          5.415162454873646,
          1.4336917562724014,
          1.7482517482517483,
          6.779661016949152,
          5.405405405405405,
          2.527075812274368,
          4.72972972972973,
          3.041825095057034,
          1.6,
          3.205128205128205,
          4.491017964071856,
          9.180327868852459,
          4.923076923076923,
          8.359133126934983,
          10.2803738317757
         ],
         "yaxis": "y3"
        },
        {
         "line": {
          "color": "rgba(200,200,200,80)"
         },
         "mode": "lines",
         "name": "",
         "type": "scatter",
         "x": [
          2001,
          2002,
          2003,
          2004,
          2005,
          2006,
          2007,
          2008,
          2009,
          2010,
          2011,
          2012,
          2013,
          2014,
          2015,
          2016,
          2017,
          2018,
          2019,
          2020,
          2021,
          2022,
          2023
         ],
         "xaxis": "x3",
         "y": [
          0.5882352941176471,
          8.108108108108109,
          6.719367588932807,
          3.4482758620689653,
          9.48905109489051,
          5.894308943089431,
          6.488549618320611,
          4.273504273504273,
          12.213740458015266,
          6.151142355008787,
          3.5381750465549344,
          10.469314079422382,
          5.325443786982249,
          7.4324324324324325,
          7.945736434108527,
          5.809859154929577,
          12.5,
          6.138933764135703,
          11.377245508982035,
          11.702127659574469,
          11.11111111111111,
          8.960573476702509,
          12.442396313364055
         ],
         "yaxis": "y3"
        },
        {
         "line": {
          "color": "rgba(200,200,200,80)"
         },
         "mode": "lines",
         "name": "",
         "type": "scatter",
         "x": [
          2001,
          2002,
          2003,
          2004,
          2005,
          2006,
          2007,
          2008,
          2009,
          2010,
          2011,
          2012,
          2013,
          2014,
          2015,
          2016,
          2017,
          2018,
          2019,
          2020,
          2021,
          2022,
          2023
         ],
         "xaxis": "x3",
         "y": [
          25,
          24,
          26.08695652173913,
          15,
          29.411764705882355,
          23.809523809523807,
          30.555555555555557,
          15.625,
          11.538461538461538,
          26,
          29.411764705882355,
          37.83783783783784,
          27.77777777777778,
          26.666666666666668,
          19.35483870967742,
          23.684210526315788,
          25,
          26.666666666666668,
          28.205128205128204,
          28.57142857142857,
          17.24137931034483,
          32.142857142857146,
          40
         ],
         "yaxis": "y3"
        },
        {
         "line": {
          "color": "rgba(200,200,200,80)"
         },
         "mode": "lines",
         "name": "",
         "type": "scatter",
         "x": [
          2001,
          2002,
          2003,
          2004,
          2005,
          2006,
          2007,
          2008,
          2009,
          2010,
          2011,
          2012,
          2013,
          2014,
          2015,
          2016,
          2017,
          2018,
          2019,
          2020,
          2021,
          2022,
          2023
         ],
         "xaxis": "x3",
         "y": [
          0,
          1.639344262295082,
          0,
          7.446808510638298,
          0,
          0,
          1.1111111111111112,
          0,
          1.6666666666666667,
          2.054794520547945,
          1.5873015873015872,
          0.7462686567164178,
          2.8368794326241136,
          14.388489208633093,
          0,
          1.0256410256410255,
          3.0864197530864197,
          1.8181818181818181,
          2.824858757062147,
          3.3557046979865772,
          4.57516339869281,
          4.320987654320987,
          2.2222222222222223
         ],
         "yaxis": "y3"
        },
        {
         "line": {
          "color": "rgba(200,200,200,80)"
         },
         "mode": "lines",
         "name": "",
         "type": "scatter",
         "x": [
          2001,
          2002,
          2003,
          2004,
          2005,
          2006,
          2007,
          2008,
          2009,
          2010,
          2011,
          2012,
          2013,
          2014,
          2015,
          2016,
          2017,
          2018,
          2019,
          2020,
          2021,
          2022,
          2023
         ],
         "xaxis": "x3",
         "y": [
          3.4482758620689653,
          0,
          7.586206896551724,
          2.4691358024691357,
          5.384615384615385,
          1.3888888888888888,
          1.574803149606299,
          2.3529411764705883,
          7.065217391304348,
          2.7624309392265194,
          4.81283422459893,
          1.6574585635359116,
          1.9230769230769231,
          7.142857142857142,
          4.166666666666666,
          0,
          3.664921465968586,
          2.9268292682926833,
          5.202312138728324,
          6.081081081081082,
          2.1164021164021163,
          4.444444444444445,
          8.653846153846153
         ],
         "yaxis": "y3"
        },
        {
         "line": {
          "color": "rgba(200,200,200,80)"
         },
         "mode": "lines",
         "name": "",
         "type": "scatter",
         "x": [
          2001,
          2002,
          2003,
          2004,
          2005,
          2006,
          2007,
          2008,
          2009,
          2010,
          2011,
          2012,
          2013,
          2014,
          2015,
          2016,
          2017,
          2018,
          2019,
          2020,
          2021,
          2022,
          2023
         ],
         "xaxis": "x3",
         "y": [
          0,
          0,
          0,
          0,
          0,
          0,
          2.7027027027027026,
          2.127659574468085,
          2.564102564102564,
          2.2222222222222223,
          0,
          4.761904761904762,
          4.545454545454546,
          0,
          2.1739130434782608,
          2.4390243902439024,
          0,
          3.125,
          0,
          0,
          0,
          2.0408163265306123,
          0
         ],
         "yaxis": "y3"
        },
        {
         "line": {
          "color": "rgba(200,200,200,80)"
         },
         "mode": "lines",
         "name": "",
         "type": "scatter",
         "x": [
          2001,
          2002,
          2003,
          2004,
          2005,
          2006,
          2007,
          2008,
          2009,
          2010,
          2011,
          2012,
          2013,
          2014,
          2015,
          2016,
          2017,
          2018,
          2019,
          2020,
          2021,
          2022,
          2023
         ],
         "xaxis": "x3",
         "y": [
          3.571428571428571,
          4.10958904109589,
          2.73972602739726,
          7.377049180327869,
          1.9230769230769231,
          1.3071895424836601,
          5.0359712230215825,
          2.6881720430107525,
          5.327868852459016,
          4.291845493562231,
          1.3333333333333335,
          3.91304347826087,
          3.2388663967611335,
          1.951219512195122,
          2.6119402985074625,
          5.147058823529411,
          7.171314741035857,
          6.437768240343347,
          8.203125,
          4.910714285714286,
          9.803921568627452,
          10.50228310502283,
          13.612565445026178
         ],
         "yaxis": "y3"
        },
        {
         "line": {
          "color": "red"
         },
         "mode": "lines",
         "name": "",
         "type": "scatter",
         "x": [
          2001,
          2002,
          2003,
          2004,
          2005,
          2006,
          2007,
          2008,
          2009,
          2010,
          2011,
          2012,
          2013,
          2014,
          2015,
          2016,
          2017,
          2018,
          2019,
          2020,
          2021,
          2022,
          2023
         ],
         "xaxis": "x3",
         "y": [
          7.601184600197433,
          10.254163014899213,
          9.31899641577061,
          8.311518324607329,
          9.650259067357512,
          9.512893982808022,
          9.205867475973697,
          6.4500716674629714,
          10.21256931608133,
          8.185361628410567,
          8.379413015737985,
          11.15898319689789,
          8.82752376641014,
          8.702999577524292,
          9.347368421052632,
          9.67741935483871,
          11.011904761904761,
          8.860249697946033,
          10.437710437710438,
          10.715979137031768,
          11.10254433307633,
          12.056451612903226,
          13.452655889145495
         ],
         "yaxis": "y3"
        },
        {
         "line": {
          "color": "blue"
         },
         "mode": "lines",
         "name": "",
         "type": "scatter",
         "x": [
          2001,
          2002,
          2003,
          2004,
          2005,
          2006,
          2007,
          2008,
          2009,
          2010,
          2011,
          2012,
          2013,
          2014,
          2015,
          2016,
          2017,
          2018,
          2019,
          2020,
          2021,
          2022,
          2023
         ],
         "xaxis": "x3",
         "y": [
          1,
          4.678362573099415,
          3.1413612565445024,
          2.4271844660194173,
          2.515723270440252,
          7.647058823529412,
          4.184100418410042,
          1.968503937007874,
          5.084745762711865,
          1.107011070110701,
          2.3346303501945527,
          1.4184397163120568,
          6.405693950177936,
          1.9672131147540985,
          12.741312741312742,
          5.604719764011799,
          3.202846975088968,
          1.3377926421404682,
          3.0716723549488054,
          6.343283582089552,
          5.844155844155844,
          8.552631578947368,
          7.657657657657657
         ],
         "yaxis": "y3"
        },
        {
         "line": {
          "color": "rgba(200,200,200,80)"
         },
         "mode": "lines",
         "name": "",
         "type": "scatter",
         "x": [
          2001,
          2002,
          2003,
          2004,
          2005,
          2006,
          2007,
          2008,
          2009,
          2010,
          2011,
          2012,
          2013,
          2014,
          2015,
          2016,
          2017,
          2018,
          2019,
          2020,
          2021,
          2022,
          2023
         ],
         "xaxis": "x4",
         "y": [
          1,
          4.678362573099415,
          3.1413612565445024,
          2.4271844660194173,
          2.515723270440252,
          7.647058823529412,
          4.184100418410042,
          1.968503937007874,
          5.084745762711865,
          1.107011070110701,
          2.3346303501945527,
          1.4184397163120568,
          6.405693950177936,
          1.9672131147540985,
          12.741312741312742,
          5.604719764011799,
          3.202846975088968,
          1.3377926421404682,
          3.0716723549488054,
          6.343283582089552,
          5.844155844155844,
          8.552631578947368,
          7.657657657657657
         ],
         "yaxis": "y4"
        },
        {
         "line": {
          "color": "rgba(200,200,200,80)"
         },
         "mode": "lines",
         "name": "",
         "type": "scatter",
         "x": [
          2001,
          2002,
          2003,
          2004,
          2005,
          2006,
          2007,
          2008,
          2009,
          2010,
          2011,
          2012,
          2013,
          2014,
          2015,
          2016,
          2017,
          2018,
          2019,
          2020,
          2021,
          2022,
          2023
         ],
         "xaxis": "x4",
         "y": [
          8.75,
          7.317073170731707,
          7.59493670886076,
          5.681818181818182,
          17.24137931034483,
          8.60215053763441,
          4.62962962962963,
          3.7735849056603774,
          6.593406593406594,
          15.74074074074074,
          26.356589147286826,
          7.339449541284404,
          16.9811320754717,
          13.821138211382115,
          13.636363636363635,
          19.82758620689655,
          22.413793103448278,
          13.513513513513514,
          19.230769230769234,
          10.256410256410255,
          7.6190476190476195,
          6.224066390041494,
          6.748466257668712
         ],
         "yaxis": "y4"
        },
        {
         "line": {
          "color": "rgba(200,200,200,80)"
         },
         "mode": "lines",
         "name": "",
         "type": "scatter",
         "x": [
          2001,
          2002,
          2003,
          2004,
          2005,
          2006,
          2007,
          2008,
          2009,
          2010,
          2011,
          2012,
          2013,
          2014,
          2015,
          2016,
          2017,
          2018,
          2019,
          2020,
          2021,
          2022,
          2023
         ],
         "xaxis": "x4",
         "y": [
          2.6143790849673203,
          11.351351351351353,
          1.7045454545454544,
          3.1914893617021276,
          4.232804232804233,
          10.695187165775401,
          3.7815126050420167,
          3.3962264150943398,
          5.415162454873646,
          1.4336917562724014,
          1.7482517482517483,
          6.779661016949152,
          5.405405405405405,
          2.527075812274368,
          4.72972972972973,
          3.041825095057034,
          1.6,
          3.205128205128205,
          4.491017964071856,
          9.180327868852459,
          4.923076923076923,
          8.359133126934983,
          10.2803738317757
         ],
         "yaxis": "y4"
        },
        {
         "line": {
          "color": "rgba(200,200,200,80)"
         },
         "mode": "lines",
         "name": "",
         "type": "scatter",
         "x": [
          2001,
          2002,
          2003,
          2004,
          2005,
          2006,
          2007,
          2008,
          2009,
          2010,
          2011,
          2012,
          2013,
          2014,
          2015,
          2016,
          2017,
          2018,
          2019,
          2020,
          2021,
          2022,
          2023
         ],
         "xaxis": "x4",
         "y": [
          0.5882352941176471,
          8.108108108108109,
          6.719367588932807,
          3.4482758620689653,
          9.48905109489051,
          5.894308943089431,
          6.488549618320611,
          4.273504273504273,
          12.213740458015266,
          6.151142355008787,
          3.5381750465549344,
          10.469314079422382,
          5.325443786982249,
          7.4324324324324325,
          7.945736434108527,
          5.809859154929577,
          12.5,
          6.138933764135703,
          11.377245508982035,
          11.702127659574469,
          11.11111111111111,
          8.960573476702509,
          12.442396313364055
         ],
         "yaxis": "y4"
        },
        {
         "line": {
          "color": "rgba(200,200,200,80)"
         },
         "mode": "lines",
         "name": "",
         "type": "scatter",
         "x": [
          2001,
          2002,
          2003,
          2004,
          2005,
          2006,
          2007,
          2008,
          2009,
          2010,
          2011,
          2012,
          2013,
          2014,
          2015,
          2016,
          2017,
          2018,
          2019,
          2020,
          2021,
          2022,
          2023
         ],
         "xaxis": "x4",
         "y": [
          25,
          24,
          26.08695652173913,
          15,
          29.411764705882355,
          23.809523809523807,
          30.555555555555557,
          15.625,
          11.538461538461538,
          26,
          29.411764705882355,
          37.83783783783784,
          27.77777777777778,
          26.666666666666668,
          19.35483870967742,
          23.684210526315788,
          25,
          26.666666666666668,
          28.205128205128204,
          28.57142857142857,
          17.24137931034483,
          32.142857142857146,
          40
         ],
         "yaxis": "y4"
        },
        {
         "line": {
          "color": "rgba(200,200,200,80)"
         },
         "mode": "lines",
         "name": "",
         "type": "scatter",
         "x": [
          2001,
          2002,
          2003,
          2004,
          2005,
          2006,
          2007,
          2008,
          2009,
          2010,
          2011,
          2012,
          2013,
          2014,
          2015,
          2016,
          2017,
          2018,
          2019,
          2020,
          2021,
          2022,
          2023
         ],
         "xaxis": "x4",
         "y": [
          0,
          1.639344262295082,
          0,
          7.446808510638298,
          0,
          0,
          1.1111111111111112,
          0,
          1.6666666666666667,
          2.054794520547945,
          1.5873015873015872,
          0.7462686567164178,
          2.8368794326241136,
          14.388489208633093,
          0,
          1.0256410256410255,
          3.0864197530864197,
          1.8181818181818181,
          2.824858757062147,
          3.3557046979865772,
          4.57516339869281,
          4.320987654320987,
          2.2222222222222223
         ],
         "yaxis": "y4"
        },
        {
         "line": {
          "color": "rgba(200,200,200,80)"
         },
         "mode": "lines",
         "name": "",
         "type": "scatter",
         "x": [
          2001,
          2002,
          2003,
          2004,
          2005,
          2006,
          2007,
          2008,
          2009,
          2010,
          2011,
          2012,
          2013,
          2014,
          2015,
          2016,
          2017,
          2018,
          2019,
          2020,
          2021,
          2022,
          2023
         ],
         "xaxis": "x4",
         "y": [
          3.4482758620689653,
          0,
          7.586206896551724,
          2.4691358024691357,
          5.384615384615385,
          1.3888888888888888,
          1.574803149606299,
          2.3529411764705883,
          7.065217391304348,
          2.7624309392265194,
          4.81283422459893,
          1.6574585635359116,
          1.9230769230769231,
          7.142857142857142,
          4.166666666666666,
          0,
          3.664921465968586,
          2.9268292682926833,
          5.202312138728324,
          6.081081081081082,
          2.1164021164021163,
          4.444444444444445,
          8.653846153846153
         ],
         "yaxis": "y4"
        },
        {
         "line": {
          "color": "rgba(200,200,200,80)"
         },
         "mode": "lines",
         "name": "",
         "type": "scatter",
         "x": [
          2001,
          2002,
          2003,
          2004,
          2005,
          2006,
          2007,
          2008,
          2009,
          2010,
          2011,
          2012,
          2013,
          2014,
          2015,
          2016,
          2017,
          2018,
          2019,
          2020,
          2021,
          2022,
          2023
         ],
         "xaxis": "x4",
         "y": [
          0,
          0,
          0,
          0,
          0,
          0,
          2.7027027027027026,
          2.127659574468085,
          2.564102564102564,
          2.2222222222222223,
          0,
          4.761904761904762,
          4.545454545454546,
          0,
          2.1739130434782608,
          2.4390243902439024,
          0,
          3.125,
          0,
          0,
          0,
          2.0408163265306123,
          0
         ],
         "yaxis": "y4"
        },
        {
         "line": {
          "color": "rgba(200,200,200,80)"
         },
         "mode": "lines",
         "name": "",
         "type": "scatter",
         "x": [
          2001,
          2002,
          2003,
          2004,
          2005,
          2006,
          2007,
          2008,
          2009,
          2010,
          2011,
          2012,
          2013,
          2014,
          2015,
          2016,
          2017,
          2018,
          2019,
          2020,
          2021,
          2022,
          2023
         ],
         "xaxis": "x4",
         "y": [
          3.571428571428571,
          4.10958904109589,
          2.73972602739726,
          7.377049180327869,
          1.9230769230769231,
          1.3071895424836601,
          5.0359712230215825,
          2.6881720430107525,
          5.327868852459016,
          4.291845493562231,
          1.3333333333333335,
          3.91304347826087,
          3.2388663967611335,
          1.951219512195122,
          2.6119402985074625,
          5.147058823529411,
          7.171314741035857,
          6.437768240343347,
          8.203125,
          4.910714285714286,
          9.803921568627452,
          10.50228310502283,
          13.612565445026178
         ],
         "yaxis": "y4"
        },
        {
         "line": {
          "color": "red"
         },
         "mode": "lines",
         "name": "",
         "type": "scatter",
         "x": [
          2001,
          2002,
          2003,
          2004,
          2005,
          2006,
          2007,
          2008,
          2009,
          2010,
          2011,
          2012,
          2013,
          2014,
          2015,
          2016,
          2017,
          2018,
          2019,
          2020,
          2021,
          2022,
          2023
         ],
         "xaxis": "x4",
         "y": [
          7.601184600197433,
          10.254163014899213,
          9.31899641577061,
          8.311518324607329,
          9.650259067357512,
          9.512893982808022,
          9.205867475973697,
          6.4500716674629714,
          10.21256931608133,
          8.185361628410567,
          8.379413015737985,
          11.15898319689789,
          8.82752376641014,
          8.702999577524292,
          9.347368421052632,
          9.67741935483871,
          11.011904761904761,
          8.860249697946033,
          10.437710437710438,
          10.715979137031768,
          11.10254433307633,
          12.056451612903226,
          13.452655889145495
         ],
         "yaxis": "y4"
        },
        {
         "line": {
          "color": "blue"
         },
         "mode": "lines",
         "name": "",
         "type": "scatter",
         "x": [
          2001,
          2002,
          2003,
          2004,
          2005,
          2006,
          2007,
          2008,
          2009,
          2010,
          2011,
          2012,
          2013,
          2014,
          2015,
          2016,
          2017,
          2018,
          2019,
          2020,
          2021,
          2022,
          2023
         ],
         "xaxis": "x4",
         "y": [
          4.242424242424243,
          3.1847133757961785,
          8.5,
          6.091370558375635,
          3.125,
          5.41871921182266,
          15.087719298245613,
          6.287425149700598,
          5.389221556886228,
          5.523255813953488,
          6.2645011600928076,
          17.50663129973475,
          7.122507122507122,
          5.974025974025974,
          8.27250608272506,
          8.997429305912597,
          12.672176308539946,
          11.557788944723619,
          8.87728459530026,
          8.955223880597014,
          7.774798927613941,
          15.123456790123457,
          8.415841584158416
         ],
         "yaxis": "y4"
        },
        {
         "line": {
          "color": "rgba(200,200,200,80)"
         },
         "mode": "lines",
         "name": "",
         "type": "scatter",
         "x": [
          2001,
          2002,
          2003,
          2004,
          2005,
          2006,
          2007,
          2008,
          2009,
          2010,
          2011,
          2012,
          2013,
          2014,
          2015,
          2016,
          2017,
          2018,
          2019,
          2020,
          2021,
          2022,
          2023
         ],
         "xaxis": "x6",
         "y": [
          1,
          4.678362573099415,
          3.1413612565445024,
          2.4271844660194173,
          2.515723270440252,
          7.647058823529412,
          4.184100418410042,
          1.968503937007874,
          5.084745762711865,
          1.107011070110701,
          2.3346303501945527,
          1.4184397163120568,
          6.405693950177936,
          1.9672131147540985,
          12.741312741312742,
          5.604719764011799,
          3.202846975088968,
          1.3377926421404682,
          3.0716723549488054,
          6.343283582089552,
          5.844155844155844,
          8.552631578947368,
          7.657657657657657
         ],
         "yaxis": "y6"
        },
        {
         "line": {
          "color": "rgba(200,200,200,80)"
         },
         "mode": "lines",
         "name": "",
         "type": "scatter",
         "x": [
          2001,
          2002,
          2003,
          2004,
          2005,
          2006,
          2007,
          2008,
          2009,
          2010,
          2011,
          2012,
          2013,
          2014,
          2015,
          2016,
          2017,
          2018,
          2019,
          2020,
          2021,
          2022,
          2023
         ],
         "xaxis": "x6",
         "y": [
          4.242424242424243,
          3.1847133757961785,
          8.5,
          6.091370558375635,
          3.125,
          5.41871921182266,
          15.087719298245613,
          6.287425149700598,
          5.389221556886228,
          5.523255813953488,
          6.2645011600928076,
          17.50663129973475,
          7.122507122507122,
          5.974025974025974,
          8.27250608272506,
          8.997429305912597,
          12.672176308539946,
          11.557788944723619,
          8.87728459530026,
          8.955223880597014,
          7.774798927613941,
          15.123456790123457,
          8.415841584158416
         ],
         "yaxis": "y6"
        },
        {
         "line": {
          "color": "rgba(200,200,200,80)"
         },
         "mode": "lines",
         "name": "",
         "type": "scatter",
         "x": [
          2001,
          2002,
          2003,
          2004,
          2005,
          2006,
          2007,
          2008,
          2009,
          2010,
          2011,
          2012,
          2013,
          2014,
          2015,
          2016,
          2017,
          2018,
          2019,
          2020,
          2021,
          2022,
          2023
         ],
         "xaxis": "x6",
         "y": [
          2.6143790849673203,
          11.351351351351353,
          1.7045454545454544,
          3.1914893617021276,
          4.232804232804233,
          10.695187165775401,
          3.7815126050420167,
          3.3962264150943398,
          5.415162454873646,
          1.4336917562724014,
          1.7482517482517483,
          6.779661016949152,
          5.405405405405405,
          2.527075812274368,
          4.72972972972973,
          3.041825095057034,
          1.6,
          3.205128205128205,
          4.491017964071856,
          9.180327868852459,
          4.923076923076923,
          8.359133126934983,
          10.2803738317757
         ],
         "yaxis": "y6"
        },
        {
         "line": {
          "color": "rgba(200,200,200,80)"
         },
         "mode": "lines",
         "name": "",
         "type": "scatter",
         "x": [
          2001,
          2002,
          2003,
          2004,
          2005,
          2006,
          2007,
          2008,
          2009,
          2010,
          2011,
          2012,
          2013,
          2014,
          2015,
          2016,
          2017,
          2018,
          2019,
          2020,
          2021,
          2022,
          2023
         ],
         "xaxis": "x6",
         "y": [
          0.5882352941176471,
          8.108108108108109,
          6.719367588932807,
          3.4482758620689653,
          9.48905109489051,
          5.894308943089431,
          6.488549618320611,
          4.273504273504273,
          12.213740458015266,
          6.151142355008787,
          3.5381750465549344,
          10.469314079422382,
          5.325443786982249,
          7.4324324324324325,
          7.945736434108527,
          5.809859154929577,
          12.5,
          6.138933764135703,
          11.377245508982035,
          11.702127659574469,
          11.11111111111111,
          8.960573476702509,
          12.442396313364055
         ],
         "yaxis": "y6"
        },
        {
         "line": {
          "color": "rgba(200,200,200,80)"
         },
         "mode": "lines",
         "name": "",
         "type": "scatter",
         "x": [
          2001,
          2002,
          2003,
          2004,
          2005,
          2006,
          2007,
          2008,
          2009,
          2010,
          2011,
          2012,
          2013,
          2014,
          2015,
          2016,
          2017,
          2018,
          2019,
          2020,
          2021,
          2022,
          2023
         ],
         "xaxis": "x6",
         "y": [
          25,
          24,
          26.08695652173913,
          15,
          29.411764705882355,
          23.809523809523807,
          30.555555555555557,
          15.625,
          11.538461538461538,
          26,
          29.411764705882355,
          37.83783783783784,
          27.77777777777778,
          26.666666666666668,
          19.35483870967742,
          23.684210526315788,
          25,
          26.666666666666668,
          28.205128205128204,
          28.57142857142857,
          17.24137931034483,
          32.142857142857146,
          40
         ],
         "yaxis": "y6"
        },
        {
         "line": {
          "color": "rgba(200,200,200,80)"
         },
         "mode": "lines",
         "name": "",
         "type": "scatter",
         "x": [
          2001,
          2002,
          2003,
          2004,
          2005,
          2006,
          2007,
          2008,
          2009,
          2010,
          2011,
          2012,
          2013,
          2014,
          2015,
          2016,
          2017,
          2018,
          2019,
          2020,
          2021,
          2022,
          2023
         ],
         "xaxis": "x6",
         "y": [
          0,
          1.639344262295082,
          0,
          7.446808510638298,
          0,
          0,
          1.1111111111111112,
          0,
          1.6666666666666667,
          2.054794520547945,
          1.5873015873015872,
          0.7462686567164178,
          2.8368794326241136,
          14.388489208633093,
          0,
          1.0256410256410255,
          3.0864197530864197,
          1.8181818181818181,
          2.824858757062147,
          3.3557046979865772,
          4.57516339869281,
          4.320987654320987,
          2.2222222222222223
         ],
         "yaxis": "y6"
        },
        {
         "line": {
          "color": "rgba(200,200,200,80)"
         },
         "mode": "lines",
         "name": "",
         "type": "scatter",
         "x": [
          2001,
          2002,
          2003,
          2004,
          2005,
          2006,
          2007,
          2008,
          2009,
          2010,
          2011,
          2012,
          2013,
          2014,
          2015,
          2016,
          2017,
          2018,
          2019,
          2020,
          2021,
          2022,
          2023
         ],
         "xaxis": "x6",
         "y": [
          3.4482758620689653,
          0,
          7.586206896551724,
          2.4691358024691357,
          5.384615384615385,
          1.3888888888888888,
          1.574803149606299,
          2.3529411764705883,
          7.065217391304348,
          2.7624309392265194,
          4.81283422459893,
          1.6574585635359116,
          1.9230769230769231,
          7.142857142857142,
          4.166666666666666,
          0,
          3.664921465968586,
          2.9268292682926833,
          5.202312138728324,
          6.081081081081082,
          2.1164021164021163,
          4.444444444444445,
          8.653846153846153
         ],
         "yaxis": "y6"
        },
        {
         "line": {
          "color": "rgba(200,200,200,80)"
         },
         "mode": "lines",
         "name": "",
         "type": "scatter",
         "x": [
          2001,
          2002,
          2003,
          2004,
          2005,
          2006,
          2007,
          2008,
          2009,
          2010,
          2011,
          2012,
          2013,
          2014,
          2015,
          2016,
          2017,
          2018,
          2019,
          2020,
          2021,
          2022,
          2023
         ],
         "xaxis": "x6",
         "y": [
          0,
          0,
          0,
          0,
          0,
          0,
          2.7027027027027026,
          2.127659574468085,
          2.564102564102564,
          2.2222222222222223,
          0,
          4.761904761904762,
          4.545454545454546,
          0,
          2.1739130434782608,
          2.4390243902439024,
          0,
          3.125,
          0,
          0,
          0,
          2.0408163265306123,
          0
         ],
         "yaxis": "y6"
        },
        {
         "line": {
          "color": "rgba(200,200,200,80)"
         },
         "mode": "lines",
         "name": "",
         "type": "scatter",
         "x": [
          2001,
          2002,
          2003,
          2004,
          2005,
          2006,
          2007,
          2008,
          2009,
          2010,
          2011,
          2012,
          2013,
          2014,
          2015,
          2016,
          2017,
          2018,
          2019,
          2020,
          2021,
          2022,
          2023
         ],
         "xaxis": "x6",
         "y": [
          3.571428571428571,
          4.10958904109589,
          2.73972602739726,
          7.377049180327869,
          1.9230769230769231,
          1.3071895424836601,
          5.0359712230215825,
          2.6881720430107525,
          5.327868852459016,
          4.291845493562231,
          1.3333333333333335,
          3.91304347826087,
          3.2388663967611335,
          1.951219512195122,
          2.6119402985074625,
          5.147058823529411,
          7.171314741035857,
          6.437768240343347,
          8.203125,
          4.910714285714286,
          9.803921568627452,
          10.50228310502283,
          13.612565445026178
         ],
         "yaxis": "y6"
        },
        {
         "line": {
          "color": "red"
         },
         "mode": "lines",
         "name": "",
         "type": "scatter",
         "x": [
          2001,
          2002,
          2003,
          2004,
          2005,
          2006,
          2007,
          2008,
          2009,
          2010,
          2011,
          2012,
          2013,
          2014,
          2015,
          2016,
          2017,
          2018,
          2019,
          2020,
          2021,
          2022,
          2023
         ],
         "xaxis": "x6",
         "y": [
          7.601184600197433,
          10.254163014899213,
          9.31899641577061,
          8.311518324607329,
          9.650259067357512,
          9.512893982808022,
          9.205867475973697,
          6.4500716674629714,
          10.21256931608133,
          8.185361628410567,
          8.379413015737985,
          11.15898319689789,
          8.82752376641014,
          8.702999577524292,
          9.347368421052632,
          9.67741935483871,
          11.011904761904761,
          8.860249697946033,
          10.437710437710438,
          10.715979137031768,
          11.10254433307633,
          12.056451612903226,
          13.452655889145495
         ],
         "yaxis": "y6"
        },
        {
         "line": {
          "color": "blue"
         },
         "mode": "lines",
         "name": "",
         "type": "scatter",
         "x": [
          2001,
          2002,
          2003,
          2004,
          2005,
          2006,
          2007,
          2008,
          2009,
          2010,
          2011,
          2012,
          2013,
          2014,
          2015,
          2016,
          2017,
          2018,
          2019,
          2020,
          2021,
          2022,
          2023
         ],
         "xaxis": "x6",
         "y": [
          8.75,
          7.317073170731707,
          7.59493670886076,
          5.681818181818182,
          17.24137931034483,
          8.60215053763441,
          4.62962962962963,
          3.7735849056603774,
          6.593406593406594,
          15.74074074074074,
          26.356589147286826,
          7.339449541284404,
          16.9811320754717,
          13.821138211382115,
          13.636363636363635,
          19.82758620689655,
          22.413793103448278,
          13.513513513513514,
          19.230769230769234,
          10.256410256410255,
          7.6190476190476195,
          6.224066390041494,
          6.748466257668712
         ],
         "yaxis": "y6"
        },
        {
         "line": {
          "color": "rgba(200,200,200,80)"
         },
         "mode": "lines",
         "name": "",
         "type": "scatter",
         "x": [
          2001,
          2002,
          2003,
          2004,
          2005,
          2006,
          2007,
          2008,
          2009,
          2010,
          2011,
          2012,
          2013,
          2014,
          2015,
          2016,
          2017,
          2018,
          2019,
          2020,
          2021,
          2022,
          2023
         ],
         "xaxis": "x7",
         "y": [
          1,
          4.678362573099415,
          3.1413612565445024,
          2.4271844660194173,
          2.515723270440252,
          7.647058823529412,
          4.184100418410042,
          1.968503937007874,
          5.084745762711865,
          1.107011070110701,
          2.3346303501945527,
          1.4184397163120568,
          6.405693950177936,
          1.9672131147540985,
          12.741312741312742,
          5.604719764011799,
          3.202846975088968,
          1.3377926421404682,
          3.0716723549488054,
          6.343283582089552,
          5.844155844155844,
          8.552631578947368,
          7.657657657657657
         ],
         "yaxis": "y7"
        },
        {
         "line": {
          "color": "rgba(200,200,200,80)"
         },
         "mode": "lines",
         "name": "",
         "type": "scatter",
         "x": [
          2001,
          2002,
          2003,
          2004,
          2005,
          2006,
          2007,
          2008,
          2009,
          2010,
          2011,
          2012,
          2013,
          2014,
          2015,
          2016,
          2017,
          2018,
          2019,
          2020,
          2021,
          2022,
          2023
         ],
         "xaxis": "x7",
         "y": [
          4.242424242424243,
          3.1847133757961785,
          8.5,
          6.091370558375635,
          3.125,
          5.41871921182266,
          15.087719298245613,
          6.287425149700598,
          5.389221556886228,
          5.523255813953488,
          6.2645011600928076,
          17.50663129973475,
          7.122507122507122,
          5.974025974025974,
          8.27250608272506,
          8.997429305912597,
          12.672176308539946,
          11.557788944723619,
          8.87728459530026,
          8.955223880597014,
          7.774798927613941,
          15.123456790123457,
          8.415841584158416
         ],
         "yaxis": "y7"
        },
        {
         "line": {
          "color": "rgba(200,200,200,80)"
         },
         "mode": "lines",
         "name": "",
         "type": "scatter",
         "x": [
          2001,
          2002,
          2003,
          2004,
          2005,
          2006,
          2007,
          2008,
          2009,
          2010,
          2011,
          2012,
          2013,
          2014,
          2015,
          2016,
          2017,
          2018,
          2019,
          2020,
          2021,
          2022,
          2023
         ],
         "xaxis": "x7",
         "y": [
          8.75,
          7.317073170731707,
          7.59493670886076,
          5.681818181818182,
          17.24137931034483,
          8.60215053763441,
          4.62962962962963,
          3.7735849056603774,
          6.593406593406594,
          15.74074074074074,
          26.356589147286826,
          7.339449541284404,
          16.9811320754717,
          13.821138211382115,
          13.636363636363635,
          19.82758620689655,
          22.413793103448278,
          13.513513513513514,
          19.230769230769234,
          10.256410256410255,
          7.6190476190476195,
          6.224066390041494,
          6.748466257668712
         ],
         "yaxis": "y7"
        },
        {
         "line": {
          "color": "rgba(200,200,200,80)"
         },
         "mode": "lines",
         "name": "",
         "type": "scatter",
         "x": [
          2001,
          2002,
          2003,
          2004,
          2005,
          2006,
          2007,
          2008,
          2009,
          2010,
          2011,
          2012,
          2013,
          2014,
          2015,
          2016,
          2017,
          2018,
          2019,
          2020,
          2021,
          2022,
          2023
         ],
         "xaxis": "x7",
         "y": [
          0.5882352941176471,
          8.108108108108109,
          6.719367588932807,
          3.4482758620689653,
          9.48905109489051,
          5.894308943089431,
          6.488549618320611,
          4.273504273504273,
          12.213740458015266,
          6.151142355008787,
          3.5381750465549344,
          10.469314079422382,
          5.325443786982249,
          7.4324324324324325,
          7.945736434108527,
          5.809859154929577,
          12.5,
          6.138933764135703,
          11.377245508982035,
          11.702127659574469,
          11.11111111111111,
          8.960573476702509,
          12.442396313364055
         ],
         "yaxis": "y7"
        },
        {
         "line": {
          "color": "rgba(200,200,200,80)"
         },
         "mode": "lines",
         "name": "",
         "type": "scatter",
         "x": [
          2001,
          2002,
          2003,
          2004,
          2005,
          2006,
          2007,
          2008,
          2009,
          2010,
          2011,
          2012,
          2013,
          2014,
          2015,
          2016,
          2017,
          2018,
          2019,
          2020,
          2021,
          2022,
          2023
         ],
         "xaxis": "x7",
         "y": [
          25,
          24,
          26.08695652173913,
          15,
          29.411764705882355,
          23.809523809523807,
          30.555555555555557,
          15.625,
          11.538461538461538,
          26,
          29.411764705882355,
          37.83783783783784,
          27.77777777777778,
          26.666666666666668,
          19.35483870967742,
          23.684210526315788,
          25,
          26.666666666666668,
          28.205128205128204,
          28.57142857142857,
          17.24137931034483,
          32.142857142857146,
          40
         ],
         "yaxis": "y7"
        },
        {
         "line": {
          "color": "rgba(200,200,200,80)"
         },
         "mode": "lines",
         "name": "",
         "type": "scatter",
         "x": [
          2001,
          2002,
          2003,
          2004,
          2005,
          2006,
          2007,
          2008,
          2009,
          2010,
          2011,
          2012,
          2013,
          2014,
          2015,
          2016,
          2017,
          2018,
          2019,
          2020,
          2021,
          2022,
          2023
         ],
         "xaxis": "x7",
         "y": [
          0,
          1.639344262295082,
          0,
          7.446808510638298,
          0,
          0,
          1.1111111111111112,
          0,
          1.6666666666666667,
          2.054794520547945,
          1.5873015873015872,
          0.7462686567164178,
          2.8368794326241136,
          14.388489208633093,
          0,
          1.0256410256410255,
          3.0864197530864197,
          1.8181818181818181,
          2.824858757062147,
          3.3557046979865772,
          4.57516339869281,
          4.320987654320987,
          2.2222222222222223
         ],
         "yaxis": "y7"
        },
        {
         "line": {
          "color": "rgba(200,200,200,80)"
         },
         "mode": "lines",
         "name": "",
         "type": "scatter",
         "x": [
          2001,
          2002,
          2003,
          2004,
          2005,
          2006,
          2007,
          2008,
          2009,
          2010,
          2011,
          2012,
          2013,
          2014,
          2015,
          2016,
          2017,
          2018,
          2019,
          2020,
          2021,
          2022,
          2023
         ],
         "xaxis": "x7",
         "y": [
          3.4482758620689653,
          0,
          7.586206896551724,
          2.4691358024691357,
          5.384615384615385,
          1.3888888888888888,
          1.574803149606299,
          2.3529411764705883,
          7.065217391304348,
          2.7624309392265194,
          4.81283422459893,
          1.6574585635359116,
          1.9230769230769231,
          7.142857142857142,
          4.166666666666666,
          0,
          3.664921465968586,
          2.9268292682926833,
          5.202312138728324,
          6.081081081081082,
          2.1164021164021163,
          4.444444444444445,
          8.653846153846153
         ],
         "yaxis": "y7"
        },
        {
         "line": {
          "color": "rgba(200,200,200,80)"
         },
         "mode": "lines",
         "name": "",
         "type": "scatter",
         "x": [
          2001,
          2002,
          2003,
          2004,
          2005,
          2006,
          2007,
          2008,
          2009,
          2010,
          2011,
          2012,
          2013,
          2014,
          2015,
          2016,
          2017,
          2018,
          2019,
          2020,
          2021,
          2022,
          2023
         ],
         "xaxis": "x7",
         "y": [
          0,
          0,
          0,
          0,
          0,
          0,
          2.7027027027027026,
          2.127659574468085,
          2.564102564102564,
          2.2222222222222223,
          0,
          4.761904761904762,
          4.545454545454546,
          0,
          2.1739130434782608,
          2.4390243902439024,
          0,
          3.125,
          0,
          0,
          0,
          2.0408163265306123,
          0
         ],
         "yaxis": "y7"
        },
        {
         "line": {
          "color": "rgba(200,200,200,80)"
         },
         "mode": "lines",
         "name": "",
         "type": "scatter",
         "x": [
          2001,
          2002,
          2003,
          2004,
          2005,
          2006,
          2007,
          2008,
          2009,
          2010,
          2011,
          2012,
          2013,
          2014,
          2015,
          2016,
          2017,
          2018,
          2019,
          2020,
          2021,
          2022,
          2023
         ],
         "xaxis": "x7",
         "y": [
          3.571428571428571,
          4.10958904109589,
          2.73972602739726,
          7.377049180327869,
          1.9230769230769231,
          1.3071895424836601,
          5.0359712230215825,
          2.6881720430107525,
          5.327868852459016,
          4.291845493562231,
          1.3333333333333335,
          3.91304347826087,
          3.2388663967611335,
          1.951219512195122,
          2.6119402985074625,
          5.147058823529411,
          7.171314741035857,
          6.437768240343347,
          8.203125,
          4.910714285714286,
          9.803921568627452,
          10.50228310502283,
          13.612565445026178
         ],
         "yaxis": "y7"
        },
        {
         "line": {
          "color": "red"
         },
         "mode": "lines",
         "name": "",
         "type": "scatter",
         "x": [
          2001,
          2002,
          2003,
          2004,
          2005,
          2006,
          2007,
          2008,
          2009,
          2010,
          2011,
          2012,
          2013,
          2014,
          2015,
          2016,
          2017,
          2018,
          2019,
          2020,
          2021,
          2022,
          2023
         ],
         "xaxis": "x7",
         "y": [
          7.601184600197433,
          10.254163014899213,
          9.31899641577061,
          8.311518324607329,
          9.650259067357512,
          9.512893982808022,
          9.205867475973697,
          6.4500716674629714,
          10.21256931608133,
          8.185361628410567,
          8.379413015737985,
          11.15898319689789,
          8.82752376641014,
          8.702999577524292,
          9.347368421052632,
          9.67741935483871,
          11.011904761904761,
          8.860249697946033,
          10.437710437710438,
          10.715979137031768,
          11.10254433307633,
          12.056451612903226,
          13.452655889145495
         ],
         "yaxis": "y7"
        },
        {
         "line": {
          "color": "blue"
         },
         "mode": "lines",
         "name": "",
         "type": "scatter",
         "x": [
          2001,
          2002,
          2003,
          2004,
          2005,
          2006,
          2007,
          2008,
          2009,
          2010,
          2011,
          2012,
          2013,
          2014,
          2015,
          2016,
          2017,
          2018,
          2019,
          2020,
          2021,
          2022,
          2023
         ],
         "xaxis": "x7",
         "y": [
          2.6143790849673203,
          11.351351351351353,
          1.7045454545454544,
          3.1914893617021276,
          4.232804232804233,
          10.695187165775401,
          3.7815126050420167,
          3.3962264150943398,
          5.415162454873646,
          1.4336917562724014,
          1.7482517482517483,
          6.779661016949152,
          5.405405405405405,
          2.527075812274368,
          4.72972972972973,
          3.041825095057034,
          1.6,
          3.205128205128205,
          4.491017964071856,
          9.180327868852459,
          4.923076923076923,
          8.359133126934983,
          10.2803738317757
         ],
         "yaxis": "y7"
        },
        {
         "line": {
          "color": "rgba(200,200,200,80)"
         },
         "mode": "lines",
         "name": "",
         "type": "scatter",
         "x": [
          2001,
          2002,
          2003,
          2004,
          2005,
          2006,
          2007,
          2008,
          2009,
          2010,
          2011,
          2012,
          2013,
          2014,
          2015,
          2016,
          2017,
          2018,
          2019,
          2020,
          2021,
          2022,
          2023
         ],
         "xaxis": "x8",
         "y": [
          1,
          4.678362573099415,
          3.1413612565445024,
          2.4271844660194173,
          2.515723270440252,
          7.647058823529412,
          4.184100418410042,
          1.968503937007874,
          5.084745762711865,
          1.107011070110701,
          2.3346303501945527,
          1.4184397163120568,
          6.405693950177936,
          1.9672131147540985,
          12.741312741312742,
          5.604719764011799,
          3.202846975088968,
          1.3377926421404682,
          3.0716723549488054,
          6.343283582089552,
          5.844155844155844,
          8.552631578947368,
          7.657657657657657
         ],
         "yaxis": "y8"
        },
        {
         "line": {
          "color": "rgba(200,200,200,80)"
         },
         "mode": "lines",
         "name": "",
         "type": "scatter",
         "x": [
          2001,
          2002,
          2003,
          2004,
          2005,
          2006,
          2007,
          2008,
          2009,
          2010,
          2011,
          2012,
          2013,
          2014,
          2015,
          2016,
          2017,
          2018,
          2019,
          2020,
          2021,
          2022,
          2023
         ],
         "xaxis": "x8",
         "y": [
          4.242424242424243,
          3.1847133757961785,
          8.5,
          6.091370558375635,
          3.125,
          5.41871921182266,
          15.087719298245613,
          6.287425149700598,
          5.389221556886228,
          5.523255813953488,
          6.2645011600928076,
          17.50663129973475,
          7.122507122507122,
          5.974025974025974,
          8.27250608272506,
          8.997429305912597,
          12.672176308539946,
          11.557788944723619,
          8.87728459530026,
          8.955223880597014,
          7.774798927613941,
          15.123456790123457,
          8.415841584158416
         ],
         "yaxis": "y8"
        },
        {
         "line": {
          "color": "rgba(200,200,200,80)"
         },
         "mode": "lines",
         "name": "",
         "type": "scatter",
         "x": [
          2001,
          2002,
          2003,
          2004,
          2005,
          2006,
          2007,
          2008,
          2009,
          2010,
          2011,
          2012,
          2013,
          2014,
          2015,
          2016,
          2017,
          2018,
          2019,
          2020,
          2021,
          2022,
          2023
         ],
         "xaxis": "x8",
         "y": [
          8.75,
          7.317073170731707,
          7.59493670886076,
          5.681818181818182,
          17.24137931034483,
          8.60215053763441,
          4.62962962962963,
          3.7735849056603774,
          6.593406593406594,
          15.74074074074074,
          26.356589147286826,
          7.339449541284404,
          16.9811320754717,
          13.821138211382115,
          13.636363636363635,
          19.82758620689655,
          22.413793103448278,
          13.513513513513514,
          19.230769230769234,
          10.256410256410255,
          7.6190476190476195,
          6.224066390041494,
          6.748466257668712
         ],
         "yaxis": "y8"
        },
        {
         "line": {
          "color": "rgba(200,200,200,80)"
         },
         "mode": "lines",
         "name": "",
         "type": "scatter",
         "x": [
          2001,
          2002,
          2003,
          2004,
          2005,
          2006,
          2007,
          2008,
          2009,
          2010,
          2011,
          2012,
          2013,
          2014,
          2015,
          2016,
          2017,
          2018,
          2019,
          2020,
          2021,
          2022,
          2023
         ],
         "xaxis": "x8",
         "y": [
          2.6143790849673203,
          11.351351351351353,
          1.7045454545454544,
          3.1914893617021276,
          4.232804232804233,
          10.695187165775401,
          3.7815126050420167,
          3.3962264150943398,
          5.415162454873646,
          1.4336917562724014,
          1.7482517482517483,
          6.779661016949152,
          5.405405405405405,
          2.527075812274368,
          4.72972972972973,
          3.041825095057034,
          1.6,
          3.205128205128205,
          4.491017964071856,
          9.180327868852459,
          4.923076923076923,
          8.359133126934983,
          10.2803738317757
         ],
         "yaxis": "y8"
        },
        {
         "line": {
          "color": "rgba(200,200,200,80)"
         },
         "mode": "lines",
         "name": "",
         "type": "scatter",
         "x": [
          2001,
          2002,
          2003,
          2004,
          2005,
          2006,
          2007,
          2008,
          2009,
          2010,
          2011,
          2012,
          2013,
          2014,
          2015,
          2016,
          2017,
          2018,
          2019,
          2020,
          2021,
          2022,
          2023
         ],
         "xaxis": "x8",
         "y": [
          0.5882352941176471,
          8.108108108108109,
          6.719367588932807,
          3.4482758620689653,
          9.48905109489051,
          5.894308943089431,
          6.488549618320611,
          4.273504273504273,
          12.213740458015266,
          6.151142355008787,
          3.5381750465549344,
          10.469314079422382,
          5.325443786982249,
          7.4324324324324325,
          7.945736434108527,
          5.809859154929577,
          12.5,
          6.138933764135703,
          11.377245508982035,
          11.702127659574469,
          11.11111111111111,
          8.960573476702509,
          12.442396313364055
         ],
         "yaxis": "y8"
        },
        {
         "line": {
          "color": "rgba(200,200,200,80)"
         },
         "mode": "lines",
         "name": "",
         "type": "scatter",
         "x": [
          2001,
          2002,
          2003,
          2004,
          2005,
          2006,
          2007,
          2008,
          2009,
          2010,
          2011,
          2012,
          2013,
          2014,
          2015,
          2016,
          2017,
          2018,
          2019,
          2020,
          2021,
          2022,
          2023
         ],
         "xaxis": "x8",
         "y": [
          0,
          1.639344262295082,
          0,
          7.446808510638298,
          0,
          0,
          1.1111111111111112,
          0,
          1.6666666666666667,
          2.054794520547945,
          1.5873015873015872,
          0.7462686567164178,
          2.8368794326241136,
          14.388489208633093,
          0,
          1.0256410256410255,
          3.0864197530864197,
          1.8181818181818181,
          2.824858757062147,
          3.3557046979865772,
          4.57516339869281,
          4.320987654320987,
          2.2222222222222223
         ],
         "yaxis": "y8"
        },
        {
         "line": {
          "color": "rgba(200,200,200,80)"
         },
         "mode": "lines",
         "name": "",
         "type": "scatter",
         "x": [
          2001,
          2002,
          2003,
          2004,
          2005,
          2006,
          2007,
          2008,
          2009,
          2010,
          2011,
          2012,
          2013,
          2014,
          2015,
          2016,
          2017,
          2018,
          2019,
          2020,
          2021,
          2022,
          2023
         ],
         "xaxis": "x8",
         "y": [
          3.4482758620689653,
          0,
          7.586206896551724,
          2.4691358024691357,
          5.384615384615385,
          1.3888888888888888,
          1.574803149606299,
          2.3529411764705883,
          7.065217391304348,
          2.7624309392265194,
          4.81283422459893,
          1.6574585635359116,
          1.9230769230769231,
          7.142857142857142,
          4.166666666666666,
          0,
          3.664921465968586,
          2.9268292682926833,
          5.202312138728324,
          6.081081081081082,
          2.1164021164021163,
          4.444444444444445,
          8.653846153846153
         ],
         "yaxis": "y8"
        },
        {
         "line": {
          "color": "rgba(200,200,200,80)"
         },
         "mode": "lines",
         "name": "",
         "type": "scatter",
         "x": [
          2001,
          2002,
          2003,
          2004,
          2005,
          2006,
          2007,
          2008,
          2009,
          2010,
          2011,
          2012,
          2013,
          2014,
          2015,
          2016,
          2017,
          2018,
          2019,
          2020,
          2021,
          2022,
          2023
         ],
         "xaxis": "x8",
         "y": [
          0,
          0,
          0,
          0,
          0,
          0,
          2.7027027027027026,
          2.127659574468085,
          2.564102564102564,
          2.2222222222222223,
          0,
          4.761904761904762,
          4.545454545454546,
          0,
          2.1739130434782608,
          2.4390243902439024,
          0,
          3.125,
          0,
          0,
          0,
          2.0408163265306123,
          0
         ],
         "yaxis": "y8"
        },
        {
         "line": {
          "color": "rgba(200,200,200,80)"
         },
         "mode": "lines",
         "name": "",
         "type": "scatter",
         "x": [
          2001,
          2002,
          2003,
          2004,
          2005,
          2006,
          2007,
          2008,
          2009,
          2010,
          2011,
          2012,
          2013,
          2014,
          2015,
          2016,
          2017,
          2018,
          2019,
          2020,
          2021,
          2022,
          2023
         ],
         "xaxis": "x8",
         "y": [
          3.571428571428571,
          4.10958904109589,
          2.73972602739726,
          7.377049180327869,
          1.9230769230769231,
          1.3071895424836601,
          5.0359712230215825,
          2.6881720430107525,
          5.327868852459016,
          4.291845493562231,
          1.3333333333333335,
          3.91304347826087,
          3.2388663967611335,
          1.951219512195122,
          2.6119402985074625,
          5.147058823529411,
          7.171314741035857,
          6.437768240343347,
          8.203125,
          4.910714285714286,
          9.803921568627452,
          10.50228310502283,
          13.612565445026178
         ],
         "yaxis": "y8"
        },
        {
         "line": {
          "color": "red"
         },
         "mode": "lines",
         "name": "",
         "type": "scatter",
         "x": [
          2001,
          2002,
          2003,
          2004,
          2005,
          2006,
          2007,
          2008,
          2009,
          2010,
          2011,
          2012,
          2013,
          2014,
          2015,
          2016,
          2017,
          2018,
          2019,
          2020,
          2021,
          2022,
          2023
         ],
         "xaxis": "x8",
         "y": [
          7.601184600197433,
          10.254163014899213,
          9.31899641577061,
          8.311518324607329,
          9.650259067357512,
          9.512893982808022,
          9.205867475973697,
          6.4500716674629714,
          10.21256931608133,
          8.185361628410567,
          8.379413015737985,
          11.15898319689789,
          8.82752376641014,
          8.702999577524292,
          9.347368421052632,
          9.67741935483871,
          11.011904761904761,
          8.860249697946033,
          10.437710437710438,
          10.715979137031768,
          11.10254433307633,
          12.056451612903226,
          13.452655889145495
         ],
         "yaxis": "y8"
        },
        {
         "line": {
          "color": "blue"
         },
         "mode": "lines",
         "name": "",
         "type": "scatter",
         "x": [
          2001,
          2002,
          2003,
          2004,
          2005,
          2006,
          2007,
          2008,
          2009,
          2010,
          2011,
          2012,
          2013,
          2014,
          2015,
          2016,
          2017,
          2018,
          2019,
          2020,
          2021,
          2022,
          2023
         ],
         "xaxis": "x8",
         "y": [
          25,
          24,
          26.08695652173913,
          15,
          29.411764705882355,
          23.809523809523807,
          30.555555555555557,
          15.625,
          11.538461538461538,
          26,
          29.411764705882355,
          37.83783783783784,
          27.77777777777778,
          26.666666666666668,
          19.35483870967742,
          23.684210526315788,
          25,
          26.666666666666668,
          28.205128205128204,
          28.57142857142857,
          17.24137931034483,
          32.142857142857146,
          40
         ],
         "yaxis": "y8"
        },
        {
         "line": {
          "color": "rgba(200,200,200,80)"
         },
         "mode": "lines",
         "name": "",
         "type": "scatter",
         "x": [
          2001,
          2002,
          2003,
          2004,
          2005,
          2006,
          2007,
          2008,
          2009,
          2010,
          2011,
          2012,
          2013,
          2014,
          2015,
          2016,
          2017,
          2018,
          2019,
          2020,
          2021,
          2022,
          2023
         ],
         "xaxis": "x9",
         "y": [
          1,
          4.678362573099415,
          3.1413612565445024,
          2.4271844660194173,
          2.515723270440252,
          7.647058823529412,
          4.184100418410042,
          1.968503937007874,
          5.084745762711865,
          1.107011070110701,
          2.3346303501945527,
          1.4184397163120568,
          6.405693950177936,
          1.9672131147540985,
          12.741312741312742,
          5.604719764011799,
          3.202846975088968,
          1.3377926421404682,
          3.0716723549488054,
          6.343283582089552,
          5.844155844155844,
          8.552631578947368,
          7.657657657657657
         ],
         "yaxis": "y9"
        },
        {
         "line": {
          "color": "rgba(200,200,200,80)"
         },
         "mode": "lines",
         "name": "",
         "type": "scatter",
         "x": [
          2001,
          2002,
          2003,
          2004,
          2005,
          2006,
          2007,
          2008,
          2009,
          2010,
          2011,
          2012,
          2013,
          2014,
          2015,
          2016,
          2017,
          2018,
          2019,
          2020,
          2021,
          2022,
          2023
         ],
         "xaxis": "x9",
         "y": [
          4.242424242424243,
          3.1847133757961785,
          8.5,
          6.091370558375635,
          3.125,
          5.41871921182266,
          15.087719298245613,
          6.287425149700598,
          5.389221556886228,
          5.523255813953488,
          6.2645011600928076,
          17.50663129973475,
          7.122507122507122,
          5.974025974025974,
          8.27250608272506,
          8.997429305912597,
          12.672176308539946,
          11.557788944723619,
          8.87728459530026,
          8.955223880597014,
          7.774798927613941,
          15.123456790123457,
          8.415841584158416
         ],
         "yaxis": "y9"
        },
        {
         "line": {
          "color": "rgba(200,200,200,80)"
         },
         "mode": "lines",
         "name": "",
         "type": "scatter",
         "x": [
          2001,
          2002,
          2003,
          2004,
          2005,
          2006,
          2007,
          2008,
          2009,
          2010,
          2011,
          2012,
          2013,
          2014,
          2015,
          2016,
          2017,
          2018,
          2019,
          2020,
          2021,
          2022,
          2023
         ],
         "xaxis": "x9",
         "y": [
          8.75,
          7.317073170731707,
          7.59493670886076,
          5.681818181818182,
          17.24137931034483,
          8.60215053763441,
          4.62962962962963,
          3.7735849056603774,
          6.593406593406594,
          15.74074074074074,
          26.356589147286826,
          7.339449541284404,
          16.9811320754717,
          13.821138211382115,
          13.636363636363635,
          19.82758620689655,
          22.413793103448278,
          13.513513513513514,
          19.230769230769234,
          10.256410256410255,
          7.6190476190476195,
          6.224066390041494,
          6.748466257668712
         ],
         "yaxis": "y9"
        },
        {
         "line": {
          "color": "rgba(200,200,200,80)"
         },
         "mode": "lines",
         "name": "",
         "type": "scatter",
         "x": [
          2001,
          2002,
          2003,
          2004,
          2005,
          2006,
          2007,
          2008,
          2009,
          2010,
          2011,
          2012,
          2013,
          2014,
          2015,
          2016,
          2017,
          2018,
          2019,
          2020,
          2021,
          2022,
          2023
         ],
         "xaxis": "x9",
         "y": [
          2.6143790849673203,
          11.351351351351353,
          1.7045454545454544,
          3.1914893617021276,
          4.232804232804233,
          10.695187165775401,
          3.7815126050420167,
          3.3962264150943398,
          5.415162454873646,
          1.4336917562724014,
          1.7482517482517483,
          6.779661016949152,
          5.405405405405405,
          2.527075812274368,
          4.72972972972973,
          3.041825095057034,
          1.6,
          3.205128205128205,
          4.491017964071856,
          9.180327868852459,
          4.923076923076923,
          8.359133126934983,
          10.2803738317757
         ],
         "yaxis": "y9"
        },
        {
         "line": {
          "color": "rgba(200,200,200,80)"
         },
         "mode": "lines",
         "name": "",
         "type": "scatter",
         "x": [
          2001,
          2002,
          2003,
          2004,
          2005,
          2006,
          2007,
          2008,
          2009,
          2010,
          2011,
          2012,
          2013,
          2014,
          2015,
          2016,
          2017,
          2018,
          2019,
          2020,
          2021,
          2022,
          2023
         ],
         "xaxis": "x9",
         "y": [
          0.5882352941176471,
          8.108108108108109,
          6.719367588932807,
          3.4482758620689653,
          9.48905109489051,
          5.894308943089431,
          6.488549618320611,
          4.273504273504273,
          12.213740458015266,
          6.151142355008787,
          3.5381750465549344,
          10.469314079422382,
          5.325443786982249,
          7.4324324324324325,
          7.945736434108527,
          5.809859154929577,
          12.5,
          6.138933764135703,
          11.377245508982035,
          11.702127659574469,
          11.11111111111111,
          8.960573476702509,
          12.442396313364055
         ],
         "yaxis": "y9"
        },
        {
         "line": {
          "color": "rgba(200,200,200,80)"
         },
         "mode": "lines",
         "name": "",
         "type": "scatter",
         "x": [
          2001,
          2002,
          2003,
          2004,
          2005,
          2006,
          2007,
          2008,
          2009,
          2010,
          2011,
          2012,
          2013,
          2014,
          2015,
          2016,
          2017,
          2018,
          2019,
          2020,
          2021,
          2022,
          2023
         ],
         "xaxis": "x9",
         "y": [
          25,
          24,
          26.08695652173913,
          15,
          29.411764705882355,
          23.809523809523807,
          30.555555555555557,
          15.625,
          11.538461538461538,
          26,
          29.411764705882355,
          37.83783783783784,
          27.77777777777778,
          26.666666666666668,
          19.35483870967742,
          23.684210526315788,
          25,
          26.666666666666668,
          28.205128205128204,
          28.57142857142857,
          17.24137931034483,
          32.142857142857146,
          40
         ],
         "yaxis": "y9"
        },
        {
         "line": {
          "color": "rgba(200,200,200,80)"
         },
         "mode": "lines",
         "name": "",
         "type": "scatter",
         "x": [
          2001,
          2002,
          2003,
          2004,
          2005,
          2006,
          2007,
          2008,
          2009,
          2010,
          2011,
          2012,
          2013,
          2014,
          2015,
          2016,
          2017,
          2018,
          2019,
          2020,
          2021,
          2022,
          2023
         ],
         "xaxis": "x9",
         "y": [
          3.4482758620689653,
          0,
          7.586206896551724,
          2.4691358024691357,
          5.384615384615385,
          1.3888888888888888,
          1.574803149606299,
          2.3529411764705883,
          7.065217391304348,
          2.7624309392265194,
          4.81283422459893,
          1.6574585635359116,
          1.9230769230769231,
          7.142857142857142,
          4.166666666666666,
          0,
          3.664921465968586,
          2.9268292682926833,
          5.202312138728324,
          6.081081081081082,
          2.1164021164021163,
          4.444444444444445,
          8.653846153846153
         ],
         "yaxis": "y9"
        },
        {
         "line": {
          "color": "rgba(200,200,200,80)"
         },
         "mode": "lines",
         "name": "",
         "type": "scatter",
         "x": [
          2001,
          2002,
          2003,
          2004,
          2005,
          2006,
          2007,
          2008,
          2009,
          2010,
          2011,
          2012,
          2013,
          2014,
          2015,
          2016,
          2017,
          2018,
          2019,
          2020,
          2021,
          2022,
          2023
         ],
         "xaxis": "x9",
         "y": [
          0,
          0,
          0,
          0,
          0,
          0,
          2.7027027027027026,
          2.127659574468085,
          2.564102564102564,
          2.2222222222222223,
          0,
          4.761904761904762,
          4.545454545454546,
          0,
          2.1739130434782608,
          2.4390243902439024,
          0,
          3.125,
          0,
          0,
          0,
          2.0408163265306123,
          0
         ],
         "yaxis": "y9"
        },
        {
         "line": {
          "color": "rgba(200,200,200,80)"
         },
         "mode": "lines",
         "name": "",
         "type": "scatter",
         "x": [
          2001,
          2002,
          2003,
          2004,
          2005,
          2006,
          2007,
          2008,
          2009,
          2010,
          2011,
          2012,
          2013,
          2014,
          2015,
          2016,
          2017,
          2018,
          2019,
          2020,
          2021,
          2022,
          2023
         ],
         "xaxis": "x9",
         "y": [
          3.571428571428571,
          4.10958904109589,
          2.73972602739726,
          7.377049180327869,
          1.9230769230769231,
          1.3071895424836601,
          5.0359712230215825,
          2.6881720430107525,
          5.327868852459016,
          4.291845493562231,
          1.3333333333333335,
          3.91304347826087,
          3.2388663967611335,
          1.951219512195122,
          2.6119402985074625,
          5.147058823529411,
          7.171314741035857,
          6.437768240343347,
          8.203125,
          4.910714285714286,
          9.803921568627452,
          10.50228310502283,
          13.612565445026178
         ],
         "yaxis": "y9"
        },
        {
         "line": {
          "color": "red"
         },
         "mode": "lines",
         "name": "",
         "type": "scatter",
         "x": [
          2001,
          2002,
          2003,
          2004,
          2005,
          2006,
          2007,
          2008,
          2009,
          2010,
          2011,
          2012,
          2013,
          2014,
          2015,
          2016,
          2017,
          2018,
          2019,
          2020,
          2021,
          2022,
          2023
         ],
         "xaxis": "x9",
         "y": [
          7.601184600197433,
          10.254163014899213,
          9.31899641577061,
          8.311518324607329,
          9.650259067357512,
          9.512893982808022,
          9.205867475973697,
          6.4500716674629714,
          10.21256931608133,
          8.185361628410567,
          8.379413015737985,
          11.15898319689789,
          8.82752376641014,
          8.702999577524292,
          9.347368421052632,
          9.67741935483871,
          11.011904761904761,
          8.860249697946033,
          10.437710437710438,
          10.715979137031768,
          11.10254433307633,
          12.056451612903226,
          13.452655889145495
         ],
         "yaxis": "y9"
        },
        {
         "line": {
          "color": "blue"
         },
         "mode": "lines",
         "name": "",
         "type": "scatter",
         "x": [
          2001,
          2002,
          2003,
          2004,
          2005,
          2006,
          2007,
          2008,
          2009,
          2010,
          2011,
          2012,
          2013,
          2014,
          2015,
          2016,
          2017,
          2018,
          2019,
          2020,
          2021,
          2022,
          2023
         ],
         "xaxis": "x9",
         "y": [
          0,
          1.639344262295082,
          0,
          7.446808510638298,
          0,
          0,
          1.1111111111111112,
          0,
          1.6666666666666667,
          2.054794520547945,
          1.5873015873015872,
          0.7462686567164178,
          2.8368794326241136,
          14.388489208633093,
          0,
          1.0256410256410255,
          3.0864197530864197,
          1.8181818181818181,
          2.824858757062147,
          3.3557046979865772,
          4.57516339869281,
          4.320987654320987,
          2.2222222222222223
         ],
         "yaxis": "y9"
        },
        {
         "line": {
          "color": "rgba(200,200,200,80)"
         },
         "mode": "lines",
         "name": "",
         "type": "scatter",
         "x": [
          2001,
          2002,
          2003,
          2004,
          2005,
          2006,
          2007,
          2008,
          2009,
          2010,
          2011,
          2012,
          2013,
          2014,
          2015,
          2016,
          2017,
          2018,
          2019,
          2020,
          2021,
          2022,
          2023
         ],
         "xaxis": "x10",
         "y": [
          1,
          4.678362573099415,
          3.1413612565445024,
          2.4271844660194173,
          2.515723270440252,
          7.647058823529412,
          4.184100418410042,
          1.968503937007874,
          5.084745762711865,
          1.107011070110701,
          2.3346303501945527,
          1.4184397163120568,
          6.405693950177936,
          1.9672131147540985,
          12.741312741312742,
          5.604719764011799,
          3.202846975088968,
          1.3377926421404682,
          3.0716723549488054,
          6.343283582089552,
          5.844155844155844,
          8.552631578947368,
          7.657657657657657
         ],
         "yaxis": "y10"
        },
        {
         "line": {
          "color": "rgba(200,200,200,80)"
         },
         "mode": "lines",
         "name": "",
         "type": "scatter",
         "x": [
          2001,
          2002,
          2003,
          2004,
          2005,
          2006,
          2007,
          2008,
          2009,
          2010,
          2011,
          2012,
          2013,
          2014,
          2015,
          2016,
          2017,
          2018,
          2019,
          2020,
          2021,
          2022,
          2023
         ],
         "xaxis": "x10",
         "y": [
          4.242424242424243,
          3.1847133757961785,
          8.5,
          6.091370558375635,
          3.125,
          5.41871921182266,
          15.087719298245613,
          6.287425149700598,
          5.389221556886228,
          5.523255813953488,
          6.2645011600928076,
          17.50663129973475,
          7.122507122507122,
          5.974025974025974,
          8.27250608272506,
          8.997429305912597,
          12.672176308539946,
          11.557788944723619,
          8.87728459530026,
          8.955223880597014,
          7.774798927613941,
          15.123456790123457,
          8.415841584158416
         ],
         "yaxis": "y10"
        },
        {
         "line": {
          "color": "rgba(200,200,200,80)"
         },
         "mode": "lines",
         "name": "",
         "type": "scatter",
         "x": [
          2001,
          2002,
          2003,
          2004,
          2005,
          2006,
          2007,
          2008,
          2009,
          2010,
          2011,
          2012,
          2013,
          2014,
          2015,
          2016,
          2017,
          2018,
          2019,
          2020,
          2021,
          2022,
          2023
         ],
         "xaxis": "x10",
         "y": [
          8.75,
          7.317073170731707,
          7.59493670886076,
          5.681818181818182,
          17.24137931034483,
          8.60215053763441,
          4.62962962962963,
          3.7735849056603774,
          6.593406593406594,
          15.74074074074074,
          26.356589147286826,
          7.339449541284404,
          16.9811320754717,
          13.821138211382115,
          13.636363636363635,
          19.82758620689655,
          22.413793103448278,
          13.513513513513514,
          19.230769230769234,
          10.256410256410255,
          7.6190476190476195,
          6.224066390041494,
          6.748466257668712
         ],
         "yaxis": "y10"
        },
        {
         "line": {
          "color": "rgba(200,200,200,80)"
         },
         "mode": "lines",
         "name": "",
         "type": "scatter",
         "x": [
          2001,
          2002,
          2003,
          2004,
          2005,
          2006,
          2007,
          2008,
          2009,
          2010,
          2011,
          2012,
          2013,
          2014,
          2015,
          2016,
          2017,
          2018,
          2019,
          2020,
          2021,
          2022,
          2023
         ],
         "xaxis": "x10",
         "y": [
          2.6143790849673203,
          11.351351351351353,
          1.7045454545454544,
          3.1914893617021276,
          4.232804232804233,
          10.695187165775401,
          3.7815126050420167,
          3.3962264150943398,
          5.415162454873646,
          1.4336917562724014,
          1.7482517482517483,
          6.779661016949152,
          5.405405405405405,
          2.527075812274368,
          4.72972972972973,
          3.041825095057034,
          1.6,
          3.205128205128205,
          4.491017964071856,
          9.180327868852459,
          4.923076923076923,
          8.359133126934983,
          10.2803738317757
         ],
         "yaxis": "y10"
        },
        {
         "line": {
          "color": "rgba(200,200,200,80)"
         },
         "mode": "lines",
         "name": "",
         "type": "scatter",
         "x": [
          2001,
          2002,
          2003,
          2004,
          2005,
          2006,
          2007,
          2008,
          2009,
          2010,
          2011,
          2012,
          2013,
          2014,
          2015,
          2016,
          2017,
          2018,
          2019,
          2020,
          2021,
          2022,
          2023
         ],
         "xaxis": "x10",
         "y": [
          0.5882352941176471,
          8.108108108108109,
          6.719367588932807,
          3.4482758620689653,
          9.48905109489051,
          5.894308943089431,
          6.488549618320611,
          4.273504273504273,
          12.213740458015266,
          6.151142355008787,
          3.5381750465549344,
          10.469314079422382,
          5.325443786982249,
          7.4324324324324325,
          7.945736434108527,
          5.809859154929577,
          12.5,
          6.138933764135703,
          11.377245508982035,
          11.702127659574469,
          11.11111111111111,
          8.960573476702509,
          12.442396313364055
         ],
         "yaxis": "y10"
        },
        {
         "line": {
          "color": "rgba(200,200,200,80)"
         },
         "mode": "lines",
         "name": "",
         "type": "scatter",
         "x": [
          2001,
          2002,
          2003,
          2004,
          2005,
          2006,
          2007,
          2008,
          2009,
          2010,
          2011,
          2012,
          2013,
          2014,
          2015,
          2016,
          2017,
          2018,
          2019,
          2020,
          2021,
          2022,
          2023
         ],
         "xaxis": "x10",
         "y": [
          25,
          24,
          26.08695652173913,
          15,
          29.411764705882355,
          23.809523809523807,
          30.555555555555557,
          15.625,
          11.538461538461538,
          26,
          29.411764705882355,
          37.83783783783784,
          27.77777777777778,
          26.666666666666668,
          19.35483870967742,
          23.684210526315788,
          25,
          26.666666666666668,
          28.205128205128204,
          28.57142857142857,
          17.24137931034483,
          32.142857142857146,
          40
         ],
         "yaxis": "y10"
        },
        {
         "line": {
          "color": "rgba(200,200,200,80)"
         },
         "mode": "lines",
         "name": "",
         "type": "scatter",
         "x": [
          2001,
          2002,
          2003,
          2004,
          2005,
          2006,
          2007,
          2008,
          2009,
          2010,
          2011,
          2012,
          2013,
          2014,
          2015,
          2016,
          2017,
          2018,
          2019,
          2020,
          2021,
          2022,
          2023
         ],
         "xaxis": "x10",
         "y": [
          0,
          1.639344262295082,
          0,
          7.446808510638298,
          0,
          0,
          1.1111111111111112,
          0,
          1.6666666666666667,
          2.054794520547945,
          1.5873015873015872,
          0.7462686567164178,
          2.8368794326241136,
          14.388489208633093,
          0,
          1.0256410256410255,
          3.0864197530864197,
          1.8181818181818181,
          2.824858757062147,
          3.3557046979865772,
          4.57516339869281,
          4.320987654320987,
          2.2222222222222223
         ],
         "yaxis": "y10"
        },
        {
         "line": {
          "color": "rgba(200,200,200,80)"
         },
         "mode": "lines",
         "name": "",
         "type": "scatter",
         "x": [
          2001,
          2002,
          2003,
          2004,
          2005,
          2006,
          2007,
          2008,
          2009,
          2010,
          2011,
          2012,
          2013,
          2014,
          2015,
          2016,
          2017,
          2018,
          2019,
          2020,
          2021,
          2022,
          2023
         ],
         "xaxis": "x10",
         "y": [
          0,
          0,
          0,
          0,
          0,
          0,
          2.7027027027027026,
          2.127659574468085,
          2.564102564102564,
          2.2222222222222223,
          0,
          4.761904761904762,
          4.545454545454546,
          0,
          2.1739130434782608,
          2.4390243902439024,
          0,
          3.125,
          0,
          0,
          0,
          2.0408163265306123,
          0
         ],
         "yaxis": "y10"
        },
        {
         "line": {
          "color": "rgba(200,200,200,80)"
         },
         "mode": "lines",
         "name": "",
         "type": "scatter",
         "x": [
          2001,
          2002,
          2003,
          2004,
          2005,
          2006,
          2007,
          2008,
          2009,
          2010,
          2011,
          2012,
          2013,
          2014,
          2015,
          2016,
          2017,
          2018,
          2019,
          2020,
          2021,
          2022,
          2023
         ],
         "xaxis": "x10",
         "y": [
          3.571428571428571,
          4.10958904109589,
          2.73972602739726,
          7.377049180327869,
          1.9230769230769231,
          1.3071895424836601,
          5.0359712230215825,
          2.6881720430107525,
          5.327868852459016,
          4.291845493562231,
          1.3333333333333335,
          3.91304347826087,
          3.2388663967611335,
          1.951219512195122,
          2.6119402985074625,
          5.147058823529411,
          7.171314741035857,
          6.437768240343347,
          8.203125,
          4.910714285714286,
          9.803921568627452,
          10.50228310502283,
          13.612565445026178
         ],
         "yaxis": "y10"
        },
        {
         "line": {
          "color": "red"
         },
         "mode": "lines",
         "name": "",
         "type": "scatter",
         "x": [
          2001,
          2002,
          2003,
          2004,
          2005,
          2006,
          2007,
          2008,
          2009,
          2010,
          2011,
          2012,
          2013,
          2014,
          2015,
          2016,
          2017,
          2018,
          2019,
          2020,
          2021,
          2022,
          2023
         ],
         "xaxis": "x10",
         "y": [
          7.601184600197433,
          10.254163014899213,
          9.31899641577061,
          8.311518324607329,
          9.650259067357512,
          9.512893982808022,
          9.205867475973697,
          6.4500716674629714,
          10.21256931608133,
          8.185361628410567,
          8.379413015737985,
          11.15898319689789,
          8.82752376641014,
          8.702999577524292,
          9.347368421052632,
          9.67741935483871,
          11.011904761904761,
          8.860249697946033,
          10.437710437710438,
          10.715979137031768,
          11.10254433307633,
          12.056451612903226,
          13.452655889145495
         ],
         "yaxis": "y10"
        },
        {
         "line": {
          "color": "blue"
         },
         "mode": "lines",
         "name": "",
         "type": "scatter",
         "x": [
          2001,
          2002,
          2003,
          2004,
          2005,
          2006,
          2007,
          2008,
          2009,
          2010,
          2011,
          2012,
          2013,
          2014,
          2015,
          2016,
          2017,
          2018,
          2019,
          2020,
          2021,
          2022,
          2023
         ],
         "xaxis": "x10",
         "y": [
          3.4482758620689653,
          0,
          7.586206896551724,
          2.4691358024691357,
          5.384615384615385,
          1.3888888888888888,
          1.574803149606299,
          2.3529411764705883,
          7.065217391304348,
          2.7624309392265194,
          4.81283422459893,
          1.6574585635359116,
          1.9230769230769231,
          7.142857142857142,
          4.166666666666666,
          0,
          3.664921465968586,
          2.9268292682926833,
          5.202312138728324,
          6.081081081081082,
          2.1164021164021163,
          4.444444444444445,
          8.653846153846153
         ],
         "yaxis": "y10"
        },
        {
         "line": {
          "color": "rgba(200,200,200,80)"
         },
         "mode": "lines",
         "name": "",
         "type": "scatter",
         "x": [
          2001,
          2002,
          2003,
          2004,
          2005,
          2006,
          2007,
          2008,
          2009,
          2010,
          2011,
          2012,
          2013,
          2014,
          2015,
          2016,
          2017,
          2018,
          2019,
          2020,
          2021,
          2022,
          2023
         ],
         "xaxis": "x11",
         "y": [
          1,
          4.678362573099415,
          3.1413612565445024,
          2.4271844660194173,
          2.515723270440252,
          7.647058823529412,
          4.184100418410042,
          1.968503937007874,
          5.084745762711865,
          1.107011070110701,
          2.3346303501945527,
          1.4184397163120568,
          6.405693950177936,
          1.9672131147540985,
          12.741312741312742,
          5.604719764011799,
          3.202846975088968,
          1.3377926421404682,
          3.0716723549488054,
          6.343283582089552,
          5.844155844155844,
          8.552631578947368,
          7.657657657657657
         ],
         "yaxis": "y11"
        },
        {
         "line": {
          "color": "rgba(200,200,200,80)"
         },
         "mode": "lines",
         "name": "",
         "type": "scatter",
         "x": [
          2001,
          2002,
          2003,
          2004,
          2005,
          2006,
          2007,
          2008,
          2009,
          2010,
          2011,
          2012,
          2013,
          2014,
          2015,
          2016,
          2017,
          2018,
          2019,
          2020,
          2021,
          2022,
          2023
         ],
         "xaxis": "x11",
         "y": [
          4.242424242424243,
          3.1847133757961785,
          8.5,
          6.091370558375635,
          3.125,
          5.41871921182266,
          15.087719298245613,
          6.287425149700598,
          5.389221556886228,
          5.523255813953488,
          6.2645011600928076,
          17.50663129973475,
          7.122507122507122,
          5.974025974025974,
          8.27250608272506,
          8.997429305912597,
          12.672176308539946,
          11.557788944723619,
          8.87728459530026,
          8.955223880597014,
          7.774798927613941,
          15.123456790123457,
          8.415841584158416
         ],
         "yaxis": "y11"
        },
        {
         "line": {
          "color": "rgba(200,200,200,80)"
         },
         "mode": "lines",
         "name": "",
         "type": "scatter",
         "x": [
          2001,
          2002,
          2003,
          2004,
          2005,
          2006,
          2007,
          2008,
          2009,
          2010,
          2011,
          2012,
          2013,
          2014,
          2015,
          2016,
          2017,
          2018,
          2019,
          2020,
          2021,
          2022,
          2023
         ],
         "xaxis": "x11",
         "y": [
          8.75,
          7.317073170731707,
          7.59493670886076,
          5.681818181818182,
          17.24137931034483,
          8.60215053763441,
          4.62962962962963,
          3.7735849056603774,
          6.593406593406594,
          15.74074074074074,
          26.356589147286826,
          7.339449541284404,
          16.9811320754717,
          13.821138211382115,
          13.636363636363635,
          19.82758620689655,
          22.413793103448278,
          13.513513513513514,
          19.230769230769234,
          10.256410256410255,
          7.6190476190476195,
          6.224066390041494,
          6.748466257668712
         ],
         "yaxis": "y11"
        },
        {
         "line": {
          "color": "rgba(200,200,200,80)"
         },
         "mode": "lines",
         "name": "",
         "type": "scatter",
         "x": [
          2001,
          2002,
          2003,
          2004,
          2005,
          2006,
          2007,
          2008,
          2009,
          2010,
          2011,
          2012,
          2013,
          2014,
          2015,
          2016,
          2017,
          2018,
          2019,
          2020,
          2021,
          2022,
          2023
         ],
         "xaxis": "x11",
         "y": [
          2.6143790849673203,
          11.351351351351353,
          1.7045454545454544,
          3.1914893617021276,
          4.232804232804233,
          10.695187165775401,
          3.7815126050420167,
          3.3962264150943398,
          5.415162454873646,
          1.4336917562724014,
          1.7482517482517483,
          6.779661016949152,
          5.405405405405405,
          2.527075812274368,
          4.72972972972973,
          3.041825095057034,
          1.6,
          3.205128205128205,
          4.491017964071856,
          9.180327868852459,
          4.923076923076923,
          8.359133126934983,
          10.2803738317757
         ],
         "yaxis": "y11"
        },
        {
         "line": {
          "color": "rgba(200,200,200,80)"
         },
         "mode": "lines",
         "name": "",
         "type": "scatter",
         "x": [
          2001,
          2002,
          2003,
          2004,
          2005,
          2006,
          2007,
          2008,
          2009,
          2010,
          2011,
          2012,
          2013,
          2014,
          2015,
          2016,
          2017,
          2018,
          2019,
          2020,
          2021,
          2022,
          2023
         ],
         "xaxis": "x11",
         "y": [
          0.5882352941176471,
          8.108108108108109,
          6.719367588932807,
          3.4482758620689653,
          9.48905109489051,
          5.894308943089431,
          6.488549618320611,
          4.273504273504273,
          12.213740458015266,
          6.151142355008787,
          3.5381750465549344,
          10.469314079422382,
          5.325443786982249,
          7.4324324324324325,
          7.945736434108527,
          5.809859154929577,
          12.5,
          6.138933764135703,
          11.377245508982035,
          11.702127659574469,
          11.11111111111111,
          8.960573476702509,
          12.442396313364055
         ],
         "yaxis": "y11"
        },
        {
         "line": {
          "color": "rgba(200,200,200,80)"
         },
         "mode": "lines",
         "name": "",
         "type": "scatter",
         "x": [
          2001,
          2002,
          2003,
          2004,
          2005,
          2006,
          2007,
          2008,
          2009,
          2010,
          2011,
          2012,
          2013,
          2014,
          2015,
          2016,
          2017,
          2018,
          2019,
          2020,
          2021,
          2022,
          2023
         ],
         "xaxis": "x11",
         "y": [
          25,
          24,
          26.08695652173913,
          15,
          29.411764705882355,
          23.809523809523807,
          30.555555555555557,
          15.625,
          11.538461538461538,
          26,
          29.411764705882355,
          37.83783783783784,
          27.77777777777778,
          26.666666666666668,
          19.35483870967742,
          23.684210526315788,
          25,
          26.666666666666668,
          28.205128205128204,
          28.57142857142857,
          17.24137931034483,
          32.142857142857146,
          40
         ],
         "yaxis": "y11"
        },
        {
         "line": {
          "color": "rgba(200,200,200,80)"
         },
         "mode": "lines",
         "name": "",
         "type": "scatter",
         "x": [
          2001,
          2002,
          2003,
          2004,
          2005,
          2006,
          2007,
          2008,
          2009,
          2010,
          2011,
          2012,
          2013,
          2014,
          2015,
          2016,
          2017,
          2018,
          2019,
          2020,
          2021,
          2022,
          2023
         ],
         "xaxis": "x11",
         "y": [
          0,
          1.639344262295082,
          0,
          7.446808510638298,
          0,
          0,
          1.1111111111111112,
          0,
          1.6666666666666667,
          2.054794520547945,
          1.5873015873015872,
          0.7462686567164178,
          2.8368794326241136,
          14.388489208633093,
          0,
          1.0256410256410255,
          3.0864197530864197,
          1.8181818181818181,
          2.824858757062147,
          3.3557046979865772,
          4.57516339869281,
          4.320987654320987,
          2.2222222222222223
         ],
         "yaxis": "y11"
        },
        {
         "line": {
          "color": "rgba(200,200,200,80)"
         },
         "mode": "lines",
         "name": "",
         "type": "scatter",
         "x": [
          2001,
          2002,
          2003,
          2004,
          2005,
          2006,
          2007,
          2008,
          2009,
          2010,
          2011,
          2012,
          2013,
          2014,
          2015,
          2016,
          2017,
          2018,
          2019,
          2020,
          2021,
          2022,
          2023
         ],
         "xaxis": "x11",
         "y": [
          3.4482758620689653,
          0,
          7.586206896551724,
          2.4691358024691357,
          5.384615384615385,
          1.3888888888888888,
          1.574803149606299,
          2.3529411764705883,
          7.065217391304348,
          2.7624309392265194,
          4.81283422459893,
          1.6574585635359116,
          1.9230769230769231,
          7.142857142857142,
          4.166666666666666,
          0,
          3.664921465968586,
          2.9268292682926833,
          5.202312138728324,
          6.081081081081082,
          2.1164021164021163,
          4.444444444444445,
          8.653846153846153
         ],
         "yaxis": "y11"
        },
        {
         "line": {
          "color": "rgba(200,200,200,80)"
         },
         "mode": "lines",
         "name": "",
         "type": "scatter",
         "x": [
          2001,
          2002,
          2003,
          2004,
          2005,
          2006,
          2007,
          2008,
          2009,
          2010,
          2011,
          2012,
          2013,
          2014,
          2015,
          2016,
          2017,
          2018,
          2019,
          2020,
          2021,
          2022,
          2023
         ],
         "xaxis": "x11",
         "y": [
          3.571428571428571,
          4.10958904109589,
          2.73972602739726,
          7.377049180327869,
          1.9230769230769231,
          1.3071895424836601,
          5.0359712230215825,
          2.6881720430107525,
          5.327868852459016,
          4.291845493562231,
          1.3333333333333335,
          3.91304347826087,
          3.2388663967611335,
          1.951219512195122,
          2.6119402985074625,
          5.147058823529411,
          7.171314741035857,
          6.437768240343347,
          8.203125,
          4.910714285714286,
          9.803921568627452,
          10.50228310502283,
          13.612565445026178
         ],
         "yaxis": "y11"
        },
        {
         "line": {
          "color": "red"
         },
         "mode": "lines",
         "name": "",
         "type": "scatter",
         "x": [
          2001,
          2002,
          2003,
          2004,
          2005,
          2006,
          2007,
          2008,
          2009,
          2010,
          2011,
          2012,
          2013,
          2014,
          2015,
          2016,
          2017,
          2018,
          2019,
          2020,
          2021,
          2022,
          2023
         ],
         "xaxis": "x11",
         "y": [
          7.601184600197433,
          10.254163014899213,
          9.31899641577061,
          8.311518324607329,
          9.650259067357512,
          9.512893982808022,
          9.205867475973697,
          6.4500716674629714,
          10.21256931608133,
          8.185361628410567,
          8.379413015737985,
          11.15898319689789,
          8.82752376641014,
          8.702999577524292,
          9.347368421052632,
          9.67741935483871,
          11.011904761904761,
          8.860249697946033,
          10.437710437710438,
          10.715979137031768,
          11.10254433307633,
          12.056451612903226,
          13.452655889145495
         ],
         "yaxis": "y11"
        },
        {
         "line": {
          "color": "blue"
         },
         "mode": "lines",
         "name": "",
         "type": "scatter",
         "x": [
          2001,
          2002,
          2003,
          2004,
          2005,
          2006,
          2007,
          2008,
          2009,
          2010,
          2011,
          2012,
          2013,
          2014,
          2015,
          2016,
          2017,
          2018,
          2019,
          2020,
          2021,
          2022,
          2023
         ],
         "xaxis": "x11",
         "y": [
          0,
          0,
          0,
          0,
          0,
          0,
          2.7027027027027026,
          2.127659574468085,
          2.564102564102564,
          2.2222222222222223,
          0,
          4.761904761904762,
          4.545454545454546,
          0,
          2.1739130434782608,
          2.4390243902439024,
          0,
          3.125,
          0,
          0,
          0,
          2.0408163265306123,
          0
         ],
         "yaxis": "y11"
        },
        {
         "line": {
          "color": "rgba(200,200,200,80)"
         },
         "mode": "lines",
         "name": "",
         "type": "scatter",
         "x": [
          2001,
          2002,
          2003,
          2004,
          2005,
          2006,
          2007,
          2008,
          2009,
          2010,
          2011,
          2012,
          2013,
          2014,
          2015,
          2016,
          2017,
          2018,
          2019,
          2020,
          2021,
          2022,
          2023
         ],
         "xaxis": "x12",
         "y": [
          1,
          4.678362573099415,
          3.1413612565445024,
          2.4271844660194173,
          2.515723270440252,
          7.647058823529412,
          4.184100418410042,
          1.968503937007874,
          5.084745762711865,
          1.107011070110701,
          2.3346303501945527,
          1.4184397163120568,
          6.405693950177936,
          1.9672131147540985,
          12.741312741312742,
          5.604719764011799,
          3.202846975088968,
          1.3377926421404682,
          3.0716723549488054,
          6.343283582089552,
          5.844155844155844,
          8.552631578947368,
          7.657657657657657
         ],
         "yaxis": "y12"
        },
        {
         "line": {
          "color": "rgba(200,200,200,80)"
         },
         "mode": "lines",
         "name": "",
         "type": "scatter",
         "x": [
          2001,
          2002,
          2003,
          2004,
          2005,
          2006,
          2007,
          2008,
          2009,
          2010,
          2011,
          2012,
          2013,
          2014,
          2015,
          2016,
          2017,
          2018,
          2019,
          2020,
          2021,
          2022,
          2023
         ],
         "xaxis": "x12",
         "y": [
          4.242424242424243,
          3.1847133757961785,
          8.5,
          6.091370558375635,
          3.125,
          5.41871921182266,
          15.087719298245613,
          6.287425149700598,
          5.389221556886228,
          5.523255813953488,
          6.2645011600928076,
          17.50663129973475,
          7.122507122507122,
          5.974025974025974,
          8.27250608272506,
          8.997429305912597,
          12.672176308539946,
          11.557788944723619,
          8.87728459530026,
          8.955223880597014,
          7.774798927613941,
          15.123456790123457,
          8.415841584158416
         ],
         "yaxis": "y12"
        },
        {
         "line": {
          "color": "rgba(200,200,200,80)"
         },
         "mode": "lines",
         "name": "",
         "type": "scatter",
         "x": [
          2001,
          2002,
          2003,
          2004,
          2005,
          2006,
          2007,
          2008,
          2009,
          2010,
          2011,
          2012,
          2013,
          2014,
          2015,
          2016,
          2017,
          2018,
          2019,
          2020,
          2021,
          2022,
          2023
         ],
         "xaxis": "x12",
         "y": [
          8.75,
          7.317073170731707,
          7.59493670886076,
          5.681818181818182,
          17.24137931034483,
          8.60215053763441,
          4.62962962962963,
          3.7735849056603774,
          6.593406593406594,
          15.74074074074074,
          26.356589147286826,
          7.339449541284404,
          16.9811320754717,
          13.821138211382115,
          13.636363636363635,
          19.82758620689655,
          22.413793103448278,
          13.513513513513514,
          19.230769230769234,
          10.256410256410255,
          7.6190476190476195,
          6.224066390041494,
          6.748466257668712
         ],
         "yaxis": "y12"
        },
        {
         "line": {
          "color": "rgba(200,200,200,80)"
         },
         "mode": "lines",
         "name": "",
         "type": "scatter",
         "x": [
          2001,
          2002,
          2003,
          2004,
          2005,
          2006,
          2007,
          2008,
          2009,
          2010,
          2011,
          2012,
          2013,
          2014,
          2015,
          2016,
          2017,
          2018,
          2019,
          2020,
          2021,
          2022,
          2023
         ],
         "xaxis": "x12",
         "y": [
          2.6143790849673203,
          11.351351351351353,
          1.7045454545454544,
          3.1914893617021276,
          4.232804232804233,
          10.695187165775401,
          3.7815126050420167,
          3.3962264150943398,
          5.415162454873646,
          1.4336917562724014,
          1.7482517482517483,
          6.779661016949152,
          5.405405405405405,
          2.527075812274368,
          4.72972972972973,
          3.041825095057034,
          1.6,
          3.205128205128205,
          4.491017964071856,
          9.180327868852459,
          4.923076923076923,
          8.359133126934983,
          10.2803738317757
         ],
         "yaxis": "y12"
        },
        {
         "line": {
          "color": "rgba(200,200,200,80)"
         },
         "mode": "lines",
         "name": "",
         "type": "scatter",
         "x": [
          2001,
          2002,
          2003,
          2004,
          2005,
          2006,
          2007,
          2008,
          2009,
          2010,
          2011,
          2012,
          2013,
          2014,
          2015,
          2016,
          2017,
          2018,
          2019,
          2020,
          2021,
          2022,
          2023
         ],
         "xaxis": "x12",
         "y": [
          0.5882352941176471,
          8.108108108108109,
          6.719367588932807,
          3.4482758620689653,
          9.48905109489051,
          5.894308943089431,
          6.488549618320611,
          4.273504273504273,
          12.213740458015266,
          6.151142355008787,
          3.5381750465549344,
          10.469314079422382,
          5.325443786982249,
          7.4324324324324325,
          7.945736434108527,
          5.809859154929577,
          12.5,
          6.138933764135703,
          11.377245508982035,
          11.702127659574469,
          11.11111111111111,
          8.960573476702509,
          12.442396313364055
         ],
         "yaxis": "y12"
        },
        {
         "line": {
          "color": "rgba(200,200,200,80)"
         },
         "mode": "lines",
         "name": "",
         "type": "scatter",
         "x": [
          2001,
          2002,
          2003,
          2004,
          2005,
          2006,
          2007,
          2008,
          2009,
          2010,
          2011,
          2012,
          2013,
          2014,
          2015,
          2016,
          2017,
          2018,
          2019,
          2020,
          2021,
          2022,
          2023
         ],
         "xaxis": "x12",
         "y": [
          25,
          24,
          26.08695652173913,
          15,
          29.411764705882355,
          23.809523809523807,
          30.555555555555557,
          15.625,
          11.538461538461538,
          26,
          29.411764705882355,
          37.83783783783784,
          27.77777777777778,
          26.666666666666668,
          19.35483870967742,
          23.684210526315788,
          25,
          26.666666666666668,
          28.205128205128204,
          28.57142857142857,
          17.24137931034483,
          32.142857142857146,
          40
         ],
         "yaxis": "y12"
        },
        {
         "line": {
          "color": "rgba(200,200,200,80)"
         },
         "mode": "lines",
         "name": "",
         "type": "scatter",
         "x": [
          2001,
          2002,
          2003,
          2004,
          2005,
          2006,
          2007,
          2008,
          2009,
          2010,
          2011,
          2012,
          2013,
          2014,
          2015,
          2016,
          2017,
          2018,
          2019,
          2020,
          2021,
          2022,
          2023
         ],
         "xaxis": "x12",
         "y": [
          0,
          1.639344262295082,
          0,
          7.446808510638298,
          0,
          0,
          1.1111111111111112,
          0,
          1.6666666666666667,
          2.054794520547945,
          1.5873015873015872,
          0.7462686567164178,
          2.8368794326241136,
          14.388489208633093,
          0,
          1.0256410256410255,
          3.0864197530864197,
          1.8181818181818181,
          2.824858757062147,
          3.3557046979865772,
          4.57516339869281,
          4.320987654320987,
          2.2222222222222223
         ],
         "yaxis": "y12"
        },
        {
         "line": {
          "color": "rgba(200,200,200,80)"
         },
         "mode": "lines",
         "name": "",
         "type": "scatter",
         "x": [
          2001,
          2002,
          2003,
          2004,
          2005,
          2006,
          2007,
          2008,
          2009,
          2010,
          2011,
          2012,
          2013,
          2014,
          2015,
          2016,
          2017,
          2018,
          2019,
          2020,
          2021,
          2022,
          2023
         ],
         "xaxis": "x12",
         "y": [
          3.4482758620689653,
          0,
          7.586206896551724,
          2.4691358024691357,
          5.384615384615385,
          1.3888888888888888,
          1.574803149606299,
          2.3529411764705883,
          7.065217391304348,
          2.7624309392265194,
          4.81283422459893,
          1.6574585635359116,
          1.9230769230769231,
          7.142857142857142,
          4.166666666666666,
          0,
          3.664921465968586,
          2.9268292682926833,
          5.202312138728324,
          6.081081081081082,
          2.1164021164021163,
          4.444444444444445,
          8.653846153846153
         ],
         "yaxis": "y12"
        },
        {
         "line": {
          "color": "rgba(200,200,200,80)"
         },
         "mode": "lines",
         "name": "",
         "type": "scatter",
         "x": [
          2001,
          2002,
          2003,
          2004,
          2005,
          2006,
          2007,
          2008,
          2009,
          2010,
          2011,
          2012,
          2013,
          2014,
          2015,
          2016,
          2017,
          2018,
          2019,
          2020,
          2021,
          2022,
          2023
         ],
         "xaxis": "x12",
         "y": [
          0,
          0,
          0,
          0,
          0,
          0,
          2.7027027027027026,
          2.127659574468085,
          2.564102564102564,
          2.2222222222222223,
          0,
          4.761904761904762,
          4.545454545454546,
          0,
          2.1739130434782608,
          2.4390243902439024,
          0,
          3.125,
          0,
          0,
          0,
          2.0408163265306123,
          0
         ],
         "yaxis": "y12"
        },
        {
         "line": {
          "color": "red"
         },
         "mode": "lines",
         "name": "",
         "type": "scatter",
         "x": [
          2001,
          2002,
          2003,
          2004,
          2005,
          2006,
          2007,
          2008,
          2009,
          2010,
          2011,
          2012,
          2013,
          2014,
          2015,
          2016,
          2017,
          2018,
          2019,
          2020,
          2021,
          2022,
          2023
         ],
         "xaxis": "x12",
         "y": [
          7.601184600197433,
          10.254163014899213,
          9.31899641577061,
          8.311518324607329,
          9.650259067357512,
          9.512893982808022,
          9.205867475973697,
          6.4500716674629714,
          10.21256931608133,
          8.185361628410567,
          8.379413015737985,
          11.15898319689789,
          8.82752376641014,
          8.702999577524292,
          9.347368421052632,
          9.67741935483871,
          11.011904761904761,
          8.860249697946033,
          10.437710437710438,
          10.715979137031768,
          11.10254433307633,
          12.056451612903226,
          13.452655889145495
         ],
         "yaxis": "y12"
        },
        {
         "line": {
          "color": "blue"
         },
         "mode": "lines",
         "name": "",
         "type": "scatter",
         "x": [
          2001,
          2002,
          2003,
          2004,
          2005,
          2006,
          2007,
          2008,
          2009,
          2010,
          2011,
          2012,
          2013,
          2014,
          2015,
          2016,
          2017,
          2018,
          2019,
          2020,
          2021,
          2022,
          2023
         ],
         "xaxis": "x12",
         "y": [
          3.571428571428571,
          4.10958904109589,
          2.73972602739726,
          7.377049180327869,
          1.9230769230769231,
          1.3071895424836601,
          5.0359712230215825,
          2.6881720430107525,
          5.327868852459016,
          4.291845493562231,
          1.3333333333333335,
          3.91304347826087,
          3.2388663967611335,
          1.951219512195122,
          2.6119402985074625,
          5.147058823529411,
          7.171314741035857,
          6.437768240343347,
          8.203125,
          4.910714285714286,
          9.803921568627452,
          10.50228310502283,
          13.612565445026178
         ],
         "yaxis": "y12"
        },
        {
         "line": {
          "color": "rgba(200,200,200,80)"
         },
         "mode": "lines",
         "name": "",
         "type": "scatter",
         "x": [
          2001,
          2002,
          2003,
          2004,
          2005,
          2006,
          2007,
          2008,
          2009,
          2010,
          2011,
          2012,
          2013,
          2014,
          2015,
          2016,
          2017,
          2018,
          2019,
          2020,
          2021,
          2022,
          2023
         ],
         "xaxis": "x13",
         "y": [
          1,
          4.678362573099415,
          3.1413612565445024,
          2.4271844660194173,
          2.515723270440252,
          7.647058823529412,
          4.184100418410042,
          1.968503937007874,
          5.084745762711865,
          1.107011070110701,
          2.3346303501945527,
          1.4184397163120568,
          6.405693950177936,
          1.9672131147540985,
          12.741312741312742,
          5.604719764011799,
          3.202846975088968,
          1.3377926421404682,
          3.0716723549488054,
          6.343283582089552,
          5.844155844155844,
          8.552631578947368,
          7.657657657657657
         ],
         "yaxis": "y13"
        },
        {
         "line": {
          "color": "rgba(200,200,200,80)"
         },
         "mode": "lines",
         "name": "",
         "type": "scatter",
         "x": [
          2001,
          2002,
          2003,
          2004,
          2005,
          2006,
          2007,
          2008,
          2009,
          2010,
          2011,
          2012,
          2013,
          2014,
          2015,
          2016,
          2017,
          2018,
          2019,
          2020,
          2021,
          2022,
          2023
         ],
         "xaxis": "x13",
         "y": [
          4.242424242424243,
          3.1847133757961785,
          8.5,
          6.091370558375635,
          3.125,
          5.41871921182266,
          15.087719298245613,
          6.287425149700598,
          5.389221556886228,
          5.523255813953488,
          6.2645011600928076,
          17.50663129973475,
          7.122507122507122,
          5.974025974025974,
          8.27250608272506,
          8.997429305912597,
          12.672176308539946,
          11.557788944723619,
          8.87728459530026,
          8.955223880597014,
          7.774798927613941,
          15.123456790123457,
          8.415841584158416
         ],
         "yaxis": "y13"
        },
        {
         "line": {
          "color": "rgba(200,200,200,80)"
         },
         "mode": "lines",
         "name": "",
         "type": "scatter",
         "x": [
          2001,
          2002,
          2003,
          2004,
          2005,
          2006,
          2007,
          2008,
          2009,
          2010,
          2011,
          2012,
          2013,
          2014,
          2015,
          2016,
          2017,
          2018,
          2019,
          2020,
          2021,
          2022,
          2023
         ],
         "xaxis": "x13",
         "y": [
          8.75,
          7.317073170731707,
          7.59493670886076,
          5.681818181818182,
          17.24137931034483,
          8.60215053763441,
          4.62962962962963,
          3.7735849056603774,
          6.593406593406594,
          15.74074074074074,
          26.356589147286826,
          7.339449541284404,
          16.9811320754717,
          13.821138211382115,
          13.636363636363635,
          19.82758620689655,
          22.413793103448278,
          13.513513513513514,
          19.230769230769234,
          10.256410256410255,
          7.6190476190476195,
          6.224066390041494,
          6.748466257668712
         ],
         "yaxis": "y13"
        },
        {
         "line": {
          "color": "rgba(200,200,200,80)"
         },
         "mode": "lines",
         "name": "",
         "type": "scatter",
         "x": [
          2001,
          2002,
          2003,
          2004,
          2005,
          2006,
          2007,
          2008,
          2009,
          2010,
          2011,
          2012,
          2013,
          2014,
          2015,
          2016,
          2017,
          2018,
          2019,
          2020,
          2021,
          2022,
          2023
         ],
         "xaxis": "x13",
         "y": [
          2.6143790849673203,
          11.351351351351353,
          1.7045454545454544,
          3.1914893617021276,
          4.232804232804233,
          10.695187165775401,
          3.7815126050420167,
          3.3962264150943398,
          5.415162454873646,
          1.4336917562724014,
          1.7482517482517483,
          6.779661016949152,
          5.405405405405405,
          2.527075812274368,
          4.72972972972973,
          3.041825095057034,
          1.6,
          3.205128205128205,
          4.491017964071856,
          9.180327868852459,
          4.923076923076923,
          8.359133126934983,
          10.2803738317757
         ],
         "yaxis": "y13"
        },
        {
         "line": {
          "color": "rgba(200,200,200,80)"
         },
         "mode": "lines",
         "name": "",
         "type": "scatter",
         "x": [
          2001,
          2002,
          2003,
          2004,
          2005,
          2006,
          2007,
          2008,
          2009,
          2010,
          2011,
          2012,
          2013,
          2014,
          2015,
          2016,
          2017,
          2018,
          2019,
          2020,
          2021,
          2022,
          2023
         ],
         "xaxis": "x13",
         "y": [
          25,
          24,
          26.08695652173913,
          15,
          29.411764705882355,
          23.809523809523807,
          30.555555555555557,
          15.625,
          11.538461538461538,
          26,
          29.411764705882355,
          37.83783783783784,
          27.77777777777778,
          26.666666666666668,
          19.35483870967742,
          23.684210526315788,
          25,
          26.666666666666668,
          28.205128205128204,
          28.57142857142857,
          17.24137931034483,
          32.142857142857146,
          40
         ],
         "yaxis": "y13"
        },
        {
         "line": {
          "color": "rgba(200,200,200,80)"
         },
         "mode": "lines",
         "name": "",
         "type": "scatter",
         "x": [
          2001,
          2002,
          2003,
          2004,
          2005,
          2006,
          2007,
          2008,
          2009,
          2010,
          2011,
          2012,
          2013,
          2014,
          2015,
          2016,
          2017,
          2018,
          2019,
          2020,
          2021,
          2022,
          2023
         ],
         "xaxis": "x13",
         "y": [
          0,
          1.639344262295082,
          0,
          7.446808510638298,
          0,
          0,
          1.1111111111111112,
          0,
          1.6666666666666667,
          2.054794520547945,
          1.5873015873015872,
          0.7462686567164178,
          2.8368794326241136,
          14.388489208633093,
          0,
          1.0256410256410255,
          3.0864197530864197,
          1.8181818181818181,
          2.824858757062147,
          3.3557046979865772,
          4.57516339869281,
          4.320987654320987,
          2.2222222222222223
         ],
         "yaxis": "y13"
        },
        {
         "line": {
          "color": "rgba(200,200,200,80)"
         },
         "mode": "lines",
         "name": "",
         "type": "scatter",
         "x": [
          2001,
          2002,
          2003,
          2004,
          2005,
          2006,
          2007,
          2008,
          2009,
          2010,
          2011,
          2012,
          2013,
          2014,
          2015,
          2016,
          2017,
          2018,
          2019,
          2020,
          2021,
          2022,
          2023
         ],
         "xaxis": "x13",
         "y": [
          3.4482758620689653,
          0,
          7.586206896551724,
          2.4691358024691357,
          5.384615384615385,
          1.3888888888888888,
          1.574803149606299,
          2.3529411764705883,
          7.065217391304348,
          2.7624309392265194,
          4.81283422459893,
          1.6574585635359116,
          1.9230769230769231,
          7.142857142857142,
          4.166666666666666,
          0,
          3.664921465968586,
          2.9268292682926833,
          5.202312138728324,
          6.081081081081082,
          2.1164021164021163,
          4.444444444444445,
          8.653846153846153
         ],
         "yaxis": "y13"
        },
        {
         "line": {
          "color": "rgba(200,200,200,80)"
         },
         "mode": "lines",
         "name": "",
         "type": "scatter",
         "x": [
          2001,
          2002,
          2003,
          2004,
          2005,
          2006,
          2007,
          2008,
          2009,
          2010,
          2011,
          2012,
          2013,
          2014,
          2015,
          2016,
          2017,
          2018,
          2019,
          2020,
          2021,
          2022,
          2023
         ],
         "xaxis": "x13",
         "y": [
          0,
          0,
          0,
          0,
          0,
          0,
          2.7027027027027026,
          2.127659574468085,
          2.564102564102564,
          2.2222222222222223,
          0,
          4.761904761904762,
          4.545454545454546,
          0,
          2.1739130434782608,
          2.4390243902439024,
          0,
          3.125,
          0,
          0,
          0,
          2.0408163265306123,
          0
         ],
         "yaxis": "y13"
        },
        {
         "line": {
          "color": "rgba(200,200,200,80)"
         },
         "mode": "lines",
         "name": "",
         "type": "scatter",
         "x": [
          2001,
          2002,
          2003,
          2004,
          2005,
          2006,
          2007,
          2008,
          2009,
          2010,
          2011,
          2012,
          2013,
          2014,
          2015,
          2016,
          2017,
          2018,
          2019,
          2020,
          2021,
          2022,
          2023
         ],
         "xaxis": "x13",
         "y": [
          3.571428571428571,
          4.10958904109589,
          2.73972602739726,
          7.377049180327869,
          1.9230769230769231,
          1.3071895424836601,
          5.0359712230215825,
          2.6881720430107525,
          5.327868852459016,
          4.291845493562231,
          1.3333333333333335,
          3.91304347826087,
          3.2388663967611335,
          1.951219512195122,
          2.6119402985074625,
          5.147058823529411,
          7.171314741035857,
          6.437768240343347,
          8.203125,
          4.910714285714286,
          9.803921568627452,
          10.50228310502283,
          13.612565445026178
         ],
         "yaxis": "y13"
        },
        {
         "line": {
          "color": "red"
         },
         "mode": "lines",
         "name": "",
         "type": "scatter",
         "x": [
          2001,
          2002,
          2003,
          2004,
          2005,
          2006,
          2007,
          2008,
          2009,
          2010,
          2011,
          2012,
          2013,
          2014,
          2015,
          2016,
          2017,
          2018,
          2019,
          2020,
          2021,
          2022,
          2023
         ],
         "xaxis": "x13",
         "y": [
          7.601184600197433,
          10.254163014899213,
          9.31899641577061,
          8.311518324607329,
          9.650259067357512,
          9.512893982808022,
          9.205867475973697,
          6.4500716674629714,
          10.21256931608133,
          8.185361628410567,
          8.379413015737985,
          11.15898319689789,
          8.82752376641014,
          8.702999577524292,
          9.347368421052632,
          9.67741935483871,
          11.011904761904761,
          8.860249697946033,
          10.437710437710438,
          10.715979137031768,
          11.10254433307633,
          12.056451612903226,
          13.452655889145495
         ],
         "yaxis": "y13"
        },
        {
         "line": {
          "color": "blue"
         },
         "mode": "lines",
         "name": "",
         "type": "scatter",
         "x": [
          2001,
          2002,
          2003,
          2004,
          2005,
          2006,
          2007,
          2008,
          2009,
          2010,
          2011,
          2012,
          2013,
          2014,
          2015,
          2016,
          2017,
          2018,
          2019,
          2020,
          2021,
          2022,
          2023
         ],
         "xaxis": "x13",
         "y": [
          0.5882352941176471,
          8.108108108108109,
          6.719367588932807,
          3.4482758620689653,
          9.48905109489051,
          5.894308943089431,
          6.488549618320611,
          4.273504273504273,
          12.213740458015266,
          6.151142355008787,
          3.5381750465549344,
          10.469314079422382,
          5.325443786982249,
          7.4324324324324325,
          7.945736434108527,
          5.809859154929577,
          12.5,
          6.138933764135703,
          11.377245508982035,
          11.702127659574469,
          11.11111111111111,
          8.960573476702509,
          12.442396313364055
         ],
         "yaxis": "y13"
        }
       ],
       "layout": {
        "annotations": [
         {
          "font": {
           "size": 16
          },
          "showarrow": false,
          "text": "Général",
          "x": 0.32222222222222224,
          "xanchor": "center",
          "xref": "paper",
          "y": 1,
          "yanchor": "bottom",
          "yref": "paper"
         },
         {
          "font": {
           "size": 16
          },
          "showarrow": false,
          "text": "Science Politique",
          "x": 0.14444444444444446,
          "xanchor": "center",
          "xref": "paper",
          "y": 0.78,
          "yanchor": "bottom",
          "yref": "paper"
         },
         {
          "font": {
           "size": 16
          },
          "showarrow": false,
          "text": "Sociologie",
          "x": 0.5,
          "xanchor": "center",
          "xref": "paper",
          "y": 0.78,
          "yanchor": "bottom",
          "yref": "paper"
         },
         {
          "font": {
           "size": 16
          },
          "showarrow": false,
          "text": "Genre",
          "x": 0.8555555555555556,
          "xanchor": "center",
          "xref": "paper",
          "y": 0.78,
          "yanchor": "bottom",
          "yref": "paper"
         },
         {
          "font": {
           "size": 16
          },
          "showarrow": false,
          "text": "Anthropologie",
          "x": 0.14444444444444446,
          "xanchor": "center",
          "xref": "paper",
          "y": 0.56,
          "yanchor": "bottom",
          "yref": "paper"
         },
         {
          "font": {
           "size": 16
          },
          "showarrow": false,
          "text": "Histoire",
          "x": 0.5,
          "xanchor": "center",
          "xref": "paper",
          "y": 0.56,
          "yanchor": "bottom",
          "yref": "paper"
         },
         {
          "font": {
           "size": 16
          },
          "showarrow": false,
          "text": "Démographie",
          "x": 0.8555555555555556,
          "xanchor": "center",
          "xref": "paper",
          "y": 0.56,
          "yanchor": "bottom",
          "yref": "paper"
         },
         {
          "font": {
           "size": 16
          },
          "showarrow": false,
          "text": "Économie",
          "x": 0.14444444444444446,
          "xanchor": "center",
          "xref": "paper",
          "y": 0.33999999999999997,
          "yanchor": "bottom",
          "yref": "paper"
         },
         {
          "font": {
           "size": 16
          },
          "showarrow": false,
          "text": "SIC",
          "x": 0.5,
          "xanchor": "center",
          "xref": "paper",
          "y": 0.33999999999999997,
          "yanchor": "bottom",
          "yref": "paper"
         },
         {
          "font": {
           "size": 16
          },
          "showarrow": false,
          "text": "Géographie",
          "x": 0.8555555555555556,
          "xanchor": "center",
          "xref": "paper",
          "y": 0.33999999999999997,
          "yanchor": "bottom",
          "yref": "paper"
         },
         {
          "font": {
           "size": 16
          },
          "showarrow": false,
          "text": "Aréales",
          "x": 0.14444444444444446,
          "xanchor": "center",
          "xref": "paper",
          "y": 0.12,
          "yanchor": "bottom",
          "yref": "paper"
         },
         {
          "font": {
           "size": 16
          },
          "showarrow": false,
          "text": "Autre interdisciplinaire",
          "x": 0.5,
          "xanchor": "center",
          "xref": "paper",
          "y": 0.12,
          "yanchor": "bottom",
          "yref": "paper"
         },
         {
          "font": {
           "size": 16
          },
          "showarrow": false,
          "text": "Année de publication",
          "x": 0.5,
          "xanchor": "center",
          "xref": "paper",
          "y": 0,
          "yanchor": "top",
          "yref": "paper",
          "yshift": -30
         },
         {
          "font": {
           "size": 16
          },
          "showarrow": false,
          "text": "Part des articles qui invoquent le concept du genre",
          "textangle": -90,
          "x": 0,
          "xanchor": "right",
          "xref": "paper",
          "xshift": -40,
          "y": 0.5,
          "yanchor": "middle",
          "yref": "paper"
         }
        ],
        "height": 700,
        "showlegend": false,
        "template": {
         "data": {
          "bar": [
           {
            "error_x": {
             "color": "#2a3f5f"
            },
            "error_y": {
             "color": "#2a3f5f"
            },
            "marker": {
             "line": {
              "color": "#E5ECF6",
              "width": 0.5
             },
             "pattern": {
              "fillmode": "overlay",
              "size": 10,
              "solidity": 0.2
             }
            },
            "type": "bar"
           }
          ],
          "barpolar": [
           {
            "marker": {
             "line": {
              "color": "#E5ECF6",
              "width": 0.5
             },
             "pattern": {
              "fillmode": "overlay",
              "size": 10,
              "solidity": 0.2
             }
            },
            "type": "barpolar"
           }
          ],
          "carpet": [
           {
            "aaxis": {
             "endlinecolor": "#2a3f5f",
             "gridcolor": "white",
             "linecolor": "white",
             "minorgridcolor": "white",
             "startlinecolor": "#2a3f5f"
            },
            "baxis": {
             "endlinecolor": "#2a3f5f",
             "gridcolor": "white",
             "linecolor": "white",
             "minorgridcolor": "white",
             "startlinecolor": "#2a3f5f"
            },
            "type": "carpet"
           }
          ],
          "choropleth": [
           {
            "colorbar": {
             "outlinewidth": 0,
             "ticks": ""
            },
            "type": "choropleth"
           }
          ],
          "contour": [
           {
            "colorbar": {
             "outlinewidth": 0,
             "ticks": ""
            },
            "colorscale": [
             [
              0,
              "#0d0887"
             ],
             [
              0.1111111111111111,
              "#46039f"
             ],
             [
              0.2222222222222222,
              "#7201a8"
             ],
             [
              0.3333333333333333,
              "#9c179e"
             ],
             [
              0.4444444444444444,
              "#bd3786"
             ],
             [
              0.5555555555555556,
              "#d8576b"
             ],
             [
              0.6666666666666666,
              "#ed7953"
             ],
             [
              0.7777777777777778,
              "#fb9f3a"
             ],
             [
              0.8888888888888888,
              "#fdca26"
             ],
             [
              1,
              "#f0f921"
             ]
            ],
            "type": "contour"
           }
          ],
          "contourcarpet": [
           {
            "colorbar": {
             "outlinewidth": 0,
             "ticks": ""
            },
            "type": "contourcarpet"
           }
          ],
          "heatmap": [
           {
            "colorbar": {
             "outlinewidth": 0,
             "ticks": ""
            },
            "colorscale": [
             [
              0,
              "#0d0887"
             ],
             [
              0.1111111111111111,
              "#46039f"
             ],
             [
              0.2222222222222222,
              "#7201a8"
             ],
             [
              0.3333333333333333,
              "#9c179e"
             ],
             [
              0.4444444444444444,
              "#bd3786"
             ],
             [
              0.5555555555555556,
              "#d8576b"
             ],
             [
              0.6666666666666666,
              "#ed7953"
             ],
             [
              0.7777777777777778,
              "#fb9f3a"
             ],
             [
              0.8888888888888888,
              "#fdca26"
             ],
             [
              1,
              "#f0f921"
             ]
            ],
            "type": "heatmap"
           }
          ],
          "heatmapgl": [
           {
            "colorbar": {
             "outlinewidth": 0,
             "ticks": ""
            },
            "colorscale": [
             [
              0,
              "#0d0887"
             ],
             [
              0.1111111111111111,
              "#46039f"
             ],
             [
              0.2222222222222222,
              "#7201a8"
             ],
             [
              0.3333333333333333,
              "#9c179e"
             ],
             [
              0.4444444444444444,
              "#bd3786"
             ],
             [
              0.5555555555555556,
              "#d8576b"
             ],
             [
              0.6666666666666666,
              "#ed7953"
             ],
             [
              0.7777777777777778,
              "#fb9f3a"
             ],
             [
              0.8888888888888888,
              "#fdca26"
             ],
             [
              1,
              "#f0f921"
             ]
            ],
            "type": "heatmapgl"
           }
          ],
          "histogram": [
           {
            "marker": {
             "pattern": {
              "fillmode": "overlay",
              "size": 10,
              "solidity": 0.2
             }
            },
            "type": "histogram"
           }
          ],
          "histogram2d": [
           {
            "colorbar": {
             "outlinewidth": 0,
             "ticks": ""
            },
            "colorscale": [
             [
              0,
              "#0d0887"
             ],
             [
              0.1111111111111111,
              "#46039f"
             ],
             [
              0.2222222222222222,
              "#7201a8"
             ],
             [
              0.3333333333333333,
              "#9c179e"
             ],
             [
              0.4444444444444444,
              "#bd3786"
             ],
             [
              0.5555555555555556,
              "#d8576b"
             ],
             [
              0.6666666666666666,
              "#ed7953"
             ],
             [
              0.7777777777777778,
              "#fb9f3a"
             ],
             [
              0.8888888888888888,
              "#fdca26"
             ],
             [
              1,
              "#f0f921"
             ]
            ],
            "type": "histogram2d"
           }
          ],
          "histogram2dcontour": [
           {
            "colorbar": {
             "outlinewidth": 0,
             "ticks": ""
            },
            "colorscale": [
             [
              0,
              "#0d0887"
             ],
             [
              0.1111111111111111,
              "#46039f"
             ],
             [
              0.2222222222222222,
              "#7201a8"
             ],
             [
              0.3333333333333333,
              "#9c179e"
             ],
             [
              0.4444444444444444,
              "#bd3786"
             ],
             [
              0.5555555555555556,
              "#d8576b"
             ],
             [
              0.6666666666666666,
              "#ed7953"
             ],
             [
              0.7777777777777778,
              "#fb9f3a"
             ],
             [
              0.8888888888888888,
              "#fdca26"
             ],
             [
              1,
              "#f0f921"
             ]
            ],
            "type": "histogram2dcontour"
           }
          ],
          "mesh3d": [
           {
            "colorbar": {
             "outlinewidth": 0,
             "ticks": ""
            },
            "type": "mesh3d"
           }
          ],
          "parcoords": [
           {
            "line": {
             "colorbar": {
              "outlinewidth": 0,
              "ticks": ""
             }
            },
            "type": "parcoords"
           }
          ],
          "pie": [
           {
            "automargin": true,
            "type": "pie"
           }
          ],
          "scatter": [
           {
            "fillpattern": {
             "fillmode": "overlay",
             "size": 10,
             "solidity": 0.2
            },
            "type": "scatter"
           }
          ],
          "scatter3d": [
           {
            "line": {
             "colorbar": {
              "outlinewidth": 0,
              "ticks": ""
             }
            },
            "marker": {
             "colorbar": {
              "outlinewidth": 0,
              "ticks": ""
             }
            },
            "type": "scatter3d"
           }
          ],
          "scattercarpet": [
           {
            "marker": {
             "colorbar": {
              "outlinewidth": 0,
              "ticks": ""
             }
            },
            "type": "scattercarpet"
           }
          ],
          "scattergeo": [
           {
            "marker": {
             "colorbar": {
              "outlinewidth": 0,
              "ticks": ""
             }
            },
            "type": "scattergeo"
           }
          ],
          "scattergl": [
           {
            "marker": {
             "colorbar": {
              "outlinewidth": 0,
              "ticks": ""
             }
            },
            "type": "scattergl"
           }
          ],
          "scattermapbox": [
           {
            "marker": {
             "colorbar": {
              "outlinewidth": 0,
              "ticks": ""
             }
            },
            "type": "scattermapbox"
           }
          ],
          "scatterpolar": [
           {
            "marker": {
             "colorbar": {
              "outlinewidth": 0,
              "ticks": ""
             }
            },
            "type": "scatterpolar"
           }
          ],
          "scatterpolargl": [
           {
            "marker": {
             "colorbar": {
              "outlinewidth": 0,
              "ticks": ""
             }
            },
            "type": "scatterpolargl"
           }
          ],
          "scatterternary": [
           {
            "marker": {
             "colorbar": {
              "outlinewidth": 0,
              "ticks": ""
             }
            },
            "type": "scatterternary"
           }
          ],
          "surface": [
           {
            "colorbar": {
             "outlinewidth": 0,
             "ticks": ""
            },
            "colorscale": [
             [
              0,
              "#0d0887"
             ],
             [
              0.1111111111111111,
              "#46039f"
             ],
             [
              0.2222222222222222,
              "#7201a8"
             ],
             [
              0.3333333333333333,
              "#9c179e"
             ],
             [
              0.4444444444444444,
              "#bd3786"
             ],
             [
              0.5555555555555556,
              "#d8576b"
             ],
             [
              0.6666666666666666,
              "#ed7953"
             ],
             [
              0.7777777777777778,
              "#fb9f3a"
             ],
             [
              0.8888888888888888,
              "#fdca26"
             ],
             [
              1,
              "#f0f921"
             ]
            ],
            "type": "surface"
           }
          ],
          "table": [
           {
            "cells": {
             "fill": {
              "color": "#EBF0F8"
             },
             "line": {
              "color": "white"
             }
            },
            "header": {
             "fill": {
              "color": "#C8D4E3"
             },
             "line": {
              "color": "white"
             }
            },
            "type": "table"
           }
          ]
         },
         "layout": {
          "annotationdefaults": {
           "arrowcolor": "#2a3f5f",
           "arrowhead": 0,
           "arrowwidth": 1
          },
          "autotypenumbers": "strict",
          "coloraxis": {
           "colorbar": {
            "outlinewidth": 0,
            "ticks": ""
           }
          },
          "colorscale": {
           "diverging": [
            [
             0,
             "#8e0152"
            ],
            [
             0.1,
             "#c51b7d"
            ],
            [
             0.2,
             "#de77ae"
            ],
            [
             0.3,
             "#f1b6da"
            ],
            [
             0.4,
             "#fde0ef"
            ],
            [
             0.5,
             "#f7f7f7"
            ],
            [
             0.6,
             "#e6f5d0"
            ],
            [
             0.7,
             "#b8e186"
            ],
            [
             0.8,
             "#7fbc41"
            ],
            [
             0.9,
             "#4d9221"
            ],
            [
             1,
             "#276419"
            ]
           ],
           "sequential": [
            [
             0,
             "#0d0887"
            ],
            [
             0.1111111111111111,
             "#46039f"
            ],
            [
             0.2222222222222222,
             "#7201a8"
            ],
            [
             0.3333333333333333,
             "#9c179e"
            ],
            [
             0.4444444444444444,
             "#bd3786"
            ],
            [
             0.5555555555555556,
             "#d8576b"
            ],
            [
             0.6666666666666666,
             "#ed7953"
            ],
            [
             0.7777777777777778,
             "#fb9f3a"
            ],
            [
             0.8888888888888888,
             "#fdca26"
            ],
            [
             1,
             "#f0f921"
            ]
           ],
           "sequentialminus": [
            [
             0,
             "#0d0887"
            ],
            [
             0.1111111111111111,
             "#46039f"
            ],
            [
             0.2222222222222222,
             "#7201a8"
            ],
            [
             0.3333333333333333,
             "#9c179e"
            ],
            [
             0.4444444444444444,
             "#bd3786"
            ],
            [
             0.5555555555555556,
             "#d8576b"
            ],
            [
             0.6666666666666666,
             "#ed7953"
            ],
            [
             0.7777777777777778,
             "#fb9f3a"
            ],
            [
             0.8888888888888888,
             "#fdca26"
            ],
            [
             1,
             "#f0f921"
            ]
           ]
          },
          "colorway": [
           "#636efa",
           "#EF553B",
           "#00cc96",
           "#ab63fa",
           "#FFA15A",
           "#19d3f3",
           "#FF6692",
           "#B6E880",
           "#FF97FF",
           "#FECB52"
          ],
          "font": {
           "color": "#2a3f5f"
          },
          "geo": {
           "bgcolor": "white",
           "lakecolor": "white",
           "landcolor": "#E5ECF6",
           "showlakes": true,
           "showland": true,
           "subunitcolor": "white"
          },
          "hoverlabel": {
           "align": "left"
          },
          "hovermode": "closest",
          "mapbox": {
           "style": "light"
          },
          "paper_bgcolor": "white",
          "plot_bgcolor": "#E5ECF6",
          "polar": {
           "angularaxis": {
            "gridcolor": "white",
            "linecolor": "white",
            "ticks": ""
           },
           "bgcolor": "#E5ECF6",
           "radialaxis": {
            "gridcolor": "white",
            "linecolor": "white",
            "ticks": ""
           }
          },
          "scene": {
           "xaxis": {
            "backgroundcolor": "#E5ECF6",
            "gridcolor": "white",
            "gridwidth": 2,
            "linecolor": "white",
            "showbackground": true,
            "ticks": "",
            "zerolinecolor": "white"
           },
           "yaxis": {
            "backgroundcolor": "#E5ECF6",
            "gridcolor": "white",
            "gridwidth": 2,
            "linecolor": "white",
            "showbackground": true,
            "ticks": "",
            "zerolinecolor": "white"
           },
           "zaxis": {
            "backgroundcolor": "#E5ECF6",
            "gridcolor": "white",
            "gridwidth": 2,
            "linecolor": "white",
            "showbackground": true,
            "ticks": "",
            "zerolinecolor": "white"
           }
          },
          "shapedefaults": {
           "line": {
            "color": "#2a3f5f"
           }
          },
          "ternary": {
           "aaxis": {
            "gridcolor": "white",
            "linecolor": "white",
            "ticks": ""
           },
           "baxis": {
            "gridcolor": "white",
            "linecolor": "white",
            "ticks": ""
           },
           "bgcolor": "#E5ECF6",
           "caxis": {
            "gridcolor": "white",
            "linecolor": "white",
            "ticks": ""
           }
          },
          "title": {
           "x": 0.05
          },
          "xaxis": {
           "automargin": true,
           "gridcolor": "white",
           "linecolor": "white",
           "ticks": "",
           "title": {
            "standoff": 15
           },
           "zerolinecolor": "white",
           "zerolinewidth": 2
          },
          "yaxis": {
           "automargin": true,
           "gridcolor": "white",
           "linecolor": "white",
           "ticks": "",
           "title": {
            "standoff": 15
           },
           "zerolinecolor": "white",
           "zerolinewidth": 2
          }
         }
        },
        "title": {
         "automargin": true,
         "pad": {
          "b": 10,
          "l": 10,
          "r": 10,
          "t": 10
         },
         "text": "Évolution de la proportion d'articles publiés invoquant le thème du genre (def extensive et statistique)"
        },
        "width": 1150,
        "xaxis": {
         "anchor": "y",
         "domain": [
          0,
          0.6444444444444445
         ]
        },
        "xaxis10": {
         "anchor": "y10",
         "domain": [
          0.35555555555555557,
          0.6444444444444445
         ],
         "matches": "x9"
        },
        "xaxis11": {
         "anchor": "y11",
         "domain": [
          0.7111111111111111,
          1
         ],
         "matches": "x9"
        },
        "xaxis12": {
         "anchor": "y12",
         "domain": [
          0,
          0.2888888888888889
         ]
        },
        "xaxis13": {
         "anchor": "y13",
         "domain": [
          0.35555555555555557,
          0.6444444444444445
         ],
         "matches": "x12"
        },
        "xaxis14": {
         "anchor": "y14",
         "domain": [
          0.7111111111111111,
          1
         ],
         "matches": "x12"
        },
        "xaxis2": {
         "anchor": "y2",
         "domain": [
          0.7111111111111111,
          1
         ]
        },
        "xaxis3": {
         "anchor": "y3",
         "domain": [
          0,
          0.2888888888888889
         ]
        },
        "xaxis4": {
         "anchor": "y4",
         "domain": [
          0.35555555555555557,
          0.6444444444444445
         ],
         "matches": "x3"
        },
        "xaxis5": {
         "anchor": "y5",
         "domain": [
          0.7111111111111111,
          1
         ],
         "matches": "x3"
        },
        "xaxis6": {
         "anchor": "y6",
         "domain": [
          0,
          0.2888888888888889
         ]
        },
        "xaxis7": {
         "anchor": "y7",
         "domain": [
          0.35555555555555557,
          0.6444444444444445
         ],
         "matches": "x6"
        },
        "xaxis8": {
         "anchor": "y8",
         "domain": [
          0.7111111111111111,
          1
         ],
         "matches": "x6"
        },
        "xaxis9": {
         "anchor": "y9",
         "domain": [
          0,
          0.2888888888888889
         ]
        },
        "yaxis": {
         "anchor": "x",
         "domain": [
          0.88,
          1
         ]
        },
        "yaxis10": {
         "anchor": "x10",
         "domain": [
          0.22,
          0.33999999999999997
         ],
         "matches": "y9",
         "showticklabels": false
        },
        "yaxis11": {
         "anchor": "x11",
         "domain": [
          0.22,
          0.33999999999999997
         ],
         "matches": "y9",
         "showticklabels": false
        },
        "yaxis12": {
         "anchor": "x12",
         "domain": [
          0,
          0.12
         ]
        },
        "yaxis13": {
         "anchor": "x13",
         "domain": [
          0,
          0.12
         ],
         "matches": "y12",
         "showticklabels": false
        },
        "yaxis14": {
         "anchor": "x14",
         "domain": [
          0,
          0.12
         ],
         "matches": "y12",
         "showticklabels": false
        },
        "yaxis2": {
         "anchor": "x2",
         "domain": [
          0.88,
          1
         ],
         "matches": "y",
         "showticklabels": false
        },
        "yaxis3": {
         "anchor": "x3",
         "domain": [
          0.66,
          0.78
         ]
        },
        "yaxis4": {
         "anchor": "x4",
         "domain": [
          0.66,
          0.78
         ],
         "matches": "y3",
         "showticklabels": false
        },
        "yaxis5": {
         "anchor": "x5",
         "domain": [
          0.66,
          0.78
         ],
         "matches": "y3",
         "showticklabels": false
        },
        "yaxis6": {
         "anchor": "x6",
         "domain": [
          0.44,
          0.56
         ]
        },
        "yaxis7": {
         "anchor": "x7",
         "domain": [
          0.44,
          0.56
         ],
         "matches": "y6",
         "showticklabels": false
        },
        "yaxis8": {
         "anchor": "x8",
         "domain": [
          0.44,
          0.56
         ],
         "matches": "y6",
         "showticklabels": false
        },
        "yaxis9": {
         "anchor": "x9",
         "domain": [
          0.22,
          0.33999999999999997
         ]
        }
       }
      }
     },
     "metadata": {},
     "output_type": "display_data"
    }
   ],
   "source": [
    "fig.update_layout(showlegend = False)"
   ]
  },
  {
   "cell_type": "code",
   "execution_count": 213,
   "metadata": {},
   "outputs": [],
   "source": [
    "# https://plotly.com/python/reference/layout/xaxis/\n",
    "# customizing the x axis\n",
    "fig = fig.update_layout(\n",
    "    xaxis = dict(\n",
    "        showline = True,\n",
    "        linewidth = 2, \n",
    "        linecolor = 'rgb(20,20,20)',\n",
    "        ticks = \"outside\",           # \"outside\", \"inside\", \"\"\n",
    "        showticklabels = True,\n",
    "        tickangle = 0,\n",
    "        tickfont = dict(\n",
    "            family = \"Arial\", size = 12, color = \"rgb(80,80,80)\"\n",
    "            ),\n",
    "        tickvals = [2004,2008,2012,2016,2020],\n",
    "        showgrid = False,\n",
    "    )\n",
    ")\n",
    "\n",
    "# customizing the y axis\n",
    "fig = fig.update_layout(\n",
    "    yaxis = dict(\n",
    "        showline = False,\n",
    "        ticks = \"outside\",\n",
    "        showticklabels = True,\n",
    "        tickangle = 0,\n",
    "        tickfont = dict(\n",
    "            family = \"Arial\", size = 12, color = \"rgb(80,80,80)\"\n",
    "            ),\n",
    "        tickvals = [0,10,20],\n",
    "        tickwidth = 1,\n",
    "        showgrid = True,\n",
    "        gridcolor = 'rgb(80,80,80)',\n",
    "        gridwidth = 1,\n",
    "\n",
    "        autorange = False,\n",
    "        range = [-0.001,30]\n",
    "    )\n",
    ")\n",
    "\n",
    "# changing fig background color : \n",
    "fig = fig.update_layout(dict(\n",
    "    plot_bgcolor='rgb(255, 255, 255)',\n",
    "    paper_bgcolor='rgb(255, 255, 255)',\n",
    "))"
   ]
  },
  {
   "cell_type": "code",
   "execution_count": 214,
   "metadata": {},
   "outputs": [],
   "source": [
    "# Not implemented but might be interesting\n",
    "# fig.update_layout(dict(\n",
    "#     hovermode = \"closest\",\n",
    "#     xaxis = dict(showspikes = True)\n",
    "# ))"
   ]
  },
  {
   "cell_type": "code",
   "execution_count": 215,
   "metadata": {},
   "outputs": [],
   "source": [
    "# Adding a dropdown menu https://programminghistorian.org/en/lessons/interactive-visualization-with-plotly#adding-animations-dropdown-bars\n",
    "\n",
    "fig = fig.update_layout(\n",
    "    updatemenus=[\n",
    "        dict(\n",
    "            type = \"buttons\",\n",
    "            direction = \"left\",\n",
    "            pad = dict(r = 10, t = 10, b = 10, l = 10),  #Pad autour de l'objet\n",
    "            showactive = True, \n",
    "            xanchor = \"left\", yanchor = \"top\",\n",
    "            x = .05, y = 1.1,\n",
    "            buttons=list(\n",
    "                [ \n",
    "                    dict(\n",
    "                        label=\"Toutes les courbes\",                     \n",
    "                        method=\"update\",\n",
    "                        args=[\n",
    "                            {\n",
    "                                \"visible\": [\n",
    "                                    True, True,\n",
    "                                    True, True,\n",
    "                                    True, True,\n",
    "                                    True, True\n",
    "                                    ]\n",
    "                            },  # This 'view' show all three types of crime\n",
    "                            {\n",
    "                                \"title\": (\"Évolution de la proportion d'articles\"\n",
    "                                          \"publiés invoquant le thème du genre \"\n",
    "                                          \"(def extensive et statistique)\"),\n",
    "                            },\n",
    "                        ],\n",
    "                    ),\n",
    "                    dict(\n",
    "                        label=\"Toutes les revues\", \n",
    "                        method=\"update\",\n",
    "                        args=[\n",
    "                            {\n",
    "                                \"visible\": [\n",
    "                                    True, True,\n",
    "                                    False, False,\n",
    "                                    False, False,\n",
    "                                    False, False\n",
    "                                    ]\n",
    "                            },  # This 'view' show all three types of crime\n",
    "                            {\n",
    "                                \"title\": (\"Évolution de la proportion d'articles\"\n",
    "                                          \" publiés invoquant le thème du genre \"\n",
    "                                          \" (def extensive et statistique)\\n\"\n",
    "                                          \" Toutes les revues confondues\"),\n",
    "                            },\n",
    "                        ],\n",
    "                    ),\n",
    "                    dict(\n",
    "                        label=\"Revues spéciales\", \n",
    "                        method=\"update\",\n",
    "                        args=[\n",
    "                            {\n",
    "                                \"visible\": [\n",
    "                                    False, False,\n",
    "                                    True, True,\n",
    "                                    True, True,\n",
    "                                    True, True\n",
    "                                    ]\n",
    "                            },  # This 'view' show all three types of crime\n",
    "                            {\n",
    "                                \"title\": (\"Évolution de la proportion d'articles\"\n",
    "                                          \" publiés invoquant le thème du genre \"\n",
    "                                          \" (def extensive et statistique)\\n\"\n",
    "                                          \" ARSS, groupe TYPE et GENERALE\"),\n",
    "                            },\n",
    "                        ],\n",
    "                    ),\n",
    "                    dict(\n",
    "                        label=\"Définition extensive uniquement\", \n",
    "                        method=\"update\",\n",
    "                        args=[\n",
    "                            {\n",
    "                                \"visible\": [\n",
    "                                    True, False,\n",
    "                                    True, False,\n",
    "                                    True, False,\n",
    "                                    True, False\n",
    "                                    ]\n",
    "                            },  # This 'view' show all three types of crime\n",
    "                            {\n",
    "                                \"title\": (\"Évolution de la proportion d'articles\"\n",
    "                                          \" publiés invoquant le thème du genre \"\n",
    "                                          \" (def extensive)\"),\n",
    "                            },\n",
    "                        ],\n",
    "                    ),\n",
    "                    dict(\n",
    "                        label=\"Définition statistique uniquement\", \n",
    "                        method=\"update\",\n",
    "                        args=[\n",
    "                            {\n",
    "                                \"visible\": [\n",
    "                                    False, True,\n",
    "                                    False, True,\n",
    "                                    False, True,\n",
    "                                    False, True\n",
    "                                    ]\n",
    "                            },  # This 'view' show all three types of crime\n",
    "                            {\n",
    "                                \"title\": (\"Évolution de la proportion d'articles\"\n",
    "                                          \" publiés invoquant le thème du genre\"\n",
    "                                          \" (def statistique)\"),\n",
    "                            },\n",
    "                        ],\n",
    "                    ),\n",
    "                ]\n",
    "            )\n",
    "        )\n",
    "    ]\n",
    ")\n",
    "fig = fig.update_layout(dict(margin = dict(autoexpand = True)))\n",
    "# TODO check dimension des boutons "
   ]
  },
  {
   "cell_type": "code",
   "execution_count": 216,
   "metadata": {},
   "outputs": [],
   "source": [
    "# setting the dimentions\n",
    "fig = fig.update_layout(dict(height = 600, width = 1000))"
   ]
  },
  {
   "cell_type": "code",
   "execution_count": 217,
   "metadata": {},
   "outputs": [],
   "source": [
    "# Customise the legend\n",
    "fig = fig.update_layout(dict(\n",
    "    legend = dict(\n",
    "        bgcolor = 'rgba(230,230,230,0.6)',\n",
    "        title = dict(text = 'Données exposées', side = \"top center\",\n",
    "                     font = dict(color = \"red\", variant = \"all-small-caps\")),\n",
    "        itemdoubleclick = \"toggleothers\", itemclick = \"toggle\",\n",
    "        xanchor = \"left\", yanchor = \"bottom\",\n",
    "        x = 1.1, y = .5,\n",
    "        # width = 100, height = 100\n",
    "    )\n",
    "))"
   ]
  },
  {
   "cell_type": "code",
   "execution_count": 253,
   "metadata": {},
   "outputs": [],
   "source": [
    "# Fixing the hover information\n",
    "fig = fig.update_traces(hovertemplate ='%{y:.2f}\\\\%')\n",
    "# fig = fig.update_layout(hovermode=\"x\")\n",
    "fig = fig.update_layout(hovermode=\"x unified\")\n",
    "# NOTE might be worth reading\n",
    "# https://stackoverflow.com/questions/59057881/how-to-customize-hover-template-on-with-what-information-to-show\n",
    "\n",
    "# Customising hover\n",
    "fig = fig.update_layout(\n",
    "    hoverlabel = dict(\n",
    "        namelength = 0,\n",
    "        bgcolor = 'rgba(255,255,255,0.8)',\n",
    "        font = dict(\n",
    "            size = 12,\n",
    "            family = \"Arial\"),\n",
    "        grouptitlefont = dict(\n",
    "            color = \"red\")\n",
    "        # NOTE On peut créer des groupes, \n",
    "        # TODO à creuser\n",
    "\n",
    "))"
   ]
  },
  {
   "cell_type": "code",
   "execution_count": 254,
   "metadata": {},
   "outputs": [],
   "source": [
    "# change the names of the plots \n",
    "names_of_curves = [\n",
    "    'Toutes revues confondues (ext)',\n",
    "    'Toutes revues confondues (stat)',\n",
    "    'ARSS (ext)',\n",
    "    'ARSS (stat)',\n",
    "    'Revue TYPE (ext)',\n",
    "    'Revue TYPE (stat)',\n",
    "    'Revue GENERALE (ext)',\n",
    "    'Revue GENERALE (stat)',\n",
    "]\n",
    "\n",
    "for name, plot in zip(names_of_curves, fig.data):\n",
    "    plot.update(name = name)\n",
    "\n",
    "# change the colours of the plots \n",
    "colours_of_curves = [\n",
    "    '#3E50B6',\n",
    "    '#3E50B6',\n",
    "    '#29BD00',\n",
    "    '#29BD00',\n",
    "    '#F202D6',\n",
    "    '#F202D6',\n",
    "    '#F46E01',\n",
    "    '#F46E01',\n",
    "]\n",
    "\n",
    "for name,colour, plot in zip(names_of_curves,colours_of_curves, fig.data):\n",
    "    plot.update(name = name)\n",
    "    plot.update(line_color = colour)\n",
    "    plot.update(line_width = 2)"
   ]
  },
  {
   "cell_type": "markdown",
   "metadata": {},
   "source": [
    "# The plot"
   ]
  },
  {
   "cell_type": "code",
   "execution_count": 255,
   "metadata": {},
   "outputs": [
    {
     "data": {
      "application/vnd.plotly.v1+json": {
       "config": {
        "plotlyServerURL": "https://plot.ly"
       },
       "data": [
        {
         "hovertemplate": "%{y:.2f}\\%",
         "legendgroup": "Toutes , Définition extensive",
         "line": {
          "color": "#3E50B6",
          "dash": "solid",
          "width": 2
         },
         "marker": {
          "symbol": "circle"
         },
         "mode": "lines",
         "name": "Toutes revues confondues (ext)",
         "orientation": "v",
         "showlegend": true,
         "type": "scatter",
         "x": [
          2001,
          2002,
          2003,
          2004,
          2005,
          2006,
          2007,
          2008,
          2009,
          2010,
          2011,
          2012,
          2013,
          2014,
          2015,
          2016,
          2017,
          2018,
          2019,
          2020,
          2021,
          2022,
          2023
         ],
         "xaxis": "x",
         "y": [
          7.601184600197433,
          10.254163014899213,
          9.31899641577061,
          8.311518324607329,
          9.650259067357512,
          9.512893982808022,
          9.205867475973697,
          6.4500716674629714,
          10.21256931608133,
          8.185361628410567,
          8.379413015737985,
          11.15898319689789,
          8.82752376641014,
          8.702999577524292,
          9.347368421052632,
          9.67741935483871,
          10.932883073026593,
          8.860249697946033,
          10.437710437710438,
          10.715979137031768,
          11.10254433307633,
          12.056451612903226,
          13.463751438434981
         ],
         "yaxis": "y"
        },
        {
         "hovertemplate": "%{y:.2f}\\%",
         "legendgroup": "Toutes , Définition statistique",
         "line": {
          "color": "#3E50B6",
          "dash": "dot",
          "width": 2
         },
         "marker": {
          "symbol": "circle"
         },
         "mode": "lines",
         "name": "Toutes revues confondues (stat)",
         "orientation": "v",
         "showlegend": true,
         "type": "scatter",
         "x": [
          2001,
          2002,
          2003,
          2004,
          2005,
          2006,
          2007,
          2008,
          2009,
          2010,
          2011,
          2012,
          2013,
          2014,
          2015,
          2016,
          2017,
          2018,
          2019,
          2020,
          2021,
          2022,
          2023
         ],
         "xaxis": "x",
         "y": [
          0.19743336623889435,
          0.26292725679228746,
          0.7885304659498209,
          0.1963350785340314,
          0.38860103626943004,
          0.40114613180515757,
          0.25290844714213456,
          0.23889154323936934,
          0.36968576709796674,
          0.34647033347769596,
          0.340280731603573,
          0.7324429125376993,
          0.4526935264825713,
          0.38022813688212925,
          0.21052631578947367,
          0.282258064516129,
          0.33769523005487545,
          0.3221908981071285,
          0.42087542087542085,
          0.33191085822664773,
          0.30840400925212025,
          0.5241935483870969,
          0.23014959723820483
         ],
         "yaxis": "y"
        },
        {
         "hovertemplate": "%{y:.2f}\\%",
         "legendgroup": "ARSS, Définition extensive",
         "line": {
          "color": "#29BD00",
          "dash": "solid",
          "width": 2
         },
         "marker": {
          "symbol": "circle"
         },
         "mode": "lines",
         "name": "ARSS (ext)",
         "orientation": "v",
         "showlegend": true,
         "type": "scatter",
         "x": [
          2001,
          2002,
          2003,
          2004,
          2005,
          2006,
          2007,
          2008,
          2009,
          2010,
          2011,
          2012,
          2013,
          2014,
          2015,
          2016,
          2017,
          2018,
          2019,
          2020,
          2021,
          2022,
          2023
         ],
         "xaxis": "x",
         "y": [
          3.4482758620689653,
          7.142857142857142,
          0,
          7.6923076923076925,
          4.3478260869565215,
          0,
          15.384615384615385,
          5.88235294117647,
          3.4482758620689653,
          3.571428571428571,
          3.7037037037037033,
          8.695652173913043,
          14.285714285714285,
          4,
          10.714285714285714,
          24,
          21.73913043478261,
          28.57142857142857,
          0,
          6.25,
          16.666666666666664,
          12.5,
          20
         ],
         "yaxis": "y"
        },
        {
         "hovertemplate": "%{y:.2f}\\%",
         "legendgroup": "ARSS, Définition statistique",
         "line": {
          "color": "#29BD00",
          "dash": "dot",
          "width": 2
         },
         "marker": {
          "symbol": "circle"
         },
         "mode": "lines",
         "name": "ARSS (stat)",
         "orientation": "v",
         "showlegend": true,
         "type": "scatter",
         "x": [
          2001,
          2002,
          2003,
          2004,
          2005,
          2006,
          2007,
          2008,
          2009,
          2010,
          2011,
          2012,
          2013,
          2014,
          2015,
          2016,
          2017,
          2018,
          2019,
          2020,
          2021,
          2022,
          2023
         ],
         "xaxis": "x",
         "y": [
          0,
          0,
          0,
          0,
          0,
          0,
          0,
          0,
          0,
          0,
          0,
          0,
          0,
          0,
          0,
          0,
          0,
          0,
          0,
          0,
          0,
          0,
          0
         ],
         "yaxis": "y"
        },
        {
         "hovertemplate": "%{y:.2f}\\%",
         "legendgroup": "Revues TYPE, Définition extensive",
         "line": {
          "color": "#F202D6",
          "dash": "solid",
          "width": 2
         },
         "marker": {
          "symbol": "circle"
         },
         "mode": "lines",
         "name": "Revue TYPE (ext)",
         "orientation": "v",
         "showlegend": true,
         "type": "scatter",
         "x": [
          2001,
          2002,
          2003,
          2004,
          2005,
          2006,
          2007,
          2008,
          2009,
          2010,
          2011,
          2012,
          2013,
          2014,
          2015,
          2016,
          2017,
          2018,
          2019,
          2020,
          2021,
          2022,
          2023
         ],
         "xaxis": "x",
         "y": [
          5.1020408163265305,
          6.698564593301436,
          9.745762711864407,
          5.447470817120623,
          5.737704918032787,
          4.918032786885246,
          6.048387096774194,
          5.6000000000000005,
          6.859205776173286,
          8.992805755395683,
          9.540636042402827,
          9.057971014492754,
          15.019762845849801,
          5.033557046979865,
          9.05511811023622,
          12.318840579710146,
          13.127413127413126,
          12.863070539419086,
          11.522633744855968,
          9.424083769633508,
          8.906882591093117,
          11.162790697674419,
          20.18348623853211
         ],
         "yaxis": "y"
        },
        {
         "hovertemplate": "%{y:.2f}\\%",
         "legendgroup": "Revues TYPE, Définition statistique",
         "line": {
          "color": "#F202D6",
          "dash": "dot",
          "width": 2
         },
         "marker": {
          "symbol": "circle"
         },
         "mode": "lines",
         "name": "Revue TYPE (stat)",
         "orientation": "v",
         "showlegend": true,
         "type": "scatter",
         "x": [
          2001,
          2002,
          2003,
          2004,
          2005,
          2006,
          2007,
          2008,
          2009,
          2010,
          2011,
          2012,
          2013,
          2014,
          2015,
          2016,
          2017,
          2018,
          2019,
          2020,
          2021,
          2022,
          2023
         ],
         "xaxis": "x",
         "y": [
          0.5102040816326531,
          0.4784688995215311,
          2.9661016949152543,
          0.7782101167315175,
          1.639344262295082,
          1.639344262295082,
          0,
          1.2,
          0.36101083032490977,
          1.7985611510791366,
          1.0600706713780919,
          2.536231884057971,
          1.185770750988142,
          1.6778523489932886,
          0.7874015748031495,
          1.8115942028985508,
          1.1583011583011582,
          1.2448132780082988,
          2.880658436213992,
          1.5706806282722512,
          0.8097165991902834,
          2.7906976744186047,
          0.9174311926605505
         ],
         "yaxis": "y"
        },
        {
         "hovertemplate": "%{y:.2f}\\%",
         "legendgroup": "Revues GENERALES, Définition extensive",
         "line": {
          "color": "#F46E01",
          "dash": "solid",
          "width": 2
         },
         "marker": {
          "symbol": "circle"
         },
         "mode": "lines",
         "name": "Revue GENERALE (ext)",
         "orientation": "v",
         "showlegend": true,
         "type": "scatter",
         "x": [
          2001,
          2002,
          2003,
          2004,
          2005,
          2006,
          2007,
          2008,
          2009,
          2010,
          2011,
          2012,
          2013,
          2014,
          2015,
          2016,
          2017,
          2018,
          2019,
          2020,
          2021,
          2022,
          2023
         ],
         "xaxis": "x",
         "y": [
          4.819277108433735,
          3.7037037037037033,
          13.513513513513514,
          10.576923076923077,
          4.672897196261682,
          4.716981132075472,
          11.214953271028037,
          8.571428571428571,
          11.304347826086957,
          7.317073170731707,
          9.322033898305085,
          12.698412698412698,
          13.88888888888889,
          7.82608695652174,
          7.079646017699115,
          8.928571428571429,
          14.035087719298245,
          15.841584158415841,
          15.09433962264151,
          14.285714285714285,
          12.76595744680851,
          11.11111111111111,
          16.666666666666664
         ],
         "yaxis": "y"
        },
        {
         "hovertemplate": "%{y:.2f}\\%",
         "legendgroup": "Revues GENERALES, Définition statistique",
         "line": {
          "color": "#F46E01",
          "dash": "dot",
          "width": 2
         },
         "marker": {
          "symbol": "circle"
         },
         "mode": "lines",
         "name": "Revue GENERALE (stat)",
         "orientation": "v",
         "showlegend": true,
         "type": "scatter",
         "x": [
          2001,
          2002,
          2003,
          2004,
          2005,
          2006,
          2007,
          2008,
          2009,
          2010,
          2011,
          2012,
          2013,
          2014,
          2015,
          2016,
          2017,
          2018,
          2019,
          2020,
          2021,
          2022,
          2023
         ],
         "xaxis": "x",
         "y": [
          0,
          0,
          0.9009009009009009,
          0,
          0,
          0,
          0,
          0.9523809523809524,
          0,
          0,
          0,
          0,
          0,
          0,
          0,
          0.8928571428571428,
          0,
          0,
          0.9433962264150944,
          0,
          0,
          1.8518518518518516,
          1.8518518518518516
         ],
         "yaxis": "y"
        }
       ],
       "layout": {
        "height": 600,
        "hoverlabel": {
         "bgcolor": "rgba(255,255,255,0.8)",
         "font": {
          "family": "Arial",
          "size": 12
         },
         "grouptitlefont": {
          "color": "red"
         },
         "namelength": 0
        },
        "hovermode": "x unified",
        "legend": {
         "bgcolor": "rgba(230,230,230,0.6)",
         "itemclick": "toggle",
         "itemdoubleclick": "toggleothers",
         "title": {
          "font": {
           "color": "red",
           "variant": "all-small-caps"
          },
          "side": "top center",
          "text": "Données exposées"
         },
         "tracegroupgap": 0,
         "x": 1.1,
         "xanchor": "left",
         "y": 0.5,
         "yanchor": "bottom"
        },
        "margin": {
         "autoexpand": true,
         "t": 60
        },
        "paper_bgcolor": "rgb(255, 255, 255)",
        "plot_bgcolor": "rgb(255, 255, 255)",
        "template": {
         "data": {
          "bar": [
           {
            "error_x": {
             "color": "#2a3f5f"
            },
            "error_y": {
             "color": "#2a3f5f"
            },
            "marker": {
             "line": {
              "color": "#E5ECF6",
              "width": 0.5
             },
             "pattern": {
              "fillmode": "overlay",
              "size": 10,
              "solidity": 0.2
             }
            },
            "type": "bar"
           }
          ],
          "barpolar": [
           {
            "marker": {
             "line": {
              "color": "#E5ECF6",
              "width": 0.5
             },
             "pattern": {
              "fillmode": "overlay",
              "size": 10,
              "solidity": 0.2
             }
            },
            "type": "barpolar"
           }
          ],
          "carpet": [
           {
            "aaxis": {
             "endlinecolor": "#2a3f5f",
             "gridcolor": "white",
             "linecolor": "white",
             "minorgridcolor": "white",
             "startlinecolor": "#2a3f5f"
            },
            "baxis": {
             "endlinecolor": "#2a3f5f",
             "gridcolor": "white",
             "linecolor": "white",
             "minorgridcolor": "white",
             "startlinecolor": "#2a3f5f"
            },
            "type": "carpet"
           }
          ],
          "choropleth": [
           {
            "colorbar": {
             "outlinewidth": 0,
             "ticks": ""
            },
            "type": "choropleth"
           }
          ],
          "contour": [
           {
            "colorbar": {
             "outlinewidth": 0,
             "ticks": ""
            },
            "colorscale": [
             [
              0,
              "#0d0887"
             ],
             [
              0.1111111111111111,
              "#46039f"
             ],
             [
              0.2222222222222222,
              "#7201a8"
             ],
             [
              0.3333333333333333,
              "#9c179e"
             ],
             [
              0.4444444444444444,
              "#bd3786"
             ],
             [
              0.5555555555555556,
              "#d8576b"
             ],
             [
              0.6666666666666666,
              "#ed7953"
             ],
             [
              0.7777777777777778,
              "#fb9f3a"
             ],
             [
              0.8888888888888888,
              "#fdca26"
             ],
             [
              1,
              "#f0f921"
             ]
            ],
            "type": "contour"
           }
          ],
          "contourcarpet": [
           {
            "colorbar": {
             "outlinewidth": 0,
             "ticks": ""
            },
            "type": "contourcarpet"
           }
          ],
          "heatmap": [
           {
            "colorbar": {
             "outlinewidth": 0,
             "ticks": ""
            },
            "colorscale": [
             [
              0,
              "#0d0887"
             ],
             [
              0.1111111111111111,
              "#46039f"
             ],
             [
              0.2222222222222222,
              "#7201a8"
             ],
             [
              0.3333333333333333,
              "#9c179e"
             ],
             [
              0.4444444444444444,
              "#bd3786"
             ],
             [
              0.5555555555555556,
              "#d8576b"
             ],
             [
              0.6666666666666666,
              "#ed7953"
             ],
             [
              0.7777777777777778,
              "#fb9f3a"
             ],
             [
              0.8888888888888888,
              "#fdca26"
             ],
             [
              1,
              "#f0f921"
             ]
            ],
            "type": "heatmap"
           }
          ],
          "heatmapgl": [
           {
            "colorbar": {
             "outlinewidth": 0,
             "ticks": ""
            },
            "colorscale": [
             [
              0,
              "#0d0887"
             ],
             [
              0.1111111111111111,
              "#46039f"
             ],
             [
              0.2222222222222222,
              "#7201a8"
             ],
             [
              0.3333333333333333,
              "#9c179e"
             ],
             [
              0.4444444444444444,
              "#bd3786"
             ],
             [
              0.5555555555555556,
              "#d8576b"
             ],
             [
              0.6666666666666666,
              "#ed7953"
             ],
             [
              0.7777777777777778,
              "#fb9f3a"
             ],
             [
              0.8888888888888888,
              "#fdca26"
             ],
             [
              1,
              "#f0f921"
             ]
            ],
            "type": "heatmapgl"
           }
          ],
          "histogram": [
           {
            "marker": {
             "pattern": {
              "fillmode": "overlay",
              "size": 10,
              "solidity": 0.2
             }
            },
            "type": "histogram"
           }
          ],
          "histogram2d": [
           {
            "colorbar": {
             "outlinewidth": 0,
             "ticks": ""
            },
            "colorscale": [
             [
              0,
              "#0d0887"
             ],
             [
              0.1111111111111111,
              "#46039f"
             ],
             [
              0.2222222222222222,
              "#7201a8"
             ],
             [
              0.3333333333333333,
              "#9c179e"
             ],
             [
              0.4444444444444444,
              "#bd3786"
             ],
             [
              0.5555555555555556,
              "#d8576b"
             ],
             [
              0.6666666666666666,
              "#ed7953"
             ],
             [
              0.7777777777777778,
              "#fb9f3a"
             ],
             [
              0.8888888888888888,
              "#fdca26"
             ],
             [
              1,
              "#f0f921"
             ]
            ],
            "type": "histogram2d"
           }
          ],
          "histogram2dcontour": [
           {
            "colorbar": {
             "outlinewidth": 0,
             "ticks": ""
            },
            "colorscale": [
             [
              0,
              "#0d0887"
             ],
             [
              0.1111111111111111,
              "#46039f"
             ],
             [
              0.2222222222222222,
              "#7201a8"
             ],
             [
              0.3333333333333333,
              "#9c179e"
             ],
             [
              0.4444444444444444,
              "#bd3786"
             ],
             [
              0.5555555555555556,
              "#d8576b"
             ],
             [
              0.6666666666666666,
              "#ed7953"
             ],
             [
              0.7777777777777778,
              "#fb9f3a"
             ],
             [
              0.8888888888888888,
              "#fdca26"
             ],
             [
              1,
              "#f0f921"
             ]
            ],
            "type": "histogram2dcontour"
           }
          ],
          "mesh3d": [
           {
            "colorbar": {
             "outlinewidth": 0,
             "ticks": ""
            },
            "type": "mesh3d"
           }
          ],
          "parcoords": [
           {
            "line": {
             "colorbar": {
              "outlinewidth": 0,
              "ticks": ""
             }
            },
            "type": "parcoords"
           }
          ],
          "pie": [
           {
            "automargin": true,
            "type": "pie"
           }
          ],
          "scatter": [
           {
            "fillpattern": {
             "fillmode": "overlay",
             "size": 10,
             "solidity": 0.2
            },
            "type": "scatter"
           }
          ],
          "scatter3d": [
           {
            "line": {
             "colorbar": {
              "outlinewidth": 0,
              "ticks": ""
             }
            },
            "marker": {
             "colorbar": {
              "outlinewidth": 0,
              "ticks": ""
             }
            },
            "type": "scatter3d"
           }
          ],
          "scattercarpet": [
           {
            "marker": {
             "colorbar": {
              "outlinewidth": 0,
              "ticks": ""
             }
            },
            "type": "scattercarpet"
           }
          ],
          "scattergeo": [
           {
            "marker": {
             "colorbar": {
              "outlinewidth": 0,
              "ticks": ""
             }
            },
            "type": "scattergeo"
           }
          ],
          "scattergl": [
           {
            "marker": {
             "colorbar": {
              "outlinewidth": 0,
              "ticks": ""
             }
            },
            "type": "scattergl"
           }
          ],
          "scattermapbox": [
           {
            "marker": {
             "colorbar": {
              "outlinewidth": 0,
              "ticks": ""
             }
            },
            "type": "scattermapbox"
           }
          ],
          "scatterpolar": [
           {
            "marker": {
             "colorbar": {
              "outlinewidth": 0,
              "ticks": ""
             }
            },
            "type": "scatterpolar"
           }
          ],
          "scatterpolargl": [
           {
            "marker": {
             "colorbar": {
              "outlinewidth": 0,
              "ticks": ""
             }
            },
            "type": "scatterpolargl"
           }
          ],
          "scatterternary": [
           {
            "marker": {
             "colorbar": {
              "outlinewidth": 0,
              "ticks": ""
             }
            },
            "type": "scatterternary"
           }
          ],
          "surface": [
           {
            "colorbar": {
             "outlinewidth": 0,
             "ticks": ""
            },
            "colorscale": [
             [
              0,
              "#0d0887"
             ],
             [
              0.1111111111111111,
              "#46039f"
             ],
             [
              0.2222222222222222,
              "#7201a8"
             ],
             [
              0.3333333333333333,
              "#9c179e"
             ],
             [
              0.4444444444444444,
              "#bd3786"
             ],
             [
              0.5555555555555556,
              "#d8576b"
             ],
             [
              0.6666666666666666,
              "#ed7953"
             ],
             [
              0.7777777777777778,
              "#fb9f3a"
             ],
             [
              0.8888888888888888,
              "#fdca26"
             ],
             [
              1,
              "#f0f921"
             ]
            ],
            "type": "surface"
           }
          ],
          "table": [
           {
            "cells": {
             "fill": {
              "color": "#EBF0F8"
             },
             "line": {
              "color": "white"
             }
            },
            "header": {
             "fill": {
              "color": "#C8D4E3"
             },
             "line": {
              "color": "white"
             }
            },
            "type": "table"
           }
          ]
         },
         "layout": {
          "annotationdefaults": {
           "arrowcolor": "#2a3f5f",
           "arrowhead": 0,
           "arrowwidth": 1
          },
          "autotypenumbers": "strict",
          "coloraxis": {
           "colorbar": {
            "outlinewidth": 0,
            "ticks": ""
           }
          },
          "colorscale": {
           "diverging": [
            [
             0,
             "#8e0152"
            ],
            [
             0.1,
             "#c51b7d"
            ],
            [
             0.2,
             "#de77ae"
            ],
            [
             0.3,
             "#f1b6da"
            ],
            [
             0.4,
             "#fde0ef"
            ],
            [
             0.5,
             "#f7f7f7"
            ],
            [
             0.6,
             "#e6f5d0"
            ],
            [
             0.7,
             "#b8e186"
            ],
            [
             0.8,
             "#7fbc41"
            ],
            [
             0.9,
             "#4d9221"
            ],
            [
             1,
             "#276419"
            ]
           ],
           "sequential": [
            [
             0,
             "#0d0887"
            ],
            [
             0.1111111111111111,
             "#46039f"
            ],
            [
             0.2222222222222222,
             "#7201a8"
            ],
            [
             0.3333333333333333,
             "#9c179e"
            ],
            [
             0.4444444444444444,
             "#bd3786"
            ],
            [
             0.5555555555555556,
             "#d8576b"
            ],
            [
             0.6666666666666666,
             "#ed7953"
            ],
            [
             0.7777777777777778,
             "#fb9f3a"
            ],
            [
             0.8888888888888888,
             "#fdca26"
            ],
            [
             1,
             "#f0f921"
            ]
           ],
           "sequentialminus": [
            [
             0,
             "#0d0887"
            ],
            [
             0.1111111111111111,
             "#46039f"
            ],
            [
             0.2222222222222222,
             "#7201a8"
            ],
            [
             0.3333333333333333,
             "#9c179e"
            ],
            [
             0.4444444444444444,
             "#bd3786"
            ],
            [
             0.5555555555555556,
             "#d8576b"
            ],
            [
             0.6666666666666666,
             "#ed7953"
            ],
            [
             0.7777777777777778,
             "#fb9f3a"
            ],
            [
             0.8888888888888888,
             "#fdca26"
            ],
            [
             1,
             "#f0f921"
            ]
           ]
          },
          "colorway": [
           "#636efa",
           "#EF553B",
           "#00cc96",
           "#ab63fa",
           "#FFA15A",
           "#19d3f3",
           "#FF6692",
           "#B6E880",
           "#FF97FF",
           "#FECB52"
          ],
          "font": {
           "color": "#2a3f5f"
          },
          "geo": {
           "bgcolor": "white",
           "lakecolor": "white",
           "landcolor": "#E5ECF6",
           "showlakes": true,
           "showland": true,
           "subunitcolor": "white"
          },
          "hoverlabel": {
           "align": "left"
          },
          "hovermode": "closest",
          "mapbox": {
           "style": "light"
          },
          "paper_bgcolor": "white",
          "plot_bgcolor": "#E5ECF6",
          "polar": {
           "angularaxis": {
            "gridcolor": "white",
            "linecolor": "white",
            "ticks": ""
           },
           "bgcolor": "#E5ECF6",
           "radialaxis": {
            "gridcolor": "white",
            "linecolor": "white",
            "ticks": ""
           }
          },
          "scene": {
           "xaxis": {
            "backgroundcolor": "#E5ECF6",
            "gridcolor": "white",
            "gridwidth": 2,
            "linecolor": "white",
            "showbackground": true,
            "ticks": "",
            "zerolinecolor": "white"
           },
           "yaxis": {
            "backgroundcolor": "#E5ECF6",
            "gridcolor": "white",
            "gridwidth": 2,
            "linecolor": "white",
            "showbackground": true,
            "ticks": "",
            "zerolinecolor": "white"
           },
           "zaxis": {
            "backgroundcolor": "#E5ECF6",
            "gridcolor": "white",
            "gridwidth": 2,
            "linecolor": "white",
            "showbackground": true,
            "ticks": "",
            "zerolinecolor": "white"
           }
          },
          "shapedefaults": {
           "line": {
            "color": "#2a3f5f"
           }
          },
          "ternary": {
           "aaxis": {
            "gridcolor": "white",
            "linecolor": "white",
            "ticks": ""
           },
           "baxis": {
            "gridcolor": "white",
            "linecolor": "white",
            "ticks": ""
           },
           "bgcolor": "#E5ECF6",
           "caxis": {
            "gridcolor": "white",
            "linecolor": "white",
            "ticks": ""
           }
          },
          "title": {
           "x": 0.05
          },
          "xaxis": {
           "automargin": true,
           "gridcolor": "white",
           "linecolor": "white",
           "ticks": "",
           "title": {
            "standoff": 15
           },
           "zerolinecolor": "white",
           "zerolinewidth": 2
          },
          "yaxis": {
           "automargin": true,
           "gridcolor": "white",
           "linecolor": "white",
           "ticks": "",
           "title": {
            "standoff": 15
           },
           "zerolinecolor": "white",
           "zerolinewidth": 2
          }
         }
        },
        "title": {
         "automargin": true,
         "pad": {
          "b": 10,
          "l": 10,
          "r": 10,
          "t": 10
         },
         "text": "Évolution de la proportion d'articles publiés invoquant le thème du genre (def extensive et statistique)"
        },
        "updatemenus": [
         {
          "buttons": [
           {
            "args": [
             {
              "visible": [
               true,
               true,
               true,
               true,
               true,
               true,
               true,
               true
              ]
             },
             {
              "title": "Évolution de la proportion d'articlespubliés invoquant le thème du genre (def extensive et statistique)"
             }
            ],
            "label": "Toutes les courbes",
            "method": "update"
           },
           {
            "args": [
             {
              "visible": [
               true,
               true,
               false,
               false,
               false,
               false,
               false,
               false
              ]
             },
             {
              "title": "Évolution de la proportion d'articles publiés invoquant le thème du genre  (def extensive et statistique)\n Toutes les revues confondues"
             }
            ],
            "label": "Toutes les revues",
            "method": "update"
           },
           {
            "args": [
             {
              "visible": [
               false,
               false,
               true,
               true,
               true,
               true,
               true,
               true
              ]
             },
             {
              "title": "Évolution de la proportion d'articles publiés invoquant le thème du genre  (def extensive et statistique)\n ARSS, groupe TYPE et GENERALE"
             }
            ],
            "label": "Revues spéciales",
            "method": "update"
           },
           {
            "args": [
             {
              "visible": [
               true,
               false,
               true,
               false,
               true,
               false,
               true,
               false
              ]
             },
             {
              "title": "Évolution de la proportion d'articles publiés invoquant le thème du genre  (def extensive)"
             }
            ],
            "label": "Définition extensive uniquement",
            "method": "update"
           },
           {
            "args": [
             {
              "visible": [
               false,
               true,
               false,
               true,
               false,
               true,
               false,
               true
              ]
             },
             {
              "title": "Évolution de la proportion d'articles publiés invoquant le thème du genre (def statistique)"
             }
            ],
            "label": "Définition statistique uniquement",
            "method": "update"
           }
          ],
          "direction": "left",
          "pad": {
           "b": 10,
           "l": 10,
           "r": 10,
           "t": 10
          },
          "showactive": true,
          "type": "buttons",
          "x": 0.05,
          "xanchor": "left",
          "y": 1.1,
          "yanchor": "top"
         }
        ],
        "width": 1000,
        "xaxis": {
         "anchor": "y",
         "domain": [
          0,
          1
         ],
         "linecolor": "rgb(20,20,20)",
         "linewidth": 2,
         "showgrid": false,
         "showline": true,
         "showticklabels": true,
         "tickangle": 0,
         "tickfont": {
          "color": "rgb(80,80,80)",
          "family": "Arial",
          "size": 12
         },
         "ticks": "outside",
         "tickvals": [
          2004,
          2008,
          2012,
          2016,
          2020
         ],
         "title": {
          "text": "Année de publication"
         }
        },
        "yaxis": {
         "anchor": "x",
         "autorange": false,
         "domain": [
          0,
          1
         ],
         "gridcolor": "rgb(80,80,80)",
         "gridwidth": 1,
         "range": [
          -0.001,
          30
         ],
         "showgrid": true,
         "showline": false,
         "showticklabels": true,
         "tickangle": 0,
         "tickfont": {
          "color": "rgb(80,80,80)",
          "family": "Arial",
          "size": 12
         },
         "ticks": "outside",
         "ticksuffix": "%",
         "tickvals": [
          0,
          10,
          20
         ],
         "tickwidth": 1,
         "title": {
          "text": "Part des articles qui invoquent le concept du genre"
         }
        }
       }
      }
     },
     "metadata": {},
     "output_type": "display_data"
    }
   ],
   "source": [
    "fig.show()#{'responsive' : False})"
   ]
  },
  {
   "cell_type": "code",
   "execution_count": 223,
   "metadata": {},
   "outputs": [
    {
     "ename": "PlotlyKeyError",
     "evalue": "Invalid property specified for object of type plotly.graph_objs.Scatter: 'onclick'\n\nDid you mean \"line\"?\n\n    Valid properties:\n        alignmentgroup\n            Set several traces linked to the same position axis or\n            matching axes to the same alignmentgroup. This controls\n            whether bars compute their positional range dependently\n            or independently.\n        cliponaxis\n            Determines whether or not markers and text nodes are\n            clipped about the subplot axes. To show markers and\n            text nodes above axis lines and tick labels, make sure\n            to set `xaxis.layer` and `yaxis.layer` to *below\n            traces*.\n        connectgaps\n            Determines whether or not gaps (i.e. {nan} or missing\n            values) in the provided data arrays are connected.\n        customdata\n            Assigns extra data each datum. This may be useful when\n            listening to hover, click and selection events. Note\n            that, \"scatter\" traces also appends customdata items in\n            the markers DOM elements\n        customdatasrc\n            Sets the source reference on Chart Studio Cloud for\n            `customdata`.\n        dx\n            Sets the x coordinate step. See `x0` for more info.\n        dy\n            Sets the y coordinate step. See `y0` for more info.\n        error_x\n            :class:`plotly.graph_objects.scatter.ErrorX` instance\n            or dict with compatible properties\n        error_y\n            :class:`plotly.graph_objects.scatter.ErrorY` instance\n            or dict with compatible properties\n        fill\n            Sets the area to fill with a solid color. Defaults to\n            \"none\" unless this trace is stacked, then it gets\n            \"tonexty\" (\"tonextx\") if `orientation` is \"v\" (\"h\") Use\n            with `fillcolor` if not \"none\". \"tozerox\" and \"tozeroy\"\n            fill to x=0 and y=0 respectively. \"tonextx\" and\n            \"tonexty\" fill between the endpoints of this trace and\n            the endpoints of the trace before it, connecting those\n            endpoints with straight lines (to make a stacked area\n            graph); if there is no trace before it, they behave\n            like \"tozerox\" and \"tozeroy\". \"toself\" connects the\n            endpoints of the trace (or each segment of the trace if\n            it has gaps) into a closed shape. \"tonext\" fills the\n            space between two traces if one completely encloses the\n            other (eg consecutive contour lines), and behaves like\n            \"toself\" if there is no trace before it. \"tonext\"\n            should not be used if one trace does not enclose the\n            other. Traces in a `stackgroup` will only fill to (or\n            be filled to) other traces in the same group. With\n            multiple `stackgroup`s or some traces stacked and some\n            not, if fill-linked traces are not already consecutive,\n            the later ones will be pushed down in the drawing\n            order.\n        fillcolor\n            Sets the fill color. Defaults to a half-transparent\n            variant of the line color, marker color, or marker line\n            color, whichever is available. If fillgradient is\n            specified, fillcolor is ignored except for setting the\n            background color of the hover label, if any.\n        fillgradient\n            Sets a fill gradient. If not specified, the fillcolor\n            is used instead.\n        fillpattern\n            Sets the pattern within the marker.\n        groupnorm\n            Only relevant when `stackgroup` is used, and only the\n            first `groupnorm` found in the `stackgroup` will be\n            used - including if `visible` is \"legendonly\" but not\n            if it is `false`. Sets the normalization for the sum of\n            this `stackgroup`. With \"fraction\", the value of each\n            trace at each location is divided by the sum of all\n            trace values at that location. \"percent\" is the same\n            but multiplied by 100 to show percentages. If there are\n            multiple subplots, or multiple `stackgroup`s on one\n            subplot, each will be normalized within its own set.\n        hoverinfo\n            Determines which trace information appear on hover. If\n            `none` or `skip` are set, no information is displayed\n            upon hovering. But, if `none` is set, click and hover\n            events are still fired.\n        hoverinfosrc\n            Sets the source reference on Chart Studio Cloud for\n            `hoverinfo`.\n        hoverlabel\n            :class:`plotly.graph_objects.scatter.Hoverlabel`\n            instance or dict with compatible properties\n        hoveron\n            Do the hover effects highlight individual points\n            (markers or line points) or do they highlight filled\n            regions? If the fill is \"toself\" or \"tonext\" and there\n            are no markers or text, then the default is \"fills\",\n            otherwise it is \"points\".\n        hovertemplate\n            Template string used for rendering the information that\n            appear on hover box. Note that this will override\n            `hoverinfo`. Variables are inserted using %{variable},\n            for example \"y: %{y}\" as well as %{xother}, {%_xother},\n            {%_xother_}, {%xother_}. When showing info for several\n            points, \"xother\" will be added to those with different\n            x positions from the first point. An underscore before\n            or after \"(x|y)other\" will add a space on that side,\n            only when this field is shown. Numbers are formatted\n            using d3-format's syntax %{variable:d3-format}, for\n            example \"Price: %{y:$.2f}\".\n            https://github.com/d3/d3-format/tree/v1.4.5#d3-format\n            for details on the formatting syntax. Dates are\n            formatted using d3-time-format's syntax\n            %{variable|d3-time-format}, for example \"Day:\n            %{2019-01-01|%A}\". https://github.com/d3/d3-time-\n            format/tree/v2.2.3#locale_format for details on the\n            date formatting syntax. The variables available in\n            `hovertemplate` are the ones emitted as event data\n            described at this link\n            https://plotly.com/javascript/plotlyjs-events/#event-\n            data. Additionally, every attributes that can be\n            specified per-point (the ones that are `arrayOk: true`)\n            are available.  Anything contained in tag `<extra>` is\n            displayed in the secondary box, for example\n            \"<extra>{fullData.name}</extra>\". To hide the secondary\n            box completely, use an empty tag `<extra></extra>`.\n        hovertemplatesrc\n            Sets the source reference on Chart Studio Cloud for\n            `hovertemplate`.\n        hovertext\n            Sets hover text elements associated with each (x,y)\n            pair. If a single string, the same string appears over\n            all the data points. If an array of string, the items\n            are mapped in order to the this trace's (x,y)\n            coordinates. To be seen, trace `hoverinfo` must contain\n            a \"text\" flag.\n        hovertextsrc\n            Sets the source reference on Chart Studio Cloud for\n            `hovertext`.\n        ids\n            Assigns id labels to each datum. These ids for object\n            constancy of data points during animation. Should be an\n            array of strings, not numbers or any other type.\n        idssrc\n            Sets the source reference on Chart Studio Cloud for\n            `ids`.\n        legend\n            Sets the reference to a legend to show this trace in.\n            References to these legends are \"legend\", \"legend2\",\n            \"legend3\", etc. Settings for these legends are set in\n            the layout, under `layout.legend`, `layout.legend2`,\n            etc.\n        legendgroup\n            Sets the legend group for this trace. Traces and shapes\n            part of the same legend group hide/show at the same\n            time when toggling legend items.\n        legendgrouptitle\n            :class:`plotly.graph_objects.scatter.Legendgrouptitle`\n            instance or dict with compatible properties\n        legendrank\n            Sets the legend rank for this trace. Items and groups\n            with smaller ranks are presented on top/left side while\n            with \"reversed\" `legend.traceorder` they are on\n            bottom/right side. The default legendrank is 1000, so\n            that you can use ranks less than 1000 to place certain\n            items before all unranked items, and ranks greater than\n            1000 to go after all unranked items. When having\n            unranked or equal rank items shapes would be displayed\n            after traces i.e. according to their order in data and\n            layout.\n        legendwidth\n            Sets the width (in px or fraction) of the legend for\n            this trace.\n        line\n            :class:`plotly.graph_objects.scatter.Line` instance or\n            dict with compatible properties\n        marker\n            :class:`plotly.graph_objects.scatter.Marker` instance\n            or dict with compatible properties\n        meta\n            Assigns extra meta information associated with this\n            trace that can be used in various text attributes.\n            Attributes such as trace `name`, graph, axis and\n            colorbar `title.text`, annotation `text`\n            `rangeselector`, `updatemenues` and `sliders` `label`\n            text all support `meta`. To access the trace `meta`\n            values in an attribute in the same trace, simply use\n            `%{meta[i]}` where `i` is the index or key of the\n            `meta` item in question. To access trace `meta` in\n            layout attributes, use `%{data[n[.meta[i]}` where `i`\n            is the index or key of the `meta` and `n` is the trace\n            index.\n        metasrc\n            Sets the source reference on Chart Studio Cloud for\n            `meta`.\n        mode\n            Determines the drawing mode for this scatter trace. If\n            the provided `mode` includes \"text\" then the `text`\n            elements appear at the coordinates. Otherwise, the\n            `text` elements appear on hover. If there are less than\n            20 points and the trace is not stacked then the default\n            is \"lines+markers\". Otherwise, \"lines\".\n        name\n            Sets the trace name. The trace name appears as the\n            legend item and on hover.\n        offsetgroup\n            Set several traces linked to the same position axis or\n            matching axes to the same offsetgroup where bars of the\n            same position coordinate will line up.\n        opacity\n            Sets the opacity of the trace.\n        orientation\n            Only relevant in the following cases: 1. when\n            `scattermode` is set to \"group\". 2. when `stackgroup`\n            is used, and only the first `orientation` found in the\n            `stackgroup` will be used - including if `visible` is\n            \"legendonly\" but not if it is `false`. Sets the\n            stacking direction. With \"v\" (\"h\"), the y (x) values of\n            subsequent traces are added. Also affects the default\n            value of `fill`.\n        selected\n            :class:`plotly.graph_objects.scatter.Selected` instance\n            or dict with compatible properties\n        selectedpoints\n            Array containing integer indices of selected points.\n            Has an effect only for traces that support selections.\n            Note that an empty array means an empty selection where\n            the `unselected` are turned on for all points, whereas,\n            any other non-array values means no selection all where\n            the `selected` and `unselected` styles have no effect.\n        showlegend\n            Determines whether or not an item corresponding to this\n            trace is shown in the legend.\n        stackgaps\n            Only relevant when `stackgroup` is used, and only the\n            first `stackgaps` found in the `stackgroup` will be\n            used - including if `visible` is \"legendonly\" but not\n            if it is `false`. Determines how we handle locations at\n            which other traces in this group have data but this one\n            does not. With *infer zero* we insert a zero at these\n            locations. With \"interpolate\" we linearly interpolate\n            between existing values, and extrapolate a constant\n            beyond the existing values.\n        stackgroup\n            Set several scatter traces (on the same subplot) to the\n            same stackgroup in order to add their y values (or\n            their x values if `orientation` is \"h\"). If blank or\n            omitted this trace will not be stacked. Stacking also\n            turns `fill` on by default, using \"tonexty\" (\"tonextx\")\n            if `orientation` is \"h\" (\"v\") and sets the default\n            `mode` to \"lines\" irrespective of point count. You can\n            only stack on a numeric (linear or log) axis. Traces in\n            a `stackgroup` will only fill to (or be filled to)\n            other traces in the same group. With multiple\n            `stackgroup`s or some traces stacked and some not, if\n            fill-linked traces are not already consecutive, the\n            later ones will be pushed down in the drawing order.\n        stream\n            :class:`plotly.graph_objects.scatter.Stream` instance\n            or dict with compatible properties\n        text\n            Sets text elements associated with each (x,y) pair. If\n            a single string, the same string appears over all the\n            data points. If an array of string, the items are\n            mapped in order to the this trace's (x,y) coordinates.\n            If trace `hoverinfo` contains a \"text\" flag and\n            \"hovertext\" is not set, these elements will be seen in\n            the hover labels.\n        textfont\n            Sets the text font.\n        textposition\n            Sets the positions of the `text` elements with respects\n            to the (x,y) coordinates.\n        textpositionsrc\n            Sets the source reference on Chart Studio Cloud for\n            `textposition`.\n        textsrc\n            Sets the source reference on Chart Studio Cloud for\n            `text`.\n        texttemplate\n            Template string used for rendering the information text\n            that appear on points. Note that this will override\n            `textinfo`. Variables are inserted using %{variable},\n            for example \"y: %{y}\". Numbers are formatted using\n            d3-format's syntax %{variable:d3-format}, for example\n            \"Price: %{y:$.2f}\".\n            https://github.com/d3/d3-format/tree/v1.4.5#d3-format\n            for details on the formatting syntax. Dates are\n            formatted using d3-time-format's syntax\n            %{variable|d3-time-format}, for example \"Day:\n            %{2019-01-01|%A}\". https://github.com/d3/d3-time-\n            format/tree/v2.2.3#locale_format for details on the\n            date formatting syntax. Every attributes that can be\n            specified per-point (the ones that are `arrayOk: true`)\n            are available.\n        texttemplatesrc\n            Sets the source reference on Chart Studio Cloud for\n            `texttemplate`.\n        uid\n            Assign an id to this trace, Use this to provide object\n            constancy between traces during animations and\n            transitions.\n        uirevision\n            Controls persistence of some user-driven changes to the\n            trace: `constraintrange` in `parcoords` traces, as well\n            as some `editable: true` modifications such as `name`\n            and `colorbar.title`. Defaults to `layout.uirevision`.\n            Note that other user-driven trace attribute changes are\n            controlled by `layout` attributes: `trace.visible` is\n            controlled by `layout.legend.uirevision`,\n            `selectedpoints` is controlled by\n            `layout.selectionrevision`, and `colorbar.(x|y)`\n            (accessible with `config: {editable: true}`) is\n            controlled by `layout.editrevision`. Trace changes are\n            tracked by `uid`, which only falls back on trace index\n            if no `uid` is provided. So if your app can add/remove\n            traces before the end of the `data` array, such that\n            the same trace has a different index, you can still\n            preserve user-driven changes if you give each trace a\n            `uid` that stays with it as it moves.\n        unselected\n            :class:`plotly.graph_objects.scatter.Unselected`\n            instance or dict with compatible properties\n        visible\n            Determines whether or not this trace is visible. If\n            \"legendonly\", the trace is not drawn, but can appear as\n            a legend item (provided that the legend itself is\n            visible).\n        x\n            Sets the x coordinates.\n        x0\n            Alternate to `x`. Builds a linear space of x\n            coordinates. Use with `dx` where `x0` is the starting\n            coordinate and `dx` the step.\n        xaxis\n            Sets a reference between this trace's x coordinates and\n            a 2D cartesian x axis. If \"x\" (the default value), the\n            x coordinates refer to `layout.xaxis`. If \"x2\", the x\n            coordinates refer to `layout.xaxis2`, and so on.\n        xcalendar\n            Sets the calendar system to use with `x` date data.\n        xhoverformat\n            Sets the hover text formatting rulefor `x`  using d3\n            formatting mini-languages which are very similar to\n            those in Python. For numbers, see:\n            https://github.com/d3/d3-format/tree/v1.4.5#d3-format.\n            And for dates see: https://github.com/d3/d3-time-\n            format/tree/v2.2.3#locale_format. We add two items to\n            d3's date formatter: \"%h\" for half of the year as a\n            decimal number as well as \"%{n}f\" for fractional\n            seconds with n digits. For example, *2016-10-13\n            09:15:23.456* with tickformat \"%H~%M~%S.%2f\" would\n            display *09~15~23.46*By default the values are\n            formatted using `xaxis.hoverformat`.\n        xperiod\n            Only relevant when the axis `type` is \"date\". Sets the\n            period positioning in milliseconds or \"M<n>\" on the x\n            axis. Special values in the form of \"M<n>\" could be\n            used to declare the number of months. In this case `n`\n            must be a positive integer.\n        xperiod0\n            Only relevant when the axis `type` is \"date\". Sets the\n            base for period positioning in milliseconds or date\n            string on the x0 axis. When `x0period` is round number\n            of weeks, the `x0period0` by default would be on a\n            Sunday i.e. 2000-01-02, otherwise it would be at\n            2000-01-01.\n        xperiodalignment\n            Only relevant when the axis `type` is \"date\". Sets the\n            alignment of data points on the x axis.\n        xsrc\n            Sets the source reference on Chart Studio Cloud for\n            `x`.\n        y\n            Sets the y coordinates.\n        y0\n            Alternate to `y`. Builds a linear space of y\n            coordinates. Use with `dy` where `y0` is the starting\n            coordinate and `dy` the step.\n        yaxis\n            Sets a reference between this trace's y coordinates and\n            a 2D cartesian y axis. If \"y\" (the default value), the\n            y coordinates refer to `layout.yaxis`. If \"y2\", the y\n            coordinates refer to `layout.yaxis2`, and so on.\n        ycalendar\n            Sets the calendar system to use with `y` date data.\n        yhoverformat\n            Sets the hover text formatting rulefor `y`  using d3\n            formatting mini-languages which are very similar to\n            those in Python. For numbers, see:\n            https://github.com/d3/d3-format/tree/v1.4.5#d3-format.\n            And for dates see: https://github.com/d3/d3-time-\n            format/tree/v2.2.3#locale_format. We add two items to\n            d3's date formatter: \"%h\" for half of the year as a\n            decimal number as well as \"%{n}f\" for fractional\n            seconds with n digits. For example, *2016-10-13\n            09:15:23.456* with tickformat \"%H~%M~%S.%2f\" would\n            display *09~15~23.46*By default the values are\n            formatted using `yaxis.hoverformat`.\n        yperiod\n            Only relevant when the axis `type` is \"date\". Sets the\n            period positioning in milliseconds or \"M<n>\" on the y\n            axis. Special values in the form of \"M<n>\" could be\n            used to declare the number of months. In this case `n`\n            must be a positive integer.\n        yperiod0\n            Only relevant when the axis `type` is \"date\". Sets the\n            base for period positioning in milliseconds or date\n            string on the y0 axis. When `y0period` is round number\n            of weeks, the `y0period0` by default would be on a\n            Sunday i.e. 2000-01-02, otherwise it would be at\n            2000-01-01.\n        yperiodalignment\n            Only relevant when the axis `type` is \"date\". Sets the\n            alignment of data points on the y axis.\n        ysrc\n            Sets the source reference on Chart Studio Cloud for\n            `y`.\n        zorder\n            Sets the layer on which this trace is displayed,\n            relative to other SVG traces on the same subplot. SVG\n            traces with higher `zorder` appear in front of those\n            with lower `zorder`.\n        \nDid you mean \"line\"?\n",
     "output_type": "error",
     "traceback": [
      "\u001b[0;31m---------------------------------------------------------------------------\u001b[0m",
      "\u001b[0;31mPlotlyKeyError\u001b[0m                            Traceback (most recent call last)",
      "\u001b[1;32m/Users/axelmorin/Library/Mobile Documents/com~apple~CloudDocs/Axel_tout/Professionnel/Stages/TFE/CREST/workdirectory/Genre/dataVis/crest-first/scripts/notebooks/plottingWithNoFunction_Figure2.ipynb Cell 32\u001b[0m line \u001b[0;36m1\n\u001b[0;32m----> <a href='vscode-notebook-cell:/Users/axelmorin/Library/Mobile%20Documents/com~apple~CloudDocs/Axel_tout/Professionnel/Stages/TFE/CREST/workdirectory/Genre/dataVis/crest-first/scripts/notebooks/plottingWithNoFunction_Figure2.ipynb#X60sZmlsZQ%3D%3D?line=0'>1</a>\u001b[0m fig\u001b[39m.\u001b[39;49mdata[\u001b[39m0\u001b[39;49m][\u001b[39m'\u001b[39;49m\u001b[39monclick\u001b[39;49m\u001b[39m'\u001b[39;49m]\n",
      "File \u001b[0;32m/opt/miniconda3/envs/CREST/lib/python3.12/site-packages/plotly/basedatatypes.py:4713\u001b[0m, in \u001b[0;36mBasePlotlyType.__getitem__\u001b[0;34m(self, prop)\u001b[0m\n\u001b[1;32m   4711\u001b[0m prop \u001b[39m=\u001b[39m prop[\u001b[39m0\u001b[39m]\n\u001b[1;32m   4712\u001b[0m \u001b[39mif\u001b[39;00m prop \u001b[39mnot\u001b[39;00m \u001b[39min\u001b[39;00m \u001b[39mself\u001b[39m\u001b[39m.\u001b[39m_valid_props:\n\u001b[0;32m-> 4713\u001b[0m     \u001b[39mself\u001b[39;49m\u001b[39m.\u001b[39;49m_raise_on_invalid_property_error(_error_to_raise\u001b[39m=\u001b[39;49mPlotlyKeyError)(\n\u001b[1;32m   4714\u001b[0m         prop\n\u001b[1;32m   4715\u001b[0m     )\n\u001b[1;32m   4717\u001b[0m validator \u001b[39m=\u001b[39m \u001b[39mself\u001b[39m\u001b[39m.\u001b[39m_get_validator(prop)\n\u001b[1;32m   4719\u001b[0m \u001b[39mif\u001b[39;00m \u001b[39misinstance\u001b[39m(validator, CompoundValidator):\n",
      "File \u001b[0;32m/opt/miniconda3/envs/CREST/lib/python3.12/site-packages/plotly/basedatatypes.py:5087\u001b[0m, in \u001b[0;36mBasePlotlyType._raise_on_invalid_property_error.<locals>._ret\u001b[0;34m(*args)\u001b[0m\n\u001b[1;32m   5085\u001b[0m \u001b[39mif\u001b[39;00m guessed_prop \u001b[39mis\u001b[39;00m \u001b[39mnot\u001b[39;00m \u001b[39mNone\u001b[39;00m:\n\u001b[1;32m   5086\u001b[0m     guessed_prop_suggestion \u001b[39m=\u001b[39m \u001b[39m'\u001b[39m\u001b[39mDid you mean \u001b[39m\u001b[39m\"\u001b[39m\u001b[39m%s\u001b[39;00m\u001b[39m\"\u001b[39m\u001b[39m?\u001b[39m\u001b[39m'\u001b[39m \u001b[39m%\u001b[39m (guessed_prop,)\n\u001b[0;32m-> 5087\u001b[0m \u001b[39mraise\u001b[39;00m _error_to_raise(\n\u001b[1;32m   5088\u001b[0m     \u001b[39m\"\u001b[39m\u001b[39mInvalid \u001b[39m\u001b[39m{prop_str}\u001b[39;00m\u001b[39m specified for object of type \u001b[39m\u001b[39m\"\u001b[39m\n\u001b[1;32m   5089\u001b[0m     \u001b[39m\"\u001b[39m\u001b[39m{full_obj_name}\u001b[39;00m\u001b[39m: \u001b[39m\u001b[39m{invalid_str}\u001b[39;00m\u001b[39m\\n\u001b[39;00m\u001b[39m\"\u001b[39m\n\u001b[1;32m   5090\u001b[0m     \u001b[39m\"\u001b[39m\u001b[39m\\n\u001b[39;00m\u001b[39m{guessed_prop_suggestion}\u001b[39;00m\u001b[39m\\n\u001b[39;00m\u001b[39m\"\u001b[39m\n\u001b[1;32m   5091\u001b[0m     \u001b[39m\"\u001b[39m\u001b[39m\\n\u001b[39;00m\u001b[39m    Valid properties:\u001b[39m\u001b[39m\\n\u001b[39;00m\u001b[39m\"\u001b[39m\n\u001b[1;32m   5092\u001b[0m     \u001b[39m\"\u001b[39m\u001b[39m{prop_descriptions}\u001b[39;00m\u001b[39m\"\u001b[39m\n\u001b[1;32m   5093\u001b[0m     \u001b[39m\"\u001b[39m\u001b[39m\\n\u001b[39;00m\u001b[39m{guessed_prop_suggestion}\u001b[39;00m\u001b[39m\\n\u001b[39;00m\u001b[39m\"\u001b[39m\u001b[39m.\u001b[39mformat(\n\u001b[1;32m   5094\u001b[0m         prop_str\u001b[39m=\u001b[39mprop_str,\n\u001b[1;32m   5095\u001b[0m         full_obj_name\u001b[39m=\u001b[39mfull_obj_name,\n\u001b[1;32m   5096\u001b[0m         invalid_str\u001b[39m=\u001b[39minvalid_str,\n\u001b[1;32m   5097\u001b[0m         prop_descriptions\u001b[39m=\u001b[39m\u001b[39mself\u001b[39m\u001b[39m.\u001b[39m_prop_descriptions,\n\u001b[1;32m   5098\u001b[0m         guessed_prop_suggestion\u001b[39m=\u001b[39mguessed_prop_suggestion,\n\u001b[1;32m   5099\u001b[0m     )\n\u001b[1;32m   5100\u001b[0m )\n",
      "\u001b[0;31mPlotlyKeyError\u001b[0m: Invalid property specified for object of type plotly.graph_objs.Scatter: 'onclick'\n\nDid you mean \"line\"?\n\n    Valid properties:\n        alignmentgroup\n            Set several traces linked to the same position axis or\n            matching axes to the same alignmentgroup. This controls\n            whether bars compute their positional range dependently\n            or independently.\n        cliponaxis\n            Determines whether or not markers and text nodes are\n            clipped about the subplot axes. To show markers and\n            text nodes above axis lines and tick labels, make sure\n            to set `xaxis.layer` and `yaxis.layer` to *below\n            traces*.\n        connectgaps\n            Determines whether or not gaps (i.e. {nan} or missing\n            values) in the provided data arrays are connected.\n        customdata\n            Assigns extra data each datum. This may be useful when\n            listening to hover, click and selection events. Note\n            that, \"scatter\" traces also appends customdata items in\n            the markers DOM elements\n        customdatasrc\n            Sets the source reference on Chart Studio Cloud for\n            `customdata`.\n        dx\n            Sets the x coordinate step. See `x0` for more info.\n        dy\n            Sets the y coordinate step. See `y0` for more info.\n        error_x\n            :class:`plotly.graph_objects.scatter.ErrorX` instance\n            or dict with compatible properties\n        error_y\n            :class:`plotly.graph_objects.scatter.ErrorY` instance\n            or dict with compatible properties\n        fill\n            Sets the area to fill with a solid color. Defaults to\n            \"none\" unless this trace is stacked, then it gets\n            \"tonexty\" (\"tonextx\") if `orientation` is \"v\" (\"h\") Use\n            with `fillcolor` if not \"none\". \"tozerox\" and \"tozeroy\"\n            fill to x=0 and y=0 respectively. \"tonextx\" and\n            \"tonexty\" fill between the endpoints of this trace and\n            the endpoints of the trace before it, connecting those\n            endpoints with straight lines (to make a stacked area\n            graph); if there is no trace before it, they behave\n            like \"tozerox\" and \"tozeroy\". \"toself\" connects the\n            endpoints of the trace (or each segment of the trace if\n            it has gaps) into a closed shape. \"tonext\" fills the\n            space between two traces if one completely encloses the\n            other (eg consecutive contour lines), and behaves like\n            \"toself\" if there is no trace before it. \"tonext\"\n            should not be used if one trace does not enclose the\n            other. Traces in a `stackgroup` will only fill to (or\n            be filled to) other traces in the same group. With\n            multiple `stackgroup`s or some traces stacked and some\n            not, if fill-linked traces are not already consecutive,\n            the later ones will be pushed down in the drawing\n            order.\n        fillcolor\n            Sets the fill color. Defaults to a half-transparent\n            variant of the line color, marker color, or marker line\n            color, whichever is available. If fillgradient is\n            specified, fillcolor is ignored except for setting the\n            background color of the hover label, if any.\n        fillgradient\n            Sets a fill gradient. If not specified, the fillcolor\n            is used instead.\n        fillpattern\n            Sets the pattern within the marker.\n        groupnorm\n            Only relevant when `stackgroup` is used, and only the\n            first `groupnorm` found in the `stackgroup` will be\n            used - including if `visible` is \"legendonly\" but not\n            if it is `false`. Sets the normalization for the sum of\n            this `stackgroup`. With \"fraction\", the value of each\n            trace at each location is divided by the sum of all\n            trace values at that location. \"percent\" is the same\n            but multiplied by 100 to show percentages. If there are\n            multiple subplots, or multiple `stackgroup`s on one\n            subplot, each will be normalized within its own set.\n        hoverinfo\n            Determines which trace information appear on hover. If\n            `none` or `skip` are set, no information is displayed\n            upon hovering. But, if `none` is set, click and hover\n            events are still fired.\n        hoverinfosrc\n            Sets the source reference on Chart Studio Cloud for\n            `hoverinfo`.\n        hoverlabel\n            :class:`plotly.graph_objects.scatter.Hoverlabel`\n            instance or dict with compatible properties\n        hoveron\n            Do the hover effects highlight individual points\n            (markers or line points) or do they highlight filled\n            regions? If the fill is \"toself\" or \"tonext\" and there\n            are no markers or text, then the default is \"fills\",\n            otherwise it is \"points\".\n        hovertemplate\n            Template string used for rendering the information that\n            appear on hover box. Note that this will override\n            `hoverinfo`. Variables are inserted using %{variable},\n            for example \"y: %{y}\" as well as %{xother}, {%_xother},\n            {%_xother_}, {%xother_}. When showing info for several\n            points, \"xother\" will be added to those with different\n            x positions from the first point. An underscore before\n            or after \"(x|y)other\" will add a space on that side,\n            only when this field is shown. Numbers are formatted\n            using d3-format's syntax %{variable:d3-format}, for\n            example \"Price: %{y:$.2f}\".\n            https://github.com/d3/d3-format/tree/v1.4.5#d3-format\n            for details on the formatting syntax. Dates are\n            formatted using d3-time-format's syntax\n            %{variable|d3-time-format}, for example \"Day:\n            %{2019-01-01|%A}\". https://github.com/d3/d3-time-\n            format/tree/v2.2.3#locale_format for details on the\n            date formatting syntax. The variables available in\n            `hovertemplate` are the ones emitted as event data\n            described at this link\n            https://plotly.com/javascript/plotlyjs-events/#event-\n            data. Additionally, every attributes that can be\n            specified per-point (the ones that are `arrayOk: true`)\n            are available.  Anything contained in tag `<extra>` is\n            displayed in the secondary box, for example\n            \"<extra>{fullData.name}</extra>\". To hide the secondary\n            box completely, use an empty tag `<extra></extra>`.\n        hovertemplatesrc\n            Sets the source reference on Chart Studio Cloud for\n            `hovertemplate`.\n        hovertext\n            Sets hover text elements associated with each (x,y)\n            pair. If a single string, the same string appears over\n            all the data points. If an array of string, the items\n            are mapped in order to the this trace's (x,y)\n            coordinates. To be seen, trace `hoverinfo` must contain\n            a \"text\" flag.\n        hovertextsrc\n            Sets the source reference on Chart Studio Cloud for\n            `hovertext`.\n        ids\n            Assigns id labels to each datum. These ids for object\n            constancy of data points during animation. Should be an\n            array of strings, not numbers or any other type.\n        idssrc\n            Sets the source reference on Chart Studio Cloud for\n            `ids`.\n        legend\n            Sets the reference to a legend to show this trace in.\n            References to these legends are \"legend\", \"legend2\",\n            \"legend3\", etc. Settings for these legends are set in\n            the layout, under `layout.legend`, `layout.legend2`,\n            etc.\n        legendgroup\n            Sets the legend group for this trace. Traces and shapes\n            part of the same legend group hide/show at the same\n            time when toggling legend items.\n        legendgrouptitle\n            :class:`plotly.graph_objects.scatter.Legendgrouptitle`\n            instance or dict with compatible properties\n        legendrank\n            Sets the legend rank for this trace. Items and groups\n            with smaller ranks are presented on top/left side while\n            with \"reversed\" `legend.traceorder` they are on\n            bottom/right side. The default legendrank is 1000, so\n            that you can use ranks less than 1000 to place certain\n            items before all unranked items, and ranks greater than\n            1000 to go after all unranked items. When having\n            unranked or equal rank items shapes would be displayed\n            after traces i.e. according to their order in data and\n            layout.\n        legendwidth\n            Sets the width (in px or fraction) of the legend for\n            this trace.\n        line\n            :class:`plotly.graph_objects.scatter.Line` instance or\n            dict with compatible properties\n        marker\n            :class:`plotly.graph_objects.scatter.Marker` instance\n            or dict with compatible properties\n        meta\n            Assigns extra meta information associated with this\n            trace that can be used in various text attributes.\n            Attributes such as trace `name`, graph, axis and\n            colorbar `title.text`, annotation `text`\n            `rangeselector`, `updatemenues` and `sliders` `label`\n            text all support `meta`. To access the trace `meta`\n            values in an attribute in the same trace, simply use\n            `%{meta[i]}` where `i` is the index or key of the\n            `meta` item in question. To access trace `meta` in\n            layout attributes, use `%{data[n[.meta[i]}` where `i`\n            is the index or key of the `meta` and `n` is the trace\n            index.\n        metasrc\n            Sets the source reference on Chart Studio Cloud for\n            `meta`.\n        mode\n            Determines the drawing mode for this scatter trace. If\n            the provided `mode` includes \"text\" then the `text`\n            elements appear at the coordinates. Otherwise, the\n            `text` elements appear on hover. If there are less than\n            20 points and the trace is not stacked then the default\n            is \"lines+markers\". Otherwise, \"lines\".\n        name\n            Sets the trace name. The trace name appears as the\n            legend item and on hover.\n        offsetgroup\n            Set several traces linked to the same position axis or\n            matching axes to the same offsetgroup where bars of the\n            same position coordinate will line up.\n        opacity\n            Sets the opacity of the trace.\n        orientation\n            Only relevant in the following cases: 1. when\n            `scattermode` is set to \"group\". 2. when `stackgroup`\n            is used, and only the first `orientation` found in the\n            `stackgroup` will be used - including if `visible` is\n            \"legendonly\" but not if it is `false`. Sets the\n            stacking direction. With \"v\" (\"h\"), the y (x) values of\n            subsequent traces are added. Also affects the default\n            value of `fill`.\n        selected\n            :class:`plotly.graph_objects.scatter.Selected` instance\n            or dict with compatible properties\n        selectedpoints\n            Array containing integer indices of selected points.\n            Has an effect only for traces that support selections.\n            Note that an empty array means an empty selection where\n            the `unselected` are turned on for all points, whereas,\n            any other non-array values means no selection all where\n            the `selected` and `unselected` styles have no effect.\n        showlegend\n            Determines whether or not an item corresponding to this\n            trace is shown in the legend.\n        stackgaps\n            Only relevant when `stackgroup` is used, and only the\n            first `stackgaps` found in the `stackgroup` will be\n            used - including if `visible` is \"legendonly\" but not\n            if it is `false`. Determines how we handle locations at\n            which other traces in this group have data but this one\n            does not. With *infer zero* we insert a zero at these\n            locations. With \"interpolate\" we linearly interpolate\n            between existing values, and extrapolate a constant\n            beyond the existing values.\n        stackgroup\n            Set several scatter traces (on the same subplot) to the\n            same stackgroup in order to add their y values (or\n            their x values if `orientation` is \"h\"). If blank or\n            omitted this trace will not be stacked. Stacking also\n            turns `fill` on by default, using \"tonexty\" (\"tonextx\")\n            if `orientation` is \"h\" (\"v\") and sets the default\n            `mode` to \"lines\" irrespective of point count. You can\n            only stack on a numeric (linear or log) axis. Traces in\n            a `stackgroup` will only fill to (or be filled to)\n            other traces in the same group. With multiple\n            `stackgroup`s or some traces stacked and some not, if\n            fill-linked traces are not already consecutive, the\n            later ones will be pushed down in the drawing order.\n        stream\n            :class:`plotly.graph_objects.scatter.Stream` instance\n            or dict with compatible properties\n        text\n            Sets text elements associated with each (x,y) pair. If\n            a single string, the same string appears over all the\n            data points. If an array of string, the items are\n            mapped in order to the this trace's (x,y) coordinates.\n            If trace `hoverinfo` contains a \"text\" flag and\n            \"hovertext\" is not set, these elements will be seen in\n            the hover labels.\n        textfont\n            Sets the text font.\n        textposition\n            Sets the positions of the `text` elements with respects\n            to the (x,y) coordinates.\n        textpositionsrc\n            Sets the source reference on Chart Studio Cloud for\n            `textposition`.\n        textsrc\n            Sets the source reference on Chart Studio Cloud for\n            `text`.\n        texttemplate\n            Template string used for rendering the information text\n            that appear on points. Note that this will override\n            `textinfo`. Variables are inserted using %{variable},\n            for example \"y: %{y}\". Numbers are formatted using\n            d3-format's syntax %{variable:d3-format}, for example\n            \"Price: %{y:$.2f}\".\n            https://github.com/d3/d3-format/tree/v1.4.5#d3-format\n            for details on the formatting syntax. Dates are\n            formatted using d3-time-format's syntax\n            %{variable|d3-time-format}, for example \"Day:\n            %{2019-01-01|%A}\". https://github.com/d3/d3-time-\n            format/tree/v2.2.3#locale_format for details on the\n            date formatting syntax. Every attributes that can be\n            specified per-point (the ones that are `arrayOk: true`)\n            are available.\n        texttemplatesrc\n            Sets the source reference on Chart Studio Cloud for\n            `texttemplate`.\n        uid\n            Assign an id to this trace, Use this to provide object\n            constancy between traces during animations and\n            transitions.\n        uirevision\n            Controls persistence of some user-driven changes to the\n            trace: `constraintrange` in `parcoords` traces, as well\n            as some `editable: true` modifications such as `name`\n            and `colorbar.title`. Defaults to `layout.uirevision`.\n            Note that other user-driven trace attribute changes are\n            controlled by `layout` attributes: `trace.visible` is\n            controlled by `layout.legend.uirevision`,\n            `selectedpoints` is controlled by\n            `layout.selectionrevision`, and `colorbar.(x|y)`\n            (accessible with `config: {editable: true}`) is\n            controlled by `layout.editrevision`. Trace changes are\n            tracked by `uid`, which only falls back on trace index\n            if no `uid` is provided. So if your app can add/remove\n            traces before the end of the `data` array, such that\n            the same trace has a different index, you can still\n            preserve user-driven changes if you give each trace a\n            `uid` that stays with it as it moves.\n        unselected\n            :class:`plotly.graph_objects.scatter.Unselected`\n            instance or dict with compatible properties\n        visible\n            Determines whether or not this trace is visible. If\n            \"legendonly\", the trace is not drawn, but can appear as\n            a legend item (provided that the legend itself is\n            visible).\n        x\n            Sets the x coordinates.\n        x0\n            Alternate to `x`. Builds a linear space of x\n            coordinates. Use with `dx` where `x0` is the starting\n            coordinate and `dx` the step.\n        xaxis\n            Sets a reference between this trace's x coordinates and\n            a 2D cartesian x axis. If \"x\" (the default value), the\n            x coordinates refer to `layout.xaxis`. If \"x2\", the x\n            coordinates refer to `layout.xaxis2`, and so on.\n        xcalendar\n            Sets the calendar system to use with `x` date data.\n        xhoverformat\n            Sets the hover text formatting rulefor `x`  using d3\n            formatting mini-languages which are very similar to\n            those in Python. For numbers, see:\n            https://github.com/d3/d3-format/tree/v1.4.5#d3-format.\n            And for dates see: https://github.com/d3/d3-time-\n            format/tree/v2.2.3#locale_format. We add two items to\n            d3's date formatter: \"%h\" for half of the year as a\n            decimal number as well as \"%{n}f\" for fractional\n            seconds with n digits. For example, *2016-10-13\n            09:15:23.456* with tickformat \"%H~%M~%S.%2f\" would\n            display *09~15~23.46*By default the values are\n            formatted using `xaxis.hoverformat`.\n        xperiod\n            Only relevant when the axis `type` is \"date\". Sets the\n            period positioning in milliseconds or \"M<n>\" on the x\n            axis. Special values in the form of \"M<n>\" could be\n            used to declare the number of months. In this case `n`\n            must be a positive integer.\n        xperiod0\n            Only relevant when the axis `type` is \"date\". Sets the\n            base for period positioning in milliseconds or date\n            string on the x0 axis. When `x0period` is round number\n            of weeks, the `x0period0` by default would be on a\n            Sunday i.e. 2000-01-02, otherwise it would be at\n            2000-01-01.\n        xperiodalignment\n            Only relevant when the axis `type` is \"date\". Sets the\n            alignment of data points on the x axis.\n        xsrc\n            Sets the source reference on Chart Studio Cloud for\n            `x`.\n        y\n            Sets the y coordinates.\n        y0\n            Alternate to `y`. Builds a linear space of y\n            coordinates. Use with `dy` where `y0` is the starting\n            coordinate and `dy` the step.\n        yaxis\n            Sets a reference between this trace's y coordinates and\n            a 2D cartesian y axis. If \"y\" (the default value), the\n            y coordinates refer to `layout.yaxis`. If \"y2\", the y\n            coordinates refer to `layout.yaxis2`, and so on.\n        ycalendar\n            Sets the calendar system to use with `y` date data.\n        yhoverformat\n            Sets the hover text formatting rulefor `y`  using d3\n            formatting mini-languages which are very similar to\n            those in Python. For numbers, see:\n            https://github.com/d3/d3-format/tree/v1.4.5#d3-format.\n            And for dates see: https://github.com/d3/d3-time-\n            format/tree/v2.2.3#locale_format. We add two items to\n            d3's date formatter: \"%h\" for half of the year as a\n            decimal number as well as \"%{n}f\" for fractional\n            seconds with n digits. For example, *2016-10-13\n            09:15:23.456* with tickformat \"%H~%M~%S.%2f\" would\n            display *09~15~23.46*By default the values are\n            formatted using `yaxis.hoverformat`.\n        yperiod\n            Only relevant when the axis `type` is \"date\". Sets the\n            period positioning in milliseconds or \"M<n>\" on the y\n            axis. Special values in the form of \"M<n>\" could be\n            used to declare the number of months. In this case `n`\n            must be a positive integer.\n        yperiod0\n            Only relevant when the axis `type` is \"date\". Sets the\n            base for period positioning in milliseconds or date\n            string on the y0 axis. When `y0period` is round number\n            of weeks, the `y0period0` by default would be on a\n            Sunday i.e. 2000-01-02, otherwise it would be at\n            2000-01-01.\n        yperiodalignment\n            Only relevant when the axis `type` is \"date\". Sets the\n            alignment of data points on the y axis.\n        ysrc\n            Sets the source reference on Chart Studio Cloud for\n            `y`.\n        zorder\n            Sets the layer on which this trace is displayed,\n            relative to other SVG traces on the same subplot. SVG\n            traces with higher `zorder` appear in front of those\n            with lower `zorder`.\n        \nDid you mean \"line\"?\n"
     ]
    }
   ],
   "source": [
    "fig.data[0]['onclick']"
   ]
  },
  {
   "cell_type": "code",
   "execution_count": null,
   "metadata": {},
   "outputs": [],
   "source": [
    "double click pour griser plutôt que faire disparaitre "
   ]
  },
  {
   "cell_type": "code",
   "execution_count": 56,
   "metadata": {},
   "outputs": [],
   "source": [
    "with open('test.html','w') as file:\n",
    "    file.write(fig.to_html())"
   ]
  },
  {
   "cell_type": "code",
   "execution_count": null,
   "metadata": {},
   "outputs": [],
   "source": [
    "# https://plotly.com/python/interactive-html-export/#full-parameter-documentation\n",
    "fig.write_html('test_.html', include_plotlyjs = False)"
   ]
  },
  {
   "cell_type": "code",
   "execution_count": null,
   "metadata": {},
   "outputs": [],
   "source": [
    "fig.data[0].update(name = 'A')"
   ]
  },
  {
   "cell_type": "code",
   "execution_count": null,
   "metadata": {},
   "outputs": [],
   "source": [
    "'width' in fig.data[0]"
   ]
  },
  {
   "cell_type": "code",
   "execution_count": 180,
   "metadata": {},
   "outputs": [
    {
     "data": {
      "application/vnd.plotly.v1+json": {
       "config": {
        "linkText": "Export to plot.ly",
        "plotlyServerURL": "https://plot.ly",
        "showLink": false
       },
       "data": [
        {
         "line": {
          "color": "red"
         },
         "name": "firsttrace",
         "type": "scatter",
         "y": [
          1,
          1,
          1
         ]
        },
        {
         "line": {
          "color": "blue"
         },
         "name": "Secondttrace",
         "type": "scatter",
         "y": [
          2,
          2,
          2
         ]
        },
        {
         "line": {
          "color": "purple"
         },
         "name": "Thirdtrace",
         "type": "scatter",
         "y": [
          3,
          3,
          3
         ]
        },
        {
         "line": {
          "color": "gray"
         },
         "name": "Forthtrace",
         "type": "scatter",
         "y": [
          4,
          4,
          4
         ]
        }
       ],
       "layout": {
        "template": {
         "data": {
          "bar": [
           {
            "error_x": {
             "color": "#2a3f5f"
            },
            "error_y": {
             "color": "#2a3f5f"
            },
            "marker": {
             "line": {
              "color": "#E5ECF6",
              "width": 0.5
             },
             "pattern": {
              "fillmode": "overlay",
              "size": 10,
              "solidity": 0.2
             }
            },
            "type": "bar"
           }
          ],
          "barpolar": [
           {
            "marker": {
             "line": {
              "color": "#E5ECF6",
              "width": 0.5
             },
             "pattern": {
              "fillmode": "overlay",
              "size": 10,
              "solidity": 0.2
             }
            },
            "type": "barpolar"
           }
          ],
          "carpet": [
           {
            "aaxis": {
             "endlinecolor": "#2a3f5f",
             "gridcolor": "white",
             "linecolor": "white",
             "minorgridcolor": "white",
             "startlinecolor": "#2a3f5f"
            },
            "baxis": {
             "endlinecolor": "#2a3f5f",
             "gridcolor": "white",
             "linecolor": "white",
             "minorgridcolor": "white",
             "startlinecolor": "#2a3f5f"
            },
            "type": "carpet"
           }
          ],
          "choropleth": [
           {
            "colorbar": {
             "outlinewidth": 0,
             "ticks": ""
            },
            "type": "choropleth"
           }
          ],
          "contour": [
           {
            "colorbar": {
             "outlinewidth": 0,
             "ticks": ""
            },
            "colorscale": [
             [
              0,
              "#0d0887"
             ],
             [
              0.1111111111111111,
              "#46039f"
             ],
             [
              0.2222222222222222,
              "#7201a8"
             ],
             [
              0.3333333333333333,
              "#9c179e"
             ],
             [
              0.4444444444444444,
              "#bd3786"
             ],
             [
              0.5555555555555556,
              "#d8576b"
             ],
             [
              0.6666666666666666,
              "#ed7953"
             ],
             [
              0.7777777777777778,
              "#fb9f3a"
             ],
             [
              0.8888888888888888,
              "#fdca26"
             ],
             [
              1,
              "#f0f921"
             ]
            ],
            "type": "contour"
           }
          ],
          "contourcarpet": [
           {
            "colorbar": {
             "outlinewidth": 0,
             "ticks": ""
            },
            "type": "contourcarpet"
           }
          ],
          "heatmap": [
           {
            "colorbar": {
             "outlinewidth": 0,
             "ticks": ""
            },
            "colorscale": [
             [
              0,
              "#0d0887"
             ],
             [
              0.1111111111111111,
              "#46039f"
             ],
             [
              0.2222222222222222,
              "#7201a8"
             ],
             [
              0.3333333333333333,
              "#9c179e"
             ],
             [
              0.4444444444444444,
              "#bd3786"
             ],
             [
              0.5555555555555556,
              "#d8576b"
             ],
             [
              0.6666666666666666,
              "#ed7953"
             ],
             [
              0.7777777777777778,
              "#fb9f3a"
             ],
             [
              0.8888888888888888,
              "#fdca26"
             ],
             [
              1,
              "#f0f921"
             ]
            ],
            "type": "heatmap"
           }
          ],
          "heatmapgl": [
           {
            "colorbar": {
             "outlinewidth": 0,
             "ticks": ""
            },
            "colorscale": [
             [
              0,
              "#0d0887"
             ],
             [
              0.1111111111111111,
              "#46039f"
             ],
             [
              0.2222222222222222,
              "#7201a8"
             ],
             [
              0.3333333333333333,
              "#9c179e"
             ],
             [
              0.4444444444444444,
              "#bd3786"
             ],
             [
              0.5555555555555556,
              "#d8576b"
             ],
             [
              0.6666666666666666,
              "#ed7953"
             ],
             [
              0.7777777777777778,
              "#fb9f3a"
             ],
             [
              0.8888888888888888,
              "#fdca26"
             ],
             [
              1,
              "#f0f921"
             ]
            ],
            "type": "heatmapgl"
           }
          ],
          "histogram": [
           {
            "marker": {
             "pattern": {
              "fillmode": "overlay",
              "size": 10,
              "solidity": 0.2
             }
            },
            "type": "histogram"
           }
          ],
          "histogram2d": [
           {
            "colorbar": {
             "outlinewidth": 0,
             "ticks": ""
            },
            "colorscale": [
             [
              0,
              "#0d0887"
             ],
             [
              0.1111111111111111,
              "#46039f"
             ],
             [
              0.2222222222222222,
              "#7201a8"
             ],
             [
              0.3333333333333333,
              "#9c179e"
             ],
             [
              0.4444444444444444,
              "#bd3786"
             ],
             [
              0.5555555555555556,
              "#d8576b"
             ],
             [
              0.6666666666666666,
              "#ed7953"
             ],
             [
              0.7777777777777778,
              "#fb9f3a"
             ],
             [
              0.8888888888888888,
              "#fdca26"
             ],
             [
              1,
              "#f0f921"
             ]
            ],
            "type": "histogram2d"
           }
          ],
          "histogram2dcontour": [
           {
            "colorbar": {
             "outlinewidth": 0,
             "ticks": ""
            },
            "colorscale": [
             [
              0,
              "#0d0887"
             ],
             [
              0.1111111111111111,
              "#46039f"
             ],
             [
              0.2222222222222222,
              "#7201a8"
             ],
             [
              0.3333333333333333,
              "#9c179e"
             ],
             [
              0.4444444444444444,
              "#bd3786"
             ],
             [
              0.5555555555555556,
              "#d8576b"
             ],
             [
              0.6666666666666666,
              "#ed7953"
             ],
             [
              0.7777777777777778,
              "#fb9f3a"
             ],
             [
              0.8888888888888888,
              "#fdca26"
             ],
             [
              1,
              "#f0f921"
             ]
            ],
            "type": "histogram2dcontour"
           }
          ],
          "mesh3d": [
           {
            "colorbar": {
             "outlinewidth": 0,
             "ticks": ""
            },
            "type": "mesh3d"
           }
          ],
          "parcoords": [
           {
            "line": {
             "colorbar": {
              "outlinewidth": 0,
              "ticks": ""
             }
            },
            "type": "parcoords"
           }
          ],
          "pie": [
           {
            "automargin": true,
            "type": "pie"
           }
          ],
          "scatter": [
           {
            "fillpattern": {
             "fillmode": "overlay",
             "size": 10,
             "solidity": 0.2
            },
            "type": "scatter"
           }
          ],
          "scatter3d": [
           {
            "line": {
             "colorbar": {
              "outlinewidth": 0,
              "ticks": ""
             }
            },
            "marker": {
             "colorbar": {
              "outlinewidth": 0,
              "ticks": ""
             }
            },
            "type": "scatter3d"
           }
          ],
          "scattercarpet": [
           {
            "marker": {
             "colorbar": {
              "outlinewidth": 0,
              "ticks": ""
             }
            },
            "type": "scattercarpet"
           }
          ],
          "scattergeo": [
           {
            "marker": {
             "colorbar": {
              "outlinewidth": 0,
              "ticks": ""
             }
            },
            "type": "scattergeo"
           }
          ],
          "scattergl": [
           {
            "marker": {
             "colorbar": {
              "outlinewidth": 0,
              "ticks": ""
             }
            },
            "type": "scattergl"
           }
          ],
          "scattermapbox": [
           {
            "marker": {
             "colorbar": {
              "outlinewidth": 0,
              "ticks": ""
             }
            },
            "type": "scattermapbox"
           }
          ],
          "scatterpolar": [
           {
            "marker": {
             "colorbar": {
              "outlinewidth": 0,
              "ticks": ""
             }
            },
            "type": "scatterpolar"
           }
          ],
          "scatterpolargl": [
           {
            "marker": {
             "colorbar": {
              "outlinewidth": 0,
              "ticks": ""
             }
            },
            "type": "scatterpolargl"
           }
          ],
          "scatterternary": [
           {
            "marker": {
             "colorbar": {
              "outlinewidth": 0,
              "ticks": ""
             }
            },
            "type": "scatterternary"
           }
          ],
          "surface": [
           {
            "colorbar": {
             "outlinewidth": 0,
             "ticks": ""
            },
            "colorscale": [
             [
              0,
              "#0d0887"
             ],
             [
              0.1111111111111111,
              "#46039f"
             ],
             [
              0.2222222222222222,
              "#7201a8"
             ],
             [
              0.3333333333333333,
              "#9c179e"
             ],
             [
              0.4444444444444444,
              "#bd3786"
             ],
             [
              0.5555555555555556,
              "#d8576b"
             ],
             [
              0.6666666666666666,
              "#ed7953"
             ],
             [
              0.7777777777777778,
              "#fb9f3a"
             ],
             [
              0.8888888888888888,
              "#fdca26"
             ],
             [
              1,
              "#f0f921"
             ]
            ],
            "type": "surface"
           }
          ],
          "table": [
           {
            "cells": {
             "fill": {
              "color": "#EBF0F8"
             },
             "line": {
              "color": "white"
             }
            },
            "header": {
             "fill": {
              "color": "#C8D4E3"
             },
             "line": {
              "color": "white"
             }
            },
            "type": "table"
           }
          ]
         },
         "layout": {
          "annotationdefaults": {
           "arrowcolor": "#2a3f5f",
           "arrowhead": 0,
           "arrowwidth": 1
          },
          "autotypenumbers": "strict",
          "coloraxis": {
           "colorbar": {
            "outlinewidth": 0,
            "ticks": ""
           }
          },
          "colorscale": {
           "diverging": [
            [
             0,
             "#8e0152"
            ],
            [
             0.1,
             "#c51b7d"
            ],
            [
             0.2,
             "#de77ae"
            ],
            [
             0.3,
             "#f1b6da"
            ],
            [
             0.4,
             "#fde0ef"
            ],
            [
             0.5,
             "#f7f7f7"
            ],
            [
             0.6,
             "#e6f5d0"
            ],
            [
             0.7,
             "#b8e186"
            ],
            [
             0.8,
             "#7fbc41"
            ],
            [
             0.9,
             "#4d9221"
            ],
            [
             1,
             "#276419"
            ]
           ],
           "sequential": [
            [
             0,
             "#0d0887"
            ],
            [
             0.1111111111111111,
             "#46039f"
            ],
            [
             0.2222222222222222,
             "#7201a8"
            ],
            [
             0.3333333333333333,
             "#9c179e"
            ],
            [
             0.4444444444444444,
             "#bd3786"
            ],
            [
             0.5555555555555556,
             "#d8576b"
            ],
            [
             0.6666666666666666,
             "#ed7953"
            ],
            [
             0.7777777777777778,
             "#fb9f3a"
            ],
            [
             0.8888888888888888,
             "#fdca26"
            ],
            [
             1,
             "#f0f921"
            ]
           ],
           "sequentialminus": [
            [
             0,
             "#0d0887"
            ],
            [
             0.1111111111111111,
             "#46039f"
            ],
            [
             0.2222222222222222,
             "#7201a8"
            ],
            [
             0.3333333333333333,
             "#9c179e"
            ],
            [
             0.4444444444444444,
             "#bd3786"
            ],
            [
             0.5555555555555556,
             "#d8576b"
            ],
            [
             0.6666666666666666,
             "#ed7953"
            ],
            [
             0.7777777777777778,
             "#fb9f3a"
            ],
            [
             0.8888888888888888,
             "#fdca26"
            ],
            [
             1,
             "#f0f921"
            ]
           ]
          },
          "colorway": [
           "#636efa",
           "#EF553B",
           "#00cc96",
           "#ab63fa",
           "#FFA15A",
           "#19d3f3",
           "#FF6692",
           "#B6E880",
           "#FF97FF",
           "#FECB52"
          ],
          "font": {
           "color": "#2a3f5f"
          },
          "geo": {
           "bgcolor": "white",
           "lakecolor": "white",
           "landcolor": "#E5ECF6",
           "showlakes": true,
           "showland": true,
           "subunitcolor": "white"
          },
          "hoverlabel": {
           "align": "left"
          },
          "hovermode": "closest",
          "mapbox": {
           "style": "light"
          },
          "paper_bgcolor": "white",
          "plot_bgcolor": "#E5ECF6",
          "polar": {
           "angularaxis": {
            "gridcolor": "white",
            "linecolor": "white",
            "ticks": ""
           },
           "bgcolor": "#E5ECF6",
           "radialaxis": {
            "gridcolor": "white",
            "linecolor": "white",
            "ticks": ""
           }
          },
          "scene": {
           "xaxis": {
            "backgroundcolor": "#E5ECF6",
            "gridcolor": "white",
            "gridwidth": 2,
            "linecolor": "white",
            "showbackground": true,
            "ticks": "",
            "zerolinecolor": "white"
           },
           "yaxis": {
            "backgroundcolor": "#E5ECF6",
            "gridcolor": "white",
            "gridwidth": 2,
            "linecolor": "white",
            "showbackground": true,
            "ticks": "",
            "zerolinecolor": "white"
           },
           "zaxis": {
            "backgroundcolor": "#E5ECF6",
            "gridcolor": "white",
            "gridwidth": 2,
            "linecolor": "white",
            "showbackground": true,
            "ticks": "",
            "zerolinecolor": "white"
           }
          },
          "shapedefaults": {
           "line": {
            "color": "#2a3f5f"
           }
          },
          "ternary": {
           "aaxis": {
            "gridcolor": "white",
            "linecolor": "white",
            "ticks": ""
           },
           "baxis": {
            "gridcolor": "white",
            "linecolor": "white",
            "ticks": ""
           },
           "bgcolor": "#E5ECF6",
           "caxis": {
            "gridcolor": "white",
            "linecolor": "white",
            "ticks": ""
           }
          },
          "title": {
           "x": 0.05
          },
          "xaxis": {
           "automargin": true,
           "gridcolor": "white",
           "linecolor": "white",
           "ticks": "",
           "title": {
            "standoff": 15
           },
           "zerolinecolor": "white",
           "zerolinewidth": 2
          },
          "yaxis": {
           "automargin": true,
           "gridcolor": "white",
           "linecolor": "white",
           "ticks": "",
           "title": {
            "standoff": 15
           },
           "zerolinecolor": "white",
           "zerolinewidth": 2
          }
         }
        },
        "updatemenus": [
         {
          "buttons": [
           {
            "args": [
             {
              "line": [
               {
                "color": "crimson"
               },
               {
                "color": "blue",
                "width": 8
               },
               {
                "color": "green"
               },
               {
                "color": "white"
               }
              ],
              "marker": [
               {
                "color": [
                 "pink",
                 "red",
                 "green"
                ],
                "line": {
                 "color": "black"
                },
                "size": [
                 6,
                 15,
                 23
                ]
               },
               {
                "color": [
                 "orange",
                 "blue",
                 "black"
                ],
                "line": {
                 "color": "black"
                },
                "size": [
                 23,
                 11,
                 8
                ]
               },
               {
                "color": [
                 "red",
                 "white",
                 "gray"
                ],
                "line": {
                 "color": "black"
                },
                "size": [
                 1,
                 15,
                 30
                ]
               },
               {
                "color": [
                 "green",
                 "purple",
                 "magenta"
                ],
                "line": {
                 "color": "black"
                },
                "size": [
                 23,
                 11,
                 8
                ]
               }
              ],
              "mode": [
               "markers+lines",
               "markers+lines",
               "markers+lines",
               "markers+lines"
              ]
             }
            ],
            "label": "button",
            "method": "update"
           }
          ]
         }
        ]
       }
      }
     },
     "metadata": {},
     "output_type": "display_data"
    },
    {
     "data": {
      "application/vnd.plotly.v1+json": {
       "config": {
        "plotlyServerURL": "https://plot.ly"
       },
       "data": [
        {
         "line": {
          "color": "red"
         },
         "name": "firsttrace",
         "type": "scatter",
         "y": [
          1,
          1,
          1
         ]
        },
        {
         "line": {
          "color": "blue"
         },
         "name": "Secondttrace",
         "type": "scatter",
         "y": [
          2,
          2,
          2
         ]
        },
        {
         "line": {
          "color": "purple"
         },
         "name": "Thirdtrace",
         "type": "scatter",
         "y": [
          3,
          3,
          3
         ]
        },
        {
         "line": {
          "color": "gray"
         },
         "name": "Forthtrace",
         "type": "scatter",
         "y": [
          4,
          4,
          4
         ]
        }
       ],
       "layout": {
        "template": {
         "data": {
          "bar": [
           {
            "error_x": {
             "color": "#2a3f5f"
            },
            "error_y": {
             "color": "#2a3f5f"
            },
            "marker": {
             "line": {
              "color": "#E5ECF6",
              "width": 0.5
             },
             "pattern": {
              "fillmode": "overlay",
              "size": 10,
              "solidity": 0.2
             }
            },
            "type": "bar"
           }
          ],
          "barpolar": [
           {
            "marker": {
             "line": {
              "color": "#E5ECF6",
              "width": 0.5
             },
             "pattern": {
              "fillmode": "overlay",
              "size": 10,
              "solidity": 0.2
             }
            },
            "type": "barpolar"
           }
          ],
          "carpet": [
           {
            "aaxis": {
             "endlinecolor": "#2a3f5f",
             "gridcolor": "white",
             "linecolor": "white",
             "minorgridcolor": "white",
             "startlinecolor": "#2a3f5f"
            },
            "baxis": {
             "endlinecolor": "#2a3f5f",
             "gridcolor": "white",
             "linecolor": "white",
             "minorgridcolor": "white",
             "startlinecolor": "#2a3f5f"
            },
            "type": "carpet"
           }
          ],
          "choropleth": [
           {
            "colorbar": {
             "outlinewidth": 0,
             "ticks": ""
            },
            "type": "choropleth"
           }
          ],
          "contour": [
           {
            "colorbar": {
             "outlinewidth": 0,
             "ticks": ""
            },
            "colorscale": [
             [
              0,
              "#0d0887"
             ],
             [
              0.1111111111111111,
              "#46039f"
             ],
             [
              0.2222222222222222,
              "#7201a8"
             ],
             [
              0.3333333333333333,
              "#9c179e"
             ],
             [
              0.4444444444444444,
              "#bd3786"
             ],
             [
              0.5555555555555556,
              "#d8576b"
             ],
             [
              0.6666666666666666,
              "#ed7953"
             ],
             [
              0.7777777777777778,
              "#fb9f3a"
             ],
             [
              0.8888888888888888,
              "#fdca26"
             ],
             [
              1,
              "#f0f921"
             ]
            ],
            "type": "contour"
           }
          ],
          "contourcarpet": [
           {
            "colorbar": {
             "outlinewidth": 0,
             "ticks": ""
            },
            "type": "contourcarpet"
           }
          ],
          "heatmap": [
           {
            "colorbar": {
             "outlinewidth": 0,
             "ticks": ""
            },
            "colorscale": [
             [
              0,
              "#0d0887"
             ],
             [
              0.1111111111111111,
              "#46039f"
             ],
             [
              0.2222222222222222,
              "#7201a8"
             ],
             [
              0.3333333333333333,
              "#9c179e"
             ],
             [
              0.4444444444444444,
              "#bd3786"
             ],
             [
              0.5555555555555556,
              "#d8576b"
             ],
             [
              0.6666666666666666,
              "#ed7953"
             ],
             [
              0.7777777777777778,
              "#fb9f3a"
             ],
             [
              0.8888888888888888,
              "#fdca26"
             ],
             [
              1,
              "#f0f921"
             ]
            ],
            "type": "heatmap"
           }
          ],
          "heatmapgl": [
           {
            "colorbar": {
             "outlinewidth": 0,
             "ticks": ""
            },
            "colorscale": [
             [
              0,
              "#0d0887"
             ],
             [
              0.1111111111111111,
              "#46039f"
             ],
             [
              0.2222222222222222,
              "#7201a8"
             ],
             [
              0.3333333333333333,
              "#9c179e"
             ],
             [
              0.4444444444444444,
              "#bd3786"
             ],
             [
              0.5555555555555556,
              "#d8576b"
             ],
             [
              0.6666666666666666,
              "#ed7953"
             ],
             [
              0.7777777777777778,
              "#fb9f3a"
             ],
             [
              0.8888888888888888,
              "#fdca26"
             ],
             [
              1,
              "#f0f921"
             ]
            ],
            "type": "heatmapgl"
           }
          ],
          "histogram": [
           {
            "marker": {
             "pattern": {
              "fillmode": "overlay",
              "size": 10,
              "solidity": 0.2
             }
            },
            "type": "histogram"
           }
          ],
          "histogram2d": [
           {
            "colorbar": {
             "outlinewidth": 0,
             "ticks": ""
            },
            "colorscale": [
             [
              0,
              "#0d0887"
             ],
             [
              0.1111111111111111,
              "#46039f"
             ],
             [
              0.2222222222222222,
              "#7201a8"
             ],
             [
              0.3333333333333333,
              "#9c179e"
             ],
             [
              0.4444444444444444,
              "#bd3786"
             ],
             [
              0.5555555555555556,
              "#d8576b"
             ],
             [
              0.6666666666666666,
              "#ed7953"
             ],
             [
              0.7777777777777778,
              "#fb9f3a"
             ],
             [
              0.8888888888888888,
              "#fdca26"
             ],
             [
              1,
              "#f0f921"
             ]
            ],
            "type": "histogram2d"
           }
          ],
          "histogram2dcontour": [
           {
            "colorbar": {
             "outlinewidth": 0,
             "ticks": ""
            },
            "colorscale": [
             [
              0,
              "#0d0887"
             ],
             [
              0.1111111111111111,
              "#46039f"
             ],
             [
              0.2222222222222222,
              "#7201a8"
             ],
             [
              0.3333333333333333,
              "#9c179e"
             ],
             [
              0.4444444444444444,
              "#bd3786"
             ],
             [
              0.5555555555555556,
              "#d8576b"
             ],
             [
              0.6666666666666666,
              "#ed7953"
             ],
             [
              0.7777777777777778,
              "#fb9f3a"
             ],
             [
              0.8888888888888888,
              "#fdca26"
             ],
             [
              1,
              "#f0f921"
             ]
            ],
            "type": "histogram2dcontour"
           }
          ],
          "mesh3d": [
           {
            "colorbar": {
             "outlinewidth": 0,
             "ticks": ""
            },
            "type": "mesh3d"
           }
          ],
          "parcoords": [
           {
            "line": {
             "colorbar": {
              "outlinewidth": 0,
              "ticks": ""
             }
            },
            "type": "parcoords"
           }
          ],
          "pie": [
           {
            "automargin": true,
            "type": "pie"
           }
          ],
          "scatter": [
           {
            "fillpattern": {
             "fillmode": "overlay",
             "size": 10,
             "solidity": 0.2
            },
            "type": "scatter"
           }
          ],
          "scatter3d": [
           {
            "line": {
             "colorbar": {
              "outlinewidth": 0,
              "ticks": ""
             }
            },
            "marker": {
             "colorbar": {
              "outlinewidth": 0,
              "ticks": ""
             }
            },
            "type": "scatter3d"
           }
          ],
          "scattercarpet": [
           {
            "marker": {
             "colorbar": {
              "outlinewidth": 0,
              "ticks": ""
             }
            },
            "type": "scattercarpet"
           }
          ],
          "scattergeo": [
           {
            "marker": {
             "colorbar": {
              "outlinewidth": 0,
              "ticks": ""
             }
            },
            "type": "scattergeo"
           }
          ],
          "scattergl": [
           {
            "marker": {
             "colorbar": {
              "outlinewidth": 0,
              "ticks": ""
             }
            },
            "type": "scattergl"
           }
          ],
          "scattermapbox": [
           {
            "marker": {
             "colorbar": {
              "outlinewidth": 0,
              "ticks": ""
             }
            },
            "type": "scattermapbox"
           }
          ],
          "scatterpolar": [
           {
            "marker": {
             "colorbar": {
              "outlinewidth": 0,
              "ticks": ""
             }
            },
            "type": "scatterpolar"
           }
          ],
          "scatterpolargl": [
           {
            "marker": {
             "colorbar": {
              "outlinewidth": 0,
              "ticks": ""
             }
            },
            "type": "scatterpolargl"
           }
          ],
          "scatterternary": [
           {
            "marker": {
             "colorbar": {
              "outlinewidth": 0,
              "ticks": ""
             }
            },
            "type": "scatterternary"
           }
          ],
          "surface": [
           {
            "colorbar": {
             "outlinewidth": 0,
             "ticks": ""
            },
            "colorscale": [
             [
              0,
              "#0d0887"
             ],
             [
              0.1111111111111111,
              "#46039f"
             ],
             [
              0.2222222222222222,
              "#7201a8"
             ],
             [
              0.3333333333333333,
              "#9c179e"
             ],
             [
              0.4444444444444444,
              "#bd3786"
             ],
             [
              0.5555555555555556,
              "#d8576b"
             ],
             [
              0.6666666666666666,
              "#ed7953"
             ],
             [
              0.7777777777777778,
              "#fb9f3a"
             ],
             [
              0.8888888888888888,
              "#fdca26"
             ],
             [
              1,
              "#f0f921"
             ]
            ],
            "type": "surface"
           }
          ],
          "table": [
           {
            "cells": {
             "fill": {
              "color": "#EBF0F8"
             },
             "line": {
              "color": "white"
             }
            },
            "header": {
             "fill": {
              "color": "#C8D4E3"
             },
             "line": {
              "color": "white"
             }
            },
            "type": "table"
           }
          ]
         },
         "layout": {
          "annotationdefaults": {
           "arrowcolor": "#2a3f5f",
           "arrowhead": 0,
           "arrowwidth": 1
          },
          "autotypenumbers": "strict",
          "coloraxis": {
           "colorbar": {
            "outlinewidth": 0,
            "ticks": ""
           }
          },
          "colorscale": {
           "diverging": [
            [
             0,
             "#8e0152"
            ],
            [
             0.1,
             "#c51b7d"
            ],
            [
             0.2,
             "#de77ae"
            ],
            [
             0.3,
             "#f1b6da"
            ],
            [
             0.4,
             "#fde0ef"
            ],
            [
             0.5,
             "#f7f7f7"
            ],
            [
             0.6,
             "#e6f5d0"
            ],
            [
             0.7,
             "#b8e186"
            ],
            [
             0.8,
             "#7fbc41"
            ],
            [
             0.9,
             "#4d9221"
            ],
            [
             1,
             "#276419"
            ]
           ],
           "sequential": [
            [
             0,
             "#0d0887"
            ],
            [
             0.1111111111111111,
             "#46039f"
            ],
            [
             0.2222222222222222,
             "#7201a8"
            ],
            [
             0.3333333333333333,
             "#9c179e"
            ],
            [
             0.4444444444444444,
             "#bd3786"
            ],
            [
             0.5555555555555556,
             "#d8576b"
            ],
            [
             0.6666666666666666,
             "#ed7953"
            ],
            [
             0.7777777777777778,
             "#fb9f3a"
            ],
            [
             0.8888888888888888,
             "#fdca26"
            ],
            [
             1,
             "#f0f921"
            ]
           ],
           "sequentialminus": [
            [
             0,
             "#0d0887"
            ],
            [
             0.1111111111111111,
             "#46039f"
            ],
            [
             0.2222222222222222,
             "#7201a8"
            ],
            [
             0.3333333333333333,
             "#9c179e"
            ],
            [
             0.4444444444444444,
             "#bd3786"
            ],
            [
             0.5555555555555556,
             "#d8576b"
            ],
            [
             0.6666666666666666,
             "#ed7953"
            ],
            [
             0.7777777777777778,
             "#fb9f3a"
            ],
            [
             0.8888888888888888,
             "#fdca26"
            ],
            [
             1,
             "#f0f921"
            ]
           ]
          },
          "colorway": [
           "#636efa",
           "#EF553B",
           "#00cc96",
           "#ab63fa",
           "#FFA15A",
           "#19d3f3",
           "#FF6692",
           "#B6E880",
           "#FF97FF",
           "#FECB52"
          ],
          "font": {
           "color": "#2a3f5f"
          },
          "geo": {
           "bgcolor": "white",
           "lakecolor": "white",
           "landcolor": "#E5ECF6",
           "showlakes": true,
           "showland": true,
           "subunitcolor": "white"
          },
          "hoverlabel": {
           "align": "left"
          },
          "hovermode": "closest",
          "mapbox": {
           "style": "light"
          },
          "paper_bgcolor": "white",
          "plot_bgcolor": "#E5ECF6",
          "polar": {
           "angularaxis": {
            "gridcolor": "white",
            "linecolor": "white",
            "ticks": ""
           },
           "bgcolor": "#E5ECF6",
           "radialaxis": {
            "gridcolor": "white",
            "linecolor": "white",
            "ticks": ""
           }
          },
          "scene": {
           "xaxis": {
            "backgroundcolor": "#E5ECF6",
            "gridcolor": "white",
            "gridwidth": 2,
            "linecolor": "white",
            "showbackground": true,
            "ticks": "",
            "zerolinecolor": "white"
           },
           "yaxis": {
            "backgroundcolor": "#E5ECF6",
            "gridcolor": "white",
            "gridwidth": 2,
            "linecolor": "white",
            "showbackground": true,
            "ticks": "",
            "zerolinecolor": "white"
           },
           "zaxis": {
            "backgroundcolor": "#E5ECF6",
            "gridcolor": "white",
            "gridwidth": 2,
            "linecolor": "white",
            "showbackground": true,
            "ticks": "",
            "zerolinecolor": "white"
           }
          },
          "shapedefaults": {
           "line": {
            "color": "#2a3f5f"
           }
          },
          "ternary": {
           "aaxis": {
            "gridcolor": "white",
            "linecolor": "white",
            "ticks": ""
           },
           "baxis": {
            "gridcolor": "white",
            "linecolor": "white",
            "ticks": ""
           },
           "bgcolor": "#E5ECF6",
           "caxis": {
            "gridcolor": "white",
            "linecolor": "white",
            "ticks": ""
           }
          },
          "title": {
           "x": 0.05
          },
          "xaxis": {
           "automargin": true,
           "gridcolor": "white",
           "linecolor": "white",
           "ticks": "",
           "title": {
            "standoff": 15
           },
           "zerolinecolor": "white",
           "zerolinewidth": 2
          },
          "yaxis": {
           "automargin": true,
           "gridcolor": "white",
           "linecolor": "white",
           "ticks": "",
           "title": {
            "standoff": 15
           },
           "zerolinecolor": "white",
           "zerolinewidth": 2
          }
         }
        },
        "updatemenus": [
         {
          "buttons": [
           {
            "args": [
             {
              "line": [
               {
                "color": "crimson"
               },
               {
                "color": "blue",
                "width": 8
               },
               {
                "color": "green"
               },
               {
                "color": "white"
               }
              ],
              "marker": [
               {
                "color": [
                 "pink",
                 "red",
                 "green"
                ],
                "line": {
                 "color": "black"
                },
                "size": [
                 6,
                 15,
                 23
                ]
               },
               {
                "color": [
                 "orange",
                 "blue",
                 "black"
                ],
                "line": {
                 "color": "black"
                },
                "size": [
                 23,
                 11,
                 8
                ]
               },
               {
                "color": [
                 "red",
                 "white",
                 "gray"
                ],
                "line": {
                 "color": "black"
                },
                "size": [
                 1,
                 15,
                 30
                ]
               },
               {
                "color": [
                 "green",
                 "purple",
                 "magenta"
                ],
                "line": {
                 "color": "black"
                },
                "size": [
                 23,
                 11,
                 8
                ]
               }
              ],
              "mode": [
               "markers+lines",
               "markers+lines",
               "markers+lines",
               "markers+lines"
              ]
             }
            ],
            "label": "button",
            "method": "update"
           }
          ]
         }
        ]
       }
      }
     },
     "metadata": {},
     "output_type": "display_data"
    }
   ],
   "source": [
    "import plotly.graph_objs as go\n",
    "\n",
    "fig=go.Figure()\n",
    "fig.add_scatter(y=[1, 1, 1],  line={'color': 'red'},name='firsttrace')\n",
    "fig.add_scatter(y=[2, 2, 2],  line={'color': 'blue'},name='Secondttrace')\n",
    "fig.add_scatter(y=[3, 3, 3],  line={'color': 'purple'},name='Thirdtrace')\n",
    "fig.add_scatter(y=[4, 4, 4],  line={'color': 'gray'},name='Forthtrace')\n",
    "\n",
    "\n",
    "button = [dict(\n",
    "    method='update',  \n",
    "    args=[\n",
    "        {\n",
    "            'mode':[\n",
    "                'markers+lines', \n",
    "                'markers+lines', \n",
    "                'markers+lines', \n",
    "                'markers+lines'\n",
    "            ],\n",
    "            'marker':[\n",
    "                {'color': ['pink', 'red', 'green'], 'size':[6,15,23], 'line':{'color':'black'}},\n",
    "                {'color': ['orange', 'blue', 'black'], 'size':[23,11,8], 'line':{'color':'black'}},\n",
    "                {'color': ['red', 'white', 'gray'], 'size':[1,15,30], 'line':{'color':'black'}},\n",
    "                {'color': ['green', 'purple', 'magenta'], 'size':[23,11,8], 'line':{'color':'black'}},\n",
    "\n",
    "\n",
    "            ],\n",
    "            'line':[\n",
    "                {'color':'crimson'},\n",
    "                {'color':'blue', 'width':8},\n",
    "                {'color':'green'},\n",
    "                {'color':'white'},\n",
    "            ]\n",
    "        },\n",
    "    ],\n",
    "    label='button'\n",
    ")]\n",
    "    \n",
    "\n",
    "fig.layout.updatemenus = [{'buttons': button}]\n",
    "from plotly.offline import iplot\n",
    "iplot(fig)\n",
    "fig.show()"
   ]
  },
  {
   "cell_type": "code",
   "execution_count": null,
   "metadata": {},
   "outputs": [],
   "source": [
    "from plotl"
   ]
  }
 ],
 "metadata": {
  "kernelspec": {
   "display_name": "CREST",
   "language": "python",
   "name": "python3"
  },
  "language_info": {
   "codemirror_mode": {
    "name": "ipython",
    "version": 3
   },
   "file_extension": ".py",
   "mimetype": "text/x-python",
   "name": "python",
   "nbconvert_exporter": "python",
   "pygments_lexer": "ipython3",
   "version": "3.12.7"
  }
 },
 "nbformat": 4,
 "nbformat_minor": 2
}
