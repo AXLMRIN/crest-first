{
 "cells": [
  {
   "cell_type": "markdown",
   "metadata": {},
   "source": [
    "This notebook goal is to plot a figure using no custom function before we get to design and write useful ones"
   ]
  },
  {
   "cell_type": "markdown",
   "metadata": {},
   "source": [
    "# Imports"
   ]
  },
  {
   "cell_type": "code",
   "execution_count": 41,
   "metadata": {},
   "outputs": [],
   "source": [
    "# Third Parties\n",
    "import pandas as pd\n",
    "import plotly.express as px\n",
    "import plotly.graph_objs as go\n",
    "import numpy as np \n",
    "\n",
    "# Native\n",
    "\n",
    "# Custom \n",
    "# /\n",
    "\n",
    "# Classes\n",
    "\n",
    "# Functions"
   ]
  },
  {
   "cell_type": "markdown",
   "metadata": {},
   "source": [
    "# Open file and prepare for plotting"
   ]
  },
  {
   "cell_type": "code",
   "execution_count": 22,
   "metadata": {},
   "outputs": [
    {
     "name": "stderr",
     "output_type": "stream",
     "text": [
      "/var/folders/xs/d90v1vkn16db_7z493h6kwt40000gn/T/ipykernel_5292/776405859.py:1: DtypeWarning: Columns (0) have mixed types. Specify dtype option on import or set low_memory=False.\n",
      "  OG = pd.read_csv(\n"
     ]
    }
   ],
   "source": [
    "OG = pd.read_csv(\n",
    "    '../../data/2025-01-07-2024-10-29-quinquadef4-neat-abstract-bert.csv'\n",
    ")\n",
    "GLOBAL_INDEX = OG.index"
   ]
  },
  {
   "cell_type": "code",
   "execution_count": 23,
   "metadata": {},
   "outputs": [
    {
     "data": {
      "text/plain": [
       "Index(['iddef', 'titre', 'soustitre', 'auteurs', 'annee', 'revue', 'num_titre',\n",
       "       'num_num', 'abstract', 'url_art', 'auteurs_fam', 'auteurs_prenom',\n",
       "       'source', 'n_auteurs', 'femme', 'annee5', 'majo_femmes', 'sexe3',\n",
       "       'tag_race', 'tag_inclusif', 'bert_pronoms', 'bert_quanti', 'bert_quali',\n",
       "       'bert_genre', 'bert_genre_stat', 'bert_classe_large',\n",
       "       'bert_classe_stricte', 'bert_genre_pas_stat', 'bert_monostricte',\n",
       "       'bert_interstricte_2plus', 'bert_interstricte_3',\n",
       "       'bert_interstricte_GC', 'bert_interstricte_GR', 'bert_interstricte_CR',\n",
       "       'bert_interstricte_cl', 'bert_interstricte_cl2', 'bert_monolarge',\n",
       "       'bert_interlarge_2plus', 'bert_interlarge_3', 'bert_interlarge_GC',\n",
       "       'bert_interlarge_GR', 'bert_interlarge_CR', 'bert_interlarge_cl',\n",
       "       'bert_interlarge_cl2'],\n",
       "      dtype='object')"
      ]
     },
     "execution_count": 23,
     "metadata": {},
     "output_type": "execute_result"
    }
   ],
   "source": [
    "OG.columns"
   ]
  },
  {
   "cell_type": "code",
   "execution_count": 11,
   "metadata": {},
   "outputs": [],
   "source": [
    "df = OG.loc[:,['annee','revue','bert_genre', 'bert_genre_stat',\n",
    "               'bert_genre_pas_stat']]"
   ]
  },
  {
   "cell_type": "markdown",
   "metadata": {},
   "source": [
    "The goal is to plot the evolution of the percentage of articles that summon the concept of gender through the year"
   ]
  },
  {
   "cell_type": "code",
   "execution_count": 15,
   "metadata": {},
   "outputs": [],
   "source": [
    "years = list(set(df['annee']))"
   ]
  },
  {
   "cell_type": "code",
   "execution_count": 37,
   "metadata": {},
   "outputs": [],
   "source": [
    "# get the percentage of articles summoning the concept of gender through the\n",
    "# years\n",
    "\n",
    "# we are going to isolate 4 groups: \n",
    "    # all of them\n",
    "    # ARSS revue\n",
    "    # a group of revues named TYPE\n",
    "    # a group of revues named GENERALE\n",
    "\n",
    "ARSS = ['Actes de la recherche en sciences sociales']\n",
    "GENERALE = [\n",
    "    \"Actes de la recherche en sciences sociales\",\n",
    "    \"L'Année sociologique\", \n",
    "    \"Revue française de sociologie\",\n",
    "    \"Sociologie\",\n",
    "    \"Sociétés contemporaines\",\n",
    "    \"Sociologie du travail\"\n",
    "    ]\n",
    "TYPE = [\n",
    "    \"Actes de la recherche en sciences sociales\",\n",
    "    \"Revue française de sociologie\",\n",
    "    \"Revue française de science politique\",\n",
    "    \"Archives de sciences sociales des religions\",\n",
    "    \"L’Homme\",\n",
    "    \"Ethnologie française\",\n",
    "    \"Population\",\n",
    "    \"Annales. Histoire, Sciences Sociales\"\n",
    "    \"Revue d’histoire moderne & contemporaine\",\n",
    "    \"Réseaux\",\n",
    "    \"Revue française d'économie\",\n",
    "    \"Espaces et sociétés\"\n",
    "]\n",
    "\n",
    "# Through The Years _ \n",
    "TTY_ALL = []\n",
    "TTY_ARSS = []\n",
    "TTY_TYPE = []\n",
    "TTY_GENERALE = []\n",
    "\n",
    "# Creating df dedicated to ARSS, TYPE and GENERALE \n",
    "bool_ARSS = [\n",
    "    revue in ARSS for revue in df.loc[:,'revue']\n",
    "]\n",
    "bool_TYPE = [\n",
    "    revue in TYPE for revue in df.loc[:,'revue']\n",
    "]\n",
    "bool_GENERALE = [\n",
    "    revue in GENERALE for revue in df.loc[:,'revue']\n",
    "]\n",
    "\n",
    "\n",
    "df_ARSS = df.loc[bool_ARSS,:]\n",
    "df_TYPE = df.loc[bool_TYPE,:]\n",
    "df_GENERALE = df.loc[bool_GENERALE,:]\n",
    "\n",
    "for y in years :\n",
    "    TTY_ALL.append(\n",
    "        df.loc[\n",
    "            df.loc[:,'annee'] == y,     # rows\n",
    "            'bert_genre'                # column\n",
    "        ].mean()                        # take the mean\n",
    "    )\n",
    "    TTY_ARSS.append(\n",
    "        df_ARSS.loc[\n",
    "            df_ARSS.loc[:,'annee'] == y,\n",
    "            'bert_genre'\n",
    "        ].mean()\n",
    "    )\n",
    "    TTY_TYPE.append(\n",
    "        df_TYPE.loc[\n",
    "            df_TYPE.loc[:,'annee'] == y,\n",
    "            'bert_genre'\n",
    "        ].mean()\n",
    "    )\n",
    "    TTY_GENERALE.append(\n",
    "        df_GENERALE.loc[\n",
    "            df_GENERALE.loc[:,'annee'] == y,\n",
    "            'bert_genre'\n",
    "        ].mean()\n",
    "    )"
   ]
  },
  {
   "cell_type": "markdown",
   "metadata": {},
   "source": [
    "We are also comparing the definition used to consider an article has summoned the concept of gender. We do the same work for the `stat` definition"
   ]
  },
  {
   "cell_type": "code",
   "execution_count": 39,
   "metadata": {},
   "outputs": [],
   "source": [
    "# Through The Years _ \n",
    "TTY_ALL_STAT = []\n",
    "TTY_ARSS_STAT = []\n",
    "TTY_TYPE_STAT = []\n",
    "TTY_GENERALE_STAT = []\n",
    "\n",
    "\n",
    "for y in years :\n",
    "    TTY_ALL_STAT.append(\n",
    "        df.loc[\n",
    "            df.loc[:,'annee'] == y,     # rows\n",
    "            'bert_genre_stat'                # column\n",
    "        ].mean()                        # take the mean\n",
    "    )\n",
    "    TTY_ARSS_STAT.append(\n",
    "        df_ARSS.loc[\n",
    "            df_ARSS.loc[:,'annee'] == y,\n",
    "            'bert_genre_stat'\n",
    "        ].mean()\n",
    "    )\n",
    "    TTY_TYPE_STAT.append(\n",
    "        df_TYPE.loc[\n",
    "            df_TYPE.loc[:,'annee'] == y,\n",
    "            'bert_genre_stat'\n",
    "        ].mean()\n",
    "    )\n",
    "    TTY_GENERALE_STAT.append(\n",
    "        df_GENERALE.loc[\n",
    "            df_GENERALE.loc[:,'annee'] == y,\n",
    "            'bert_genre_stat'\n",
    "        ].mean()\n",
    "    )"
   ]
  },
  {
   "cell_type": "markdown",
   "metadata": {},
   "source": [
    "# Plotting"
   ]
  },
  {
   "cell_type": "markdown",
   "metadata": {},
   "source": [
    "The plotting section is first going to turn all the data into a usable data frame. We are going to use the following logic. : \n",
    "> Each row is a data, it will contain the year, percentage and any tag used for the actual plotting section"
   ]
  },
  {
   "cell_type": "markdown",
   "metadata": {},
   "source": [
    "## Turn into a usable dataframe"
   ]
  },
  {
   "cell_type": "markdown",
   "metadata": {},
   "source": [
    "### Parameters"
   ]
  },
  {
   "cell_type": "code",
   "execution_count": 50,
   "metadata": {},
   "outputs": [],
   "source": [
    "GRN_colour = 'green'\n",
    "RED_colour = 'red'\n",
    "BLU_colour = 'blue'\n",
    "ORG_colour = 'green'"
   ]
  },
  {
   "cell_type": "markdown",
   "metadata": {},
   "source": [
    "### "
   ]
  },
  {
   "cell_type": "code",
   "execution_count": 51,
   "metadata": {},
   "outputs": [],
   "source": [
    "N = len(years)\n",
    "ext_vect = ['Définition extensive' for _ in range(N)]\n",
    "stt_vect = ['Définition statistique' for _ in range(N)]\n",
    "\n",
    "GRN_vect = [\"Toutes \" for _ in range(N)]\n",
    "RED_vect = [RED_colour for _ in range(N)]\n",
    "BLU_vect = [BLU_colour for _ in range(N)]\n",
    "ORG_vect = [ORG_colour for _ in range(N)]\n",
    "\n",
    "plotting_df = pd.DataFrame(dict(\n",
    "    annee       = np.tile(years, 8),\n",
    "    pourcentage = np.concatenate(\n",
    "                        (TTY_ALL      , TTY_ALL_STAT,\n",
    "                         TTY_ARSS     , TTY_ARSS_STAT,\n",
    "                         TTY_TYPE     , TTY_TYPE_STAT,\n",
    "                         TTY_GENERALE , TTY_GENERALE_STAT)      \n",
    "                    ) ,\n",
    "    line_dash_style = np.concatenate(\n",
    "                        (ext_vect,  stt_vect,\n",
    "                         ext_vect,  stt_vect,\n",
    "                         ext_vect,  stt_vect,\n",
    "                         ext_vect,  stt_vect)   \n",
    "    ),\n",
    "    colour_style = np.concatenate(\n",
    "                        (GRN_vect,  GRN_vect,\n",
    "                         RED_vect,  RED_vect,\n",
    "                         BLU_vect,  BLU_vect,\n",
    "                         ORG_vect,  ORG_vect)   \n",
    "    )\n",
    "))"
   ]
  },
  {
   "cell_type": "code",
   "execution_count": 52,
   "metadata": {},
   "outputs": [
    {
     "data": {
      "text/html": [
       "<div>\n",
       "<style scoped>\n",
       "    .dataframe tbody tr th:only-of-type {\n",
       "        vertical-align: middle;\n",
       "    }\n",
       "\n",
       "    .dataframe tbody tr th {\n",
       "        vertical-align: top;\n",
       "    }\n",
       "\n",
       "    .dataframe thead th {\n",
       "        text-align: right;\n",
       "    }\n",
       "</style>\n",
       "<table border=\"1\" class=\"dataframe\">\n",
       "  <thead>\n",
       "    <tr style=\"text-align: right;\">\n",
       "      <th></th>\n",
       "      <th>annee</th>\n",
       "      <th>pourcentage</th>\n",
       "      <th>line_dash_style</th>\n",
       "      <th>colour_style</th>\n",
       "    </tr>\n",
       "  </thead>\n",
       "  <tbody>\n",
       "    <tr>\n",
       "      <th>0</th>\n",
       "      <td>2001</td>\n",
       "      <td>0.076012</td>\n",
       "      <td>Définition extensive</td>\n",
       "      <td>green</td>\n",
       "    </tr>\n",
       "    <tr>\n",
       "      <th>1</th>\n",
       "      <td>2002</td>\n",
       "      <td>0.102542</td>\n",
       "      <td>Définition extensive</td>\n",
       "      <td>green</td>\n",
       "    </tr>\n",
       "    <tr>\n",
       "      <th>2</th>\n",
       "      <td>2003</td>\n",
       "      <td>0.093190</td>\n",
       "      <td>Définition extensive</td>\n",
       "      <td>green</td>\n",
       "    </tr>\n",
       "    <tr>\n",
       "      <th>3</th>\n",
       "      <td>2004</td>\n",
       "      <td>0.083115</td>\n",
       "      <td>Définition extensive</td>\n",
       "      <td>green</td>\n",
       "    </tr>\n",
       "    <tr>\n",
       "      <th>4</th>\n",
       "      <td>2005</td>\n",
       "      <td>0.096503</td>\n",
       "      <td>Définition extensive</td>\n",
       "      <td>green</td>\n",
       "    </tr>\n",
       "  </tbody>\n",
       "</table>\n",
       "</div>"
      ],
      "text/plain": [
       "   annee  pourcentage       line_dash_style colour_style\n",
       "0   2001     0.076012  Définition extensive        green\n",
       "1   2002     0.102542  Définition extensive        green\n",
       "2   2003     0.093190  Définition extensive        green\n",
       "3   2004     0.083115  Définition extensive        green\n",
       "4   2005     0.096503  Définition extensive        green"
      ]
     },
     "execution_count": 52,
     "metadata": {},
     "output_type": "execute_result"
    }
   ],
   "source": [
    "plotting_df.head()"
   ]
  },
  {
   "cell_type": "markdown",
   "metadata": {},
   "source": [
    "## Actually plotting"
   ]
  },
  {
   "cell_type": "code",
   "execution_count": 53,
   "metadata": {},
   "outputs": [],
   "source": [
    "fig = px.line(\n",
    "    plotting_df,\n",
    "    x = 'annee', y = 'pourcentage',\n",
    "    color = 'colour_style', line_dash = 'line_dash_style'\n",
    ")"
   ]
  },
  {
   "cell_type": "markdown",
   "metadata": {},
   "source": [
    "### Customisation"
   ]
  },
  {
   "cell_type": "code",
   "execution_count": null,
   "metadata": {},
   "outputs": [],
   "source": [
    "fig.update_layout()"
   ]
  },
  {
   "cell_type": "markdown",
   "metadata": {},
   "source": [
    "# The plot"
   ]
  },
  {
   "cell_type": "code",
   "execution_count": 54,
   "metadata": {},
   "outputs": [
    {
     "data": {
      "application/vnd.plotly.v1+json": {
       "config": {
        "plotlyServerURL": "https://plot.ly"
       },
       "data": [
        {
         "hovertemplate": "colour_style=green<br>line_dash_style=Définition extensive<br>annee=%{x}<br>pourcentage=%{y}<extra></extra>",
         "legendgroup": "green, Définition extensive",
         "line": {
          "color": "#636efa",
          "dash": "solid"
         },
         "marker": {
          "symbol": "circle"
         },
         "mode": "lines",
         "name": "green, Définition extensive",
         "orientation": "v",
         "showlegend": true,
         "type": "scatter",
         "x": [
          2001,
          2002,
          2003,
          2004,
          2005,
          2006,
          2007,
          2008,
          2009,
          2010,
          2011,
          2012,
          2013,
          2014,
          2015,
          2016,
          2017,
          2018,
          2019,
          2020,
          2021,
          2022,
          2023,
          2001,
          2002,
          2003,
          2004,
          2005,
          2006,
          2007,
          2008,
          2009,
          2010,
          2011,
          2012,
          2013,
          2014,
          2015,
          2016,
          2017,
          2018,
          2019,
          2020,
          2021,
          2022,
          2023
         ],
         "xaxis": "x",
         "y": [
          0.07601184600197433,
          0.10254163014899212,
          0.0931899641577061,
          0.0831151832460733,
          0.09650259067357513,
          0.09512893982808023,
          0.09205867475973697,
          0.06450071667462971,
          0.10212569316081331,
          0.08185361628410567,
          0.08379413015737984,
          0.11158983196897888,
          0.0882752376641014,
          0.08702999577524292,
          0.09347368421052632,
          0.0967741935483871,
          0.10932883073026593,
          0.08860249697946034,
          0.10437710437710437,
          0.10715979137031768,
          0.1110254433307633,
          0.12056451612903225,
          0.13463751438434982,
          0.04819277108433735,
          0.037037037037037035,
          0.13513513513513514,
          0.10576923076923077,
          0.04672897196261682,
          0.04716981132075472,
          0.11214953271028037,
          0.08571428571428572,
          0.11304347826086956,
          0.07317073170731707,
          0.09322033898305085,
          0.12698412698412698,
          0.1388888888888889,
          0.0782608695652174,
          0.07079646017699115,
          0.08928571428571429,
          0.14035087719298245,
          0.15841584158415842,
          0.1509433962264151,
          0.14285714285714285,
          0.1276595744680851,
          0.1111111111111111,
          0.16666666666666666
         ],
         "yaxis": "y"
        },
        {
         "hovertemplate": "colour_style=green<br>line_dash_style=Définition statistique<br>annee=%{x}<br>pourcentage=%{y}<extra></extra>",
         "legendgroup": "green, Définition statistique",
         "line": {
          "color": "#636efa",
          "dash": "dot"
         },
         "marker": {
          "symbol": "circle"
         },
         "mode": "lines",
         "name": "green, Définition statistique",
         "orientation": "v",
         "showlegend": true,
         "type": "scatter",
         "x": [
          2001,
          2002,
          2003,
          2004,
          2005,
          2006,
          2007,
          2008,
          2009,
          2010,
          2011,
          2012,
          2013,
          2014,
          2015,
          2016,
          2017,
          2018,
          2019,
          2020,
          2021,
          2022,
          2023,
          2001,
          2002,
          2003,
          2004,
          2005,
          2006,
          2007,
          2008,
          2009,
          2010,
          2011,
          2012,
          2013,
          2014,
          2015,
          2016,
          2017,
          2018,
          2019,
          2020,
          2021,
          2022,
          2023
         ],
         "xaxis": "x",
         "y": [
          0.0019743336623889436,
          0.0026292725679228747,
          0.007885304659498209,
          0.001963350785340314,
          0.0038860103626943004,
          0.0040114613180515755,
          0.0025290844714213456,
          0.0023889154323936935,
          0.0036968576709796672,
          0.0034647033347769596,
          0.0034028073160357296,
          0.007324429125376993,
          0.004526935264825713,
          0.0038022813688212928,
          0.002105263157894737,
          0.00282258064516129,
          0.0033769523005487546,
          0.003221908981071285,
          0.004208754208754209,
          0.003319108582266477,
          0.0030840400925212026,
          0.005241935483870968,
          0.0023014959723820483,
          0,
          0,
          0.009009009009009009,
          0,
          0,
          0,
          0,
          0.009523809523809525,
          0,
          0,
          0,
          0,
          0,
          0,
          0,
          0.008928571428571428,
          0,
          0,
          0.009433962264150943,
          0,
          0,
          0.018518518518518517,
          0.018518518518518517
         ],
         "yaxis": "y"
        },
        {
         "hovertemplate": "colour_style=red<br>line_dash_style=Définition extensive<br>annee=%{x}<br>pourcentage=%{y}<extra></extra>",
         "legendgroup": "red, Définition extensive",
         "line": {
          "color": "#EF553B",
          "dash": "solid"
         },
         "marker": {
          "symbol": "circle"
         },
         "mode": "lines",
         "name": "red, Définition extensive",
         "orientation": "v",
         "showlegend": true,
         "type": "scatter",
         "x": [
          2001,
          2002,
          2003,
          2004,
          2005,
          2006,
          2007,
          2008,
          2009,
          2010,
          2011,
          2012,
          2013,
          2014,
          2015,
          2016,
          2017,
          2018,
          2019,
          2020,
          2021,
          2022,
          2023
         ],
         "xaxis": "x",
         "y": [
          0.034482758620689655,
          0.07142857142857142,
          0,
          0.07692307692307693,
          0.043478260869565216,
          0,
          0.15384615384615385,
          0.058823529411764705,
          0.034482758620689655,
          0.03571428571428571,
          0.037037037037037035,
          0.08695652173913043,
          0.14285714285714285,
          0.04,
          0.10714285714285714,
          0.24,
          0.21739130434782608,
          0.2857142857142857,
          0,
          0.0625,
          0.16666666666666666,
          0.125,
          0.2
         ],
         "yaxis": "y"
        },
        {
         "hovertemplate": "colour_style=red<br>line_dash_style=Définition statistique<br>annee=%{x}<br>pourcentage=%{y}<extra></extra>",
         "legendgroup": "red, Définition statistique",
         "line": {
          "color": "#EF553B",
          "dash": "dot"
         },
         "marker": {
          "symbol": "circle"
         },
         "mode": "lines",
         "name": "red, Définition statistique",
         "orientation": "v",
         "showlegend": true,
         "type": "scatter",
         "x": [
          2001,
          2002,
          2003,
          2004,
          2005,
          2006,
          2007,
          2008,
          2009,
          2010,
          2011,
          2012,
          2013,
          2014,
          2015,
          2016,
          2017,
          2018,
          2019,
          2020,
          2021,
          2022,
          2023
         ],
         "xaxis": "x",
         "y": [
          0,
          0,
          0,
          0,
          0,
          0,
          0,
          0,
          0,
          0,
          0,
          0,
          0,
          0,
          0,
          0,
          0,
          0,
          0,
          0,
          0,
          0,
          0
         ],
         "yaxis": "y"
        },
        {
         "hovertemplate": "colour_style=blue<br>line_dash_style=Définition extensive<br>annee=%{x}<br>pourcentage=%{y}<extra></extra>",
         "legendgroup": "blue, Définition extensive",
         "line": {
          "color": "#00cc96",
          "dash": "solid"
         },
         "marker": {
          "symbol": "circle"
         },
         "mode": "lines",
         "name": "blue, Définition extensive",
         "orientation": "v",
         "showlegend": true,
         "type": "scatter",
         "x": [
          2001,
          2002,
          2003,
          2004,
          2005,
          2006,
          2007,
          2008,
          2009,
          2010,
          2011,
          2012,
          2013,
          2014,
          2015,
          2016,
          2017,
          2018,
          2019,
          2020,
          2021,
          2022,
          2023
         ],
         "xaxis": "x",
         "y": [
          0.05102040816326531,
          0.06698564593301436,
          0.09745762711864407,
          0.054474708171206226,
          0.05737704918032787,
          0.04918032786885246,
          0.06048387096774194,
          0.056,
          0.06859205776173286,
          0.08992805755395683,
          0.09540636042402827,
          0.09057971014492754,
          0.15019762845849802,
          0.050335570469798654,
          0.09055118110236221,
          0.12318840579710146,
          0.13127413127413126,
          0.12863070539419086,
          0.11522633744855967,
          0.09424083769633508,
          0.08906882591093117,
          0.11162790697674418,
          0.2018348623853211
         ],
         "yaxis": "y"
        },
        {
         "hovertemplate": "colour_style=blue<br>line_dash_style=Définition statistique<br>annee=%{x}<br>pourcentage=%{y}<extra></extra>",
         "legendgroup": "blue, Définition statistique",
         "line": {
          "color": "#00cc96",
          "dash": "dot"
         },
         "marker": {
          "symbol": "circle"
         },
         "mode": "lines",
         "name": "blue, Définition statistique",
         "orientation": "v",
         "showlegend": true,
         "type": "scatter",
         "x": [
          2001,
          2002,
          2003,
          2004,
          2005,
          2006,
          2007,
          2008,
          2009,
          2010,
          2011,
          2012,
          2013,
          2014,
          2015,
          2016,
          2017,
          2018,
          2019,
          2020,
          2021,
          2022,
          2023
         ],
         "xaxis": "x",
         "y": [
          0.00510204081632653,
          0.004784688995215311,
          0.029661016949152543,
          0.007782101167315175,
          0.01639344262295082,
          0.01639344262295082,
          0,
          0.012,
          0.0036101083032490976,
          0.017985611510791366,
          0.01060070671378092,
          0.025362318840579712,
          0.011857707509881422,
          0.016778523489932886,
          0.007874015748031496,
          0.018115942028985508,
          0.011583011583011582,
          0.012448132780082987,
          0.02880658436213992,
          0.015706806282722512,
          0.008097165991902834,
          0.027906976744186046,
          0.009174311926605505
         ],
         "yaxis": "y"
        }
       ],
       "layout": {
        "legend": {
         "title": {
          "text": "colour_style, line_dash_style"
         },
         "tracegroupgap": 0
        },
        "margin": {
         "t": 60
        },
        "template": {
         "data": {
          "bar": [
           {
            "error_x": {
             "color": "#2a3f5f"
            },
            "error_y": {
             "color": "#2a3f5f"
            },
            "marker": {
             "line": {
              "color": "#E5ECF6",
              "width": 0.5
             },
             "pattern": {
              "fillmode": "overlay",
              "size": 10,
              "solidity": 0.2
             }
            },
            "type": "bar"
           }
          ],
          "barpolar": [
           {
            "marker": {
             "line": {
              "color": "#E5ECF6",
              "width": 0.5
             },
             "pattern": {
              "fillmode": "overlay",
              "size": 10,
              "solidity": 0.2
             }
            },
            "type": "barpolar"
           }
          ],
          "carpet": [
           {
            "aaxis": {
             "endlinecolor": "#2a3f5f",
             "gridcolor": "white",
             "linecolor": "white",
             "minorgridcolor": "white",
             "startlinecolor": "#2a3f5f"
            },
            "baxis": {
             "endlinecolor": "#2a3f5f",
             "gridcolor": "white",
             "linecolor": "white",
             "minorgridcolor": "white",
             "startlinecolor": "#2a3f5f"
            },
            "type": "carpet"
           }
          ],
          "choropleth": [
           {
            "colorbar": {
             "outlinewidth": 0,
             "ticks": ""
            },
            "type": "choropleth"
           }
          ],
          "contour": [
           {
            "colorbar": {
             "outlinewidth": 0,
             "ticks": ""
            },
            "colorscale": [
             [
              0,
              "#0d0887"
             ],
             [
              0.1111111111111111,
              "#46039f"
             ],
             [
              0.2222222222222222,
              "#7201a8"
             ],
             [
              0.3333333333333333,
              "#9c179e"
             ],
             [
              0.4444444444444444,
              "#bd3786"
             ],
             [
              0.5555555555555556,
              "#d8576b"
             ],
             [
              0.6666666666666666,
              "#ed7953"
             ],
             [
              0.7777777777777778,
              "#fb9f3a"
             ],
             [
              0.8888888888888888,
              "#fdca26"
             ],
             [
              1,
              "#f0f921"
             ]
            ],
            "type": "contour"
           }
          ],
          "contourcarpet": [
           {
            "colorbar": {
             "outlinewidth": 0,
             "ticks": ""
            },
            "type": "contourcarpet"
           }
          ],
          "heatmap": [
           {
            "colorbar": {
             "outlinewidth": 0,
             "ticks": ""
            },
            "colorscale": [
             [
              0,
              "#0d0887"
             ],
             [
              0.1111111111111111,
              "#46039f"
             ],
             [
              0.2222222222222222,
              "#7201a8"
             ],
             [
              0.3333333333333333,
              "#9c179e"
             ],
             [
              0.4444444444444444,
              "#bd3786"
             ],
             [
              0.5555555555555556,
              "#d8576b"
             ],
             [
              0.6666666666666666,
              "#ed7953"
             ],
             [
              0.7777777777777778,
              "#fb9f3a"
             ],
             [
              0.8888888888888888,
              "#fdca26"
             ],
             [
              1,
              "#f0f921"
             ]
            ],
            "type": "heatmap"
           }
          ],
          "heatmapgl": [
           {
            "colorbar": {
             "outlinewidth": 0,
             "ticks": ""
            },
            "colorscale": [
             [
              0,
              "#0d0887"
             ],
             [
              0.1111111111111111,
              "#46039f"
             ],
             [
              0.2222222222222222,
              "#7201a8"
             ],
             [
              0.3333333333333333,
              "#9c179e"
             ],
             [
              0.4444444444444444,
              "#bd3786"
             ],
             [
              0.5555555555555556,
              "#d8576b"
             ],
             [
              0.6666666666666666,
              "#ed7953"
             ],
             [
              0.7777777777777778,
              "#fb9f3a"
             ],
             [
              0.8888888888888888,
              "#fdca26"
             ],
             [
              1,
              "#f0f921"
             ]
            ],
            "type": "heatmapgl"
           }
          ],
          "histogram": [
           {
            "marker": {
             "pattern": {
              "fillmode": "overlay",
              "size": 10,
              "solidity": 0.2
             }
            },
            "type": "histogram"
           }
          ],
          "histogram2d": [
           {
            "colorbar": {
             "outlinewidth": 0,
             "ticks": ""
            },
            "colorscale": [
             [
              0,
              "#0d0887"
             ],
             [
              0.1111111111111111,
              "#46039f"
             ],
             [
              0.2222222222222222,
              "#7201a8"
             ],
             [
              0.3333333333333333,
              "#9c179e"
             ],
             [
              0.4444444444444444,
              "#bd3786"
             ],
             [
              0.5555555555555556,
              "#d8576b"
             ],
             [
              0.6666666666666666,
              "#ed7953"
             ],
             [
              0.7777777777777778,
              "#fb9f3a"
             ],
             [
              0.8888888888888888,
              "#fdca26"
             ],
             [
              1,
              "#f0f921"
             ]
            ],
            "type": "histogram2d"
           }
          ],
          "histogram2dcontour": [
           {
            "colorbar": {
             "outlinewidth": 0,
             "ticks": ""
            },
            "colorscale": [
             [
              0,
              "#0d0887"
             ],
             [
              0.1111111111111111,
              "#46039f"
             ],
             [
              0.2222222222222222,
              "#7201a8"
             ],
             [
              0.3333333333333333,
              "#9c179e"
             ],
             [
              0.4444444444444444,
              "#bd3786"
             ],
             [
              0.5555555555555556,
              "#d8576b"
             ],
             [
              0.6666666666666666,
              "#ed7953"
             ],
             [
              0.7777777777777778,
              "#fb9f3a"
             ],
             [
              0.8888888888888888,
              "#fdca26"
             ],
             [
              1,
              "#f0f921"
             ]
            ],
            "type": "histogram2dcontour"
           }
          ],
          "mesh3d": [
           {
            "colorbar": {
             "outlinewidth": 0,
             "ticks": ""
            },
            "type": "mesh3d"
           }
          ],
          "parcoords": [
           {
            "line": {
             "colorbar": {
              "outlinewidth": 0,
              "ticks": ""
             }
            },
            "type": "parcoords"
           }
          ],
          "pie": [
           {
            "automargin": true,
            "type": "pie"
           }
          ],
          "scatter": [
           {
            "fillpattern": {
             "fillmode": "overlay",
             "size": 10,
             "solidity": 0.2
            },
            "type": "scatter"
           }
          ],
          "scatter3d": [
           {
            "line": {
             "colorbar": {
              "outlinewidth": 0,
              "ticks": ""
             }
            },
            "marker": {
             "colorbar": {
              "outlinewidth": 0,
              "ticks": ""
             }
            },
            "type": "scatter3d"
           }
          ],
          "scattercarpet": [
           {
            "marker": {
             "colorbar": {
              "outlinewidth": 0,
              "ticks": ""
             }
            },
            "type": "scattercarpet"
           }
          ],
          "scattergeo": [
           {
            "marker": {
             "colorbar": {
              "outlinewidth": 0,
              "ticks": ""
             }
            },
            "type": "scattergeo"
           }
          ],
          "scattergl": [
           {
            "marker": {
             "colorbar": {
              "outlinewidth": 0,
              "ticks": ""
             }
            },
            "type": "scattergl"
           }
          ],
          "scattermapbox": [
           {
            "marker": {
             "colorbar": {
              "outlinewidth": 0,
              "ticks": ""
             }
            },
            "type": "scattermapbox"
           }
          ],
          "scatterpolar": [
           {
            "marker": {
             "colorbar": {
              "outlinewidth": 0,
              "ticks": ""
             }
            },
            "type": "scatterpolar"
           }
          ],
          "scatterpolargl": [
           {
            "marker": {
             "colorbar": {
              "outlinewidth": 0,
              "ticks": ""
             }
            },
            "type": "scatterpolargl"
           }
          ],
          "scatterternary": [
           {
            "marker": {
             "colorbar": {
              "outlinewidth": 0,
              "ticks": ""
             }
            },
            "type": "scatterternary"
           }
          ],
          "surface": [
           {
            "colorbar": {
             "outlinewidth": 0,
             "ticks": ""
            },
            "colorscale": [
             [
              0,
              "#0d0887"
             ],
             [
              0.1111111111111111,
              "#46039f"
             ],
             [
              0.2222222222222222,
              "#7201a8"
             ],
             [
              0.3333333333333333,
              "#9c179e"
             ],
             [
              0.4444444444444444,
              "#bd3786"
             ],
             [
              0.5555555555555556,
              "#d8576b"
             ],
             [
              0.6666666666666666,
              "#ed7953"
             ],
             [
              0.7777777777777778,
              "#fb9f3a"
             ],
             [
              0.8888888888888888,
              "#fdca26"
             ],
             [
              1,
              "#f0f921"
             ]
            ],
            "type": "surface"
           }
          ],
          "table": [
           {
            "cells": {
             "fill": {
              "color": "#EBF0F8"
             },
             "line": {
              "color": "white"
             }
            },
            "header": {
             "fill": {
              "color": "#C8D4E3"
             },
             "line": {
              "color": "white"
             }
            },
            "type": "table"
           }
          ]
         },
         "layout": {
          "annotationdefaults": {
           "arrowcolor": "#2a3f5f",
           "arrowhead": 0,
           "arrowwidth": 1
          },
          "autotypenumbers": "strict",
          "coloraxis": {
           "colorbar": {
            "outlinewidth": 0,
            "ticks": ""
           }
          },
          "colorscale": {
           "diverging": [
            [
             0,
             "#8e0152"
            ],
            [
             0.1,
             "#c51b7d"
            ],
            [
             0.2,
             "#de77ae"
            ],
            [
             0.3,
             "#f1b6da"
            ],
            [
             0.4,
             "#fde0ef"
            ],
            [
             0.5,
             "#f7f7f7"
            ],
            [
             0.6,
             "#e6f5d0"
            ],
            [
             0.7,
             "#b8e186"
            ],
            [
             0.8,
             "#7fbc41"
            ],
            [
             0.9,
             "#4d9221"
            ],
            [
             1,
             "#276419"
            ]
           ],
           "sequential": [
            [
             0,
             "#0d0887"
            ],
            [
             0.1111111111111111,
             "#46039f"
            ],
            [
             0.2222222222222222,
             "#7201a8"
            ],
            [
             0.3333333333333333,
             "#9c179e"
            ],
            [
             0.4444444444444444,
             "#bd3786"
            ],
            [
             0.5555555555555556,
             "#d8576b"
            ],
            [
             0.6666666666666666,
             "#ed7953"
            ],
            [
             0.7777777777777778,
             "#fb9f3a"
            ],
            [
             0.8888888888888888,
             "#fdca26"
            ],
            [
             1,
             "#f0f921"
            ]
           ],
           "sequentialminus": [
            [
             0,
             "#0d0887"
            ],
            [
             0.1111111111111111,
             "#46039f"
            ],
            [
             0.2222222222222222,
             "#7201a8"
            ],
            [
             0.3333333333333333,
             "#9c179e"
            ],
            [
             0.4444444444444444,
             "#bd3786"
            ],
            [
             0.5555555555555556,
             "#d8576b"
            ],
            [
             0.6666666666666666,
             "#ed7953"
            ],
            [
             0.7777777777777778,
             "#fb9f3a"
            ],
            [
             0.8888888888888888,
             "#fdca26"
            ],
            [
             1,
             "#f0f921"
            ]
           ]
          },
          "colorway": [
           "#636efa",
           "#EF553B",
           "#00cc96",
           "#ab63fa",
           "#FFA15A",
           "#19d3f3",
           "#FF6692",
           "#B6E880",
           "#FF97FF",
           "#FECB52"
          ],
          "font": {
           "color": "#2a3f5f"
          },
          "geo": {
           "bgcolor": "white",
           "lakecolor": "white",
           "landcolor": "#E5ECF6",
           "showlakes": true,
           "showland": true,
           "subunitcolor": "white"
          },
          "hoverlabel": {
           "align": "left"
          },
          "hovermode": "closest",
          "mapbox": {
           "style": "light"
          },
          "paper_bgcolor": "white",
          "plot_bgcolor": "#E5ECF6",
          "polar": {
           "angularaxis": {
            "gridcolor": "white",
            "linecolor": "white",
            "ticks": ""
           },
           "bgcolor": "#E5ECF6",
           "radialaxis": {
            "gridcolor": "white",
            "linecolor": "white",
            "ticks": ""
           }
          },
          "scene": {
           "xaxis": {
            "backgroundcolor": "#E5ECF6",
            "gridcolor": "white",
            "gridwidth": 2,
            "linecolor": "white",
            "showbackground": true,
            "ticks": "",
            "zerolinecolor": "white"
           },
           "yaxis": {
            "backgroundcolor": "#E5ECF6",
            "gridcolor": "white",
            "gridwidth": 2,
            "linecolor": "white",
            "showbackground": true,
            "ticks": "",
            "zerolinecolor": "white"
           },
           "zaxis": {
            "backgroundcolor": "#E5ECF6",
            "gridcolor": "white",
            "gridwidth": 2,
            "linecolor": "white",
            "showbackground": true,
            "ticks": "",
            "zerolinecolor": "white"
           }
          },
          "shapedefaults": {
           "line": {
            "color": "#2a3f5f"
           }
          },
          "ternary": {
           "aaxis": {
            "gridcolor": "white",
            "linecolor": "white",
            "ticks": ""
           },
           "baxis": {
            "gridcolor": "white",
            "linecolor": "white",
            "ticks": ""
           },
           "bgcolor": "#E5ECF6",
           "caxis": {
            "gridcolor": "white",
            "linecolor": "white",
            "ticks": ""
           }
          },
          "title": {
           "x": 0.05
          },
          "xaxis": {
           "automargin": true,
           "gridcolor": "white",
           "linecolor": "white",
           "ticks": "",
           "title": {
            "standoff": 15
           },
           "zerolinecolor": "white",
           "zerolinewidth": 2
          },
          "yaxis": {
           "automargin": true,
           "gridcolor": "white",
           "linecolor": "white",
           "ticks": "",
           "title": {
            "standoff": 15
           },
           "zerolinecolor": "white",
           "zerolinewidth": 2
          }
         }
        },
        "xaxis": {
         "anchor": "y",
         "domain": [
          0,
          1
         ],
         "title": {
          "text": "annee"
         }
        },
        "yaxis": {
         "anchor": "x",
         "domain": [
          0,
          1
         ],
         "title": {
          "text": "pourcentage"
         }
        }
       }
      }
     },
     "metadata": {},
     "output_type": "display_data"
    }
   ],
   "source": [
    "fig.show()"
   ]
  },
  {
   "cell_type": "code",
   "execution_count": null,
   "metadata": {},
   "outputs": [],
   "source": []
  }
 ],
 "metadata": {
  "kernelspec": {
   "display_name": "CREST",
   "language": "python",
   "name": "python3"
  },
  "language_info": {
   "codemirror_mode": {
    "name": "ipython",
    "version": 3
   },
   "file_extension": ".py",
   "mimetype": "text/x-python",
   "name": "python",
   "nbconvert_exporter": "python",
   "pygments_lexer": "ipython3",
   "version": "3.12.7"
  }
 },
 "nbformat": 4,
 "nbformat_minor": 2
}
