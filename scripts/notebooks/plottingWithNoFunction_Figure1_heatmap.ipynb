{
 "cells": [
  {
   "cell_type": "markdown",
   "metadata": {},
   "source": [
    "This notebook goal is to plot a figure using no custom function before we get to design and write useful ones"
   ]
  },
  {
   "cell_type": "markdown",
   "metadata": {},
   "source": [
    "# Imports"
   ]
  },
  {
   "cell_type": "code",
   "execution_count": 1,
   "metadata": {},
   "outputs": [],
   "source": [
    "# Third Parties\n",
    "import pandas as pd\n",
    "import plotly.express as px\n",
    "import plotly.graph_objs as go\n",
    "import numpy as np \n",
    "\n",
    "# Native\n",
    "\n",
    "# Custom \n",
    "# /\n",
    "\n",
    "# Classes\n",
    "from plotly.graph_objs._figure import Figure as goFigure\n",
    "# Functions\n",
    "from plotly.subplots import make_subplots\n",
    "from itertools import product"
   ]
  },
  {
   "cell_type": "markdown",
   "metadata": {},
   "source": [
    "# Open file and prepare for plotting"
   ]
  },
  {
   "cell_type": "code",
   "execution_count": 2,
   "metadata": {},
   "outputs": [
    {
     "name": "stderr",
     "output_type": "stream",
     "text": [
      "/var/folders/xs/d90v1vkn16db_7z493h6kwt40000gn/T/ipykernel_27193/3563665539.py:1: DtypeWarning: Columns (0) have mixed types. Specify dtype option on import or set low_memory=False.\n",
      "  articles = pd.read_csv(\n"
     ]
    }
   ],
   "source": [
    "articles = pd.read_csv(\n",
    "    '../../data/2025-01-07-2024-10-29-quinquadef4-neat-abstract-bert.csv'\n",
    ")\n",
    "\n",
    "revues = pd.read_csv(\n",
    "    '../../data/Classification revues - Feuille 1.csv'\n",
    ")"
   ]
  },
  {
   "cell_type": "code",
   "execution_count": 3,
   "metadata": {},
   "outputs": [
    {
     "data": {
      "text/plain": [
       "Index(['iddef', 'titre', 'soustitre', 'auteurs', 'annee', 'revue', 'num_titre',\n",
       "       'num_num', 'abstract', 'url_art', 'auteurs_fam', 'auteurs_prenom',\n",
       "       'source', 'n_auteurs', 'femme', 'annee5', 'majo_femmes', 'sexe3',\n",
       "       'tag_race', 'tag_inclusif', 'bert_pronoms', 'bert_quanti', 'bert_quali',\n",
       "       'bert_genre', 'bert_genre_stat', 'bert_classe_large',\n",
       "       'bert_classe_stricte', 'bert_genre_pas_stat', 'bert_monostricte',\n",
       "       'bert_interstricte_2plus', 'bert_interstricte_3',\n",
       "       'bert_interstricte_GC', 'bert_interstricte_GR', 'bert_interstricte_CR',\n",
       "       'bert_interstricte_cl', 'bert_interstricte_cl2', 'bert_monolarge',\n",
       "       'bert_interlarge_2plus', 'bert_interlarge_3', 'bert_interlarge_GC',\n",
       "       'bert_interlarge_GR', 'bert_interlarge_CR', 'bert_interlarge_cl',\n",
       "       'bert_interlarge_cl2'],\n",
       "      dtype='object')"
      ]
     },
     "execution_count": 3,
     "metadata": {},
     "output_type": "execute_result"
    }
   ],
   "source": [
    "articles.columns"
   ]
  },
  {
   "cell_type": "code",
   "execution_count": 4,
   "metadata": {},
   "outputs": [
    {
     "data": {
      "text/plain": [
       "Index(['revue', 'Dominante', 'Aréale', 'Anthropo', 'Demo', 'Eco', 'Genre',\n",
       "       'Géographie', 'Histoire', 'SIC', 'Sociologie', 'SciencePo'],\n",
       "      dtype='object')"
      ]
     },
     "execution_count": 4,
     "metadata": {},
     "output_type": "execute_result"
    }
   ],
   "source": [
    "revues.columns"
   ]
  },
  {
   "cell_type": "markdown",
   "metadata": {},
   "source": [
    "## Doing non-sense because i am stupid"
   ]
  },
  {
   "cell_type": "code",
   "execution_count": 6,
   "metadata": {},
   "outputs": [
    {
     "name": "stderr",
     "output_type": "stream",
     "text": [
      "/var/folders/xs/d90v1vkn16db_7z493h6kwt40000gn/T/ipykernel_27193/1780883791.py:4: FutureWarning: Downcasting behavior in `replace` is deprecated and will be removed in a future version. To retain the old behavior, explicitly call `result.infer_objects(copy=False)`. To opt-in to the future behavior, set `pd.set_option('future.no_silent_downcasting', True)`\n",
      "  revues = revues.replace({'x' : True})\n"
     ]
    }
   ],
   "source": [
    "# Transforming cells, where NaN -> False and where x -> True\n",
    "# revues.replace({np.nan: False, 'x' : True})\n",
    "revues = revues.fillna(False)\n",
    "revues = revues.replace({'x' : True})\n",
    "revues = revues.astype({\n",
    "    'revue'         : str,\n",
    "    'Dominante'     : str,\n",
    "    'Aréale'        : bool,\n",
    "    'Anthropo'      : bool,\n",
    "    'Demo'          : bool,\n",
    "    'Eco'           : bool,\n",
    "    'Genre'         : bool,\n",
    "    'Géographie'    : bool,\n",
    "    'Histoire'      : bool,\n",
    "    'SIC'           : bool,\n",
    "    'Sociologie'    : bool,\n",
    "    'SciencePo'     : bool\n",
    "})\n",
    "revues.loc[:,'Dominante'] = revues.loc[:,'Dominante'].replace({'Économie' : 'Economie'})"
   ]
  },
  {
   "cell_type": "code",
   "execution_count": 7,
   "metadata": {},
   "outputs": [],
   "source": [
    "CAT = [\n",
    "    'Aréale'    ,\n",
    "    'Anthropologie'  ,\n",
    "    'Démographie'      ,\n",
    "    'Economie'       ,\n",
    "    'Genre'     ,\n",
    "    'Géographie',\n",
    "    'Histoire'  ,\n",
    "    'SIC'       ,\n",
    "    'Sociologie',\n",
    "    'Science politique' \n",
    "]\n",
    "\n",
    "df = pd.DataFrame({\n",
    "    \"annee\"         : [],\n",
    "    'Aréale'        : [],\n",
    "    'Anthropologie' : [],\n",
    "    'Démographie'   : [],\n",
    "    'Economie'      : [],\n",
    "    'Genre'         : [],\n",
    "    'Géographie'    : [],\n",
    "    'Histoire'      : [],\n",
    "    'SIC'           : [],\n",
    "    'Sociologie'    : [],\n",
    "    'Science politique'         : [],\n",
    "    'Autre interdisciplinaire'  : []\n",
    "})\n"
   ]
  },
  {
   "cell_type": "code",
   "execution_count": 8,
   "metadata": {},
   "outputs": [
    {
     "data": {
      "text/html": [
       "<div>\n",
       "<style scoped>\n",
       "    .dataframe tbody tr th:only-of-type {\n",
       "        vertical-align: middle;\n",
       "    }\n",
       "\n",
       "    .dataframe tbody tr th {\n",
       "        vertical-align: top;\n",
       "    }\n",
       "\n",
       "    .dataframe thead th {\n",
       "        text-align: right;\n",
       "    }\n",
       "</style>\n",
       "<table border=\"1\" class=\"dataframe\">\n",
       "  <thead>\n",
       "    <tr style=\"text-align: right;\">\n",
       "      <th></th>\n",
       "      <th>revue</th>\n",
       "      <th>Dominante</th>\n",
       "      <th>Aréale</th>\n",
       "      <th>Anthropo</th>\n",
       "      <th>Demo</th>\n",
       "      <th>Eco</th>\n",
       "      <th>Genre</th>\n",
       "      <th>Géographie</th>\n",
       "      <th>Histoire</th>\n",
       "      <th>SIC</th>\n",
       "      <th>Sociologie</th>\n",
       "      <th>SciencePo</th>\n",
       "    </tr>\n",
       "  </thead>\n",
       "  <tbody>\n",
       "    <tr>\n",
       "      <th>0</th>\n",
       "      <td>Les Études Sociales</td>\n",
       "      <td>Autre interdisciplinaire</td>\n",
       "      <td>False</td>\n",
       "      <td>False</td>\n",
       "      <td>False</td>\n",
       "      <td>False</td>\n",
       "      <td>False</td>\n",
       "      <td>False</td>\n",
       "      <td>True</td>\n",
       "      <td>False</td>\n",
       "      <td>True</td>\n",
       "      <td>False</td>\n",
       "    </tr>\n",
       "    <tr>\n",
       "      <th>1</th>\n",
       "      <td>Ethnologie française</td>\n",
       "      <td>Anthropologie</td>\n",
       "      <td>False</td>\n",
       "      <td>True</td>\n",
       "      <td>False</td>\n",
       "      <td>False</td>\n",
       "      <td>False</td>\n",
       "      <td>False</td>\n",
       "      <td>False</td>\n",
       "      <td>False</td>\n",
       "      <td>True</td>\n",
       "      <td>False</td>\n",
       "    </tr>\n",
       "    <tr>\n",
       "      <th>2</th>\n",
       "      <td>Hommes &amp; Migrations</td>\n",
       "      <td>Anthropologie</td>\n",
       "      <td>False</td>\n",
       "      <td>True</td>\n",
       "      <td>False</td>\n",
       "      <td>False</td>\n",
       "      <td>False</td>\n",
       "      <td>False</td>\n",
       "      <td>False</td>\n",
       "      <td>False</td>\n",
       "      <td>False</td>\n",
       "      <td>False</td>\n",
       "    </tr>\n",
       "    <tr>\n",
       "      <th>3</th>\n",
       "      <td>Journal des anthropologues</td>\n",
       "      <td>Anthropologie</td>\n",
       "      <td>False</td>\n",
       "      <td>True</td>\n",
       "      <td>False</td>\n",
       "      <td>False</td>\n",
       "      <td>False</td>\n",
       "      <td>False</td>\n",
       "      <td>False</td>\n",
       "      <td>False</td>\n",
       "      <td>False</td>\n",
       "      <td>False</td>\n",
       "    </tr>\n",
       "    <tr>\n",
       "      <th>4</th>\n",
       "      <td>L’Homme</td>\n",
       "      <td>Anthropologie</td>\n",
       "      <td>False</td>\n",
       "      <td>True</td>\n",
       "      <td>False</td>\n",
       "      <td>False</td>\n",
       "      <td>False</td>\n",
       "      <td>False</td>\n",
       "      <td>False</td>\n",
       "      <td>False</td>\n",
       "      <td>False</td>\n",
       "      <td>False</td>\n",
       "    </tr>\n",
       "  </tbody>\n",
       "</table>\n",
       "</div>"
      ],
      "text/plain": [
       "                        revue                 Dominante  Aréale  Anthropo  \\\n",
       "0         Les Études Sociales  Autre interdisciplinaire   False     False   \n",
       "1        Ethnologie française             Anthropologie   False      True   \n",
       "2         Hommes & Migrations             Anthropologie   False      True   \n",
       "3  Journal des anthropologues             Anthropologie   False      True   \n",
       "4                     L’Homme             Anthropologie   False      True   \n",
       "\n",
       "    Demo    Eco  Genre  Géographie  Histoire    SIC  Sociologie  SciencePo  \n",
       "0  False  False  False       False      True  False        True      False  \n",
       "1  False  False  False       False     False  False        True      False  \n",
       "2  False  False  False       False     False  False       False      False  \n",
       "3  False  False  False       False     False  False       False      False  \n",
       "4  False  False  False       False     False  False       False      False  "
      ]
     },
     "execution_count": 8,
     "metadata": {},
     "output_type": "execute_result"
    }
   ],
   "source": [
    "revues.head()"
   ]
  },
  {
   "cell_type": "code",
   "execution_count": 9,
   "metadata": {},
   "outputs": [
    {
     "data": {
      "text/html": [
       "<div>\n",
       "<style scoped>\n",
       "    .dataframe tbody tr th:only-of-type {\n",
       "        vertical-align: middle;\n",
       "    }\n",
       "\n",
       "    .dataframe tbody tr th {\n",
       "        vertical-align: top;\n",
       "    }\n",
       "\n",
       "    .dataframe thead th {\n",
       "        text-align: right;\n",
       "    }\n",
       "</style>\n",
       "<table border=\"1\" class=\"dataframe\">\n",
       "  <thead>\n",
       "    <tr style=\"text-align: right;\">\n",
       "      <th></th>\n",
       "      <th>annee</th>\n",
       "      <th>Aréale</th>\n",
       "      <th>Anthropologie</th>\n",
       "      <th>Démographie</th>\n",
       "      <th>Economie</th>\n",
       "      <th>Genre</th>\n",
       "      <th>Géographie</th>\n",
       "      <th>Histoire</th>\n",
       "      <th>SIC</th>\n",
       "      <th>Sociologie</th>\n",
       "      <th>Science politique</th>\n",
       "      <th>Autre interdisciplinaire</th>\n",
       "    </tr>\n",
       "  </thead>\n",
       "  <tbody>\n",
       "  </tbody>\n",
       "</table>\n",
       "</div>"
      ],
      "text/plain": [
       "Empty DataFrame\n",
       "Columns: [annee, Aréale, Anthropologie, Démographie, Economie, Genre, Géographie, Histoire, SIC, Sociologie, Science politique, Autre interdisciplinaire]\n",
       "Index: []"
      ]
     },
     "execution_count": 9,
     "metadata": {},
     "output_type": "execute_result"
    }
   ],
   "source": [
    "df"
   ]
  },
  {
   "cell_type": "code",
   "execution_count": 9,
   "metadata": {},
   "outputs": [],
   "source": [
    "unknown_revues = []\n",
    "unknown_categories = []\n",
    "for i in range(len(articles)): \n",
    "    # retrieve the publication year and the name of the revue\n",
    "    revue_i : str = articles.loc[i,'revue']\n",
    "    annee_i : int = int(articles.loc[i,'annee'])\n",
    "\n",
    "    # find if the category\n",
    "    try : \n",
    "        found_categorie : str = revues.loc[\n",
    "                                    revues.revue == revue_i,\n",
    "                                    'Dominante'].item()\n",
    "    except:\n",
    "        unknown_revues.append(revue_i)\n",
    "        pass\n",
    "\n",
    "    if found_categorie in CAT : \n",
    "        cat_label : str = found_categorie\n",
    "    else : \n",
    "        if found_categorie != 'Autre interdisciplinaire' : \n",
    "            unknown_categories.append(found_categorie)\n",
    "            \n",
    "        cat_label : str = 'Autre interdisciplinaire'\n",
    "\n",
    "    # Make sure the row for the year exists\n",
    "    if annee_i not in df['annee'].values:\n",
    "        # if not, create it\n",
    "        df.loc[len(df),:] = [annee_i] + [0] * (len(df.columns) - 1)\n",
    "    \n",
    "    # add data to df\n",
    "    df.loc[\n",
    "        df['annee'] == annee_i,\n",
    "        cat_label\n",
    "    ] += 1\n",
    "    "
   ]
  },
  {
   "cell_type": "code",
   "execution_count": 10,
   "metadata": {},
   "outputs": [
    {
     "data": {
      "text/plain": [
       "{'Commentaire', 'Éducation & formations'}"
      ]
     },
     "execution_count": 10,
     "metadata": {},
     "output_type": "execute_result"
    }
   ],
   "source": [
    "set(unknown_revues)"
   ]
  },
  {
   "cell_type": "code",
   "execution_count": 11,
   "metadata": {},
   "outputs": [
    {
     "data": {
      "text/plain": [
       "set()"
      ]
     },
     "execution_count": 11,
     "metadata": {},
     "output_type": "execute_result"
    }
   ],
   "source": [
    "set(unknown_categories)"
   ]
  },
  {
   "cell_type": "code",
   "execution_count": 12,
   "metadata": {},
   "outputs": [
    {
     "data": {
      "text/html": [
       "<div>\n",
       "<style scoped>\n",
       "    .dataframe tbody tr th:only-of-type {\n",
       "        vertical-align: middle;\n",
       "    }\n",
       "\n",
       "    .dataframe tbody tr th {\n",
       "        vertical-align: top;\n",
       "    }\n",
       "\n",
       "    .dataframe thead th {\n",
       "        text-align: right;\n",
       "    }\n",
       "</style>\n",
       "<table border=\"1\" class=\"dataframe\">\n",
       "  <thead>\n",
       "    <tr style=\"text-align: right;\">\n",
       "      <th></th>\n",
       "      <th>annee</th>\n",
       "      <th>Aréale</th>\n",
       "      <th>Anthropologie</th>\n",
       "      <th>Démographie</th>\n",
       "      <th>Economie</th>\n",
       "      <th>Genre</th>\n",
       "      <th>Géographie</th>\n",
       "      <th>Histoire</th>\n",
       "      <th>SIC</th>\n",
       "      <th>Sociologie</th>\n",
       "      <th>Science politique</th>\n",
       "      <th>Autre interdisciplinaire</th>\n",
       "    </tr>\n",
       "  </thead>\n",
       "  <tbody>\n",
       "    <tr>\n",
       "      <th>0</th>\n",
       "      <td>2001</td>\n",
       "      <td>56</td>\n",
       "      <td>80</td>\n",
       "      <td>4</td>\n",
       "      <td>29</td>\n",
       "      <td>54</td>\n",
       "      <td>15</td>\n",
       "      <td>153</td>\n",
       "      <td>87</td>\n",
       "      <td>165</td>\n",
       "      <td>200</td>\n",
       "      <td>170</td>\n",
       "    </tr>\n",
       "    <tr>\n",
       "      <th>1</th>\n",
       "      <td>2002</td>\n",
       "      <td>73</td>\n",
       "      <td>82</td>\n",
       "      <td>25</td>\n",
       "      <td>61</td>\n",
       "      <td>57</td>\n",
       "      <td>14</td>\n",
       "      <td>185</td>\n",
       "      <td>131</td>\n",
       "      <td>157</td>\n",
       "      <td>171</td>\n",
       "      <td>185</td>\n",
       "    </tr>\n",
       "    <tr>\n",
       "      <th>2</th>\n",
       "      <td>2003</td>\n",
       "      <td>146</td>\n",
       "      <td>79</td>\n",
       "      <td>23</td>\n",
       "      <td>95</td>\n",
       "      <td>72</td>\n",
       "      <td>15</td>\n",
       "      <td>176</td>\n",
       "      <td>145</td>\n",
       "      <td>200</td>\n",
       "      <td>191</td>\n",
       "      <td>253</td>\n",
       "    </tr>\n",
       "    <tr>\n",
       "      <th>3</th>\n",
       "      <td>2004</td>\n",
       "      <td>122</td>\n",
       "      <td>88</td>\n",
       "      <td>20</td>\n",
       "      <td>94</td>\n",
       "      <td>67</td>\n",
       "      <td>36</td>\n",
       "      <td>188</td>\n",
       "      <td>162</td>\n",
       "      <td>197</td>\n",
       "      <td>206</td>\n",
       "      <td>348</td>\n",
       "    </tr>\n",
       "    <tr>\n",
       "      <th>4</th>\n",
       "      <td>2005</td>\n",
       "      <td>104</td>\n",
       "      <td>87</td>\n",
       "      <td>17</td>\n",
       "      <td>109</td>\n",
       "      <td>69</td>\n",
       "      <td>45</td>\n",
       "      <td>189</td>\n",
       "      <td>130</td>\n",
       "      <td>224</td>\n",
       "      <td>159</td>\n",
       "      <td>411</td>\n",
       "    </tr>\n",
       "    <tr>\n",
       "      <th>5</th>\n",
       "      <td>2006</td>\n",
       "      <td>153</td>\n",
       "      <td>93</td>\n",
       "      <td>21</td>\n",
       "      <td>153</td>\n",
       "      <td>81</td>\n",
       "      <td>48</td>\n",
       "      <td>187</td>\n",
       "      <td>144</td>\n",
       "      <td>203</td>\n",
       "      <td>170</td>\n",
       "      <td>492</td>\n",
       "    </tr>\n",
       "    <tr>\n",
       "      <th>6</th>\n",
       "      <td>2007</td>\n",
       "      <td>139</td>\n",
       "      <td>108</td>\n",
       "      <td>36</td>\n",
       "      <td>180</td>\n",
       "      <td>64</td>\n",
       "      <td>37</td>\n",
       "      <td>238</td>\n",
       "      <td>127</td>\n",
       "      <td>285</td>\n",
       "      <td>239</td>\n",
       "      <td>524</td>\n",
       "    </tr>\n",
       "    <tr>\n",
       "      <th>7</th>\n",
       "      <td>2008</td>\n",
       "      <td>186</td>\n",
       "      <td>106</td>\n",
       "      <td>32</td>\n",
       "      <td>164</td>\n",
       "      <td>67</td>\n",
       "      <td>47</td>\n",
       "      <td>265</td>\n",
       "      <td>170</td>\n",
       "      <td>334</td>\n",
       "      <td>254</td>\n",
       "      <td>468</td>\n",
       "    </tr>\n",
       "    <tr>\n",
       "      <th>8</th>\n",
       "      <td>2009</td>\n",
       "      <td>244</td>\n",
       "      <td>91</td>\n",
       "      <td>26</td>\n",
       "      <td>120</td>\n",
       "      <td>89</td>\n",
       "      <td>39</td>\n",
       "      <td>277</td>\n",
       "      <td>184</td>\n",
       "      <td>334</td>\n",
       "      <td>236</td>\n",
       "      <td>524</td>\n",
       "    </tr>\n",
       "    <tr>\n",
       "      <th>9</th>\n",
       "      <td>2010</td>\n",
       "      <td>233</td>\n",
       "      <td>108</td>\n",
       "      <td>50</td>\n",
       "      <td>146</td>\n",
       "      <td>83</td>\n",
       "      <td>45</td>\n",
       "      <td>279</td>\n",
       "      <td>181</td>\n",
       "      <td>344</td>\n",
       "      <td>271</td>\n",
       "      <td>569</td>\n",
       "    </tr>\n",
       "    <tr>\n",
       "      <th>10</th>\n",
       "      <td>2011</td>\n",
       "      <td>225</td>\n",
       "      <td>129</td>\n",
       "      <td>34</td>\n",
       "      <td>126</td>\n",
       "      <td>94</td>\n",
       "      <td>45</td>\n",
       "      <td>286</td>\n",
       "      <td>187</td>\n",
       "      <td>431</td>\n",
       "      <td>257</td>\n",
       "      <td>537</td>\n",
       "    </tr>\n",
       "    <tr>\n",
       "      <th>11</th>\n",
       "      <td>2012</td>\n",
       "      <td>230</td>\n",
       "      <td>109</td>\n",
       "      <td>37</td>\n",
       "      <td>134</td>\n",
       "      <td>80</td>\n",
       "      <td>42</td>\n",
       "      <td>295</td>\n",
       "      <td>181</td>\n",
       "      <td>377</td>\n",
       "      <td>282</td>\n",
       "      <td>554</td>\n",
       "    </tr>\n",
       "    <tr>\n",
       "      <th>12</th>\n",
       "      <td>2013</td>\n",
       "      <td>247</td>\n",
       "      <td>106</td>\n",
       "      <td>36</td>\n",
       "      <td>141</td>\n",
       "      <td>81</td>\n",
       "      <td>44</td>\n",
       "      <td>259</td>\n",
       "      <td>156</td>\n",
       "      <td>351</td>\n",
       "      <td>281</td>\n",
       "      <td>507</td>\n",
       "    </tr>\n",
       "    <tr>\n",
       "      <th>13</th>\n",
       "      <td>2014</td>\n",
       "      <td>205</td>\n",
       "      <td>123</td>\n",
       "      <td>30</td>\n",
       "      <td>139</td>\n",
       "      <td>71</td>\n",
       "      <td>44</td>\n",
       "      <td>277</td>\n",
       "      <td>196</td>\n",
       "      <td>385</td>\n",
       "      <td>305</td>\n",
       "      <td>592</td>\n",
       "    </tr>\n",
       "    <tr>\n",
       "      <th>14</th>\n",
       "      <td>2015</td>\n",
       "      <td>268</td>\n",
       "      <td>110</td>\n",
       "      <td>31</td>\n",
       "      <td>156</td>\n",
       "      <td>66</td>\n",
       "      <td>46</td>\n",
       "      <td>296</td>\n",
       "      <td>216</td>\n",
       "      <td>411</td>\n",
       "      <td>259</td>\n",
       "      <td>516</td>\n",
       "    </tr>\n",
       "    <tr>\n",
       "      <th>15</th>\n",
       "      <td>2016</td>\n",
       "      <td>272</td>\n",
       "      <td>116</td>\n",
       "      <td>38</td>\n",
       "      <td>195</td>\n",
       "      <td>100</td>\n",
       "      <td>41</td>\n",
       "      <td>263</td>\n",
       "      <td>159</td>\n",
       "      <td>389</td>\n",
       "      <td>339</td>\n",
       "      <td>568</td>\n",
       "    </tr>\n",
       "    <tr>\n",
       "      <th>16</th>\n",
       "      <td>2017</td>\n",
       "      <td>251</td>\n",
       "      <td>116</td>\n",
       "      <td>32</td>\n",
       "      <td>162</td>\n",
       "      <td>88</td>\n",
       "      <td>67</td>\n",
       "      <td>250</td>\n",
       "      <td>191</td>\n",
       "      <td>363</td>\n",
       "      <td>281</td>\n",
       "      <td>568</td>\n",
       "    </tr>\n",
       "    <tr>\n",
       "      <th>17</th>\n",
       "      <td>2018</td>\n",
       "      <td>233</td>\n",
       "      <td>111</td>\n",
       "      <td>30</td>\n",
       "      <td>165</td>\n",
       "      <td>79</td>\n",
       "      <td>32</td>\n",
       "      <td>312</td>\n",
       "      <td>205</td>\n",
       "      <td>398</td>\n",
       "      <td>299</td>\n",
       "      <td>619</td>\n",
       "    </tr>\n",
       "    <tr>\n",
       "      <th>18</th>\n",
       "      <td>2019</td>\n",
       "      <td>256</td>\n",
       "      <td>104</td>\n",
       "      <td>39</td>\n",
       "      <td>177</td>\n",
       "      <td>72</td>\n",
       "      <td>44</td>\n",
       "      <td>334</td>\n",
       "      <td>173</td>\n",
       "      <td>383</td>\n",
       "      <td>293</td>\n",
       "      <td>501</td>\n",
       "    </tr>\n",
       "    <tr>\n",
       "      <th>19</th>\n",
       "      <td>2020</td>\n",
       "      <td>224</td>\n",
       "      <td>78</td>\n",
       "      <td>21</td>\n",
       "      <td>149</td>\n",
       "      <td>60</td>\n",
       "      <td>51</td>\n",
       "      <td>305</td>\n",
       "      <td>148</td>\n",
       "      <td>335</td>\n",
       "      <td>268</td>\n",
       "      <td>470</td>\n",
       "    </tr>\n",
       "    <tr>\n",
       "      <th>20</th>\n",
       "      <td>2021</td>\n",
       "      <td>255</td>\n",
       "      <td>210</td>\n",
       "      <td>29</td>\n",
       "      <td>153</td>\n",
       "      <td>108</td>\n",
       "      <td>59</td>\n",
       "      <td>325</td>\n",
       "      <td>189</td>\n",
       "      <td>373</td>\n",
       "      <td>308</td>\n",
       "      <td>585</td>\n",
       "    </tr>\n",
       "    <tr>\n",
       "      <th>21</th>\n",
       "      <td>2022</td>\n",
       "      <td>219</td>\n",
       "      <td>241</td>\n",
       "      <td>28</td>\n",
       "      <td>162</td>\n",
       "      <td>92</td>\n",
       "      <td>49</td>\n",
       "      <td>323</td>\n",
       "      <td>180</td>\n",
       "      <td>324</td>\n",
       "      <td>304</td>\n",
       "      <td>558</td>\n",
       "    </tr>\n",
       "    <tr>\n",
       "      <th>22</th>\n",
       "      <td>2023</td>\n",
       "      <td>191</td>\n",
       "      <td>163</td>\n",
       "      <td>10</td>\n",
       "      <td>90</td>\n",
       "      <td>74</td>\n",
       "      <td>28</td>\n",
       "      <td>214</td>\n",
       "      <td>104</td>\n",
       "      <td>208</td>\n",
       "      <td>222</td>\n",
       "      <td>434</td>\n",
       "    </tr>\n",
       "  </tbody>\n",
       "</table>\n",
       "</div>"
      ],
      "text/plain": [
       "    annee  Aréale  Anthropologie  Démographie  Economie  Genre  Géographie  \\\n",
       "0    2001      56             80            4        29     54          15   \n",
       "1    2002      73             82           25        61     57          14   \n",
       "2    2003     146             79           23        95     72          15   \n",
       "3    2004     122             88           20        94     67          36   \n",
       "4    2005     104             87           17       109     69          45   \n",
       "5    2006     153             93           21       153     81          48   \n",
       "6    2007     139            108           36       180     64          37   \n",
       "7    2008     186            106           32       164     67          47   \n",
       "8    2009     244             91           26       120     89          39   \n",
       "9    2010     233            108           50       146     83          45   \n",
       "10   2011     225            129           34       126     94          45   \n",
       "11   2012     230            109           37       134     80          42   \n",
       "12   2013     247            106           36       141     81          44   \n",
       "13   2014     205            123           30       139     71          44   \n",
       "14   2015     268            110           31       156     66          46   \n",
       "15   2016     272            116           38       195    100          41   \n",
       "16   2017     251            116           32       162     88          67   \n",
       "17   2018     233            111           30       165     79          32   \n",
       "18   2019     256            104           39       177     72          44   \n",
       "19   2020     224             78           21       149     60          51   \n",
       "20   2021     255            210           29       153    108          59   \n",
       "21   2022     219            241           28       162     92          49   \n",
       "22   2023     191            163           10        90     74          28   \n",
       "\n",
       "    Histoire  SIC  Sociologie  Science politique  Autre interdisciplinaire  \n",
       "0        153   87         165                200                       170  \n",
       "1        185  131         157                171                       185  \n",
       "2        176  145         200                191                       253  \n",
       "3        188  162         197                206                       348  \n",
       "4        189  130         224                159                       411  \n",
       "5        187  144         203                170                       492  \n",
       "6        238  127         285                239                       524  \n",
       "7        265  170         334                254                       468  \n",
       "8        277  184         334                236                       524  \n",
       "9        279  181         344                271                       569  \n",
       "10       286  187         431                257                       537  \n",
       "11       295  181         377                282                       554  \n",
       "12       259  156         351                281                       507  \n",
       "13       277  196         385                305                       592  \n",
       "14       296  216         411                259                       516  \n",
       "15       263  159         389                339                       568  \n",
       "16       250  191         363                281                       568  \n",
       "17       312  205         398                299                       619  \n",
       "18       334  173         383                293                       501  \n",
       "19       305  148         335                268                       470  \n",
       "20       325  189         373                308                       585  \n",
       "21       323  180         324                304                       558  \n",
       "22       214  104         208                222                       434  "
      ]
     },
     "execution_count": 12,
     "metadata": {},
     "output_type": "execute_result"
    }
   ],
   "source": [
    "df = df.astype({\n",
    "    \"annee\"         : int,\n",
    "    'Aréale'        : int,\n",
    "    'Anthropologie' : int,\n",
    "    'Démographie'   : int,\n",
    "    'Economie'      : int,\n",
    "    'Genre'         : int,\n",
    "    'Géographie'    : int,\n",
    "    'Histoire'      : int,\n",
    "    'SIC'           : int,\n",
    "    'Sociologie'    : int,\n",
    "    'Science politique'         : int,\n",
    "    'Autre interdisciplinaire'  : int\n",
    "})\n",
    "df = df.sort_values('annee')\n",
    "df.index = np.arange(0,len(df))\n",
    "df"
   ]
  },
  {
   "cell_type": "code",
   "execution_count": 13,
   "metadata": {},
   "outputs": [],
   "source": [
    "df.to_csv('../../data/checkpoints/categories_DRAFT.csv')"
   ]
  },
  {
   "cell_type": "markdown",
   "metadata": {},
   "source": [
    "## Being smart starts now"
   ]
  },
  {
   "cell_type": "code",
   "execution_count": 10,
   "metadata": {},
   "outputs": [],
   "source": [
    "unknown_revues = []\n",
    "unknown_categories = []\n",
    "\n",
    "found_categorie : list[str] = []\n",
    "\n",
    "for i in range(len(articles)): \n",
    "    # retrieve the publication year and the name of the revue\n",
    "    revue_i : str = articles.loc[i,'revue']\n",
    "\n",
    "    # find if the category\n",
    "    try : \n",
    "        found_categorie_i : str = revues.loc[\n",
    "                                    revues.revue == revue_i,\n",
    "                                    'Dominante'].item()\n",
    "    except:\n",
    "        unknown_revues.append(revue_i)\n",
    "        found_categorie_i = \"NaN\"\n",
    "\n",
    "    if found_categorie_i in CAT : \n",
    "        cat_label : str = found_categorie_i\n",
    "    if found_categorie_i == \"NaN\":\n",
    "        cat_label : str = \"NaN\"\n",
    "    else : \n",
    "        if found_categorie_i != 'Autre interdisciplinaire' : \n",
    "            unknown_categories.append(found_categorie)\n",
    "            \n",
    "        cat_label : str = 'Autre interdisciplinaire'\n",
    "    found_categorie.append(found_categorie_i)\n"
   ]
  },
  {
   "cell_type": "code",
   "execution_count": 11,
   "metadata": {},
   "outputs": [
    {
     "data": {
      "text/plain": [
       "['Commentaire',\n",
       " 'Commentaire',\n",
       " 'Commentaire',\n",
       " 'Commentaire',\n",
       " 'Commentaire',\n",
       " 'Commentaire',\n",
       " 'Commentaire',\n",
       " 'Commentaire',\n",
       " 'Commentaire',\n",
       " 'Commentaire',\n",
       " 'Commentaire',\n",
       " 'Commentaire',\n",
       " 'Commentaire',\n",
       " 'Commentaire',\n",
       " 'Commentaire',\n",
       " 'Commentaire',\n",
       " 'Commentaire',\n",
       " 'Éducation & formations',\n",
       " 'Éducation & formations',\n",
       " 'Éducation & formations',\n",
       " 'Éducation & formations',\n",
       " 'Éducation & formations',\n",
       " 'Éducation & formations']"
      ]
     },
     "execution_count": 11,
     "metadata": {},
     "output_type": "execute_result"
    }
   ],
   "source": [
    "unknown_revues"
   ]
  },
  {
   "cell_type": "code",
   "execution_count": 12,
   "metadata": {},
   "outputs": [
    {
     "data": {
      "text/plain": [
       "{'Anthropologie',\n",
       " 'Aréale',\n",
       " 'Autre interdisciplinaire',\n",
       " 'Démographie',\n",
       " 'Economie',\n",
       " 'Genre',\n",
       " 'Géographie',\n",
       " 'Histoire',\n",
       " 'NaN',\n",
       " 'SIC',\n",
       " 'Science politique',\n",
       " 'Sociologie'}"
      ]
     },
     "execution_count": 12,
     "metadata": {},
     "output_type": "execute_result"
    }
   ],
   "source": [
    "set(found_categorie)"
   ]
  },
  {
   "cell_type": "code",
   "execution_count": 13,
   "metadata": {},
   "outputs": [],
   "source": [
    "articles['Discipline'] = found_categorie"
   ]
  },
  {
   "cell_type": "code",
   "execution_count": 14,
   "metadata": {},
   "outputs": [
    {
     "data": {
      "text/html": [
       "<div>\n",
       "<style scoped>\n",
       "    .dataframe tbody tr th:only-of-type {\n",
       "        vertical-align: middle;\n",
       "    }\n",
       "\n",
       "    .dataframe tbody tr th {\n",
       "        vertical-align: top;\n",
       "    }\n",
       "\n",
       "    .dataframe thead th {\n",
       "        text-align: right;\n",
       "    }\n",
       "</style>\n",
       "<table border=\"1\" class=\"dataframe\">\n",
       "  <thead>\n",
       "    <tr style=\"text-align: right;\">\n",
       "      <th></th>\n",
       "      <th>revue</th>\n",
       "      <th>Discipline</th>\n",
       "    </tr>\n",
       "  </thead>\n",
       "  <tbody>\n",
       "    <tr>\n",
       "      <th>5916</th>\n",
       "      <td>Commentaire</td>\n",
       "      <td>NaN</td>\n",
       "    </tr>\n",
       "    <tr>\n",
       "      <th>5917</th>\n",
       "      <td>Commentaire</td>\n",
       "      <td>NaN</td>\n",
       "    </tr>\n",
       "    <tr>\n",
       "      <th>5918</th>\n",
       "      <td>Commentaire</td>\n",
       "      <td>NaN</td>\n",
       "    </tr>\n",
       "    <tr>\n",
       "      <th>5919</th>\n",
       "      <td>Commentaire</td>\n",
       "      <td>NaN</td>\n",
       "    </tr>\n",
       "    <tr>\n",
       "      <th>5920</th>\n",
       "      <td>Commentaire</td>\n",
       "      <td>NaN</td>\n",
       "    </tr>\n",
       "    <tr>\n",
       "      <th>5921</th>\n",
       "      <td>Commentaire</td>\n",
       "      <td>NaN</td>\n",
       "    </tr>\n",
       "    <tr>\n",
       "      <th>5922</th>\n",
       "      <td>Commentaire</td>\n",
       "      <td>NaN</td>\n",
       "    </tr>\n",
       "    <tr>\n",
       "      <th>5923</th>\n",
       "      <td>Commentaire</td>\n",
       "      <td>NaN</td>\n",
       "    </tr>\n",
       "    <tr>\n",
       "      <th>5924</th>\n",
       "      <td>Commentaire</td>\n",
       "      <td>NaN</td>\n",
       "    </tr>\n",
       "    <tr>\n",
       "      <th>5925</th>\n",
       "      <td>Commentaire</td>\n",
       "      <td>NaN</td>\n",
       "    </tr>\n",
       "    <tr>\n",
       "      <th>5926</th>\n",
       "      <td>Commentaire</td>\n",
       "      <td>NaN</td>\n",
       "    </tr>\n",
       "    <tr>\n",
       "      <th>5927</th>\n",
       "      <td>Commentaire</td>\n",
       "      <td>NaN</td>\n",
       "    </tr>\n",
       "    <tr>\n",
       "      <th>5928</th>\n",
       "      <td>Commentaire</td>\n",
       "      <td>NaN</td>\n",
       "    </tr>\n",
       "    <tr>\n",
       "      <th>5929</th>\n",
       "      <td>Commentaire</td>\n",
       "      <td>NaN</td>\n",
       "    </tr>\n",
       "    <tr>\n",
       "      <th>5930</th>\n",
       "      <td>Commentaire</td>\n",
       "      <td>NaN</td>\n",
       "    </tr>\n",
       "    <tr>\n",
       "      <th>5931</th>\n",
       "      <td>Commentaire</td>\n",
       "      <td>NaN</td>\n",
       "    </tr>\n",
       "    <tr>\n",
       "      <th>5932</th>\n",
       "      <td>Commentaire</td>\n",
       "      <td>NaN</td>\n",
       "    </tr>\n",
       "    <tr>\n",
       "      <th>8679</th>\n",
       "      <td>Éducation &amp; formations</td>\n",
       "      <td>NaN</td>\n",
       "    </tr>\n",
       "    <tr>\n",
       "      <th>8680</th>\n",
       "      <td>Éducation &amp; formations</td>\n",
       "      <td>NaN</td>\n",
       "    </tr>\n",
       "    <tr>\n",
       "      <th>8681</th>\n",
       "      <td>Éducation &amp; formations</td>\n",
       "      <td>NaN</td>\n",
       "    </tr>\n",
       "    <tr>\n",
       "      <th>8682</th>\n",
       "      <td>Éducation &amp; formations</td>\n",
       "      <td>NaN</td>\n",
       "    </tr>\n",
       "    <tr>\n",
       "      <th>8683</th>\n",
       "      <td>Éducation &amp; formations</td>\n",
       "      <td>NaN</td>\n",
       "    </tr>\n",
       "    <tr>\n",
       "      <th>8684</th>\n",
       "      <td>Éducation &amp; formations</td>\n",
       "      <td>NaN</td>\n",
       "    </tr>\n",
       "  </tbody>\n",
       "</table>\n",
       "</div>"
      ],
      "text/plain": [
       "                       revue Discipline\n",
       "5916             Commentaire        NaN\n",
       "5917             Commentaire        NaN\n",
       "5918             Commentaire        NaN\n",
       "5919             Commentaire        NaN\n",
       "5920             Commentaire        NaN\n",
       "5921             Commentaire        NaN\n",
       "5922             Commentaire        NaN\n",
       "5923             Commentaire        NaN\n",
       "5924             Commentaire        NaN\n",
       "5925             Commentaire        NaN\n",
       "5926             Commentaire        NaN\n",
       "5927             Commentaire        NaN\n",
       "5928             Commentaire        NaN\n",
       "5929             Commentaire        NaN\n",
       "5930             Commentaire        NaN\n",
       "5931             Commentaire        NaN\n",
       "5932             Commentaire        NaN\n",
       "8679  Éducation & formations        NaN\n",
       "8680  Éducation & formations        NaN\n",
       "8681  Éducation & formations        NaN\n",
       "8682  Éducation & formations        NaN\n",
       "8683  Éducation & formations        NaN\n",
       "8684  Éducation & formations        NaN"
      ]
     },
     "execution_count": 14,
     "metadata": {},
     "output_type": "execute_result"
    }
   ],
   "source": [
    "articles.loc[articles.Discipline == \"NaN\",['revue','Discipline']]"
   ]
  },
  {
   "cell_type": "code",
   "execution_count": 15,
   "metadata": {},
   "outputs": [
    {
     "data": {
      "text/html": [
       "<div>\n",
       "<style scoped>\n",
       "    .dataframe tbody tr th:only-of-type {\n",
       "        vertical-align: middle;\n",
       "    }\n",
       "\n",
       "    .dataframe tbody tr th {\n",
       "        vertical-align: top;\n",
       "    }\n",
       "\n",
       "    .dataframe thead th {\n",
       "        text-align: right;\n",
       "    }\n",
       "</style>\n",
       "<table border=\"1\" class=\"dataframe\">\n",
       "  <thead>\n",
       "    <tr style=\"text-align: right;\">\n",
       "      <th></th>\n",
       "      <th>annee</th>\n",
       "      <th>bert_genre</th>\n",
       "      <th>Discipline</th>\n",
       "    </tr>\n",
       "  </thead>\n",
       "  <tbody>\n",
       "    <tr>\n",
       "      <th>0</th>\n",
       "      <td>2001</td>\n",
       "      <td>False</td>\n",
       "      <td>Histoire</td>\n",
       "    </tr>\n",
       "    <tr>\n",
       "      <th>1</th>\n",
       "      <td>2001</td>\n",
       "      <td>False</td>\n",
       "      <td>Science politique</td>\n",
       "    </tr>\n",
       "    <tr>\n",
       "      <th>2</th>\n",
       "      <td>2001</td>\n",
       "      <td>False</td>\n",
       "      <td>Science politique</td>\n",
       "    </tr>\n",
       "    <tr>\n",
       "      <th>3</th>\n",
       "      <td>2001</td>\n",
       "      <td>False</td>\n",
       "      <td>Science politique</td>\n",
       "    </tr>\n",
       "    <tr>\n",
       "      <th>4</th>\n",
       "      <td>2001</td>\n",
       "      <td>False</td>\n",
       "      <td>Science politique</td>\n",
       "    </tr>\n",
       "  </tbody>\n",
       "</table>\n",
       "</div>"
      ],
      "text/plain": [
       "   annee  bert_genre         Discipline\n",
       "0   2001       False           Histoire\n",
       "1   2001       False  Science politique\n",
       "2   2001       False  Science politique\n",
       "3   2001       False  Science politique\n",
       "4   2001       False  Science politique"
      ]
     },
     "execution_count": 15,
     "metadata": {},
     "output_type": "execute_result"
    }
   ],
   "source": [
    "# Create usable df\n",
    "df = articles.loc[\n",
    "    articles.Discipline != \"NaN\",\n",
    "    [\"annee\", \"bert_genre\", \"Discipline\"]\n",
    "]\n",
    "df = df.sort_values('annee')\n",
    "df.index = np.arange(0,len(df))\n",
    "df.head()"
   ]
  },
  {
   "cell_type": "code",
   "execution_count": 16,
   "metadata": {},
   "outputs": [
    {
     "data": {
      "text/plain": [
       "{'Anthropologie',\n",
       " 'Aréale',\n",
       " 'Autre interdisciplinaire',\n",
       " 'Démographie',\n",
       " 'Economie',\n",
       " 'Genre',\n",
       " 'Géographie',\n",
       " 'Histoire',\n",
       " 'SIC',\n",
       " 'Science politique',\n",
       " 'Sociologie'}"
      ]
     },
     "execution_count": 16,
     "metadata": {},
     "output_type": "execute_result"
    }
   ],
   "source": [
    "set(df.Discipline)"
   ]
  },
  {
   "cell_type": "markdown",
   "metadata": {},
   "source": [
    "### Organisation dataframe en N colonnes"
   ]
  },
  {
   "cell_type": "code",
   "execution_count": 17,
   "metadata": {},
   "outputs": [],
   "source": [
    "# Autre df (peut être plus simple)\n",
    "\n",
    "# create the df to plot for all the categories\n",
    "# NOTE mind the nan in bert_genre\n",
    "\n",
    "dfPlot = {\n",
    "    'annee' : list(set(df.annee))\n",
    "                        # already sorted because of previous manipulations\n",
    "}\n",
    "\n",
    "\n",
    "for y,cat in product(dfPlot['annee'], set(df.Discipline)):\n",
    "\n",
    "    if cat not in dfPlot:\n",
    "        dfPlot[cat] = []\n",
    "    dfPlot[cat].append(\n",
    "        df.loc[\n",
    "            (df.annee == y) & (df.Discipline == cat),\n",
    "            \"bert_genre\"\n",
    "        ].mean() * 100\n",
    "    )\n",
    "\n",
    "# Add the \"Toutes\" groupe\n",
    "dfPlot['Toutes'] = []\n",
    "for y in dfPlot['annee']:\n",
    "\n",
    "    dfPlot['Toutes'].append(\n",
    "        df.loc[\n",
    "            (df.annee == y),\n",
    "            \"bert_genre\"\n",
    "        ].mean() * 100\n",
    "    )\n",
    "\n",
    "# Add the \"Toutes Sauf Genre\" groupe\n",
    "dfPlot['Toutes sauf Genre'] = []\n",
    "for y in dfPlot['annee']:\n",
    "\n",
    "    dfPlot['Toutes sauf Genre'].append(\n",
    "        df.loc[\n",
    "            (df.annee == y) & df.Discipline != \"Genre\",\n",
    "            \"bert_genre\"\n",
    "        ].mean() * 100\n",
    "    )\n",
    "\n",
    "# FIXME /!\\ GENDER STUDIES !!!!"
   ]
  },
  {
   "cell_type": "code",
   "execution_count": 18,
   "metadata": {},
   "outputs": [
    {
     "data": {
      "text/html": [
       "<div>\n",
       "<style scoped>\n",
       "    .dataframe tbody tr th:only-of-type {\n",
       "        vertical-align: middle;\n",
       "    }\n",
       "\n",
       "    .dataframe tbody tr th {\n",
       "        vertical-align: top;\n",
       "    }\n",
       "\n",
       "    .dataframe thead th {\n",
       "        text-align: right;\n",
       "    }\n",
       "</style>\n",
       "<table border=\"1\" class=\"dataframe\">\n",
       "  <thead>\n",
       "    <tr style=\"text-align: right;\">\n",
       "      <th></th>\n",
       "      <th>annee</th>\n",
       "      <th>SIC</th>\n",
       "      <th>Autre interdisciplinaire</th>\n",
       "      <th>Aréale</th>\n",
       "      <th>Démographie</th>\n",
       "      <th>Anthropologie</th>\n",
       "      <th>Genre</th>\n",
       "      <th>Sociologie</th>\n",
       "      <th>Science politique</th>\n",
       "      <th>Histoire</th>\n",
       "      <th>Géographie</th>\n",
       "      <th>Economie</th>\n",
       "      <th>Toutes</th>\n",
       "      <th>Toutes sauf Genre</th>\n",
       "    </tr>\n",
       "  </thead>\n",
       "  <tbody>\n",
       "    <tr>\n",
       "      <th>0</th>\n",
       "      <td>2001</td>\n",
       "      <td>3.448276</td>\n",
       "      <td>0.588235</td>\n",
       "      <td>3.571429</td>\n",
       "      <td>25.000000</td>\n",
       "      <td>8.750000</td>\n",
       "      <td>92.592593</td>\n",
       "      <td>4.242424</td>\n",
       "      <td>1.000000</td>\n",
       "      <td>2.614379</td>\n",
       "      <td>0.000000</td>\n",
       "      <td>0.000000</td>\n",
       "      <td>7.601185</td>\n",
       "      <td>9.72676</td>\n",
       "    </tr>\n",
       "    <tr>\n",
       "      <th>1</th>\n",
       "      <td>2002</td>\n",
       "      <td>0.000000</td>\n",
       "      <td>8.108108</td>\n",
       "      <td>4.109589</td>\n",
       "      <td>24.000000</td>\n",
       "      <td>7.317073</td>\n",
       "      <td>91.228070</td>\n",
       "      <td>3.184713</td>\n",
       "      <td>4.678363</td>\n",
       "      <td>11.351351</td>\n",
       "      <td>0.000000</td>\n",
       "      <td>1.639344</td>\n",
       "      <td>10.254163</td>\n",
       "      <td>9.72676</td>\n",
       "    </tr>\n",
       "    <tr>\n",
       "      <th>2</th>\n",
       "      <td>2003</td>\n",
       "      <td>7.586207</td>\n",
       "      <td>6.719368</td>\n",
       "      <td>2.739726</td>\n",
       "      <td>26.086957</td>\n",
       "      <td>7.594937</td>\n",
       "      <td>83.333333</td>\n",
       "      <td>8.500000</td>\n",
       "      <td>3.141361</td>\n",
       "      <td>1.704545</td>\n",
       "      <td>0.000000</td>\n",
       "      <td>0.000000</td>\n",
       "      <td>9.318996</td>\n",
       "      <td>9.72676</td>\n",
       "    </tr>\n",
       "    <tr>\n",
       "      <th>3</th>\n",
       "      <td>2004</td>\n",
       "      <td>2.469136</td>\n",
       "      <td>3.448276</td>\n",
       "      <td>7.377049</td>\n",
       "      <td>15.000000</td>\n",
       "      <td>5.681818</td>\n",
       "      <td>95.522388</td>\n",
       "      <td>6.091371</td>\n",
       "      <td>2.427184</td>\n",
       "      <td>3.191489</td>\n",
       "      <td>0.000000</td>\n",
       "      <td>7.446809</td>\n",
       "      <td>8.311518</td>\n",
       "      <td>9.72676</td>\n",
       "    </tr>\n",
       "    <tr>\n",
       "      <th>4</th>\n",
       "      <td>2005</td>\n",
       "      <td>5.384615</td>\n",
       "      <td>9.489051</td>\n",
       "      <td>1.923077</td>\n",
       "      <td>29.411765</td>\n",
       "      <td>17.241379</td>\n",
       "      <td>89.855072</td>\n",
       "      <td>3.125000</td>\n",
       "      <td>2.515723</td>\n",
       "      <td>4.232804</td>\n",
       "      <td>0.000000</td>\n",
       "      <td>0.000000</td>\n",
       "      <td>9.650259</td>\n",
       "      <td>9.72676</td>\n",
       "    </tr>\n",
       "    <tr>\n",
       "      <th>5</th>\n",
       "      <td>2006</td>\n",
       "      <td>1.388889</td>\n",
       "      <td>5.894309</td>\n",
       "      <td>1.307190</td>\n",
       "      <td>23.809524</td>\n",
       "      <td>8.602151</td>\n",
       "      <td>93.827160</td>\n",
       "      <td>5.418719</td>\n",
       "      <td>7.647059</td>\n",
       "      <td>10.695187</td>\n",
       "      <td>0.000000</td>\n",
       "      <td>0.000000</td>\n",
       "      <td>9.512894</td>\n",
       "      <td>9.72676</td>\n",
       "    </tr>\n",
       "    <tr>\n",
       "      <th>6</th>\n",
       "      <td>2007</td>\n",
       "      <td>1.574803</td>\n",
       "      <td>6.488550</td>\n",
       "      <td>5.035971</td>\n",
       "      <td>30.555556</td>\n",
       "      <td>4.629630</td>\n",
       "      <td>90.625000</td>\n",
       "      <td>15.087719</td>\n",
       "      <td>4.184100</td>\n",
       "      <td>3.781513</td>\n",
       "      <td>2.702703</td>\n",
       "      <td>1.111111</td>\n",
       "      <td>9.205867</td>\n",
       "      <td>9.72676</td>\n",
       "    </tr>\n",
       "    <tr>\n",
       "      <th>7</th>\n",
       "      <td>2008</td>\n",
       "      <td>2.352941</td>\n",
       "      <td>4.273504</td>\n",
       "      <td>2.688172</td>\n",
       "      <td>15.625000</td>\n",
       "      <td>3.773585</td>\n",
       "      <td>91.044776</td>\n",
       "      <td>6.287425</td>\n",
       "      <td>1.968504</td>\n",
       "      <td>3.396226</td>\n",
       "      <td>2.127660</td>\n",
       "      <td>0.000000</td>\n",
       "      <td>6.450072</td>\n",
       "      <td>9.72676</td>\n",
       "    </tr>\n",
       "    <tr>\n",
       "      <th>8</th>\n",
       "      <td>2009</td>\n",
       "      <td>7.065217</td>\n",
       "      <td>12.213740</td>\n",
       "      <td>5.327869</td>\n",
       "      <td>11.538462</td>\n",
       "      <td>6.593407</td>\n",
       "      <td>83.146067</td>\n",
       "      <td>5.389222</td>\n",
       "      <td>5.084746</td>\n",
       "      <td>5.415162</td>\n",
       "      <td>2.564103</td>\n",
       "      <td>1.666667</td>\n",
       "      <td>10.212569</td>\n",
       "      <td>9.72676</td>\n",
       "    </tr>\n",
       "    <tr>\n",
       "      <th>9</th>\n",
       "      <td>2010</td>\n",
       "      <td>2.762431</td>\n",
       "      <td>6.151142</td>\n",
       "      <td>4.291845</td>\n",
       "      <td>26.000000</td>\n",
       "      <td>15.740741</td>\n",
       "      <td>95.180723</td>\n",
       "      <td>5.523256</td>\n",
       "      <td>1.107011</td>\n",
       "      <td>1.433692</td>\n",
       "      <td>2.222222</td>\n",
       "      <td>2.054795</td>\n",
       "      <td>8.185362</td>\n",
       "      <td>9.72676</td>\n",
       "    </tr>\n",
       "    <tr>\n",
       "      <th>10</th>\n",
       "      <td>2011</td>\n",
       "      <td>4.812834</td>\n",
       "      <td>3.538175</td>\n",
       "      <td>1.333333</td>\n",
       "      <td>29.411765</td>\n",
       "      <td>26.356589</td>\n",
       "      <td>87.234043</td>\n",
       "      <td>6.264501</td>\n",
       "      <td>2.334630</td>\n",
       "      <td>1.748252</td>\n",
       "      <td>0.000000</td>\n",
       "      <td>1.587302</td>\n",
       "      <td>8.379413</td>\n",
       "      <td>9.72676</td>\n",
       "    </tr>\n",
       "    <tr>\n",
       "      <th>11</th>\n",
       "      <td>2012</td>\n",
       "      <td>1.657459</td>\n",
       "      <td>10.469314</td>\n",
       "      <td>3.913043</td>\n",
       "      <td>37.837838</td>\n",
       "      <td>7.339450</td>\n",
       "      <td>92.500000</td>\n",
       "      <td>17.506631</td>\n",
       "      <td>1.418440</td>\n",
       "      <td>6.779661</td>\n",
       "      <td>4.761905</td>\n",
       "      <td>0.746269</td>\n",
       "      <td>11.158983</td>\n",
       "      <td>9.72676</td>\n",
       "    </tr>\n",
       "    <tr>\n",
       "      <th>12</th>\n",
       "      <td>2013</td>\n",
       "      <td>1.923077</td>\n",
       "      <td>5.325444</td>\n",
       "      <td>3.238866</td>\n",
       "      <td>27.777778</td>\n",
       "      <td>16.981132</td>\n",
       "      <td>81.481481</td>\n",
       "      <td>7.122507</td>\n",
       "      <td>6.405694</td>\n",
       "      <td>5.405405</td>\n",
       "      <td>4.545455</td>\n",
       "      <td>2.836879</td>\n",
       "      <td>8.827524</td>\n",
       "      <td>9.72676</td>\n",
       "    </tr>\n",
       "    <tr>\n",
       "      <th>13</th>\n",
       "      <td>2014</td>\n",
       "      <td>7.142857</td>\n",
       "      <td>7.432432</td>\n",
       "      <td>1.951220</td>\n",
       "      <td>26.666667</td>\n",
       "      <td>13.821138</td>\n",
       "      <td>88.732394</td>\n",
       "      <td>5.974026</td>\n",
       "      <td>1.967213</td>\n",
       "      <td>2.527076</td>\n",
       "      <td>0.000000</td>\n",
       "      <td>14.388489</td>\n",
       "      <td>8.703000</td>\n",
       "      <td>9.72676</td>\n",
       "    </tr>\n",
       "    <tr>\n",
       "      <th>14</th>\n",
       "      <td>2015</td>\n",
       "      <td>4.166667</td>\n",
       "      <td>7.945736</td>\n",
       "      <td>2.611940</td>\n",
       "      <td>19.354839</td>\n",
       "      <td>13.636364</td>\n",
       "      <td>93.939394</td>\n",
       "      <td>8.272506</td>\n",
       "      <td>12.741313</td>\n",
       "      <td>4.729730</td>\n",
       "      <td>2.173913</td>\n",
       "      <td>0.000000</td>\n",
       "      <td>9.347368</td>\n",
       "      <td>9.72676</td>\n",
       "    </tr>\n",
       "    <tr>\n",
       "      <th>15</th>\n",
       "      <td>2016</td>\n",
       "      <td>0.000000</td>\n",
       "      <td>5.809859</td>\n",
       "      <td>5.147059</td>\n",
       "      <td>23.684211</td>\n",
       "      <td>19.827586</td>\n",
       "      <td>96.000000</td>\n",
       "      <td>8.997429</td>\n",
       "      <td>5.604720</td>\n",
       "      <td>3.041825</td>\n",
       "      <td>2.439024</td>\n",
       "      <td>1.025641</td>\n",
       "      <td>9.677419</td>\n",
       "      <td>9.72676</td>\n",
       "    </tr>\n",
       "    <tr>\n",
       "      <th>16</th>\n",
       "      <td>2017</td>\n",
       "      <td>3.664921</td>\n",
       "      <td>12.500000</td>\n",
       "      <td>7.171315</td>\n",
       "      <td>25.000000</td>\n",
       "      <td>22.413793</td>\n",
       "      <td>91.549296</td>\n",
       "      <td>12.672176</td>\n",
       "      <td>3.202847</td>\n",
       "      <td>1.600000</td>\n",
       "      <td>0.000000</td>\n",
       "      <td>3.086420</td>\n",
       "      <td>11.011905</td>\n",
       "      <td>9.72676</td>\n",
       "    </tr>\n",
       "    <tr>\n",
       "      <th>17</th>\n",
       "      <td>2018</td>\n",
       "      <td>2.926829</td>\n",
       "      <td>6.138934</td>\n",
       "      <td>6.437768</td>\n",
       "      <td>26.666667</td>\n",
       "      <td>13.513514</td>\n",
       "      <td>93.670886</td>\n",
       "      <td>11.557789</td>\n",
       "      <td>1.337793</td>\n",
       "      <td>3.205128</td>\n",
       "      <td>3.125000</td>\n",
       "      <td>1.818182</td>\n",
       "      <td>8.860250</td>\n",
       "      <td>9.72676</td>\n",
       "    </tr>\n",
       "    <tr>\n",
       "      <th>18</th>\n",
       "      <td>2019</td>\n",
       "      <td>5.202312</td>\n",
       "      <td>11.377246</td>\n",
       "      <td>8.203125</td>\n",
       "      <td>28.205128</td>\n",
       "      <td>19.230769</td>\n",
       "      <td>93.055556</td>\n",
       "      <td>8.877285</td>\n",
       "      <td>3.071672</td>\n",
       "      <td>4.491018</td>\n",
       "      <td>0.000000</td>\n",
       "      <td>2.824859</td>\n",
       "      <td>10.437710</td>\n",
       "      <td>9.72676</td>\n",
       "    </tr>\n",
       "    <tr>\n",
       "      <th>19</th>\n",
       "      <td>2020</td>\n",
       "      <td>6.081081</td>\n",
       "      <td>11.702128</td>\n",
       "      <td>4.910714</td>\n",
       "      <td>28.571429</td>\n",
       "      <td>10.256410</td>\n",
       "      <td>95.000000</td>\n",
       "      <td>8.955224</td>\n",
       "      <td>6.343284</td>\n",
       "      <td>9.180328</td>\n",
       "      <td>0.000000</td>\n",
       "      <td>3.355705</td>\n",
       "      <td>10.715979</td>\n",
       "      <td>9.72676</td>\n",
       "    </tr>\n",
       "    <tr>\n",
       "      <th>20</th>\n",
       "      <td>2021</td>\n",
       "      <td>2.116402</td>\n",
       "      <td>11.111111</td>\n",
       "      <td>9.803922</td>\n",
       "      <td>17.241379</td>\n",
       "      <td>7.619048</td>\n",
       "      <td>95.370370</td>\n",
       "      <td>7.774799</td>\n",
       "      <td>5.844156</td>\n",
       "      <td>4.923077</td>\n",
       "      <td>0.000000</td>\n",
       "      <td>4.575163</td>\n",
       "      <td>11.102544</td>\n",
       "      <td>9.72676</td>\n",
       "    </tr>\n",
       "    <tr>\n",
       "      <th>21</th>\n",
       "      <td>2022</td>\n",
       "      <td>4.444444</td>\n",
       "      <td>8.960573</td>\n",
       "      <td>10.502283</td>\n",
       "      <td>32.142857</td>\n",
       "      <td>6.224066</td>\n",
       "      <td>91.304348</td>\n",
       "      <td>15.123457</td>\n",
       "      <td>8.552632</td>\n",
       "      <td>8.359133</td>\n",
       "      <td>2.040816</td>\n",
       "      <td>4.320988</td>\n",
       "      <td>12.056452</td>\n",
       "      <td>9.72676</td>\n",
       "    </tr>\n",
       "    <tr>\n",
       "      <th>22</th>\n",
       "      <td>2023</td>\n",
       "      <td>8.653846</td>\n",
       "      <td>12.442396</td>\n",
       "      <td>13.612565</td>\n",
       "      <td>40.000000</td>\n",
       "      <td>6.748466</td>\n",
       "      <td>95.945946</td>\n",
       "      <td>8.415842</td>\n",
       "      <td>7.657658</td>\n",
       "      <td>10.280374</td>\n",
       "      <td>0.000000</td>\n",
       "      <td>2.222222</td>\n",
       "      <td>13.452656</td>\n",
       "      <td>9.72676</td>\n",
       "    </tr>\n",
       "  </tbody>\n",
       "</table>\n",
       "</div>"
      ],
      "text/plain": [
       "    annee       SIC  Autre interdisciplinaire     Aréale  Démographie  \\\n",
       "0    2001  3.448276                  0.588235   3.571429    25.000000   \n",
       "1    2002  0.000000                  8.108108   4.109589    24.000000   \n",
       "2    2003  7.586207                  6.719368   2.739726    26.086957   \n",
       "3    2004  2.469136                  3.448276   7.377049    15.000000   \n",
       "4    2005  5.384615                  9.489051   1.923077    29.411765   \n",
       "5    2006  1.388889                  5.894309   1.307190    23.809524   \n",
       "6    2007  1.574803                  6.488550   5.035971    30.555556   \n",
       "7    2008  2.352941                  4.273504   2.688172    15.625000   \n",
       "8    2009  7.065217                 12.213740   5.327869    11.538462   \n",
       "9    2010  2.762431                  6.151142   4.291845    26.000000   \n",
       "10   2011  4.812834                  3.538175   1.333333    29.411765   \n",
       "11   2012  1.657459                 10.469314   3.913043    37.837838   \n",
       "12   2013  1.923077                  5.325444   3.238866    27.777778   \n",
       "13   2014  7.142857                  7.432432   1.951220    26.666667   \n",
       "14   2015  4.166667                  7.945736   2.611940    19.354839   \n",
       "15   2016  0.000000                  5.809859   5.147059    23.684211   \n",
       "16   2017  3.664921                 12.500000   7.171315    25.000000   \n",
       "17   2018  2.926829                  6.138934   6.437768    26.666667   \n",
       "18   2019  5.202312                 11.377246   8.203125    28.205128   \n",
       "19   2020  6.081081                 11.702128   4.910714    28.571429   \n",
       "20   2021  2.116402                 11.111111   9.803922    17.241379   \n",
       "21   2022  4.444444                  8.960573  10.502283    32.142857   \n",
       "22   2023  8.653846                 12.442396  13.612565    40.000000   \n",
       "\n",
       "    Anthropologie      Genre  Sociologie  Science politique   Histoire  \\\n",
       "0        8.750000  92.592593    4.242424           1.000000   2.614379   \n",
       "1        7.317073  91.228070    3.184713           4.678363  11.351351   \n",
       "2        7.594937  83.333333    8.500000           3.141361   1.704545   \n",
       "3        5.681818  95.522388    6.091371           2.427184   3.191489   \n",
       "4       17.241379  89.855072    3.125000           2.515723   4.232804   \n",
       "5        8.602151  93.827160    5.418719           7.647059  10.695187   \n",
       "6        4.629630  90.625000   15.087719           4.184100   3.781513   \n",
       "7        3.773585  91.044776    6.287425           1.968504   3.396226   \n",
       "8        6.593407  83.146067    5.389222           5.084746   5.415162   \n",
       "9       15.740741  95.180723    5.523256           1.107011   1.433692   \n",
       "10      26.356589  87.234043    6.264501           2.334630   1.748252   \n",
       "11       7.339450  92.500000   17.506631           1.418440   6.779661   \n",
       "12      16.981132  81.481481    7.122507           6.405694   5.405405   \n",
       "13      13.821138  88.732394    5.974026           1.967213   2.527076   \n",
       "14      13.636364  93.939394    8.272506          12.741313   4.729730   \n",
       "15      19.827586  96.000000    8.997429           5.604720   3.041825   \n",
       "16      22.413793  91.549296   12.672176           3.202847   1.600000   \n",
       "17      13.513514  93.670886   11.557789           1.337793   3.205128   \n",
       "18      19.230769  93.055556    8.877285           3.071672   4.491018   \n",
       "19      10.256410  95.000000    8.955224           6.343284   9.180328   \n",
       "20       7.619048  95.370370    7.774799           5.844156   4.923077   \n",
       "21       6.224066  91.304348   15.123457           8.552632   8.359133   \n",
       "22       6.748466  95.945946    8.415842           7.657658  10.280374   \n",
       "\n",
       "    Géographie   Economie     Toutes  Toutes sauf Genre  \n",
       "0     0.000000   0.000000   7.601185            9.72676  \n",
       "1     0.000000   1.639344  10.254163            9.72676  \n",
       "2     0.000000   0.000000   9.318996            9.72676  \n",
       "3     0.000000   7.446809   8.311518            9.72676  \n",
       "4     0.000000   0.000000   9.650259            9.72676  \n",
       "5     0.000000   0.000000   9.512894            9.72676  \n",
       "6     2.702703   1.111111   9.205867            9.72676  \n",
       "7     2.127660   0.000000   6.450072            9.72676  \n",
       "8     2.564103   1.666667  10.212569            9.72676  \n",
       "9     2.222222   2.054795   8.185362            9.72676  \n",
       "10    0.000000   1.587302   8.379413            9.72676  \n",
       "11    4.761905   0.746269  11.158983            9.72676  \n",
       "12    4.545455   2.836879   8.827524            9.72676  \n",
       "13    0.000000  14.388489   8.703000            9.72676  \n",
       "14    2.173913   0.000000   9.347368            9.72676  \n",
       "15    2.439024   1.025641   9.677419            9.72676  \n",
       "16    0.000000   3.086420  11.011905            9.72676  \n",
       "17    3.125000   1.818182   8.860250            9.72676  \n",
       "18    0.000000   2.824859  10.437710            9.72676  \n",
       "19    0.000000   3.355705  10.715979            9.72676  \n",
       "20    0.000000   4.575163  11.102544            9.72676  \n",
       "21    2.040816   4.320988  12.056452            9.72676  \n",
       "22    0.000000   2.222222  13.452656            9.72676  "
      ]
     },
     "execution_count": 18,
     "metadata": {},
     "output_type": "execute_result"
    }
   ],
   "source": [
    "dfPlot = pd.DataFrame(dfPlot)\n",
    "dfPlot"
   ]
  },
  {
   "cell_type": "markdown",
   "metadata": {},
   "source": [
    "# Heatmap"
   ]
  },
  {
   "cell_type": "code",
   "execution_count": 19,
   "metadata": {},
   "outputs": [
    {
     "data": {
      "application/vnd.plotly.v1+json": {
       "config": {
        "plotlyServerURL": "https://plot.ly"
       },
       "data": [
        {
         "coloraxis": "coloraxis",
         "hovertemplate": "annee: %{x}<br>y: %{y}<br>color: %{z}<extra></extra>",
         "name": "0",
         "type": "heatmap",
         "x": [
          2001,
          2002,
          2003,
          2004,
          2005,
          2006,
          2007,
          2008,
          2009,
          2010,
          2011,
          2012,
          2013,
          2014,
          2015,
          2016,
          2017,
          2018,
          2019,
          2020,
          2021,
          2022,
          2023
         ],
         "xaxis": "x",
         "y": [
          "Démographie",
          "Anthropologie",
          "Sociologie",
          "Autre interdisciplinaire",
          "Aréale",
          "Histoire",
          "Science politique",
          "SIC",
          "Economie",
          "Géographie"
         ],
         "yaxis": "y",
         "z": [
          [
           25,
           24,
           26.08695652173913,
           15,
           29.411764705882355,
           23.809523809523807,
           30.555555555555557,
           15.625,
           11.538461538461538,
           26,
           29.411764705882355,
           37.83783783783784,
           27.77777777777778,
           26.666666666666668,
           19.35483870967742,
           23.684210526315788,
           25,
           26.666666666666668,
           28.205128205128204,
           28.57142857142857,
           17.24137931034483,
           32.142857142857146,
           40
          ],
          [
           8.75,
           7.317073170731707,
           7.59493670886076,
           5.681818181818182,
           17.24137931034483,
           8.60215053763441,
           4.62962962962963,
           3.7735849056603774,
           6.593406593406594,
           15.74074074074074,
           26.356589147286826,
           7.339449541284404,
           16.9811320754717,
           13.821138211382115,
           13.636363636363635,
           19.82758620689655,
           22.413793103448278,
           13.513513513513514,
           19.230769230769234,
           10.256410256410255,
           7.6190476190476195,
           6.224066390041494,
           6.748466257668712
          ],
          [
           4.242424242424243,
           3.1847133757961785,
           8.5,
           6.091370558375635,
           3.125,
           5.41871921182266,
           15.087719298245613,
           6.287425149700598,
           5.389221556886228,
           5.523255813953488,
           6.2645011600928076,
           17.50663129973475,
           7.122507122507122,
           5.974025974025974,
           8.27250608272506,
           8.997429305912597,
           12.672176308539946,
           11.557788944723619,
           8.87728459530026,
           8.955223880597014,
           7.774798927613941,
           15.123456790123457,
           8.415841584158416
          ],
          [
           0.5882352941176471,
           8.108108108108109,
           6.719367588932807,
           3.4482758620689653,
           9.48905109489051,
           5.894308943089431,
           6.488549618320611,
           4.273504273504273,
           12.213740458015266,
           6.151142355008787,
           3.5381750465549344,
           10.469314079422382,
           5.325443786982249,
           7.4324324324324325,
           7.945736434108527,
           5.809859154929577,
           12.5,
           6.138933764135703,
           11.377245508982035,
           11.702127659574469,
           11.11111111111111,
           8.960573476702509,
           12.442396313364055
          ],
          [
           3.571428571428571,
           4.10958904109589,
           2.73972602739726,
           7.377049180327869,
           1.9230769230769231,
           1.3071895424836601,
           5.0359712230215825,
           2.6881720430107525,
           5.327868852459016,
           4.291845493562231,
           1.3333333333333335,
           3.91304347826087,
           3.2388663967611335,
           1.951219512195122,
           2.6119402985074625,
           5.147058823529411,
           7.171314741035857,
           6.437768240343347,
           8.203125,
           4.910714285714286,
           9.803921568627452,
           10.50228310502283,
           13.612565445026178
          ],
          [
           2.6143790849673203,
           11.351351351351353,
           1.7045454545454544,
           3.1914893617021276,
           4.232804232804233,
           10.695187165775401,
           3.7815126050420167,
           3.3962264150943398,
           5.415162454873646,
           1.4336917562724014,
           1.7482517482517483,
           6.779661016949152,
           5.405405405405405,
           2.527075812274368,
           4.72972972972973,
           3.041825095057034,
           1.6,
           3.205128205128205,
           4.491017964071856,
           9.180327868852459,
           4.923076923076923,
           8.359133126934983,
           10.2803738317757
          ],
          [
           1,
           4.678362573099415,
           3.1413612565445024,
           2.4271844660194173,
           2.515723270440252,
           7.647058823529412,
           4.184100418410042,
           1.968503937007874,
           5.084745762711865,
           1.107011070110701,
           2.3346303501945527,
           1.4184397163120568,
           6.405693950177936,
           1.9672131147540985,
           12.741312741312742,
           5.604719764011799,
           3.202846975088968,
           1.3377926421404682,
           3.0716723549488054,
           6.343283582089552,
           5.844155844155844,
           8.552631578947368,
           7.657657657657657
          ],
          [
           3.4482758620689653,
           0,
           7.586206896551724,
           2.4691358024691357,
           5.384615384615385,
           1.3888888888888888,
           1.574803149606299,
           2.3529411764705883,
           7.065217391304348,
           2.7624309392265194,
           4.81283422459893,
           1.6574585635359116,
           1.9230769230769231,
           7.142857142857142,
           4.166666666666666,
           0,
           3.664921465968586,
           2.9268292682926833,
           5.202312138728324,
           6.081081081081082,
           2.1164021164021163,
           4.444444444444445,
           8.653846153846153
          ],
          [
           0,
           1.639344262295082,
           0,
           7.446808510638298,
           0,
           0,
           1.1111111111111112,
           0,
           1.6666666666666667,
           2.054794520547945,
           1.5873015873015872,
           0.7462686567164178,
           2.8368794326241136,
           14.388489208633093,
           0,
           1.0256410256410255,
           3.0864197530864197,
           1.8181818181818181,
           2.824858757062147,
           3.3557046979865772,
           4.57516339869281,
           4.320987654320987,
           2.2222222222222223
          ],
          [
           0,
           0,
           0,
           0,
           0,
           0,
           2.7027027027027026,
           2.127659574468085,
           2.564102564102564,
           2.2222222222222223,
           0,
           4.761904761904762,
           4.545454545454546,
           0,
           2.1739130434782608,
           2.4390243902439024,
           0,
           3.125,
           0,
           0,
           0,
           2.0408163265306123,
           0
          ]
         ]
        }
       ],
       "layout": {
        "coloraxis": {
         "colorscale": [
          [
           0,
           "#000004"
          ],
          [
           0.1111111111111111,
           "#1b0c41"
          ],
          [
           0.2222222222222222,
           "#4a0c6b"
          ],
          [
           0.3333333333333333,
           "#781c6d"
          ],
          [
           0.4444444444444444,
           "#a52c60"
          ],
          [
           0.5555555555555556,
           "#cf4446"
          ],
          [
           0.6666666666666666,
           "#ed6925"
          ],
          [
           0.7777777777777778,
           "#fb9b06"
          ],
          [
           0.8888888888888888,
           "#f7d13d"
          ],
          [
           1,
           "#fcffa4"
          ]
         ]
        },
        "margin": {
         "t": 60
        },
        "template": {
         "data": {
          "bar": [
           {
            "error_x": {
             "color": "#2a3f5f"
            },
            "error_y": {
             "color": "#2a3f5f"
            },
            "marker": {
             "line": {
              "color": "#E5ECF6",
              "width": 0.5
             },
             "pattern": {
              "fillmode": "overlay",
              "size": 10,
              "solidity": 0.2
             }
            },
            "type": "bar"
           }
          ],
          "barpolar": [
           {
            "marker": {
             "line": {
              "color": "#E5ECF6",
              "width": 0.5
             },
             "pattern": {
              "fillmode": "overlay",
              "size": 10,
              "solidity": 0.2
             }
            },
            "type": "barpolar"
           }
          ],
          "carpet": [
           {
            "aaxis": {
             "endlinecolor": "#2a3f5f",
             "gridcolor": "white",
             "linecolor": "white",
             "minorgridcolor": "white",
             "startlinecolor": "#2a3f5f"
            },
            "baxis": {
             "endlinecolor": "#2a3f5f",
             "gridcolor": "white",
             "linecolor": "white",
             "minorgridcolor": "white",
             "startlinecolor": "#2a3f5f"
            },
            "type": "carpet"
           }
          ],
          "choropleth": [
           {
            "colorbar": {
             "outlinewidth": 0,
             "ticks": ""
            },
            "type": "choropleth"
           }
          ],
          "contour": [
           {
            "colorbar": {
             "outlinewidth": 0,
             "ticks": ""
            },
            "colorscale": [
             [
              0,
              "#0d0887"
             ],
             [
              0.1111111111111111,
              "#46039f"
             ],
             [
              0.2222222222222222,
              "#7201a8"
             ],
             [
              0.3333333333333333,
              "#9c179e"
             ],
             [
              0.4444444444444444,
              "#bd3786"
             ],
             [
              0.5555555555555556,
              "#d8576b"
             ],
             [
              0.6666666666666666,
              "#ed7953"
             ],
             [
              0.7777777777777778,
              "#fb9f3a"
             ],
             [
              0.8888888888888888,
              "#fdca26"
             ],
             [
              1,
              "#f0f921"
             ]
            ],
            "type": "contour"
           }
          ],
          "contourcarpet": [
           {
            "colorbar": {
             "outlinewidth": 0,
             "ticks": ""
            },
            "type": "contourcarpet"
           }
          ],
          "heatmap": [
           {
            "colorbar": {
             "outlinewidth": 0,
             "ticks": ""
            },
            "colorscale": [
             [
              0,
              "#0d0887"
             ],
             [
              0.1111111111111111,
              "#46039f"
             ],
             [
              0.2222222222222222,
              "#7201a8"
             ],
             [
              0.3333333333333333,
              "#9c179e"
             ],
             [
              0.4444444444444444,
              "#bd3786"
             ],
             [
              0.5555555555555556,
              "#d8576b"
             ],
             [
              0.6666666666666666,
              "#ed7953"
             ],
             [
              0.7777777777777778,
              "#fb9f3a"
             ],
             [
              0.8888888888888888,
              "#fdca26"
             ],
             [
              1,
              "#f0f921"
             ]
            ],
            "type": "heatmap"
           }
          ],
          "heatmapgl": [
           {
            "colorbar": {
             "outlinewidth": 0,
             "ticks": ""
            },
            "colorscale": [
             [
              0,
              "#0d0887"
             ],
             [
              0.1111111111111111,
              "#46039f"
             ],
             [
              0.2222222222222222,
              "#7201a8"
             ],
             [
              0.3333333333333333,
              "#9c179e"
             ],
             [
              0.4444444444444444,
              "#bd3786"
             ],
             [
              0.5555555555555556,
              "#d8576b"
             ],
             [
              0.6666666666666666,
              "#ed7953"
             ],
             [
              0.7777777777777778,
              "#fb9f3a"
             ],
             [
              0.8888888888888888,
              "#fdca26"
             ],
             [
              1,
              "#f0f921"
             ]
            ],
            "type": "heatmapgl"
           }
          ],
          "histogram": [
           {
            "marker": {
             "pattern": {
              "fillmode": "overlay",
              "size": 10,
              "solidity": 0.2
             }
            },
            "type": "histogram"
           }
          ],
          "histogram2d": [
           {
            "colorbar": {
             "outlinewidth": 0,
             "ticks": ""
            },
            "colorscale": [
             [
              0,
              "#0d0887"
             ],
             [
              0.1111111111111111,
              "#46039f"
             ],
             [
              0.2222222222222222,
              "#7201a8"
             ],
             [
              0.3333333333333333,
              "#9c179e"
             ],
             [
              0.4444444444444444,
              "#bd3786"
             ],
             [
              0.5555555555555556,
              "#d8576b"
             ],
             [
              0.6666666666666666,
              "#ed7953"
             ],
             [
              0.7777777777777778,
              "#fb9f3a"
             ],
             [
              0.8888888888888888,
              "#fdca26"
             ],
             [
              1,
              "#f0f921"
             ]
            ],
            "type": "histogram2d"
           }
          ],
          "histogram2dcontour": [
           {
            "colorbar": {
             "outlinewidth": 0,
             "ticks": ""
            },
            "colorscale": [
             [
              0,
              "#0d0887"
             ],
             [
              0.1111111111111111,
              "#46039f"
             ],
             [
              0.2222222222222222,
              "#7201a8"
             ],
             [
              0.3333333333333333,
              "#9c179e"
             ],
             [
              0.4444444444444444,
              "#bd3786"
             ],
             [
              0.5555555555555556,
              "#d8576b"
             ],
             [
              0.6666666666666666,
              "#ed7953"
             ],
             [
              0.7777777777777778,
              "#fb9f3a"
             ],
             [
              0.8888888888888888,
              "#fdca26"
             ],
             [
              1,
              "#f0f921"
             ]
            ],
            "type": "histogram2dcontour"
           }
          ],
          "mesh3d": [
           {
            "colorbar": {
             "outlinewidth": 0,
             "ticks": ""
            },
            "type": "mesh3d"
           }
          ],
          "parcoords": [
           {
            "line": {
             "colorbar": {
              "outlinewidth": 0,
              "ticks": ""
             }
            },
            "type": "parcoords"
           }
          ],
          "pie": [
           {
            "automargin": true,
            "type": "pie"
           }
          ],
          "scatter": [
           {
            "fillpattern": {
             "fillmode": "overlay",
             "size": 10,
             "solidity": 0.2
            },
            "type": "scatter"
           }
          ],
          "scatter3d": [
           {
            "line": {
             "colorbar": {
              "outlinewidth": 0,
              "ticks": ""
             }
            },
            "marker": {
             "colorbar": {
              "outlinewidth": 0,
              "ticks": ""
             }
            },
            "type": "scatter3d"
           }
          ],
          "scattercarpet": [
           {
            "marker": {
             "colorbar": {
              "outlinewidth": 0,
              "ticks": ""
             }
            },
            "type": "scattercarpet"
           }
          ],
          "scattergeo": [
           {
            "marker": {
             "colorbar": {
              "outlinewidth": 0,
              "ticks": ""
             }
            },
            "type": "scattergeo"
           }
          ],
          "scattergl": [
           {
            "marker": {
             "colorbar": {
              "outlinewidth": 0,
              "ticks": ""
             }
            },
            "type": "scattergl"
           }
          ],
          "scattermapbox": [
           {
            "marker": {
             "colorbar": {
              "outlinewidth": 0,
              "ticks": ""
             }
            },
            "type": "scattermapbox"
           }
          ],
          "scatterpolar": [
           {
            "marker": {
             "colorbar": {
              "outlinewidth": 0,
              "ticks": ""
             }
            },
            "type": "scatterpolar"
           }
          ],
          "scatterpolargl": [
           {
            "marker": {
             "colorbar": {
              "outlinewidth": 0,
              "ticks": ""
             }
            },
            "type": "scatterpolargl"
           }
          ],
          "scatterternary": [
           {
            "marker": {
             "colorbar": {
              "outlinewidth": 0,
              "ticks": ""
             }
            },
            "type": "scatterternary"
           }
          ],
          "surface": [
           {
            "colorbar": {
             "outlinewidth": 0,
             "ticks": ""
            },
            "colorscale": [
             [
              0,
              "#0d0887"
             ],
             [
              0.1111111111111111,
              "#46039f"
             ],
             [
              0.2222222222222222,
              "#7201a8"
             ],
             [
              0.3333333333333333,
              "#9c179e"
             ],
             [
              0.4444444444444444,
              "#bd3786"
             ],
             [
              0.5555555555555556,
              "#d8576b"
             ],
             [
              0.6666666666666666,
              "#ed7953"
             ],
             [
              0.7777777777777778,
              "#fb9f3a"
             ],
             [
              0.8888888888888888,
              "#fdca26"
             ],
             [
              1,
              "#f0f921"
             ]
            ],
            "type": "surface"
           }
          ],
          "table": [
           {
            "cells": {
             "fill": {
              "color": "#EBF0F8"
             },
             "line": {
              "color": "white"
             }
            },
            "header": {
             "fill": {
              "color": "#C8D4E3"
             },
             "line": {
              "color": "white"
             }
            },
            "type": "table"
           }
          ]
         },
         "layout": {
          "annotationdefaults": {
           "arrowcolor": "#2a3f5f",
           "arrowhead": 0,
           "arrowwidth": 1
          },
          "autotypenumbers": "strict",
          "coloraxis": {
           "colorbar": {
            "outlinewidth": 0,
            "ticks": ""
           }
          },
          "colorscale": {
           "diverging": [
            [
             0,
             "#8e0152"
            ],
            [
             0.1,
             "#c51b7d"
            ],
            [
             0.2,
             "#de77ae"
            ],
            [
             0.3,
             "#f1b6da"
            ],
            [
             0.4,
             "#fde0ef"
            ],
            [
             0.5,
             "#f7f7f7"
            ],
            [
             0.6,
             "#e6f5d0"
            ],
            [
             0.7,
             "#b8e186"
            ],
            [
             0.8,
             "#7fbc41"
            ],
            [
             0.9,
             "#4d9221"
            ],
            [
             1,
             "#276419"
            ]
           ],
           "sequential": [
            [
             0,
             "#0d0887"
            ],
            [
             0.1111111111111111,
             "#46039f"
            ],
            [
             0.2222222222222222,
             "#7201a8"
            ],
            [
             0.3333333333333333,
             "#9c179e"
            ],
            [
             0.4444444444444444,
             "#bd3786"
            ],
            [
             0.5555555555555556,
             "#d8576b"
            ],
            [
             0.6666666666666666,
             "#ed7953"
            ],
            [
             0.7777777777777778,
             "#fb9f3a"
            ],
            [
             0.8888888888888888,
             "#fdca26"
            ],
            [
             1,
             "#f0f921"
            ]
           ],
           "sequentialminus": [
            [
             0,
             "#0d0887"
            ],
            [
             0.1111111111111111,
             "#46039f"
            ],
            [
             0.2222222222222222,
             "#7201a8"
            ],
            [
             0.3333333333333333,
             "#9c179e"
            ],
            [
             0.4444444444444444,
             "#bd3786"
            ],
            [
             0.5555555555555556,
             "#d8576b"
            ],
            [
             0.6666666666666666,
             "#ed7953"
            ],
            [
             0.7777777777777778,
             "#fb9f3a"
            ],
            [
             0.8888888888888888,
             "#fdca26"
            ],
            [
             1,
             "#f0f921"
            ]
           ]
          },
          "colorway": [
           "#636efa",
           "#EF553B",
           "#00cc96",
           "#ab63fa",
           "#FFA15A",
           "#19d3f3",
           "#FF6692",
           "#B6E880",
           "#FF97FF",
           "#FECB52"
          ],
          "font": {
           "color": "#2a3f5f"
          },
          "geo": {
           "bgcolor": "white",
           "lakecolor": "white",
           "landcolor": "#E5ECF6",
           "showlakes": true,
           "showland": true,
           "subunitcolor": "white"
          },
          "hoverlabel": {
           "align": "left"
          },
          "hovermode": "closest",
          "mapbox": {
           "style": "light"
          },
          "paper_bgcolor": "white",
          "plot_bgcolor": "#E5ECF6",
          "polar": {
           "angularaxis": {
            "gridcolor": "white",
            "linecolor": "white",
            "ticks": ""
           },
           "bgcolor": "#E5ECF6",
           "radialaxis": {
            "gridcolor": "white",
            "linecolor": "white",
            "ticks": ""
           }
          },
          "scene": {
           "xaxis": {
            "backgroundcolor": "#E5ECF6",
            "gridcolor": "white",
            "gridwidth": 2,
            "linecolor": "white",
            "showbackground": true,
            "ticks": "",
            "zerolinecolor": "white"
           },
           "yaxis": {
            "backgroundcolor": "#E5ECF6",
            "gridcolor": "white",
            "gridwidth": 2,
            "linecolor": "white",
            "showbackground": true,
            "ticks": "",
            "zerolinecolor": "white"
           },
           "zaxis": {
            "backgroundcolor": "#E5ECF6",
            "gridcolor": "white",
            "gridwidth": 2,
            "linecolor": "white",
            "showbackground": true,
            "ticks": "",
            "zerolinecolor": "white"
           }
          },
          "shapedefaults": {
           "line": {
            "color": "#2a3f5f"
           }
          },
          "ternary": {
           "aaxis": {
            "gridcolor": "white",
            "linecolor": "white",
            "ticks": ""
           },
           "baxis": {
            "gridcolor": "white",
            "linecolor": "white",
            "ticks": ""
           },
           "bgcolor": "#E5ECF6",
           "caxis": {
            "gridcolor": "white",
            "linecolor": "white",
            "ticks": ""
           }
          },
          "title": {
           "x": 0.05
          },
          "xaxis": {
           "automargin": true,
           "gridcolor": "white",
           "linecolor": "white",
           "ticks": "",
           "title": {
            "standoff": 15
           },
           "zerolinecolor": "white",
           "zerolinewidth": 2
          },
          "yaxis": {
           "automargin": true,
           "gridcolor": "white",
           "linecolor": "white",
           "ticks": "",
           "title": {
            "standoff": 15
           },
           "zerolinecolor": "white",
           "zerolinewidth": 2
          }
         }
        },
        "xaxis": {
         "anchor": "y",
         "constrain": "domain",
         "domain": [
          0,
          1
         ],
         "scaleanchor": "y",
         "title": {
          "text": "annee"
         }
        },
        "yaxis": {
         "anchor": "x",
         "autorange": "reversed",
         "constrain": "domain",
         "domain": [
          0,
          1
         ]
        }
       }
      }
     },
     "metadata": {},
     "output_type": "display_data"
    }
   ],
   "source": [
    "dfprime = dfPlot.set_index(\"annee\")\n",
    "dfprime = dfprime.drop([\"Genre\", \"Toutes\", \"Toutes sauf Genre\"], axis = 1)\n",
    "dfprime = dfprime.T\n",
    "dfprime[\"mean\"] = dfprime.mean(axis=1)\n",
    "px.imshow(dfprime.sort_values(\"mean\", ascending=False).drop(\"mean\", axis=1),\n",
    "          color_continuous_scale='inferno')\n"
   ]
  }
 ],
 "metadata": {
  "kernelspec": {
   "display_name": "CREST",
   "language": "python",
   "name": "python3"
  },
  "language_info": {
   "codemirror_mode": {
    "name": "ipython",
    "version": 3
   },
   "file_extension": ".py",
   "mimetype": "text/x-python",
   "name": "python",
   "nbconvert_exporter": "python",
   "pygments_lexer": "ipython3",
   "version": "3.12.7"
  }
 },
 "nbformat": 4,
 "nbformat_minor": 2
}
