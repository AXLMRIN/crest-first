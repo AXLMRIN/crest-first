{
 "cells": [
  {
   "cell_type": "code",
   "execution_count": 1,
   "metadata": {},
   "outputs": [],
   "source": [
    "import pandas as pd"
   ]
  },
  {
   "cell_type": "code",
   "execution_count": 2,
   "metadata": {},
   "outputs": [],
   "source": [
    "df = pd.read_csv('../../data/checkpoints/dfPlot.csv')"
   ]
  },
  {
   "cell_type": "code",
   "execution_count": 4,
   "metadata": {},
   "outputs": [
    {
     "data": {
      "text/plain": [
       "0           NaN\n",
       "1           NaN\n",
       "2           NaN\n",
       "3           NaN\n",
       "4      9.317041\n",
       "5      9.287472\n",
       "6      8.749983\n",
       "7      7.985713\n",
       "8      8.168030\n",
       "9      7.867902\n",
       "10    11.418790\n",
       "11    11.960754\n",
       "12    14.602264\n",
       "13    16.047810\n",
       "14    15.626935\n",
       "15    14.321134\n",
       "16    17.336003\n",
       "17    16.642479\n",
       "18    17.724405\n",
       "19    17.048414\n",
       "20    14.606707\n",
       "21    11.368761\n",
       "Name: Anthropologie, dtype: float64"
      ]
     },
     "execution_count": 4,
     "metadata": {},
     "output_type": "execute_result"
    }
   ],
   "source": [
    "df['Anthropologie'].rolling(window = 2).mean()"
   ]
  },
  {
   "cell_type": "code",
   "execution_count": null,
   "metadata": {},
   "outputs": [],
   "source": []
  }
 ],
 "metadata": {
  "kernelspec": {
   "display_name": "CREST",
   "language": "python",
   "name": "python3"
  },
  "language_info": {
   "codemirror_mode": {
    "name": "ipython",
    "version": 3
   },
   "file_extension": ".py",
   "mimetype": "text/x-python",
   "name": "python",
   "nbconvert_exporter": "python",
   "pygments_lexer": "ipython3",
   "version": "3.12.7"
  }
 },
 "nbformat": 4,
 "nbformat_minor": 2
}
