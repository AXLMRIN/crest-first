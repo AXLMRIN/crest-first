{
 "cells": [
  {
   "cell_type": "code",
   "execution_count": 3,
   "metadata": {},
   "outputs": [
    {
     "name": "stdout",
     "output_type": "stream",
     "text": [
      "['/Users/axelmorin/Library/Mobile Documents/com~apple~CloudDocs/Axel_tout/Professionnel/Stages/TFE/CREST/workdirectory/Genre/dataVis/crest-first/scripts/notebooks', '/opt/miniconda3/envs/CREST/lib/python312.zip', '/opt/miniconda3/envs/CREST/lib/python3.12', '/opt/miniconda3/envs/CREST/lib/python3.12/lib-dynload', '', '/opt/miniconda3/envs/CREST/lib/python3.12/site-packages', '/opt/miniconda3/envs/CREST/lib/python3.12/site-packages/setuptools/_vendor', '../src/', '../']\n"
     ]
    }
   ],
   "source": [
    "import sys\n",
    "sys.path\n",
    "sys.path.append('../')\n",
    "print(sys.path)"
   ]
  },
  {
   "cell_type": "code",
   "execution_count": 4,
   "metadata": {},
   "outputs": [
    {
     "name": "stdout",
     "output_type": "stream",
     "text": [
      "Hello from src.test\n"
     ]
    }
   ],
   "source": [
    "from src.test import fun\n",
    "fun()   "
   ]
  },
  {
   "cell_type": "code",
   "execution_count": 2,
   "metadata": {},
   "outputs": [
    {
     "name": "stdout",
     "output_type": "stream",
     "text": [
      "Hi again it doesn't work\n"
     ]
    }
   ],
   "source": [
    "print(\"Hi again it doesn't work\")"
   ]
  },
  {
   "cell_type": "code",
   "execution_count": null,
   "metadata": {},
   "outputs": [],
   "source": []
  }
 ],
 "metadata": {
  "kernelspec": {
   "display_name": "CREST",
   "language": "python",
   "name": "python3"
  },
  "language_info": {
   "codemirror_mode": {
    "name": "ipython",
    "version": 3
   },
   "file_extension": ".py",
   "mimetype": "text/x-python",
   "name": "python",
   "nbconvert_exporter": "python",
   "pygments_lexer": "ipython3",
   "version": "3.12.7"
  }
 },
 "nbformat": 4,
 "nbformat_minor": 2
}
