{
 "cells": [
  {
   "cell_type": "code",
   "execution_count": 10,
   "metadata": {},
   "outputs": [],
   "source": [
    "import pandas as pd"
   ]
  },
  {
   "cell_type": "code",
   "execution_count": 10,
   "metadata": {},
   "outputs": [
    {
     "name": "stdout",
     "output_type": "stream",
     "text": [
      "Unnamed: 0\n",
      "accessible\n",
      "auteur.idref\n",
      "auteur.nom\n",
      "auteur.prenom\n",
      "cas\n",
      "code_etab\n",
      "date_soutenance\n",
      "directeurs_these.0.idref\n",
      "directeurs_these.0.nom\n",
      "directeurs_these.0.prenom\n",
      "directeurs_these.1.idref\n",
      "directeurs_these.1.nom\n",
      "directeurs_these.1.prenom\n",
      "directeurs_these.2.idref\n",
      "directeurs_these.2.nom\n",
      "directeurs_these.2.prenom\n",
      "directeurs_these.3.idref\n",
      "directeurs_these.3.nom\n",
      "directeurs_these.3.prenom\n",
      "directeurs_these.4.idref\n",
      "directeurs_these.4.nom\n",
      "directeurs_these.4.prenom\n",
      "directeurs_these.5.idref\n",
      "directeurs_these.5.nom\n",
      "directeurs_these.5.prenom\n",
      "directeurs_these.6.idref\n",
      "directeurs_these.6.nom\n",
      "directeurs_these.6.prenom\n",
      "discipline\n",
      "ecoles_doctorales.0.idref\n",
      "ecoles_doctorales.0.nom\n",
      "ecoles_doctorales.1.idref\n",
      "ecoles_doctorales.1.nom\n",
      "embargo\n",
      "etablissements_soutenance.0.idref\n",
      "etablissements_soutenance.0.nom\n",
      "etablissements_soutenance.1.idref\n",
      "etablissements_soutenance.1.nom\n",
      "etablissements_soutenance.2.idref\n",
      "etablissements_soutenance.2.nom\n",
      "etablissements_soutenance.3.idref\n",
      "etablissements_soutenance.3.nom\n",
      "etablissements_soutenance.4.idref\n",
      "etablissements_soutenance.4.nom\n",
      "langues.0\n",
      "langues.1\n",
      "langues.2\n",
      "langues.3\n",
      "membres_jury.0.idref\n",
      "membres_jury.0.nom\n",
      "membres_jury.0.prenom\n",
      "membres_jury.10.idref\n",
      "membres_jury.10.nom\n",
      "membres_jury.10.prenom\n",
      "membres_jury.11.idref\n",
      "membres_jury.11.nom\n",
      "membres_jury.11.prenom\n",
      "membres_jury.1.idref\n",
      "membres_jury.1.nom\n",
      "membres_jury.1.prenom\n",
      "membres_jury.2.idref\n",
      "membres_jury.2.nom\n",
      "membres_jury.2.prenom\n",
      "membres_jury.3.idref\n",
      "membres_jury.3.nom\n",
      "membres_jury.3.prenom\n",
      "membres_jury.4.idref\n",
      "membres_jury.4.nom\n",
      "membres_jury.4.prenom\n",
      "membres_jury.5.idref\n",
      "membres_jury.5.nom\n",
      "membres_jury.5.prenom\n",
      "membres_jury.6.idref\n",
      "membres_jury.6.nom\n",
      "membres_jury.6.prenom\n",
      "membres_jury.7.idref\n",
      "membres_jury.7.nom\n",
      "membres_jury.7.prenom\n",
      "membres_jury.8.idref\n",
      "membres_jury.8.nom\n",
      "membres_jury.8.prenom\n",
      "membres_jury.9.idref\n",
      "membres_jury.9.nom\n",
      "membres_jury.9.prenom\n",
      "nnt\n",
      "oai_set_specs\n",
      "partenaires_recherche.0.idref\n",
      "partenaires_recherche.0.nom\n",
      "partenaires_recherche.0.type\n",
      "partenaires_recherche.1.idref\n",
      "partenaires_recherche.1.nom\n",
      "partenaires_recherche.1.type\n",
      "partenaires_recherche.2.idref\n",
      "partenaires_recherche.2.nom\n",
      "partenaires_recherche.2.type\n",
      "partenaires_recherche.3.idref\n",
      "partenaires_recherche.3.nom\n",
      "partenaires_recherche.3.type\n",
      "partenaires_recherche.4.idref\n",
      "partenaires_recherche.4.nom\n",
      "partenaires_recherche.4.type\n",
      "partenaires_recherche.5.idref\n",
      "partenaires_recherche.5.nom\n",
      "partenaires_recherche.5.type\n",
      "partenaires_recherche.6.idref\n",
      "partenaires_recherche.6.nom\n",
      "partenaires_recherche.6.type\n",
      "partenaires_recherche.7.idref\n",
      "partenaires_recherche.7.nom\n",
      "partenaires_recherche.7.type\n",
      "president_jury.idref\n",
      "president_jury.nom\n",
      "president_jury.prenom\n",
      "rapporteurs.0.idref\n",
      "rapporteurs.0.nom\n",
      "rapporteurs.0.prenom\n",
      "rapporteurs.1.idref\n",
      "rapporteurs.1.nom\n",
      "rapporteurs.1.prenom\n",
      "rapporteurs.2.idref\n",
      "rapporteurs.2.nom\n",
      "rapporteurs.2.prenom\n",
      "rapporteurs.3.idref\n",
      "rapporteurs.3.nom\n",
      "rapporteurs.3.prenom\n",
      "rapporteurs.4.idref\n",
      "rapporteurs.4.nom\n",
      "rapporteurs.4.prenom\n",
      "rapporteurs.5.idref\n",
      "rapporteurs.5.nom\n",
      "rapporteurs.5.prenom\n",
      "resumes.autre.0\n",
      "resumes.autre.1\n",
      "resumes.autre.2\n",
      "resumes.autre.3\n",
      "resumes.autre.4\n",
      "resumes.autre.5\n",
      "resumes.en\n",
      "resumes.fr\n",
      "source\n",
      "status\n",
      "sujets.autre.0\n",
      "sujets.autre.1\n",
      "sujets.autre.2\n",
      "sujets.autre.3\n",
      "sujets.autre.4\n",
      "sujets.autre.5\n",
      "sujets.autre.6\n",
      "sujets.autre.7\n",
      "sujets.en\n",
      "sujets.fr\n",
      "sujets_rameau.0\n",
      "sujets_rameau.1\n",
      "sujets_rameau.10\n",
      "sujets_rameau.11\n",
      "sujets_rameau.12\n",
      "sujets_rameau.13\n",
      "sujets_rameau.14\n",
      "sujets_rameau.15\n",
      "sujets_rameau.16\n",
      "sujets_rameau.17\n",
      "sujets_rameau.18\n",
      "sujets_rameau.19\n",
      "sujets_rameau.2\n",
      "sujets_rameau.20\n",
      "sujets_rameau.21\n",
      "sujets_rameau.22\n",
      "sujets_rameau.23\n",
      "sujets_rameau.24\n",
      "sujets_rameau.25\n",
      "sujets_rameau.26\n",
      "sujets_rameau.27\n",
      "sujets_rameau.28\n",
      "sujets_rameau.29\n",
      "sujets_rameau.3\n",
      "sujets_rameau.30\n",
      "sujets_rameau.31\n",
      "sujets_rameau.32\n",
      "sujets_rameau.33\n",
      "sujets_rameau.34\n",
      "sujets_rameau.35\n",
      "sujets_rameau.36\n",
      "sujets_rameau.37\n",
      "sujets_rameau.38\n",
      "sujets_rameau.39\n",
      "sujets_rameau.4\n",
      "sujets_rameau.40\n",
      "sujets_rameau.41\n",
      "sujets_rameau.42\n",
      "sujets_rameau.43\n",
      "sujets_rameau.44\n",
      "sujets_rameau.45\n",
      "sujets_rameau.46\n",
      "sujets_rameau.47\n",
      "sujets_rameau.48\n",
      "sujets_rameau.49\n",
      "sujets_rameau.5\n",
      "sujets_rameau.50\n",
      "sujets_rameau.51\n",
      "sujets_rameau.52\n",
      "sujets_rameau.53\n",
      "sujets_rameau.54\n",
      "sujets_rameau.6\n",
      "sujets_rameau.7\n",
      "sujets_rameau.8\n",
      "sujets_rameau.9\n",
      "these_sur_travaux\n",
      "titres.autre.0\n",
      "titres.autre.1\n",
      "titres.autre.2\n",
      "titres.autre.3\n",
      "titres.en\n",
      "titres.fr\n",
      "texte\n",
      "genre\n"
     ]
    }
   ],
   "source": [
    "for key in dfThese.columns : \n",
    "    print(key)"
   ]
  },
  {
   "cell_type": "code",
   "execution_count": 11,
   "metadata": {},
   "outputs": [
    {
     "name": "stderr",
     "output_type": "stream",
     "text": [
      "/var/folders/xs/d90v1vkn16db_7z493h6kwt40000gn/T/ipykernel_62386/1609383073.py:1: DtypeWarning: Columns (0,2,3,4,5,6,7,8,9,10,11,12,13,14,15,16,17,18,19,29,30,31,33,34,35,36,37,38,39,40,45,46,47,49,50,51,58,59,60,61,62,63,64,65,66,67,68,69,70,71,72,73,74,75,76,77,78,80,81,85,86,87,88,89,90,91,92,93,94,95,96,97,98,100,101,111,112,113,114,115,116,117,118,119,120,121,122,123,124,125,127,128,129,130,131,132,133,134,138,139,140,141,142,143,144,145,150,151,152,153,154,155,156,157,158,159,160,161,162,163,164,165,166,167,168,169,170,171,172,173,174,175,176,177,178,179,180,181,182,183,184,185,186,187,188,189,190,191,192,193,194,195,196,197,203,204,205,206,207,208,209,210,212,213,214) have mixed types. Specify dtype option on import or set low_memory=False.\n",
      "  dfThese = pd.read_csv('../../data/shs_resumes_genre.csv')\n"
     ]
    }
   ],
   "source": [
    "dfThese = pd.read_csv('../../data/shs_resumes_genre.csv')"
   ]
  },
  {
   "cell_type": "code",
   "execution_count": 16,
   "metadata": {},
   "outputs": [
    {
     "data": {
      "text/html": [
       "<div>\n",
       "<style scoped>\n",
       "    .dataframe tbody tr th:only-of-type {\n",
       "        vertical-align: middle;\n",
       "    }\n",
       "\n",
       "    .dataframe tbody tr th {\n",
       "        vertical-align: top;\n",
       "    }\n",
       "\n",
       "    .dataframe thead th {\n",
       "        text-align: right;\n",
       "    }\n",
       "</style>\n",
       "<table border=\"1\" class=\"dataframe\">\n",
       "  <thead>\n",
       "    <tr style=\"text-align: right;\">\n",
       "      <th></th>\n",
       "      <th>Unnamed: 0</th>\n",
       "      <th>accessible</th>\n",
       "      <th>auteur.idref</th>\n",
       "      <th>auteur.nom</th>\n",
       "      <th>auteur.prenom</th>\n",
       "      <th>cas</th>\n",
       "      <th>code_etab</th>\n",
       "      <th>date_soutenance</th>\n",
       "      <th>directeurs_these.0.idref</th>\n",
       "      <th>directeurs_these.0.nom</th>\n",
       "      <th>...</th>\n",
       "      <th>sujets_rameau.9</th>\n",
       "      <th>these_sur_travaux</th>\n",
       "      <th>titres.autre.0</th>\n",
       "      <th>titres.autre.1</th>\n",
       "      <th>titres.autre.2</th>\n",
       "      <th>titres.autre.3</th>\n",
       "      <th>titres.en</th>\n",
       "      <th>titres.fr</th>\n",
       "      <th>texte</th>\n",
       "      <th>genre</th>\n",
       "    </tr>\n",
       "  </thead>\n",
       "  <tbody>\n",
       "    <tr>\n",
       "      <th>48</th>\n",
       "      <td>399</td>\n",
       "      <td>non</td>\n",
       "      <td>158358953</td>\n",
       "      <td>Bob</td>\n",
       "      <td>Ibrahima</td>\n",
       "      <td>NaN</td>\n",
       "      <td>AMIE</td>\n",
       "      <td>2009-01-01</td>\n",
       "      <td>027011119</td>\n",
       "      <td>Marouf</td>\n",
       "      <td>...</td>\n",
       "      <td>NaN</td>\n",
       "      <td>non</td>\n",
       "      <td>NaN</td>\n",
       "      <td>NaN</td>\n",
       "      <td>NaN</td>\n",
       "      <td>NaN</td>\n",
       "      <td>Urban women's participative strategies in the ...</td>\n",
       "      <td>Les stratégies participatives des femmes urbai...</td>\n",
       "      <td>Les stratégies participatives des femmes urbai...</td>\n",
       "      <td>1.0</td>\n",
       "    </tr>\n",
       "    <tr>\n",
       "      <th>58</th>\n",
       "      <td>481</td>\n",
       "      <td>non</td>\n",
       "      <td>07806726X</td>\n",
       "      <td>Joye</td>\n",
       "      <td>Sylvie</td>\n",
       "      <td>NaN</td>\n",
       "      <td>LIL3</td>\n",
       "      <td>2006-01-01</td>\n",
       "      <td>029109752</td>\n",
       "      <td>La Rocca</td>\n",
       "      <td>...</td>\n",
       "      <td>NaN</td>\n",
       "      <td>non</td>\n",
       "      <td>NaN</td>\n",
       "      <td>NaN</td>\n",
       "      <td>NaN</td>\n",
       "      <td>NaN</td>\n",
       "      <td>Abducted women, elopment and marriage in the s...</td>\n",
       "      <td>La femme ravie : le mariage par rapt dans les ...</td>\n",
       "      <td>La femme ravie : le mariage par rapt dans les ...</td>\n",
       "      <td>1.0</td>\n",
       "    </tr>\n",
       "    <tr>\n",
       "      <th>86</th>\n",
       "      <td>759</td>\n",
       "      <td>non</td>\n",
       "      <td>162061021</td>\n",
       "      <td>Vignuzzi</td>\n",
       "      <td>Maria Cecilia</td>\n",
       "      <td>NaN</td>\n",
       "      <td>EPHE</td>\n",
       "      <td>2008-01-01</td>\n",
       "      <td>035083476</td>\n",
       "      <td>Pécout</td>\n",
       "      <td>...</td>\n",
       "      <td>NaN</td>\n",
       "      <td>non</td>\n",
       "      <td>it::La partecipazione femminile al giornalismo...</td>\n",
       "      <td>NaN</td>\n",
       "      <td>NaN</td>\n",
       "      <td>NaN</td>\n",
       "      <td>The participation of women political and liter...</td>\n",
       "      <td>La participation des femmes au journalisme pol...</td>\n",
       "      <td>La participation des femmes au journalisme pol...</td>\n",
       "      <td>1.0</td>\n",
       "    </tr>\n",
       "    <tr>\n",
       "      <th>164</th>\n",
       "      <td>1474</td>\n",
       "      <td>non</td>\n",
       "      <td>094592365</td>\n",
       "      <td>Vazquez Sandrin</td>\n",
       "      <td>German</td>\n",
       "      <td>NaN</td>\n",
       "      <td>PA03</td>\n",
       "      <td>2005-01-01</td>\n",
       "      <td>030729599</td>\n",
       "      <td>Cosío-Zavala</td>\n",
       "      <td>...</td>\n",
       "      <td>NaN</td>\n",
       "      <td>non</td>\n",
       "      <td>NaN</td>\n",
       "      <td>NaN</td>\n",
       "      <td>NaN</td>\n",
       "      <td>NaN</td>\n",
       "      <td>Reproductive behaviour changes among the Mexic...</td>\n",
       "      <td>Le changement de comportement reproductif de l...</td>\n",
       "      <td>Le changement de comportement reproductif de l...</td>\n",
       "      <td>1.0</td>\n",
       "    </tr>\n",
       "    <tr>\n",
       "      <th>169</th>\n",
       "      <td>1522</td>\n",
       "      <td>non</td>\n",
       "      <td>072883596</td>\n",
       "      <td>Garcia</td>\n",
       "      <td>Sandrine</td>\n",
       "      <td>NaN</td>\n",
       "      <td>EHES</td>\n",
       "      <td>1993-01-01</td>\n",
       "      <td>027715078</td>\n",
       "      <td>Bourdieu</td>\n",
       "      <td>...</td>\n",
       "      <td>NaN</td>\n",
       "      <td>non</td>\n",
       "      <td>NaN</td>\n",
       "      <td>NaN</td>\n",
       "      <td>NaN</td>\n",
       "      <td>NaN</td>\n",
       "      <td>Feminism, symbolic revolution ? study of the s...</td>\n",
       "      <td>Le Féminisme, une révolution symbolique ? : ét...</td>\n",
       "      <td>Le Féminisme, une révolution symbolique ? : ét...</td>\n",
       "      <td>1.0</td>\n",
       "    </tr>\n",
       "    <tr>\n",
       "      <th>...</th>\n",
       "      <td>...</td>\n",
       "      <td>...</td>\n",
       "      <td>...</td>\n",
       "      <td>...</td>\n",
       "      <td>...</td>\n",
       "      <td>...</td>\n",
       "      <td>...</td>\n",
       "      <td>...</td>\n",
       "      <td>...</td>\n",
       "      <td>...</td>\n",
       "      <td>...</td>\n",
       "      <td>...</td>\n",
       "      <td>...</td>\n",
       "      <td>...</td>\n",
       "      <td>...</td>\n",
       "      <td>...</td>\n",
       "      <td>...</td>\n",
       "      <td>...</td>\n",
       "      <td>...</td>\n",
       "      <td>...</td>\n",
       "      <td>...</td>\n",
       "    </tr>\n",
       "    <tr>\n",
       "      <th>91408</th>\n",
       "      <td>445128</td>\n",
       "      <td>oui</td>\n",
       "      <td>162090390</td>\n",
       "      <td>Prevost</td>\n",
       "      <td>Aurelie</td>\n",
       "      <td>cas1</td>\n",
       "      <td>LYO2</td>\n",
       "      <td>2011-11-28</td>\n",
       "      <td>030736218</td>\n",
       "      <td>Martin</td>\n",
       "      <td>...</td>\n",
       "      <td>NaN</td>\n",
       "      <td>non</td>\n",
       "      <td>NaN</td>\n",
       "      <td>NaN</td>\n",
       "      <td>NaN</td>\n",
       "      <td>NaN</td>\n",
       "      <td>Friendship in France XVIth-XVIIth : norms, pra...</td>\n",
       "      <td>L’amitié aux XVIe et XVIIe siècles en France :...</td>\n",
       "      <td>L’amitié aux XVIe et XVIIe siècles en France :...</td>\n",
       "      <td>1.0</td>\n",
       "    </tr>\n",
       "    <tr>\n",
       "      <th>91434</th>\n",
       "      <td>445237</td>\n",
       "      <td>non</td>\n",
       "      <td>159641349</td>\n",
       "      <td>Abdellaoui</td>\n",
       "      <td>Fouzia</td>\n",
       "      <td>cas5</td>\n",
       "      <td>MON3</td>\n",
       "      <td>2011-12-08</td>\n",
       "      <td>029085381</td>\n",
       "      <td>Bonnet</td>\n",
       "      <td>...</td>\n",
       "      <td>NaN</td>\n",
       "      <td>non</td>\n",
       "      <td>NaN</td>\n",
       "      <td>NaN</td>\n",
       "      <td>NaN</td>\n",
       "      <td>NaN</td>\n",
       "      <td>Non communiqué</td>\n",
       "      <td>La célibataire marocaine : la bayra. Approche ...</td>\n",
       "      <td>La célibataire marocaine : la bayra. Approche ...</td>\n",
       "      <td>1.0</td>\n",
       "    </tr>\n",
       "    <tr>\n",
       "      <th>91464</th>\n",
       "      <td>445404</td>\n",
       "      <td>oui</td>\n",
       "      <td>20371508X</td>\n",
       "      <td>Marzi</td>\n",
       "      <td>Éva</td>\n",
       "      <td>cas2</td>\n",
       "      <td>STRA</td>\n",
       "      <td>2017-03-24</td>\n",
       "      <td>06155376X</td>\n",
       "      <td>Salzbrunn</td>\n",
       "      <td>...</td>\n",
       "      <td>NaN</td>\n",
       "      <td>non</td>\n",
       "      <td>NaN</td>\n",
       "      <td>NaN</td>\n",
       "      <td>NaN</td>\n",
       "      <td>NaN</td>\n",
       "      <td>The negotiation of visibility : religious comm...</td>\n",
       "      <td>Etre visible ou invisible : l'engagement relig...</td>\n",
       "      <td>Etre visible ou invisible : l'engagement relig...</td>\n",
       "      <td>1.0</td>\n",
       "    </tr>\n",
       "    <tr>\n",
       "      <th>91498</th>\n",
       "      <td>445597</td>\n",
       "      <td>oui</td>\n",
       "      <td>156892995</td>\n",
       "      <td>Bertrand</td>\n",
       "      <td>Sophie</td>\n",
       "      <td>cas1</td>\n",
       "      <td>TOU2</td>\n",
       "      <td>2011-09-19</td>\n",
       "      <td>069785074</td>\n",
       "      <td>Barlangue</td>\n",
       "      <td>...</td>\n",
       "      <td>NaN</td>\n",
       "      <td>non</td>\n",
       "      <td>NaN</td>\n",
       "      <td>NaN</td>\n",
       "      <td>NaN</td>\n",
       "      <td>NaN</td>\n",
       "      <td>« Following a thread », female sculptors worki...</td>\n",
       "      <td>\"De fil en aiguille\", les femmes sculpteurs à ...</td>\n",
       "      <td>\"De fil en aiguille\", les femmes sculpteurs à ...</td>\n",
       "      <td>1.0</td>\n",
       "    </tr>\n",
       "    <tr>\n",
       "      <th>91499</th>\n",
       "      <td>445602</td>\n",
       "      <td>non</td>\n",
       "      <td>163642109</td>\n",
       "      <td>Sery</td>\n",
       "      <td>Annelise</td>\n",
       "      <td>cas5</td>\n",
       "      <td>MON3</td>\n",
       "      <td>2012-05-07</td>\n",
       "      <td>029730708</td>\n",
       "      <td>Xiberras</td>\n",
       "      <td>...</td>\n",
       "      <td>NaN</td>\n",
       "      <td>non</td>\n",
       "      <td>NaN</td>\n",
       "      <td>NaN</td>\n",
       "      <td>NaN</td>\n",
       "      <td>NaN</td>\n",
       "      <td>Microcredit : the empowerment of Ivorian women‟s</td>\n",
       "      <td>Le micro crédit : l'empowerment des femmes ivo...</td>\n",
       "      <td>Le micro crédit : l'empowerment des femmes ivo...</td>\n",
       "      <td>1.0</td>\n",
       "    </tr>\n",
       "  </tbody>\n",
       "</table>\n",
       "<p>2503 rows × 216 columns</p>\n",
       "</div>"
      ],
      "text/plain": [
       "      Unnamed: 0 accessible auteur.idref       auteur.nom  auteur.prenom  \\\n",
       "48           399        non    158358953              Bob       Ibrahima   \n",
       "58           481        non    07806726X             Joye         Sylvie   \n",
       "86           759        non    162061021         Vignuzzi  Maria Cecilia   \n",
       "164         1474        non    094592365  Vazquez Sandrin         German   \n",
       "169         1522        non    072883596           Garcia       Sandrine   \n",
       "...          ...        ...          ...              ...            ...   \n",
       "91408     445128        oui    162090390          Prevost        Aurelie   \n",
       "91434     445237        non    159641349       Abdellaoui         Fouzia   \n",
       "91464     445404        oui    20371508X            Marzi            Éva   \n",
       "91498     445597        oui    156892995         Bertrand         Sophie   \n",
       "91499     445602        non    163642109             Sery       Annelise   \n",
       "\n",
       "        cas code_etab date_soutenance directeurs_these.0.idref  \\\n",
       "48      NaN      AMIE      2009-01-01                027011119   \n",
       "58      NaN      LIL3      2006-01-01                029109752   \n",
       "86      NaN      EPHE      2008-01-01                035083476   \n",
       "164     NaN      PA03      2005-01-01                030729599   \n",
       "169     NaN      EHES      1993-01-01                027715078   \n",
       "...     ...       ...             ...                      ...   \n",
       "91408  cas1      LYO2      2011-11-28                030736218   \n",
       "91434  cas5      MON3      2011-12-08                029085381   \n",
       "91464  cas2      STRA      2017-03-24                06155376X   \n",
       "91498  cas1      TOU2      2011-09-19                069785074   \n",
       "91499  cas5      MON3      2012-05-07                029730708   \n",
       "\n",
       "      directeurs_these.0.nom  ... sujets_rameau.9 these_sur_travaux  \\\n",
       "48                    Marouf  ...             NaN               non   \n",
       "58                  La Rocca  ...             NaN               non   \n",
       "86                    Pécout  ...             NaN               non   \n",
       "164             Cosío-Zavala  ...             NaN               non   \n",
       "169                 Bourdieu  ...             NaN               non   \n",
       "...                      ...  ...             ...               ...   \n",
       "91408                 Martin  ...             NaN               non   \n",
       "91434                 Bonnet  ...             NaN               non   \n",
       "91464              Salzbrunn  ...             NaN               non   \n",
       "91498              Barlangue  ...             NaN               non   \n",
       "91499               Xiberras  ...             NaN               non   \n",
       "\n",
       "                                          titres.autre.0 titres.autre.1  \\\n",
       "48                                                   NaN            NaN   \n",
       "58                                                   NaN            NaN   \n",
       "86     it::La partecipazione femminile al giornalismo...            NaN   \n",
       "164                                                  NaN            NaN   \n",
       "169                                                  NaN            NaN   \n",
       "...                                                  ...            ...   \n",
       "91408                                                NaN            NaN   \n",
       "91434                                                NaN            NaN   \n",
       "91464                                                NaN            NaN   \n",
       "91498                                                NaN            NaN   \n",
       "91499                                                NaN            NaN   \n",
       "\n",
       "      titres.autre.2 titres.autre.3  \\\n",
       "48               NaN            NaN   \n",
       "58               NaN            NaN   \n",
       "86               NaN            NaN   \n",
       "164              NaN            NaN   \n",
       "169              NaN            NaN   \n",
       "...              ...            ...   \n",
       "91408            NaN            NaN   \n",
       "91434            NaN            NaN   \n",
       "91464            NaN            NaN   \n",
       "91498            NaN            NaN   \n",
       "91499            NaN            NaN   \n",
       "\n",
       "                                               titres.en  \\\n",
       "48     Urban women's participative strategies in the ...   \n",
       "58     Abducted women, elopment and marriage in the s...   \n",
       "86     The participation of women political and liter...   \n",
       "164    Reproductive behaviour changes among the Mexic...   \n",
       "169    Feminism, symbolic revolution ? study of the s...   \n",
       "...                                                  ...   \n",
       "91408  Friendship in France XVIth-XVIIth : norms, pra...   \n",
       "91434                                     Non communiqué   \n",
       "91464  The negotiation of visibility : religious comm...   \n",
       "91498  « Following a thread », female sculptors worki...   \n",
       "91499   Microcredit : the empowerment of Ivorian women‟s   \n",
       "\n",
       "                                               titres.fr  \\\n",
       "48     Les stratégies participatives des femmes urbai...   \n",
       "58     La femme ravie : le mariage par rapt dans les ...   \n",
       "86     La participation des femmes au journalisme pol...   \n",
       "164    Le changement de comportement reproductif de l...   \n",
       "169    Le Féminisme, une révolution symbolique ? : ét...   \n",
       "...                                                  ...   \n",
       "91408  L’amitié aux XVIe et XVIIe siècles en France :...   \n",
       "91434  La célibataire marocaine : la bayra. Approche ...   \n",
       "91464  Etre visible ou invisible : l'engagement relig...   \n",
       "91498  \"De fil en aiguille\", les femmes sculpteurs à ...   \n",
       "91499  Le micro crédit : l'empowerment des femmes ivo...   \n",
       "\n",
       "                                                   texte genre  \n",
       "48     Les stratégies participatives des femmes urbai...   1.0  \n",
       "58     La femme ravie : le mariage par rapt dans les ...   1.0  \n",
       "86     La participation des femmes au journalisme pol...   1.0  \n",
       "164    Le changement de comportement reproductif de l...   1.0  \n",
       "169    Le Féminisme, une révolution symbolique ? : ét...   1.0  \n",
       "...                                                  ...   ...  \n",
       "91408  L’amitié aux XVIe et XVIIe siècles en France :...   1.0  \n",
       "91434  La célibataire marocaine : la bayra. Approche ...   1.0  \n",
       "91464  Etre visible ou invisible : l'engagement relig...   1.0  \n",
       "91498  \"De fil en aiguille\", les femmes sculpteurs à ...   1.0  \n",
       "91499  Le micro crédit : l'empowerment des femmes ivo...   1.0  \n",
       "\n",
       "[2503 rows x 216 columns]"
      ]
     },
     "execution_count": 16,
     "metadata": {},
     "output_type": "execute_result"
    }
   ],
   "source": [
    "dfThese = dfThese.loc[\n",
    "    dfThese['genre'].dropna().index,:\n",
    "]\n",
    "dfThese.loc[\n",
    "    dfThese['genre'] == 1,:\n",
    "]"
   ]
  },
  {
   "cell_type": "code",
   "execution_count": 9,
   "metadata": {},
   "outputs": [
    {
     "data": {
      "text/plain": [
       "2503"
      ]
     },
     "execution_count": 9,
     "metadata": {},
     "output_type": "execute_result"
    }
   ],
   "source": [
    "sum(liste == 1)"
   ]
  },
  {
   "cell_type": "code",
   "execution_count": 82,
   "metadata": {},
   "outputs": [],
   "source": [
    "selected = [\n",
    "'auteur.idref',\n",
    "'auteur.nom',\n",
    "'auteur.prenom',\n",
    "'code_etab',\n",
    "'date_soutenance',\n",
    "'discipline',\n",
    "'ecoles_doctorales.0.idref',\n",
    "'ecoles_doctorales.1.idref',\n",
    "'etablissements_soutenance.0.idref',\n",
    "'etablissements_soutenance.1.idref',\n",
    "'etablissements_soutenance.2.idref',\n",
    "'etablissements_soutenance.3.idref',\n",
    "'etablissements_soutenance.4.idref',\n",
    "'langues.0',\n",
    "'langues.1',\n",
    "'langues.2',\n",
    "'langues.3',\n",
    "'nnt',\n",
    "'oai_set_specs',\n",
    "'resumes.fr',\n",
    "'titres.fr',\n",
    "'genre',\n",
    "]\n",
    "dfTheseFiltered = dfThese.loc[:, selected]"
   ]
  },
  {
   "cell_type": "code",
   "execution_count": 87,
   "metadata": {},
   "outputs": [
    {
     "data": {
      "text/plain": [
       "{'Histoire des civilisations contemporaines',\n",
       " 'Macroéconomie',\n",
       " 'Sciences de gestion et de management',\n",
       " 'Histoire des techniques',\n",
       " 'Epistémologie, histoire des sciences',\n",
       " \"Préhistoire, archéologie, histoire et civilisation de l'Antiquité au Moyen-Âge\",\n",
       " 'Lettres. Géographie',\n",
       " 'Lettres, sciences sociales et humaines',\n",
       " 'Histoire et épigraphie',\n",
       " 'Études des sociétés latino-américaines. Géographie. Aménagement. Urbanisme',\n",
       " 'Histoire Option Relations internationales',\n",
       " 'Histoire de la Philosophie',\n",
       " 'Histoire du XXe siècle',\n",
       " 'Quaternaire : Géologie, Paléontologie humaine, Préhistoire. Paléobiochimie',\n",
       " 'Anthropologie de la maladie',\n",
       " 'Sciences économiques. Relations internationales et développement économique',\n",
       " 'Sciences économiques et socialesSciences économiques et sociales',\n",
       " 'Histoire, textes et documents',\n",
       " \"Histoire des religions de l'Antiquité\",\n",
       " \"Sciences de l'information et de la communication, industries de de la formation\",\n",
       " \"Histoire,histoire de l'art et archeologie\",\n",
       " 'Histoire et civilisation des mondes modernes et contemporains',\n",
       " 'Gestion des ressources et des écosystèmes',\n",
       " \"Gestion de l'Environnement - Ecologie\",\n",
       " 'Sciences économies',\n",
       " 'Histoire sociale. Philosophie',\n",
       " 'Histoire médiévale',\n",
       " 'Gestion financière internationale',\n",
       " 'Histoire et civilisations : histoire et archéologie des mondes anciens et des mondes médiévaux',\n",
       " \"Histoire de l'architecture XIXe-XXe s.\",\n",
       " 'Sciences de gestion et du management. Comptabilité, contrôle, audit',\n",
       " \"Histoire et cultures de l'Antiquité\",\n",
       " 'Histoires et civilisations',\n",
       " 'Etudes sibériennes. Anthropologie',\n",
       " 'Ethnologie/Anthropologie',\n",
       " \"Sciences médicales, techniques d'exploration et de diagnostic\",\n",
       " 'Ethnologie et anthropologie',\n",
       " 'Sciences économiques. Économie rurale et agroalimentaire',\n",
       " 'Lettres sciences sociales et humaines. Sociologie',\n",
       " 'Epistémologie, Histoire des sciences et des techniques',\n",
       " \"Sciences de l'éducation - Didactique\",\n",
       " 'Géographie - Aménagement - Urbanisme',\n",
       " 'Sciences économiques. Démographie économique',\n",
       " 'Sciences économiques. Économie européenne',\n",
       " 'Santé publique option économie de la santé',\n",
       " 'Économie internationale',\n",
       " 'Sociologie, anthropologie politique',\n",
       " \"Santé publique et sciences de l'information\",\n",
       " 'Sciences humaines et humanités nouvelles spécialité Sociologie - Travail social',\n",
       " 'Littérature américaine. Histoire des idées',\n",
       " 'Doctorat Histoire',\n",
       " 'Histoire antique grecque',\n",
       " 'Sciences politiques et stratégies patrimoniales',\n",
       " 'Préhistoire et art préhistorique',\n",
       " 'Histoire du livre et des bibliothèques',\n",
       " \"Histoire et civilisations. Histoire des mondes modernes, histoire du monde contemporain, de l'art\",\n",
       " 'Anthropologie générale',\n",
       " \"Histoire moderne de l'Europe\",\n",
       " \"Sciences de l'information géographique. Traitement du signal et télécommunications\",\n",
       " 'Histoire, civilisation, archéologie et art des mondes anciens et des mondes médiévaux',\n",
       " 'Sciences économiques et sciences de gestion',\n",
       " 'Géographie. Architecture, Ville, Environnement',\n",
       " 'Histoire moderne et comptemporaine',\n",
       " 'Sciences sociales, sociologie',\n",
       " 'Géographie historique',\n",
       " 'Histoire et civilisations : archéologie des mondes anciens et médiévaux',\n",
       " 'Histoire et Philosophie des sciences',\n",
       " 'Langues Histoire Civilisations Des Mondes Anciens',\n",
       " 'Arts (Histoire, Théorie, Pratique)',\n",
       " 'Gestion et traitement des Déchets',\n",
       " 'Histoire de la Révolution',\n",
       " \"Histoire de l'administration\",\n",
       " 'HISTOIRE spécialité Histoire moderne',\n",
       " \"Histoire de l'art. Études cinématographiques et audiovisuelles\",\n",
       " 'Ethnologie. Anthropologie sociale et culturelle',\n",
       " 'ARCHÉOLOGIE spécialité Préhistoire, Protohistoire Paléoenvironnement Méditerranée-Afrique',\n",
       " \"Sciences de l'education et Philosophie\",\n",
       " 'Sciences economiques et de gestion',\n",
       " 'Histoire, antiquité, historiographie',\n",
       " 'Géographie spécialité aménagement',\n",
       " 'Traitement du Signal (STIC)',\n",
       " 'SociologieSociologie',\n",
       " 'Médecine. Histoire de la médecine et éthique médicale',\n",
       " 'Géographie Politique et Sociale',\n",
       " \"Histoire d'outre-mer\",\n",
       " 'Histoire. Monde arabe contemporain',\n",
       " 'Sociologie du religieux',\n",
       " 'Psychologie. Psychosociologie',\n",
       " 'Histoire et civilisations. Histoire du Moyen Âge',\n",
       " \"Préhistoire. Archéologie. Histoire et civilisation de l'Antiquité et du Moyen-Âge\",\n",
       " 'Geographie et histoire',\n",
       " 'Histoire politique, religieuse et culturelle',\n",
       " 'STIC. Électronique, microelectronique, optique et lasers, optoelectronique microondes robotique',\n",
       " 'Gestion et Traitement des Déchets',\n",
       " \"Sciences du langage . Sciences de l'éducation\",\n",
       " 'Odontologie. Anthropologie biologique',\n",
       " 'Sciences de gestion. Management stratégique',\n",
       " \"Sciences de l'éducation. Sciences sanitaires et sociales\",\n",
       " 'Histoire médiévale des religions',\n",
       " \"Sciences. Sciences de l'Information et de la Communication\",\n",
       " 'Géographie Economique, aménagement et urbanisme',\n",
       " 'Histoire du droit grec et latin',\n",
       " \"Sciences de l'information\",\n",
       " 'Préhistoire et paléo-environnements quaternaires',\n",
       " 'Géographie spec. géo. humaine et économique',\n",
       " 'Chimie - Gestion et Traitement des Déchets',\n",
       " 'Géographie. Géomorphologie',\n",
       " 'Géographie politique, culturelle et historique',\n",
       " 'Histoire. Épigraphie latine. Histoire romaine',\n",
       " \"Sciences de l'éducation. Philosophie des sciences. Didactique des sciences\",\n",
       " \"Epidémiologie et sciences de l'information biomédicale. Epidémiologie clinique\",\n",
       " 'Lettres, sciences sociales et humaines. Transport',\n",
       " 'Sciences economiques',\n",
       " 'Sociologie. Espaces, sociétés rurales et logiques économiques',\n",
       " 'Sciences de la terre et de la mer. Préhistoire et Géologie du Quaternaire',\n",
       " 'Sciences. Gestion',\n",
       " 'Histoire et anthropologie de l’antiquité. Histoire du Proche-Orient ancien',\n",
       " 'Histoire de l’Art',\n",
       " 'Géographie spécialité Aménagement',\n",
       " \"Sciences de l'information. Création et communication multimédias\",\n",
       " \"HISTOIRE DE L'ART spécialité Art contemporain\",\n",
       " 'Ethnogéographie',\n",
       " 'Philosophie, épistemologie. Histoire et philosophie des mathématiques',\n",
       " 'Geographie Aménagement',\n",
       " \"STIC (sciences et technologies de l'information et de la communication) - Cergy\",\n",
       " 'Géographie et pratique du développement',\n",
       " 'Géographie et aménagement. Monde arabe',\n",
       " 'Géographie, Espaces et sociétés',\n",
       " 'Stic  - ed em2psi',\n",
       " 'Droit, Mention \"Histoire du droit et des institutions',\n",
       " 'Géographie. Géomorphologie, dynamique des milieux, environnement',\n",
       " 'Géographie  et  aménagement',\n",
       " \"Histoire de l'Italie médiévale\",\n",
       " 'histoire',\n",
       " 'Quaternaire : géologie, paléontologie humaine, préhistoire',\n",
       " \"Histoire de l'art et archéologie antique\",\n",
       " 'Histoire du XXème siècle',\n",
       " 'Sociologie et démographie',\n",
       " 'Sciences économiques. Économie monétaire et budgétaire',\n",
       " \"Histoire de l'Art du Moyen Âge\",\n",
       " 'Études rurales en géographie, environnement',\n",
       " 'Histoire',\n",
       " 'Histoire, civilisation et histoire de l’art des mondes modernes et contemporains',\n",
       " 'Histoire et archéologie des mondes anciens et médiévaux',\n",
       " 'Économie du développement agroalimentaire et économie rurale',\n",
       " 'Histoire spécialité archéologie',\n",
       " 'Géographie humaine et économique',\n",
       " 'Histoire contemporaine. Histoire du sport',\n",
       " 'Histoire. Anthropologie',\n",
       " 'Science politique. Études africaines',\n",
       " 'sciences politiques',\n",
       " 'Ethnologie',\n",
       " 'Geographie Aménagement Urbanisme',\n",
       " 'SCIENCES DE GESTION',\n",
       " \"Histoire de l'Espagne\",\n",
       " \"Langues et littératures anciennes. Histoire et sémiologie du texte et de l'image\",\n",
       " 'Sciences économiques. Macroéconomie financière',\n",
       " 'Préhistoire-Ethnologie-Anthropologie. Protohistoire européenne',\n",
       " 'Histoire et dynamique des espaces anglophones',\n",
       " 'Anthropologie-ethnologie',\n",
       " 'Économie politique',\n",
       " 'Science politique, spécialité Politique comparée',\n",
       " 'Histoire et civilisations. Histoire du monde moderne, du monde contemporain',\n",
       " \"Sciences de l'education et de la Formation\",\n",
       " 'Science politique. Sociologie politique et politiques publiques',\n",
       " 'Ethnologie, Anthropologie',\n",
       " 'Économie-gestion',\n",
       " 'Histoire et archéologie médiévales',\n",
       " 'Sociologie industrielle',\n",
       " 'Histoire contemporaines',\n",
       " 'Science politique. Philosophie politique',\n",
       " 'Histoire (Option : Histoire des sciences)',\n",
       " 'Sociologie, démographie. Sociologie du pouvoir',\n",
       " 'Sociologie, démographie. Anthropologie',\n",
       " 'Sciences économiques. Economie mathémathique et économétrie',\n",
       " 'Science économiques',\n",
       " \"Histoire et cultures de l'antiquité\",\n",
       " 'Histoire et patrimoines',\n",
       " \"Sciences de l'Information et de la Communication\",\n",
       " 'Médecine. Santé publique. Gestion des services de santé',\n",
       " \"Histoire de l'art. Études cinématographiques\",\n",
       " \"Arts (plastiques, spectacle, musique, esthétique, sciences et histoire de l'art)\",\n",
       " 'Préhistoire, archéologie, histoire et civilisations',\n",
       " 'Sociologie. Histoire',\n",
       " 'Démographie. Sociologie',\n",
       " 'Sciences économiques. Monnaie, banque, finance',\n",
       " 'Histoire et civilisations : histoire des mondes modernes, histoire du monde contemporain, de l’art et de la musique',\n",
       " 'Sciences de Gestion',\n",
       " 'Sciences de l’éducation, Didactique des langues',\n",
       " 'Histoire de la marine',\n",
       " 'Sciences de gestion. Finance',\n",
       " 'Humanités et sciences sociales',\n",
       " 'Histoire des techniques. Muséologie',\n",
       " 'Sociologie, sociologie des religions',\n",
       " \"Sciences. Informatique & sciences de l'information et de la communication\",\n",
       " 'Sciences économiques. Analyse et politique économiques',\n",
       " \"Santé Publique : Epidémiologie, Sciences de l'information biomédicale\",\n",
       " \"Sciences et technologies de l'information et de la communication (STIC). Optoélectronique, hyperfréquences\",\n",
       " 'Droit - Histoire du droit',\n",
       " 'Histoire des religions et Anthropologie religieuse',\n",
       " 'Histoire des religions et anthropologie religieuse',\n",
       " 'Histoire du droit, des institutions et des faits sociaux',\n",
       " 'Sociologie, socio-économie du développement',\n",
       " 'Anthropologie et sociologie de la politique et du développement',\n",
       " 'Demographie et Sciences Sociales',\n",
       " 'Mathématiques appliquées aux sciences économiques',\n",
       " 'Etudes des sociétés latino-américaines, géographie, aménagement, urbanisme',\n",
       " 'Science politique, Relations internationales',\n",
       " \"Santé Publique, épidémiologie et sciences de l'information biomédicale\",\n",
       " 'Lettres et sciences sociales',\n",
       " 'Sciences économiques. Économie du travail et de la production',\n",
       " 'Histoire des religions. Études juives',\n",
       " 'Ecologie animale. Eco-anthropologie et Ethnobiologie',\n",
       " 'Sciences économiquesSciences économiques',\n",
       " 'Géographie, urbanisme',\n",
       " \"Méthodes de l'histoire et de l'archéologie\",\n",
       " \"Histoire de l'environnement\",\n",
       " 'Sciences de gestionSciences de gestion',\n",
       " \"Histoire des civilisations de l'Antiquité\",\n",
       " 'Histoire économique et culturelle',\n",
       " 'Arts, histoire, théorie et pratique des arts plastiques. Arts plastiques',\n",
       " 'Arts, histoire, théorie, pratique. Arts plastiques',\n",
       " \"sciences de l'éducation\",\n",
       " 'Economie du développement agricole, agro-alimentaire et rural',\n",
       " 'Littérature comparée. Études africaines',\n",
       " 'Socio-économie du développement',\n",
       " 'Diagnostic laser et métrologie optique',\n",
       " 'Géographie - Cergy',\n",
       " 'Préhistoire, Anthropologie, Ethnologie',\n",
       " 'Analyses littéraires et histoire de la langue',\n",
       " 'Géographie. Géographie politique',\n",
       " 'Anthropologie sicale et ethnologie',\n",
       " 'Anthropologie Cognitive, Linguistique et Design d’Interaction  : Unité de recherche COSTECH (EA-2223)',\n",
       " 'Sciences de gestion. Finances',\n",
       " \"Histoire moderne de l'Iran\",\n",
       " \"Histoire de l'art et archéologie\",\n",
       " \"Sciences de l'Information de la Communication\",\n",
       " 'Economie internationale',\n",
       " 'HISTOIRE spécialité Histoire contemporaine',\n",
       " 'Biogéographie. Écologie',\n",
       " 'Histoire des sciences et techniques',\n",
       " 'Sociologie. Anthropologie de la santé',\n",
       " \"Sciences de l'information et de la communication & sciences de l'éducation\",\n",
       " 'Géographie. Anthropologie et sociologie',\n",
       " 'Sciences humaines et humanités nouvelles spécialité Sciences de gestion - Expertise et ingénierie financière',\n",
       " 'Histoire et études de défense',\n",
       " 'Géographie Humaine',\n",
       " 'Archéologie. Ethnologie. Anthropologie',\n",
       " \"Sciences de l'éducation. Didactique des sciences et techniques\",\n",
       " 'Science des religions. Sociologie',\n",
       " 'Ichtyologie, Systématique et Biogéographie',\n",
       " 'Sciences politiques et économiques',\n",
       " 'Histoire. Spécialité Histoire ancienne',\n",
       " \"Anthropologie de l'environnement\",\n",
       " 'Histoire et muséologie',\n",
       " \"Sciences de l'information et de la communication. Enjeux sociaux et technologies de la communication\",\n",
       " 'Sociologie mention sciences des organisations',\n",
       " 'Histoire et théorie de l’art',\n",
       " \"Sciences de l'information, de la communication et des arts\",\n",
       " 'Histoire moderne et contemporaine des mondes arabes et musulmans',\n",
       " 'Sciences Economiques, Sociales et de Gestion',\n",
       " 'Musique et anthropologie de la musique',\n",
       " \"Histoire et Civilisations de l'Antiquité\",\n",
       " '[Histoire et civilisations]',\n",
       " 'Géographie. Epidémiologie, Géographie de la santé',\n",
       " 'Histoire. Dynamiques comparées des sociétés en développement',\n",
       " 'Économie sociale',\n",
       " 'Science politique, spécialité Relations internationales',\n",
       " \"Epidémiologie et Sciences de l'Information Biomédicale\",\n",
       " 'Economie de l\\x92agriculture et des populations',\n",
       " 'Histoire et archéologie des mondes médiévaux',\n",
       " 'Histoire des sciences et des techniques',\n",
       " \"Archéologie et histoire de l'art\",\n",
       " 'Histoire arts',\n",
       " 'Sciences Économiques',\n",
       " 'Archeologie. Ethnologie. Prehistoire',\n",
       " 'Epistémologie et histoire des sciences et des techniques',\n",
       " \"Socio-économie de l'innovation\",\n",
       " 'Sciences de gestion spécialité Prospective, innovation, stratégie, organisation',\n",
       " 'Géographie aménagement urbain',\n",
       " 'Géographie. Aménagement touristique et culturel',\n",
       " 'Musique, histoire,  société',\n",
       " \"Biodiversité. Génétique, histoire et mécanismes de l'évolution\",\n",
       " \"Histoire, archéologie et histoire de l'art des mondes anciens et médiévaux\",\n",
       " 'Histoire de la philosophieHistoire de la philosophie',\n",
       " 'Histoire des arts',\n",
       " \"Histoire de l'art et archéologie de l'Antiquité tardive\",\n",
       " \"Sociétés, Politique, Santé publique. Sciences de l'éducation\",\n",
       " 'Géographie. Sciences du temps et de l´Espace',\n",
       " 'Géographie -Aménagement',\n",
       " 'Histoire, histoire de l’art et archéologie. Histoire et civilisations',\n",
       " 'Ethnologie et Anthropologie',\n",
       " 'Histoire et civilisations : histoire des mondes modernes',\n",
       " \"Histoire des arts. Histoire de l'art moderne\",\n",
       " \"Histoire de l'art. Histoire de l'architecture moderne et contemporaine\",\n",
       " \"Sciences de l'éducation et sciences sociales\",\n",
       " \"Sciences économiques. Economie d'énergie\",\n",
       " 'Géographie. Géographie et environnement',\n",
       " \"Préhistoire, archéologie, histoire et civilisation de l'Antiquité et du Moyen Age\",\n",
       " 'Sciences de gestion. Economie de la santé',\n",
       " 'Histoire. Histoire et communication',\n",
       " 'Études slaves - Histoire Contemporaine',\n",
       " 'Géographie culturelle',\n",
       " 'Gestion et traitement des dechets',\n",
       " 'Histoire des mondes arabe, africain et turc',\n",
       " 'Économie forestière',\n",
       " 'Epistémologie. Histoire des sciences et des techniques',\n",
       " 'Sciences politiques et sociales',\n",
       " \"Economie et histoire de l'Allemagne\",\n",
       " \"Sciences de l'éducation. Didactique de la physique\",\n",
       " 'Gestion financière',\n",
       " \"Histoire de l'Art. Architecture contemporaine\",\n",
       " \"Histoire (option : histoire de l'art)\",\n",
       " 'Sciences et techniques des activités physiques et sportives. Sociologie du sport',\n",
       " 'Gestion des entreprises',\n",
       " 'Economie-Gestion',\n",
       " 'Géographie. Sociologie',\n",
       " 'Économie publique',\n",
       " 'Histoire économique et sociale des pays industrialisés (XIXe-XXe siècle)',\n",
       " 'GESTION',\n",
       " \"Histoire et sémiologie du texte et de l'image\",\n",
       " \"Géographie et sciences de l'aménagement\",\n",
       " 'Sciences politiques. Sociologie politique',\n",
       " 'Epistémologie et histoire des sciences',\n",
       " 'Sociologie. Anthropologie',\n",
       " \"Socio-anthropologie de l'art\",\n",
       " \"Gestion de l'environnement - Ecologie des environnements aquatiques\",\n",
       " 'Sociologie et démographie sociale',\n",
       " 'Économie appliquée',\n",
       " 'Ethnologie et préhistoire',\n",
       " 'Sciences économiques. Monnaie, finance, budget',\n",
       " \"Composants et systemes de gestion de l'energie\",\n",
       " 'Sociologie et sciences sociales',\n",
       " \"Sociologie de l'environnement\",\n",
       " 'Sociologie et Science politique',\n",
       " 'Chimie industrielle - Gestion et traitement des déchets',\n",
       " 'Arts, histoire, théorie, pratique. Cinéma',\n",
       " 'Littératures, cultures et sciences sociales',\n",
       " 'Sciences économiques. Monnaie, finances et économie internationale',\n",
       " 'Sociologie, démographie. Sociologie',\n",
       " 'Histoire et cinéma',\n",
       " \"Sciences et techniques des activités physiques et sportives. Sciences de l'éducation\",\n",
       " 'Histoire. Espaces, temps, sociétés, cultures et voyages',\n",
       " 'Gestion de traitement des déchets',\n",
       " 'Philosophie et sociologie du droit',\n",
       " \"Histoire et archéologie de l'Islam médiéval\",\n",
       " 'Analyse et politique économiques - Sociologie',\n",
       " 'Anthropologie et sociologie critiques du développement et des échanges',\n",
       " \"Doctorat de l'université de Rennes1 mention sciences économiques\",\n",
       " 'Histoire des relations internationales au 20e siècle',\n",
       " \"Histoire et culture de l'Europe méditerranéenne\",\n",
       " 'Philosophie. Histoire des sciences',\n",
       " 'Géographie. Sciences humaines de la mer',\n",
       " 'Anthropologie sociale & sciences et techniques des activités physiques et sportives',\n",
       " 'Histoire, langues et civilisations antiques',\n",
       " \"Histoire, spécialité Histoire de l'art\",\n",
       " 'Arts\\xa0(Histoire, Théorie, Pratique)',\n",
       " 'Sciences économiques. Histoire économique',\n",
       " 'Mathématiques et applications aux sciences sociales',\n",
       " 'Sciences de gestion : Marketing',\n",
       " 'Sciences économiques\\xa0: changement social et mutations économiques',\n",
       " \"Histoire de l'art et d'archéologie du Moyen Âge\",\n",
       " 'Science politique (sociologie politique)',\n",
       " 'Sociologie du Développement',\n",
       " 'Science politique. Théorie politique',\n",
       " 'Geographie et aménagement',\n",
       " 'Histoire Ancienne',\n",
       " 'Histoire moderne',\n",
       " 'Sociologie du pouvoir politique',\n",
       " 'Histoire de la philosophie',\n",
       " 'Science politique comparée',\n",
       " 'Mathématiques et informatique appliquées aux sciences sociales (miass)',\n",
       " 'Sciences économiques. Économie',\n",
       " \"Histoire des techniques, histoire de l'enseignement technique\",\n",
       " 'Économie - Gestion',\n",
       " 'Histoire. Philosophie des sciences',\n",
       " 'Sociologie. Anthropologie sociale et culturelle',\n",
       " 'Sciences de gestion. Politique générale et stratégies. Services',\n",
       " 'Epistémologie, histoire des sciences et des techniques. Philosophie',\n",
       " 'Sciences économiques. Économie de projets',\n",
       " \"Préhistoire, archéologie, histoire et civilisations de l'Antiquité au Moyen-Âge\",\n",
       " 'Sociologie. Sciences et techniques des activités physiques et sportives (STAPS)',\n",
       " 'Géologie et préhistoire',\n",
       " 'Sciences économiques. Changement social et mutations économiques',\n",
       " 'Économie du développement rural',\n",
       " 'SCIENCES DE LA SOCIETE. Science économique',\n",
       " \"Histoire de l'art. Histoire des arts d'Afrique\",\n",
       " 'Histoire et civilisations : histoire et archéologie des mondes anciens et médiévaux',\n",
       " \"Sciences de l'homme et de la société. Sciences économiques\",\n",
       " \"[Santé publique : ]épidémiologie [et sciences de l'information biomédicale]\",\n",
       " 'Études rurales en sciences économiques',\n",
       " 'Analyse et Politique économiques',\n",
       " 'Histoire politique du monde méditerrannéen',\n",
       " \"Sciences de l'éducation. Psychologie interculturelle\",\n",
       " 'Archéologie. Anthropologie. Ethnologie. Préhistoire',\n",
       " 'Sciences. Sciences économiques. Gestion',\n",
       " 'Histoire des doctrines stratégiques',\n",
       " 'STIC – Télécommunications/Traitement du Signal',\n",
       " 'Histoire contemporaine, science politique',\n",
       " \"Histoire option histoire de l'art\",\n",
       " 'Socio-économie politique du développement',\n",
       " \"Histoire de l'art -archéologie\",\n",
       " \"Sciences. Sciences de l'information et de la communication\",\n",
       " 'Préhistoire et Anthropologie',\n",
       " 'Histoire sociale des sciences, des cultures et des religions. Histoire et civilisation',\n",
       " 'Géographie – Aménagement - Environnement',\n",
       " 'Santé publique, économie de la santé',\n",
       " 'Sociologie, démographie. Histoire des techniques modernes et contemporaines',\n",
       " 'Droit mention histoire du droit',\n",
       " 'Économie de l’agriculture et des ressources',\n",
       " \"Préhistoire, archéologie, histoire et civilisations de l'Antiquité et Moyen-Âge\",\n",
       " 'Histoire et philosophie des sciences et des techniques',\n",
       " \"Histoire et civilisations. Histoire, civilisation, archéologie et histoire de l'art des mondes anciens et médiévaux\",\n",
       " 'Sociologie, démographie. Sociologie du pouvoir,  politiques, institutions, sociétés',\n",
       " 'Histoire, mention archéologie',\n",
       " 'Géographie physique. Géomorphologie fluviale',\n",
       " 'Histoire, art et archéologie',\n",
       " 'Histoire et civilisations (option : Études européennes)',\n",
       " 'Gestion. Analyse industrielle',\n",
       " 'Histoire du droit et des Institutions',\n",
       " 'Géographie économique',\n",
       " 'Anthropologie sociale et ethnologie. Ethnomusicologie',\n",
       " 'Science politique, mention Relations internationales',\n",
       " 'Science politique.Relations internationales',\n",
       " \"Technique et économie de l'exploitation du sous-sol\",\n",
       " \"Histoire de l'art religieux contemporain\",\n",
       " 'Sciences économiques. Économie des ressources humaines',\n",
       " 'Études rurales en sciences de gestion',\n",
       " \"Histoire de l'art\",\n",
       " 'Études médiévalesÉtudes médiévales',\n",
       " \"Sciences du vivant, géosciences et sciences de l'environnement. Anthropologie biologique\",\n",
       " 'Géographie-Aménagement',\n",
       " 'Histoire. Histoire moderne',\n",
       " 'Histoire, langues et littératures anciennes',\n",
       " \"Sciences de l'éducation. Histoire de l'éducation\",\n",
       " 'Etudes rurales en sciences de gestion',\n",
       " 'Sciences sociales. Ethnologie',\n",
       " 'Anthropologie sociale',\n",
       " 'Géographie. Géopolitique',\n",
       " 'Géographie des transports',\n",
       " 'Sciences de gestion. Economie et gestion des services de santé',\n",
       " \"Sciences de gestion. Economie et gestion de la technologie et de l'innovation\",\n",
       " 'Géographie. Aménagement du territoire. Urbanisme',\n",
       " \"Sociologie. Socio-économie de l\\x92'innovation\",\n",
       " 'Doctorat Sciences de Gestion',\n",
       " 'Sociologie. Études rurales',\n",
       " 'Science politique, mention politique comparée',\n",
       " 'Socio-Économie du développementSocio-Économie du développement',\n",
       " \"Histoire et sciences sociales de l'asie\",\n",
       " 'Géographie politique',\n",
       " \"Mathématiques appliquées à l'économie et à l'économétrie\",\n",
       " 'Analyse et politique économiques',\n",
       " 'Sociologie, anthropologie, ethnologie',\n",
       " 'Protohistoire',\n",
       " \"Philosophie. Sciences de l'éducation\",\n",
       " 'anthropologie sociale et ethnologie',\n",
       " 'Histoire et archéologie médiévales (archéologie islamique)',\n",
       " 'Études médiévales',\n",
       " 'Ecologie, gestion des milieux et biodiversité',\n",
       " 'Histoire des Idées',\n",
       " \"Histoire de l'innovation\",\n",
       " 'Sciences de gestion. Contrôle de gestion et organisation',\n",
       " 'Géographie physique. Géomorphologie fluviale, hydrologie',\n",
       " \"Sciences de l'éducation. Systèmes d'apprentissages, systèmes d'évaluation\",\n",
       " 'Esthétique et Sciences de l’Art. Histoire et théorie du Design',\n",
       " 'Economie et sciences sociales',\n",
       " 'Géographie, aménagement, environnement & développement',\n",
       " 'Sociologie des organisations',\n",
       " \"Histoire de l'art contemporain. Muséologie\",\n",
       " 'Art et archéologie. Préhistoire',\n",
       " 'Droit et sciences politiques',\n",
       " 'Géographie humaine des espaces industrielles',\n",
       " 'Histoire et sémiologie du texte',\n",
       " 'Sociologie démographiqueSociologie démographique',\n",
       " 'Sociologie, démographie. Sociologie du pouvoir politique, institutions, sociétés',\n",
       " 'Sociologie, ethnologie, anthropologie',\n",
       " 'Epistémologie histoire sc. techn. Savoirs scientifiques',\n",
       " 'Géochronologie . Quaternaire, Géologie, Paléontologie humaine, Préhistoire',\n",
       " 'Santé et Sciences Sociales',\n",
       " 'Démographie - Sociologie',\n",
       " \"Economie de l'Environnement\",\n",
       " 'Histoire. Histoire et civilisations des mondes modernes et contemporains',\n",
       " \"Gestion de l'environnement\",\n",
       " 'Histoire des sciences',\n",
       " 'Anthropologie et Sociologie',\n",
       " 'Histoire de la politique contemporaine',\n",
       " 'Histoire, histoire de l’art et archéologie. Histoire et sémiologie du texte et de l’image',\n",
       " 'Sciences de gestion. Ressources humaines',\n",
       " 'Archéologie. Anthropologie. Préhistoire',\n",
       " 'Gestion et organisation de l’entreprise',\n",
       " 'Histoire, Civilisation, Archéologie',\n",
       " 'Histoire moderne et contemporaine. Histoire moderne, orientalisme, histoire du droit',\n",
       " 'Geographie, Environnement',\n",
       " \"Droit privé et sciences criminelles. Sciences de l'information et de la communication\",\n",
       " 'Histoire et archéologies des mondes médiévaux',\n",
       " 'Droit et sociologie',\n",
       " 'Philosophie et histoire de la philosophie',\n",
       " \"Histoire. Histoire de l'art. Archéologie\",\n",
       " \"Histoire de l'art et archéologie médiévales\",\n",
       " 'Sciences Sociales. Etudes anglophones',\n",
       " 'Philosophie, épistémologie. Epistémologie, histoire des sciences et des techniques',\n",
       " 'Géographie, Mutations spatiales',\n",
       " 'Histoire et Sémiologie du texte et de l’image. Théâtre et arts plastiques',\n",
       " 'Mathématiques. Histoires des mathématiques',\n",
       " 'Art et archéologie. Préhistoire. Ethnologie. Anthropologie',\n",
       " 'Théologie protestante. Histoire',\n",
       " 'Histoire et sémiologie du texte et de l’image',\n",
       " 'Histoire, philosophie et épistémologie des sciences, des techniques et des technologies',\n",
       " 'Economie mathématique et économétrie (option Politique économique)',\n",
       " 'Sciences Economiques - Gestion de portefeuille',\n",
       " 'Histoire des institutions des idées et des faits sociaux',\n",
       " \"Sciences de l'environnement. Géographie\",\n",
       " 'Sciences de Gestion (SJPEG)',\n",
       " 'Archéologie. Spécialité Préhistoire, Protohistoire, Paléoenvironnements méditerranéens et africains',\n",
       " 'Philosophie. Histoire des idées',\n",
       " 'Epistémologie, Histoire des Sciences et des Techniques',\n",
       " \"Anglais. Histoire de l'art\",\n",
       " 'Histoire des institutions',\n",
       " \"Histoire de l'armée romaine\",\n",
       " 'Archéologie - Protohistoire européenne',\n",
       " \"Art, histoire et civilisations de l'Europe\",\n",
       " 'Littérature comparée. Histoire. Littérature slave',\n",
       " 'Informatique et sciences de gestion',\n",
       " 'Sciences économiques. Politiques économiques. Macrodynamique et analyse des décisions publiques',\n",
       " 'Géographie – Aménagement - Urbanisme',\n",
       " \"Sciences de l'information, de la communication et de la documentation\",\n",
       " 'Géographie physique appliquée',\n",
       " \"Géographie de l'aménagement. Géomorphologie\",\n",
       " 'Philosophie et sciences sociales',\n",
       " \"Santé publique, épidémiologie, sciences de l'information biomédicale\",\n",
       " \"Sciences de l'environnement. Ecologie et anthropologie biologique\",\n",
       " 'Santé et Sciences sociales',\n",
       " 'Sciences économiques. Finances internationales',\n",
       " \"Histoire et civilisations. Histoire, civilisation et histoire de l'art des mondes modernes et contemporains\",\n",
       " \"Santé Publique. Epidémiologie. Sciences de l'information biomédicales\",\n",
       " 'Mathematiques appliquees et sciences sociales',\n",
       " 'Géographie humaine, économique et régionale',\n",
       " 'Économie du développement',\n",
       " '[Epistémologie, Histoire des Sciences et des Techniques, savoirs scientifiques]',\n",
       " \"Histoire, histoire de l’art et archéologie. Histoire générale de l'Asie, Orient, Extrême-Orient\",\n",
       " \"Histoire de l'art et d'archéologie médiévale\",\n",
       " 'Histoire du livre',\n",
       " \"Sciences du vivant, géosciences, sciences de l'environnement. Epistémologie et histoire des sciences\",\n",
       " 'Sciences économiques. Économie rurale agro-alimentaire',\n",
       " 'Histoire, civilisations, archéologie des mondes antiques',\n",
       " \"Sciences de gestion et du management. Economie et gestion de la technologie et de l'innovation\",\n",
       " 'Systèmes informatiques et systèmes embarqués. STIC réseaux, télécoms, systèmes et architectures',\n",
       " 'Sciences économiques et Gestion',\n",
       " \"Histoire sociale et culturelle de l'architecture et des formes urbaines\",\n",
       " \"Histoire et civilisations : histoire et archéologie des mondes anciens et médiévaux, de l'art\",\n",
       " 'Langue, Histoire et Civilisation des mondes anciens',\n",
       " 'Quaternaire : Géologie, paléontologie humaine, préhistoire',\n",
       " 'Économie mathématique et économétrie',\n",
       " 'Science politique. Politique et politiques publiques',\n",
       " 'Histoire contemporaine - Amérique latine',\n",
       " \"Sciences de la vie et de la santé école doctorale santé publique et sciences de l'information biomédicale\",\n",
       " 'Anthropologie sociale et historique',\n",
       " 'Sociologie-démographie',\n",
       " 'Sciences de l’éducation et de la formation',\n",
       " \"Sciences , technologies, Sociétés. Sociologie des sciences et de l'innovation\",\n",
       " 'Economie Agroalimentaire',\n",
       " 'Sciences et techniques des activités physiques et sportives - Science de gestion',\n",
       " 'Histoire et archéologie des mondes anciens',\n",
       " 'Esthétique, histoire et théorie des arts : application artistique et philosophique à la cosmologie visible et invisible',\n",
       " 'Science politique. Sociologie politique comparée',\n",
       " \"Histoire de l'Afrique: histoire, archéologie, histoire de l'art\",\n",
       " 'Histoire (option Histoire politique des sciences)',\n",
       " 'Lettre et Sociologie',\n",
       " 'Sciences de l’Éducation & de la Formation',\n",
       " 'Musique, histoire et société',\n",
       " 'Recherches comparatives sur le développement. Socio-économie du développement',\n",
       " \"Histoire de l'art. Histoire du cinéma\",\n",
       " \"Sciences de l'Education & Didactiques\",\n",
       " \"Sciences de l'éducation. Pédagogie, méthodes éducatives\",\n",
       " 'Histoire sociale',\n",
       " \"Arts : plastiques, spectacle, musique, esthétique, sciences et histoire de l'art\",\n",
       " \"Anthropologie sociale et historique de l'Europe\",\n",
       " \"Géographie de l'environnement et télédétection\",\n",
       " 'Préhistoire. Ethnologie. Anthropologie. Préhistoire',\n",
       " 'Sciences économiques. Economie mathématique et économétrie',\n",
       " 'Droit et Sciences Sociales',\n",
       " \"Sciences de l'éducation. Didactique des disciplines scientifiques\",\n",
       " 'ETHNOLOGIE',\n",
       " 'Économie, gestion et sciences sociales',\n",
       " \"Histoire de l'art et Antiquité tardive\",\n",
       " 'Musique, Histoire, Société',\n",
       " 'Anthropologie, Ethnologie et Préhistoire',\n",
       " 'HISTOIRE spécialité Histoire des Religions',\n",
       " 'Socio-anthropologie du fait musical',\n",
       " 'Sciences économiques et sciences de gestion. Finance',\n",
       " 'Histoire, société et civilisations',\n",
       " 'Automatique (STIC)',\n",
       " 'Humanité et sciences sociales. Gestion',\n",
       " 'Géographie. Hydrologie continentale',\n",
       " \"Techniques d'exploration et de diagnostic\",\n",
       " 'Sciences sociales, philosophie, art',\n",
       " 'Géographie - Aménagement urbain',\n",
       " 'Sciences économiques. Économie budgétaire et monétaire',\n",
       " \"Sciences de l'éducation et de la communication. Sociologie de l'éducation en Afrique\",\n",
       " 'Sociologie, urbanisme et ethnologie',\n",
       " \"Sciences de l'éducation et Psychologie du travail\",\n",
       " \"Sciences de l'Antiquité. Archéologie. Histoire\",\n",
       " 'Géographie. Télédétection',\n",
       " 'Langues et littératures anciennes. Histoire et sémiologie du texte et de l’image',\n",
       " 'Géologie, paléontologie, préhistoire',\n",
       " \"Géographie humaine, aménagement de l'espace, urbanisme\",\n",
       " 'Histoire du Japon',\n",
       " 'Domaine STIC',\n",
       " 'Sociologie du travail et des rapports sociaux de sexe',\n",
       " 'Philosophie et histoire des sciences',\n",
       " 'Géographie. Aménagement du territoire',\n",
       " 'Histoire et civilisations des mondes\\xa0moderne et contemporain',\n",
       " '[Epistémologie, Histoire des Sciences et des Techniques]',\n",
       " \"Sociologie et antropologie de la science et de la technique. Sociologie de l'innovation\",\n",
       " 'Histoire (option : histoire des techniques)',\n",
       " 'Histoire (spécialité : histoire des sciences)',\n",
       " 'Arts (histoire, théorie, pratique)',\n",
       " 'Droit public et sciences politiques',\n",
       " 'Histoire de la pensée',\n",
       " 'Histoire et géomatique',\n",
       " 'Anthropologie sociale et ethnologie (option : Anthropologie politique)',\n",
       " 'Economie du droit',\n",
       " 'Histoire des relations internationales et de l’Europe au XXe siècle',\n",
       " 'Préhistoire. Ethnologie. Anthropologie',\n",
       " 'Droit et sciences sociales',\n",
       " \"Histoire de l'architecture\",\n",
       " 'Démographie et sciences sociales',\n",
       " \"Sciences de Gestion : Sciences d'Information\",\n",
       " 'Comptabilité, Contrôle de gestion, Finance',\n",
       " 'Sciences politiques - Cergy',\n",
       " 'Santé publique - Economie de la santé',\n",
       " 'Anthropologie et ethnologie',\n",
       " \"Histoire de l'Art et Archéologie de l'Antiquité\",\n",
       " \"[Santé publique: épidémiologie et sciences de l'information biomédicale]\",\n",
       " \"Théologie catholique. Théologie morale et histoire contemporaine de l'Eglise\",\n",
       " 'Anthropologie sociale, ethnologie',\n",
       " 'Ethnologie - Anthropologie',\n",
       " 'Droit privé. Droit et économie de la santé',\n",
       " \"Sciences économiques. Économie de l'environnement\",\n",
       " \"Sciences de l'éducation. Sociolinguistique\",\n",
       " 'Sociologie, demographie',\n",
       " 'Anthropologie politique et sociale',\n",
       " 'Histoire, histoire de l’art et archéologie. Histoire contemporaine',\n",
       " 'GéologieGéographie',\n",
       " 'Sciences de la vie et de la matière. Histoire des mathématiques',\n",
       " \"Préhistoire, archéologie, histoire et civilisations de l'Antiquité et du Moyen-Age. Préhistoire\",\n",
       " \"Sciences et technologies de l'information et de la communication (STIC). Optique appliquée et lasers\",\n",
       " \"Archéologie et histoire de l'art de l'Extrème-Orient\",\n",
       " 'Histoire moderne africaine',\n",
       " 'Histoire et civilisations, mondes modernes et contemporains',\n",
       " 'Économie industrielle',\n",
       " 'Optimisation, jeux et modélisation en économie',\n",
       " 'Préhistoire-ethnologie-anthropologie',\n",
       " 'Histoire ancienne et archéologie',\n",
       " 'Économie publique et planification',\n",
       " \"Sciences du vivant, géoscience, sciences de l'environnement. Préhistoire et géologie du quaternaire\",\n",
       " 'Sociologie et genre',\n",
       " 'Histoire. Moyen-Age. 16-17-18eme siècles',\n",
       " 'Sociologie urbaine',\n",
       " \"Sciences de l'education - Philosophie\",\n",
       " 'Histoire et de philosophie des sciences',\n",
       " 'Sciences. Sciences de gestion appliquées à la santé',\n",
       " 'Histoire protobyzantine',\n",
       " \"Sciences de l'information et de la communication. Sécurité\",\n",
       " 'Gestion culturelle et muséologie',\n",
       " \"Sciences de l'Homme et Société - Economie\",\n",
       " \"Techniques et Économie de l'Exploitation du Sous-Sol\",\n",
       " 'Z- sciences economiques et de gestion',\n",
       " 'Ethnobotanique. Anthropologie',\n",
       " \"Sciences de l'éducation - Didactique de la Physique et de la Chimie\",\n",
       " 'Économie et sciences sociales',\n",
       " 'Phréhistoire',\n",
       " 'Anthropologie économique',\n",
       " 'Histoire des Mathématiques',\n",
       " \"Economie de l'agriculture et des ressources\",\n",
       " 'Histoire - histoire religieuse, politique et Culturelle',\n",
       " \"Histoire, Histoire de l'Art, Archéologie\",\n",
       " 'Histoire. Relations internationales contemporaines',\n",
       " 'Sciences de gestion. Gestion de production et logistique',\n",
       " \"Anthropologie de l'environnement et sciences de la conservation\",\n",
       " 'Histoire, civilisations, archéologie et arts des mondes anciens et médievaux',\n",
       " 'STIC Santé',\n",
       " \"Anthropologie sociale et culturelle de l'Europe\",\n",
       " 'Histoire Moderne',\n",
       " 'Sciences de gestion. Comptabilité, contrôle, audit',\n",
       " 'Sciences Economiques - SHS',\n",
       " 'Histoire du monde arabo-musulman médiéval',\n",
       " 'Géographie. Organisation et recomposition des territoires',\n",
       " 'Histoire. Antiquité. Histoire des sciences et des techniques',\n",
       " 'Histoire médiévale russe',\n",
       " \"STIC (Sciences et Technologies de l'Information et de la Communication)  - Cergy\",\n",
       " 'Sciences économiques et sciences sociales de la santé',\n",
       " \"Sciences de l'Éducation et de la formation\",\n",
       " \"Economie de l'agriculture, de l'environnement et de l'énergie\",\n",
       " 'Histoire (option : histoire des sciences )',\n",
       " 'Préhistoire et anthropologie biologique',\n",
       " 'Économie des transports',\n",
       " \"Épidémiologie et sciences de l'information biomédicale\",\n",
       " 'Sciences de l\\'éducation, mention \"didactique des disciplines scientifiques et technologiques',\n",
       " 'Histoire des Sciences et Epistémologie',\n",
       " 'Histoires, Textes, Documents',\n",
       " 'Histoire et civilisationHistoire et civilisation',\n",
       " 'Sciences et environnements. Préhistoire et géologie du quaternaire',\n",
       " 'Histoire et philosophie des sciences',\n",
       " 'Etudes anglophones et histoire',\n",
       " 'Épistémologie, histoire des sciences et des techniques. Histoire des techniques modernes et contemporaines',\n",
       " 'Sciences du Mouvement Humain, Spécialité Anthropologie, Sociologie, Psychologie',\n",
       " 'Philosophie. Épistémologie et histoire des sciences et des techniques',\n",
       " \"Histoire et sémiologie du texte et de l'image. Littérature française\",\n",
       " \"Histoire de l'art et archéologie. Cinéma\",\n",
       " \"Sciences de l'éducation. Éducation, formation, insertion\",\n",
       " \"Sciences de l'éducation. Didactique des disciplines scientifiques et technologiques. Activités physiques et sportives\",\n",
       " \"Histoire d'Outre-mer\",\n",
       " 'Économie régionale',\n",
       " 'Economie',\n",
       " 'Histoire ancienne',\n",
       " 'Sciences. Sciences de gestion appliquées aux systèmes de santé',\n",
       " 'Science de gestion - EM2C',\n",
       " 'Histoire du christianisme ancien',\n",
       " \"Sciences de l'environnement. Gestion\",\n",
       " 'Sociologie, démographie. Sociologie - travail social',\n",
       " 'Sociologie et philosophie de la connaissance',\n",
       " 'Histoire des mathématiques',\n",
       " 'Gestion du vivant et stratégies patrimoniales',\n",
       " \"Histoire de l'Afrique. Histoire, archéologie et histoire de l'Art\",\n",
       " 'Géographie. Spécialité Architecture, Ville, Environnement',\n",
       " 'Sciences humaines et humanités nouvelles spécialité Sciences de gestion - Droit des affaires',\n",
       " 'Analyses littéraires et histoire de la langue française',\n",
       " 'Informatique appliquée aux sciences sociales',\n",
       " \"Agronomie, Economie et Gestion de l'environnement\",\n",
       " 'Géographie physique, humaine et économique',\n",
       " 'Langues, littératures et sociétés. Anthropologie',\n",
       " 'Ethnologie. Anthropologie sociale et historique',\n",
       " \"Droit de l'économie\",\n",
       " 'Sciences économiques. Urbanisme',\n",
       " 'Anthropologie linguistique',\n",
       " 'Sciences de Gestion Dauphine',\n",
       " 'HISTOIRE spécialité Histoire médiévale',\n",
       " 'Sciences de gestion : Stratégie',\n",
       " 'Histoire de l’Antiquité',\n",
       " 'Epistémologie, histoire des sciences et des techniques',\n",
       " \"[Sciences de l'information et de la communication]\",\n",
       " \"Sociologie de l'information et de la communication\",\n",
       " \"Socio-anthropologie de l'environnement\",\n",
       " 'Sciences humaines. Histoire contemporaine',\n",
       " \"Histoire de l'écrit\",\n",
       " 'Etudes néo-helléniques. Sociologie de la traduction',\n",
       " 'Préhistoire. Éthologie. Anthropologie',\n",
       " 'Histoire contemporaine',\n",
       " 'Histoire et Archéologie du Moyen Âge',\n",
       " 'Géographie. Environnement et aménagement du territoire',\n",
       " \"Santé publique, Epidémiologie, Sciences de l'information biomédicale\",\n",
       " 'Histoire et archéologie médiévale',\n",
       " 'Économie et finance internationale',\n",
       " 'Sociologie des arts et des médias',\n",
       " 'Sciences de gestion. Comptabilité internationale',\n",
       " 'Economie mathématique et économétrie',\n",
       " 'Géographie. Sciences humaines et sociales',\n",
       " \"Histoire et civilisation de l'Europe\",\n",
       " 'Epistémologie, histoire des sciences et des techniques. Histoire des techniques modernes et contemporaines',\n",
       " 'Histoire contemporaine de la France',\n",
       " 'Histoire, sociétés et territoires du monde',\n",
       " 'Histoire de l’art',\n",
       " 'Sciences de gestion. Sciences économiques',\n",
       " 'Géographie/économie-statistiques',\n",
       " 'Anthropologie visuelle',\n",
       " 'Economie et société',\n",
       " 'Histoire et civilisation moderne',\n",
       " 'Préhistoire, Protohistoire, Paléoenvironnements méditerranéens',\n",
       " 'Psychosociologie de la santé',\n",
       " \"Sciences économiques et gestion, sciences de l'information et de la communication\",\n",
       " 'Préhistoire et protohistoire',\n",
       " '[Histoire du Japon]',\n",
       " 'Histoire militaire antique',\n",
       " 'Sciences économiques. Économie du dévéloppement',\n",
       " 'Histoire de l’Architecture Contemporaine',\n",
       " 'Epistémologie histoire sciences techniques savoirs scientifiques',\n",
       " 'Histoire et Civilisation (ED n°286) - Anthropologie et histoire des mondes anciens (UMR 8210)',\n",
       " 'Sciences économiques, économie des réseaux',\n",
       " \"Sciences de l'Information et de la Communication : Unité de recherche COSTECH (EA-2223)\",\n",
       " 'Épidémiologie et Sciences de Gestion',\n",
       " \"Histoire et théorie de l'art\",\n",
       " 'Socio-démographie',\n",
       " 'Démographie. Santé publique',\n",
       " 'Lettres. Histoire',\n",
       " \"Santé publique et sciences de l'information biomédicale, évaluation, sécurité et qualité des soins\",\n",
       " \"Histoire, histoire de l'art, ethnolinguistique. Cultures, sociétés et échanges des pays de la Méditerranée septentrionale\",\n",
       " 'Génie industriel. Economie et sociologie',\n",
       " 'Histoire et civilisation de l’Antiquité',\n",
       " 'Géographie politique, historique et culturelle',\n",
       " 'sciences économiques',\n",
       " 'Histoire contemporaine et linguistique générale',\n",
       " 'Histoire, langue, littérature françaises et romanes',\n",
       " 'Histoire, histoire de l’art et archéologie. Histoire économique',\n",
       " \"Sciences de l'éducation et psychanalyse\",\n",
       " 'Science politique, mention théorie politique',\n",
       " \"Préhistoire, archéologie, histoire et civilisations de l'Antiquité et du Moyen-Âge\",\n",
       " 'Analyse et politique économiques. Economie rurale',\n",
       " 'Geographie - Géographie physique',\n",
       " 'Anthropologie et linguistique',\n",
       " \"Sciences de l'information et de la communication, spécialité Design\",\n",
       " 'Epistémologie, Histoire des sciences, Didactique des disciplines',\n",
       " 'Economie européenne',\n",
       " \"Géographie. Suivi et modélisation des changements d'occupation des sols\",\n",
       " 'Sciences politiques. Politique et développement en Afrique et dans les Pays du Sud',\n",
       " 'Histoire militaire',\n",
       " 'Socio-Anthropologie',\n",
       " 'Sciences sociales du sport',\n",
       " 'Sciences de gestion. Environnement, énergie',\n",
       " \"Sciences de l'éducation, spécialité Didactique des mathématiques\",\n",
       " \"Art, histoire et civilisation de l'Europe. Archéologie\",\n",
       " 'Histoire des idées',\n",
       " 'Histoire, antiquité, culture, art',\n",
       " 'Histoire civilisations : mondes anciens',\n",
       " 'Sciences de gestion. Spécialité marketing',\n",
       " 'Géographie – Aménagement – Urbanisme',\n",
       " 'Economie et transport maritime',\n",
       " 'Arts : Histoire et théorie',\n",
       " 'Ingenierie et gestion',\n",
       " 'Géographie',\n",
       " 'Sciences appliquées. Commande et diagnostic de systèmes',\n",
       " 'Sciences économiques :',\n",
       " 'Economie et zootechnie',\n",
       " 'Géographie Physique',\n",
       " 'Eco-anthropologie',\n",
       " 'Épistémologie. Histoire des sciences et des techniques',\n",
       " 'Sciences agronomiques. Économie rurale',\n",
       " 'Préhistoire et géologie du quaternaire',\n",
       " 'Economie - Finance',\n",
       " 'Science politique et juridique',\n",
       " 'Sciences économiques. Études européennes',\n",
       " \"Sciences de l'éducation et de la formation\",\n",
       " \"Sciences de l'information et de la communication. Études cinématographiques\",\n",
       " 'STAPS, sociologie',\n",
       " \"Préhistoire, archéologie, civilisations de l'Antiquité et du Moyen-Âge\",\n",
       " 'Histoire. Sociologie',\n",
       " 'Géographie physique. Aménagement',\n",
       " 'Espaces, cultures, sociétés. Histoire contemporaine',\n",
       " 'Histoire contemporaine des mondes etrangers et des relations internationales',\n",
       " 'Histoire - Histoire religieuse, politique et culturelle',\n",
       " 'Histoire religieuse contemporaine',\n",
       " \"Art et archéologie. Anthropologie de l'art\",\n",
       " 'Histoire de l’art et Philosophie',\n",
       " 'Histoire  du monde contemporain',\n",
       " 'Sciences économiques. Economie mathématique. Aide à la décision-recherche opérationnelle',\n",
       " 'Economie de la santé animale',\n",
       " 'Sciences de gestion et sociologie',\n",
       " 'Arts (Histoire Théorie Pratique)',\n",
       " 'Histoire militaire et études de la défense',\n",
       " 'Sciences Politiques ( Relations internationales)',\n",
       " 'Sciences Économiques et Sciences de Gestion. Spécialité : Sciences de gestion',\n",
       " 'Histoire médiévale. Archéologie',\n",
       " 'Anthropologie sociale et Ethnologie',\n",
       " 'Socio-Économie du développement',\n",
       " 'Espaces, cultures, sociétés. Mondes arabe, musulman et sémitique',\n",
       " \"Didactique de l'histoire\",\n",
       " 'Langues, histoire et civilisations des mondes anciens',\n",
       " 'Histoire et anthropologie juridiques',\n",
       " 'Géographie physique. Information géographique et applications',\n",
       " 'Sciences économiques. Économie de développement agricole, agroalimentaire et rural',\n",
       " \"Histoire et Cultures de l'Antiquité\",\n",
       " \"Histoire et civilisations: histoire des mondes modernes, histoire du monde contemporain, de l'art, de la musique .\",\n",
       " 'Geographie humaine et régionale',\n",
       " 'Sciences économiques, gestion, mathématiques et informatiques',\n",
       " 'Histoire et civilisations des mondes anciens',\n",
       " '[Anthropologie]',\n",
       " \"Sciences de l'information géographique\",\n",
       " \"Histoire et civilisation de l'islam médiéval\",\n",
       " 'Quaternaire : géologie, paléontologie humaine, préhistoire. Paléontologie humaine et odontologie évolutive',\n",
       " 'Anthropologie Psychanalytique et Pratiques Cliniques du Corps',\n",
       " 'Arts. Histoire, théorie et pratique',\n",
       " \"Geographie et aménagement de l'espace\",\n",
       " 'Sciences et Génie des Matériaux. Thermomécanique et Plasticité',\n",
       " 'Sociologie, démographie. Anthropologie et sociologie',\n",
       " 'Géographie et environnement',\n",
       " 'Géographie. \"Espaces et sociétés\", option \"Espaces et santé\"',\n",
       " \"Géographie. Géomatique, télédétection et système d'information géographique\",\n",
       " '[Histoire, sociétés et civilisation]',\n",
       " \"Littérature générale et comparée. Histoire et sémiologie du texte et de l'image\",\n",
       " 'Droit et science politique',\n",
       " \"Histoire de l'art. Art contemporain\",\n",
       " 'Histoire des sciences au Moyen-Âge',\n",
       " 'Histoire contemporaine économique',\n",
       " 'Histoire des arts contemporains',\n",
       " 'Maths - STIC',\n",
       " \"Histoire de l'art antique\",\n",
       " 'Archéologie. Ethnographie. Préhistoire',\n",
       " 'Histoire sociale des sciences, des idées et des religions',\n",
       " 'Histoire Romaine',\n",
       " 'Quaternaire : Géologie, Paléontologie Humaine, Préhistoire',\n",
       " 'Doctorat Science Politique',\n",
       " 'Epistémologie, histoire des sciences et techniques',\n",
       " 'Préhistoire, anthropologie',\n",
       " 'Préhistoire. Éthnologie. Anthropologie',\n",
       " 'Géographie et aménagement des territoires',\n",
       " 'Géographie. Géosciences et environnement',\n",
       " 'Géographie, espaces et developpement. Géographie du développement',\n",
       " \"Histoire de l'Art Contemporain\",\n",
       " 'Géographie urbaine et aménagement de l’espace',\n",
       " 'Sciences politiques',\n",
       " 'Histoire byzantine',\n",
       " 'Histoire du christianisme ancien et civilisations de l’antiquité tardive',\n",
       " 'Socio-anthropologie',\n",
       " 'Information, structures et systèmes. Épidémiologie, économie de la santé, prévention',\n",
       " 'Arts : histoire et théorie. Architecture et paysage',\n",
       " 'Économie de l\\x92agriculture et des ressources',\n",
       " 'Préhistoire et technologie',\n",
       " 'Histoire des mondes modernes et du monde contemporain',\n",
       " \"Sciences de l'information et communication\",\n",
       " \"Histoire du cinéma et de l'audiovisuel\",\n",
       " \"Sciences de l'éducation, formation des adultes\",\n",
       " \"HISTOIRE DE L'ART spécialité Art médiéval\",\n",
       " \"Sciences humaines. Sciences de l'éducation\",\n",
       " 'Histoire militaire de la France',\n",
       " \"Histoire mention Histoire de l'art\",\n",
       " 'Gestion et marketing',\n",
       " 'Science politique. Communication',\n",
       " 'Études latines et histoire de l’art',\n",
       " 'Histoire - Cergy',\n",
       " \"Histoire de l'art du Moyen-Âge\",\n",
       " 'Sciences sociales. Sociologie. Anthropologie',\n",
       " 'Économie internationale et développement',\n",
       " 'Informatique et Sciences de Gestion-Logistique et Production',\n",
       " \"Etudes littéraires. Histoire et sémiologie du texte et de l'image\",\n",
       " 'Histoire culturelle',\n",
       " \"Histoire et civilisations : Histoires des mondes modernes : histoire du monde contemporain; de l'art; de la musique - spécialité Histoire moderne\",\n",
       " 'Anthropologie Sociale et ethnologie',\n",
       " 'Préhistoire-Ethnologie-Anthologie',\n",
       " 'Géochronologie-Préhistoire',\n",
       " \"Sociologie. Sociologie de l'action\",\n",
       " \"Composants et Systèmes de gestion de l'Energie\",\n",
       " \"Sciences Humaines et Humanités. Histoire et civilisation :Histoire des mondes modernes, histoire du monde contemporain, de l'art\",\n",
       " 'Anthropologie. Préhistoire',\n",
       " 'Géographie - Aménagement',\n",
       " 'Géographie. Géographie humaine et régionale',\n",
       " 'Sciences économiques. Mathématiques appliquées',\n",
       " 'Archéologie. Protohistoire égéenne',\n",
       " \"Histoire et civilisations : histoire des mondes modernes, histoire du monde contemporain, de l'art, de la musique. Sécurité-Défense\",\n",
       " 'Archeologie, ethnologie, prehistoire',\n",
       " 'Epidémiologie, économie de la santé, prévention',\n",
       " 'Sociologie-Ethnologie',\n",
       " 'Economie managériale',\n",
       " 'Humanités et Sciences sociales',\n",
       " 'Organisation et sociologie industrielles',\n",
       " 'Histoire des institutions des faits économiques et sociaux',\n",
       " \"Sociologie et sciences de l'éducation\",\n",
       " \"Arts plastiques. Histoire de l'art\",\n",
       " \"Histoire, option histoire de l'art\",\n",
       " 'Géographie Physique et Environnementale',\n",
       " 'Histoire Contemporaine',\n",
       " 'Philosophie, épistémologie. Histoire des mathématiques',\n",
       " 'Sciences sociales et éthologie',\n",
       " 'Histoire : Option Histoire des sciences',\n",
       " 'Ethnologie, option Antrhopologie sociale et culturelle',\n",
       " 'Histoire et Civilisations',\n",
       " 'Histoire hispano-américaine',\n",
       " 'Ethnologie. Sociétés préhistoriques',\n",
       " 'Sociologie, démographie. Migrations et relations interethniques',\n",
       " 'Philosophie, épistémologie. Epistemologie, histoire des sciences et des techniques',\n",
       " 'Sciences humaines. Sociologie',\n",
       " 'Lettres. Sociologie',\n",
       " 'Anthropologie-Ethnologie-Préhistoire. Archéologie',\n",
       " 'Geographie humaine et économique',\n",
       " 'Etudes politiques – spécialité Philosophie politique',\n",
       " \"Sciences humaines et humanités nouvelles spécialité Sciences de l'éducation - travail social\",\n",
       " 'Sciences économiques. Analyse et politiques économiques',\n",
       " 'Espagnol. Histoire contemporaineEspagnol. Histoire contemporaine',\n",
       " 'Géographie. Sciences de l’Architecture et des Paysages',\n",
       " 'Histoire et Archéologie des mondes médiévaux',\n",
       " 'Géographie  et  Aménagement',\n",
       " \"Sciences de l'éducation et de la formation. Formation des adultes\",\n",
       " 'Science économique. Economie mathémathique et économétrie',\n",
       " \"Sciences de l'Antiquité. Histoire romaine\",\n",
       " 'HistoireHistoire',\n",
       " 'Arts, histoire, théorie et pratique. Design',\n",
       " 'Epistemologie, Histoire des Sciences et des Techniques',\n",
       " 'Sociologie du sport',\n",
       " \"Santé Publique. Epidémiologie. Sciences de l'information biomédicale\",\n",
       " \"Sciences de l'information et de la communicationt\",\n",
       " 'Anthropologie psychanalytique pratiques cliniques du corps',\n",
       " 'Géographie tropicale',\n",
       " 'Anthropologie psychanalytique et Pratiques Cliniques du Corps',\n",
       " 'sciences de gestion',\n",
       " \"Sciences de l'Antiquité : histoire, archéologie, langues et littératures\",\n",
       " 'Histoire des civilisations de l’Antiquité',\n",
       " 'Langues, histoire et civilisations des mondes anciens. Egyptologie',\n",
       " 'Histoire du monde moderne',\n",
       " 'Science politique. Sociologie politique et action publique',\n",
       " 'Géographie et aménagement urbain',\n",
       " 'Sciences des matériaux – Economie d’énergie et de matière première',\n",
       " \"Sciences de l'Éducation\",\n",
       " 'Environnement, sociétés, économies préhistoriques',\n",
       " 'Histoire et sémiologie du texte et de l’image. Littérature française',\n",
       " \"Histoire et Histoire de l'Art\",\n",
       " \"Histoire de l'Art. Histoire de l'art médiéval\",\n",
       " 'Applied Mathematics - Statistics',\n",
       " \"Histoire et cultures de l'Europe méditerranéenne\",\n",
       " \"Histoire, histoire de l’art et archeologie. Histoire d'Amérique latine\",\n",
       " 'Histoire et Histoire des arts',\n",
       " 'Économie du développement agricole, agro-alimentaire et rural',\n",
       " ...}"
      ]
     },
     "execution_count": 87,
     "metadata": {},
     "output_type": "execute_result"
    }
   ],
   "source": [
    "set(dfTheseFiltered['discipline'].dropna())"
   ]
  },
  {
   "cell_type": "markdown",
   "metadata": {},
   "source": [
    "# Scrap code d'etablissement"
   ]
  },
  {
   "cell_type": "markdown",
   "metadata": {},
   "source": [
    "https://documentation.abes.fr/sudoc/regles/CodesUnivEtab.htm"
   ]
  },
  {
   "cell_type": "code",
   "execution_count": 34,
   "metadata": {},
   "outputs": [],
   "source": [
    "url = 'https://documentation.abes.fr/sudoc/regles/CodesUnivEtab.htm'"
   ]
  },
  {
   "cell_type": "code",
   "execution_count": 35,
   "metadata": {},
   "outputs": [],
   "source": [
    "from urllib.request import urlopen\n",
    "page = urlopen(url)\n",
    "html = page.read().decode(\"utf-8\")"
   ]
  },
  {
   "cell_type": "code",
   "execution_count": 38,
   "metadata": {},
   "outputs": [
    {
     "data": {
      "text/plain": [
       "'<'"
      ]
     },
     "execution_count": 38,
     "metadata": {},
     "output_type": "execute_result"
    }
   ],
   "source": [
    "html[0]"
   ]
  },
  {
   "cell_type": "code",
   "execution_count": 59,
   "metadata": {},
   "outputs": [],
   "source": [
    "from requests import get\n",
    "\n",
    "response = get(\"https://www.idref.fr/Sru/Solr?q=id_s:127922156&wt=json&fl=all\")"
   ]
  },
  {
   "cell_type": "code",
   "execution_count": 60,
   "metadata": {},
   "outputs": [],
   "source": [
    "dict_response = response.json()"
   ]
  },
  {
   "cell_type": "code",
   "execution_count": 61,
   "metadata": {},
   "outputs": [
    {
     "data": {
      "text/plain": [
       "dict_keys(['numFound', 'start', 'docs'])"
      ]
     },
     "execution_count": 61,
     "metadata": {},
     "output_type": "execute_result"
    }
   ],
   "source": [
    "dict_response['response'].keys()"
   ]
  },
  {
   "cell_type": "code",
   "execution_count": 62,
   "metadata": {},
   "outputs": [
    {
     "data": {
      "text/plain": [
       "[]"
      ]
     },
     "execution_count": 62,
     "metadata": {},
     "output_type": "execute_result"
    }
   ],
   "source": [
    "dict_response['response']['docs']"
   ]
  },
  {
   "cell_type": "code",
   "execution_count": 81,
   "metadata": {},
   "outputs": [
    {
     "data": {
      "text/plain": [
       "{'corpname_t': ['Université Paris Nanterre',\n",
       "  'Université Paris Ouest',\n",
       "  'UPN',\n",
       "  'Université Paris Ouest Nanterre La Défense (1970-....)',\n",
       "  'Université de Paris X',\n",
       "  'Université de Paris-X',\n",
       "  'Université de Paris 10',\n",
       "  'Université de Paris-10',\n",
       "  'Université de Nanterre',\n",
       "  'Université Paris-Nanterre',\n",
       "  'Université de Paris-Nanterre',\n",
       "  'Université Paris X-Nanterre',\n",
       "  'Université Paris-X-Nanterre',\n",
       "  'Université Paris 10',\n",
       "  'Université Paris-10',\n",
       "  'UPX']}"
      ]
     },
     "execution_count": 81,
     "metadata": {},
     "output_type": "execute_result"
    }
   ],
   "source": [
    "get(\"https://www.idref.fr/Sru/Solr?q=ppn_z:026403587&wt=json&&fl=corpname_t\").json()['response']['docs'][0]"
   ]
  },
  {
   "cell_type": "code",
   "execution_count": 17,
   "metadata": {},
   "outputs": [
    {
     "data": {
      "application/vnd.plotly.v1+json": {
       "config": {
        "plotlyServerURL": "https://plot.ly"
       },
       "data": [
        {
         "name": "Apple",
         "type": "scatter",
         "x": [
          "2018-01-01",
          "2018-01-08",
          "2018-01-15",
          "2018-01-22",
          "2018-01-29",
          "2018-02-05",
          "2018-02-12",
          "2018-02-19",
          "2018-02-26",
          "2018-03-05",
          "2018-03-12",
          "2018-03-19",
          "2018-03-26",
          "2018-04-02",
          "2018-04-09",
          "2018-04-16",
          "2018-04-23",
          "2018-04-30",
          "2018-05-07",
          "2018-05-14",
          "2018-05-21",
          "2018-05-28",
          "2018-06-04",
          "2018-06-11",
          "2018-06-18",
          "2018-06-25",
          "2018-07-02",
          "2018-07-09",
          "2018-07-16",
          "2018-07-23",
          "2018-07-30",
          "2018-08-06",
          "2018-08-13",
          "2018-08-20",
          "2018-08-27",
          "2018-09-03",
          "2018-09-10",
          "2018-09-17",
          "2018-09-24",
          "2018-10-01",
          "2018-10-08",
          "2018-10-15",
          "2018-10-22",
          "2018-10-29",
          "2018-11-05",
          "2018-11-12",
          "2018-11-19",
          "2018-11-26",
          "2018-12-03",
          "2018-12-10",
          "2018-12-17",
          "2018-12-24",
          "2018-12-31",
          "2019-01-07",
          "2019-01-14",
          "2019-01-21",
          "2019-01-28",
          "2019-02-04",
          "2019-02-11",
          "2019-02-18",
          "2019-02-25",
          "2019-03-04",
          "2019-03-11",
          "2019-03-18",
          "2019-03-25",
          "2019-04-01",
          "2019-04-08",
          "2019-04-15",
          "2019-04-22",
          "2019-04-29",
          "2019-05-06",
          "2019-05-13",
          "2019-05-20",
          "2019-05-27",
          "2019-06-03",
          "2019-06-10",
          "2019-06-17",
          "2019-06-24",
          "2019-07-01",
          "2019-07-08",
          "2019-07-15",
          "2019-07-22",
          "2019-07-29",
          "2019-08-05",
          "2019-08-12",
          "2019-08-19",
          "2019-08-26",
          "2019-09-02",
          "2019-09-09",
          "2019-09-16",
          "2019-09-23",
          "2019-09-30",
          "2019-10-07",
          "2019-10-14",
          "2019-10-21",
          "2019-10-28",
          "2019-11-04",
          "2019-11-11",
          "2019-11-18",
          "2019-11-25",
          "2019-12-02",
          "2019-12-09",
          "2019-12-16",
          "2019-12-23",
          "2019-12-30"
         ],
         "xaxis": "x",
         "y": [
          1,
          1.0119428342857142,
          1.0197714685714288,
          0.9800571142857144,
          0.9171428571428571,
          0.8937714514285715,
          0.9853142457142856,
          1.002857142857143,
          1.006914325714286,
          1.02845712,
          1.0172571657142857,
          0.9425142971428572,
          0.9587428514285714,
          0.9621714571428572,
          0.99845712,
          0.9469714342857144,
          0.9275428971428572,
          1.0504571542857144,
          1.07765712,
          1.06462856,
          1.0776000114285715,
          1.0870857428571428,
          1.0954285542857145,
          1.0790856914285714,
          1.0566857028571428,
          1.0577714342857143,
          1.0741142914285715,
          1.093314297142857,
          1.0939428685714283,
          1.0913142628571428,
          1.1885143142857142,
          1.1858857085714285,
          1.2433142971428572,
          1.235200022857143,
          1.3007428857142855,
          1.2645714457142856,
          1.279085691428571,
          1.2437714514285716,
          1.2899428857142856,
          1.2816571028571428,
          1.2692000057142856,
          1.253199988571429,
          1.236000017142857,
          1.1855999771428571,
          1.1684000057142856,
          1.1058857085714286,
          0.9845142457142856,
          1.0204571542857144,
          0.9628000285714284,
          0.9455999771428572,
          0.8613142628571429,
          0.8927428342857143,
          0.8471999714285714,
          0.8702285314285714,
          0.8961143257142857,
          0.9014856857142858,
          0.95154288,
          0.9737714514285716,
          0.97382856,
          0.9884000057142855,
          0.9998285771428572,
          0.9880571657142858,
          1.0635428285714286,
          1.0917143028571428,
          1.0854285542857145,
          1.1257142857142857,
          1.1363999714285713,
          1.1649142914285715,
          1.1674285885714286,
          1.21,
          1.126742817142857,
          1.08,
          1.02268572,
          1.00040004,
          1.0865713942857145,
          1.1013714571428572,
          1.135885708571429,
          1.130971417142857,
          1.167028548571429,
          1.1617143028571428,
          1.15765712,
          1.1870857428571429,
          1.1658285942857145,
          1.1485143142857142,
          1.18,
          1.1579428514285717,
          1.1928000285714286,
          1.218628542857143,
          1.25,
          1.2441714057142856,
          1.25040004,
          1.2971999714285716,
          1.3497714685714286,
          1.3509143085714286,
          1.409028582857143,
          1.4618286114285712,
          1.4865143714285716,
          1.5186286285714288,
          1.4958857085714288,
          1.5271428571428571,
          1.5469142342857145,
          1.57228568,
          1.5968000114285714,
          1.6559999314285714,
          1.6779999657142857
         ],
         "yaxis": "y"
        },
        {
         "name": "Google",
         "type": "scatter",
         "x": [
          "2018-01-01",
          "2018-01-08",
          "2018-01-15",
          "2018-01-22",
          "2018-01-29",
          "2018-02-05",
          "2018-02-12",
          "2018-02-19",
          "2018-02-26",
          "2018-03-05",
          "2018-03-12",
          "2018-03-19",
          "2018-03-26",
          "2018-04-02",
          "2018-04-09",
          "2018-04-16",
          "2018-04-23",
          "2018-04-30",
          "2018-05-07",
          "2018-05-14",
          "2018-05-21",
          "2018-05-28",
          "2018-06-04",
          "2018-06-11",
          "2018-06-18",
          "2018-06-25",
          "2018-07-02",
          "2018-07-09",
          "2018-07-16",
          "2018-07-23",
          "2018-07-30",
          "2018-08-06",
          "2018-08-13",
          "2018-08-20",
          "2018-08-27",
          "2018-09-03",
          "2018-09-10",
          "2018-09-17",
          "2018-09-24",
          "2018-10-01",
          "2018-10-08",
          "2018-10-15",
          "2018-10-22",
          "2018-10-29",
          "2018-11-05",
          "2018-11-12",
          "2018-11-19",
          "2018-11-26",
          "2018-12-03",
          "2018-12-10",
          "2018-12-17",
          "2018-12-24",
          "2018-12-31",
          "2019-01-07",
          "2019-01-14",
          "2019-01-21",
          "2019-01-28",
          "2019-02-04",
          "2019-02-11",
          "2019-02-18",
          "2019-02-25",
          "2019-03-04",
          "2019-03-11",
          "2019-03-18",
          "2019-03-25",
          "2019-04-01",
          "2019-04-08",
          "2019-04-15",
          "2019-04-22",
          "2019-04-29",
          "2019-05-06",
          "2019-05-13",
          "2019-05-20",
          "2019-05-27",
          "2019-06-03",
          "2019-06-10",
          "2019-06-17",
          "2019-06-24",
          "2019-07-01",
          "2019-07-08",
          "2019-07-15",
          "2019-07-22",
          "2019-07-29",
          "2019-08-05",
          "2019-08-12",
          "2019-08-19",
          "2019-08-26",
          "2019-09-02",
          "2019-09-09",
          "2019-09-16",
          "2019-09-23",
          "2019-09-30",
          "2019-10-07",
          "2019-10-14",
          "2019-10-21",
          "2019-10-28",
          "2019-11-04",
          "2019-11-11",
          "2019-11-18",
          "2019-11-25",
          "2019-12-02",
          "2019-12-09",
          "2019-12-16",
          "2019-12-23",
          "2019-12-30"
         ],
         "xaxis": "x",
         "y": [
          1,
          1.018172278347936,
          1.032007866452698,
          1.066782783389724,
          1.0087731636550117,
          0.9415276737437316,
          0.99325918262539,
          1.0222821547641083,
          0.9788520214265992,
          1.0524482730908842,
          1.0303929312465263,
          0.926821104067592,
          0.9360932452590338,
          0.913638710861412,
          0.93380695379017,
          0.9734447261178653,
          0.9345146364100892,
          0.9509902470625956,
          0.9963982380519172,
          0.9674568868105002,
          0.9758943718805396,
          1.015668254641377,
          1.0169111849053498,
          1.0453898287179595,
          1.0483111519067918,
          1.0121753574512644,
          1.0344211867653972,
          1.0785588920381208,
          1.075011617811375,
          1.1236312044424703,
          1.1102129167272332,
          1.1228237368393843,
          1.0895729410299655,
          1.1074367837463466,
          1.1052048693141154,
          1.0567939333314087,
          1.0637798374890872,
          1.0579370795194665,
          1.0827776350267664,
          1.0500077089175164,
          1.007121903906116,
          0.9947651405743836,
          0.9720929301886708,
          0.959681788913054,
          0.9672663993407256,
          0.9630385756700248,
          0.9289168536315806,
          0.992923504040418,
          0.9404389054995582,
          0.945446952912676,
          0.8886892896888904,
          0.9408925313390586,
          0.9714034098401132,
          0.9591373489949891,
          0.9963982380519172,
          0.989802500200548,
          1.0077298024501202,
          0.9934950771344468,
          1.0103608540932627,
          1.0073850422758417,
          1.035165084150587,
          1.0363716889645844,
          1.0746032883264525,
          1.0936918990354445,
          1.064487521016258,
          1.095188886079836,
          1.1049145977684258,
          1.1216987538299403,
          1.1541874899828073,
          1.075456162061569,
          1.0562859304552756,
          1.0544986709579427,
          1.0283425342867192,
          1.001270175031893,
          0.9671666152648106,
          0.98468558802946,
          1.0178275181736574,
          0.980657443195294,
          1.0266368965939394,
          1.0387124690620373,
          1.025285100664745,
          1.1344366027859267,
          1.0832494231376286,
          1.0778240762422375,
          1.068379555417282,
          1.0445098208996275,
          1.0779056980467905,
          1.0931748145700046,
          1.12459294475006,
          1.115856106545024,
          1.1114649285805127,
          1.0968672799119472,
          1.10271900878617,
          1.129972884606169,
          1.1477913211905195,
          1.155602744537941,
          1.189742629754999,
          1.2110630442115171,
          1.1751993590303178,
          1.183927115646047,
          1.216279741365772,
          1.222820990588552,
          1.22441776261611,
          1.2265044859331442,
          1.213013658002661
         ],
         "yaxis": "y2"
        },
        {
         "domain": {
          "column": 1,
          "row": 0
         },
         "labels": [
          "AAPL",
          "GOOG"
         ],
         "type": "pie",
         "values": [
          5,
          2
         ]
        },
        {
         "a": [
          2,
          1,
          3
         ],
         "b": [
          1,
          3,
          2
         ],
         "c": [
          3,
          2,
          1
         ],
         "mode": "markers",
         "type": "scatterternary"
        }
       ],
       "layout": {
        "grid": {
         "columns": 2,
         "rows": 2,
         "subplots": [
          [
           "xy",
           ""
          ],
          [
           "xy2",
           ""
          ]
         ],
         "xgap": 0.1,
         "ygap": 0.2
        },
        "height": 550,
        "hovermode": "x",
        "hoversubplots": "axis",
        "showlegend": false,
        "template": {
         "data": {
          "bar": [
           {
            "error_x": {
             "color": "#2a3f5f"
            },
            "error_y": {
             "color": "#2a3f5f"
            },
            "marker": {
             "line": {
              "color": "#E5ECF6",
              "width": 0.5
             },
             "pattern": {
              "fillmode": "overlay",
              "size": 10,
              "solidity": 0.2
             }
            },
            "type": "bar"
           }
          ],
          "barpolar": [
           {
            "marker": {
             "line": {
              "color": "#E5ECF6",
              "width": 0.5
             },
             "pattern": {
              "fillmode": "overlay",
              "size": 10,
              "solidity": 0.2
             }
            },
            "type": "barpolar"
           }
          ],
          "carpet": [
           {
            "aaxis": {
             "endlinecolor": "#2a3f5f",
             "gridcolor": "white",
             "linecolor": "white",
             "minorgridcolor": "white",
             "startlinecolor": "#2a3f5f"
            },
            "baxis": {
             "endlinecolor": "#2a3f5f",
             "gridcolor": "white",
             "linecolor": "white",
             "minorgridcolor": "white",
             "startlinecolor": "#2a3f5f"
            },
            "type": "carpet"
           }
          ],
          "choropleth": [
           {
            "colorbar": {
             "outlinewidth": 0,
             "ticks": ""
            },
            "type": "choropleth"
           }
          ],
          "contour": [
           {
            "colorbar": {
             "outlinewidth": 0,
             "ticks": ""
            },
            "colorscale": [
             [
              0,
              "#0d0887"
             ],
             [
              0.1111111111111111,
              "#46039f"
             ],
             [
              0.2222222222222222,
              "#7201a8"
             ],
             [
              0.3333333333333333,
              "#9c179e"
             ],
             [
              0.4444444444444444,
              "#bd3786"
             ],
             [
              0.5555555555555556,
              "#d8576b"
             ],
             [
              0.6666666666666666,
              "#ed7953"
             ],
             [
              0.7777777777777778,
              "#fb9f3a"
             ],
             [
              0.8888888888888888,
              "#fdca26"
             ],
             [
              1,
              "#f0f921"
             ]
            ],
            "type": "contour"
           }
          ],
          "contourcarpet": [
           {
            "colorbar": {
             "outlinewidth": 0,
             "ticks": ""
            },
            "type": "contourcarpet"
           }
          ],
          "heatmap": [
           {
            "colorbar": {
             "outlinewidth": 0,
             "ticks": ""
            },
            "colorscale": [
             [
              0,
              "#0d0887"
             ],
             [
              0.1111111111111111,
              "#46039f"
             ],
             [
              0.2222222222222222,
              "#7201a8"
             ],
             [
              0.3333333333333333,
              "#9c179e"
             ],
             [
              0.4444444444444444,
              "#bd3786"
             ],
             [
              0.5555555555555556,
              "#d8576b"
             ],
             [
              0.6666666666666666,
              "#ed7953"
             ],
             [
              0.7777777777777778,
              "#fb9f3a"
             ],
             [
              0.8888888888888888,
              "#fdca26"
             ],
             [
              1,
              "#f0f921"
             ]
            ],
            "type": "heatmap"
           }
          ],
          "heatmapgl": [
           {
            "colorbar": {
             "outlinewidth": 0,
             "ticks": ""
            },
            "colorscale": [
             [
              0,
              "#0d0887"
             ],
             [
              0.1111111111111111,
              "#46039f"
             ],
             [
              0.2222222222222222,
              "#7201a8"
             ],
             [
              0.3333333333333333,
              "#9c179e"
             ],
             [
              0.4444444444444444,
              "#bd3786"
             ],
             [
              0.5555555555555556,
              "#d8576b"
             ],
             [
              0.6666666666666666,
              "#ed7953"
             ],
             [
              0.7777777777777778,
              "#fb9f3a"
             ],
             [
              0.8888888888888888,
              "#fdca26"
             ],
             [
              1,
              "#f0f921"
             ]
            ],
            "type": "heatmapgl"
           }
          ],
          "histogram": [
           {
            "marker": {
             "pattern": {
              "fillmode": "overlay",
              "size": 10,
              "solidity": 0.2
             }
            },
            "type": "histogram"
           }
          ],
          "histogram2d": [
           {
            "colorbar": {
             "outlinewidth": 0,
             "ticks": ""
            },
            "colorscale": [
             [
              0,
              "#0d0887"
             ],
             [
              0.1111111111111111,
              "#46039f"
             ],
             [
              0.2222222222222222,
              "#7201a8"
             ],
             [
              0.3333333333333333,
              "#9c179e"
             ],
             [
              0.4444444444444444,
              "#bd3786"
             ],
             [
              0.5555555555555556,
              "#d8576b"
             ],
             [
              0.6666666666666666,
              "#ed7953"
             ],
             [
              0.7777777777777778,
              "#fb9f3a"
             ],
             [
              0.8888888888888888,
              "#fdca26"
             ],
             [
              1,
              "#f0f921"
             ]
            ],
            "type": "histogram2d"
           }
          ],
          "histogram2dcontour": [
           {
            "colorbar": {
             "outlinewidth": 0,
             "ticks": ""
            },
            "colorscale": [
             [
              0,
              "#0d0887"
             ],
             [
              0.1111111111111111,
              "#46039f"
             ],
             [
              0.2222222222222222,
              "#7201a8"
             ],
             [
              0.3333333333333333,
              "#9c179e"
             ],
             [
              0.4444444444444444,
              "#bd3786"
             ],
             [
              0.5555555555555556,
              "#d8576b"
             ],
             [
              0.6666666666666666,
              "#ed7953"
             ],
             [
              0.7777777777777778,
              "#fb9f3a"
             ],
             [
              0.8888888888888888,
              "#fdca26"
             ],
             [
              1,
              "#f0f921"
             ]
            ],
            "type": "histogram2dcontour"
           }
          ],
          "mesh3d": [
           {
            "colorbar": {
             "outlinewidth": 0,
             "ticks": ""
            },
            "type": "mesh3d"
           }
          ],
          "parcoords": [
           {
            "line": {
             "colorbar": {
              "outlinewidth": 0,
              "ticks": ""
             }
            },
            "type": "parcoords"
           }
          ],
          "pie": [
           {
            "automargin": true,
            "type": "pie"
           }
          ],
          "scatter": [
           {
            "fillpattern": {
             "fillmode": "overlay",
             "size": 10,
             "solidity": 0.2
            },
            "type": "scatter"
           }
          ],
          "scatter3d": [
           {
            "line": {
             "colorbar": {
              "outlinewidth": 0,
              "ticks": ""
             }
            },
            "marker": {
             "colorbar": {
              "outlinewidth": 0,
              "ticks": ""
             }
            },
            "type": "scatter3d"
           }
          ],
          "scattercarpet": [
           {
            "marker": {
             "colorbar": {
              "outlinewidth": 0,
              "ticks": ""
             }
            },
            "type": "scattercarpet"
           }
          ],
          "scattergeo": [
           {
            "marker": {
             "colorbar": {
              "outlinewidth": 0,
              "ticks": ""
             }
            },
            "type": "scattergeo"
           }
          ],
          "scattergl": [
           {
            "marker": {
             "colorbar": {
              "outlinewidth": 0,
              "ticks": ""
             }
            },
            "type": "scattergl"
           }
          ],
          "scattermapbox": [
           {
            "marker": {
             "colorbar": {
              "outlinewidth": 0,
              "ticks": ""
             }
            },
            "type": "scattermapbox"
           }
          ],
          "scatterpolar": [
           {
            "marker": {
             "colorbar": {
              "outlinewidth": 0,
              "ticks": ""
             }
            },
            "type": "scatterpolar"
           }
          ],
          "scatterpolargl": [
           {
            "marker": {
             "colorbar": {
              "outlinewidth": 0,
              "ticks": ""
             }
            },
            "type": "scatterpolargl"
           }
          ],
          "scatterternary": [
           {
            "marker": {
             "colorbar": {
              "outlinewidth": 0,
              "ticks": ""
             }
            },
            "type": "scatterternary"
           }
          ],
          "surface": [
           {
            "colorbar": {
             "outlinewidth": 0,
             "ticks": ""
            },
            "colorscale": [
             [
              0,
              "#0d0887"
             ],
             [
              0.1111111111111111,
              "#46039f"
             ],
             [
              0.2222222222222222,
              "#7201a8"
             ],
             [
              0.3333333333333333,
              "#9c179e"
             ],
             [
              0.4444444444444444,
              "#bd3786"
             ],
             [
              0.5555555555555556,
              "#d8576b"
             ],
             [
              0.6666666666666666,
              "#ed7953"
             ],
             [
              0.7777777777777778,
              "#fb9f3a"
             ],
             [
              0.8888888888888888,
              "#fdca26"
             ],
             [
              1,
              "#f0f921"
             ]
            ],
            "type": "surface"
           }
          ],
          "table": [
           {
            "cells": {
             "fill": {
              "color": "#EBF0F8"
             },
             "line": {
              "color": "white"
             }
            },
            "header": {
             "fill": {
              "color": "#C8D4E3"
             },
             "line": {
              "color": "white"
             }
            },
            "type": "table"
           }
          ]
         },
         "layout": {
          "annotationdefaults": {
           "arrowcolor": "#2a3f5f",
           "arrowhead": 0,
           "arrowwidth": 1
          },
          "autotypenumbers": "strict",
          "coloraxis": {
           "colorbar": {
            "outlinewidth": 0,
            "ticks": ""
           }
          },
          "colorscale": {
           "diverging": [
            [
             0,
             "#8e0152"
            ],
            [
             0.1,
             "#c51b7d"
            ],
            [
             0.2,
             "#de77ae"
            ],
            [
             0.3,
             "#f1b6da"
            ],
            [
             0.4,
             "#fde0ef"
            ],
            [
             0.5,
             "#f7f7f7"
            ],
            [
             0.6,
             "#e6f5d0"
            ],
            [
             0.7,
             "#b8e186"
            ],
            [
             0.8,
             "#7fbc41"
            ],
            [
             0.9,
             "#4d9221"
            ],
            [
             1,
             "#276419"
            ]
           ],
           "sequential": [
            [
             0,
             "#0d0887"
            ],
            [
             0.1111111111111111,
             "#46039f"
            ],
            [
             0.2222222222222222,
             "#7201a8"
            ],
            [
             0.3333333333333333,
             "#9c179e"
            ],
            [
             0.4444444444444444,
             "#bd3786"
            ],
            [
             0.5555555555555556,
             "#d8576b"
            ],
            [
             0.6666666666666666,
             "#ed7953"
            ],
            [
             0.7777777777777778,
             "#fb9f3a"
            ],
            [
             0.8888888888888888,
             "#fdca26"
            ],
            [
             1,
             "#f0f921"
            ]
           ],
           "sequentialminus": [
            [
             0,
             "#0d0887"
            ],
            [
             0.1111111111111111,
             "#46039f"
            ],
            [
             0.2222222222222222,
             "#7201a8"
            ],
            [
             0.3333333333333333,
             "#9c179e"
            ],
            [
             0.4444444444444444,
             "#bd3786"
            ],
            [
             0.5555555555555556,
             "#d8576b"
            ],
            [
             0.6666666666666666,
             "#ed7953"
            ],
            [
             0.7777777777777778,
             "#fb9f3a"
            ],
            [
             0.8888888888888888,
             "#fdca26"
            ],
            [
             1,
             "#f0f921"
            ]
           ]
          },
          "colorway": [
           "#636efa",
           "#EF553B",
           "#00cc96",
           "#ab63fa",
           "#FFA15A",
           "#19d3f3",
           "#FF6692",
           "#B6E880",
           "#FF97FF",
           "#FECB52"
          ],
          "font": {
           "color": "#2a3f5f"
          },
          "geo": {
           "bgcolor": "white",
           "lakecolor": "white",
           "landcolor": "#E5ECF6",
           "showlakes": true,
           "showland": true,
           "subunitcolor": "white"
          },
          "hoverlabel": {
           "align": "left"
          },
          "hovermode": "closest",
          "mapbox": {
           "style": "light"
          },
          "paper_bgcolor": "white",
          "plot_bgcolor": "#E5ECF6",
          "polar": {
           "angularaxis": {
            "gridcolor": "white",
            "linecolor": "white",
            "ticks": ""
           },
           "bgcolor": "#E5ECF6",
           "radialaxis": {
            "gridcolor": "white",
            "linecolor": "white",
            "ticks": ""
           }
          },
          "scene": {
           "xaxis": {
            "backgroundcolor": "#E5ECF6",
            "gridcolor": "white",
            "gridwidth": 2,
            "linecolor": "white",
            "showbackground": true,
            "ticks": "",
            "zerolinecolor": "white"
           },
           "yaxis": {
            "backgroundcolor": "#E5ECF6",
            "gridcolor": "white",
            "gridwidth": 2,
            "linecolor": "white",
            "showbackground": true,
            "ticks": "",
            "zerolinecolor": "white"
           },
           "zaxis": {
            "backgroundcolor": "#E5ECF6",
            "gridcolor": "white",
            "gridwidth": 2,
            "linecolor": "white",
            "showbackground": true,
            "ticks": "",
            "zerolinecolor": "white"
           }
          },
          "shapedefaults": {
           "line": {
            "color": "#2a3f5f"
           }
          },
          "ternary": {
           "aaxis": {
            "gridcolor": "white",
            "linecolor": "white",
            "ticks": ""
           },
           "baxis": {
            "gridcolor": "white",
            "linecolor": "white",
            "ticks": ""
           },
           "bgcolor": "#E5ECF6",
           "caxis": {
            "gridcolor": "white",
            "linecolor": "white",
            "ticks": ""
           }
          },
          "title": {
           "x": 0.05
          },
          "xaxis": {
           "automargin": true,
           "gridcolor": "white",
           "linecolor": "white",
           "ticks": "",
           "title": {
            "standoff": 15
           },
           "zerolinecolor": "white",
           "zerolinewidth": 2
          },
          "yaxis": {
           "automargin": true,
           "gridcolor": "white",
           "linecolor": "white",
           "ticks": "",
           "title": {
            "standoff": 15
           },
           "zerolinecolor": "white",
           "zerolinewidth": 2
          }
         }
        },
        "ternary": {
         "aaxis": {
          "title": {
           "text": "A"
          }
         },
         "baxis": {
          "title": {
           "text": "B"
          }
         },
         "caxis": {
          "title": {
           "text": "C"
          }
         },
         "domain": {
          "column": 1,
          "row": 1
         }
        },
        "title": {
         "text": "Stock Price Changes"
        },
        "width": 750
       }
      }
     },
     "metadata": {},
     "output_type": "display_data"
    }
   ],
   "source": [
    "import plotly.graph_objects as go\n",
    "import pandas as pd\n",
    "from plotly import data\n",
    "\n",
    "df = data.stocks()\n",
    "\n",
    "fig=go.Figure([\n",
    "    go.Scatter(x=df[\"date\"], y=df[\"AAPL\"], xaxis=\"x\", yaxis=\"y\", name=\"Apple\"),\n",
    "    go.Scatter(x=df[\"date\"], y=df[\"GOOG\"], xaxis=\"x\", yaxis=\"y2\", name=\"Google\"),\n",
    "    go.Pie(labels= [\"AAPL\", \"GOOG\"], values= [5, 2], domain=dict(row= 0, column=1)),\n",
    "    go.Scatterternary(a= [2, 1, 3], b= [1, 3, 2], c= [3, 2, 1], mode= \"markers\")\n",
    "])\n",
    "fig.update_layout(width=750, height=550,\n",
    "                  showlegend=False,\n",
    "    hoversubplots=\"axis\",\n",
    "    title=\"Stock Price Changes\",\n",
    "    hovermode=\"x\", #or \"x unified\" without dashed line\n",
    "    \n",
    "    grid = dict(rows=2, columns=2, #the grid cells (row, col): [[(0,0), (0,1)], [(1,0), (1,1)]\n",
    "                subplots=[[\"xy\", \"\"],  #this grid attribute gives info on the position of each trace\n",
    "                          [\"xy2\", \"\"]],\n",
    "                xgap=0.1, \n",
    "                ygap=0.2),\n",
    "    ternary=dict(domain=dict(row=1, column=1),\n",
    "                 aaxis_title_text=\"A\",\n",
    "                 baxis_title_text=\"B\",\n",
    "                 caxis_title_text=\"C\"\n",
    "                ))"
   ]
  },
  {
   "cell_type": "code",
   "execution_count": null,
   "metadata": {},
   "outputs": [],
   "source": []
  }
 ],
 "metadata": {
  "kernelspec": {
   "display_name": "CREST",
   "language": "python",
   "name": "python3"
  },
  "language_info": {
   "codemirror_mode": {
    "name": "ipython",
    "version": 3
   },
   "file_extension": ".py",
   "mimetype": "text/x-python",
   "name": "python",
   "nbconvert_exporter": "python",
   "pygments_lexer": "ipython3",
   "version": "3.12.7"
  }
 },
 "nbformat": 4,
 "nbformat_minor": 2
}
