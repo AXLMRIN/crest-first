{
 "cells": [
  {
   "cell_type": "markdown",
   "metadata": {},
   "source": [
    "# Import "
   ]
  },
  {
   "cell_type": "code",
   "execution_count": 28,
   "metadata": {},
   "outputs": [],
   "source": [
    "import pandas as pd\n",
    "import plotly.express as px\n",
    "import json\n",
    "import plotly.graph_objects as go\n",
    "from plotly.graph_objs._figure import Figure as pxFigure"
   ]
  },
  {
   "cell_type": "markdown",
   "metadata": {},
   "source": [
    "# Global Variables"
   ]
  },
  {
   "cell_type": "code",
   "execution_count": 22,
   "metadata": {},
   "outputs": [],
   "source": [
    "DATADIRPATH     = \"../../data/checkpoints/\"\n",
    "FILENAME        = \"2025-01-10-proportionsPerYear\""
   ]
  },
  {
   "cell_type": "markdown",
   "metadata": {},
   "source": [
    "# Open file(s)"
   ]
  },
  {
   "cell_type": "code",
   "execution_count": 23,
   "metadata": {},
   "outputs": [],
   "source": [
    "def filename_format(filename : str) -> str:\n",
    "    \"\"\"\n",
    "    this function is to make sure the filename has the right format.\n",
    "    given 'xxxx' or 'xxxx.csv' of 'xxxx.json' it returns the 'xxxx' (root with \n",
    "    no extension)\n",
    "    IT SPECIFICALLY DEALS WITH FILENAMES WITH .csv AND .json, NOT WITH ANY\n",
    "    EXTENSION\n",
    "    \"\"\"\n",
    "    csvExtension    : bool = filename.endswith('.csv')\n",
    "    jsonExtension   : bool = filename.endswith('.json')\n",
    "\n",
    "    if csvExtension  : return filename[:-4] # Remove '.csv'\n",
    "    if jsonExtension : return filename[:-5] # Remove '.json'\n",
    "    \n",
    "    # assume it had the right format\n",
    "    return filename\n",
    "\n",
    "def cleanMetadata(metadata : dict) -> tuple[str,str,dict]:\n",
    "    '''\n",
    "    this function is meant to take out the 'xlabel' and 'ylabel' off of metadata\n",
    "    and return the labels and the metadata.\n",
    "    '''\n",
    "    xlabel, ylabel = metadata['xlabel'], metadata['ylabel']\n",
    "    metadataOUT = {\n",
    "        key : metadata[key] for key in metadata \\\n",
    "                if key not in ['xlabel','ylabel']\n",
    "    }\n",
    "    return xlabel, ylabel, metadataOUT\n",
    "\n",
    "def openFilesCSVJSON(filename : str) -> tuple[pd.DataFrame, dict]:\n",
    "    '''\n",
    "    this function is meant to open the given file with respect to the fileformat\n",
    "    '''\n",
    "    filename = filename_format(filename)\n",
    "    # Open the files\n",
    "    dfToPlot = pd.read_csv(DATADIRPATH + filename + '.csv')\n",
    "    with open(DATADIRPATH + filename + '.json', 'r') as file : \n",
    "        metadata = json.load(file)\n",
    "    return dfToPlot, metadata\n",
    "\n",
    "def open_and_plot(filename : str, **kwargs) -> pxFigure:\n",
    "    \"\"\"\n",
    "    this function is meant to open the csv file created with the \n",
    "    save_data_frame_for_plotting function as well as the json file and plot \n",
    "    the whole thing.\n",
    "    \n",
    "    FYI :\n",
    "        - The filename can be either 'xxxx' or 'xxxx.csv' of 'xxxx.json'\n",
    "        - DATADIRPATH is meant to be a global variable defined eslewhere.\n",
    "    \"\"\"\n",
    "    # Open data\n",
    "    dfToPlot, metadata = openFilesCSVJSON(filename)\n",
    "\n",
    "    # Create the figure\n",
    "    xlabel, ylabel, metadata = cleanMetadata(metadata)\n",
    "\n",
    "    fig = px.line(dfToPlot, x = xlabel, y = ylabel,\n",
    "                **{**metadata, **kwargs}            # Merge the ditctionnaries\n",
    "                )\n",
    "    return fig\n",
    "    "
   ]
  },
  {
   "cell_type": "markdown",
   "metadata": {},
   "source": [
    "# PLAYGROUND"
   ]
  },
  {
   "cell_type": "code",
   "execution_count": 40,
   "metadata": {},
   "outputs": [],
   "source": [
    "plottingKWARGS = {\n",
    "    'title' : 'TITRE SUPER INTERESSANT',\n",
    "    'labels' : {\n",
    "        'facet_col' : 'Groupe de revue',\n",
    "        'x'      : 'Année de publication',\n",
    "        'y': 'Part des articles (%)'\n",
    "    }\n",
    "}\n",
    "\n",
    "fig = open_and_plot(FILENAME, **plottingKWARGS)\n"
   ]
  },
  {
   "cell_type": "code",
   "execution_count": 32,
   "metadata": {},
   "outputs": [
    {
     "data": {
      "application/vnd.plotly.v1+json": {
       "config": {
        "plotlyServerURL": "https://plot.ly"
       },
       "data": [
        {
         "hovertemplate": "color=EXT<br>facet_col=0<br>year=%{x}<br>proportion=%{y}<extra></extra>",
         "legendgroup": "EXT",
         "line": {
          "color": "#636efa",
          "dash": "solid"
         },
         "marker": {
          "symbol": "circle"
         },
         "mode": "lines",
         "name": "EXT",
         "orientation": "v",
         "showlegend": true,
         "type": "scatter",
         "x": [
          2001,
          2002,
          2003,
          2004,
          2005,
          2006,
          2007,
          2008,
          2009,
          2010,
          2011,
          2012,
          2013,
          2014,
          2015,
          2016,
          2017,
          2018,
          2019,
          2020,
          2021,
          2022,
          2023
         ],
         "xaxis": "x",
         "y": [
          0.0344827586206896,
          0.0714285714285714,
          0,
          0.0769230769230769,
          0.0434782608695652,
          0,
          0.1538461538461538,
          0.0588235294117647,
          0.0344827586206896,
          0.0357142857142857,
          0.037037037037037,
          0.0869565217391304,
          0.1428571428571428,
          0.04,
          0.1071428571428571,
          0.24,
          0.217391304347826,
          0.2857142857142857,
          0,
          0.0625,
          0.1666666666666666,
          0.125,
          0.2
         ],
         "yaxis": "y"
        },
        {
         "hovertemplate": "color=EXT<br>facet_col=1<br>year=%{x}<br>proportion=%{y}<extra></extra>",
         "legendgroup": "EXT",
         "line": {
          "color": "#636efa",
          "dash": "solid"
         },
         "marker": {
          "symbol": "circle"
         },
         "mode": "lines",
         "name": "EXT",
         "orientation": "v",
         "showlegend": false,
         "type": "scatter",
         "x": [
          2001,
          2002,
          2003,
          2004,
          2005,
          2006,
          2007,
          2008,
          2009,
          2010,
          2011,
          2012,
          2013,
          2014,
          2015,
          2016,
          2017,
          2018,
          2019,
          2020,
          2021,
          2022,
          2023
         ],
         "xaxis": "x2",
         "y": [
          0.0510204081632653,
          0.0669856459330143,
          0.097457627118644,
          0.0544747081712062,
          0.0573770491803278,
          0.0491803278688524,
          0.0604838709677419,
          0.056,
          0.0685920577617328,
          0.0899280575539568,
          0.0954063604240282,
          0.0905797101449275,
          0.150197628458498,
          0.0503355704697986,
          0.0905511811023622,
          0.1231884057971014,
          0.1312741312741312,
          0.1286307053941908,
          0.1152263374485596,
          0.094240837696335,
          0.0890688259109311,
          0.1116279069767441,
          0.2018348623853211
         ],
         "yaxis": "y2"
        },
        {
         "hovertemplate": "color=EXT<br>facet_col=2<br>year=%{x}<br>proportion=%{y}<extra></extra>",
         "legendgroup": "EXT",
         "line": {
          "color": "#636efa",
          "dash": "solid"
         },
         "marker": {
          "symbol": "circle"
         },
         "mode": "lines",
         "name": "EXT",
         "orientation": "v",
         "showlegend": false,
         "type": "scatter",
         "x": [
          2001,
          2002,
          2003,
          2004,
          2005,
          2006,
          2007,
          2008,
          2009,
          2010,
          2011,
          2012,
          2013,
          2014,
          2015,
          2016,
          2017,
          2018,
          2019,
          2020,
          2021,
          2022,
          2023
         ],
         "xaxis": "x3",
         "y": [
          0.0481927710843373,
          0.037037037037037,
          0.1351351351351351,
          0.1057692307692307,
          0.0467289719626168,
          0.0471698113207547,
          0.1121495327102803,
          0.0857142857142857,
          0.1130434782608695,
          0.073170731707317,
          0.0932203389830508,
          0.1269841269841269,
          0.1388888888888889,
          0.0782608695652174,
          0.0707964601769911,
          0.0892857142857142,
          0.1403508771929824,
          0.1584158415841584,
          0.1509433962264151,
          0.1428571428571428,
          0.1276595744680851,
          0.1111111111111111,
          0.1666666666666666
         ],
         "yaxis": "y3"
        },
        {
         "hovertemplate": "color=STAT<br>facet_col=0<br>year=%{x}<br>proportion=%{y}<extra></extra>",
         "legendgroup": "STAT",
         "line": {
          "color": "#EF553B",
          "dash": "dot"
         },
         "marker": {
          "symbol": "circle"
         },
         "mode": "lines",
         "name": "STAT",
         "orientation": "v",
         "showlegend": true,
         "type": "scatter",
         "x": [
          2001,
          2002,
          2003,
          2004,
          2005,
          2006,
          2007,
          2008,
          2009,
          2010,
          2011,
          2012,
          2013,
          2014,
          2015,
          2016,
          2017,
          2018,
          2019,
          2020,
          2021,
          2022,
          2023
         ],
         "xaxis": "x",
         "y": [
          0,
          0,
          0,
          0,
          0,
          0,
          0,
          0,
          0,
          0,
          0,
          0,
          0,
          0,
          0,
          0,
          0,
          0,
          0,
          0,
          0,
          0,
          0
         ],
         "yaxis": "y"
        },
        {
         "hovertemplate": "color=STAT<br>facet_col=1<br>year=%{x}<br>proportion=%{y}<extra></extra>",
         "legendgroup": "STAT",
         "line": {
          "color": "#EF553B",
          "dash": "dot"
         },
         "marker": {
          "symbol": "circle"
         },
         "mode": "lines",
         "name": "STAT",
         "orientation": "v",
         "showlegend": false,
         "type": "scatter",
         "x": [
          2001,
          2002,
          2003,
          2004,
          2005,
          2006,
          2007,
          2008,
          2009,
          2010,
          2011,
          2012,
          2013,
          2014,
          2015,
          2016,
          2017,
          2018,
          2019,
          2020,
          2021,
          2022,
          2023
         ],
         "xaxis": "x2",
         "y": [
          0.0051020408163265,
          0.0047846889952153,
          0.0296610169491525,
          0.0077821011673151,
          0.0163934426229508,
          0.0163934426229508,
          0,
          0.012,
          0.003610108303249,
          0.0179856115107913,
          0.0106007067137809,
          0.0253623188405797,
          0.0118577075098814,
          0.0167785234899328,
          0.0078740157480314,
          0.0181159420289855,
          0.0115830115830115,
          0.0124481327800829,
          0.0288065843621399,
          0.0157068062827225,
          0.0080971659919028,
          0.027906976744186,
          0.0091743119266055
         ],
         "yaxis": "y2"
        },
        {
         "hovertemplate": "color=STAT<br>facet_col=2<br>year=%{x}<br>proportion=%{y}<extra></extra>",
         "legendgroup": "STAT",
         "line": {
          "color": "#EF553B",
          "dash": "dot"
         },
         "marker": {
          "symbol": "circle"
         },
         "mode": "lines",
         "name": "STAT",
         "orientation": "v",
         "showlegend": false,
         "type": "scatter",
         "x": [
          2001,
          2002,
          2003,
          2004,
          2005,
          2006,
          2007,
          2008,
          2009,
          2010,
          2011,
          2012,
          2013,
          2014,
          2015,
          2016,
          2017,
          2018,
          2019,
          2020,
          2021,
          2022,
          2023
         ],
         "xaxis": "x3",
         "y": [
          0,
          0,
          0.009009009009009,
          0,
          0,
          0,
          0,
          0.0095238095238095,
          0,
          0,
          0,
          0,
          0,
          0,
          0,
          0.0089285714285714,
          0,
          0,
          0.0094339622641509,
          0,
          0,
          0.0185185185185185,
          0.0185185185185185
         ],
         "yaxis": "y3"
        }
       ],
       "layout": {
        "annotations": [
         {
          "font": {},
          "showarrow": false,
          "text": "facet_col=0",
          "x": 0.15999999999999998,
          "xanchor": "center",
          "xref": "paper",
          "y": 1,
          "yanchor": "bottom",
          "yref": "paper"
         },
         {
          "font": {},
          "showarrow": false,
          "text": "facet_col=1",
          "x": 0.49999999999999994,
          "xanchor": "center",
          "xref": "paper",
          "y": 1,
          "yanchor": "bottom",
          "yref": "paper"
         },
         {
          "font": {},
          "showarrow": false,
          "text": "facet_col=2",
          "x": 0.8399999999999999,
          "xanchor": "center",
          "xref": "paper",
          "y": 1,
          "yanchor": "bottom",
          "yref": "paper"
         }
        ],
        "legend": {
         "title": {
          "text": "color"
         },
         "tracegroupgap": 0
        },
        "margin": {
         "t": 60
        },
        "template": {
         "data": {
          "bar": [
           {
            "error_x": {
             "color": "#2a3f5f"
            },
            "error_y": {
             "color": "#2a3f5f"
            },
            "marker": {
             "line": {
              "color": "#E5ECF6",
              "width": 0.5
             },
             "pattern": {
              "fillmode": "overlay",
              "size": 10,
              "solidity": 0.2
             }
            },
            "type": "bar"
           }
          ],
          "barpolar": [
           {
            "marker": {
             "line": {
              "color": "#E5ECF6",
              "width": 0.5
             },
             "pattern": {
              "fillmode": "overlay",
              "size": 10,
              "solidity": 0.2
             }
            },
            "type": "barpolar"
           }
          ],
          "carpet": [
           {
            "aaxis": {
             "endlinecolor": "#2a3f5f",
             "gridcolor": "white",
             "linecolor": "white",
             "minorgridcolor": "white",
             "startlinecolor": "#2a3f5f"
            },
            "baxis": {
             "endlinecolor": "#2a3f5f",
             "gridcolor": "white",
             "linecolor": "white",
             "minorgridcolor": "white",
             "startlinecolor": "#2a3f5f"
            },
            "type": "carpet"
           }
          ],
          "choropleth": [
           {
            "colorbar": {
             "outlinewidth": 0,
             "ticks": ""
            },
            "type": "choropleth"
           }
          ],
          "contour": [
           {
            "colorbar": {
             "outlinewidth": 0,
             "ticks": ""
            },
            "colorscale": [
             [
              0,
              "#0d0887"
             ],
             [
              0.1111111111111111,
              "#46039f"
             ],
             [
              0.2222222222222222,
              "#7201a8"
             ],
             [
              0.3333333333333333,
              "#9c179e"
             ],
             [
              0.4444444444444444,
              "#bd3786"
             ],
             [
              0.5555555555555556,
              "#d8576b"
             ],
             [
              0.6666666666666666,
              "#ed7953"
             ],
             [
              0.7777777777777778,
              "#fb9f3a"
             ],
             [
              0.8888888888888888,
              "#fdca26"
             ],
             [
              1,
              "#f0f921"
             ]
            ],
            "type": "contour"
           }
          ],
          "contourcarpet": [
           {
            "colorbar": {
             "outlinewidth": 0,
             "ticks": ""
            },
            "type": "contourcarpet"
           }
          ],
          "heatmap": [
           {
            "colorbar": {
             "outlinewidth": 0,
             "ticks": ""
            },
            "colorscale": [
             [
              0,
              "#0d0887"
             ],
             [
              0.1111111111111111,
              "#46039f"
             ],
             [
              0.2222222222222222,
              "#7201a8"
             ],
             [
              0.3333333333333333,
              "#9c179e"
             ],
             [
              0.4444444444444444,
              "#bd3786"
             ],
             [
              0.5555555555555556,
              "#d8576b"
             ],
             [
              0.6666666666666666,
              "#ed7953"
             ],
             [
              0.7777777777777778,
              "#fb9f3a"
             ],
             [
              0.8888888888888888,
              "#fdca26"
             ],
             [
              1,
              "#f0f921"
             ]
            ],
            "type": "heatmap"
           }
          ],
          "heatmapgl": [
           {
            "colorbar": {
             "outlinewidth": 0,
             "ticks": ""
            },
            "colorscale": [
             [
              0,
              "#0d0887"
             ],
             [
              0.1111111111111111,
              "#46039f"
             ],
             [
              0.2222222222222222,
              "#7201a8"
             ],
             [
              0.3333333333333333,
              "#9c179e"
             ],
             [
              0.4444444444444444,
              "#bd3786"
             ],
             [
              0.5555555555555556,
              "#d8576b"
             ],
             [
              0.6666666666666666,
              "#ed7953"
             ],
             [
              0.7777777777777778,
              "#fb9f3a"
             ],
             [
              0.8888888888888888,
              "#fdca26"
             ],
             [
              1,
              "#f0f921"
             ]
            ],
            "type": "heatmapgl"
           }
          ],
          "histogram": [
           {
            "marker": {
             "pattern": {
              "fillmode": "overlay",
              "size": 10,
              "solidity": 0.2
             }
            },
            "type": "histogram"
           }
          ],
          "histogram2d": [
           {
            "colorbar": {
             "outlinewidth": 0,
             "ticks": ""
            },
            "colorscale": [
             [
              0,
              "#0d0887"
             ],
             [
              0.1111111111111111,
              "#46039f"
             ],
             [
              0.2222222222222222,
              "#7201a8"
             ],
             [
              0.3333333333333333,
              "#9c179e"
             ],
             [
              0.4444444444444444,
              "#bd3786"
             ],
             [
              0.5555555555555556,
              "#d8576b"
             ],
             [
              0.6666666666666666,
              "#ed7953"
             ],
             [
              0.7777777777777778,
              "#fb9f3a"
             ],
             [
              0.8888888888888888,
              "#fdca26"
             ],
             [
              1,
              "#f0f921"
             ]
            ],
            "type": "histogram2d"
           }
          ],
          "histogram2dcontour": [
           {
            "colorbar": {
             "outlinewidth": 0,
             "ticks": ""
            },
            "colorscale": [
             [
              0,
              "#0d0887"
             ],
             [
              0.1111111111111111,
              "#46039f"
             ],
             [
              0.2222222222222222,
              "#7201a8"
             ],
             [
              0.3333333333333333,
              "#9c179e"
             ],
             [
              0.4444444444444444,
              "#bd3786"
             ],
             [
              0.5555555555555556,
              "#d8576b"
             ],
             [
              0.6666666666666666,
              "#ed7953"
             ],
             [
              0.7777777777777778,
              "#fb9f3a"
             ],
             [
              0.8888888888888888,
              "#fdca26"
             ],
             [
              1,
              "#f0f921"
             ]
            ],
            "type": "histogram2dcontour"
           }
          ],
          "mesh3d": [
           {
            "colorbar": {
             "outlinewidth": 0,
             "ticks": ""
            },
            "type": "mesh3d"
           }
          ],
          "parcoords": [
           {
            "line": {
             "colorbar": {
              "outlinewidth": 0,
              "ticks": ""
             }
            },
            "type": "parcoords"
           }
          ],
          "pie": [
           {
            "automargin": true,
            "type": "pie"
           }
          ],
          "scatter": [
           {
            "fillpattern": {
             "fillmode": "overlay",
             "size": 10,
             "solidity": 0.2
            },
            "type": "scatter"
           }
          ],
          "scatter3d": [
           {
            "line": {
             "colorbar": {
              "outlinewidth": 0,
              "ticks": ""
             }
            },
            "marker": {
             "colorbar": {
              "outlinewidth": 0,
              "ticks": ""
             }
            },
            "type": "scatter3d"
           }
          ],
          "scattercarpet": [
           {
            "marker": {
             "colorbar": {
              "outlinewidth": 0,
              "ticks": ""
             }
            },
            "type": "scattercarpet"
           }
          ],
          "scattergeo": [
           {
            "marker": {
             "colorbar": {
              "outlinewidth": 0,
              "ticks": ""
             }
            },
            "type": "scattergeo"
           }
          ],
          "scattergl": [
           {
            "marker": {
             "colorbar": {
              "outlinewidth": 0,
              "ticks": ""
             }
            },
            "type": "scattergl"
           }
          ],
          "scattermapbox": [
           {
            "marker": {
             "colorbar": {
              "outlinewidth": 0,
              "ticks": ""
             }
            },
            "type": "scattermapbox"
           }
          ],
          "scatterpolar": [
           {
            "marker": {
             "colorbar": {
              "outlinewidth": 0,
              "ticks": ""
             }
            },
            "type": "scatterpolar"
           }
          ],
          "scatterpolargl": [
           {
            "marker": {
             "colorbar": {
              "outlinewidth": 0,
              "ticks": ""
             }
            },
            "type": "scatterpolargl"
           }
          ],
          "scatterternary": [
           {
            "marker": {
             "colorbar": {
              "outlinewidth": 0,
              "ticks": ""
             }
            },
            "type": "scatterternary"
           }
          ],
          "surface": [
           {
            "colorbar": {
             "outlinewidth": 0,
             "ticks": ""
            },
            "colorscale": [
             [
              0,
              "#0d0887"
             ],
             [
              0.1111111111111111,
              "#46039f"
             ],
             [
              0.2222222222222222,
              "#7201a8"
             ],
             [
              0.3333333333333333,
              "#9c179e"
             ],
             [
              0.4444444444444444,
              "#bd3786"
             ],
             [
              0.5555555555555556,
              "#d8576b"
             ],
             [
              0.6666666666666666,
              "#ed7953"
             ],
             [
              0.7777777777777778,
              "#fb9f3a"
             ],
             [
              0.8888888888888888,
              "#fdca26"
             ],
             [
              1,
              "#f0f921"
             ]
            ],
            "type": "surface"
           }
          ],
          "table": [
           {
            "cells": {
             "fill": {
              "color": "#EBF0F8"
             },
             "line": {
              "color": "white"
             }
            },
            "header": {
             "fill": {
              "color": "#C8D4E3"
             },
             "line": {
              "color": "white"
             }
            },
            "type": "table"
           }
          ]
         },
         "layout": {
          "annotationdefaults": {
           "arrowcolor": "#2a3f5f",
           "arrowhead": 0,
           "arrowwidth": 1
          },
          "autotypenumbers": "strict",
          "coloraxis": {
           "colorbar": {
            "outlinewidth": 0,
            "ticks": ""
           }
          },
          "colorscale": {
           "diverging": [
            [
             0,
             "#8e0152"
            ],
            [
             0.1,
             "#c51b7d"
            ],
            [
             0.2,
             "#de77ae"
            ],
            [
             0.3,
             "#f1b6da"
            ],
            [
             0.4,
             "#fde0ef"
            ],
            [
             0.5,
             "#f7f7f7"
            ],
            [
             0.6,
             "#e6f5d0"
            ],
            [
             0.7,
             "#b8e186"
            ],
            [
             0.8,
             "#7fbc41"
            ],
            [
             0.9,
             "#4d9221"
            ],
            [
             1,
             "#276419"
            ]
           ],
           "sequential": [
            [
             0,
             "#0d0887"
            ],
            [
             0.1111111111111111,
             "#46039f"
            ],
            [
             0.2222222222222222,
             "#7201a8"
            ],
            [
             0.3333333333333333,
             "#9c179e"
            ],
            [
             0.4444444444444444,
             "#bd3786"
            ],
            [
             0.5555555555555556,
             "#d8576b"
            ],
            [
             0.6666666666666666,
             "#ed7953"
            ],
            [
             0.7777777777777778,
             "#fb9f3a"
            ],
            [
             0.8888888888888888,
             "#fdca26"
            ],
            [
             1,
             "#f0f921"
            ]
           ],
           "sequentialminus": [
            [
             0,
             "#0d0887"
            ],
            [
             0.1111111111111111,
             "#46039f"
            ],
            [
             0.2222222222222222,
             "#7201a8"
            ],
            [
             0.3333333333333333,
             "#9c179e"
            ],
            [
             0.4444444444444444,
             "#bd3786"
            ],
            [
             0.5555555555555556,
             "#d8576b"
            ],
            [
             0.6666666666666666,
             "#ed7953"
            ],
            [
             0.7777777777777778,
             "#fb9f3a"
            ],
            [
             0.8888888888888888,
             "#fdca26"
            ],
            [
             1,
             "#f0f921"
            ]
           ]
          },
          "colorway": [
           "#636efa",
           "#EF553B",
           "#00cc96",
           "#ab63fa",
           "#FFA15A",
           "#19d3f3",
           "#FF6692",
           "#B6E880",
           "#FF97FF",
           "#FECB52"
          ],
          "font": {
           "color": "#2a3f5f"
          },
          "geo": {
           "bgcolor": "white",
           "lakecolor": "white",
           "landcolor": "#E5ECF6",
           "showlakes": true,
           "showland": true,
           "subunitcolor": "white"
          },
          "hoverlabel": {
           "align": "left"
          },
          "hovermode": "closest",
          "mapbox": {
           "style": "light"
          },
          "paper_bgcolor": "white",
          "plot_bgcolor": "#E5ECF6",
          "polar": {
           "angularaxis": {
            "gridcolor": "white",
            "linecolor": "white",
            "ticks": ""
           },
           "bgcolor": "#E5ECF6",
           "radialaxis": {
            "gridcolor": "white",
            "linecolor": "white",
            "ticks": ""
           }
          },
          "scene": {
           "xaxis": {
            "backgroundcolor": "#E5ECF6",
            "gridcolor": "white",
            "gridwidth": 2,
            "linecolor": "white",
            "showbackground": true,
            "ticks": "",
            "zerolinecolor": "white"
           },
           "yaxis": {
            "backgroundcolor": "#E5ECF6",
            "gridcolor": "white",
            "gridwidth": 2,
            "linecolor": "white",
            "showbackground": true,
            "ticks": "",
            "zerolinecolor": "white"
           },
           "zaxis": {
            "backgroundcolor": "#E5ECF6",
            "gridcolor": "white",
            "gridwidth": 2,
            "linecolor": "white",
            "showbackground": true,
            "ticks": "",
            "zerolinecolor": "white"
           }
          },
          "shapedefaults": {
           "line": {
            "color": "#2a3f5f"
           }
          },
          "ternary": {
           "aaxis": {
            "gridcolor": "white",
            "linecolor": "white",
            "ticks": ""
           },
           "baxis": {
            "gridcolor": "white",
            "linecolor": "white",
            "ticks": ""
           },
           "bgcolor": "#E5ECF6",
           "caxis": {
            "gridcolor": "white",
            "linecolor": "white",
            "ticks": ""
           }
          },
          "title": {
           "x": 0.05
          },
          "xaxis": {
           "automargin": true,
           "gridcolor": "white",
           "linecolor": "white",
           "ticks": "",
           "title": {
            "standoff": 15
           },
           "zerolinecolor": "white",
           "zerolinewidth": 2
          },
          "yaxis": {
           "automargin": true,
           "gridcolor": "white",
           "linecolor": "white",
           "ticks": "",
           "title": {
            "standoff": 15
           },
           "zerolinecolor": "white",
           "zerolinewidth": 2
          }
         }
        },
        "xaxis": {
         "anchor": "y",
         "domain": [
          0,
          0.31999999999999995
         ],
         "title": {
          "text": "year"
         }
        },
        "xaxis2": {
         "anchor": "y2",
         "domain": [
          0.33999999999999997,
          0.6599999999999999
         ],
         "matches": "x",
         "title": {
          "text": "year"
         }
        },
        "xaxis3": {
         "anchor": "y3",
         "domain": [
          0.6799999999999999,
          0.9999999999999999
         ],
         "matches": "x",
         "title": {
          "text": "year"
         }
        },
        "yaxis": {
         "anchor": "x",
         "domain": [
          0,
          1
         ],
         "title": {
          "text": "proportion"
         }
        },
        "yaxis2": {
         "anchor": "x2",
         "domain": [
          0,
          1
         ],
         "matches": "y",
         "showticklabels": false
        },
        "yaxis3": {
         "anchor": "x3",
         "domain": [
          0,
          1
         ],
         "matches": "y",
         "showticklabels": false
        }
       }
      }
     },
     "metadata": {},
     "output_type": "display_data"
    }
   ],
   "source": [
    "fig"
   ]
  },
  {
   "cell_type": "code",
   "execution_count": 38,
   "metadata": {},
   "outputs": [
    {
     "ename": "ValueError",
     "evalue": "\n    Invalid value of type 'builtins.str' received for the 'xaxis' property of layout\n        Received value: 'Année de publication'\n\n    The 'xaxis' property is an instance of XAxis\n    that may be specified as:\n      - An instance of :class:`plotly.graph_objs.layout.XAxis`\n      - A dict of string/value properties that will be passed\n        to the XAxis constructor\n\n        Supported dict properties:\n            \n            anchor\n                If set to an opposite-letter axis id (e.g.\n                `x2`, `y`), this axis is bound to the\n                corresponding opposite-letter axis. If set to\n                \"free\", this axis' position is determined by\n                `position`.\n            automargin\n                Determines whether long tick labels\n                automatically grow the figure margins.\n            autorange\n                Determines whether or not the range of this\n                axis is computed in relation to the input data.\n                See `rangemode` for more info. If `range` is\n                provided and it has a value for both the lower\n                and upper bound, `autorange` is set to False.\n                Using \"min\" applies autorange only to set the\n                minimum. Using \"max\" applies autorange only to\n                set the maximum. Using *min reversed* applies\n                autorange only to set the minimum on a reversed\n                axis. Using *max reversed* applies autorange\n                only to set the maximum on a reversed axis.\n                Using \"reversed\" applies autorange on both ends\n                and reverses the axis direction.\n            autorangeoptions\n                :class:`plotly.graph_objects.layout.xaxis.Autor\n                angeoptions` instance or dict with compatible\n                properties\n            autotickangles\n                When `tickangle` is set to \"auto\", it will be\n                set to the first angle in this array that is\n                large enough to prevent label overlap.\n            autotypenumbers\n                Using \"strict\" a numeric string in trace data\n                is not converted to a number. Using *convert\n                types* a numeric string in trace data may be\n                treated as a number during automatic axis\n                `type` detection. Defaults to\n                layout.autotypenumbers.\n            calendar\n                Sets the calendar system to use for `range` and\n                `tick0` if this is a date axis. This does not\n                set the calendar for interpreting data on this\n                axis, that's specified in the trace or via the\n                global `layout.calendar`\n            categoryarray\n                Sets the order in which categories on this axis\n                appear. Only has an effect if `categoryorder`\n                is set to \"array\". Used with `categoryorder`.\n            categoryarraysrc\n                Sets the source reference on Chart Studio Cloud\n                for `categoryarray`.\n            categoryorder\n                Specifies the ordering logic for the case of\n                categorical variables. By default, plotly uses\n                \"trace\", which specifies the order that is\n                present in the data supplied. Set\n                `categoryorder` to *category ascending* or\n                *category descending* if order should be\n                determined by the alphanumerical order of the\n                category names. Set `categoryorder` to \"array\"\n                to derive the ordering from the attribute\n                `categoryarray`. If a category is not found in\n                the `categoryarray` array, the sorting behavior\n                for that attribute will be identical to the\n                \"trace\" mode. The unspecified categories will\n                follow the categories in `categoryarray`. Set\n                `categoryorder` to *total ascending* or *total\n                descending* if order should be determined by\n                the numerical order of the values. Similarly,\n                the order can be determined by the min, max,\n                sum, mean, geometric mean or median of all the\n                values.\n            color\n                Sets default for all colors associated with\n                this axis all at once: line, font, tick, and\n                grid colors. Grid color is lightened by\n                blending this with the plot background\n                Individual pieces can override this.\n            constrain\n                If this axis needs to be compressed (either due\n                to its own `scaleanchor` and `scaleratio` or\n                those of the other axis), determines how that\n                happens: by increasing the \"range\", or by\n                decreasing the \"domain\". Default is \"domain\"\n                for axes containing image traces, \"range\"\n                otherwise.\n            constraintoward\n                If this axis needs to be compressed (either due\n                to its own `scaleanchor` and `scaleratio` or\n                those of the other axis), determines which\n                direction we push the originally specified plot\n                area. Options are \"left\", \"center\" (default),\n                and \"right\" for x axes, and \"top\", \"middle\"\n                (default), and \"bottom\" for y axes.\n            dividercolor\n                Sets the color of the dividers Only has an\n                effect on \"multicategory\" axes.\n            dividerwidth\n                Sets the width (in px) of the dividers Only has\n                an effect on \"multicategory\" axes.\n            domain\n                Sets the domain of this axis (in plot\n                fraction).\n            dtick\n                Sets the step in-between ticks on this axis.\n                Use with `tick0`. Must be a positive number, or\n                special strings available to \"log\" and \"date\"\n                axes. If the axis `type` is \"log\", then ticks\n                are set every 10^(n*dtick) where n is the tick\n                number. For example, to set a tick mark at 1,\n                10, 100, 1000, ... set dtick to 1. To set tick\n                marks at 1, 100, 10000, ... set dtick to 2. To\n                set tick marks at 1, 5, 25, 125, 625, 3125, ...\n                set dtick to log_10(5), or 0.69897000433. \"log\"\n                has several special values; \"L<f>\", where `f`\n                is a positive number, gives ticks linearly\n                spaced in value (but not position). For example\n                `tick0` = 0.1, `dtick` = \"L0.5\" will put ticks\n                at 0.1, 0.6, 1.1, 1.6 etc. To show powers of 10\n                plus small digits between, use \"D1\" (all\n                digits) or \"D2\" (only 2 and 5). `tick0` is\n                ignored for \"D1\" and \"D2\". If the axis `type`\n                is \"date\", then you must convert the time to\n                milliseconds. For example, to set the interval\n                between ticks to one day, set `dtick` to\n                86400000.0. \"date\" also has special values\n                \"M<n>\" gives ticks spaced by a number of\n                months. `n` must be a positive integer. To set\n                ticks on the 15th of every third month, set\n                `tick0` to \"2000-01-15\" and `dtick` to \"M3\". To\n                set ticks every 4 years, set `dtick` to \"M48\"\n            exponentformat\n                Determines a formatting rule for the tick\n                exponents. For example, consider the number\n                1,000,000,000. If \"none\", it appears as\n                1,000,000,000. If \"e\", 1e+9. If \"E\", 1E+9. If\n                \"power\", 1x10^9 (with 9 in a super script). If\n                \"SI\", 1G. If \"B\", 1B.\n            fixedrange\n                Determines whether or not this axis is zoom-\n                able. If true, then zoom is disabled.\n            gridcolor\n                Sets the color of the grid lines.\n            griddash\n                Sets the dash style of lines. Set to a dash\n                type string (\"solid\", \"dot\", \"dash\",\n                \"longdash\", \"dashdot\", or \"longdashdot\") or a\n                dash length list in px (eg \"5px,10px,2px,2px\").\n            gridwidth\n                Sets the width (in px) of the grid lines.\n            hoverformat\n                Sets the hover text formatting rule using d3\n                formatting mini-languages which are very\n                similar to those in Python. For numbers, see: h\n                ttps://github.com/d3/d3-format/tree/v1.4.5#d3-\n                format. And for dates see:\n                https://github.com/d3/d3-time-\n                format/tree/v2.2.3#locale_format. We add two\n                items to d3's date formatter: \"%h\" for half of\n                the year as a decimal number as well as \"%{n}f\"\n                for fractional seconds with n digits. For\n                example, *2016-10-13 09:15:23.456* with\n                tickformat \"%H~%M~%S.%2f\" would display\n                \"09~15~23.46\"\n            insiderange\n                Could be used to set the desired inside range\n                of this axis (excluding the labels) when\n                `ticklabelposition` of the anchored axis has\n                \"inside\". Not implemented for axes with `type`\n                \"log\". This would be ignored when `range` is\n                provided.\n            labelalias\n                Replacement text for specific tick or hover\n                labels. For example using {US: 'USA', CA:\n                'Canada'} changes US to USA and CA to Canada.\n                The labels we would have shown must match the\n                keys exactly, after adding any tickprefix or\n                ticksuffix. For negative numbers the minus sign\n                symbol used (U+2212) is wider than the regular\n                ascii dash. That means you need to use −1\n                instead of -1. labelalias can be used with any\n                axis type, and both keys (if needed) and values\n                (if desired) can include html-like tags or\n                MathJax.\n            layer\n                Sets the layer on which this axis is displayed.\n                If *above traces*, this axis is displayed above\n                all the subplot's traces If *below traces*,\n                this axis is displayed below all the subplot's\n                traces, but above the grid lines. Useful when\n                used together with scatter-like traces with\n                `cliponaxis` set to False to show markers\n                and/or text nodes above this axis.\n            linecolor\n                Sets the axis line color.\n            linewidth\n                Sets the width (in px) of the axis line.\n            matches\n                If set to another axis id (e.g. `x2`, `y`), the\n                range of this axis will match the range of the\n                corresponding axis in data-coordinates space.\n                Moreover, matching axes share auto-range\n                values, category lists and histogram auto-bins.\n                Note that setting axes simultaneously in both a\n                `scaleanchor` and a `matches` constraint is\n                currently forbidden. Moreover, note that\n                matching axes must have the same `type`.\n            maxallowed\n                Determines the maximum range of this axis.\n            minallowed\n                Determines the minimum range of this axis.\n            minexponent\n                Hide SI prefix for 10^n if |n| is below this\n                number. This only has an effect when\n                `tickformat` is \"SI\" or \"B\".\n            minor\n                :class:`plotly.graph_objects.layout.xaxis.Minor\n                ` instance or dict with compatible properties\n            mirror\n                Determines if the axis lines or/and ticks are\n                mirrored to the opposite side of the plotting\n                area. If True, the axis lines are mirrored. If\n                \"ticks\", the axis lines and ticks are mirrored.\n                If False, mirroring is disable. If \"all\", axis\n                lines are mirrored on all shared-axes subplots.\n                If \"allticks\", axis lines and ticks are\n                mirrored on all shared-axes subplots.\n            nticks\n                Specifies the maximum number of ticks for the\n                particular axis. The actual number of ticks\n                will be chosen automatically to be less than or\n                equal to `nticks`. Has an effect only if\n                `tickmode` is set to \"auto\".\n            overlaying\n                If set a same-letter axis id, this axis is\n                overlaid on top of the corresponding same-\n                letter axis, with traces and axes visible for\n                both axes. If False, this axis does not overlay\n                any same-letter axes. In this case, for axes\n                with overlapping domains only the highest-\n                numbered axis will be visible.\n            position\n                Sets the position of this axis in the plotting\n                space (in normalized coordinates). Only has an\n                effect if `anchor` is set to \"free\".\n            range\n                Sets the range of this axis. If the axis `type`\n                is \"log\", then you must take the log of your\n                desired range (e.g. to set the range from 1 to\n                100, set the range from 0 to 2). If the axis\n                `type` is \"date\", it should be date strings,\n                like date data, though Date objects and unix\n                milliseconds will be accepted and converted to\n                strings. If the axis `type` is \"category\", it\n                should be numbers, using the scale where each\n                category is assigned a serial number from zero\n                in the order it appears. Leaving either or both\n                elements `null` impacts the default\n                `autorange`.\n            rangebreaks\n                A tuple of :class:`plotly.graph_objects.layout.\n                xaxis.Rangebreak` instances or dicts with\n                compatible properties\n            rangebreakdefaults\n                When used in a template (as layout.template.lay\n                out.xaxis.rangebreakdefaults), sets the default\n                property values to use for elements of\n                layout.xaxis.rangebreaks\n            rangemode\n                If \"normal\", the range is computed in relation\n                to the extrema of the input data. If *tozero*`,\n                the range extends to 0, regardless of the input\n                data If \"nonnegative\", the range is non-\n                negative, regardless of the input data. Applies\n                only to linear axes.\n            rangeselector\n                :class:`plotly.graph_objects.layout.xaxis.Range\n                selector` instance or dict with compatible\n                properties\n            rangeslider\n                :class:`plotly.graph_objects.layout.xaxis.Range\n                slider` instance or dict with compatible\n                properties\n            scaleanchor\n                If set to another axis id (e.g. `x2`, `y`), the\n                range of this axis changes together with the\n                range of the corresponding axis such that the\n                scale of pixels per unit is in a constant\n                ratio. Both axes are still zoomable, but when\n                you zoom one, the other will zoom the same\n                amount, keeping a fixed midpoint. `constrain`\n                and `constraintoward` determine how we enforce\n                the constraint. You can chain these, ie `yaxis:\n                {scaleanchor: *x*}, xaxis2: {scaleanchor: *y*}`\n                but you can only link axes of the same `type`.\n                The linked axis can have the opposite letter\n                (to constrain the aspect ratio) or the same\n                letter (to match scales across subplots). Loops\n                (`yaxis: {scaleanchor: *x*}, xaxis:\n                {scaleanchor: *y*}` or longer) are redundant\n                and the last constraint encountered will be\n                ignored to avoid possible inconsistent\n                constraints via `scaleratio`. Note that setting\n                axes simultaneously in both a `scaleanchor` and\n                a `matches` constraint is currently forbidden.\n                Setting `false` allows to remove a default\n                constraint (occasionally, you may need to\n                prevent a default `scaleanchor` constraint from\n                being applied, eg. when having an image trace\n                `yaxis: {scaleanchor: \"x\"}` is set\n                automatically in order for pixels to be\n                rendered as squares, setting `yaxis:\n                {scaleanchor: false}` allows to remove the\n                constraint).\n            scaleratio\n                If this axis is linked to another by\n                `scaleanchor`, this determines the pixel to\n                unit scale ratio. For example, if this value is\n                10, then every unit on this axis spans 10 times\n                the number of pixels as a unit on the linked\n                axis. Use this for example to create an\n                elevation profile where the vertical scale is\n                exaggerated a fixed amount with respect to the\n                horizontal.\n            separatethousands\n                If \"true\", even 4-digit integers are separated\n            showdividers\n                Determines whether or not a dividers are drawn\n                between the category levels of this axis. Only\n                has an effect on \"multicategory\" axes.\n            showexponent\n                If \"all\", all exponents are shown besides their\n                significands. If \"first\", only the exponent of\n                the first tick is shown. If \"last\", only the\n                exponent of the last tick is shown. If \"none\",\n                no exponents appear.\n            showgrid\n                Determines whether or not grid lines are drawn.\n                If True, the grid lines are drawn at every tick\n                mark.\n            showline\n                Determines whether or not a line bounding this\n                axis is drawn.\n            showspikes\n                Determines whether or not spikes (aka\n                droplines) are drawn for this axis. Note: This\n                only takes affect when hovermode = closest\n            showticklabels\n                Determines whether or not the tick labels are\n                drawn.\n            showtickprefix\n                If \"all\", all tick labels are displayed with a\n                prefix. If \"first\", only the first tick is\n                displayed with a prefix. If \"last\", only the\n                last tick is displayed with a suffix. If\n                \"none\", tick prefixes are hidden.\n            showticksuffix\n                Same as `showtickprefix` but for tick suffixes.\n            side\n                Determines whether a x (y) axis is positioned\n                at the \"bottom\" (\"left\") or \"top\" (\"right\") of\n                the plotting area.\n            spikecolor\n                Sets the spike color. If undefined, will use\n                the series color\n            spikedash\n                Sets the dash style of lines. Set to a dash\n                type string (\"solid\", \"dot\", \"dash\",\n                \"longdash\", \"dashdot\", or \"longdashdot\") or a\n                dash length list in px (eg \"5px,10px,2px,2px\").\n            spikemode\n                Determines the drawing mode for the spike line\n                If \"toaxis\", the line is drawn from the data\n                point to the axis the  series is plotted on. If\n                \"across\", the line is drawn across the entire\n                plot area, and supercedes \"toaxis\". If\n                \"marker\", then a marker dot is drawn on the\n                axis the series is plotted on\n            spikesnap\n                Determines whether spikelines are stuck to the\n                cursor or to the closest datapoints.\n            spikethickness\n                Sets the width (in px) of the zero line.\n            tick0\n                Sets the placement of the first tick on this\n                axis. Use with `dtick`. If the axis `type` is\n                \"log\", then you must take the log of your\n                starting tick (e.g. to set the starting tick to\n                100, set the `tick0` to 2) except when\n                `dtick`=*L<f>* (see `dtick` for more info). If\n                the axis `type` is \"date\", it should be a date\n                string, like date data. If the axis `type` is\n                \"category\", it should be a number, using the\n                scale where each category is assigned a serial\n                number from zero in the order it appears.\n            tickangle\n                Sets the angle of the tick labels with respect\n                to the horizontal. For example, a `tickangle`\n                of -90 draws the tick labels vertically.\n            tickcolor\n                Sets the tick color.\n            tickfont\n                Sets the tick font.\n            tickformat\n                Sets the tick label formatting rule using d3\n                formatting mini-languages which are very\n                similar to those in Python. For numbers, see: h\n                ttps://github.com/d3/d3-format/tree/v1.4.5#d3-\n                format. And for dates see:\n                https://github.com/d3/d3-time-\n                format/tree/v2.2.3#locale_format. We add two\n                items to d3's date formatter: \"%h\" for half of\n                the year as a decimal number as well as \"%{n}f\"\n                for fractional seconds with n digits. For\n                example, *2016-10-13 09:15:23.456* with\n                tickformat \"%H~%M~%S.%2f\" would display\n                \"09~15~23.46\"\n            tickformatstops\n                A tuple of :class:`plotly.graph_objects.layout.\n                xaxis.Tickformatstop` instances or dicts with\n                compatible properties\n            tickformatstopdefaults\n                When used in a template (as layout.template.lay\n                out.xaxis.tickformatstopdefaults), sets the\n                default property values to use for elements of\n                layout.xaxis.tickformatstops\n            ticklabelindex\n                Only for axes with `type` \"date\" or \"linear\".\n                Instead of drawing the major tick label, draw\n                the label for the minor tick that is n\n                positions away from the major tick. E.g. to\n                always draw the label for the minor tick before\n                each major tick, choose `ticklabelindex` -1.\n                This is useful for date axes with\n                `ticklabelmode` \"period\" if you want to label\n                the period that ends with each major tick\n                instead of the period that begins there.\n            ticklabelindexsrc\n                Sets the source reference on Chart Studio Cloud\n                for `ticklabelindex`.\n            ticklabelmode\n                Determines where tick labels are drawn with\n                respect to their corresponding ticks and grid\n                lines. Only has an effect for axes of `type`\n                \"date\" When set to \"period\", tick labels are\n                drawn in the middle of the period between\n                ticks.\n            ticklabeloverflow\n                Determines how we handle tick labels that would\n                overflow either the graph div or the domain of\n                the axis. The default value for inside tick\n                labels is *hide past domain*. Otherwise on\n                \"category\" and \"multicategory\" axes the default\n                is \"allow\". In other cases the default is *hide\n                past div*.\n            ticklabelposition\n                Determines where tick labels are drawn with\n                respect to the axis Please note that top or\n                bottom has no effect on x axes or when\n                `ticklabelmode` is set to \"period\". Similarly\n                left or right has no effect on y axes or when\n                `ticklabelmode` is set to \"period\". Has no\n                effect on \"multicategory\" axes or when\n                `tickson` is set to \"boundaries\". When used on\n                axes linked by `matches` or `scaleanchor`, no\n                extra padding for inside labels would be added\n                by autorange, so that the scales could match.\n            ticklabelshift\n                Shifts the tick labels by the specified number\n                of pixels in parallel to the axis. Positive\n                values move the labels in the positive\n                direction of the axis.\n            ticklabelstandoff\n                Sets the standoff distance (in px) between the\n                axis tick labels and their default position. A\n                positive `ticklabelstandoff` moves the labels\n                farther away from the plot area if\n                `ticklabelposition` is \"outside\", and deeper\n                into the plot area if `ticklabelposition` is\n                \"inside\". A negative `ticklabelstandoff` works\n                in the opposite direction, moving outside ticks\n                towards the plot area and inside ticks towards\n                the outside. If the negative value is large\n                enough, inside ticks can even end up outside\n                and vice versa.\n            ticklabelstep\n                Sets the spacing between tick labels as\n                compared to the spacing between ticks. A value\n                of 1 (default) means each tick gets a label. A\n                value of 2 means shows every 2nd label. A\n                larger value n means only every nth tick is\n                labeled. `tick0` determines which labels are\n                shown. Not implemented for axes with `type`\n                \"log\" or \"multicategory\", or when `tickmode` is\n                \"array\".\n            ticklen\n                Sets the tick length (in px).\n            tickmode\n                Sets the tick mode for this axis. If \"auto\",\n                the number of ticks is set via `nticks`. If\n                \"linear\", the placement of the ticks is\n                determined by a starting position `tick0` and a\n                tick step `dtick` (\"linear\" is the default\n                value if `tick0` and `dtick` are provided). If\n                \"array\", the placement of the ticks is set via\n                `tickvals` and the tick text is `ticktext`.\n                (\"array\" is the default value if `tickvals` is\n                provided). If \"sync\", the number of ticks will\n                sync with the overlayed axis set by\n                `overlaying` property.\n            tickprefix\n                Sets a tick label prefix.\n            ticks\n                Determines whether ticks are drawn or not. If\n                \"\", this axis' ticks are not drawn. If\n                \"outside\" (\"inside\"), this axis' are drawn\n                outside (inside) the axis lines.\n            tickson\n                Determines where ticks and grid lines are drawn\n                with respect to their corresponding tick\n                labels. Only has an effect for axes of `type`\n                \"category\" or \"multicategory\". When set to\n                \"boundaries\", ticks and grid lines are drawn\n                half a category to the left/bottom of labels.\n            ticksuffix\n                Sets a tick label suffix.\n            ticktext\n                Sets the text displayed at the ticks position\n                via `tickvals`. Only has an effect if\n                `tickmode` is set to \"array\". Used with\n                `tickvals`.\n            ticktextsrc\n                Sets the source reference on Chart Studio Cloud\n                for `ticktext`.\n            tickvals\n                Sets the values at which ticks on this axis\n                appear. Only has an effect if `tickmode` is set\n                to \"array\". Used with `ticktext`.\n            tickvalssrc\n                Sets the source reference on Chart Studio Cloud\n                for `tickvals`.\n            tickwidth\n                Sets the tick width (in px).\n            title\n                :class:`plotly.graph_objects.layout.xaxis.Title\n                ` instance or dict with compatible properties\n            titlefont\n                Deprecated: Please use layout.xaxis.title.font\n                instead. Sets this axis' title font. Note that\n                the title's font used to be customized by the\n                now deprecated `titlefont` attribute.\n            type\n                Sets the axis type. By default, plotly attempts\n                to determined the axis type by looking into the\n                data of the traces that referenced the axis in\n                question.\n            uirevision\n                Controls persistence of user-driven changes in\n                axis `range`, `autorange`, and `title` if in\n                `editable: true` configuration. Defaults to\n                `layout.uirevision`.\n            visible\n                A single toggle to hide the axis while\n                preserving interaction like dragging. Default\n                is true when a cheater plot is present on the\n                axis, otherwise false\n            zeroline\n                Determines whether or not a line is drawn at\n                along the 0 value of this axis. If True, the\n                zero line is drawn on top of the grid lines.\n            zerolinecolor\n                Sets the line color of the zero line.\n            zerolinewidth\n                Sets the width (in px) of the zero line.\n",
     "output_type": "error",
     "traceback": [
      "\u001b[0;31m---------------------------------------------------------------------------\u001b[0m",
      "\u001b[0;31mValueError\u001b[0m                                Traceback (most recent call last)",
      "\u001b[1;32m/Users/axelmorin/Library/Mobile Documents/com~apple~CloudDocs/Axel_tout/Professionnel/Stages/TFE/CREST/workdirectory/Genre/dataVis/crest-first/scripts/notebooks/dataPlotting.ipynb Cell 10\u001b[0m line \u001b[0;36m1\n\u001b[0;32m----> <a href='vscode-notebook-cell:/Users/axelmorin/Library/Mobile%20Documents/com~apple~CloudDocs/Axel_tout/Professionnel/Stages/TFE/CREST/workdirectory/Genre/dataVis/crest-first/scripts/notebooks/dataPlotting.ipynb#X20sZmlsZQ%3D%3D?line=0'>1</a>\u001b[0m fig\u001b[39m.\u001b[39;49mupdate_layout(\n\u001b[1;32m      <a href='vscode-notebook-cell:/Users/axelmorin/Library/Mobile%20Documents/com~apple~CloudDocs/Axel_tout/Professionnel/Stages/TFE/CREST/workdirectory/Genre/dataVis/crest-first/scripts/notebooks/dataPlotting.ipynb#X20sZmlsZQ%3D%3D?line=1'>2</a>\u001b[0m     xaxis \u001b[39m=\u001b[39;49m \u001b[39m'\u001b[39;49m\u001b[39mAnnée de publication\u001b[39;49m\u001b[39m'\u001b[39;49m,\n\u001b[1;32m      <a href='vscode-notebook-cell:/Users/axelmorin/Library/Mobile%20Documents/com~apple~CloudDocs/Axel_tout/Professionnel/Stages/TFE/CREST/workdirectory/Genre/dataVis/crest-first/scripts/notebooks/dataPlotting.ipynb#X20sZmlsZQ%3D%3D?line=2'>3</a>\u001b[0m     overwrite \u001b[39m=\u001b[39;49m \u001b[39mTrue\u001b[39;49;00m\n\u001b[1;32m      <a href='vscode-notebook-cell:/Users/axelmorin/Library/Mobile%20Documents/com~apple~CloudDocs/Axel_tout/Professionnel/Stages/TFE/CREST/workdirectory/Genre/dataVis/crest-first/scripts/notebooks/dataPlotting.ipynb#X20sZmlsZQ%3D%3D?line=3'>4</a>\u001b[0m )\n",
      "File \u001b[0;32m/opt/miniconda3/envs/CREST/lib/python3.12/site-packages/plotly/graph_objs/_figure.py:792\u001b[0m, in \u001b[0;36mFigure.update_layout\u001b[0;34m(self, dict1, overwrite, **kwargs)\u001b[0m\n\u001b[1;32m    766\u001b[0m \u001b[39mdef\u001b[39;00m \u001b[39mupdate_layout\u001b[39m(\u001b[39mself\u001b[39m, dict1\u001b[39m=\u001b[39m\u001b[39mNone\u001b[39;00m, overwrite\u001b[39m=\u001b[39m\u001b[39mFalse\u001b[39;00m, \u001b[39m*\u001b[39m\u001b[39m*\u001b[39mkwargs) \u001b[39m-\u001b[39m\u001b[39m>\u001b[39m \u001b[39m\"\u001b[39m\u001b[39mFigure\u001b[39m\u001b[39m\"\u001b[39m:\n\u001b[1;32m    767\u001b[0m \u001b[39m    \u001b[39m\u001b[39m\"\"\"\u001b[39;00m\n\u001b[1;32m    768\u001b[0m \n\u001b[1;32m    769\u001b[0m \u001b[39m    Update the properties of the figure's layout with a dict and/or with\u001b[39;00m\n\u001b[0;32m   (...)\u001b[0m\n\u001b[1;32m    790\u001b[0m \n\u001b[1;32m    791\u001b[0m \u001b[39m    \"\"\"\u001b[39;00m\n\u001b[0;32m--> 792\u001b[0m     \u001b[39mreturn\u001b[39;00m \u001b[39msuper\u001b[39;49m(Figure, \u001b[39mself\u001b[39;49m)\u001b[39m.\u001b[39;49mupdate_layout(dict1, overwrite, \u001b[39m*\u001b[39;49m\u001b[39m*\u001b[39;49mkwargs)\n",
      "File \u001b[0;32m/opt/miniconda3/envs/CREST/lib/python3.12/site-packages/plotly/basedatatypes.py:1391\u001b[0m, in \u001b[0;36mBaseFigure.update_layout\u001b[0;34m(self, dict1, overwrite, **kwargs)\u001b[0m\n\u001b[1;32m   1367\u001b[0m \u001b[39mdef\u001b[39;00m \u001b[39mupdate_layout\u001b[39m(\u001b[39mself\u001b[39m, dict1\u001b[39m=\u001b[39m\u001b[39mNone\u001b[39;00m, overwrite\u001b[39m=\u001b[39m\u001b[39mFalse\u001b[39;00m, \u001b[39m*\u001b[39m\u001b[39m*\u001b[39mkwargs):\n\u001b[1;32m   1368\u001b[0m \u001b[39m    \u001b[39m\u001b[39m\"\"\"\u001b[39;00m\n\u001b[1;32m   1369\u001b[0m \u001b[39m    Update the properties of the figure's layout with a dict and/or with\u001b[39;00m\n\u001b[1;32m   1370\u001b[0m \u001b[39m    keyword arguments.\u001b[39;00m\n\u001b[0;32m   (...)\u001b[0m\n\u001b[1;32m   1389\u001b[0m \u001b[39m        The Figure object that the update_layout method was called on\u001b[39;00m\n\u001b[1;32m   1390\u001b[0m \u001b[39m    \"\"\"\u001b[39;00m\n\u001b[0;32m-> 1391\u001b[0m     \u001b[39mself\u001b[39;49m\u001b[39m.\u001b[39;49mlayout\u001b[39m.\u001b[39;49mupdate(dict1, overwrite\u001b[39m=\u001b[39;49moverwrite, \u001b[39m*\u001b[39;49m\u001b[39m*\u001b[39;49mkwargs)\n\u001b[1;32m   1392\u001b[0m     \u001b[39mreturn\u001b[39;00m \u001b[39mself\u001b[39m\n",
      "File \u001b[0;32m/opt/miniconda3/envs/CREST/lib/python3.12/site-packages/plotly/basedatatypes.py:5131\u001b[0m, in \u001b[0;36mBasePlotlyType.update\u001b[0;34m(self, dict1, overwrite, **kwargs)\u001b[0m\n\u001b[1;32m   5129\u001b[0m     \u001b[39mwith\u001b[39;00m \u001b[39mself\u001b[39m\u001b[39m.\u001b[39mfigure\u001b[39m.\u001b[39mbatch_update():\n\u001b[1;32m   5130\u001b[0m         BaseFigure\u001b[39m.\u001b[39m_perform_update(\u001b[39mself\u001b[39m, dict1, overwrite\u001b[39m=\u001b[39moverwrite)\n\u001b[0;32m-> 5131\u001b[0m         BaseFigure\u001b[39m.\u001b[39;49m_perform_update(\u001b[39mself\u001b[39;49m, kwargs, overwrite\u001b[39m=\u001b[39;49moverwrite)\n\u001b[1;32m   5132\u001b[0m \u001b[39melse\u001b[39;00m:\n\u001b[1;32m   5133\u001b[0m     BaseFigure\u001b[39m.\u001b[39m_perform_update(\u001b[39mself\u001b[39m, dict1, overwrite\u001b[39m=\u001b[39moverwrite)\n",
      "File \u001b[0;32m/opt/miniconda3/envs/CREST/lib/python3.12/site-packages/plotly/basedatatypes.py:3904\u001b[0m, in \u001b[0;36mBaseFigure._perform_update\u001b[0;34m(plotly_obj, update_obj, overwrite)\u001b[0m\n\u001b[1;32m   3900\u001b[0m val \u001b[39m=\u001b[39m update_obj[key]\n\u001b[1;32m   3902\u001b[0m \u001b[39mif\u001b[39;00m overwrite:\n\u001b[1;32m   3903\u001b[0m     \u001b[39m# Don't recurse and assign property as-is\u001b[39;00m\n\u001b[0;32m-> 3904\u001b[0m     plotly_obj[key] \u001b[39m=\u001b[39m val\n\u001b[1;32m   3905\u001b[0m     \u001b[39mcontinue\u001b[39;00m\n\u001b[1;32m   3907\u001b[0m validator \u001b[39m=\u001b[39m plotly_obj\u001b[39m.\u001b[39m_get_prop_validator(key)\n",
      "File \u001b[0;32m/opt/miniconda3/envs/CREST/lib/python3.12/site-packages/plotly/basedatatypes.py:5906\u001b[0m, in \u001b[0;36mBaseLayoutType.__setitem__\u001b[0;34m(self, prop, value)\u001b[0m\n\u001b[1;32m   5903\u001b[0m match \u001b[39m=\u001b[39m \u001b[39mself\u001b[39m\u001b[39m.\u001b[39m_subplot_re_match(prop)\n\u001b[1;32m   5904\u001b[0m \u001b[39mif\u001b[39;00m match \u001b[39mis\u001b[39;00m \u001b[39mNone\u001b[39;00m:\n\u001b[1;32m   5905\u001b[0m     \u001b[39m# Set as ordinary property\u001b[39;00m\n\u001b[0;32m-> 5906\u001b[0m     \u001b[39msuper\u001b[39;49m(BaseLayoutHierarchyType, \u001b[39mself\u001b[39;49m)\u001b[39m.\u001b[39;49m\u001b[39m__setitem__\u001b[39;49m(prop, value)\n\u001b[1;32m   5907\u001b[0m \u001b[39melse\u001b[39;00m:\n\u001b[1;32m   5908\u001b[0m     \u001b[39m# Set as subplotid property\u001b[39;00m\n\u001b[1;32m   5909\u001b[0m     \u001b[39mself\u001b[39m\u001b[39m.\u001b[39m_set_subplotid_prop(prop, value)\n",
      "File \u001b[0;32m/opt/miniconda3/envs/CREST/lib/python3.12/site-packages/plotly/basedatatypes.py:4860\u001b[0m, in \u001b[0;36mBasePlotlyType.__setitem__\u001b[0;34m(self, prop, value)\u001b[0m\n\u001b[1;32m   4858\u001b[0m \u001b[39m# ### Handle compound property ###\u001b[39;00m\n\u001b[1;32m   4859\u001b[0m \u001b[39mif\u001b[39;00m \u001b[39misinstance\u001b[39m(validator, CompoundValidator):\n\u001b[0;32m-> 4860\u001b[0m     \u001b[39mself\u001b[39;49m\u001b[39m.\u001b[39;49m_set_compound_prop(prop, value)\n\u001b[1;32m   4862\u001b[0m \u001b[39m# ### Handle compound array property ###\u001b[39;00m\n\u001b[1;32m   4863\u001b[0m \u001b[39melif\u001b[39;00m \u001b[39misinstance\u001b[39m(validator, (CompoundArrayValidator, BaseDataValidator)):\n",
      "File \u001b[0;32m/opt/miniconda3/envs/CREST/lib/python3.12/site-packages/plotly/basedatatypes.py:5271\u001b[0m, in \u001b[0;36mBasePlotlyType._set_compound_prop\u001b[0;34m(self, prop, val)\u001b[0m\n\u001b[1;32m   5268\u001b[0m \u001b[39m# Import value\u001b[39;00m\n\u001b[1;32m   5269\u001b[0m \u001b[39m# ------------\u001b[39;00m\n\u001b[1;32m   5270\u001b[0m validator \u001b[39m=\u001b[39m \u001b[39mself\u001b[39m\u001b[39m.\u001b[39m_get_validator(prop)\n\u001b[0;32m-> 5271\u001b[0m val \u001b[39m=\u001b[39m validator\u001b[39m.\u001b[39;49mvalidate_coerce(val, skip_invalid\u001b[39m=\u001b[39;49m\u001b[39mself\u001b[39;49m\u001b[39m.\u001b[39;49m_skip_invalid)\n\u001b[1;32m   5273\u001b[0m \u001b[39m# Save deep copies of current and new states\u001b[39;00m\n\u001b[1;32m   5274\u001b[0m \u001b[39m# ------------------------------------------\u001b[39;00m\n\u001b[1;32m   5275\u001b[0m curr_val \u001b[39m=\u001b[39m \u001b[39mself\u001b[39m\u001b[39m.\u001b[39m_compound_props\u001b[39m.\u001b[39mget(prop, \u001b[39mNone\u001b[39;00m)\n",
      "File \u001b[0;32m/opt/miniconda3/envs/CREST/lib/python3.12/site-packages/_plotly_utils/basevalidators.py:2521\u001b[0m, in \u001b[0;36mCompoundValidator.validate_coerce\u001b[0;34m(self, v, skip_invalid, _validate)\u001b[0m\n\u001b[1;32m   2519\u001b[0m         v \u001b[39m=\u001b[39m \u001b[39mself\u001b[39m\u001b[39m.\u001b[39mdata_class()\n\u001b[1;32m   2520\u001b[0m     \u001b[39melse\u001b[39;00m:\n\u001b[0;32m-> 2521\u001b[0m         \u001b[39mself\u001b[39;49m\u001b[39m.\u001b[39;49mraise_invalid_val(v)\n\u001b[1;32m   2523\u001b[0m v\u001b[39m.\u001b[39m_plotly_name \u001b[39m=\u001b[39m \u001b[39mself\u001b[39m\u001b[39m.\u001b[39mplotly_name\n\u001b[1;32m   2524\u001b[0m \u001b[39mreturn\u001b[39;00m v\n",
      "File \u001b[0;32m/opt/miniconda3/envs/CREST/lib/python3.12/site-packages/_plotly_utils/basevalidators.py:296\u001b[0m, in \u001b[0;36mBaseValidator.raise_invalid_val\u001b[0;34m(self, v, inds)\u001b[0m\n\u001b[1;32m    293\u001b[0m             \u001b[39mfor\u001b[39;00m i \u001b[39min\u001b[39;00m inds:\n\u001b[1;32m    294\u001b[0m                 name \u001b[39m+\u001b[39m\u001b[39m=\u001b[39m \u001b[39m\"\u001b[39m\u001b[39m[\u001b[39m\u001b[39m\"\u001b[39m \u001b[39m+\u001b[39m \u001b[39mstr\u001b[39m(i) \u001b[39m+\u001b[39m \u001b[39m\"\u001b[39m\u001b[39m]\u001b[39m\u001b[39m\"\u001b[39m\n\u001b[0;32m--> 296\u001b[0m         \u001b[39mraise\u001b[39;00m \u001b[39mValueError\u001b[39;00m(\n\u001b[1;32m    297\u001b[0m \u001b[39m            \u001b[39m\u001b[39m\"\"\"\u001b[39;00m\n\u001b[1;32m    298\u001b[0m \u001b[39m    Invalid value of type {typ} received for the '{name}' property of {pname}\u001b[39;00m\n\u001b[1;32m    299\u001b[0m \u001b[39m        Received value: {v}\u001b[39;00m\n\u001b[1;32m    300\u001b[0m \n\u001b[1;32m    301\u001b[0m \u001b[39m{valid_clr_desc}\"\"\"\u001b[39;00m\u001b[39m.\u001b[39mformat(\n\u001b[1;32m    302\u001b[0m                 name\u001b[39m=\u001b[39mname,\n\u001b[1;32m    303\u001b[0m                 pname\u001b[39m=\u001b[39m\u001b[39mself\u001b[39m\u001b[39m.\u001b[39mparent_name,\n\u001b[1;32m    304\u001b[0m                 typ\u001b[39m=\u001b[39mtype_str(v),\n\u001b[1;32m    305\u001b[0m                 v\u001b[39m=\u001b[39m\u001b[39mrepr\u001b[39m(v),\n\u001b[1;32m    306\u001b[0m                 valid_clr_desc\u001b[39m=\u001b[39m\u001b[39mself\u001b[39m\u001b[39m.\u001b[39mdescription(),\n\u001b[1;32m    307\u001b[0m             )\n\u001b[1;32m    308\u001b[0m         )\n",
      "\u001b[0;31mValueError\u001b[0m: \n    Invalid value of type 'builtins.str' received for the 'xaxis' property of layout\n        Received value: 'Année de publication'\n\n    The 'xaxis' property is an instance of XAxis\n    that may be specified as:\n      - An instance of :class:`plotly.graph_objs.layout.XAxis`\n      - A dict of string/value properties that will be passed\n        to the XAxis constructor\n\n        Supported dict properties:\n            \n            anchor\n                If set to an opposite-letter axis id (e.g.\n                `x2`, `y`), this axis is bound to the\n                corresponding opposite-letter axis. If set to\n                \"free\", this axis' position is determined by\n                `position`.\n            automargin\n                Determines whether long tick labels\n                automatically grow the figure margins.\n            autorange\n                Determines whether or not the range of this\n                axis is computed in relation to the input data.\n                See `rangemode` for more info. If `range` is\n                provided and it has a value for both the lower\n                and upper bound, `autorange` is set to False.\n                Using \"min\" applies autorange only to set the\n                minimum. Using \"max\" applies autorange only to\n                set the maximum. Using *min reversed* applies\n                autorange only to set the minimum on a reversed\n                axis. Using *max reversed* applies autorange\n                only to set the maximum on a reversed axis.\n                Using \"reversed\" applies autorange on both ends\n                and reverses the axis direction.\n            autorangeoptions\n                :class:`plotly.graph_objects.layout.xaxis.Autor\n                angeoptions` instance or dict with compatible\n                properties\n            autotickangles\n                When `tickangle` is set to \"auto\", it will be\n                set to the first angle in this array that is\n                large enough to prevent label overlap.\n            autotypenumbers\n                Using \"strict\" a numeric string in trace data\n                is not converted to a number. Using *convert\n                types* a numeric string in trace data may be\n                treated as a number during automatic axis\n                `type` detection. Defaults to\n                layout.autotypenumbers.\n            calendar\n                Sets the calendar system to use for `range` and\n                `tick0` if this is a date axis. This does not\n                set the calendar for interpreting data on this\n                axis, that's specified in the trace or via the\n                global `layout.calendar`\n            categoryarray\n                Sets the order in which categories on this axis\n                appear. Only has an effect if `categoryorder`\n                is set to \"array\". Used with `categoryorder`.\n            categoryarraysrc\n                Sets the source reference on Chart Studio Cloud\n                for `categoryarray`.\n            categoryorder\n                Specifies the ordering logic for the case of\n                categorical variables. By default, plotly uses\n                \"trace\", which specifies the order that is\n                present in the data supplied. Set\n                `categoryorder` to *category ascending* or\n                *category descending* if order should be\n                determined by the alphanumerical order of the\n                category names. Set `categoryorder` to \"array\"\n                to derive the ordering from the attribute\n                `categoryarray`. If a category is not found in\n                the `categoryarray` array, the sorting behavior\n                for that attribute will be identical to the\n                \"trace\" mode. The unspecified categories will\n                follow the categories in `categoryarray`. Set\n                `categoryorder` to *total ascending* or *total\n                descending* if order should be determined by\n                the numerical order of the values. Similarly,\n                the order can be determined by the min, max,\n                sum, mean, geometric mean or median of all the\n                values.\n            color\n                Sets default for all colors associated with\n                this axis all at once: line, font, tick, and\n                grid colors. Grid color is lightened by\n                blending this with the plot background\n                Individual pieces can override this.\n            constrain\n                If this axis needs to be compressed (either due\n                to its own `scaleanchor` and `scaleratio` or\n                those of the other axis), determines how that\n                happens: by increasing the \"range\", or by\n                decreasing the \"domain\". Default is \"domain\"\n                for axes containing image traces, \"range\"\n                otherwise.\n            constraintoward\n                If this axis needs to be compressed (either due\n                to its own `scaleanchor` and `scaleratio` or\n                those of the other axis), determines which\n                direction we push the originally specified plot\n                area. Options are \"left\", \"center\" (default),\n                and \"right\" for x axes, and \"top\", \"middle\"\n                (default), and \"bottom\" for y axes.\n            dividercolor\n                Sets the color of the dividers Only has an\n                effect on \"multicategory\" axes.\n            dividerwidth\n                Sets the width (in px) of the dividers Only has\n                an effect on \"multicategory\" axes.\n            domain\n                Sets the domain of this axis (in plot\n                fraction).\n            dtick\n                Sets the step in-between ticks on this axis.\n                Use with `tick0`. Must be a positive number, or\n                special strings available to \"log\" and \"date\"\n                axes. If the axis `type` is \"log\", then ticks\n                are set every 10^(n*dtick) where n is the tick\n                number. For example, to set a tick mark at 1,\n                10, 100, 1000, ... set dtick to 1. To set tick\n                marks at 1, 100, 10000, ... set dtick to 2. To\n                set tick marks at 1, 5, 25, 125, 625, 3125, ...\n                set dtick to log_10(5), or 0.69897000433. \"log\"\n                has several special values; \"L<f>\", where `f`\n                is a positive number, gives ticks linearly\n                spaced in value (but not position). For example\n                `tick0` = 0.1, `dtick` = \"L0.5\" will put ticks\n                at 0.1, 0.6, 1.1, 1.6 etc. To show powers of 10\n                plus small digits between, use \"D1\" (all\n                digits) or \"D2\" (only 2 and 5). `tick0` is\n                ignored for \"D1\" and \"D2\". If the axis `type`\n                is \"date\", then you must convert the time to\n                milliseconds. For example, to set the interval\n                between ticks to one day, set `dtick` to\n                86400000.0. \"date\" also has special values\n                \"M<n>\" gives ticks spaced by a number of\n                months. `n` must be a positive integer. To set\n                ticks on the 15th of every third month, set\n                `tick0` to \"2000-01-15\" and `dtick` to \"M3\". To\n                set ticks every 4 years, set `dtick` to \"M48\"\n            exponentformat\n                Determines a formatting rule for the tick\n                exponents. For example, consider the number\n                1,000,000,000. If \"none\", it appears as\n                1,000,000,000. If \"e\", 1e+9. If \"E\", 1E+9. If\n                \"power\", 1x10^9 (with 9 in a super script). If\n                \"SI\", 1G. If \"B\", 1B.\n            fixedrange\n                Determines whether or not this axis is zoom-\n                able. If true, then zoom is disabled.\n            gridcolor\n                Sets the color of the grid lines.\n            griddash\n                Sets the dash style of lines. Set to a dash\n                type string (\"solid\", \"dot\", \"dash\",\n                \"longdash\", \"dashdot\", or \"longdashdot\") or a\n                dash length list in px (eg \"5px,10px,2px,2px\").\n            gridwidth\n                Sets the width (in px) of the grid lines.\n            hoverformat\n                Sets the hover text formatting rule using d3\n                formatting mini-languages which are very\n                similar to those in Python. For numbers, see: h\n                ttps://github.com/d3/d3-format/tree/v1.4.5#d3-\n                format. And for dates see:\n                https://github.com/d3/d3-time-\n                format/tree/v2.2.3#locale_format. We add two\n                items to d3's date formatter: \"%h\" for half of\n                the year as a decimal number as well as \"%{n}f\"\n                for fractional seconds with n digits. For\n                example, *2016-10-13 09:15:23.456* with\n                tickformat \"%H~%M~%S.%2f\" would display\n                \"09~15~23.46\"\n            insiderange\n                Could be used to set the desired inside range\n                of this axis (excluding the labels) when\n                `ticklabelposition` of the anchored axis has\n                \"inside\". Not implemented for axes with `type`\n                \"log\". This would be ignored when `range` is\n                provided.\n            labelalias\n                Replacement text for specific tick or hover\n                labels. For example using {US: 'USA', CA:\n                'Canada'} changes US to USA and CA to Canada.\n                The labels we would have shown must match the\n                keys exactly, after adding any tickprefix or\n                ticksuffix. For negative numbers the minus sign\n                symbol used (U+2212) is wider than the regular\n                ascii dash. That means you need to use −1\n                instead of -1. labelalias can be used with any\n                axis type, and both keys (if needed) and values\n                (if desired) can include html-like tags or\n                MathJax.\n            layer\n                Sets the layer on which this axis is displayed.\n                If *above traces*, this axis is displayed above\n                all the subplot's traces If *below traces*,\n                this axis is displayed below all the subplot's\n                traces, but above the grid lines. Useful when\n                used together with scatter-like traces with\n                `cliponaxis` set to False to show markers\n                and/or text nodes above this axis.\n            linecolor\n                Sets the axis line color.\n            linewidth\n                Sets the width (in px) of the axis line.\n            matches\n                If set to another axis id (e.g. `x2`, `y`), the\n                range of this axis will match the range of the\n                corresponding axis in data-coordinates space.\n                Moreover, matching axes share auto-range\n                values, category lists and histogram auto-bins.\n                Note that setting axes simultaneously in both a\n                `scaleanchor` and a `matches` constraint is\n                currently forbidden. Moreover, note that\n                matching axes must have the same `type`.\n            maxallowed\n                Determines the maximum range of this axis.\n            minallowed\n                Determines the minimum range of this axis.\n            minexponent\n                Hide SI prefix for 10^n if |n| is below this\n                number. This only has an effect when\n                `tickformat` is \"SI\" or \"B\".\n            minor\n                :class:`plotly.graph_objects.layout.xaxis.Minor\n                ` instance or dict with compatible properties\n            mirror\n                Determines if the axis lines or/and ticks are\n                mirrored to the opposite side of the plotting\n                area. If True, the axis lines are mirrored. If\n                \"ticks\", the axis lines and ticks are mirrored.\n                If False, mirroring is disable. If \"all\", axis\n                lines are mirrored on all shared-axes subplots.\n                If \"allticks\", axis lines and ticks are\n                mirrored on all shared-axes subplots.\n            nticks\n                Specifies the maximum number of ticks for the\n                particular axis. The actual number of ticks\n                will be chosen automatically to be less than or\n                equal to `nticks`. Has an effect only if\n                `tickmode` is set to \"auto\".\n            overlaying\n                If set a same-letter axis id, this axis is\n                overlaid on top of the corresponding same-\n                letter axis, with traces and axes visible for\n                both axes. If False, this axis does not overlay\n                any same-letter axes. In this case, for axes\n                with overlapping domains only the highest-\n                numbered axis will be visible.\n            position\n                Sets the position of this axis in the plotting\n                space (in normalized coordinates). Only has an\n                effect if `anchor` is set to \"free\".\n            range\n                Sets the range of this axis. If the axis `type`\n                is \"log\", then you must take the log of your\n                desired range (e.g. to set the range from 1 to\n                100, set the range from 0 to 2). If the axis\n                `type` is \"date\", it should be date strings,\n                like date data, though Date objects and unix\n                milliseconds will be accepted and converted to\n                strings. If the axis `type` is \"category\", it\n                should be numbers, using the scale where each\n                category is assigned a serial number from zero\n                in the order it appears. Leaving either or both\n                elements `null` impacts the default\n                `autorange`.\n            rangebreaks\n                A tuple of :class:`plotly.graph_objects.layout.\n                xaxis.Rangebreak` instances or dicts with\n                compatible properties\n            rangebreakdefaults\n                When used in a template (as layout.template.lay\n                out.xaxis.rangebreakdefaults), sets the default\n                property values to use for elements of\n                layout.xaxis.rangebreaks\n            rangemode\n                If \"normal\", the range is computed in relation\n                to the extrema of the input data. If *tozero*`,\n                the range extends to 0, regardless of the input\n                data If \"nonnegative\", the range is non-\n                negative, regardless of the input data. Applies\n                only to linear axes.\n            rangeselector\n                :class:`plotly.graph_objects.layout.xaxis.Range\n                selector` instance or dict with compatible\n                properties\n            rangeslider\n                :class:`plotly.graph_objects.layout.xaxis.Range\n                slider` instance or dict with compatible\n                properties\n            scaleanchor\n                If set to another axis id (e.g. `x2`, `y`), the\n                range of this axis changes together with the\n                range of the corresponding axis such that the\n                scale of pixels per unit is in a constant\n                ratio. Both axes are still zoomable, but when\n                you zoom one, the other will zoom the same\n                amount, keeping a fixed midpoint. `constrain`\n                and `constraintoward` determine how we enforce\n                the constraint. You can chain these, ie `yaxis:\n                {scaleanchor: *x*}, xaxis2: {scaleanchor: *y*}`\n                but you can only link axes of the same `type`.\n                The linked axis can have the opposite letter\n                (to constrain the aspect ratio) or the same\n                letter (to match scales across subplots). Loops\n                (`yaxis: {scaleanchor: *x*}, xaxis:\n                {scaleanchor: *y*}` or longer) are redundant\n                and the last constraint encountered will be\n                ignored to avoid possible inconsistent\n                constraints via `scaleratio`. Note that setting\n                axes simultaneously in both a `scaleanchor` and\n                a `matches` constraint is currently forbidden.\n                Setting `false` allows to remove a default\n                constraint (occasionally, you may need to\n                prevent a default `scaleanchor` constraint from\n                being applied, eg. when having an image trace\n                `yaxis: {scaleanchor: \"x\"}` is set\n                automatically in order for pixels to be\n                rendered as squares, setting `yaxis:\n                {scaleanchor: false}` allows to remove the\n                constraint).\n            scaleratio\n                If this axis is linked to another by\n                `scaleanchor`, this determines the pixel to\n                unit scale ratio. For example, if this value is\n                10, then every unit on this axis spans 10 times\n                the number of pixels as a unit on the linked\n                axis. Use this for example to create an\n                elevation profile where the vertical scale is\n                exaggerated a fixed amount with respect to the\n                horizontal.\n            separatethousands\n                If \"true\", even 4-digit integers are separated\n            showdividers\n                Determines whether or not a dividers are drawn\n                between the category levels of this axis. Only\n                has an effect on \"multicategory\" axes.\n            showexponent\n                If \"all\", all exponents are shown besides their\n                significands. If \"first\", only the exponent of\n                the first tick is shown. If \"last\", only the\n                exponent of the last tick is shown. If \"none\",\n                no exponents appear.\n            showgrid\n                Determines whether or not grid lines are drawn.\n                If True, the grid lines are drawn at every tick\n                mark.\n            showline\n                Determines whether or not a line bounding this\n                axis is drawn.\n            showspikes\n                Determines whether or not spikes (aka\n                droplines) are drawn for this axis. Note: This\n                only takes affect when hovermode = closest\n            showticklabels\n                Determines whether or not the tick labels are\n                drawn.\n            showtickprefix\n                If \"all\", all tick labels are displayed with a\n                prefix. If \"first\", only the first tick is\n                displayed with a prefix. If \"last\", only the\n                last tick is displayed with a suffix. If\n                \"none\", tick prefixes are hidden.\n            showticksuffix\n                Same as `showtickprefix` but for tick suffixes.\n            side\n                Determines whether a x (y) axis is positioned\n                at the \"bottom\" (\"left\") or \"top\" (\"right\") of\n                the plotting area.\n            spikecolor\n                Sets the spike color. If undefined, will use\n                the series color\n            spikedash\n                Sets the dash style of lines. Set to a dash\n                type string (\"solid\", \"dot\", \"dash\",\n                \"longdash\", \"dashdot\", or \"longdashdot\") or a\n                dash length list in px (eg \"5px,10px,2px,2px\").\n            spikemode\n                Determines the drawing mode for the spike line\n                If \"toaxis\", the line is drawn from the data\n                point to the axis the  series is plotted on. If\n                \"across\", the line is drawn across the entire\n                plot area, and supercedes \"toaxis\". If\n                \"marker\", then a marker dot is drawn on the\n                axis the series is plotted on\n            spikesnap\n                Determines whether spikelines are stuck to the\n                cursor or to the closest datapoints.\n            spikethickness\n                Sets the width (in px) of the zero line.\n            tick0\n                Sets the placement of the first tick on this\n                axis. Use with `dtick`. If the axis `type` is\n                \"log\", then you must take the log of your\n                starting tick (e.g. to set the starting tick to\n                100, set the `tick0` to 2) except when\n                `dtick`=*L<f>* (see `dtick` for more info). If\n                the axis `type` is \"date\", it should be a date\n                string, like date data. If the axis `type` is\n                \"category\", it should be a number, using the\n                scale where each category is assigned a serial\n                number from zero in the order it appears.\n            tickangle\n                Sets the angle of the tick labels with respect\n                to the horizontal. For example, a `tickangle`\n                of -90 draws the tick labels vertically.\n            tickcolor\n                Sets the tick color.\n            tickfont\n                Sets the tick font.\n            tickformat\n                Sets the tick label formatting rule using d3\n                formatting mini-languages which are very\n                similar to those in Python. For numbers, see: h\n                ttps://github.com/d3/d3-format/tree/v1.4.5#d3-\n                format. And for dates see:\n                https://github.com/d3/d3-time-\n                format/tree/v2.2.3#locale_format. We add two\n                items to d3's date formatter: \"%h\" for half of\n                the year as a decimal number as well as \"%{n}f\"\n                for fractional seconds with n digits. For\n                example, *2016-10-13 09:15:23.456* with\n                tickformat \"%H~%M~%S.%2f\" would display\n                \"09~15~23.46\"\n            tickformatstops\n                A tuple of :class:`plotly.graph_objects.layout.\n                xaxis.Tickformatstop` instances or dicts with\n                compatible properties\n            tickformatstopdefaults\n                When used in a template (as layout.template.lay\n                out.xaxis.tickformatstopdefaults), sets the\n                default property values to use for elements of\n                layout.xaxis.tickformatstops\n            ticklabelindex\n                Only for axes with `type` \"date\" or \"linear\".\n                Instead of drawing the major tick label, draw\n                the label for the minor tick that is n\n                positions away from the major tick. E.g. to\n                always draw the label for the minor tick before\n                each major tick, choose `ticklabelindex` -1.\n                This is useful for date axes with\n                `ticklabelmode` \"period\" if you want to label\n                the period that ends with each major tick\n                instead of the period that begins there.\n            ticklabelindexsrc\n                Sets the source reference on Chart Studio Cloud\n                for `ticklabelindex`.\n            ticklabelmode\n                Determines where tick labels are drawn with\n                respect to their corresponding ticks and grid\n                lines. Only has an effect for axes of `type`\n                \"date\" When set to \"period\", tick labels are\n                drawn in the middle of the period between\n                ticks.\n            ticklabeloverflow\n                Determines how we handle tick labels that would\n                overflow either the graph div or the domain of\n                the axis. The default value for inside tick\n                labels is *hide past domain*. Otherwise on\n                \"category\" and \"multicategory\" axes the default\n                is \"allow\". In other cases the default is *hide\n                past div*.\n            ticklabelposition\n                Determines where tick labels are drawn with\n                respect to the axis Please note that top or\n                bottom has no effect on x axes or when\n                `ticklabelmode` is set to \"period\". Similarly\n                left or right has no effect on y axes or when\n                `ticklabelmode` is set to \"period\". Has no\n                effect on \"multicategory\" axes or when\n                `tickson` is set to \"boundaries\". When used on\n                axes linked by `matches` or `scaleanchor`, no\n                extra padding for inside labels would be added\n                by autorange, so that the scales could match.\n            ticklabelshift\n                Shifts the tick labels by the specified number\n                of pixels in parallel to the axis. Positive\n                values move the labels in the positive\n                direction of the axis.\n            ticklabelstandoff\n                Sets the standoff distance (in px) between the\n                axis tick labels and their default position. A\n                positive `ticklabelstandoff` moves the labels\n                farther away from the plot area if\n                `ticklabelposition` is \"outside\", and deeper\n                into the plot area if `ticklabelposition` is\n                \"inside\". A negative `ticklabelstandoff` works\n                in the opposite direction, moving outside ticks\n                towards the plot area and inside ticks towards\n                the outside. If the negative value is large\n                enough, inside ticks can even end up outside\n                and vice versa.\n            ticklabelstep\n                Sets the spacing between tick labels as\n                compared to the spacing between ticks. A value\n                of 1 (default) means each tick gets a label. A\n                value of 2 means shows every 2nd label. A\n                larger value n means only every nth tick is\n                labeled. `tick0` determines which labels are\n                shown. Not implemented for axes with `type`\n                \"log\" or \"multicategory\", or when `tickmode` is\n                \"array\".\n            ticklen\n                Sets the tick length (in px).\n            tickmode\n                Sets the tick mode for this axis. If \"auto\",\n                the number of ticks is set via `nticks`. If\n                \"linear\", the placement of the ticks is\n                determined by a starting position `tick0` and a\n                tick step `dtick` (\"linear\" is the default\n                value if `tick0` and `dtick` are provided). If\n                \"array\", the placement of the ticks is set via\n                `tickvals` and the tick text is `ticktext`.\n                (\"array\" is the default value if `tickvals` is\n                provided). If \"sync\", the number of ticks will\n                sync with the overlayed axis set by\n                `overlaying` property.\n            tickprefix\n                Sets a tick label prefix.\n            ticks\n                Determines whether ticks are drawn or not. If\n                \"\", this axis' ticks are not drawn. If\n                \"outside\" (\"inside\"), this axis' are drawn\n                outside (inside) the axis lines.\n            tickson\n                Determines where ticks and grid lines are drawn\n                with respect to their corresponding tick\n                labels. Only has an effect for axes of `type`\n                \"category\" or \"multicategory\". When set to\n                \"boundaries\", ticks and grid lines are drawn\n                half a category to the left/bottom of labels.\n            ticksuffix\n                Sets a tick label suffix.\n            ticktext\n                Sets the text displayed at the ticks position\n                via `tickvals`. Only has an effect if\n                `tickmode` is set to \"array\". Used with\n                `tickvals`.\n            ticktextsrc\n                Sets the source reference on Chart Studio Cloud\n                for `ticktext`.\n            tickvals\n                Sets the values at which ticks on this axis\n                appear. Only has an effect if `tickmode` is set\n                to \"array\". Used with `ticktext`.\n            tickvalssrc\n                Sets the source reference on Chart Studio Cloud\n                for `tickvals`.\n            tickwidth\n                Sets the tick width (in px).\n            title\n                :class:`plotly.graph_objects.layout.xaxis.Title\n                ` instance or dict with compatible properties\n            titlefont\n                Deprecated: Please use layout.xaxis.title.font\n                instead. Sets this axis' title font. Note that\n                the title's font used to be customized by the\n                now deprecated `titlefont` attribute.\n            type\n                Sets the axis type. By default, plotly attempts\n                to determined the axis type by looking into the\n                data of the traces that referenced the axis in\n                question.\n            uirevision\n                Controls persistence of user-driven changes in\n                axis `range`, `autorange`, and `title` if in\n                `editable: true` configuration. Defaults to\n                `layout.uirevision`.\n            visible\n                A single toggle to hide the axis while\n                preserving interaction like dragging. Default\n                is true when a cheater plot is present on the\n                axis, otherwise false\n            zeroline\n                Determines whether or not a line is drawn at\n                along the 0 value of this axis. If True, the\n                zero line is drawn on top of the grid lines.\n            zerolinecolor\n                Sets the line color of the zero line.\n            zerolinewidth\n                Sets the width (in px) of the zero line.\n"
     ]
    }
   ],
   "source": [
    "fig.update_layout(\n",
    "    xaxis = 'Année de publication',\n",
    "    overwrite = True\n",
    ")"
   ]
  },
  {
   "cell_type": "code",
   "execution_count": 64,
   "metadata": {},
   "outputs": [
    {
     "ename": "ValueError",
     "evalue": "Invalid property specified for object of type plotly.graph_objs.Layout: 'labelalias'\n\nDid you mean \"bargap\"?\n\n    Valid properties:\n        activeselection\n            :class:`plotly.graph_objects.layout.Activeselection`\n            instance or dict with compatible properties\n        activeshape\n            :class:`plotly.graph_objects.layout.Activeshape`\n            instance or dict with compatible properties\n        annotations\n            A tuple of\n            :class:`plotly.graph_objects.layout.Annotation`\n            instances or dicts with compatible properties\n        annotationdefaults\n            When used in a template (as\n            layout.template.layout.annotationdefaults), sets the\n            default property values to use for elements of\n            layout.annotations\n        autosize\n            Determines whether or not a layout width or height that\n            has been left undefined by the user is initialized on\n            each relayout. Note that, regardless of this attribute,\n            an undefined layout width or height is always\n            initialized on the first call to plot.\n        autotypenumbers\n            Using \"strict\" a numeric string in trace data is not\n            converted to a number. Using *convert types* a numeric\n            string in trace data may be treated as a number during\n            automatic axis `type` detection. This is the default\n            value; however it could be overridden for individual\n            axes.\n        barcornerradius\n            Sets the rounding of bar corners. May be an integer\n            number of pixels, or a percentage of bar width (as a\n            string ending in %).\n        bargap\n            Sets the gap (in plot fraction) between bars of\n            adjacent location coordinates.\n        bargroupgap\n            Sets the gap (in plot fraction) between bars of the\n            same location coordinate.\n        barmode\n            Determines how bars at the same location coordinate are\n            displayed on the graph. With \"stack\", the bars are\n            stacked on top of one another With \"relative\", the bars\n            are stacked on top of one another, with negative values\n            below the axis, positive values above With \"group\", the\n            bars are plotted next to one another centered around\n            the shared location. With \"overlay\", the bars are\n            plotted over one another, you might need to reduce\n            \"opacity\" to see multiple bars.\n        barnorm\n            Sets the normalization for bar traces on the graph.\n            With \"fraction\", the value of each bar is divided by\n            the sum of all values at that location coordinate.\n            \"percent\" is the same but multiplied by 100 to show\n            percentages.\n        boxgap\n            Sets the gap (in plot fraction) between boxes of\n            adjacent location coordinates. Has no effect on traces\n            that have \"width\" set.\n        boxgroupgap\n            Sets the gap (in plot fraction) between boxes of the\n            same location coordinate. Has no effect on traces that\n            have \"width\" set.\n        boxmode\n            Determines how boxes at the same location coordinate\n            are displayed on the graph. If \"group\", the boxes are\n            plotted next to one another centered around the shared\n            location. If \"overlay\", the boxes are plotted over one\n            another, you might need to set \"opacity\" to see them\n            multiple boxes. Has no effect on traces that have\n            \"width\" set.\n        calendar\n            Sets the default calendar system to use for\n            interpreting and displaying dates throughout the plot.\n        clickmode\n            Determines the mode of single click interactions.\n            \"event\" is the default value and emits the\n            `plotly_click` event. In addition this mode emits the\n            `plotly_selected` event in drag modes \"lasso\" and\n            \"select\", but with no event data attached (kept for\n            compatibility reasons). The \"select\" flag enables\n            selecting single data points via click. This mode also\n            supports persistent selections, meaning that pressing\n            Shift while clicking, adds to / subtracts from an\n            existing selection. \"select\" with `hovermode`: \"x\" can\n            be confusing, consider explicitly setting `hovermode`:\n            \"closest\" when using this feature. Selection events are\n            sent accordingly as long as \"event\" flag is set as\n            well. When the \"event\" flag is missing, `plotly_click`\n            and `plotly_selected` events are not fired.\n        coloraxis\n            :class:`plotly.graph_objects.layout.Coloraxis` instance\n            or dict with compatible properties\n        colorscale\n            :class:`plotly.graph_objects.layout.Colorscale`\n            instance or dict with compatible properties\n        colorway\n            Sets the default trace colors.\n        computed\n            Placeholder for exporting automargin-impacting values\n            namely `margin.t`, `margin.b`, `margin.l` and\n            `margin.r` in \"full-json\" mode.\n        datarevision\n            If provided, a changed value tells `Plotly.react` that\n            one or more data arrays has changed. This way you can\n            modify arrays in-place rather than making a complete\n            new copy for an incremental change. If NOT provided,\n            `Plotly.react` assumes that data arrays are being\n            treated as immutable, thus any data array with a\n            different identity from its predecessor contains new\n            data.\n        dragmode\n            Determines the mode of drag interactions. \"select\" and\n            \"lasso\" apply only to scatter traces with markers or\n            text. \"orbit\" and \"turntable\" apply only to 3D scenes.\n        editrevision\n            Controls persistence of user-driven changes in\n            `editable: true` configuration, other than trace names\n            and axis titles. Defaults to `layout.uirevision`.\n        extendfunnelareacolors\n            If `true`, the funnelarea slice colors (whether given\n            by `funnelareacolorway` or inherited from `colorway`)\n            will be extended to three times its original length by\n            first repeating every color 20% lighter then each color\n            20% darker. This is intended to reduce the likelihood\n            of reusing the same color when you have many slices,\n            but you can set `false` to disable. Colors provided in\n            the trace, using `marker.colors`, are never extended.\n        extendiciclecolors\n            If `true`, the icicle slice colors (whether given by\n            `iciclecolorway` or inherited from `colorway`) will be\n            extended to three times its original length by first\n            repeating every color 20% lighter then each color 20%\n            darker. This is intended to reduce the likelihood of\n            reusing the same color when you have many slices, but\n            you can set `false` to disable. Colors provided in the\n            trace, using `marker.colors`, are never extended.\n        extendpiecolors\n            If `true`, the pie slice colors (whether given by\n            `piecolorway` or inherited from `colorway`) will be\n            extended to three times its original length by first\n            repeating every color 20% lighter then each color 20%\n            darker. This is intended to reduce the likelihood of\n            reusing the same color when you have many slices, but\n            you can set `false` to disable. Colors provided in the\n            trace, using `marker.colors`, are never extended.\n        extendsunburstcolors\n            If `true`, the sunburst slice colors (whether given by\n            `sunburstcolorway` or inherited from `colorway`) will\n            be extended to three times its original length by first\n            repeating every color 20% lighter then each color 20%\n            darker. This is intended to reduce the likelihood of\n            reusing the same color when you have many slices, but\n            you can set `false` to disable. Colors provided in the\n            trace, using `marker.colors`, are never extended.\n        extendtreemapcolors\n            If `true`, the treemap slice colors (whether given by\n            `treemapcolorway` or inherited from `colorway`) will be\n            extended to three times its original length by first\n            repeating every color 20% lighter then each color 20%\n            darker. This is intended to reduce the likelihood of\n            reusing the same color when you have many slices, but\n            you can set `false` to disable. Colors provided in the\n            trace, using `marker.colors`, are never extended.\n        font\n            Sets the global font. Note that fonts used in traces\n            and other layout components inherit from the global\n            font.\n        funnelareacolorway\n            Sets the default funnelarea slice colors. Defaults to\n            the main `colorway` used for trace colors. If you\n            specify a new list here it can still be extended with\n            lighter and darker colors, see\n            `extendfunnelareacolors`.\n        funnelgap\n            Sets the gap (in plot fraction) between bars of\n            adjacent location coordinates.\n        funnelgroupgap\n            Sets the gap (in plot fraction) between bars of the\n            same location coordinate.\n        funnelmode\n            Determines how bars at the same location coordinate are\n            displayed on the graph. With \"stack\", the bars are\n            stacked on top of one another With \"group\", the bars\n            are plotted next to one another centered around the\n            shared location. With \"overlay\", the bars are plotted\n            over one another, you might need to reduce \"opacity\" to\n            see multiple bars.\n        geo\n            :class:`plotly.graph_objects.layout.Geo` instance or\n            dict with compatible properties\n        grid\n            :class:`plotly.graph_objects.layout.Grid` instance or\n            dict with compatible properties\n        height\n            Sets the plot's height (in px).\n        hiddenlabels\n            hiddenlabels is the funnelarea & pie chart analog of\n            visible:'legendonly' but it can contain many labels,\n            and can simultaneously hide slices from several\n            pies/funnelarea charts\n        hiddenlabelssrc\n            Sets the source reference on Chart Studio Cloud for\n            `hiddenlabels`.\n        hidesources\n            Determines whether or not a text link citing the data\n            source is placed at the bottom-right cored of the\n            figure. Has only an effect only on graphs that have\n            been generated via forked graphs from the Chart Studio\n            Cloud (at https://chart-studio.plotly.com or on-\n            premise).\n        hoverdistance\n            Sets the default distance (in pixels) to look for data\n            to add hover labels (-1 means no cutoff, 0 means no\n            looking for data). This is only a real distance for\n            hovering on point-like objects, like scatter points.\n            For area-like objects (bars, scatter fills, etc)\n            hovering is on inside the area and off outside, but\n            these objects will not supersede hover on point-like\n            objects in case of conflict.\n        hoverlabel\n            :class:`plotly.graph_objects.layout.Hoverlabel`\n            instance or dict with compatible properties\n        hovermode\n            Determines the mode of hover interactions. If\n            \"closest\", a single hoverlabel will appear for the\n            \"closest\" point within the `hoverdistance`. If \"x\" (or\n            \"y\"), multiple hoverlabels will appear for multiple\n            points at the \"closest\" x- (or y-) coordinate within\n            the `hoverdistance`, with the caveat that no more than\n            one hoverlabel will appear per trace. If *x unified*\n            (or *y unified*), a single hoverlabel will appear\n            multiple points at the closest x- (or y-) coordinate\n            within the `hoverdistance` with the caveat that no more\n            than one hoverlabel will appear per trace. In this\n            mode, spikelines are enabled by default perpendicular\n            to the specified axis. If false, hover interactions are\n            disabled.\n        hoversubplots\n            Determines expansion of hover effects to other subplots\n            If \"single\" just the axis pair of the primary point is\n            included without overlaying subplots. If \"overlaying\"\n            all subplots using the main axis and occupying the same\n            space are included. If \"axis\", also include stacked\n            subplots using the same axis when `hovermode` is set to\n            \"x\", *x unified*, \"y\" or *y unified*.\n        iciclecolorway\n            Sets the default icicle slice colors. Defaults to the\n            main `colorway` used for trace colors. If you specify a\n            new list here it can still be extended with lighter and\n            darker colors, see `extendiciclecolors`.\n        images\n            A tuple of :class:`plotly.graph_objects.layout.Image`\n            instances or dicts with compatible properties\n        imagedefaults\n            When used in a template (as\n            layout.template.layout.imagedefaults), sets the default\n            property values to use for elements of layout.images\n        legend\n            :class:`plotly.graph_objects.layout.Legend` instance or\n            dict with compatible properties\n        map\n            :class:`plotly.graph_objects.layout.Map` instance or\n            dict with compatible properties\n        mapbox\n            :class:`plotly.graph_objects.layout.Mapbox` instance or\n            dict with compatible properties\n        margin\n            :class:`plotly.graph_objects.layout.Margin` instance or\n            dict with compatible properties\n        meta\n            Assigns extra meta information that can be used in\n            various `text` attributes. Attributes such as the\n            graph, axis and colorbar `title.text`, annotation\n            `text` `trace.name` in legend items, `rangeselector`,\n            `updatemenus` and `sliders` `label` text all support\n            `meta`. One can access `meta` fields using template\n            strings: `%{meta[i]}` where `i` is the index of the\n            `meta` item in question. `meta` can also be an object\n            for example `{key: value}` which can be accessed\n            %{meta[key]}.\n        metasrc\n            Sets the source reference on Chart Studio Cloud for\n            `meta`.\n        minreducedheight\n            Minimum height of the plot with margin.automargin\n            applied (in px)\n        minreducedwidth\n            Minimum width of the plot with margin.automargin\n            applied (in px)\n        modebar\n            :class:`plotly.graph_objects.layout.Modebar` instance\n            or dict with compatible properties\n        newselection\n            :class:`plotly.graph_objects.layout.Newselection`\n            instance or dict with compatible properties\n        newshape\n            :class:`plotly.graph_objects.layout.Newshape` instance\n            or dict with compatible properties\n        paper_bgcolor\n            Sets the background color of the paper where the graph\n            is drawn.\n        piecolorway\n            Sets the default pie slice colors. Defaults to the main\n            `colorway` used for trace colors. If you specify a new\n            list here it can still be extended with lighter and\n            darker colors, see `extendpiecolors`.\n        plot_bgcolor\n            Sets the background color of the plotting area in-\n            between x and y axes.\n        polar\n            :class:`plotly.graph_objects.layout.Polar` instance or\n            dict with compatible properties\n        scattergap\n            Sets the gap (in plot fraction) between scatter points\n            of adjacent location coordinates. Defaults to `bargap`.\n        scattermode\n            Determines how scatter points at the same location\n            coordinate are displayed on the graph. With \"group\",\n            the scatter points are plotted next to one another\n            centered around the shared location. With \"overlay\",\n            the scatter points are plotted over one another, you\n            might need to reduce \"opacity\" to see multiple scatter\n            points.\n        scene\n            :class:`plotly.graph_objects.layout.Scene` instance or\n            dict with compatible properties\n        selectdirection\n            When `dragmode` is set to \"select\", this limits the\n            selection of the drag to horizontal, vertical or\n            diagonal. \"h\" only allows horizontal selection, \"v\"\n            only vertical, \"d\" only diagonal and \"any\" sets no\n            limit.\n        selectionrevision\n            Controls persistence of user-driven changes in selected\n            points from all traces.\n        selections\n            A tuple of\n            :class:`plotly.graph_objects.layout.Selection`\n            instances or dicts with compatible properties\n        selectiondefaults\n            When used in a template (as\n            layout.template.layout.selectiondefaults), sets the\n            default property values to use for elements of\n            layout.selections\n        separators\n            Sets the decimal and thousand separators. For example,\n            *. * puts a '.' before decimals and a space between\n            thousands. In English locales, dflt is \".,\" but other\n            locales may alter this default.\n        shapes\n            A tuple of :class:`plotly.graph_objects.layout.Shape`\n            instances or dicts with compatible properties\n        shapedefaults\n            When used in a template (as\n            layout.template.layout.shapedefaults), sets the default\n            property values to use for elements of layout.shapes\n        showlegend\n            Determines whether or not a legend is drawn. Default is\n            `true` if there is a trace to show and any of these: a)\n            Two or more traces would by default be shown in the\n            legend. b) One pie trace is shown in the legend. c) One\n            trace is explicitly given with `showlegend: true`.\n        sliders\n            A tuple of :class:`plotly.graph_objects.layout.Slider`\n            instances or dicts with compatible properties\n        sliderdefaults\n            When used in a template (as\n            layout.template.layout.sliderdefaults), sets the\n            default property values to use for elements of\n            layout.sliders\n        smith\n            :class:`plotly.graph_objects.layout.Smith` instance or\n            dict with compatible properties\n        spikedistance\n            Sets the default distance (in pixels) to look for data\n            to draw spikelines to (-1 means no cutoff, 0 means no\n            looking for data). As with hoverdistance, distance does\n            not apply to area-like objects. In addition, some\n            objects can be hovered on but will not generate\n            spikelines, such as scatter fills.\n        sunburstcolorway\n            Sets the default sunburst slice colors. Defaults to the\n            main `colorway` used for trace colors. If you specify a\n            new list here it can still be extended with lighter and\n            darker colors, see `extendsunburstcolors`.\n        template\n            Default attributes to be applied to the plot. This\n            should be a dict with format: `{'layout':\n            layoutTemplate, 'data': {trace_type: [traceTemplate,\n            ...], ...}}` where `layoutTemplate` is a dict matching\n            the structure of `figure.layout` and `traceTemplate` is\n            a dict matching the structure of the trace with type\n            `trace_type` (e.g. 'scatter'). Alternatively, this may\n            be specified as an instance of\n            plotly.graph_objs.layout.Template.  Trace templates are\n            applied cyclically to traces of each type. Container\n            arrays (eg `annotations`) have special handling: An\n            object ending in `defaults` (eg `annotationdefaults`)\n            is applied to each array item. But if an item has a\n            `templateitemname` key we look in the template array\n            for an item with matching `name` and apply that\n            instead. If no matching `name` is found we mark the\n            item invisible. Any named template item not referenced\n            is appended to the end of the array, so this can be\n            used to add a watermark annotation or a logo image, for\n            example. To omit one of these items on the plot, make\n            an item with matching `templateitemname` and `visible:\n            false`.\n        ternary\n            :class:`plotly.graph_objects.layout.Ternary` instance\n            or dict with compatible properties\n        title\n            :class:`plotly.graph_objects.layout.Title` instance or\n            dict with compatible properties\n        titlefont\n            Deprecated: Please use layout.title.font instead. Sets\n            the title font. Note that the title's font used to be\n            customized by the now deprecated `titlefont` attribute.\n        transition\n            Sets transition options used during Plotly.react\n            updates.\n        treemapcolorway\n            Sets the default treemap slice colors. Defaults to the\n            main `colorway` used for trace colors. If you specify a\n            new list here it can still be extended with lighter and\n            darker colors, see `extendtreemapcolors`.\n        uirevision\n            Used to allow user interactions with the plot to\n            persist after `Plotly.react` calls that are unaware of\n            these interactions. If `uirevision` is omitted, or if\n            it is given and it changed from the previous\n            `Plotly.react` call, the exact new figure is used. If\n            `uirevision` is truthy and did NOT change, any\n            attribute that has been affected by user interactions\n            and did not receive a different value in the new figure\n            will keep the interaction value. `layout.uirevision`\n            attribute serves as the default for `uirevision`\n            attributes in various sub-containers. For finer control\n            you can set these sub-attributes directly. For example,\n            if your app separately controls the data on the x and y\n            axes you might set `xaxis.uirevision=*time*` and\n            `yaxis.uirevision=*cost*`. Then if only the y data is\n            changed, you can update `yaxis.uirevision=*quantity*`\n            and the y axis range will reset but the x axis range\n            will retain any user-driven zoom.\n        uniformtext\n            :class:`plotly.graph_objects.layout.Uniformtext`\n            instance or dict with compatible properties\n        updatemenus\n            A tuple of\n            :class:`plotly.graph_objects.layout.Updatemenu`\n            instances or dicts with compatible properties\n        updatemenudefaults\n            When used in a template (as\n            layout.template.layout.updatemenudefaults), sets the\n            default property values to use for elements of\n            layout.updatemenus\n        violingap\n            Sets the gap (in plot fraction) between violins of\n            adjacent location coordinates. Has no effect on traces\n            that have \"width\" set.\n        violingroupgap\n            Sets the gap (in plot fraction) between violins of the\n            same location coordinate. Has no effect on traces that\n            have \"width\" set.\n        violinmode\n            Determines how violins at the same location coordinate\n            are displayed on the graph. If \"group\", the violins are\n            plotted next to one another centered around the shared\n            location. If \"overlay\", the violins are plotted over\n            one another, you might need to set \"opacity\" to see\n            them multiple violins. Has no effect on traces that\n            have \"width\" set.\n        waterfallgap\n            Sets the gap (in plot fraction) between bars of\n            adjacent location coordinates.\n        waterfallgroupgap\n            Sets the gap (in plot fraction) between bars of the\n            same location coordinate.\n        waterfallmode\n            Determines how bars at the same location coordinate are\n            displayed on the graph. With \"group\", the bars are\n            plotted next to one another centered around the shared\n            location. With \"overlay\", the bars are plotted over one\n            another, you might need to reduce \"opacity\" to see\n            multiple bars.\n        width\n            Sets the plot's width (in px).\n        xaxis\n            :class:`plotly.graph_objects.layout.XAxis` instance or\n            dict with compatible properties\n        yaxis\n            :class:`plotly.graph_objects.layout.YAxis` instance or\n            dict with compatible properties\n        \nDid you mean \"bargap\"?\n\nBad property path:\nlabelalias\n^^^^^^^^^^",
     "output_type": "error",
     "traceback": [
      "\u001b[0;31m---------------------------------------------------------------------------\u001b[0m",
      "\u001b[0;31mValueError\u001b[0m                                Traceback (most recent call last)",
      "\u001b[1;32m/Users/axelmorin/Library/Mobile Documents/com~apple~CloudDocs/Axel_tout/Professionnel/Stages/TFE/CREST/workdirectory/Genre/dataVis/crest-first/scripts/notebooks/dataPlotting.ipynb Cell 11\u001b[0m line \u001b[0;36m7\n\u001b[1;32m      <a href='vscode-notebook-cell:/Users/axelmorin/Library/Mobile%20Documents/com~apple~CloudDocs/Axel_tout/Professionnel/Stages/TFE/CREST/workdirectory/Genre/dataVis/crest-first/scripts/notebooks/dataPlotting.ipynb#X22sZmlsZQ%3D%3D?line=1'>2</a>\u001b[0m df_stocks \u001b[39m=\u001b[39m px\u001b[39m.\u001b[39mdata\u001b[39m.\u001b[39mstocks()\n\u001b[1;32m      <a href='vscode-notebook-cell:/Users/axelmorin/Library/Mobile%20Documents/com~apple~CloudDocs/Axel_tout/Professionnel/Stages/TFE/CREST/workdirectory/Genre/dataVis/crest-first/scripts/notebooks/dataPlotting.ipynb#X22sZmlsZQ%3D%3D?line=3'>4</a>\u001b[0m fig \u001b[39m=\u001b[39m px\u001b[39m.\u001b[39mline(df_stocks, x \u001b[39m=\u001b[39m \u001b[39m\"\u001b[39m\u001b[39mdate\u001b[39m\u001b[39m\"\u001b[39m, y \u001b[39m=\u001b[39m [\u001b[39m'\u001b[39m\u001b[39mGOOG\u001b[39m\u001b[39m'\u001b[39m, \u001b[39m'\u001b[39m\u001b[39mAAPL\u001b[39m\u001b[39m'\u001b[39m], \n\u001b[1;32m      <a href='vscode-notebook-cell:/Users/axelmorin/Library/Mobile%20Documents/com~apple~CloudDocs/Axel_tout/Professionnel/Stages/TFE/CREST/workdirectory/Genre/dataVis/crest-first/scripts/notebooks/dataPlotting.ipynb#X22sZmlsZQ%3D%3D?line=4'>5</a>\u001b[0m         labels \u001b[39m=\u001b[39m \u001b[39mdict\u001b[39m(x \u001b[39m=\u001b[39m \u001b[39m'\u001b[39m\u001b[39mDate\u001b[39m\u001b[39m'\u001b[39m, y \u001b[39m=\u001b[39m \u001b[39m'\u001b[39m\u001b[39mPrice\u001b[39m\u001b[39m'\u001b[39m), title \u001b[39m=\u001b[39m \u001b[39m'\u001b[39m\u001b[39mApple vs Google\u001b[39m\u001b[39m'\u001b[39m)\n\u001b[0;32m----> <a href='vscode-notebook-cell:/Users/axelmorin/Library/Mobile%20Documents/com~apple~CloudDocs/Axel_tout/Professionnel/Stages/TFE/CREST/workdirectory/Genre/dataVis/crest-first/scripts/notebooks/dataPlotting.ipynb#X22sZmlsZQ%3D%3D?line=6'>7</a>\u001b[0m fig\u001b[39m.\u001b[39;49mupdate_layout(\n\u001b[1;32m      <a href='vscode-notebook-cell:/Users/axelmorin/Library/Mobile%20Documents/com~apple~CloudDocs/Axel_tout/Professionnel/Stages/TFE/CREST/workdirectory/Genre/dataVis/crest-first/scripts/notebooks/dataPlotting.ipynb#X22sZmlsZQ%3D%3D?line=7'>8</a>\u001b[0m     xaxis \u001b[39m=\u001b[39;49m \u001b[39mdict\u001b[39;49m(\n\u001b[1;32m      <a href='vscode-notebook-cell:/Users/axelmorin/Library/Mobile%20Documents/com~apple~CloudDocs/Axel_tout/Professionnel/Stages/TFE/CREST/workdirectory/Genre/dataVis/crest-first/scripts/notebooks/dataPlotting.ipynb#X22sZmlsZQ%3D%3D?line=8'>9</a>\u001b[0m         title \u001b[39m=\u001b[39;49m \u001b[39m\"\u001b[39;49m\u001b[39mDate\u001b[39;49m\u001b[39m\"\u001b[39;49m\n\u001b[1;32m     <a href='vscode-notebook-cell:/Users/axelmorin/Library/Mobile%20Documents/com~apple~CloudDocs/Axel_tout/Professionnel/Stages/TFE/CREST/workdirectory/Genre/dataVis/crest-first/scripts/notebooks/dataPlotting.ipynb#X22sZmlsZQ%3D%3D?line=9'>10</a>\u001b[0m     ),\n\u001b[1;32m     <a href='vscode-notebook-cell:/Users/axelmorin/Library/Mobile%20Documents/com~apple~CloudDocs/Axel_tout/Professionnel/Stages/TFE/CREST/workdirectory/Genre/dataVis/crest-first/scripts/notebooks/dataPlotting.ipynb#X22sZmlsZQ%3D%3D?line=10'>11</a>\u001b[0m     yaxis \u001b[39m=\u001b[39;49m \u001b[39mdict\u001b[39;49m(\n\u001b[1;32m     <a href='vscode-notebook-cell:/Users/axelmorin/Library/Mobile%20Documents/com~apple~CloudDocs/Axel_tout/Professionnel/Stages/TFE/CREST/workdirectory/Genre/dataVis/crest-first/scripts/notebooks/dataPlotting.ipynb#X22sZmlsZQ%3D%3D?line=11'>12</a>\u001b[0m         title \u001b[39m=\u001b[39;49m \u001b[39m\"\u001b[39;49m\u001b[39mPrice\u001b[39;49m\u001b[39m\"\u001b[39;49m\n\u001b[1;32m     <a href='vscode-notebook-cell:/Users/axelmorin/Library/Mobile%20Documents/com~apple~CloudDocs/Axel_tout/Professionnel/Stages/TFE/CREST/workdirectory/Genre/dataVis/crest-first/scripts/notebooks/dataPlotting.ipynb#X22sZmlsZQ%3D%3D?line=12'>13</a>\u001b[0m     ),\n\u001b[1;32m     <a href='vscode-notebook-cell:/Users/axelmorin/Library/Mobile%20Documents/com~apple~CloudDocs/Axel_tout/Professionnel/Stages/TFE/CREST/workdirectory/Genre/dataVis/crest-first/scripts/notebooks/dataPlotting.ipynb#X22sZmlsZQ%3D%3D?line=13'>14</a>\u001b[0m     labelalias \u001b[39m=\u001b[39;49m \u001b[39mdict\u001b[39;49m(\n\u001b[1;32m     <a href='vscode-notebook-cell:/Users/axelmorin/Library/Mobile%20Documents/com~apple~CloudDocs/Axel_tout/Professionnel/Stages/TFE/CREST/workdirectory/Genre/dataVis/crest-first/scripts/notebooks/dataPlotting.ipynb#X22sZmlsZQ%3D%3D?line=14'>15</a>\u001b[0m         GOOGL \u001b[39m=\u001b[39;49m \u001b[39m'\u001b[39;49m\u001b[39mGoogle\u001b[39;49m\u001b[39m'\u001b[39;49m\n\u001b[1;32m     <a href='vscode-notebook-cell:/Users/axelmorin/Library/Mobile%20Documents/com~apple~CloudDocs/Axel_tout/Professionnel/Stages/TFE/CREST/workdirectory/Genre/dataVis/crest-first/scripts/notebooks/dataPlotting.ipynb#X22sZmlsZQ%3D%3D?line=15'>16</a>\u001b[0m     )\n\u001b[1;32m     <a href='vscode-notebook-cell:/Users/axelmorin/Library/Mobile%20Documents/com~apple~CloudDocs/Axel_tout/Professionnel/Stages/TFE/CREST/workdirectory/Genre/dataVis/crest-first/scripts/notebooks/dataPlotting.ipynb#X22sZmlsZQ%3D%3D?line=16'>17</a>\u001b[0m )\n\u001b[1;32m     <a href='vscode-notebook-cell:/Users/axelmorin/Library/Mobile%20Documents/com~apple~CloudDocs/Axel_tout/Professionnel/Stages/TFE/CREST/workdirectory/Genre/dataVis/crest-first/scripts/notebooks/dataPlotting.ipynb#X22sZmlsZQ%3D%3D?line=17'>18</a>\u001b[0m fig\n",
      "File \u001b[0;32m/opt/miniconda3/envs/CREST/lib/python3.12/site-packages/plotly/graph_objs/_figure.py:792\u001b[0m, in \u001b[0;36mFigure.update_layout\u001b[0;34m(self, dict1, overwrite, **kwargs)\u001b[0m\n\u001b[1;32m    766\u001b[0m \u001b[39mdef\u001b[39;00m \u001b[39mupdate_layout\u001b[39m(\u001b[39mself\u001b[39m, dict1\u001b[39m=\u001b[39m\u001b[39mNone\u001b[39;00m, overwrite\u001b[39m=\u001b[39m\u001b[39mFalse\u001b[39;00m, \u001b[39m*\u001b[39m\u001b[39m*\u001b[39mkwargs) \u001b[39m-\u001b[39m\u001b[39m>\u001b[39m \u001b[39m\"\u001b[39m\u001b[39mFigure\u001b[39m\u001b[39m\"\u001b[39m:\n\u001b[1;32m    767\u001b[0m \u001b[39m    \u001b[39m\u001b[39m\"\"\"\u001b[39;00m\n\u001b[1;32m    768\u001b[0m \n\u001b[1;32m    769\u001b[0m \u001b[39m    Update the properties of the figure's layout with a dict and/or with\u001b[39;00m\n\u001b[0;32m   (...)\u001b[0m\n\u001b[1;32m    790\u001b[0m \n\u001b[1;32m    791\u001b[0m \u001b[39m    \"\"\"\u001b[39;00m\n\u001b[0;32m--> 792\u001b[0m     \u001b[39mreturn\u001b[39;00m \u001b[39msuper\u001b[39;49m(Figure, \u001b[39mself\u001b[39;49m)\u001b[39m.\u001b[39;49mupdate_layout(dict1, overwrite, \u001b[39m*\u001b[39;49m\u001b[39m*\u001b[39;49mkwargs)\n",
      "File \u001b[0;32m/opt/miniconda3/envs/CREST/lib/python3.12/site-packages/plotly/basedatatypes.py:1391\u001b[0m, in \u001b[0;36mBaseFigure.update_layout\u001b[0;34m(self, dict1, overwrite, **kwargs)\u001b[0m\n\u001b[1;32m   1367\u001b[0m \u001b[39mdef\u001b[39;00m \u001b[39mupdate_layout\u001b[39m(\u001b[39mself\u001b[39m, dict1\u001b[39m=\u001b[39m\u001b[39mNone\u001b[39;00m, overwrite\u001b[39m=\u001b[39m\u001b[39mFalse\u001b[39;00m, \u001b[39m*\u001b[39m\u001b[39m*\u001b[39mkwargs):\n\u001b[1;32m   1368\u001b[0m \u001b[39m    \u001b[39m\u001b[39m\"\"\"\u001b[39;00m\n\u001b[1;32m   1369\u001b[0m \u001b[39m    Update the properties of the figure's layout with a dict and/or with\u001b[39;00m\n\u001b[1;32m   1370\u001b[0m \u001b[39m    keyword arguments.\u001b[39;00m\n\u001b[0;32m   (...)\u001b[0m\n\u001b[1;32m   1389\u001b[0m \u001b[39m        The Figure object that the update_layout method was called on\u001b[39;00m\n\u001b[1;32m   1390\u001b[0m \u001b[39m    \"\"\"\u001b[39;00m\n\u001b[0;32m-> 1391\u001b[0m     \u001b[39mself\u001b[39;49m\u001b[39m.\u001b[39;49mlayout\u001b[39m.\u001b[39;49mupdate(dict1, overwrite\u001b[39m=\u001b[39;49moverwrite, \u001b[39m*\u001b[39;49m\u001b[39m*\u001b[39;49mkwargs)\n\u001b[1;32m   1392\u001b[0m     \u001b[39mreturn\u001b[39;00m \u001b[39mself\u001b[39m\n",
      "File \u001b[0;32m/opt/miniconda3/envs/CREST/lib/python3.12/site-packages/plotly/basedatatypes.py:5131\u001b[0m, in \u001b[0;36mBasePlotlyType.update\u001b[0;34m(self, dict1, overwrite, **kwargs)\u001b[0m\n\u001b[1;32m   5129\u001b[0m     \u001b[39mwith\u001b[39;00m \u001b[39mself\u001b[39m\u001b[39m.\u001b[39mfigure\u001b[39m.\u001b[39mbatch_update():\n\u001b[1;32m   5130\u001b[0m         BaseFigure\u001b[39m.\u001b[39m_perform_update(\u001b[39mself\u001b[39m, dict1, overwrite\u001b[39m=\u001b[39moverwrite)\n\u001b[0;32m-> 5131\u001b[0m         BaseFigure\u001b[39m.\u001b[39;49m_perform_update(\u001b[39mself\u001b[39;49m, kwargs, overwrite\u001b[39m=\u001b[39;49moverwrite)\n\u001b[1;32m   5132\u001b[0m \u001b[39melse\u001b[39;00m:\n\u001b[1;32m   5133\u001b[0m     BaseFigure\u001b[39m.\u001b[39m_perform_update(\u001b[39mself\u001b[39m, dict1, overwrite\u001b[39m=\u001b[39moverwrite)\n",
      "File \u001b[0;32m/opt/miniconda3/envs/CREST/lib/python3.12/site-packages/plotly/basedatatypes.py:3890\u001b[0m, in \u001b[0;36mBaseFigure._perform_update\u001b[0;34m(plotly_obj, update_obj, overwrite)\u001b[0m\n\u001b[1;32m   3888\u001b[0m     err \u001b[39m=\u001b[39m _check_path_in_prop_tree(plotly_obj, key, error_cast\u001b[39m=\u001b[39m\u001b[39mValueError\u001b[39;00m)\n\u001b[1;32m   3889\u001b[0m     \u001b[39mif\u001b[39;00m err \u001b[39mis\u001b[39;00m \u001b[39mnot\u001b[39;00m \u001b[39mNone\u001b[39;00m:\n\u001b[0;32m-> 3890\u001b[0m         \u001b[39mraise\u001b[39;00m err\n\u001b[1;32m   3892\u001b[0m \u001b[39m# Convert update_obj to dict\u001b[39;00m\n\u001b[1;32m   3893\u001b[0m \u001b[39m# --------------------------\u001b[39;00m\n\u001b[1;32m   3894\u001b[0m \u001b[39mif\u001b[39;00m \u001b[39misinstance\u001b[39m(update_obj, BasePlotlyType):\n",
      "\u001b[0;31mValueError\u001b[0m: Invalid property specified for object of type plotly.graph_objs.Layout: 'labelalias'\n\nDid you mean \"bargap\"?\n\n    Valid properties:\n        activeselection\n            :class:`plotly.graph_objects.layout.Activeselection`\n            instance or dict with compatible properties\n        activeshape\n            :class:`plotly.graph_objects.layout.Activeshape`\n            instance or dict with compatible properties\n        annotations\n            A tuple of\n            :class:`plotly.graph_objects.layout.Annotation`\n            instances or dicts with compatible properties\n        annotationdefaults\n            When used in a template (as\n            layout.template.layout.annotationdefaults), sets the\n            default property values to use for elements of\n            layout.annotations\n        autosize\n            Determines whether or not a layout width or height that\n            has been left undefined by the user is initialized on\n            each relayout. Note that, regardless of this attribute,\n            an undefined layout width or height is always\n            initialized on the first call to plot.\n        autotypenumbers\n            Using \"strict\" a numeric string in trace data is not\n            converted to a number. Using *convert types* a numeric\n            string in trace data may be treated as a number during\n            automatic axis `type` detection. This is the default\n            value; however it could be overridden for individual\n            axes.\n        barcornerradius\n            Sets the rounding of bar corners. May be an integer\n            number of pixels, or a percentage of bar width (as a\n            string ending in %).\n        bargap\n            Sets the gap (in plot fraction) between bars of\n            adjacent location coordinates.\n        bargroupgap\n            Sets the gap (in plot fraction) between bars of the\n            same location coordinate.\n        barmode\n            Determines how bars at the same location coordinate are\n            displayed on the graph. With \"stack\", the bars are\n            stacked on top of one another With \"relative\", the bars\n            are stacked on top of one another, with negative values\n            below the axis, positive values above With \"group\", the\n            bars are plotted next to one another centered around\n            the shared location. With \"overlay\", the bars are\n            plotted over one another, you might need to reduce\n            \"opacity\" to see multiple bars.\n        barnorm\n            Sets the normalization for bar traces on the graph.\n            With \"fraction\", the value of each bar is divided by\n            the sum of all values at that location coordinate.\n            \"percent\" is the same but multiplied by 100 to show\n            percentages.\n        boxgap\n            Sets the gap (in plot fraction) between boxes of\n            adjacent location coordinates. Has no effect on traces\n            that have \"width\" set.\n        boxgroupgap\n            Sets the gap (in plot fraction) between boxes of the\n            same location coordinate. Has no effect on traces that\n            have \"width\" set.\n        boxmode\n            Determines how boxes at the same location coordinate\n            are displayed on the graph. If \"group\", the boxes are\n            plotted next to one another centered around the shared\n            location. If \"overlay\", the boxes are plotted over one\n            another, you might need to set \"opacity\" to see them\n            multiple boxes. Has no effect on traces that have\n            \"width\" set.\n        calendar\n            Sets the default calendar system to use for\n            interpreting and displaying dates throughout the plot.\n        clickmode\n            Determines the mode of single click interactions.\n            \"event\" is the default value and emits the\n            `plotly_click` event. In addition this mode emits the\n            `plotly_selected` event in drag modes \"lasso\" and\n            \"select\", but with no event data attached (kept for\n            compatibility reasons). The \"select\" flag enables\n            selecting single data points via click. This mode also\n            supports persistent selections, meaning that pressing\n            Shift while clicking, adds to / subtracts from an\n            existing selection. \"select\" with `hovermode`: \"x\" can\n            be confusing, consider explicitly setting `hovermode`:\n            \"closest\" when using this feature. Selection events are\n            sent accordingly as long as \"event\" flag is set as\n            well. When the \"event\" flag is missing, `plotly_click`\n            and `plotly_selected` events are not fired.\n        coloraxis\n            :class:`plotly.graph_objects.layout.Coloraxis` instance\n            or dict with compatible properties\n        colorscale\n            :class:`plotly.graph_objects.layout.Colorscale`\n            instance or dict with compatible properties\n        colorway\n            Sets the default trace colors.\n        computed\n            Placeholder for exporting automargin-impacting values\n            namely `margin.t`, `margin.b`, `margin.l` and\n            `margin.r` in \"full-json\" mode.\n        datarevision\n            If provided, a changed value tells `Plotly.react` that\n            one or more data arrays has changed. This way you can\n            modify arrays in-place rather than making a complete\n            new copy for an incremental change. If NOT provided,\n            `Plotly.react` assumes that data arrays are being\n            treated as immutable, thus any data array with a\n            different identity from its predecessor contains new\n            data.\n        dragmode\n            Determines the mode of drag interactions. \"select\" and\n            \"lasso\" apply only to scatter traces with markers or\n            text. \"orbit\" and \"turntable\" apply only to 3D scenes.\n        editrevision\n            Controls persistence of user-driven changes in\n            `editable: true` configuration, other than trace names\n            and axis titles. Defaults to `layout.uirevision`.\n        extendfunnelareacolors\n            If `true`, the funnelarea slice colors (whether given\n            by `funnelareacolorway` or inherited from `colorway`)\n            will be extended to three times its original length by\n            first repeating every color 20% lighter then each color\n            20% darker. This is intended to reduce the likelihood\n            of reusing the same color when you have many slices,\n            but you can set `false` to disable. Colors provided in\n            the trace, using `marker.colors`, are never extended.\n        extendiciclecolors\n            If `true`, the icicle slice colors (whether given by\n            `iciclecolorway` or inherited from `colorway`) will be\n            extended to three times its original length by first\n            repeating every color 20% lighter then each color 20%\n            darker. This is intended to reduce the likelihood of\n            reusing the same color when you have many slices, but\n            you can set `false` to disable. Colors provided in the\n            trace, using `marker.colors`, are never extended.\n        extendpiecolors\n            If `true`, the pie slice colors (whether given by\n            `piecolorway` or inherited from `colorway`) will be\n            extended to three times its original length by first\n            repeating every color 20% lighter then each color 20%\n            darker. This is intended to reduce the likelihood of\n            reusing the same color when you have many slices, but\n            you can set `false` to disable. Colors provided in the\n            trace, using `marker.colors`, are never extended.\n        extendsunburstcolors\n            If `true`, the sunburst slice colors (whether given by\n            `sunburstcolorway` or inherited from `colorway`) will\n            be extended to three times its original length by first\n            repeating every color 20% lighter then each color 20%\n            darker. This is intended to reduce the likelihood of\n            reusing the same color when you have many slices, but\n            you can set `false` to disable. Colors provided in the\n            trace, using `marker.colors`, are never extended.\n        extendtreemapcolors\n            If `true`, the treemap slice colors (whether given by\n            `treemapcolorway` or inherited from `colorway`) will be\n            extended to three times its original length by first\n            repeating every color 20% lighter then each color 20%\n            darker. This is intended to reduce the likelihood of\n            reusing the same color when you have many slices, but\n            you can set `false` to disable. Colors provided in the\n            trace, using `marker.colors`, are never extended.\n        font\n            Sets the global font. Note that fonts used in traces\n            and other layout components inherit from the global\n            font.\n        funnelareacolorway\n            Sets the default funnelarea slice colors. Defaults to\n            the main `colorway` used for trace colors. If you\n            specify a new list here it can still be extended with\n            lighter and darker colors, see\n            `extendfunnelareacolors`.\n        funnelgap\n            Sets the gap (in plot fraction) between bars of\n            adjacent location coordinates.\n        funnelgroupgap\n            Sets the gap (in plot fraction) between bars of the\n            same location coordinate.\n        funnelmode\n            Determines how bars at the same location coordinate are\n            displayed on the graph. With \"stack\", the bars are\n            stacked on top of one another With \"group\", the bars\n            are plotted next to one another centered around the\n            shared location. With \"overlay\", the bars are plotted\n            over one another, you might need to reduce \"opacity\" to\n            see multiple bars.\n        geo\n            :class:`plotly.graph_objects.layout.Geo` instance or\n            dict with compatible properties\n        grid\n            :class:`plotly.graph_objects.layout.Grid` instance or\n            dict with compatible properties\n        height\n            Sets the plot's height (in px).\n        hiddenlabels\n            hiddenlabels is the funnelarea & pie chart analog of\n            visible:'legendonly' but it can contain many labels,\n            and can simultaneously hide slices from several\n            pies/funnelarea charts\n        hiddenlabelssrc\n            Sets the source reference on Chart Studio Cloud for\n            `hiddenlabels`.\n        hidesources\n            Determines whether or not a text link citing the data\n            source is placed at the bottom-right cored of the\n            figure. Has only an effect only on graphs that have\n            been generated via forked graphs from the Chart Studio\n            Cloud (at https://chart-studio.plotly.com or on-\n            premise).\n        hoverdistance\n            Sets the default distance (in pixels) to look for data\n            to add hover labels (-1 means no cutoff, 0 means no\n            looking for data). This is only a real distance for\n            hovering on point-like objects, like scatter points.\n            For area-like objects (bars, scatter fills, etc)\n            hovering is on inside the area and off outside, but\n            these objects will not supersede hover on point-like\n            objects in case of conflict.\n        hoverlabel\n            :class:`plotly.graph_objects.layout.Hoverlabel`\n            instance or dict with compatible properties\n        hovermode\n            Determines the mode of hover interactions. If\n            \"closest\", a single hoverlabel will appear for the\n            \"closest\" point within the `hoverdistance`. If \"x\" (or\n            \"y\"), multiple hoverlabels will appear for multiple\n            points at the \"closest\" x- (or y-) coordinate within\n            the `hoverdistance`, with the caveat that no more than\n            one hoverlabel will appear per trace. If *x unified*\n            (or *y unified*), a single hoverlabel will appear\n            multiple points at the closest x- (or y-) coordinate\n            within the `hoverdistance` with the caveat that no more\n            than one hoverlabel will appear per trace. In this\n            mode, spikelines are enabled by default perpendicular\n            to the specified axis. If false, hover interactions are\n            disabled.\n        hoversubplots\n            Determines expansion of hover effects to other subplots\n            If \"single\" just the axis pair of the primary point is\n            included without overlaying subplots. If \"overlaying\"\n            all subplots using the main axis and occupying the same\n            space are included. If \"axis\", also include stacked\n            subplots using the same axis when `hovermode` is set to\n            \"x\", *x unified*, \"y\" or *y unified*.\n        iciclecolorway\n            Sets the default icicle slice colors. Defaults to the\n            main `colorway` used for trace colors. If you specify a\n            new list here it can still be extended with lighter and\n            darker colors, see `extendiciclecolors`.\n        images\n            A tuple of :class:`plotly.graph_objects.layout.Image`\n            instances or dicts with compatible properties\n        imagedefaults\n            When used in a template (as\n            layout.template.layout.imagedefaults), sets the default\n            property values to use for elements of layout.images\n        legend\n            :class:`plotly.graph_objects.layout.Legend` instance or\n            dict with compatible properties\n        map\n            :class:`plotly.graph_objects.layout.Map` instance or\n            dict with compatible properties\n        mapbox\n            :class:`plotly.graph_objects.layout.Mapbox` instance or\n            dict with compatible properties\n        margin\n            :class:`plotly.graph_objects.layout.Margin` instance or\n            dict with compatible properties\n        meta\n            Assigns extra meta information that can be used in\n            various `text` attributes. Attributes such as the\n            graph, axis and colorbar `title.text`, annotation\n            `text` `trace.name` in legend items, `rangeselector`,\n            `updatemenus` and `sliders` `label` text all support\n            `meta`. One can access `meta` fields using template\n            strings: `%{meta[i]}` where `i` is the index of the\n            `meta` item in question. `meta` can also be an object\n            for example `{key: value}` which can be accessed\n            %{meta[key]}.\n        metasrc\n            Sets the source reference on Chart Studio Cloud for\n            `meta`.\n        minreducedheight\n            Minimum height of the plot with margin.automargin\n            applied (in px)\n        minreducedwidth\n            Minimum width of the plot with margin.automargin\n            applied (in px)\n        modebar\n            :class:`plotly.graph_objects.layout.Modebar` instance\n            or dict with compatible properties\n        newselection\n            :class:`plotly.graph_objects.layout.Newselection`\n            instance or dict with compatible properties\n        newshape\n            :class:`plotly.graph_objects.layout.Newshape` instance\n            or dict with compatible properties\n        paper_bgcolor\n            Sets the background color of the paper where the graph\n            is drawn.\n        piecolorway\n            Sets the default pie slice colors. Defaults to the main\n            `colorway` used for trace colors. If you specify a new\n            list here it can still be extended with lighter and\n            darker colors, see `extendpiecolors`.\n        plot_bgcolor\n            Sets the background color of the plotting area in-\n            between x and y axes.\n        polar\n            :class:`plotly.graph_objects.layout.Polar` instance or\n            dict with compatible properties\n        scattergap\n            Sets the gap (in plot fraction) between scatter points\n            of adjacent location coordinates. Defaults to `bargap`.\n        scattermode\n            Determines how scatter points at the same location\n            coordinate are displayed on the graph. With \"group\",\n            the scatter points are plotted next to one another\n            centered around the shared location. With \"overlay\",\n            the scatter points are plotted over one another, you\n            might need to reduce \"opacity\" to see multiple scatter\n            points.\n        scene\n            :class:`plotly.graph_objects.layout.Scene` instance or\n            dict with compatible properties\n        selectdirection\n            When `dragmode` is set to \"select\", this limits the\n            selection of the drag to horizontal, vertical or\n            diagonal. \"h\" only allows horizontal selection, \"v\"\n            only vertical, \"d\" only diagonal and \"any\" sets no\n            limit.\n        selectionrevision\n            Controls persistence of user-driven changes in selected\n            points from all traces.\n        selections\n            A tuple of\n            :class:`plotly.graph_objects.layout.Selection`\n            instances or dicts with compatible properties\n        selectiondefaults\n            When used in a template (as\n            layout.template.layout.selectiondefaults), sets the\n            default property values to use for elements of\n            layout.selections\n        separators\n            Sets the decimal and thousand separators. For example,\n            *. * puts a '.' before decimals and a space between\n            thousands. In English locales, dflt is \".,\" but other\n            locales may alter this default.\n        shapes\n            A tuple of :class:`plotly.graph_objects.layout.Shape`\n            instances or dicts with compatible properties\n        shapedefaults\n            When used in a template (as\n            layout.template.layout.shapedefaults), sets the default\n            property values to use for elements of layout.shapes\n        showlegend\n            Determines whether or not a legend is drawn. Default is\n            `true` if there is a trace to show and any of these: a)\n            Two or more traces would by default be shown in the\n            legend. b) One pie trace is shown in the legend. c) One\n            trace is explicitly given with `showlegend: true`.\n        sliders\n            A tuple of :class:`plotly.graph_objects.layout.Slider`\n            instances or dicts with compatible properties\n        sliderdefaults\n            When used in a template (as\n            layout.template.layout.sliderdefaults), sets the\n            default property values to use for elements of\n            layout.sliders\n        smith\n            :class:`plotly.graph_objects.layout.Smith` instance or\n            dict with compatible properties\n        spikedistance\n            Sets the default distance (in pixels) to look for data\n            to draw spikelines to (-1 means no cutoff, 0 means no\n            looking for data). As with hoverdistance, distance does\n            not apply to area-like objects. In addition, some\n            objects can be hovered on but will not generate\n            spikelines, such as scatter fills.\n        sunburstcolorway\n            Sets the default sunburst slice colors. Defaults to the\n            main `colorway` used for trace colors. If you specify a\n            new list here it can still be extended with lighter and\n            darker colors, see `extendsunburstcolors`.\n        template\n            Default attributes to be applied to the plot. This\n            should be a dict with format: `{'layout':\n            layoutTemplate, 'data': {trace_type: [traceTemplate,\n            ...], ...}}` where `layoutTemplate` is a dict matching\n            the structure of `figure.layout` and `traceTemplate` is\n            a dict matching the structure of the trace with type\n            `trace_type` (e.g. 'scatter'). Alternatively, this may\n            be specified as an instance of\n            plotly.graph_objs.layout.Template.  Trace templates are\n            applied cyclically to traces of each type. Container\n            arrays (eg `annotations`) have special handling: An\n            object ending in `defaults` (eg `annotationdefaults`)\n            is applied to each array item. But if an item has a\n            `templateitemname` key we look in the template array\n            for an item with matching `name` and apply that\n            instead. If no matching `name` is found we mark the\n            item invisible. Any named template item not referenced\n            is appended to the end of the array, so this can be\n            used to add a watermark annotation or a logo image, for\n            example. To omit one of these items on the plot, make\n            an item with matching `templateitemname` and `visible:\n            false`.\n        ternary\n            :class:`plotly.graph_objects.layout.Ternary` instance\n            or dict with compatible properties\n        title\n            :class:`plotly.graph_objects.layout.Title` instance or\n            dict with compatible properties\n        titlefont\n            Deprecated: Please use layout.title.font instead. Sets\n            the title font. Note that the title's font used to be\n            customized by the now deprecated `titlefont` attribute.\n        transition\n            Sets transition options used during Plotly.react\n            updates.\n        treemapcolorway\n            Sets the default treemap slice colors. Defaults to the\n            main `colorway` used for trace colors. If you specify a\n            new list here it can still be extended with lighter and\n            darker colors, see `extendtreemapcolors`.\n        uirevision\n            Used to allow user interactions with the plot to\n            persist after `Plotly.react` calls that are unaware of\n            these interactions. If `uirevision` is omitted, or if\n            it is given and it changed from the previous\n            `Plotly.react` call, the exact new figure is used. If\n            `uirevision` is truthy and did NOT change, any\n            attribute that has been affected by user interactions\n            and did not receive a different value in the new figure\n            will keep the interaction value. `layout.uirevision`\n            attribute serves as the default for `uirevision`\n            attributes in various sub-containers. For finer control\n            you can set these sub-attributes directly. For example,\n            if your app separately controls the data on the x and y\n            axes you might set `xaxis.uirevision=*time*` and\n            `yaxis.uirevision=*cost*`. Then if only the y data is\n            changed, you can update `yaxis.uirevision=*quantity*`\n            and the y axis range will reset but the x axis range\n            will retain any user-driven zoom.\n        uniformtext\n            :class:`plotly.graph_objects.layout.Uniformtext`\n            instance or dict with compatible properties\n        updatemenus\n            A tuple of\n            :class:`plotly.graph_objects.layout.Updatemenu`\n            instances or dicts with compatible properties\n        updatemenudefaults\n            When used in a template (as\n            layout.template.layout.updatemenudefaults), sets the\n            default property values to use for elements of\n            layout.updatemenus\n        violingap\n            Sets the gap (in plot fraction) between violins of\n            adjacent location coordinates. Has no effect on traces\n            that have \"width\" set.\n        violingroupgap\n            Sets the gap (in plot fraction) between violins of the\n            same location coordinate. Has no effect on traces that\n            have \"width\" set.\n        violinmode\n            Determines how violins at the same location coordinate\n            are displayed on the graph. If \"group\", the violins are\n            plotted next to one another centered around the shared\n            location. If \"overlay\", the violins are plotted over\n            one another, you might need to set \"opacity\" to see\n            them multiple violins. Has no effect on traces that\n            have \"width\" set.\n        waterfallgap\n            Sets the gap (in plot fraction) between bars of\n            adjacent location coordinates.\n        waterfallgroupgap\n            Sets the gap (in plot fraction) between bars of the\n            same location coordinate.\n        waterfallmode\n            Determines how bars at the same location coordinate are\n            displayed on the graph. With \"group\", the bars are\n            plotted next to one another centered around the shared\n            location. With \"overlay\", the bars are plotted over one\n            another, you might need to reduce \"opacity\" to see\n            multiple bars.\n        width\n            Sets the plot's width (in px).\n        xaxis\n            :class:`plotly.graph_objects.layout.XAxis` instance or\n            dict with compatible properties\n        yaxis\n            :class:`plotly.graph_objects.layout.YAxis` instance or\n            dict with compatible properties\n        \nDid you mean \"bargap\"?\n\nBad property path:\nlabelalias\n^^^^^^^^^^"
     ]
    }
   ],
   "source": [
    "import plotly.graph_objects as go\n",
    "df_stocks = px.data.stocks()\n",
    "\n",
    "fig = px.line(df_stocks, x = \"date\", y = ['GOOG', 'AAPL'], \n",
    "        labels = dict(x = 'Date', y = 'Price'), title = 'Apple vs Google')\n",
    "\n",
    "fig.update_layout(\n",
    "    xaxis = dict(\n",
    "        title = \"Date\"\n",
    "    ),\n",
    "    yaxis = dict(\n",
    "        title = \"Price\"\n",
    "    )\n",
    ")\n",
    "fig"
   ]
  },
  {
   "cell_type": "code",
   "execution_count": 48,
   "metadata": {},
   "outputs": [
    {
     "data": {
      "application/vnd.plotly.v1+json": {
       "config": {
        "plotlyServerURL": "https://plot.ly"
       },
       "data": [
        {
         "mode": "lines",
         "name": "Apple",
         "type": "scatter",
         "x": [
          "2018-01-01",
          "2018-01-08",
          "2018-01-15",
          "2018-01-22",
          "2018-01-29",
          "2018-02-05",
          "2018-02-12",
          "2018-02-19",
          "2018-02-26",
          "2018-03-05",
          "2018-03-12",
          "2018-03-19",
          "2018-03-26",
          "2018-04-02",
          "2018-04-09",
          "2018-04-16",
          "2018-04-23",
          "2018-04-30",
          "2018-05-07",
          "2018-05-14",
          "2018-05-21",
          "2018-05-28",
          "2018-06-04",
          "2018-06-11",
          "2018-06-18",
          "2018-06-25",
          "2018-07-02",
          "2018-07-09",
          "2018-07-16",
          "2018-07-23",
          "2018-07-30",
          "2018-08-06",
          "2018-08-13",
          "2018-08-20",
          "2018-08-27",
          "2018-09-03",
          "2018-09-10",
          "2018-09-17",
          "2018-09-24",
          "2018-10-01",
          "2018-10-08",
          "2018-10-15",
          "2018-10-22",
          "2018-10-29",
          "2018-11-05",
          "2018-11-12",
          "2018-11-19",
          "2018-11-26",
          "2018-12-03",
          "2018-12-10",
          "2018-12-17",
          "2018-12-24",
          "2018-12-31",
          "2019-01-07",
          "2019-01-14",
          "2019-01-21",
          "2019-01-28",
          "2019-02-04",
          "2019-02-11",
          "2019-02-18",
          "2019-02-25",
          "2019-03-04",
          "2019-03-11",
          "2019-03-18",
          "2019-03-25",
          "2019-04-01",
          "2019-04-08",
          "2019-04-15",
          "2019-04-22",
          "2019-04-29",
          "2019-05-06",
          "2019-05-13",
          "2019-05-20",
          "2019-05-27",
          "2019-06-03",
          "2019-06-10",
          "2019-06-17",
          "2019-06-24",
          "2019-07-01",
          "2019-07-08",
          "2019-07-15",
          "2019-07-22",
          "2019-07-29",
          "2019-08-05",
          "2019-08-12",
          "2019-08-19",
          "2019-08-26",
          "2019-09-02",
          "2019-09-09",
          "2019-09-16",
          "2019-09-23",
          "2019-09-30",
          "2019-10-07",
          "2019-10-14",
          "2019-10-21",
          "2019-10-28",
          "2019-11-04",
          "2019-11-11",
          "2019-11-18",
          "2019-11-25",
          "2019-12-02",
          "2019-12-09",
          "2019-12-16",
          "2019-12-23",
          "2019-12-30"
         ],
         "y": [
          1,
          1.0119428342857142,
          1.0197714685714288,
          0.9800571142857144,
          0.9171428571428571,
          0.8937714514285715,
          0.9853142457142856,
          1.002857142857143,
          1.006914325714286,
          1.02845712,
          1.0172571657142857,
          0.9425142971428572,
          0.9587428514285714,
          0.9621714571428572,
          0.99845712,
          0.9469714342857144,
          0.9275428971428572,
          1.0504571542857144,
          1.07765712,
          1.06462856,
          1.0776000114285715,
          1.0870857428571428,
          1.0954285542857145,
          1.0790856914285714,
          1.0566857028571428,
          1.0577714342857143,
          1.0741142914285715,
          1.093314297142857,
          1.0939428685714283,
          1.0913142628571428,
          1.1885143142857142,
          1.1858857085714285,
          1.2433142971428572,
          1.235200022857143,
          1.3007428857142855,
          1.2645714457142856,
          1.279085691428571,
          1.2437714514285716,
          1.2899428857142856,
          1.2816571028571428,
          1.2692000057142856,
          1.253199988571429,
          1.236000017142857,
          1.1855999771428571,
          1.1684000057142856,
          1.1058857085714286,
          0.9845142457142856,
          1.0204571542857144,
          0.9628000285714284,
          0.9455999771428572,
          0.8613142628571429,
          0.8927428342857143,
          0.8471999714285714,
          0.8702285314285714,
          0.8961143257142857,
          0.9014856857142858,
          0.95154288,
          0.9737714514285716,
          0.97382856,
          0.9884000057142855,
          0.9998285771428572,
          0.9880571657142858,
          1.0635428285714286,
          1.0917143028571428,
          1.0854285542857145,
          1.1257142857142857,
          1.1363999714285713,
          1.1649142914285715,
          1.1674285885714286,
          1.21,
          1.126742817142857,
          1.08,
          1.02268572,
          1.00040004,
          1.0865713942857145,
          1.1013714571428572,
          1.135885708571429,
          1.130971417142857,
          1.167028548571429,
          1.1617143028571428,
          1.15765712,
          1.1870857428571429,
          1.1658285942857145,
          1.1485143142857142,
          1.18,
          1.1579428514285717,
          1.1928000285714286,
          1.218628542857143,
          1.25,
          1.2441714057142856,
          1.25040004,
          1.2971999714285716,
          1.3497714685714286,
          1.3509143085714286,
          1.409028582857143,
          1.4618286114285712,
          1.4865143714285716,
          1.5186286285714288,
          1.4958857085714288,
          1.5271428571428571,
          1.5469142342857145,
          1.57228568,
          1.5968000114285714,
          1.6559999314285714,
          1.6779999657142857
         ]
        },
        {
         "line": {
          "color": "firebrick",
          "dash": "dashdot",
          "width": 3
         },
         "mode": "lines+markers",
         "name": "Apple",
         "type": "scatter",
         "x": [
          "2018-01-01",
          "2018-01-08",
          "2018-01-15",
          "2018-01-22",
          "2018-01-29",
          "2018-02-05",
          "2018-02-12",
          "2018-02-19",
          "2018-02-26",
          "2018-03-05",
          "2018-03-12",
          "2018-03-19",
          "2018-03-26",
          "2018-04-02",
          "2018-04-09",
          "2018-04-16",
          "2018-04-23",
          "2018-04-30",
          "2018-05-07",
          "2018-05-14",
          "2018-05-21",
          "2018-05-28",
          "2018-06-04",
          "2018-06-11",
          "2018-06-18",
          "2018-06-25",
          "2018-07-02",
          "2018-07-09",
          "2018-07-16",
          "2018-07-23",
          "2018-07-30",
          "2018-08-06",
          "2018-08-13",
          "2018-08-20",
          "2018-08-27",
          "2018-09-03",
          "2018-09-10",
          "2018-09-17",
          "2018-09-24",
          "2018-10-01",
          "2018-10-08",
          "2018-10-15",
          "2018-10-22",
          "2018-10-29",
          "2018-11-05",
          "2018-11-12",
          "2018-11-19",
          "2018-11-26",
          "2018-12-03",
          "2018-12-10",
          "2018-12-17",
          "2018-12-24",
          "2018-12-31",
          "2019-01-07",
          "2019-01-14",
          "2019-01-21",
          "2019-01-28",
          "2019-02-04",
          "2019-02-11",
          "2019-02-18",
          "2019-02-25",
          "2019-03-04",
          "2019-03-11",
          "2019-03-18",
          "2019-03-25",
          "2019-04-01",
          "2019-04-08",
          "2019-04-15",
          "2019-04-22",
          "2019-04-29",
          "2019-05-06",
          "2019-05-13",
          "2019-05-20",
          "2019-05-27",
          "2019-06-03",
          "2019-06-10",
          "2019-06-17",
          "2019-06-24",
          "2019-07-01",
          "2019-07-08",
          "2019-07-15",
          "2019-07-22",
          "2019-07-29",
          "2019-08-05",
          "2019-08-12",
          "2019-08-19",
          "2019-08-26",
          "2019-09-02",
          "2019-09-09",
          "2019-09-16",
          "2019-09-23",
          "2019-09-30",
          "2019-10-07",
          "2019-10-14",
          "2019-10-21",
          "2019-10-28",
          "2019-11-04",
          "2019-11-11",
          "2019-11-18",
          "2019-11-25",
          "2019-12-02",
          "2019-12-09",
          "2019-12-16",
          "2019-12-23",
          "2019-12-30"
         ],
         "y": [
          1,
          1.0618806117055757,
          1.0532404284307677,
          1.1406756202628388,
          1.1633743377885228,
          1.0898676795580526,
          1.1786207619316666,
          1.2203654438831366,
          1.2205688381237838,
          1.284548542665418,
          1.2786826844946546,
          1.2167532101702832,
          1.1775224533715958,
          1.1432627388670606,
          1.16405781403187,
          1.242730666448932,
          1.2794473988384474,
          1.2862244591394254,
          1.3040906767647622,
          1.2808711585229775,
          1.3099809658381354,
          1.3355191588974509,
          1.3700554610940725,
          1.3960736368996989,
          1.3958296232020404,
          1.3829181608736414,
          1.391729163581091,
          1.4750394640760272,
          1.4755844971819587,
          1.4784890230752108,
          1.4833867718479574,
          1.5346502643964448,
          1.5313308069300795,
          1.5501814209506477,
          1.637494456642517,
          1.5881591374274802,
          1.6029011479217037,
          1.5580080272628667,
          1.6295946560652816,
          1.5373757268816928,
          1.4551718788522234,
          1.435174192909178,
          1.3365524179114776,
          1.3550368620941855,
          1.3931936419790223,
          1.2963616956201691,
          1.22204146042711,
          1.375083410656027,
          1.3254226411301075,
          1.295141330176286,
          1.1206615472526131,
          1.202483038516975,
          1.2817010232963573,
          1.334721869745653,
          1.3799892040777797,
          1.359137222458745,
          1.3230632475991762,
          1.2921391799289847,
          1.3081910371293215,
          1.3273996770823542,
          1.3600809993969647,
          1.3186455808291295,
          1.393136635454831,
          1.435776232539301,
          1.4487771761299302,
          1.4947687054188046,
          1.4994712046698764,
          1.5146280474808236,
          1.5869876346023932,
          1.596612214272432,
          1.537644171481961,
          1.5205753430783882,
          1.483378627942562,
          1.44415601504927,
          1.4677172714127285,
          1.521120475440709,
          1.5549896884611636,
          1.540613747734834,
          1.58070684404494,
          1.6361032717659916,
          1.5982882308164057,
          1.5808207570233568,
          1.4833460531345568,
          1.4706054102388,
          1.4583936118945735,
          1.4234505212166575,
          1.445148654606286,
          1.491701504811883,
          1.4964446227063888,
          1.4596872708598625,
          1.4037863302335007,
          1.4153391824933792,
          1.4090502488441077,
          1.4298696556551374,
          1.43297747571907,
          1.4574742658589632,
          1.452950830015895,
          1.4152089825177483,
          1.420277551536714,
          1.465089434095106,
          1.425061388144621,
          1.4326601685000062,
          1.4534552436648156,
          1.52122624451373,
          1.503360026888393
         ]
        }
       ],
       "layout": {
        "template": {
         "data": {
          "bar": [
           {
            "error_x": {
             "color": "#2a3f5f"
            },
            "error_y": {
             "color": "#2a3f5f"
            },
            "marker": {
             "line": {
              "color": "#E5ECF6",
              "width": 0.5
             },
             "pattern": {
              "fillmode": "overlay",
              "size": 10,
              "solidity": 0.2
             }
            },
            "type": "bar"
           }
          ],
          "barpolar": [
           {
            "marker": {
             "line": {
              "color": "#E5ECF6",
              "width": 0.5
             },
             "pattern": {
              "fillmode": "overlay",
              "size": 10,
              "solidity": 0.2
             }
            },
            "type": "barpolar"
           }
          ],
          "carpet": [
           {
            "aaxis": {
             "endlinecolor": "#2a3f5f",
             "gridcolor": "white",
             "linecolor": "white",
             "minorgridcolor": "white",
             "startlinecolor": "#2a3f5f"
            },
            "baxis": {
             "endlinecolor": "#2a3f5f",
             "gridcolor": "white",
             "linecolor": "white",
             "minorgridcolor": "white",
             "startlinecolor": "#2a3f5f"
            },
            "type": "carpet"
           }
          ],
          "choropleth": [
           {
            "colorbar": {
             "outlinewidth": 0,
             "ticks": ""
            },
            "type": "choropleth"
           }
          ],
          "contour": [
           {
            "colorbar": {
             "outlinewidth": 0,
             "ticks": ""
            },
            "colorscale": [
             [
              0,
              "#0d0887"
             ],
             [
              0.1111111111111111,
              "#46039f"
             ],
             [
              0.2222222222222222,
              "#7201a8"
             ],
             [
              0.3333333333333333,
              "#9c179e"
             ],
             [
              0.4444444444444444,
              "#bd3786"
             ],
             [
              0.5555555555555556,
              "#d8576b"
             ],
             [
              0.6666666666666666,
              "#ed7953"
             ],
             [
              0.7777777777777778,
              "#fb9f3a"
             ],
             [
              0.8888888888888888,
              "#fdca26"
             ],
             [
              1,
              "#f0f921"
             ]
            ],
            "type": "contour"
           }
          ],
          "contourcarpet": [
           {
            "colorbar": {
             "outlinewidth": 0,
             "ticks": ""
            },
            "type": "contourcarpet"
           }
          ],
          "heatmap": [
           {
            "colorbar": {
             "outlinewidth": 0,
             "ticks": ""
            },
            "colorscale": [
             [
              0,
              "#0d0887"
             ],
             [
              0.1111111111111111,
              "#46039f"
             ],
             [
              0.2222222222222222,
              "#7201a8"
             ],
             [
              0.3333333333333333,
              "#9c179e"
             ],
             [
              0.4444444444444444,
              "#bd3786"
             ],
             [
              0.5555555555555556,
              "#d8576b"
             ],
             [
              0.6666666666666666,
              "#ed7953"
             ],
             [
              0.7777777777777778,
              "#fb9f3a"
             ],
             [
              0.8888888888888888,
              "#fdca26"
             ],
             [
              1,
              "#f0f921"
             ]
            ],
            "type": "heatmap"
           }
          ],
          "heatmapgl": [
           {
            "colorbar": {
             "outlinewidth": 0,
             "ticks": ""
            },
            "colorscale": [
             [
              0,
              "#0d0887"
             ],
             [
              0.1111111111111111,
              "#46039f"
             ],
             [
              0.2222222222222222,
              "#7201a8"
             ],
             [
              0.3333333333333333,
              "#9c179e"
             ],
             [
              0.4444444444444444,
              "#bd3786"
             ],
             [
              0.5555555555555556,
              "#d8576b"
             ],
             [
              0.6666666666666666,
              "#ed7953"
             ],
             [
              0.7777777777777778,
              "#fb9f3a"
             ],
             [
              0.8888888888888888,
              "#fdca26"
             ],
             [
              1,
              "#f0f921"
             ]
            ],
            "type": "heatmapgl"
           }
          ],
          "histogram": [
           {
            "marker": {
             "pattern": {
              "fillmode": "overlay",
              "size": 10,
              "solidity": 0.2
             }
            },
            "type": "histogram"
           }
          ],
          "histogram2d": [
           {
            "colorbar": {
             "outlinewidth": 0,
             "ticks": ""
            },
            "colorscale": [
             [
              0,
              "#0d0887"
             ],
             [
              0.1111111111111111,
              "#46039f"
             ],
             [
              0.2222222222222222,
              "#7201a8"
             ],
             [
              0.3333333333333333,
              "#9c179e"
             ],
             [
              0.4444444444444444,
              "#bd3786"
             ],
             [
              0.5555555555555556,
              "#d8576b"
             ],
             [
              0.6666666666666666,
              "#ed7953"
             ],
             [
              0.7777777777777778,
              "#fb9f3a"
             ],
             [
              0.8888888888888888,
              "#fdca26"
             ],
             [
              1,
              "#f0f921"
             ]
            ],
            "type": "histogram2d"
           }
          ],
          "histogram2dcontour": [
           {
            "colorbar": {
             "outlinewidth": 0,
             "ticks": ""
            },
            "colorscale": [
             [
              0,
              "#0d0887"
             ],
             [
              0.1111111111111111,
              "#46039f"
             ],
             [
              0.2222222222222222,
              "#7201a8"
             ],
             [
              0.3333333333333333,
              "#9c179e"
             ],
             [
              0.4444444444444444,
              "#bd3786"
             ],
             [
              0.5555555555555556,
              "#d8576b"
             ],
             [
              0.6666666666666666,
              "#ed7953"
             ],
             [
              0.7777777777777778,
              "#fb9f3a"
             ],
             [
              0.8888888888888888,
              "#fdca26"
             ],
             [
              1,
              "#f0f921"
             ]
            ],
            "type": "histogram2dcontour"
           }
          ],
          "mesh3d": [
           {
            "colorbar": {
             "outlinewidth": 0,
             "ticks": ""
            },
            "type": "mesh3d"
           }
          ],
          "parcoords": [
           {
            "line": {
             "colorbar": {
              "outlinewidth": 0,
              "ticks": ""
             }
            },
            "type": "parcoords"
           }
          ],
          "pie": [
           {
            "automargin": true,
            "type": "pie"
           }
          ],
          "scatter": [
           {
            "fillpattern": {
             "fillmode": "overlay",
             "size": 10,
             "solidity": 0.2
            },
            "type": "scatter"
           }
          ],
          "scatter3d": [
           {
            "line": {
             "colorbar": {
              "outlinewidth": 0,
              "ticks": ""
             }
            },
            "marker": {
             "colorbar": {
              "outlinewidth": 0,
              "ticks": ""
             }
            },
            "type": "scatter3d"
           }
          ],
          "scattercarpet": [
           {
            "marker": {
             "colorbar": {
              "outlinewidth": 0,
              "ticks": ""
             }
            },
            "type": "scattercarpet"
           }
          ],
          "scattergeo": [
           {
            "marker": {
             "colorbar": {
              "outlinewidth": 0,
              "ticks": ""
             }
            },
            "type": "scattergeo"
           }
          ],
          "scattergl": [
           {
            "marker": {
             "colorbar": {
              "outlinewidth": 0,
              "ticks": ""
             }
            },
            "type": "scattergl"
           }
          ],
          "scattermapbox": [
           {
            "marker": {
             "colorbar": {
              "outlinewidth": 0,
              "ticks": ""
             }
            },
            "type": "scattermapbox"
           }
          ],
          "scatterpolar": [
           {
            "marker": {
             "colorbar": {
              "outlinewidth": 0,
              "ticks": ""
             }
            },
            "type": "scatterpolar"
           }
          ],
          "scatterpolargl": [
           {
            "marker": {
             "colorbar": {
              "outlinewidth": 0,
              "ticks": ""
             }
            },
            "type": "scatterpolargl"
           }
          ],
          "scatterternary": [
           {
            "marker": {
             "colorbar": {
              "outlinewidth": 0,
              "ticks": ""
             }
            },
            "type": "scatterternary"
           }
          ],
          "surface": [
           {
            "colorbar": {
             "outlinewidth": 0,
             "ticks": ""
            },
            "colorscale": [
             [
              0,
              "#0d0887"
             ],
             [
              0.1111111111111111,
              "#46039f"
             ],
             [
              0.2222222222222222,
              "#7201a8"
             ],
             [
              0.3333333333333333,
              "#9c179e"
             ],
             [
              0.4444444444444444,
              "#bd3786"
             ],
             [
              0.5555555555555556,
              "#d8576b"
             ],
             [
              0.6666666666666666,
              "#ed7953"
             ],
             [
              0.7777777777777778,
              "#fb9f3a"
             ],
             [
              0.8888888888888888,
              "#fdca26"
             ],
             [
              1,
              "#f0f921"
             ]
            ],
            "type": "surface"
           }
          ],
          "table": [
           {
            "cells": {
             "fill": {
              "color": "#EBF0F8"
             },
             "line": {
              "color": "white"
             }
            },
            "header": {
             "fill": {
              "color": "#C8D4E3"
             },
             "line": {
              "color": "white"
             }
            },
            "type": "table"
           }
          ]
         },
         "layout": {
          "annotationdefaults": {
           "arrowcolor": "#2a3f5f",
           "arrowhead": 0,
           "arrowwidth": 1
          },
          "autotypenumbers": "strict",
          "coloraxis": {
           "colorbar": {
            "outlinewidth": 0,
            "ticks": ""
           }
          },
          "colorscale": {
           "diverging": [
            [
             0,
             "#8e0152"
            ],
            [
             0.1,
             "#c51b7d"
            ],
            [
             0.2,
             "#de77ae"
            ],
            [
             0.3,
             "#f1b6da"
            ],
            [
             0.4,
             "#fde0ef"
            ],
            [
             0.5,
             "#f7f7f7"
            ],
            [
             0.6,
             "#e6f5d0"
            ],
            [
             0.7,
             "#b8e186"
            ],
            [
             0.8,
             "#7fbc41"
            ],
            [
             0.9,
             "#4d9221"
            ],
            [
             1,
             "#276419"
            ]
           ],
           "sequential": [
            [
             0,
             "#0d0887"
            ],
            [
             0.1111111111111111,
             "#46039f"
            ],
            [
             0.2222222222222222,
             "#7201a8"
            ],
            [
             0.3333333333333333,
             "#9c179e"
            ],
            [
             0.4444444444444444,
             "#bd3786"
            ],
            [
             0.5555555555555556,
             "#d8576b"
            ],
            [
             0.6666666666666666,
             "#ed7953"
            ],
            [
             0.7777777777777778,
             "#fb9f3a"
            ],
            [
             0.8888888888888888,
             "#fdca26"
            ],
            [
             1,
             "#f0f921"
            ]
           ],
           "sequentialminus": [
            [
             0,
             "#0d0887"
            ],
            [
             0.1111111111111111,
             "#46039f"
            ],
            [
             0.2222222222222222,
             "#7201a8"
            ],
            [
             0.3333333333333333,
             "#9c179e"
            ],
            [
             0.4444444444444444,
             "#bd3786"
            ],
            [
             0.5555555555555556,
             "#d8576b"
            ],
            [
             0.6666666666666666,
             "#ed7953"
            ],
            [
             0.7777777777777778,
             "#fb9f3a"
            ],
            [
             0.8888888888888888,
             "#fdca26"
            ],
            [
             1,
             "#f0f921"
            ]
           ]
          },
          "colorway": [
           "#636efa",
           "#EF553B",
           "#00cc96",
           "#ab63fa",
           "#FFA15A",
           "#19d3f3",
           "#FF6692",
           "#B6E880",
           "#FF97FF",
           "#FECB52"
          ],
          "font": {
           "color": "#2a3f5f"
          },
          "geo": {
           "bgcolor": "white",
           "lakecolor": "white",
           "landcolor": "#E5ECF6",
           "showlakes": true,
           "showland": true,
           "subunitcolor": "white"
          },
          "hoverlabel": {
           "align": "left"
          },
          "hovermode": "closest",
          "mapbox": {
           "style": "light"
          },
          "paper_bgcolor": "white",
          "plot_bgcolor": "#E5ECF6",
          "polar": {
           "angularaxis": {
            "gridcolor": "white",
            "linecolor": "white",
            "ticks": ""
           },
           "bgcolor": "#E5ECF6",
           "radialaxis": {
            "gridcolor": "white",
            "linecolor": "white",
            "ticks": ""
           }
          },
          "scene": {
           "xaxis": {
            "backgroundcolor": "#E5ECF6",
            "gridcolor": "white",
            "gridwidth": 2,
            "linecolor": "white",
            "showbackground": true,
            "ticks": "",
            "zerolinecolor": "white"
           },
           "yaxis": {
            "backgroundcolor": "#E5ECF6",
            "gridcolor": "white",
            "gridwidth": 2,
            "linecolor": "white",
            "showbackground": true,
            "ticks": "",
            "zerolinecolor": "white"
           },
           "zaxis": {
            "backgroundcolor": "#E5ECF6",
            "gridcolor": "white",
            "gridwidth": 2,
            "linecolor": "white",
            "showbackground": true,
            "ticks": "",
            "zerolinecolor": "white"
           }
          },
          "shapedefaults": {
           "line": {
            "color": "#2a3f5f"
           }
          },
          "ternary": {
           "aaxis": {
            "gridcolor": "white",
            "linecolor": "white",
            "ticks": ""
           },
           "baxis": {
            "gridcolor": "white",
            "linecolor": "white",
            "ticks": ""
           },
           "bgcolor": "#E5ECF6",
           "caxis": {
            "gridcolor": "white",
            "linecolor": "white",
            "ticks": ""
           }
          },
          "title": {
           "x": 0.05
          },
          "xaxis": {
           "automargin": true,
           "gridcolor": "white",
           "linecolor": "white",
           "ticks": "",
           "title": {
            "standoff": 15
           },
           "zerolinecolor": "white",
           "zerolinewidth": 2
          },
          "yaxis": {
           "automargin": true,
           "gridcolor": "white",
           "linecolor": "white",
           "ticks": "",
           "title": {
            "standoff": 15
           },
           "zerolinecolor": "white",
           "zerolinewidth": 2
          }
         }
        }
       }
      }
     },
     "metadata": {},
     "output_type": "display_data"
    }
   ],
   "source": [
    "fig = go.Figure()\n",
    "fig.add_trace(\n",
    "    go.Scatter(x = df_stocks.date, y = df_stocks.AAPL,\n",
    "               mode = 'lines', name = 'Apple')\n",
    ")\n",
    "fig.add_trace(\n",
    "    go.Scatter(x = df_stocks.date, y = df_stocks.AMZN,\n",
    "               mode = 'lines+markers', name = 'Apple',\n",
    "               line = dict(\n",
    "                   color = 'firebrick', width = 3, dash = 'dashdot'\n",
    "               )\n",
    "))"
   ]
  },
  {
   "cell_type": "markdown",
   "metadata": {},
   "source": [
    "# create a theme"
   ]
  },
  {
   "cell_type": "code",
   "execution_count": 57,
   "metadata": {},
   "outputs": [
    {
     "ename": "ValueError",
     "evalue": "Invalid property specified for object of type plotly.graph_objs.Layout: 'labels'\n\nDid you mean \"images\"?\n\n    Valid properties:\n        activeselection\n            :class:`plotly.graph_objects.layout.Activeselection`\n            instance or dict with compatible properties\n        activeshape\n            :class:`plotly.graph_objects.layout.Activeshape`\n            instance or dict with compatible properties\n        annotations\n            A tuple of\n            :class:`plotly.graph_objects.layout.Annotation`\n            instances or dicts with compatible properties\n        annotationdefaults\n            When used in a template (as\n            layout.template.layout.annotationdefaults), sets the\n            default property values to use for elements of\n            layout.annotations\n        autosize\n            Determines whether or not a layout width or height that\n            has been left undefined by the user is initialized on\n            each relayout. Note that, regardless of this attribute,\n            an undefined layout width or height is always\n            initialized on the first call to plot.\n        autotypenumbers\n            Using \"strict\" a numeric string in trace data is not\n            converted to a number. Using *convert types* a numeric\n            string in trace data may be treated as a number during\n            automatic axis `type` detection. This is the default\n            value; however it could be overridden for individual\n            axes.\n        barcornerradius\n            Sets the rounding of bar corners. May be an integer\n            number of pixels, or a percentage of bar width (as a\n            string ending in %).\n        bargap\n            Sets the gap (in plot fraction) between bars of\n            adjacent location coordinates.\n        bargroupgap\n            Sets the gap (in plot fraction) between bars of the\n            same location coordinate.\n        barmode\n            Determines how bars at the same location coordinate are\n            displayed on the graph. With \"stack\", the bars are\n            stacked on top of one another With \"relative\", the bars\n            are stacked on top of one another, with negative values\n            below the axis, positive values above With \"group\", the\n            bars are plotted next to one another centered around\n            the shared location. With \"overlay\", the bars are\n            plotted over one another, you might need to reduce\n            \"opacity\" to see multiple bars.\n        barnorm\n            Sets the normalization for bar traces on the graph.\n            With \"fraction\", the value of each bar is divided by\n            the sum of all values at that location coordinate.\n            \"percent\" is the same but multiplied by 100 to show\n            percentages.\n        boxgap\n            Sets the gap (in plot fraction) between boxes of\n            adjacent location coordinates. Has no effect on traces\n            that have \"width\" set.\n        boxgroupgap\n            Sets the gap (in plot fraction) between boxes of the\n            same location coordinate. Has no effect on traces that\n            have \"width\" set.\n        boxmode\n            Determines how boxes at the same location coordinate\n            are displayed on the graph. If \"group\", the boxes are\n            plotted next to one another centered around the shared\n            location. If \"overlay\", the boxes are plotted over one\n            another, you might need to set \"opacity\" to see them\n            multiple boxes. Has no effect on traces that have\n            \"width\" set.\n        calendar\n            Sets the default calendar system to use for\n            interpreting and displaying dates throughout the plot.\n        clickmode\n            Determines the mode of single click interactions.\n            \"event\" is the default value and emits the\n            `plotly_click` event. In addition this mode emits the\n            `plotly_selected` event in drag modes \"lasso\" and\n            \"select\", but with no event data attached (kept for\n            compatibility reasons). The \"select\" flag enables\n            selecting single data points via click. This mode also\n            supports persistent selections, meaning that pressing\n            Shift while clicking, adds to / subtracts from an\n            existing selection. \"select\" with `hovermode`: \"x\" can\n            be confusing, consider explicitly setting `hovermode`:\n            \"closest\" when using this feature. Selection events are\n            sent accordingly as long as \"event\" flag is set as\n            well. When the \"event\" flag is missing, `plotly_click`\n            and `plotly_selected` events are not fired.\n        coloraxis\n            :class:`plotly.graph_objects.layout.Coloraxis` instance\n            or dict with compatible properties\n        colorscale\n            :class:`plotly.graph_objects.layout.Colorscale`\n            instance or dict with compatible properties\n        colorway\n            Sets the default trace colors.\n        computed\n            Placeholder for exporting automargin-impacting values\n            namely `margin.t`, `margin.b`, `margin.l` and\n            `margin.r` in \"full-json\" mode.\n        datarevision\n            If provided, a changed value tells `Plotly.react` that\n            one or more data arrays has changed. This way you can\n            modify arrays in-place rather than making a complete\n            new copy for an incremental change. If NOT provided,\n            `Plotly.react` assumes that data arrays are being\n            treated as immutable, thus any data array with a\n            different identity from its predecessor contains new\n            data.\n        dragmode\n            Determines the mode of drag interactions. \"select\" and\n            \"lasso\" apply only to scatter traces with markers or\n            text. \"orbit\" and \"turntable\" apply only to 3D scenes.\n        editrevision\n            Controls persistence of user-driven changes in\n            `editable: true` configuration, other than trace names\n            and axis titles. Defaults to `layout.uirevision`.\n        extendfunnelareacolors\n            If `true`, the funnelarea slice colors (whether given\n            by `funnelareacolorway` or inherited from `colorway`)\n            will be extended to three times its original length by\n            first repeating every color 20% lighter then each color\n            20% darker. This is intended to reduce the likelihood\n            of reusing the same color when you have many slices,\n            but you can set `false` to disable. Colors provided in\n            the trace, using `marker.colors`, are never extended.\n        extendiciclecolors\n            If `true`, the icicle slice colors (whether given by\n            `iciclecolorway` or inherited from `colorway`) will be\n            extended to three times its original length by first\n            repeating every color 20% lighter then each color 20%\n            darker. This is intended to reduce the likelihood of\n            reusing the same color when you have many slices, but\n            you can set `false` to disable. Colors provided in the\n            trace, using `marker.colors`, are never extended.\n        extendpiecolors\n            If `true`, the pie slice colors (whether given by\n            `piecolorway` or inherited from `colorway`) will be\n            extended to three times its original length by first\n            repeating every color 20% lighter then each color 20%\n            darker. This is intended to reduce the likelihood of\n            reusing the same color when you have many slices, but\n            you can set `false` to disable. Colors provided in the\n            trace, using `marker.colors`, are never extended.\n        extendsunburstcolors\n            If `true`, the sunburst slice colors (whether given by\n            `sunburstcolorway` or inherited from `colorway`) will\n            be extended to three times its original length by first\n            repeating every color 20% lighter then each color 20%\n            darker. This is intended to reduce the likelihood of\n            reusing the same color when you have many slices, but\n            you can set `false` to disable. Colors provided in the\n            trace, using `marker.colors`, are never extended.\n        extendtreemapcolors\n            If `true`, the treemap slice colors (whether given by\n            `treemapcolorway` or inherited from `colorway`) will be\n            extended to three times its original length by first\n            repeating every color 20% lighter then each color 20%\n            darker. This is intended to reduce the likelihood of\n            reusing the same color when you have many slices, but\n            you can set `false` to disable. Colors provided in the\n            trace, using `marker.colors`, are never extended.\n        font\n            Sets the global font. Note that fonts used in traces\n            and other layout components inherit from the global\n            font.\n        funnelareacolorway\n            Sets the default funnelarea slice colors. Defaults to\n            the main `colorway` used for trace colors. If you\n            specify a new list here it can still be extended with\n            lighter and darker colors, see\n            `extendfunnelareacolors`.\n        funnelgap\n            Sets the gap (in plot fraction) between bars of\n            adjacent location coordinates.\n        funnelgroupgap\n            Sets the gap (in plot fraction) between bars of the\n            same location coordinate.\n        funnelmode\n            Determines how bars at the same location coordinate are\n            displayed on the graph. With \"stack\", the bars are\n            stacked on top of one another With \"group\", the bars\n            are plotted next to one another centered around the\n            shared location. With \"overlay\", the bars are plotted\n            over one another, you might need to reduce \"opacity\" to\n            see multiple bars.\n        geo\n            :class:`plotly.graph_objects.layout.Geo` instance or\n            dict with compatible properties\n        grid\n            :class:`plotly.graph_objects.layout.Grid` instance or\n            dict with compatible properties\n        height\n            Sets the plot's height (in px).\n        hiddenlabels\n            hiddenlabels is the funnelarea & pie chart analog of\n            visible:'legendonly' but it can contain many labels,\n            and can simultaneously hide slices from several\n            pies/funnelarea charts\n        hiddenlabelssrc\n            Sets the source reference on Chart Studio Cloud for\n            `hiddenlabels`.\n        hidesources\n            Determines whether or not a text link citing the data\n            source is placed at the bottom-right cored of the\n            figure. Has only an effect only on graphs that have\n            been generated via forked graphs from the Chart Studio\n            Cloud (at https://chart-studio.plotly.com or on-\n            premise).\n        hoverdistance\n            Sets the default distance (in pixels) to look for data\n            to add hover labels (-1 means no cutoff, 0 means no\n            looking for data). This is only a real distance for\n            hovering on point-like objects, like scatter points.\n            For area-like objects (bars, scatter fills, etc)\n            hovering is on inside the area and off outside, but\n            these objects will not supersede hover on point-like\n            objects in case of conflict.\n        hoverlabel\n            :class:`plotly.graph_objects.layout.Hoverlabel`\n            instance or dict with compatible properties\n        hovermode\n            Determines the mode of hover interactions. If\n            \"closest\", a single hoverlabel will appear for the\n            \"closest\" point within the `hoverdistance`. If \"x\" (or\n            \"y\"), multiple hoverlabels will appear for multiple\n            points at the \"closest\" x- (or y-) coordinate within\n            the `hoverdistance`, with the caveat that no more than\n            one hoverlabel will appear per trace. If *x unified*\n            (or *y unified*), a single hoverlabel will appear\n            multiple points at the closest x- (or y-) coordinate\n            within the `hoverdistance` with the caveat that no more\n            than one hoverlabel will appear per trace. In this\n            mode, spikelines are enabled by default perpendicular\n            to the specified axis. If false, hover interactions are\n            disabled.\n        hoversubplots\n            Determines expansion of hover effects to other subplots\n            If \"single\" just the axis pair of the primary point is\n            included without overlaying subplots. If \"overlaying\"\n            all subplots using the main axis and occupying the same\n            space are included. If \"axis\", also include stacked\n            subplots using the same axis when `hovermode` is set to\n            \"x\", *x unified*, \"y\" or *y unified*.\n        iciclecolorway\n            Sets the default icicle slice colors. Defaults to the\n            main `colorway` used for trace colors. If you specify a\n            new list here it can still be extended with lighter and\n            darker colors, see `extendiciclecolors`.\n        images\n            A tuple of :class:`plotly.graph_objects.layout.Image`\n            instances or dicts with compatible properties\n        imagedefaults\n            When used in a template (as\n            layout.template.layout.imagedefaults), sets the default\n            property values to use for elements of layout.images\n        legend\n            :class:`plotly.graph_objects.layout.Legend` instance or\n            dict with compatible properties\n        map\n            :class:`plotly.graph_objects.layout.Map` instance or\n            dict with compatible properties\n        mapbox\n            :class:`plotly.graph_objects.layout.Mapbox` instance or\n            dict with compatible properties\n        margin\n            :class:`plotly.graph_objects.layout.Margin` instance or\n            dict with compatible properties\n        meta\n            Assigns extra meta information that can be used in\n            various `text` attributes. Attributes such as the\n            graph, axis and colorbar `title.text`, annotation\n            `text` `trace.name` in legend items, `rangeselector`,\n            `updatemenus` and `sliders` `label` text all support\n            `meta`. One can access `meta` fields using template\n            strings: `%{meta[i]}` where `i` is the index of the\n            `meta` item in question. `meta` can also be an object\n            for example `{key: value}` which can be accessed\n            %{meta[key]}.\n        metasrc\n            Sets the source reference on Chart Studio Cloud for\n            `meta`.\n        minreducedheight\n            Minimum height of the plot with margin.automargin\n            applied (in px)\n        minreducedwidth\n            Minimum width of the plot with margin.automargin\n            applied (in px)\n        modebar\n            :class:`plotly.graph_objects.layout.Modebar` instance\n            or dict with compatible properties\n        newselection\n            :class:`plotly.graph_objects.layout.Newselection`\n            instance or dict with compatible properties\n        newshape\n            :class:`plotly.graph_objects.layout.Newshape` instance\n            or dict with compatible properties\n        paper_bgcolor\n            Sets the background color of the paper where the graph\n            is drawn.\n        piecolorway\n            Sets the default pie slice colors. Defaults to the main\n            `colorway` used for trace colors. If you specify a new\n            list here it can still be extended with lighter and\n            darker colors, see `extendpiecolors`.\n        plot_bgcolor\n            Sets the background color of the plotting area in-\n            between x and y axes.\n        polar\n            :class:`plotly.graph_objects.layout.Polar` instance or\n            dict with compatible properties\n        scattergap\n            Sets the gap (in plot fraction) between scatter points\n            of adjacent location coordinates. Defaults to `bargap`.\n        scattermode\n            Determines how scatter points at the same location\n            coordinate are displayed on the graph. With \"group\",\n            the scatter points are plotted next to one another\n            centered around the shared location. With \"overlay\",\n            the scatter points are plotted over one another, you\n            might need to reduce \"opacity\" to see multiple scatter\n            points.\n        scene\n            :class:`plotly.graph_objects.layout.Scene` instance or\n            dict with compatible properties\n        selectdirection\n            When `dragmode` is set to \"select\", this limits the\n            selection of the drag to horizontal, vertical or\n            diagonal. \"h\" only allows horizontal selection, \"v\"\n            only vertical, \"d\" only diagonal and \"any\" sets no\n            limit.\n        selectionrevision\n            Controls persistence of user-driven changes in selected\n            points from all traces.\n        selections\n            A tuple of\n            :class:`plotly.graph_objects.layout.Selection`\n            instances or dicts with compatible properties\n        selectiondefaults\n            When used in a template (as\n            layout.template.layout.selectiondefaults), sets the\n            default property values to use for elements of\n            layout.selections\n        separators\n            Sets the decimal and thousand separators. For example,\n            *. * puts a '.' before decimals and a space between\n            thousands. In English locales, dflt is \".,\" but other\n            locales may alter this default.\n        shapes\n            A tuple of :class:`plotly.graph_objects.layout.Shape`\n            instances or dicts with compatible properties\n        shapedefaults\n            When used in a template (as\n            layout.template.layout.shapedefaults), sets the default\n            property values to use for elements of layout.shapes\n        showlegend\n            Determines whether or not a legend is drawn. Default is\n            `true` if there is a trace to show and any of these: a)\n            Two or more traces would by default be shown in the\n            legend. b) One pie trace is shown in the legend. c) One\n            trace is explicitly given with `showlegend: true`.\n        sliders\n            A tuple of :class:`plotly.graph_objects.layout.Slider`\n            instances or dicts with compatible properties\n        sliderdefaults\n            When used in a template (as\n            layout.template.layout.sliderdefaults), sets the\n            default property values to use for elements of\n            layout.sliders\n        smith\n            :class:`plotly.graph_objects.layout.Smith` instance or\n            dict with compatible properties\n        spikedistance\n            Sets the default distance (in pixels) to look for data\n            to draw spikelines to (-1 means no cutoff, 0 means no\n            looking for data). As with hoverdistance, distance does\n            not apply to area-like objects. In addition, some\n            objects can be hovered on but will not generate\n            spikelines, such as scatter fills.\n        sunburstcolorway\n            Sets the default sunburst slice colors. Defaults to the\n            main `colorway` used for trace colors. If you specify a\n            new list here it can still be extended with lighter and\n            darker colors, see `extendsunburstcolors`.\n        template\n            Default attributes to be applied to the plot. This\n            should be a dict with format: `{'layout':\n            layoutTemplate, 'data': {trace_type: [traceTemplate,\n            ...], ...}}` where `layoutTemplate` is a dict matching\n            the structure of `figure.layout` and `traceTemplate` is\n            a dict matching the structure of the trace with type\n            `trace_type` (e.g. 'scatter'). Alternatively, this may\n            be specified as an instance of\n            plotly.graph_objs.layout.Template.  Trace templates are\n            applied cyclically to traces of each type. Container\n            arrays (eg `annotations`) have special handling: An\n            object ending in `defaults` (eg `annotationdefaults`)\n            is applied to each array item. But if an item has a\n            `templateitemname` key we look in the template array\n            for an item with matching `name` and apply that\n            instead. If no matching `name` is found we mark the\n            item invisible. Any named template item not referenced\n            is appended to the end of the array, so this can be\n            used to add a watermark annotation or a logo image, for\n            example. To omit one of these items on the plot, make\n            an item with matching `templateitemname` and `visible:\n            false`.\n        ternary\n            :class:`plotly.graph_objects.layout.Ternary` instance\n            or dict with compatible properties\n        title\n            :class:`plotly.graph_objects.layout.Title` instance or\n            dict with compatible properties\n        titlefont\n            Deprecated: Please use layout.title.font instead. Sets\n            the title font. Note that the title's font used to be\n            customized by the now deprecated `titlefont` attribute.\n        transition\n            Sets transition options used during Plotly.react\n            updates.\n        treemapcolorway\n            Sets the default treemap slice colors. Defaults to the\n            main `colorway` used for trace colors. If you specify a\n            new list here it can still be extended with lighter and\n            darker colors, see `extendtreemapcolors`.\n        uirevision\n            Used to allow user interactions with the plot to\n            persist after `Plotly.react` calls that are unaware of\n            these interactions. If `uirevision` is omitted, or if\n            it is given and it changed from the previous\n            `Plotly.react` call, the exact new figure is used. If\n            `uirevision` is truthy and did NOT change, any\n            attribute that has been affected by user interactions\n            and did not receive a different value in the new figure\n            will keep the interaction value. `layout.uirevision`\n            attribute serves as the default for `uirevision`\n            attributes in various sub-containers. For finer control\n            you can set these sub-attributes directly. For example,\n            if your app separately controls the data on the x and y\n            axes you might set `xaxis.uirevision=*time*` and\n            `yaxis.uirevision=*cost*`. Then if only the y data is\n            changed, you can update `yaxis.uirevision=*quantity*`\n            and the y axis range will reset but the x axis range\n            will retain any user-driven zoom.\n        uniformtext\n            :class:`plotly.graph_objects.layout.Uniformtext`\n            instance or dict with compatible properties\n        updatemenus\n            A tuple of\n            :class:`plotly.graph_objects.layout.Updatemenu`\n            instances or dicts with compatible properties\n        updatemenudefaults\n            When used in a template (as\n            layout.template.layout.updatemenudefaults), sets the\n            default property values to use for elements of\n            layout.updatemenus\n        violingap\n            Sets the gap (in plot fraction) between violins of\n            adjacent location coordinates. Has no effect on traces\n            that have \"width\" set.\n        violingroupgap\n            Sets the gap (in plot fraction) between violins of the\n            same location coordinate. Has no effect on traces that\n            have \"width\" set.\n        violinmode\n            Determines how violins at the same location coordinate\n            are displayed on the graph. If \"group\", the violins are\n            plotted next to one another centered around the shared\n            location. If \"overlay\", the violins are plotted over\n            one another, you might need to set \"opacity\" to see\n            them multiple violins. Has no effect on traces that\n            have \"width\" set.\n        waterfallgap\n            Sets the gap (in plot fraction) between bars of\n            adjacent location coordinates.\n        waterfallgroupgap\n            Sets the gap (in plot fraction) between bars of the\n            same location coordinate.\n        waterfallmode\n            Determines how bars at the same location coordinate are\n            displayed on the graph. With \"group\", the bars are\n            plotted next to one another centered around the shared\n            location. With \"overlay\", the bars are plotted over one\n            another, you might need to reduce \"opacity\" to see\n            multiple bars.\n        width\n            Sets the plot's width (in px).\n        xaxis\n            :class:`plotly.graph_objects.layout.XAxis` instance or\n            dict with compatible properties\n        yaxis\n            :class:`plotly.graph_objects.layout.YAxis` instance or\n            dict with compatible properties\n        \nDid you mean \"images\"?\n\nBad property path:\nlabels\n^^^^^^",
     "output_type": "error",
     "traceback": [
      "\u001b[0;31m---------------------------------------------------------------------------\u001b[0m",
      "\u001b[0;31mValueError\u001b[0m                                Traceback (most recent call last)",
      "\u001b[1;32m/Users/axelmorin/Library/Mobile Documents/com~apple~CloudDocs/Axel_tout/Professionnel/Stages/TFE/CREST/workdirectory/Genre/dataVis/crest-first/scripts/notebooks/dataPlotting.ipynb Cell 14\u001b[0m line \u001b[0;36m1\n\u001b[1;32m      <a href='vscode-notebook-cell:/Users/axelmorin/Library/Mobile%20Documents/com~apple~CloudDocs/Axel_tout/Professionnel/Stages/TFE/CREST/workdirectory/Genre/dataVis/crest-first/scripts/notebooks/dataPlotting.ipynb#X26sZmlsZQ%3D%3D?line=0'>1</a>\u001b[0m x_axis_theme \u001b[39m=\u001b[39m {\n\u001b[1;32m      <a href='vscode-notebook-cell:/Users/axelmorin/Library/Mobile%20Documents/com~apple~CloudDocs/Axel_tout/Professionnel/Stages/TFE/CREST/workdirectory/Genre/dataVis/crest-first/scripts/notebooks/dataPlotting.ipynb#X26sZmlsZQ%3D%3D?line=1'>2</a>\u001b[0m     \u001b[39m'\u001b[39m\u001b[39mshowline\u001b[39m\u001b[39m'\u001b[39m : \u001b[39mTrue\u001b[39;00m,\n\u001b[1;32m      <a href='vscode-notebook-cell:/Users/axelmorin/Library/Mobile%20Documents/com~apple~CloudDocs/Axel_tout/Professionnel/Stages/TFE/CREST/workdirectory/Genre/dataVis/crest-first/scripts/notebooks/dataPlotting.ipynb#X26sZmlsZQ%3D%3D?line=2'>3</a>\u001b[0m     \u001b[39m'\u001b[39m\u001b[39mshowgrid\u001b[39m\u001b[39m'\u001b[39m : \u001b[39mFalse\u001b[39;00m,\n\u001b[0;32m   (...)\u001b[0m\n\u001b[1;32m     <a href='vscode-notebook-cell:/Users/axelmorin/Library/Mobile%20Documents/com~apple~CloudDocs/Axel_tout/Professionnel/Stages/TFE/CREST/workdirectory/Genre/dataVis/crest-first/scripts/notebooks/dataPlotting.ipynb#X26sZmlsZQ%3D%3D?line=11'>12</a>\u001b[0m \n\u001b[1;32m     <a href='vscode-notebook-cell:/Users/axelmorin/Library/Mobile%20Documents/com~apple~CloudDocs/Axel_tout/Professionnel/Stages/TFE/CREST/workdirectory/Genre/dataVis/crest-first/scripts/notebooks/dataPlotting.ipynb#X26sZmlsZQ%3D%3D?line=12'>13</a>\u001b[0m }\n\u001b[1;32m     <a href='vscode-notebook-cell:/Users/axelmorin/Library/Mobile%20Documents/com~apple~CloudDocs/Axel_tout/Professionnel/Stages/TFE/CREST/workdirectory/Genre/dataVis/crest-first/scripts/notebooks/dataPlotting.ipynb#X26sZmlsZQ%3D%3D?line=14'>15</a>\u001b[0m fig \u001b[39m=\u001b[39m fig\u001b[39m.\u001b[39mupdate_layout(\n\u001b[1;32m     <a href='vscode-notebook-cell:/Users/axelmorin/Library/Mobile%20Documents/com~apple~CloudDocs/Axel_tout/Professionnel/Stages/TFE/CREST/workdirectory/Genre/dataVis/crest-first/scripts/notebooks/dataPlotting.ipynb#X26sZmlsZQ%3D%3D?line=15'>16</a>\u001b[0m     xaxis \u001b[39m=\u001b[39m x_axis_theme\n\u001b[1;32m     <a href='vscode-notebook-cell:/Users/axelmorin/Library/Mobile%20Documents/com~apple~CloudDocs/Axel_tout/Professionnel/Stages/TFE/CREST/workdirectory/Genre/dataVis/crest-first/scripts/notebooks/dataPlotting.ipynb#X26sZmlsZQ%3D%3D?line=16'>17</a>\u001b[0m )\n\u001b[0;32m---> <a href='vscode-notebook-cell:/Users/axelmorin/Library/Mobile%20Documents/com~apple~CloudDocs/Axel_tout/Professionnel/Stages/TFE/CREST/workdirectory/Genre/dataVis/crest-first/scripts/notebooks/dataPlotting.ipynb#X26sZmlsZQ%3D%3D?line=18'>19</a>\u001b[0m fig\u001b[39m.\u001b[39;49mupdate_layout(\n\u001b[1;32m     <a href='vscode-notebook-cell:/Users/axelmorin/Library/Mobile%20Documents/com~apple~CloudDocs/Axel_tout/Professionnel/Stages/TFE/CREST/workdirectory/Genre/dataVis/crest-first/scripts/notebooks/dataPlotting.ipynb#X26sZmlsZQ%3D%3D?line=19'>20</a>\u001b[0m     labels \u001b[39m=\u001b[39;49m \u001b[39mdict\u001b[39;49m(\n\u001b[1;32m     <a href='vscode-notebook-cell:/Users/axelmorin/Library/Mobile%20Documents/com~apple~CloudDocs/Axel_tout/Professionnel/Stages/TFE/CREST/workdirectory/Genre/dataVis/crest-first/scripts/notebooks/dataPlotting.ipynb#X26sZmlsZQ%3D%3D?line=20'>21</a>\u001b[0m         x \u001b[39m=\u001b[39;49m \u001b[39m\"\u001b[39;49m\u001b[39mDate\u001b[39;49m\u001b[39m\"\u001b[39;49m\n\u001b[1;32m     <a href='vscode-notebook-cell:/Users/axelmorin/Library/Mobile%20Documents/com~apple~CloudDocs/Axel_tout/Professionnel/Stages/TFE/CREST/workdirectory/Genre/dataVis/crest-first/scripts/notebooks/dataPlotting.ipynb#X26sZmlsZQ%3D%3D?line=21'>22</a>\u001b[0m     )\n\u001b[1;32m     <a href='vscode-notebook-cell:/Users/axelmorin/Library/Mobile%20Documents/com~apple~CloudDocs/Axel_tout/Professionnel/Stages/TFE/CREST/workdirectory/Genre/dataVis/crest-first/scripts/notebooks/dataPlotting.ipynb#X26sZmlsZQ%3D%3D?line=22'>23</a>\u001b[0m )\n\u001b[1;32m     <a href='vscode-notebook-cell:/Users/axelmorin/Library/Mobile%20Documents/com~apple~CloudDocs/Axel_tout/Professionnel/Stages/TFE/CREST/workdirectory/Genre/dataVis/crest-first/scripts/notebooks/dataPlotting.ipynb#X26sZmlsZQ%3D%3D?line=23'>24</a>\u001b[0m fig\n",
      "File \u001b[0;32m/opt/miniconda3/envs/CREST/lib/python3.12/site-packages/plotly/graph_objs/_figure.py:792\u001b[0m, in \u001b[0;36mFigure.update_layout\u001b[0;34m(self, dict1, overwrite, **kwargs)\u001b[0m\n\u001b[1;32m    766\u001b[0m \u001b[39mdef\u001b[39;00m \u001b[39mupdate_layout\u001b[39m(\u001b[39mself\u001b[39m, dict1\u001b[39m=\u001b[39m\u001b[39mNone\u001b[39;00m, overwrite\u001b[39m=\u001b[39m\u001b[39mFalse\u001b[39;00m, \u001b[39m*\u001b[39m\u001b[39m*\u001b[39mkwargs) \u001b[39m-\u001b[39m\u001b[39m>\u001b[39m \u001b[39m\"\u001b[39m\u001b[39mFigure\u001b[39m\u001b[39m\"\u001b[39m:\n\u001b[1;32m    767\u001b[0m \u001b[39m    \u001b[39m\u001b[39m\"\"\"\u001b[39;00m\n\u001b[1;32m    768\u001b[0m \n\u001b[1;32m    769\u001b[0m \u001b[39m    Update the properties of the figure's layout with a dict and/or with\u001b[39;00m\n\u001b[0;32m   (...)\u001b[0m\n\u001b[1;32m    790\u001b[0m \n\u001b[1;32m    791\u001b[0m \u001b[39m    \"\"\"\u001b[39;00m\n\u001b[0;32m--> 792\u001b[0m     \u001b[39mreturn\u001b[39;00m \u001b[39msuper\u001b[39;49m(Figure, \u001b[39mself\u001b[39;49m)\u001b[39m.\u001b[39;49mupdate_layout(dict1, overwrite, \u001b[39m*\u001b[39;49m\u001b[39m*\u001b[39;49mkwargs)\n",
      "File \u001b[0;32m/opt/miniconda3/envs/CREST/lib/python3.12/site-packages/plotly/basedatatypes.py:1391\u001b[0m, in \u001b[0;36mBaseFigure.update_layout\u001b[0;34m(self, dict1, overwrite, **kwargs)\u001b[0m\n\u001b[1;32m   1367\u001b[0m \u001b[39mdef\u001b[39;00m \u001b[39mupdate_layout\u001b[39m(\u001b[39mself\u001b[39m, dict1\u001b[39m=\u001b[39m\u001b[39mNone\u001b[39;00m, overwrite\u001b[39m=\u001b[39m\u001b[39mFalse\u001b[39;00m, \u001b[39m*\u001b[39m\u001b[39m*\u001b[39mkwargs):\n\u001b[1;32m   1368\u001b[0m \u001b[39m    \u001b[39m\u001b[39m\"\"\"\u001b[39;00m\n\u001b[1;32m   1369\u001b[0m \u001b[39m    Update the properties of the figure's layout with a dict and/or with\u001b[39;00m\n\u001b[1;32m   1370\u001b[0m \u001b[39m    keyword arguments.\u001b[39;00m\n\u001b[0;32m   (...)\u001b[0m\n\u001b[1;32m   1389\u001b[0m \u001b[39m        The Figure object that the update_layout method was called on\u001b[39;00m\n\u001b[1;32m   1390\u001b[0m \u001b[39m    \"\"\"\u001b[39;00m\n\u001b[0;32m-> 1391\u001b[0m     \u001b[39mself\u001b[39;49m\u001b[39m.\u001b[39;49mlayout\u001b[39m.\u001b[39;49mupdate(dict1, overwrite\u001b[39m=\u001b[39;49moverwrite, \u001b[39m*\u001b[39;49m\u001b[39m*\u001b[39;49mkwargs)\n\u001b[1;32m   1392\u001b[0m     \u001b[39mreturn\u001b[39;00m \u001b[39mself\u001b[39m\n",
      "File \u001b[0;32m/opt/miniconda3/envs/CREST/lib/python3.12/site-packages/plotly/basedatatypes.py:5131\u001b[0m, in \u001b[0;36mBasePlotlyType.update\u001b[0;34m(self, dict1, overwrite, **kwargs)\u001b[0m\n\u001b[1;32m   5129\u001b[0m     \u001b[39mwith\u001b[39;00m \u001b[39mself\u001b[39m\u001b[39m.\u001b[39mfigure\u001b[39m.\u001b[39mbatch_update():\n\u001b[1;32m   5130\u001b[0m         BaseFigure\u001b[39m.\u001b[39m_perform_update(\u001b[39mself\u001b[39m, dict1, overwrite\u001b[39m=\u001b[39moverwrite)\n\u001b[0;32m-> 5131\u001b[0m         BaseFigure\u001b[39m.\u001b[39;49m_perform_update(\u001b[39mself\u001b[39;49m, kwargs, overwrite\u001b[39m=\u001b[39;49moverwrite)\n\u001b[1;32m   5132\u001b[0m \u001b[39melse\u001b[39;00m:\n\u001b[1;32m   5133\u001b[0m     BaseFigure\u001b[39m.\u001b[39m_perform_update(\u001b[39mself\u001b[39m, dict1, overwrite\u001b[39m=\u001b[39moverwrite)\n",
      "File \u001b[0;32m/opt/miniconda3/envs/CREST/lib/python3.12/site-packages/plotly/basedatatypes.py:3890\u001b[0m, in \u001b[0;36mBaseFigure._perform_update\u001b[0;34m(plotly_obj, update_obj, overwrite)\u001b[0m\n\u001b[1;32m   3888\u001b[0m     err \u001b[39m=\u001b[39m _check_path_in_prop_tree(plotly_obj, key, error_cast\u001b[39m=\u001b[39m\u001b[39mValueError\u001b[39;00m)\n\u001b[1;32m   3889\u001b[0m     \u001b[39mif\u001b[39;00m err \u001b[39mis\u001b[39;00m \u001b[39mnot\u001b[39;00m \u001b[39mNone\u001b[39;00m:\n\u001b[0;32m-> 3890\u001b[0m         \u001b[39mraise\u001b[39;00m err\n\u001b[1;32m   3892\u001b[0m \u001b[39m# Convert update_obj to dict\u001b[39;00m\n\u001b[1;32m   3893\u001b[0m \u001b[39m# --------------------------\u001b[39;00m\n\u001b[1;32m   3894\u001b[0m \u001b[39mif\u001b[39;00m \u001b[39misinstance\u001b[39m(update_obj, BasePlotlyType):\n",
      "\u001b[0;31mValueError\u001b[0m: Invalid property specified for object of type plotly.graph_objs.Layout: 'labels'\n\nDid you mean \"images\"?\n\n    Valid properties:\n        activeselection\n            :class:`plotly.graph_objects.layout.Activeselection`\n            instance or dict with compatible properties\n        activeshape\n            :class:`plotly.graph_objects.layout.Activeshape`\n            instance or dict with compatible properties\n        annotations\n            A tuple of\n            :class:`plotly.graph_objects.layout.Annotation`\n            instances or dicts with compatible properties\n        annotationdefaults\n            When used in a template (as\n            layout.template.layout.annotationdefaults), sets the\n            default property values to use for elements of\n            layout.annotations\n        autosize\n            Determines whether or not a layout width or height that\n            has been left undefined by the user is initialized on\n            each relayout. Note that, regardless of this attribute,\n            an undefined layout width or height is always\n            initialized on the first call to plot.\n        autotypenumbers\n            Using \"strict\" a numeric string in trace data is not\n            converted to a number. Using *convert types* a numeric\n            string in trace data may be treated as a number during\n            automatic axis `type` detection. This is the default\n            value; however it could be overridden for individual\n            axes.\n        barcornerradius\n            Sets the rounding of bar corners. May be an integer\n            number of pixels, or a percentage of bar width (as a\n            string ending in %).\n        bargap\n            Sets the gap (in plot fraction) between bars of\n            adjacent location coordinates.\n        bargroupgap\n            Sets the gap (in plot fraction) between bars of the\n            same location coordinate.\n        barmode\n            Determines how bars at the same location coordinate are\n            displayed on the graph. With \"stack\", the bars are\n            stacked on top of one another With \"relative\", the bars\n            are stacked on top of one another, with negative values\n            below the axis, positive values above With \"group\", the\n            bars are plotted next to one another centered around\n            the shared location. With \"overlay\", the bars are\n            plotted over one another, you might need to reduce\n            \"opacity\" to see multiple bars.\n        barnorm\n            Sets the normalization for bar traces on the graph.\n            With \"fraction\", the value of each bar is divided by\n            the sum of all values at that location coordinate.\n            \"percent\" is the same but multiplied by 100 to show\n            percentages.\n        boxgap\n            Sets the gap (in plot fraction) between boxes of\n            adjacent location coordinates. Has no effect on traces\n            that have \"width\" set.\n        boxgroupgap\n            Sets the gap (in plot fraction) between boxes of the\n            same location coordinate. Has no effect on traces that\n            have \"width\" set.\n        boxmode\n            Determines how boxes at the same location coordinate\n            are displayed on the graph. If \"group\", the boxes are\n            plotted next to one another centered around the shared\n            location. If \"overlay\", the boxes are plotted over one\n            another, you might need to set \"opacity\" to see them\n            multiple boxes. Has no effect on traces that have\n            \"width\" set.\n        calendar\n            Sets the default calendar system to use for\n            interpreting and displaying dates throughout the plot.\n        clickmode\n            Determines the mode of single click interactions.\n            \"event\" is the default value and emits the\n            `plotly_click` event. In addition this mode emits the\n            `plotly_selected` event in drag modes \"lasso\" and\n            \"select\", but with no event data attached (kept for\n            compatibility reasons). The \"select\" flag enables\n            selecting single data points via click. This mode also\n            supports persistent selections, meaning that pressing\n            Shift while clicking, adds to / subtracts from an\n            existing selection. \"select\" with `hovermode`: \"x\" can\n            be confusing, consider explicitly setting `hovermode`:\n            \"closest\" when using this feature. Selection events are\n            sent accordingly as long as \"event\" flag is set as\n            well. When the \"event\" flag is missing, `plotly_click`\n            and `plotly_selected` events are not fired.\n        coloraxis\n            :class:`plotly.graph_objects.layout.Coloraxis` instance\n            or dict with compatible properties\n        colorscale\n            :class:`plotly.graph_objects.layout.Colorscale`\n            instance or dict with compatible properties\n        colorway\n            Sets the default trace colors.\n        computed\n            Placeholder for exporting automargin-impacting values\n            namely `margin.t`, `margin.b`, `margin.l` and\n            `margin.r` in \"full-json\" mode.\n        datarevision\n            If provided, a changed value tells `Plotly.react` that\n            one or more data arrays has changed. This way you can\n            modify arrays in-place rather than making a complete\n            new copy for an incremental change. If NOT provided,\n            `Plotly.react` assumes that data arrays are being\n            treated as immutable, thus any data array with a\n            different identity from its predecessor contains new\n            data.\n        dragmode\n            Determines the mode of drag interactions. \"select\" and\n            \"lasso\" apply only to scatter traces with markers or\n            text. \"orbit\" and \"turntable\" apply only to 3D scenes.\n        editrevision\n            Controls persistence of user-driven changes in\n            `editable: true` configuration, other than trace names\n            and axis titles. Defaults to `layout.uirevision`.\n        extendfunnelareacolors\n            If `true`, the funnelarea slice colors (whether given\n            by `funnelareacolorway` or inherited from `colorway`)\n            will be extended to three times its original length by\n            first repeating every color 20% lighter then each color\n            20% darker. This is intended to reduce the likelihood\n            of reusing the same color when you have many slices,\n            but you can set `false` to disable. Colors provided in\n            the trace, using `marker.colors`, are never extended.\n        extendiciclecolors\n            If `true`, the icicle slice colors (whether given by\n            `iciclecolorway` or inherited from `colorway`) will be\n            extended to three times its original length by first\n            repeating every color 20% lighter then each color 20%\n            darker. This is intended to reduce the likelihood of\n            reusing the same color when you have many slices, but\n            you can set `false` to disable. Colors provided in the\n            trace, using `marker.colors`, are never extended.\n        extendpiecolors\n            If `true`, the pie slice colors (whether given by\n            `piecolorway` or inherited from `colorway`) will be\n            extended to three times its original length by first\n            repeating every color 20% lighter then each color 20%\n            darker. This is intended to reduce the likelihood of\n            reusing the same color when you have many slices, but\n            you can set `false` to disable. Colors provided in the\n            trace, using `marker.colors`, are never extended.\n        extendsunburstcolors\n            If `true`, the sunburst slice colors (whether given by\n            `sunburstcolorway` or inherited from `colorway`) will\n            be extended to three times its original length by first\n            repeating every color 20% lighter then each color 20%\n            darker. This is intended to reduce the likelihood of\n            reusing the same color when you have many slices, but\n            you can set `false` to disable. Colors provided in the\n            trace, using `marker.colors`, are never extended.\n        extendtreemapcolors\n            If `true`, the treemap slice colors (whether given by\n            `treemapcolorway` or inherited from `colorway`) will be\n            extended to three times its original length by first\n            repeating every color 20% lighter then each color 20%\n            darker. This is intended to reduce the likelihood of\n            reusing the same color when you have many slices, but\n            you can set `false` to disable. Colors provided in the\n            trace, using `marker.colors`, are never extended.\n        font\n            Sets the global font. Note that fonts used in traces\n            and other layout components inherit from the global\n            font.\n        funnelareacolorway\n            Sets the default funnelarea slice colors. Defaults to\n            the main `colorway` used for trace colors. If you\n            specify a new list here it can still be extended with\n            lighter and darker colors, see\n            `extendfunnelareacolors`.\n        funnelgap\n            Sets the gap (in plot fraction) between bars of\n            adjacent location coordinates.\n        funnelgroupgap\n            Sets the gap (in plot fraction) between bars of the\n            same location coordinate.\n        funnelmode\n            Determines how bars at the same location coordinate are\n            displayed on the graph. With \"stack\", the bars are\n            stacked on top of one another With \"group\", the bars\n            are plotted next to one another centered around the\n            shared location. With \"overlay\", the bars are plotted\n            over one another, you might need to reduce \"opacity\" to\n            see multiple bars.\n        geo\n            :class:`plotly.graph_objects.layout.Geo` instance or\n            dict with compatible properties\n        grid\n            :class:`plotly.graph_objects.layout.Grid` instance or\n            dict with compatible properties\n        height\n            Sets the plot's height (in px).\n        hiddenlabels\n            hiddenlabels is the funnelarea & pie chart analog of\n            visible:'legendonly' but it can contain many labels,\n            and can simultaneously hide slices from several\n            pies/funnelarea charts\n        hiddenlabelssrc\n            Sets the source reference on Chart Studio Cloud for\n            `hiddenlabels`.\n        hidesources\n            Determines whether or not a text link citing the data\n            source is placed at the bottom-right cored of the\n            figure. Has only an effect only on graphs that have\n            been generated via forked graphs from the Chart Studio\n            Cloud (at https://chart-studio.plotly.com or on-\n            premise).\n        hoverdistance\n            Sets the default distance (in pixels) to look for data\n            to add hover labels (-1 means no cutoff, 0 means no\n            looking for data). This is only a real distance for\n            hovering on point-like objects, like scatter points.\n            For area-like objects (bars, scatter fills, etc)\n            hovering is on inside the area and off outside, but\n            these objects will not supersede hover on point-like\n            objects in case of conflict.\n        hoverlabel\n            :class:`plotly.graph_objects.layout.Hoverlabel`\n            instance or dict with compatible properties\n        hovermode\n            Determines the mode of hover interactions. If\n            \"closest\", a single hoverlabel will appear for the\n            \"closest\" point within the `hoverdistance`. If \"x\" (or\n            \"y\"), multiple hoverlabels will appear for multiple\n            points at the \"closest\" x- (or y-) coordinate within\n            the `hoverdistance`, with the caveat that no more than\n            one hoverlabel will appear per trace. If *x unified*\n            (or *y unified*), a single hoverlabel will appear\n            multiple points at the closest x- (or y-) coordinate\n            within the `hoverdistance` with the caveat that no more\n            than one hoverlabel will appear per trace. In this\n            mode, spikelines are enabled by default perpendicular\n            to the specified axis. If false, hover interactions are\n            disabled.\n        hoversubplots\n            Determines expansion of hover effects to other subplots\n            If \"single\" just the axis pair of the primary point is\n            included without overlaying subplots. If \"overlaying\"\n            all subplots using the main axis and occupying the same\n            space are included. If \"axis\", also include stacked\n            subplots using the same axis when `hovermode` is set to\n            \"x\", *x unified*, \"y\" or *y unified*.\n        iciclecolorway\n            Sets the default icicle slice colors. Defaults to the\n            main `colorway` used for trace colors. If you specify a\n            new list here it can still be extended with lighter and\n            darker colors, see `extendiciclecolors`.\n        images\n            A tuple of :class:`plotly.graph_objects.layout.Image`\n            instances or dicts with compatible properties\n        imagedefaults\n            When used in a template (as\n            layout.template.layout.imagedefaults), sets the default\n            property values to use for elements of layout.images\n        legend\n            :class:`plotly.graph_objects.layout.Legend` instance or\n            dict with compatible properties\n        map\n            :class:`plotly.graph_objects.layout.Map` instance or\n            dict with compatible properties\n        mapbox\n            :class:`plotly.graph_objects.layout.Mapbox` instance or\n            dict with compatible properties\n        margin\n            :class:`plotly.graph_objects.layout.Margin` instance or\n            dict with compatible properties\n        meta\n            Assigns extra meta information that can be used in\n            various `text` attributes. Attributes such as the\n            graph, axis and colorbar `title.text`, annotation\n            `text` `trace.name` in legend items, `rangeselector`,\n            `updatemenus` and `sliders` `label` text all support\n            `meta`. One can access `meta` fields using template\n            strings: `%{meta[i]}` where `i` is the index of the\n            `meta` item in question. `meta` can also be an object\n            for example `{key: value}` which can be accessed\n            %{meta[key]}.\n        metasrc\n            Sets the source reference on Chart Studio Cloud for\n            `meta`.\n        minreducedheight\n            Minimum height of the plot with margin.automargin\n            applied (in px)\n        minreducedwidth\n            Minimum width of the plot with margin.automargin\n            applied (in px)\n        modebar\n            :class:`plotly.graph_objects.layout.Modebar` instance\n            or dict with compatible properties\n        newselection\n            :class:`plotly.graph_objects.layout.Newselection`\n            instance or dict with compatible properties\n        newshape\n            :class:`plotly.graph_objects.layout.Newshape` instance\n            or dict with compatible properties\n        paper_bgcolor\n            Sets the background color of the paper where the graph\n            is drawn.\n        piecolorway\n            Sets the default pie slice colors. Defaults to the main\n            `colorway` used for trace colors. If you specify a new\n            list here it can still be extended with lighter and\n            darker colors, see `extendpiecolors`.\n        plot_bgcolor\n            Sets the background color of the plotting area in-\n            between x and y axes.\n        polar\n            :class:`plotly.graph_objects.layout.Polar` instance or\n            dict with compatible properties\n        scattergap\n            Sets the gap (in plot fraction) between scatter points\n            of adjacent location coordinates. Defaults to `bargap`.\n        scattermode\n            Determines how scatter points at the same location\n            coordinate are displayed on the graph. With \"group\",\n            the scatter points are plotted next to one another\n            centered around the shared location. With \"overlay\",\n            the scatter points are plotted over one another, you\n            might need to reduce \"opacity\" to see multiple scatter\n            points.\n        scene\n            :class:`plotly.graph_objects.layout.Scene` instance or\n            dict with compatible properties\n        selectdirection\n            When `dragmode` is set to \"select\", this limits the\n            selection of the drag to horizontal, vertical or\n            diagonal. \"h\" only allows horizontal selection, \"v\"\n            only vertical, \"d\" only diagonal and \"any\" sets no\n            limit.\n        selectionrevision\n            Controls persistence of user-driven changes in selected\n            points from all traces.\n        selections\n            A tuple of\n            :class:`plotly.graph_objects.layout.Selection`\n            instances or dicts with compatible properties\n        selectiondefaults\n            When used in a template (as\n            layout.template.layout.selectiondefaults), sets the\n            default property values to use for elements of\n            layout.selections\n        separators\n            Sets the decimal and thousand separators. For example,\n            *. * puts a '.' before decimals and a space between\n            thousands. In English locales, dflt is \".,\" but other\n            locales may alter this default.\n        shapes\n            A tuple of :class:`plotly.graph_objects.layout.Shape`\n            instances or dicts with compatible properties\n        shapedefaults\n            When used in a template (as\n            layout.template.layout.shapedefaults), sets the default\n            property values to use for elements of layout.shapes\n        showlegend\n            Determines whether or not a legend is drawn. Default is\n            `true` if there is a trace to show and any of these: a)\n            Two or more traces would by default be shown in the\n            legend. b) One pie trace is shown in the legend. c) One\n            trace is explicitly given with `showlegend: true`.\n        sliders\n            A tuple of :class:`plotly.graph_objects.layout.Slider`\n            instances or dicts with compatible properties\n        sliderdefaults\n            When used in a template (as\n            layout.template.layout.sliderdefaults), sets the\n            default property values to use for elements of\n            layout.sliders\n        smith\n            :class:`plotly.graph_objects.layout.Smith` instance or\n            dict with compatible properties\n        spikedistance\n            Sets the default distance (in pixels) to look for data\n            to draw spikelines to (-1 means no cutoff, 0 means no\n            looking for data). As with hoverdistance, distance does\n            not apply to area-like objects. In addition, some\n            objects can be hovered on but will not generate\n            spikelines, such as scatter fills.\n        sunburstcolorway\n            Sets the default sunburst slice colors. Defaults to the\n            main `colorway` used for trace colors. If you specify a\n            new list here it can still be extended with lighter and\n            darker colors, see `extendsunburstcolors`.\n        template\n            Default attributes to be applied to the plot. This\n            should be a dict with format: `{'layout':\n            layoutTemplate, 'data': {trace_type: [traceTemplate,\n            ...], ...}}` where `layoutTemplate` is a dict matching\n            the structure of `figure.layout` and `traceTemplate` is\n            a dict matching the structure of the trace with type\n            `trace_type` (e.g. 'scatter'). Alternatively, this may\n            be specified as an instance of\n            plotly.graph_objs.layout.Template.  Trace templates are\n            applied cyclically to traces of each type. Container\n            arrays (eg `annotations`) have special handling: An\n            object ending in `defaults` (eg `annotationdefaults`)\n            is applied to each array item. But if an item has a\n            `templateitemname` key we look in the template array\n            for an item with matching `name` and apply that\n            instead. If no matching `name` is found we mark the\n            item invisible. Any named template item not referenced\n            is appended to the end of the array, so this can be\n            used to add a watermark annotation or a logo image, for\n            example. To omit one of these items on the plot, make\n            an item with matching `templateitemname` and `visible:\n            false`.\n        ternary\n            :class:`plotly.graph_objects.layout.Ternary` instance\n            or dict with compatible properties\n        title\n            :class:`plotly.graph_objects.layout.Title` instance or\n            dict with compatible properties\n        titlefont\n            Deprecated: Please use layout.title.font instead. Sets\n            the title font. Note that the title's font used to be\n            customized by the now deprecated `titlefont` attribute.\n        transition\n            Sets transition options used during Plotly.react\n            updates.\n        treemapcolorway\n            Sets the default treemap slice colors. Defaults to the\n            main `colorway` used for trace colors. If you specify a\n            new list here it can still be extended with lighter and\n            darker colors, see `extendtreemapcolors`.\n        uirevision\n            Used to allow user interactions with the plot to\n            persist after `Plotly.react` calls that are unaware of\n            these interactions. If `uirevision` is omitted, or if\n            it is given and it changed from the previous\n            `Plotly.react` call, the exact new figure is used. If\n            `uirevision` is truthy and did NOT change, any\n            attribute that has been affected by user interactions\n            and did not receive a different value in the new figure\n            will keep the interaction value. `layout.uirevision`\n            attribute serves as the default for `uirevision`\n            attributes in various sub-containers. For finer control\n            you can set these sub-attributes directly. For example,\n            if your app separately controls the data on the x and y\n            axes you might set `xaxis.uirevision=*time*` and\n            `yaxis.uirevision=*cost*`. Then if only the y data is\n            changed, you can update `yaxis.uirevision=*quantity*`\n            and the y axis range will reset but the x axis range\n            will retain any user-driven zoom.\n        uniformtext\n            :class:`plotly.graph_objects.layout.Uniformtext`\n            instance or dict with compatible properties\n        updatemenus\n            A tuple of\n            :class:`plotly.graph_objects.layout.Updatemenu`\n            instances or dicts with compatible properties\n        updatemenudefaults\n            When used in a template (as\n            layout.template.layout.updatemenudefaults), sets the\n            default property values to use for elements of\n            layout.updatemenus\n        violingap\n            Sets the gap (in plot fraction) between violins of\n            adjacent location coordinates. Has no effect on traces\n            that have \"width\" set.\n        violingroupgap\n            Sets the gap (in plot fraction) between violins of the\n            same location coordinate. Has no effect on traces that\n            have \"width\" set.\n        violinmode\n            Determines how violins at the same location coordinate\n            are displayed on the graph. If \"group\", the violins are\n            plotted next to one another centered around the shared\n            location. If \"overlay\", the violins are plotted over\n            one another, you might need to set \"opacity\" to see\n            them multiple violins. Has no effect on traces that\n            have \"width\" set.\n        waterfallgap\n            Sets the gap (in plot fraction) between bars of\n            adjacent location coordinates.\n        waterfallgroupgap\n            Sets the gap (in plot fraction) between bars of the\n            same location coordinate.\n        waterfallmode\n            Determines how bars at the same location coordinate are\n            displayed on the graph. With \"group\", the bars are\n            plotted next to one another centered around the shared\n            location. With \"overlay\", the bars are plotted over one\n            another, you might need to reduce \"opacity\" to see\n            multiple bars.\n        width\n            Sets the plot's width (in px).\n        xaxis\n            :class:`plotly.graph_objects.layout.XAxis` instance or\n            dict with compatible properties\n        yaxis\n            :class:`plotly.graph_objects.layout.YAxis` instance or\n            dict with compatible properties\n        \nDid you mean \"images\"?\n\nBad property path:\nlabels\n^^^^^^"
     ]
    }
   ],
   "source": [
    "x_axis_theme = {\n",
    "    'showline' : True,\n",
    "    'showgrid' : False,\n",
    "    'showticklabels' : True,\n",
    "\n",
    "    'type' : 'date',            #https://plotly.com/python/axes/#2d-cartesian-axis-types-and-autodetection\n",
    "\n",
    "    'ticks' : 'inside',\n",
    "\n",
    "    'linecolor' : 'rgb(204, 204, 204)',\n",
    "    'linewidth' : 2,\n",
    "\n",
    "}\n",
    "\n",
    "fig = fig.update_layout(\n",
    "    xaxis = x_axis_theme\n",
    ")\n",
    "\n",
    "fig.update_layout(\n",
    "    labels = dict(\n",
    "        x = \"Date\"\n",
    "    )\n",
    ")\n",
    "fig"
   ]
  },
  {
   "cell_type": "code",
   "execution_count": null,
   "metadata": {},
   "outputs": [],
   "source": []
  }
 ],
 "metadata": {
  "kernelspec": {
   "display_name": "CREST",
   "language": "python",
   "name": "python3"
  },
  "language_info": {
   "codemirror_mode": {
    "name": "ipython",
    "version": 3
   },
   "file_extension": ".py",
   "mimetype": "text/x-python",
   "name": "python",
   "nbconvert_exporter": "python",
   "pygments_lexer": "ipython3",
   "version": "3.12.7"
  }
 },
 "nbformat": 4,
 "nbformat_minor": 2
}
