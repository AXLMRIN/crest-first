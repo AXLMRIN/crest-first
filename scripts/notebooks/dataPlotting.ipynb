{
 "cells": [
  {
   "cell_type": "markdown",
   "metadata": {},
   "source": [
    "# Import "
   ]
  },
  {
   "cell_type": "code",
   "execution_count": 28,
   "metadata": {},
   "outputs": [],
   "source": [
    "import pandas as pd\n",
    "import plotly.express as px\n",
    "import json\n",
    "import plotly.graph_objects as go\n",
    "from plotly.graph_objs._figure import Figure as pxFigure"
   ]
  },
  {
   "cell_type": "markdown",
   "metadata": {},
   "source": [
    "# Global Variables"
   ]
  },
  {
   "cell_type": "code",
   "execution_count": 22,
   "metadata": {},
   "outputs": [],
   "source": [
    "DATADIRPATH     = \"../../data/checkpoints/\"\n",
    "FILENAME        = \"2025-01-10-proportionsPerYear\""
   ]
  },
  {
   "cell_type": "markdown",
   "metadata": {},
   "source": [
    "# Open file(s)"
   ]
  },
  {
   "cell_type": "code",
   "execution_count": 23,
   "metadata": {},
   "outputs": [],
   "source": [
    "def filename_format(filename : str) -> str:\n",
    "    \"\"\"\n",
    "    this function is to make sure the filename has the right format.\n",
    "    given 'xxxx' or 'xxxx.csv' of 'xxxx.json' it returns the 'xxxx' (root with \n",
    "    no extension)\n",
    "    IT SPECIFICALLY DEALS WITH FILENAMES WITH .csv AND .json, NOT WITH ANY\n",
    "    EXTENSION\n",
    "    \"\"\"\n",
    "    csvExtension    : bool = filename.endswith('.csv')\n",
    "    jsonExtension   : bool = filename.endswith('.json')\n",
    "\n",
    "    if csvExtension  : return filename[:-4] # Remove '.csv'\n",
    "    if jsonExtension : return filename[:-5] # Remove '.json'\n",
    "    \n",
    "    # assume it had the right format\n",
    "    return filename\n",
    "\n",
    "def cleanMetadata(metadata : dict) -> tuple[str,str,dict]:\n",
    "    '''\n",
    "    this function is meant to take out the 'xlabel' and 'ylabel' off of metadata\n",
    "    and return the labels and the metadata.\n",
    "    '''\n",
    "    xlabel, ylabel = metadata['xlabel'], metadata['ylabel']\n",
    "    metadataOUT = {\n",
    "        key : metadata[key] for key in metadata \\\n",
    "                if key not in ['xlabel','ylabel']\n",
    "    }\n",
    "    return xlabel, ylabel, metadataOUT\n",
    "\n",
    "def openFilesCSVJSON(filename : str) -> tuple[pd.DataFrame, dict]:\n",
    "    '''\n",
    "    this function is meant to open the given file with respect to the fileformat\n",
    "    '''\n",
    "    filename = filename_format(filename)\n",
    "    # Open the files\n",
    "    dfToPlot = pd.read_csv(DATADIRPATH + filename + '.csv')\n",
    "    with open(DATADIRPATH + filename + '.json', 'r') as file : \n",
    "        metadata = json.load(file)\n",
    "    return dfToPlot, metadata\n",
    "\n",
    "def open_and_plot(filename : str, **kwargs) -> pxFigure:\n",
    "    \"\"\"\n",
    "    this function is meant to open the csv file created with the \n",
    "    save_data_frame_for_plotting function as well as the json file and plot \n",
    "    the whole thing.\n",
    "    \n",
    "    FYI :\n",
    "        - The filename can be either 'xxxx' or 'xxxx.csv' of 'xxxx.json'\n",
    "        - DATADIRPATH is meant to be a global variable defined eslewhere.\n",
    "    \"\"\"\n",
    "    # Open data\n",
    "    dfToPlot, metadata = openFilesCSVJSON(filename)\n",
    "\n",
    "    # Create the figure\n",
    "    xlabel, ylabel, metadata = cleanMetadata(metadata)\n",
    "\n",
    "    fig = px.line(dfToPlot, x = xlabel, y = ylabel,\n",
    "                **{**metadata, **kwargs}            # Merge the ditctionnaries\n",
    "                )\n",
    "    return fig\n",
    "    "
   ]
  },
  {
   "cell_type": "markdown",
   "metadata": {},
   "source": [
    "# PLAYGROUND"
   ]
  },
  {
   "cell_type": "code",
   "execution_count": 40,
   "metadata": {},
   "outputs": [],
   "source": [
    "plottingKWARGS = {\n",
    "    'title' : 'TITRE SUPER INTERESSANT',\n",
    "    'labels' : {\n",
    "        'facet_col' : 'Groupe de revue',\n",
    "        'x'      : 'Année de publication',\n",
    "        'y': 'Part des articles (%)'\n",
    "    }\n",
    "}\n",
    "\n",
    "fig = open_and_plot(FILENAME, **plottingKWARGS)\n"
   ]
  },
  {
   "cell_type": "code",
   "execution_count": null,
   "metadata": {},
   "outputs": [],
   "source": []
  }
 ],
 "metadata": {
  "kernelspec": {
   "display_name": "CREST",
   "language": "python",
   "name": "python3"
  },
  "language_info": {
   "codemirror_mode": {
    "name": "ipython",
    "version": 3
   },
   "file_extension": ".py",
   "mimetype": "text/x-python",
   "name": "python",
   "nbconvert_exporter": "python",
   "pygments_lexer": "ipython3",
   "version": "3.12.7"
  }
 },
 "nbformat": 4,
 "nbformat_minor": 2
}
