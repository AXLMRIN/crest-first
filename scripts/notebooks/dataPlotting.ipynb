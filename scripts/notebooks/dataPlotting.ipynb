{
 "cells": [
  {
   "cell_type": "markdown",
   "metadata": {},
   "source": [
    "# Import "
   ]
  },
  {
   "cell_type": "code",
   "execution_count": 3,
   "metadata": {},
   "outputs": [],
   "source": [
    "import pandas as pd\n",
    "import plotly.express as px\n",
    "import json"
   ]
  },
  {
   "cell_type": "markdown",
   "metadata": {},
   "source": [
    "# Global Variables"
   ]
  },
  {
   "cell_type": "code",
   "execution_count": 4,
   "metadata": {},
   "outputs": [],
   "source": [
    "DATADIRPATH     = \"../../data/checkpoints/\"\n",
    "FILENAMEcsv     = \"2025-01-09-test2.csv\"\n",
    "FILENAMEjson    = \"2025-01-09-test2.json\""
   ]
  },
  {
   "cell_type": "markdown",
   "metadata": {},
   "source": [
    "# Open file(s)"
   ]
  },
  {
   "cell_type": "code",
   "execution_count": 5,
   "metadata": {},
   "outputs": [],
   "source": [
    "dfToPlot = pd.read_csv(\n",
    "    DATADIRPATH + FILENAMEcsv\n",
    ")"
   ]
  },
  {
   "cell_type": "code",
   "execution_count": 6,
   "metadata": {},
   "outputs": [],
   "source": [
    "def filenameFormat(filename : str) -> str:\n",
    "    \"\"\"\n",
    "        this function is to make sure the filename has the right format.\n",
    "        given 'xxxx' or 'xxxx.csv' of 'xxxx.json' it returns the 'xxxx' (root with no extension)\n",
    "        IT SPECIFICALLY DEALS WITH FILENAMES WITH .csv AND .json, NOT WITH ANY EXTENSION\n",
    "    \"\"\"\n",
    "    csvExtension    : bool = filename[-4:] == '.csv'\n",
    "    jsonExtension   : bool = filename[-5:] == '.json'\n",
    "\n",
    "    if csvExtension  : return filename[:-4]\n",
    "    if jsonExtension : return filename[:-5]\n",
    "    # assume it had the right format\n",
    "    return filename\n",
    "\n",
    "def openFilesCSVJSON(filename : str) -> tuple[pd.DataFrame, dict]:\n",
    "    # Open the files\n",
    "    filename = filenameFormat(filename)\n",
    "    dfToPlot = pd.read_csv(DATADIRPATH + filename + '.csv')\n",
    "    with open(DATADIRPATH + filename + '.json', 'r') as file : \n",
    "        metadata = json.load(file)\n",
    "    return dfToPlot, metadata\n",
    "\n",
    "def openAndPlot(filename : str) -> None:\n",
    "    # NOTE None ? are we sure ?\n",
    "    \"\"\"\n",
    "        this function is meant to open the csv file created with the saveDataFrameForPlotting function as well as the json file and plot the whole thing.\n",
    "            The filename can be either 'xxxx' or 'xxxx.csv' of 'xxxx.json'\n",
    "        DATADIRPATH is meant to be a global variable defined eslewhere.\n",
    "\n",
    "    \"\"\"\n",
    "\n",
    "    dfToPlot, metadata = openFilesCSVJSON(filename)\n",
    "    print(metadata)\n",
    "    "
   ]
  },
  {
   "cell_type": "markdown",
   "metadata": {},
   "source": [
    "# PLAYGROUND"
   ]
  },
  {
   "cell_type": "code",
   "execution_count": 7,
   "metadata": {},
   "outputs": [
    {
     "name": "stdout",
     "output_type": "stream",
     "text": [
      "{'xlabel': 'titre', 'ylabel': 'annee', 'color': 'color', 'line_dash': 'line_dash'}\n"
     ]
    }
   ],
   "source": [
    "openAndPlot(FILENAMEcsv)"
   ]
  },
  {
   "cell_type": "code",
   "execution_count": null,
   "metadata": {},
   "outputs": [],
   "source": []
  }
 ],
 "metadata": {
  "kernelspec": {
   "display_name": "CREST",
   "language": "python",
   "name": "python3"
  },
  "language_info": {
   "codemirror_mode": {
    "name": "ipython",
    "version": 3
   },
   "file_extension": ".py",
   "mimetype": "text/x-python",
   "name": "python",
   "nbconvert_exporter": "python",
   "pygments_lexer": "ipython3",
   "version": "3.12.7"
  }
 },
 "nbformat": 4,
 "nbformat_minor": 2
}
