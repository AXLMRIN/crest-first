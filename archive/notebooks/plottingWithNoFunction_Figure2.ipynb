{
 "cells": [
  {
   "cell_type": "markdown",
   "metadata": {},
   "source": [
    "This notebook goal is to plot a figure using no custom function before we get to design and write useful ones"
   ]
  },
  {
   "cell_type": "markdown",
   "metadata": {},
   "source": [
    "# Imports"
   ]
  },
  {
   "cell_type": "code",
   "execution_count": 1,
   "metadata": {},
   "outputs": [],
   "source": [
    "# Third Parties\n",
    "import pandas as pd\n",
    "import plotly.express as px\n",
    "import plotly.graph_objs as go\n",
    "import numpy as np \n",
    "\n",
    "# Native\n",
    "\n",
    "# Custom \n",
    "# /\n",
    "\n",
    "# Classes\n",
    "\n",
    "# Functions"
   ]
  },
  {
   "cell_type": "markdown",
   "metadata": {},
   "source": [
    "# Open file and prepare for plotting"
   ]
  },
  {
   "cell_type": "code",
   "execution_count": 2,
   "metadata": {},
   "outputs": [
    {
     "name": "stderr",
     "output_type": "stream",
     "text": [
      "/var/folders/xs/d90v1vkn16db_7z493h6kwt40000gn/T/ipykernel_95718/776405859.py:1: DtypeWarning: Columns (0) have mixed types. Specify dtype option on import or set low_memory=False.\n",
      "  OG = pd.read_csv(\n"
     ]
    }
   ],
   "source": [
    "OG = pd.read_csv(\n",
    "    '../../data/2025-01-07-2024-10-29-quinquadef4-neat-abstract-bert.csv'\n",
    ")\n",
    "GLOBAL_INDEX = OG.index"
   ]
  },
  {
   "cell_type": "code",
   "execution_count": 3,
   "metadata": {},
   "outputs": [
    {
     "data": {
      "text/plain": [
       "Index(['iddef', 'titre', 'soustitre', 'auteurs', 'annee', 'revue', 'num_titre',\n",
       "       'num_num', 'abstract', 'url_art', 'auteurs_fam', 'auteurs_prenom',\n",
       "       'source', 'n_auteurs', 'femme', 'annee5', 'majo_femmes', 'sexe3',\n",
       "       'tag_race', 'tag_inclusif', 'bert_pronoms', 'bert_quanti', 'bert_quali',\n",
       "       'bert_genre', 'bert_genre_stat', 'bert_classe_large',\n",
       "       'bert_classe_stricte', 'bert_genre_pas_stat', 'bert_monostricte',\n",
       "       'bert_interstricte_2plus', 'bert_interstricte_3',\n",
       "       'bert_interstricte_GC', 'bert_interstricte_GR', 'bert_interstricte_CR',\n",
       "       'bert_interstricte_cl', 'bert_interstricte_cl2', 'bert_monolarge',\n",
       "       'bert_interlarge_2plus', 'bert_interlarge_3', 'bert_interlarge_GC',\n",
       "       'bert_interlarge_GR', 'bert_interlarge_CR', 'bert_interlarge_cl',\n",
       "       'bert_interlarge_cl2'],\n",
       "      dtype='object')"
      ]
     },
     "execution_count": 3,
     "metadata": {},
     "output_type": "execute_result"
    }
   ],
   "source": [
    "OG.columns"
   ]
  },
  {
   "cell_type": "code",
   "execution_count": 4,
   "metadata": {},
   "outputs": [],
   "source": [
    "df = OG.loc[:,['annee','revue','bert_genre', 'bert_genre_stat',\n",
    "               'bert_genre_pas_stat']]"
   ]
  },
  {
   "cell_type": "markdown",
   "metadata": {},
   "source": [
    "The goal is to plot the evolution of the percentage of articles that summon the concept of gender through the year"
   ]
  },
  {
   "cell_type": "code",
   "execution_count": 5,
   "metadata": {},
   "outputs": [],
   "source": [
    "years = list(set(df['annee']))"
   ]
  },
  {
   "cell_type": "code",
   "execution_count": 6,
   "metadata": {},
   "outputs": [],
   "source": [
    "# get the percentage of articles summoning the concept of gender through the\n",
    "# years\n",
    "\n",
    "# we are going to isolate 4 groups: \n",
    "    # all of them\n",
    "    # ARSS revue\n",
    "    # a group of revues named TYPE\n",
    "    # a group of revues named GENERALE\n",
    "\n",
    "ARSS = ['Actes de la recherche en sciences sociales']\n",
    "GENERALE = [\n",
    "    \"Actes de la recherche en sciences sociales\",\n",
    "    \"L'Année sociologique\", \n",
    "    \"Revue française de sociologie\",\n",
    "    \"Sociologie\",\n",
    "    \"Sociétés contemporaines\",\n",
    "    \"Sociologie du travail\"\n",
    "    ]\n",
    "TYPE = [\n",
    "    \"Actes de la recherche en sciences sociales\",\n",
    "    \"Revue française de sociologie\",\n",
    "    \"Revue française de science politique\",\n",
    "    \"Archives de sciences sociales des religions\",\n",
    "    \"L’Homme\",\n",
    "    \"Ethnologie française\",\n",
    "    \"Population\",\n",
    "    \"Annales. Histoire, Sciences Sociales\"\n",
    "    \"Revue d’histoire moderne & contemporaine\",\n",
    "    \"Réseaux\",\n",
    "    \"Revue française d'économie\",\n",
    "    \"Espaces et sociétés\"\n",
    "]\n",
    "\n",
    "# Through The Years _ \n",
    "TTY_ALL = []\n",
    "TTY_ARSS = []\n",
    "TTY_TYPE = []\n",
    "TTY_GENERALE = []\n",
    "\n",
    "# Creating df dedicated to ARSS, TYPE and GENERALE \n",
    "bool_ARSS = [\n",
    "    revue in ARSS for revue in df.loc[:,'revue']\n",
    "]\n",
    "bool_TYPE = [\n",
    "    revue in TYPE for revue in df.loc[:,'revue']\n",
    "]\n",
    "bool_GENERALE = [\n",
    "    revue in GENERALE for revue in df.loc[:,'revue']\n",
    "]\n",
    "\n",
    "\n",
    "df_ARSS = df.loc[bool_ARSS,:]\n",
    "df_TYPE = df.loc[bool_TYPE,:]\n",
    "df_GENERALE = df.loc[bool_GENERALE,:]\n",
    "\n",
    "for y in years :\n",
    "    TTY_ALL.append(\n",
    "        df.loc[\n",
    "            df.loc[:,'annee'] == y,     # rows\n",
    "            'bert_genre'                # column\n",
    "        ].mean() * 100                  # take the mean\n",
    "    )\n",
    "    TTY_ARSS.append(\n",
    "        df_ARSS.loc[\n",
    "            df_ARSS.loc[:,'annee'] == y,\n",
    "            'bert_genre'\n",
    "        ].mean() * 100\n",
    "    )\n",
    "    TTY_TYPE.append(\n",
    "        df_TYPE.loc[\n",
    "            df_TYPE.loc[:,'annee'] == y,\n",
    "            'bert_genre'\n",
    "        ].mean() * 100\n",
    "    )\n",
    "    TTY_GENERALE.append(\n",
    "        df_GENERALE.loc[\n",
    "            df_GENERALE.loc[:,'annee'] == y,\n",
    "            'bert_genre'\n",
    "        ].mean() * 100\n",
    "    )"
   ]
  },
  {
   "cell_type": "markdown",
   "metadata": {},
   "source": [
    "We are also comparing the definition used to consider an article has summoned the concept of gender. We do the same work for the `stat` definition"
   ]
  },
  {
   "cell_type": "code",
   "execution_count": 7,
   "metadata": {},
   "outputs": [],
   "source": [
    "# Through The Years _ \n",
    "TTY_ALL_STAT = []\n",
    "TTY_ARSS_STAT = []\n",
    "TTY_TYPE_STAT = []\n",
    "TTY_GENERALE_STAT = []\n",
    "\n",
    "# NOTE regarder comment on traite les na\n",
    "\n",
    "for y in years :\n",
    "    TTY_ALL_STAT.append(\n",
    "        df.loc[\n",
    "            df.loc[:,'annee'] == y,     # rows\n",
    "            'bert_genre_stat'           # column\n",
    "        ].mean() * 100                  # take the mean\n",
    "    )\n",
    "    TTY_ARSS_STAT.append(\n",
    "        df_ARSS.loc[\n",
    "            df_ARSS.loc[:,'annee'] == y,\n",
    "            'bert_genre_stat'\n",
    "        ].mean() * 100\n",
    "    )\n",
    "    TTY_TYPE_STAT.append(\n",
    "        df_TYPE.loc[\n",
    "            df_TYPE.loc[:,'annee'] == y,\n",
    "            'bert_genre_stat'\n",
    "        ].mean() * 100\n",
    "    )\n",
    "    TTY_GENERALE_STAT.append(\n",
    "        df_GENERALE.loc[\n",
    "            df_GENERALE.loc[:,'annee'] == y,\n",
    "            'bert_genre_stat'\n",
    "        ].mean() * 100\n",
    "    )"
   ]
  },
  {
   "cell_type": "markdown",
   "metadata": {},
   "source": [
    "# Plotting"
   ]
  },
  {
   "cell_type": "markdown",
   "metadata": {},
   "source": [
    "The plotting section is first going to turn all the data into a usable data frame. We are going to use the following logic. : \n",
    "> Each row is a data, it will contain the year, percentage and any tag used for the actual plotting section"
   ]
  },
  {
   "cell_type": "markdown",
   "metadata": {},
   "source": [
    "## Turn into a usable dataframe"
   ]
  },
  {
   "cell_type": "code",
   "execution_count": 8,
   "metadata": {},
   "outputs": [],
   "source": [
    "N = len(years)\n",
    "ext_vect = ['Définition extensive' for _ in range(N)]\n",
    "stt_vect = ['Définition statistique' for _ in range(N)]\n",
    "\n",
    "GRN_vect = [\"Toutes \" for _ in range(N)]\n",
    "RED_vect = [\"ARSS\" for _ in range(N)]\n",
    "BLU_vect = [\"Revues TYPE\" for _ in range(N)]\n",
    "ORG_vect = [\"Revues GENERALES\" for _ in range(N)]\n",
    "\n",
    "plotting_df = pd.DataFrame(dict(\n",
    "    annee       = np.tile(years, 8),\n",
    "    pourcentage = np.concatenate(\n",
    "                        (TTY_ALL      , TTY_ALL_STAT,\n",
    "                         TTY_ARSS     , TTY_ARSS_STAT,\n",
    "                         TTY_TYPE     , TTY_TYPE_STAT,\n",
    "                         TTY_GENERALE , TTY_GENERALE_STAT)      \n",
    "                    ) ,\n",
    "    line_dash_style = np.concatenate(\n",
    "                        (ext_vect,  stt_vect,\n",
    "                         ext_vect,  stt_vect,\n",
    "                         ext_vect,  stt_vect,\n",
    "                         ext_vect,  stt_vect)   \n",
    "    ),\n",
    "    colour_style = np.concatenate(\n",
    "                        (GRN_vect,  GRN_vect,\n",
    "                         RED_vect,  RED_vect,\n",
    "                         BLU_vect,  BLU_vect,\n",
    "                         ORG_vect,  ORG_vect)   \n",
    "    )\n",
    "))\n",
    "plotting_df.to_csv('../../data/checkpoints/figure_2_preprocessed.csv')"
   ]
  },
  {
   "cell_type": "code",
   "execution_count": 190,
   "metadata": {},
   "outputs": [
    {
     "data": {
      "text/html": [
       "<div>\n",
       "<style scoped>\n",
       "    .dataframe tbody tr th:only-of-type {\n",
       "        vertical-align: middle;\n",
       "    }\n",
       "\n",
       "    .dataframe tbody tr th {\n",
       "        vertical-align: top;\n",
       "    }\n",
       "\n",
       "    .dataframe thead th {\n",
       "        text-align: right;\n",
       "    }\n",
       "</style>\n",
       "<table border=\"1\" class=\"dataframe\">\n",
       "  <thead>\n",
       "    <tr style=\"text-align: right;\">\n",
       "      <th></th>\n",
       "      <th>annee</th>\n",
       "      <th>pourcentage</th>\n",
       "      <th>line_dash_style</th>\n",
       "      <th>colour_style</th>\n",
       "    </tr>\n",
       "  </thead>\n",
       "  <tbody>\n",
       "    <tr>\n",
       "      <th>0</th>\n",
       "      <td>2001</td>\n",
       "      <td>7.601185</td>\n",
       "      <td>Définition extensive</td>\n",
       "      <td>Toutes</td>\n",
       "    </tr>\n",
       "    <tr>\n",
       "      <th>1</th>\n",
       "      <td>2002</td>\n",
       "      <td>10.254163</td>\n",
       "      <td>Définition extensive</td>\n",
       "      <td>Toutes</td>\n",
       "    </tr>\n",
       "    <tr>\n",
       "      <th>2</th>\n",
       "      <td>2003</td>\n",
       "      <td>9.318996</td>\n",
       "      <td>Définition extensive</td>\n",
       "      <td>Toutes</td>\n",
       "    </tr>\n",
       "    <tr>\n",
       "      <th>3</th>\n",
       "      <td>2004</td>\n",
       "      <td>8.311518</td>\n",
       "      <td>Définition extensive</td>\n",
       "      <td>Toutes</td>\n",
       "    </tr>\n",
       "    <tr>\n",
       "      <th>4</th>\n",
       "      <td>2005</td>\n",
       "      <td>9.650259</td>\n",
       "      <td>Définition extensive</td>\n",
       "      <td>Toutes</td>\n",
       "    </tr>\n",
       "  </tbody>\n",
       "</table>\n",
       "</div>"
      ],
      "text/plain": [
       "   annee  pourcentage       line_dash_style colour_style\n",
       "0   2001     7.601185  Définition extensive      Toutes \n",
       "1   2002    10.254163  Définition extensive      Toutes \n",
       "2   2003     9.318996  Définition extensive      Toutes \n",
       "3   2004     8.311518  Définition extensive      Toutes \n",
       "4   2005     9.650259  Définition extensive      Toutes "
      ]
     },
     "execution_count": 190,
     "metadata": {},
     "output_type": "execute_result"
    }
   ],
   "source": [
    "plotting_df.head()"
   ]
  },
  {
   "cell_type": "markdown",
   "metadata": {},
   "source": [
    "## Actually plotting"
   ]
  },
  {
   "cell_type": "code",
   "execution_count": 191,
   "metadata": {},
   "outputs": [],
   "source": [
    "fig = px.line(\n",
    "    plotting_df,\n",
    "    x = 'annee', y = 'pourcentage',\n",
    "    color = 'colour_style', line_dash = 'line_dash_style',\n",
    "    labels = {\n",
    "            'colour_style' : 'Groupe de revues',\n",
    "            'line_dash_style' : 'Définition du genre'\n",
    "        }\n",
    ")"
   ]
  },
  {
   "cell_type": "code",
   "execution_count": 192,
   "metadata": {},
   "outputs": [
    {
     "data": {
      "application/vnd.plotly.v1+json": {
       "config": {
        "plotlyServerURL": "https://plot.ly"
       },
       "data": [
        {
         "hovertemplate": "Groupe de revues=Toutes <br>Définition du genre=Définition extensive<br>annee=%{x}<br>pourcentage=%{y}<extra></extra>",
         "legendgroup": "Toutes , Définition extensive",
         "line": {
          "color": "#636efa",
          "dash": "solid"
         },
         "marker": {
          "symbol": "circle"
         },
         "mode": "lines",
         "name": "Toutes , Définition extensive",
         "orientation": "v",
         "showlegend": true,
         "type": "scatter",
         "x": [
          2001,
          2002,
          2003,
          2004,
          2005,
          2006,
          2007,
          2008,
          2009,
          2010,
          2011,
          2012,
          2013,
          2014,
          2015,
          2016,
          2017,
          2018,
          2019,
          2020,
          2021,
          2022,
          2023
         ],
         "xaxis": "x",
         "y": [
          7.601184600197433,
          10.254163014899213,
          9.31899641577061,
          8.311518324607329,
          9.650259067357512,
          9.512893982808022,
          9.205867475973697,
          6.4500716674629714,
          10.21256931608133,
          8.185361628410567,
          8.379413015737985,
          11.15898319689789,
          8.82752376641014,
          8.702999577524292,
          9.347368421052632,
          9.67741935483871,
          10.932883073026593,
          8.860249697946033,
          10.437710437710438,
          10.715979137031768,
          11.10254433307633,
          12.056451612903226,
          13.463751438434981
         ],
         "yaxis": "y"
        },
        {
         "hovertemplate": "Groupe de revues=Toutes <br>Définition du genre=Définition statistique<br>annee=%{x}<br>pourcentage=%{y}<extra></extra>",
         "legendgroup": "Toutes , Définition statistique",
         "line": {
          "color": "#636efa",
          "dash": "dot"
         },
         "marker": {
          "symbol": "circle"
         },
         "mode": "lines",
         "name": "Toutes , Définition statistique",
         "orientation": "v",
         "showlegend": true,
         "type": "scatter",
         "x": [
          2001,
          2002,
          2003,
          2004,
          2005,
          2006,
          2007,
          2008,
          2009,
          2010,
          2011,
          2012,
          2013,
          2014,
          2015,
          2016,
          2017,
          2018,
          2019,
          2020,
          2021,
          2022,
          2023
         ],
         "xaxis": "x",
         "y": [
          0.19743336623889435,
          0.26292725679228746,
          0.7885304659498209,
          0.1963350785340314,
          0.38860103626943004,
          0.40114613180515757,
          0.25290844714213456,
          0.23889154323936934,
          0.36968576709796674,
          0.34647033347769596,
          0.340280731603573,
          0.7324429125376993,
          0.4526935264825713,
          0.38022813688212925,
          0.21052631578947367,
          0.282258064516129,
          0.33769523005487545,
          0.3221908981071285,
          0.42087542087542085,
          0.33191085822664773,
          0.30840400925212025,
          0.5241935483870969,
          0.23014959723820483
         ],
         "yaxis": "y"
        },
        {
         "hovertemplate": "Groupe de revues=ARSS<br>Définition du genre=Définition extensive<br>annee=%{x}<br>pourcentage=%{y}<extra></extra>",
         "legendgroup": "ARSS, Définition extensive",
         "line": {
          "color": "#EF553B",
          "dash": "solid"
         },
         "marker": {
          "symbol": "circle"
         },
         "mode": "lines",
         "name": "ARSS, Définition extensive",
         "orientation": "v",
         "showlegend": true,
         "type": "scatter",
         "x": [
          2001,
          2002,
          2003,
          2004,
          2005,
          2006,
          2007,
          2008,
          2009,
          2010,
          2011,
          2012,
          2013,
          2014,
          2015,
          2016,
          2017,
          2018,
          2019,
          2020,
          2021,
          2022,
          2023
         ],
         "xaxis": "x",
         "y": [
          3.4482758620689653,
          7.142857142857142,
          0,
          7.6923076923076925,
          4.3478260869565215,
          0,
          15.384615384615385,
          5.88235294117647,
          3.4482758620689653,
          3.571428571428571,
          3.7037037037037033,
          8.695652173913043,
          14.285714285714285,
          4,
          10.714285714285714,
          24,
          21.73913043478261,
          28.57142857142857,
          0,
          6.25,
          16.666666666666664,
          12.5,
          20
         ],
         "yaxis": "y"
        },
        {
         "hovertemplate": "Groupe de revues=ARSS<br>Définition du genre=Définition statistique<br>annee=%{x}<br>pourcentage=%{y}<extra></extra>",
         "legendgroup": "ARSS, Définition statistique",
         "line": {
          "color": "#EF553B",
          "dash": "dot"
         },
         "marker": {
          "symbol": "circle"
         },
         "mode": "lines",
         "name": "ARSS, Définition statistique",
         "orientation": "v",
         "showlegend": true,
         "type": "scatter",
         "x": [
          2001,
          2002,
          2003,
          2004,
          2005,
          2006,
          2007,
          2008,
          2009,
          2010,
          2011,
          2012,
          2013,
          2014,
          2015,
          2016,
          2017,
          2018,
          2019,
          2020,
          2021,
          2022,
          2023
         ],
         "xaxis": "x",
         "y": [
          0,
          0,
          0,
          0,
          0,
          0,
          0,
          0,
          0,
          0,
          0,
          0,
          0,
          0,
          0,
          0,
          0,
          0,
          0,
          0,
          0,
          0,
          0
         ],
         "yaxis": "y"
        },
        {
         "hovertemplate": "Groupe de revues=Revues TYPE<br>Définition du genre=Définition extensive<br>annee=%{x}<br>pourcentage=%{y}<extra></extra>",
         "legendgroup": "Revues TYPE, Définition extensive",
         "line": {
          "color": "#00cc96",
          "dash": "solid"
         },
         "marker": {
          "symbol": "circle"
         },
         "mode": "lines",
         "name": "Revues TYPE, Définition extensive",
         "orientation": "v",
         "showlegend": true,
         "type": "scatter",
         "x": [
          2001,
          2002,
          2003,
          2004,
          2005,
          2006,
          2007,
          2008,
          2009,
          2010,
          2011,
          2012,
          2013,
          2014,
          2015,
          2016,
          2017,
          2018,
          2019,
          2020,
          2021,
          2022,
          2023
         ],
         "xaxis": "x",
         "y": [
          5.1020408163265305,
          6.698564593301436,
          9.745762711864407,
          5.447470817120623,
          5.737704918032787,
          4.918032786885246,
          6.048387096774194,
          5.6000000000000005,
          6.859205776173286,
          8.992805755395683,
          9.540636042402827,
          9.057971014492754,
          15.019762845849801,
          5.033557046979865,
          9.05511811023622,
          12.318840579710146,
          13.127413127413126,
          12.863070539419086,
          11.522633744855968,
          9.424083769633508,
          8.906882591093117,
          11.162790697674419,
          20.18348623853211
         ],
         "yaxis": "y"
        },
        {
         "hovertemplate": "Groupe de revues=Revues TYPE<br>Définition du genre=Définition statistique<br>annee=%{x}<br>pourcentage=%{y}<extra></extra>",
         "legendgroup": "Revues TYPE, Définition statistique",
         "line": {
          "color": "#00cc96",
          "dash": "dot"
         },
         "marker": {
          "symbol": "circle"
         },
         "mode": "lines",
         "name": "Revues TYPE, Définition statistique",
         "orientation": "v",
         "showlegend": true,
         "type": "scatter",
         "x": [
          2001,
          2002,
          2003,
          2004,
          2005,
          2006,
          2007,
          2008,
          2009,
          2010,
          2011,
          2012,
          2013,
          2014,
          2015,
          2016,
          2017,
          2018,
          2019,
          2020,
          2021,
          2022,
          2023
         ],
         "xaxis": "x",
         "y": [
          0.5102040816326531,
          0.4784688995215311,
          2.9661016949152543,
          0.7782101167315175,
          1.639344262295082,
          1.639344262295082,
          0,
          1.2,
          0.36101083032490977,
          1.7985611510791366,
          1.0600706713780919,
          2.536231884057971,
          1.185770750988142,
          1.6778523489932886,
          0.7874015748031495,
          1.8115942028985508,
          1.1583011583011582,
          1.2448132780082988,
          2.880658436213992,
          1.5706806282722512,
          0.8097165991902834,
          2.7906976744186047,
          0.9174311926605505
         ],
         "yaxis": "y"
        },
        {
         "hovertemplate": "Groupe de revues=Revues GENERALES<br>Définition du genre=Définition extensive<br>annee=%{x}<br>pourcentage=%{y}<extra></extra>",
         "legendgroup": "Revues GENERALES, Définition extensive",
         "line": {
          "color": "#ab63fa",
          "dash": "solid"
         },
         "marker": {
          "symbol": "circle"
         },
         "mode": "lines",
         "name": "Revues GENERALES, Définition extensive",
         "orientation": "v",
         "showlegend": true,
         "type": "scatter",
         "x": [
          2001,
          2002,
          2003,
          2004,
          2005,
          2006,
          2007,
          2008,
          2009,
          2010,
          2011,
          2012,
          2013,
          2014,
          2015,
          2016,
          2017,
          2018,
          2019,
          2020,
          2021,
          2022,
          2023
         ],
         "xaxis": "x",
         "y": [
          4.819277108433735,
          3.7037037037037033,
          13.513513513513514,
          10.576923076923077,
          4.672897196261682,
          4.716981132075472,
          11.214953271028037,
          8.571428571428571,
          11.304347826086957,
          7.317073170731707,
          9.322033898305085,
          12.698412698412698,
          13.88888888888889,
          7.82608695652174,
          7.079646017699115,
          8.928571428571429,
          14.035087719298245,
          15.841584158415841,
          15.09433962264151,
          14.285714285714285,
          12.76595744680851,
          11.11111111111111,
          16.666666666666664
         ],
         "yaxis": "y"
        },
        {
         "hovertemplate": "Groupe de revues=Revues GENERALES<br>Définition du genre=Définition statistique<br>annee=%{x}<br>pourcentage=%{y}<extra></extra>",
         "legendgroup": "Revues GENERALES, Définition statistique",
         "line": {
          "color": "#ab63fa",
          "dash": "dot"
         },
         "marker": {
          "symbol": "circle"
         },
         "mode": "lines",
         "name": "Revues GENERALES, Définition statistique",
         "orientation": "v",
         "showlegend": true,
         "type": "scatter",
         "x": [
          2001,
          2002,
          2003,
          2004,
          2005,
          2006,
          2007,
          2008,
          2009,
          2010,
          2011,
          2012,
          2013,
          2014,
          2015,
          2016,
          2017,
          2018,
          2019,
          2020,
          2021,
          2022,
          2023
         ],
         "xaxis": "x",
         "y": [
          0,
          0,
          0.9009009009009009,
          0,
          0,
          0,
          0,
          0.9523809523809524,
          0,
          0,
          0,
          0,
          0,
          0,
          0,
          0.8928571428571428,
          0,
          0,
          0.9433962264150944,
          0,
          0,
          1.8518518518518516,
          1.8518518518518516
         ],
         "yaxis": "y"
        }
       ],
       "layout": {
        "legend": {
         "title": {
          "text": "Groupe de revues, Définition du genre"
         },
         "tracegroupgap": 0
        },
        "margin": {
         "t": 60
        },
        "template": {
         "data": {
          "bar": [
           {
            "error_x": {
             "color": "#2a3f5f"
            },
            "error_y": {
             "color": "#2a3f5f"
            },
            "marker": {
             "line": {
              "color": "#E5ECF6",
              "width": 0.5
             },
             "pattern": {
              "fillmode": "overlay",
              "size": 10,
              "solidity": 0.2
             }
            },
            "type": "bar"
           }
          ],
          "barpolar": [
           {
            "marker": {
             "line": {
              "color": "#E5ECF6",
              "width": 0.5
             },
             "pattern": {
              "fillmode": "overlay",
              "size": 10,
              "solidity": 0.2
             }
            },
            "type": "barpolar"
           }
          ],
          "carpet": [
           {
            "aaxis": {
             "endlinecolor": "#2a3f5f",
             "gridcolor": "white",
             "linecolor": "white",
             "minorgridcolor": "white",
             "startlinecolor": "#2a3f5f"
            },
            "baxis": {
             "endlinecolor": "#2a3f5f",
             "gridcolor": "white",
             "linecolor": "white",
             "minorgridcolor": "white",
             "startlinecolor": "#2a3f5f"
            },
            "type": "carpet"
           }
          ],
          "choropleth": [
           {
            "colorbar": {
             "outlinewidth": 0,
             "ticks": ""
            },
            "type": "choropleth"
           }
          ],
          "contour": [
           {
            "colorbar": {
             "outlinewidth": 0,
             "ticks": ""
            },
            "colorscale": [
             [
              0,
              "#0d0887"
             ],
             [
              0.1111111111111111,
              "#46039f"
             ],
             [
              0.2222222222222222,
              "#7201a8"
             ],
             [
              0.3333333333333333,
              "#9c179e"
             ],
             [
              0.4444444444444444,
              "#bd3786"
             ],
             [
              0.5555555555555556,
              "#d8576b"
             ],
             [
              0.6666666666666666,
              "#ed7953"
             ],
             [
              0.7777777777777778,
              "#fb9f3a"
             ],
             [
              0.8888888888888888,
              "#fdca26"
             ],
             [
              1,
              "#f0f921"
             ]
            ],
            "type": "contour"
           }
          ],
          "contourcarpet": [
           {
            "colorbar": {
             "outlinewidth": 0,
             "ticks": ""
            },
            "type": "contourcarpet"
           }
          ],
          "heatmap": [
           {
            "colorbar": {
             "outlinewidth": 0,
             "ticks": ""
            },
            "colorscale": [
             [
              0,
              "#0d0887"
             ],
             [
              0.1111111111111111,
              "#46039f"
             ],
             [
              0.2222222222222222,
              "#7201a8"
             ],
             [
              0.3333333333333333,
              "#9c179e"
             ],
             [
              0.4444444444444444,
              "#bd3786"
             ],
             [
              0.5555555555555556,
              "#d8576b"
             ],
             [
              0.6666666666666666,
              "#ed7953"
             ],
             [
              0.7777777777777778,
              "#fb9f3a"
             ],
             [
              0.8888888888888888,
              "#fdca26"
             ],
             [
              1,
              "#f0f921"
             ]
            ],
            "type": "heatmap"
           }
          ],
          "heatmapgl": [
           {
            "colorbar": {
             "outlinewidth": 0,
             "ticks": ""
            },
            "colorscale": [
             [
              0,
              "#0d0887"
             ],
             [
              0.1111111111111111,
              "#46039f"
             ],
             [
              0.2222222222222222,
              "#7201a8"
             ],
             [
              0.3333333333333333,
              "#9c179e"
             ],
             [
              0.4444444444444444,
              "#bd3786"
             ],
             [
              0.5555555555555556,
              "#d8576b"
             ],
             [
              0.6666666666666666,
              "#ed7953"
             ],
             [
              0.7777777777777778,
              "#fb9f3a"
             ],
             [
              0.8888888888888888,
              "#fdca26"
             ],
             [
              1,
              "#f0f921"
             ]
            ],
            "type": "heatmapgl"
           }
          ],
          "histogram": [
           {
            "marker": {
             "pattern": {
              "fillmode": "overlay",
              "size": 10,
              "solidity": 0.2
             }
            },
            "type": "histogram"
           }
          ],
          "histogram2d": [
           {
            "colorbar": {
             "outlinewidth": 0,
             "ticks": ""
            },
            "colorscale": [
             [
              0,
              "#0d0887"
             ],
             [
              0.1111111111111111,
              "#46039f"
             ],
             [
              0.2222222222222222,
              "#7201a8"
             ],
             [
              0.3333333333333333,
              "#9c179e"
             ],
             [
              0.4444444444444444,
              "#bd3786"
             ],
             [
              0.5555555555555556,
              "#d8576b"
             ],
             [
              0.6666666666666666,
              "#ed7953"
             ],
             [
              0.7777777777777778,
              "#fb9f3a"
             ],
             [
              0.8888888888888888,
              "#fdca26"
             ],
             [
              1,
              "#f0f921"
             ]
            ],
            "type": "histogram2d"
           }
          ],
          "histogram2dcontour": [
           {
            "colorbar": {
             "outlinewidth": 0,
             "ticks": ""
            },
            "colorscale": [
             [
              0,
              "#0d0887"
             ],
             [
              0.1111111111111111,
              "#46039f"
             ],
             [
              0.2222222222222222,
              "#7201a8"
             ],
             [
              0.3333333333333333,
              "#9c179e"
             ],
             [
              0.4444444444444444,
              "#bd3786"
             ],
             [
              0.5555555555555556,
              "#d8576b"
             ],
             [
              0.6666666666666666,
              "#ed7953"
             ],
             [
              0.7777777777777778,
              "#fb9f3a"
             ],
             [
              0.8888888888888888,
              "#fdca26"
             ],
             [
              1,
              "#f0f921"
             ]
            ],
            "type": "histogram2dcontour"
           }
          ],
          "mesh3d": [
           {
            "colorbar": {
             "outlinewidth": 0,
             "ticks": ""
            },
            "type": "mesh3d"
           }
          ],
          "parcoords": [
           {
            "line": {
             "colorbar": {
              "outlinewidth": 0,
              "ticks": ""
             }
            },
            "type": "parcoords"
           }
          ],
          "pie": [
           {
            "automargin": true,
            "type": "pie"
           }
          ],
          "scatter": [
           {
            "fillpattern": {
             "fillmode": "overlay",
             "size": 10,
             "solidity": 0.2
            },
            "type": "scatter"
           }
          ],
          "scatter3d": [
           {
            "line": {
             "colorbar": {
              "outlinewidth": 0,
              "ticks": ""
             }
            },
            "marker": {
             "colorbar": {
              "outlinewidth": 0,
              "ticks": ""
             }
            },
            "type": "scatter3d"
           }
          ],
          "scattercarpet": [
           {
            "marker": {
             "colorbar": {
              "outlinewidth": 0,
              "ticks": ""
             }
            },
            "type": "scattercarpet"
           }
          ],
          "scattergeo": [
           {
            "marker": {
             "colorbar": {
              "outlinewidth": 0,
              "ticks": ""
             }
            },
            "type": "scattergeo"
           }
          ],
          "scattergl": [
           {
            "marker": {
             "colorbar": {
              "outlinewidth": 0,
              "ticks": ""
             }
            },
            "type": "scattergl"
           }
          ],
          "scattermapbox": [
           {
            "marker": {
             "colorbar": {
              "outlinewidth": 0,
              "ticks": ""
             }
            },
            "type": "scattermapbox"
           }
          ],
          "scatterpolar": [
           {
            "marker": {
             "colorbar": {
              "outlinewidth": 0,
              "ticks": ""
             }
            },
            "type": "scatterpolar"
           }
          ],
          "scatterpolargl": [
           {
            "marker": {
             "colorbar": {
              "outlinewidth": 0,
              "ticks": ""
             }
            },
            "type": "scatterpolargl"
           }
          ],
          "scatterternary": [
           {
            "marker": {
             "colorbar": {
              "outlinewidth": 0,
              "ticks": ""
             }
            },
            "type": "scatterternary"
           }
          ],
          "surface": [
           {
            "colorbar": {
             "outlinewidth": 0,
             "ticks": ""
            },
            "colorscale": [
             [
              0,
              "#0d0887"
             ],
             [
              0.1111111111111111,
              "#46039f"
             ],
             [
              0.2222222222222222,
              "#7201a8"
             ],
             [
              0.3333333333333333,
              "#9c179e"
             ],
             [
              0.4444444444444444,
              "#bd3786"
             ],
             [
              0.5555555555555556,
              "#d8576b"
             ],
             [
              0.6666666666666666,
              "#ed7953"
             ],
             [
              0.7777777777777778,
              "#fb9f3a"
             ],
             [
              0.8888888888888888,
              "#fdca26"
             ],
             [
              1,
              "#f0f921"
             ]
            ],
            "type": "surface"
           }
          ],
          "table": [
           {
            "cells": {
             "fill": {
              "color": "#EBF0F8"
             },
             "line": {
              "color": "white"
             }
            },
            "header": {
             "fill": {
              "color": "#C8D4E3"
             },
             "line": {
              "color": "white"
             }
            },
            "type": "table"
           }
          ]
         },
         "layout": {
          "annotationdefaults": {
           "arrowcolor": "#2a3f5f",
           "arrowhead": 0,
           "arrowwidth": 1
          },
          "autotypenumbers": "strict",
          "coloraxis": {
           "colorbar": {
            "outlinewidth": 0,
            "ticks": ""
           }
          },
          "colorscale": {
           "diverging": [
            [
             0,
             "#8e0152"
            ],
            [
             0.1,
             "#c51b7d"
            ],
            [
             0.2,
             "#de77ae"
            ],
            [
             0.3,
             "#f1b6da"
            ],
            [
             0.4,
             "#fde0ef"
            ],
            [
             0.5,
             "#f7f7f7"
            ],
            [
             0.6,
             "#e6f5d0"
            ],
            [
             0.7,
             "#b8e186"
            ],
            [
             0.8,
             "#7fbc41"
            ],
            [
             0.9,
             "#4d9221"
            ],
            [
             1,
             "#276419"
            ]
           ],
           "sequential": [
            [
             0,
             "#0d0887"
            ],
            [
             0.1111111111111111,
             "#46039f"
            ],
            [
             0.2222222222222222,
             "#7201a8"
            ],
            [
             0.3333333333333333,
             "#9c179e"
            ],
            [
             0.4444444444444444,
             "#bd3786"
            ],
            [
             0.5555555555555556,
             "#d8576b"
            ],
            [
             0.6666666666666666,
             "#ed7953"
            ],
            [
             0.7777777777777778,
             "#fb9f3a"
            ],
            [
             0.8888888888888888,
             "#fdca26"
            ],
            [
             1,
             "#f0f921"
            ]
           ],
           "sequentialminus": [
            [
             0,
             "#0d0887"
            ],
            [
             0.1111111111111111,
             "#46039f"
            ],
            [
             0.2222222222222222,
             "#7201a8"
            ],
            [
             0.3333333333333333,
             "#9c179e"
            ],
            [
             0.4444444444444444,
             "#bd3786"
            ],
            [
             0.5555555555555556,
             "#d8576b"
            ],
            [
             0.6666666666666666,
             "#ed7953"
            ],
            [
             0.7777777777777778,
             "#fb9f3a"
            ],
            [
             0.8888888888888888,
             "#fdca26"
            ],
            [
             1,
             "#f0f921"
            ]
           ]
          },
          "colorway": [
           "#636efa",
           "#EF553B",
           "#00cc96",
           "#ab63fa",
           "#FFA15A",
           "#19d3f3",
           "#FF6692",
           "#B6E880",
           "#FF97FF",
           "#FECB52"
          ],
          "font": {
           "color": "#2a3f5f"
          },
          "geo": {
           "bgcolor": "white",
           "lakecolor": "white",
           "landcolor": "#E5ECF6",
           "showlakes": true,
           "showland": true,
           "subunitcolor": "white"
          },
          "hoverlabel": {
           "align": "left"
          },
          "hovermode": "closest",
          "mapbox": {
           "style": "light"
          },
          "paper_bgcolor": "white",
          "plot_bgcolor": "#E5ECF6",
          "polar": {
           "angularaxis": {
            "gridcolor": "white",
            "linecolor": "white",
            "ticks": ""
           },
           "bgcolor": "#E5ECF6",
           "radialaxis": {
            "gridcolor": "white",
            "linecolor": "white",
            "ticks": ""
           }
          },
          "scene": {
           "xaxis": {
            "backgroundcolor": "#E5ECF6",
            "gridcolor": "white",
            "gridwidth": 2,
            "linecolor": "white",
            "showbackground": true,
            "ticks": "",
            "zerolinecolor": "white"
           },
           "yaxis": {
            "backgroundcolor": "#E5ECF6",
            "gridcolor": "white",
            "gridwidth": 2,
            "linecolor": "white",
            "showbackground": true,
            "ticks": "",
            "zerolinecolor": "white"
           },
           "zaxis": {
            "backgroundcolor": "#E5ECF6",
            "gridcolor": "white",
            "gridwidth": 2,
            "linecolor": "white",
            "showbackground": true,
            "ticks": "",
            "zerolinecolor": "white"
           }
          },
          "shapedefaults": {
           "line": {
            "color": "#2a3f5f"
           }
          },
          "ternary": {
           "aaxis": {
            "gridcolor": "white",
            "linecolor": "white",
            "ticks": ""
           },
           "baxis": {
            "gridcolor": "white",
            "linecolor": "white",
            "ticks": ""
           },
           "bgcolor": "#E5ECF6",
           "caxis": {
            "gridcolor": "white",
            "linecolor": "white",
            "ticks": ""
           }
          },
          "title": {
           "x": 0.05
          },
          "xaxis": {
           "automargin": true,
           "gridcolor": "white",
           "linecolor": "white",
           "ticks": "",
           "title": {
            "standoff": 15
           },
           "zerolinecolor": "white",
           "zerolinewidth": 2
          },
          "yaxis": {
           "automargin": true,
           "gridcolor": "white",
           "linecolor": "white",
           "ticks": "",
           "title": {
            "standoff": 15
           },
           "zerolinecolor": "white",
           "zerolinewidth": 2
          }
         }
        },
        "xaxis": {
         "anchor": "y",
         "domain": [
          0,
          1
         ],
         "title": {
          "text": "annee"
         }
        },
        "yaxis": {
         "anchor": "x",
         "domain": [
          0,
          1
         ],
         "title": {
          "text": "pourcentage"
         }
        }
       }
      }
     },
     "metadata": {},
     "output_type": "display_data"
    }
   ],
   "source": [
    "fig"
   ]
  },
  {
   "cell_type": "markdown",
   "metadata": {},
   "source": [
    "### Customisation"
   ]
  },
  {
   "cell_type": "code",
   "execution_count": 195,
   "metadata": {},
   "outputs": [],
   "source": [
    "# Setting title and axis names\n",
    "fig = fig.update_layout(dict(\n",
    "    title = dict(\n",
    "            text = (\"Évolution de la proportion d'articles publiés invoquant le \"\n",
    "                    \"thème du genre (def extensive et statistique)\"),\n",
    "             automargin = True, \n",
    "             pad = dict(t = 10, b = 10 , r = 10, l = 10)),\n",
    "    xaxis = dict(title = \"Année de publication\"),\n",
    "    yaxis = dict(\n",
    "        title = \"Part des articles qui invoquent le concept du genre\",\n",
    "        ticksuffix = \"%\"),    \n",
    "))"
   ]
  },
  {
   "cell_type": "code",
   "execution_count": 213,
   "metadata": {},
   "outputs": [],
   "source": [
    "# https://plotly.com/python/reference/layout/xaxis/\n",
    "# customizing the x axis\n",
    "fig = fig.update_layout(\n",
    "    xaxis = dict(\n",
    "        showline = True,\n",
    "        linewidth = 2, \n",
    "        linecolor = 'rgb(20,20,20)',\n",
    "        ticks = \"outside\",           # \"outside\", \"inside\", \"\"\n",
    "        showticklabels = True,\n",
    "        tickangle = 0,\n",
    "        tickfont = dict(\n",
    "            family = \"Arial\", size = 12, color = \"rgb(80,80,80)\"\n",
    "            ),\n",
    "        tickvals = [2004,2008,2012,2016,2020],\n",
    "        showgrid = False,\n",
    "    )\n",
    ")\n",
    "\n",
    "# customizing the y axis\n",
    "fig = fig.update_layout(\n",
    "    yaxis = dict(\n",
    "        showline = False,\n",
    "        ticks = \"outside\",\n",
    "        showticklabels = True,\n",
    "        tickangle = 0,\n",
    "        tickfont = dict(\n",
    "            family = \"Arial\", size = 12, color = \"rgb(80,80,80)\"\n",
    "            ),\n",
    "        tickvals = [0,10,20],\n",
    "        tickwidth = 1,\n",
    "        showgrid = True,\n",
    "        gridcolor = 'rgb(80,80,80)',\n",
    "        gridwidth = 1,\n",
    "\n",
    "        autorange = False,\n",
    "        range = [-0.001,30]\n",
    "    )\n",
    ")\n",
    "\n",
    "# changing fig background color : \n",
    "fig = fig.update_layout(dict(\n",
    "    plot_bgcolor='rgb(255, 255, 255)',\n",
    "    paper_bgcolor='rgb(255, 255, 255)',\n",
    "))"
   ]
  },
  {
   "cell_type": "code",
   "execution_count": 214,
   "metadata": {},
   "outputs": [],
   "source": [
    "# Not implemented but might be interesting\n",
    "# fig.update_layout(dict(\n",
    "#     hovermode = \"closest\",\n",
    "#     xaxis = dict(showspikes = True)\n",
    "# ))"
   ]
  },
  {
   "cell_type": "code",
   "execution_count": 215,
   "metadata": {},
   "outputs": [],
   "source": [
    "# Adding a dropdown menu https://programminghistorian.org/en/lessons/interactive-visualization-with-plotly#adding-animations-dropdown-bars\n",
    "\n",
    "fig = fig.update_layout(\n",
    "    updatemenus=[\n",
    "        dict(\n",
    "            type = \"buttons\",\n",
    "            direction = \"left\",\n",
    "            pad = dict(r = 10, t = 10, b = 10, l = 10),  #Pad autour de l'objet\n",
    "            showactive = True, \n",
    "            xanchor = \"left\", yanchor = \"top\",\n",
    "            x = .05, y = 1.1,\n",
    "            buttons=list(\n",
    "                [ \n",
    "                    dict(\n",
    "                        label=\"Toutes les courbes\",                     \n",
    "                        method=\"update\",\n",
    "                        args=[\n",
    "                            {\n",
    "                                \"visible\": [\n",
    "                                    True, True,\n",
    "                                    True, True,\n",
    "                                    True, True,\n",
    "                                    True, True\n",
    "                                    ]\n",
    "                            },  # This 'view' show all three types of crime\n",
    "                            {\n",
    "                                \"title\": (\"Évolution de la proportion d'articles\"\n",
    "                                          \"publiés invoquant le thème du genre \"\n",
    "                                          \"(def extensive et statistique)\"),\n",
    "                            },\n",
    "                        ],\n",
    "                    ),\n",
    "                    dict(\n",
    "                        label=\"Toutes les revues\", \n",
    "                        method=\"update\",\n",
    "                        args=[\n",
    "                            {\n",
    "                                \"visible\": [\n",
    "                                    True, True,\n",
    "                                    False, False,\n",
    "                                    False, False,\n",
    "                                    False, False\n",
    "                                    ]\n",
    "                            },  # This 'view' show all three types of crime\n",
    "                            {\n",
    "                                \"title\": (\"Évolution de la proportion d'articles\"\n",
    "                                          \" publiés invoquant le thème du genre \"\n",
    "                                          \" (def extensive et statistique)\\n\"\n",
    "                                          \" Toutes les revues confondues\"),\n",
    "                            },\n",
    "                        ],\n",
    "                    ),\n",
    "                    dict(\n",
    "                        label=\"Revues spéciales\", \n",
    "                        method=\"update\",\n",
    "                        args=[\n",
    "                            {\n",
    "                                \"visible\": [\n",
    "                                    False, False,\n",
    "                                    True, True,\n",
    "                                    True, True,\n",
    "                                    True, True\n",
    "                                    ]\n",
    "                            },  # This 'view' show all three types of crime\n",
    "                            {\n",
    "                                \"title\": (\"Évolution de la proportion d'articles\"\n",
    "                                          \" publiés invoquant le thème du genre \"\n",
    "                                          \" (def extensive et statistique)\\n\"\n",
    "                                          \" ARSS, groupe TYPE et GENERALE\"),\n",
    "                            },\n",
    "                        ],\n",
    "                    ),\n",
    "                    dict(\n",
    "                        label=\"Définition extensive uniquement\", \n",
    "                        method=\"update\",\n",
    "                        args=[\n",
    "                            {\n",
    "                                \"visible\": [\n",
    "                                    True, False,\n",
    "                                    True, False,\n",
    "                                    True, False,\n",
    "                                    True, False\n",
    "                                    ]\n",
    "                            },  # This 'view' show all three types of crime\n",
    "                            {\n",
    "                                \"title\": (\"Évolution de la proportion d'articles\"\n",
    "                                          \" publiés invoquant le thème du genre \"\n",
    "                                          \" (def extensive)\"),\n",
    "                            },\n",
    "                        ],\n",
    "                    ),\n",
    "                    dict(\n",
    "                        label=\"Définition statistique uniquement\", \n",
    "                        method=\"update\",\n",
    "                        args=[\n",
    "                            {\n",
    "                                \"visible\": [\n",
    "                                    False, True,\n",
    "                                    False, True,\n",
    "                                    False, True,\n",
    "                                    False, True\n",
    "                                    ]\n",
    "                            },  # This 'view' show all three types of crime\n",
    "                            {\n",
    "                                \"title\": (\"Évolution de la proportion d'articles\"\n",
    "                                          \" publiés invoquant le thème du genre\"\n",
    "                                          \" (def statistique)\"),\n",
    "                            },\n",
    "                        ],\n",
    "                    ),\n",
    "                ]\n",
    "            )\n",
    "        )\n",
    "    ]\n",
    ")\n",
    "fig = fig.update_layout(dict(margin = dict(autoexpand = True)))\n",
    "# TODO check dimension des boutons "
   ]
  },
  {
   "cell_type": "code",
   "execution_count": 216,
   "metadata": {},
   "outputs": [],
   "source": [
    "# setting the dimentions\n",
    "fig = fig.update_layout(dict(height = 600, width = 1000))"
   ]
  },
  {
   "cell_type": "code",
   "execution_count": 217,
   "metadata": {},
   "outputs": [],
   "source": [
    "# Customise the legend\n",
    "fig = fig.update_layout(dict(\n",
    "    legend = dict(\n",
    "        bgcolor = 'rgba(230,230,230,0.6)',\n",
    "        title = dict(text = 'Données exposées', side = \"top center\",\n",
    "                     font = dict(color = \"red\", variant = \"all-small-caps\")),\n",
    "        itemdoubleclick = \"toggleothers\", itemclick = \"toggle\",\n",
    "        xanchor = \"left\", yanchor = \"bottom\",\n",
    "        x = 1.1, y = .5,\n",
    "        # width = 100, height = 100\n",
    "    )\n",
    "))"
   ]
  },
  {
   "cell_type": "code",
   "execution_count": 253,
   "metadata": {},
   "outputs": [],
   "source": [
    "# Fixing the hover information\n",
    "fig = fig.update_traces(hovertemplate ='%{y:.2f}\\\\%')\n",
    "# fig = fig.update_layout(hovermode=\"x\")\n",
    "fig = fig.update_layout(hovermode=\"x unified\")\n",
    "# NOTE might be worth reading\n",
    "# https://stackoverflow.com/questions/59057881/how-to-customize-hover-template-on-with-what-information-to-show\n",
    "\n",
    "# Customising hover\n",
    "fig = fig.update_layout(\n",
    "    hoverlabel = dict(\n",
    "        namelength = 0,\n",
    "        bgcolor = 'rgba(255,255,255,0.8)',\n",
    "        font = dict(\n",
    "            size = 12,\n",
    "            family = \"Arial\"),\n",
    "        grouptitlefont = dict(\n",
    "            color = \"red\")\n",
    "        # NOTE On peut créer des groupes | to any\n",
    "        # QUESTION \n",
    "\n",
    "))"
   ]
  },
  {
   "cell_type": "code",
   "execution_count": 254,
   "metadata": {},
   "outputs": [],
   "source": [
    "# change the names of the plots \n",
    "names_of_curves = [\n",
    "    'Toutes revues confondues (ext)',\n",
    "    'Toutes revues confondues (stat)',\n",
    "    'ARSS (ext)',\n",
    "    'ARSS (stat)',\n",
    "    'Revue TYPE (ext)',\n",
    "    'Revue TYPE (stat)',\n",
    "    'Revue GENERALE (ext)',\n",
    "    'Revue GENERALE (stat)',\n",
    "]\n",
    "\n",
    "for name, plot in zip(names_of_curves, fig.data):\n",
    "    plot.update(name = name)\n",
    "\n",
    "# change the colours of the plots \n",
    "colours_of_curves = [\n",
    "    '#3E50B6',\n",
    "    '#3E50B6',\n",
    "    '#29BD00',\n",
    "    '#29BD00',\n",
    "    '#F202D6',\n",
    "    '#F202D6',\n",
    "    '#F46E01',\n",
    "    '#F46E01',\n",
    "]\n",
    "\n",
    "for name,colour, plot in zip(names_of_curves,colours_of_curves, fig.data):\n",
    "    plot.update(name = name)\n",
    "    plot.update(line_color = colour)\n",
    "    plot.update(line_width = 2)"
   ]
  },
  {
   "cell_type": "markdown",
   "metadata": {},
   "source": [
    "# The plot"
   ]
  },
  {
   "cell_type": "code",
   "execution_count": 255,
   "metadata": {},
   "outputs": [
    {
     "data": {
      "application/vnd.plotly.v1+json": {
       "config": {
        "plotlyServerURL": "https://plot.ly"
       },
       "data": [
        {
         "hovertemplate": "%{y:.2f}\\%",
         "legendgroup": "Toutes , Définition extensive",
         "line": {
          "color": "#3E50B6",
          "dash": "solid",
          "width": 2
         },
         "marker": {
          "symbol": "circle"
         },
         "mode": "lines",
         "name": "Toutes revues confondues (ext)",
         "orientation": "v",
         "showlegend": true,
         "type": "scatter",
         "x": [
          2001,
          2002,
          2003,
          2004,
          2005,
          2006,
          2007,
          2008,
          2009,
          2010,
          2011,
          2012,
          2013,
          2014,
          2015,
          2016,
          2017,
          2018,
          2019,
          2020,
          2021,
          2022,
          2023
         ],
         "xaxis": "x",
         "y": [
          7.601184600197433,
          10.254163014899213,
          9.31899641577061,
          8.311518324607329,
          9.650259067357512,
          9.512893982808022,
          9.205867475973697,
          6.4500716674629714,
          10.21256931608133,
          8.185361628410567,
          8.379413015737985,
          11.15898319689789,
          8.82752376641014,
          8.702999577524292,
          9.347368421052632,
          9.67741935483871,
          10.932883073026593,
          8.860249697946033,
          10.437710437710438,
          10.715979137031768,
          11.10254433307633,
          12.056451612903226,
          13.463751438434981
         ],
         "yaxis": "y"
        },
        {
         "hovertemplate": "%{y:.2f}\\%",
         "legendgroup": "Toutes , Définition statistique",
         "line": {
          "color": "#3E50B6",
          "dash": "dot",
          "width": 2
         },
         "marker": {
          "symbol": "circle"
         },
         "mode": "lines",
         "name": "Toutes revues confondues (stat)",
         "orientation": "v",
         "showlegend": true,
         "type": "scatter",
         "x": [
          2001,
          2002,
          2003,
          2004,
          2005,
          2006,
          2007,
          2008,
          2009,
          2010,
          2011,
          2012,
          2013,
          2014,
          2015,
          2016,
          2017,
          2018,
          2019,
          2020,
          2021,
          2022,
          2023
         ],
         "xaxis": "x",
         "y": [
          0.19743336623889435,
          0.26292725679228746,
          0.7885304659498209,
          0.1963350785340314,
          0.38860103626943004,
          0.40114613180515757,
          0.25290844714213456,
          0.23889154323936934,
          0.36968576709796674,
          0.34647033347769596,
          0.340280731603573,
          0.7324429125376993,
          0.4526935264825713,
          0.38022813688212925,
          0.21052631578947367,
          0.282258064516129,
          0.33769523005487545,
          0.3221908981071285,
          0.42087542087542085,
          0.33191085822664773,
          0.30840400925212025,
          0.5241935483870969,
          0.23014959723820483
         ],
         "yaxis": "y"
        },
        {
         "hovertemplate": "%{y:.2f}\\%",
         "legendgroup": "ARSS, Définition extensive",
         "line": {
          "color": "#29BD00",
          "dash": "solid",
          "width": 2
         },
         "marker": {
          "symbol": "circle"
         },
         "mode": "lines",
         "name": "ARSS (ext)",
         "orientation": "v",
         "showlegend": true,
         "type": "scatter",
         "x": [
          2001,
          2002,
          2003,
          2004,
          2005,
          2006,
          2007,
          2008,
          2009,
          2010,
          2011,
          2012,
          2013,
          2014,
          2015,
          2016,
          2017,
          2018,
          2019,
          2020,
          2021,
          2022,
          2023
         ],
         "xaxis": "x",
         "y": [
          3.4482758620689653,
          7.142857142857142,
          0,
          7.6923076923076925,
          4.3478260869565215,
          0,
          15.384615384615385,
          5.88235294117647,
          3.4482758620689653,
          3.571428571428571,
          3.7037037037037033,
          8.695652173913043,
          14.285714285714285,
          4,
          10.714285714285714,
          24,
          21.73913043478261,
          28.57142857142857,
          0,
          6.25,
          16.666666666666664,
          12.5,
          20
         ],
         "yaxis": "y"
        },
        {
         "hovertemplate": "%{y:.2f}\\%",
         "legendgroup": "ARSS, Définition statistique",
         "line": {
          "color": "#29BD00",
          "dash": "dot",
          "width": 2
         },
         "marker": {
          "symbol": "circle"
         },
         "mode": "lines",
         "name": "ARSS (stat)",
         "orientation": "v",
         "showlegend": true,
         "type": "scatter",
         "x": [
          2001,
          2002,
          2003,
          2004,
          2005,
          2006,
          2007,
          2008,
          2009,
          2010,
          2011,
          2012,
          2013,
          2014,
          2015,
          2016,
          2017,
          2018,
          2019,
          2020,
          2021,
          2022,
          2023
         ],
         "xaxis": "x",
         "y": [
          0,
          0,
          0,
          0,
          0,
          0,
          0,
          0,
          0,
          0,
          0,
          0,
          0,
          0,
          0,
          0,
          0,
          0,
          0,
          0,
          0,
          0,
          0
         ],
         "yaxis": "y"
        },
        {
         "hovertemplate": "%{y:.2f}\\%",
         "legendgroup": "Revues TYPE, Définition extensive",
         "line": {
          "color": "#F202D6",
          "dash": "solid",
          "width": 2
         },
         "marker": {
          "symbol": "circle"
         },
         "mode": "lines",
         "name": "Revue TYPE (ext)",
         "orientation": "v",
         "showlegend": true,
         "type": "scatter",
         "x": [
          2001,
          2002,
          2003,
          2004,
          2005,
          2006,
          2007,
          2008,
          2009,
          2010,
          2011,
          2012,
          2013,
          2014,
          2015,
          2016,
          2017,
          2018,
          2019,
          2020,
          2021,
          2022,
          2023
         ],
         "xaxis": "x",
         "y": [
          5.1020408163265305,
          6.698564593301436,
          9.745762711864407,
          5.447470817120623,
          5.737704918032787,
          4.918032786885246,
          6.048387096774194,
          5.6000000000000005,
          6.859205776173286,
          8.992805755395683,
          9.540636042402827,
          9.057971014492754,
          15.019762845849801,
          5.033557046979865,
          9.05511811023622,
          12.318840579710146,
          13.127413127413126,
          12.863070539419086,
          11.522633744855968,
          9.424083769633508,
          8.906882591093117,
          11.162790697674419,
          20.18348623853211
         ],
         "yaxis": "y"
        },
        {
         "hovertemplate": "%{y:.2f}\\%",
         "legendgroup": "Revues TYPE, Définition statistique",
         "line": {
          "color": "#F202D6",
          "dash": "dot",
          "width": 2
         },
         "marker": {
          "symbol": "circle"
         },
         "mode": "lines",
         "name": "Revue TYPE (stat)",
         "orientation": "v",
         "showlegend": true,
         "type": "scatter",
         "x": [
          2001,
          2002,
          2003,
          2004,
          2005,
          2006,
          2007,
          2008,
          2009,
          2010,
          2011,
          2012,
          2013,
          2014,
          2015,
          2016,
          2017,
          2018,
          2019,
          2020,
          2021,
          2022,
          2023
         ],
         "xaxis": "x",
         "y": [
          0.5102040816326531,
          0.4784688995215311,
          2.9661016949152543,
          0.7782101167315175,
          1.639344262295082,
          1.639344262295082,
          0,
          1.2,
          0.36101083032490977,
          1.7985611510791366,
          1.0600706713780919,
          2.536231884057971,
          1.185770750988142,
          1.6778523489932886,
          0.7874015748031495,
          1.8115942028985508,
          1.1583011583011582,
          1.2448132780082988,
          2.880658436213992,
          1.5706806282722512,
          0.8097165991902834,
          2.7906976744186047,
          0.9174311926605505
         ],
         "yaxis": "y"
        },
        {
         "hovertemplate": "%{y:.2f}\\%",
         "legendgroup": "Revues GENERALES, Définition extensive",
         "line": {
          "color": "#F46E01",
          "dash": "solid",
          "width": 2
         },
         "marker": {
          "symbol": "circle"
         },
         "mode": "lines",
         "name": "Revue GENERALE (ext)",
         "orientation": "v",
         "showlegend": true,
         "type": "scatter",
         "x": [
          2001,
          2002,
          2003,
          2004,
          2005,
          2006,
          2007,
          2008,
          2009,
          2010,
          2011,
          2012,
          2013,
          2014,
          2015,
          2016,
          2017,
          2018,
          2019,
          2020,
          2021,
          2022,
          2023
         ],
         "xaxis": "x",
         "y": [
          4.819277108433735,
          3.7037037037037033,
          13.513513513513514,
          10.576923076923077,
          4.672897196261682,
          4.716981132075472,
          11.214953271028037,
          8.571428571428571,
          11.304347826086957,
          7.317073170731707,
          9.322033898305085,
          12.698412698412698,
          13.88888888888889,
          7.82608695652174,
          7.079646017699115,
          8.928571428571429,
          14.035087719298245,
          15.841584158415841,
          15.09433962264151,
          14.285714285714285,
          12.76595744680851,
          11.11111111111111,
          16.666666666666664
         ],
         "yaxis": "y"
        },
        {
         "hovertemplate": "%{y:.2f}\\%",
         "legendgroup": "Revues GENERALES, Définition statistique",
         "line": {
          "color": "#F46E01",
          "dash": "dot",
          "width": 2
         },
         "marker": {
          "symbol": "circle"
         },
         "mode": "lines",
         "name": "Revue GENERALE (stat)",
         "orientation": "v",
         "showlegend": true,
         "type": "scatter",
         "x": [
          2001,
          2002,
          2003,
          2004,
          2005,
          2006,
          2007,
          2008,
          2009,
          2010,
          2011,
          2012,
          2013,
          2014,
          2015,
          2016,
          2017,
          2018,
          2019,
          2020,
          2021,
          2022,
          2023
         ],
         "xaxis": "x",
         "y": [
          0,
          0,
          0.9009009009009009,
          0,
          0,
          0,
          0,
          0.9523809523809524,
          0,
          0,
          0,
          0,
          0,
          0,
          0,
          0.8928571428571428,
          0,
          0,
          0.9433962264150944,
          0,
          0,
          1.8518518518518516,
          1.8518518518518516
         ],
         "yaxis": "y"
        }
       ],
       "layout": {
        "height": 600,
        "hoverlabel": {
         "bgcolor": "rgba(255,255,255,0.8)",
         "font": {
          "family": "Arial",
          "size": 12
         },
         "grouptitlefont": {
          "color": "red"
         },
         "namelength": 0
        },
        "hovermode": "x unified",
        "legend": {
         "bgcolor": "rgba(230,230,230,0.6)",
         "itemclick": "toggle",
         "itemdoubleclick": "toggleothers",
         "title": {
          "font": {
           "color": "red",
           "variant": "all-small-caps"
          },
          "side": "top center",
          "text": "Données exposées"
         },
         "tracegroupgap": 0,
         "x": 1.1,
         "xanchor": "left",
         "y": 0.5,
         "yanchor": "bottom"
        },
        "margin": {
         "autoexpand": true,
         "t": 60
        },
        "paper_bgcolor": "rgb(255, 255, 255)",
        "plot_bgcolor": "rgb(255, 255, 255)",
        "template": {
         "data": {
          "bar": [
           {
            "error_x": {
             "color": "#2a3f5f"
            },
            "error_y": {
             "color": "#2a3f5f"
            },
            "marker": {
             "line": {
              "color": "#E5ECF6",
              "width": 0.5
             },
             "pattern": {
              "fillmode": "overlay",
              "size": 10,
              "solidity": 0.2
             }
            },
            "type": "bar"
           }
          ],
          "barpolar": [
           {
            "marker": {
             "line": {
              "color": "#E5ECF6",
              "width": 0.5
             },
             "pattern": {
              "fillmode": "overlay",
              "size": 10,
              "solidity": 0.2
             }
            },
            "type": "barpolar"
           }
          ],
          "carpet": [
           {
            "aaxis": {
             "endlinecolor": "#2a3f5f",
             "gridcolor": "white",
             "linecolor": "white",
             "minorgridcolor": "white",
             "startlinecolor": "#2a3f5f"
            },
            "baxis": {
             "endlinecolor": "#2a3f5f",
             "gridcolor": "white",
             "linecolor": "white",
             "minorgridcolor": "white",
             "startlinecolor": "#2a3f5f"
            },
            "type": "carpet"
           }
          ],
          "choropleth": [
           {
            "colorbar": {
             "outlinewidth": 0,
             "ticks": ""
            },
            "type": "choropleth"
           }
          ],
          "contour": [
           {
            "colorbar": {
             "outlinewidth": 0,
             "ticks": ""
            },
            "colorscale": [
             [
              0,
              "#0d0887"
             ],
             [
              0.1111111111111111,
              "#46039f"
             ],
             [
              0.2222222222222222,
              "#7201a8"
             ],
             [
              0.3333333333333333,
              "#9c179e"
             ],
             [
              0.4444444444444444,
              "#bd3786"
             ],
             [
              0.5555555555555556,
              "#d8576b"
             ],
             [
              0.6666666666666666,
              "#ed7953"
             ],
             [
              0.7777777777777778,
              "#fb9f3a"
             ],
             [
              0.8888888888888888,
              "#fdca26"
             ],
             [
              1,
              "#f0f921"
             ]
            ],
            "type": "contour"
           }
          ],
          "contourcarpet": [
           {
            "colorbar": {
             "outlinewidth": 0,
             "ticks": ""
            },
            "type": "contourcarpet"
           }
          ],
          "heatmap": [
           {
            "colorbar": {
             "outlinewidth": 0,
             "ticks": ""
            },
            "colorscale": [
             [
              0,
              "#0d0887"
             ],
             [
              0.1111111111111111,
              "#46039f"
             ],
             [
              0.2222222222222222,
              "#7201a8"
             ],
             [
              0.3333333333333333,
              "#9c179e"
             ],
             [
              0.4444444444444444,
              "#bd3786"
             ],
             [
              0.5555555555555556,
              "#d8576b"
             ],
             [
              0.6666666666666666,
              "#ed7953"
             ],
             [
              0.7777777777777778,
              "#fb9f3a"
             ],
             [
              0.8888888888888888,
              "#fdca26"
             ],
             [
              1,
              "#f0f921"
             ]
            ],
            "type": "heatmap"
           }
          ],
          "heatmapgl": [
           {
            "colorbar": {
             "outlinewidth": 0,
             "ticks": ""
            },
            "colorscale": [
             [
              0,
              "#0d0887"
             ],
             [
              0.1111111111111111,
              "#46039f"
             ],
             [
              0.2222222222222222,
              "#7201a8"
             ],
             [
              0.3333333333333333,
              "#9c179e"
             ],
             [
              0.4444444444444444,
              "#bd3786"
             ],
             [
              0.5555555555555556,
              "#d8576b"
             ],
             [
              0.6666666666666666,
              "#ed7953"
             ],
             [
              0.7777777777777778,
              "#fb9f3a"
             ],
             [
              0.8888888888888888,
              "#fdca26"
             ],
             [
              1,
              "#f0f921"
             ]
            ],
            "type": "heatmapgl"
           }
          ],
          "histogram": [
           {
            "marker": {
             "pattern": {
              "fillmode": "overlay",
              "size": 10,
              "solidity": 0.2
             }
            },
            "type": "histogram"
           }
          ],
          "histogram2d": [
           {
            "colorbar": {
             "outlinewidth": 0,
             "ticks": ""
            },
            "colorscale": [
             [
              0,
              "#0d0887"
             ],
             [
              0.1111111111111111,
              "#46039f"
             ],
             [
              0.2222222222222222,
              "#7201a8"
             ],
             [
              0.3333333333333333,
              "#9c179e"
             ],
             [
              0.4444444444444444,
              "#bd3786"
             ],
             [
              0.5555555555555556,
              "#d8576b"
             ],
             [
              0.6666666666666666,
              "#ed7953"
             ],
             [
              0.7777777777777778,
              "#fb9f3a"
             ],
             [
              0.8888888888888888,
              "#fdca26"
             ],
             [
              1,
              "#f0f921"
             ]
            ],
            "type": "histogram2d"
           }
          ],
          "histogram2dcontour": [
           {
            "colorbar": {
             "outlinewidth": 0,
             "ticks": ""
            },
            "colorscale": [
             [
              0,
              "#0d0887"
             ],
             [
              0.1111111111111111,
              "#46039f"
             ],
             [
              0.2222222222222222,
              "#7201a8"
             ],
             [
              0.3333333333333333,
              "#9c179e"
             ],
             [
              0.4444444444444444,
              "#bd3786"
             ],
             [
              0.5555555555555556,
              "#d8576b"
             ],
             [
              0.6666666666666666,
              "#ed7953"
             ],
             [
              0.7777777777777778,
              "#fb9f3a"
             ],
             [
              0.8888888888888888,
              "#fdca26"
             ],
             [
              1,
              "#f0f921"
             ]
            ],
            "type": "histogram2dcontour"
           }
          ],
          "mesh3d": [
           {
            "colorbar": {
             "outlinewidth": 0,
             "ticks": ""
            },
            "type": "mesh3d"
           }
          ],
          "parcoords": [
           {
            "line": {
             "colorbar": {
              "outlinewidth": 0,
              "ticks": ""
             }
            },
            "type": "parcoords"
           }
          ],
          "pie": [
           {
            "automargin": true,
            "type": "pie"
           }
          ],
          "scatter": [
           {
            "fillpattern": {
             "fillmode": "overlay",
             "size": 10,
             "solidity": 0.2
            },
            "type": "scatter"
           }
          ],
          "scatter3d": [
           {
            "line": {
             "colorbar": {
              "outlinewidth": 0,
              "ticks": ""
             }
            },
            "marker": {
             "colorbar": {
              "outlinewidth": 0,
              "ticks": ""
             }
            },
            "type": "scatter3d"
           }
          ],
          "scattercarpet": [
           {
            "marker": {
             "colorbar": {
              "outlinewidth": 0,
              "ticks": ""
             }
            },
            "type": "scattercarpet"
           }
          ],
          "scattergeo": [
           {
            "marker": {
             "colorbar": {
              "outlinewidth": 0,
              "ticks": ""
             }
            },
            "type": "scattergeo"
           }
          ],
          "scattergl": [
           {
            "marker": {
             "colorbar": {
              "outlinewidth": 0,
              "ticks": ""
             }
            },
            "type": "scattergl"
           }
          ],
          "scattermapbox": [
           {
            "marker": {
             "colorbar": {
              "outlinewidth": 0,
              "ticks": ""
             }
            },
            "type": "scattermapbox"
           }
          ],
          "scatterpolar": [
           {
            "marker": {
             "colorbar": {
              "outlinewidth": 0,
              "ticks": ""
             }
            },
            "type": "scatterpolar"
           }
          ],
          "scatterpolargl": [
           {
            "marker": {
             "colorbar": {
              "outlinewidth": 0,
              "ticks": ""
             }
            },
            "type": "scatterpolargl"
           }
          ],
          "scatterternary": [
           {
            "marker": {
             "colorbar": {
              "outlinewidth": 0,
              "ticks": ""
             }
            },
            "type": "scatterternary"
           }
          ],
          "surface": [
           {
            "colorbar": {
             "outlinewidth": 0,
             "ticks": ""
            },
            "colorscale": [
             [
              0,
              "#0d0887"
             ],
             [
              0.1111111111111111,
              "#46039f"
             ],
             [
              0.2222222222222222,
              "#7201a8"
             ],
             [
              0.3333333333333333,
              "#9c179e"
             ],
             [
              0.4444444444444444,
              "#bd3786"
             ],
             [
              0.5555555555555556,
              "#d8576b"
             ],
             [
              0.6666666666666666,
              "#ed7953"
             ],
             [
              0.7777777777777778,
              "#fb9f3a"
             ],
             [
              0.8888888888888888,
              "#fdca26"
             ],
             [
              1,
              "#f0f921"
             ]
            ],
            "type": "surface"
           }
          ],
          "table": [
           {
            "cells": {
             "fill": {
              "color": "#EBF0F8"
             },
             "line": {
              "color": "white"
             }
            },
            "header": {
             "fill": {
              "color": "#C8D4E3"
             },
             "line": {
              "color": "white"
             }
            },
            "type": "table"
           }
          ]
         },
         "layout": {
          "annotationdefaults": {
           "arrowcolor": "#2a3f5f",
           "arrowhead": 0,
           "arrowwidth": 1
          },
          "autotypenumbers": "strict",
          "coloraxis": {
           "colorbar": {
            "outlinewidth": 0,
            "ticks": ""
           }
          },
          "colorscale": {
           "diverging": [
            [
             0,
             "#8e0152"
            ],
            [
             0.1,
             "#c51b7d"
            ],
            [
             0.2,
             "#de77ae"
            ],
            [
             0.3,
             "#f1b6da"
            ],
            [
             0.4,
             "#fde0ef"
            ],
            [
             0.5,
             "#f7f7f7"
            ],
            [
             0.6,
             "#e6f5d0"
            ],
            [
             0.7,
             "#b8e186"
            ],
            [
             0.8,
             "#7fbc41"
            ],
            [
             0.9,
             "#4d9221"
            ],
            [
             1,
             "#276419"
            ]
           ],
           "sequential": [
            [
             0,
             "#0d0887"
            ],
            [
             0.1111111111111111,
             "#46039f"
            ],
            [
             0.2222222222222222,
             "#7201a8"
            ],
            [
             0.3333333333333333,
             "#9c179e"
            ],
            [
             0.4444444444444444,
             "#bd3786"
            ],
            [
             0.5555555555555556,
             "#d8576b"
            ],
            [
             0.6666666666666666,
             "#ed7953"
            ],
            [
             0.7777777777777778,
             "#fb9f3a"
            ],
            [
             0.8888888888888888,
             "#fdca26"
            ],
            [
             1,
             "#f0f921"
            ]
           ],
           "sequentialminus": [
            [
             0,
             "#0d0887"
            ],
            [
             0.1111111111111111,
             "#46039f"
            ],
            [
             0.2222222222222222,
             "#7201a8"
            ],
            [
             0.3333333333333333,
             "#9c179e"
            ],
            [
             0.4444444444444444,
             "#bd3786"
            ],
            [
             0.5555555555555556,
             "#d8576b"
            ],
            [
             0.6666666666666666,
             "#ed7953"
            ],
            [
             0.7777777777777778,
             "#fb9f3a"
            ],
            [
             0.8888888888888888,
             "#fdca26"
            ],
            [
             1,
             "#f0f921"
            ]
           ]
          },
          "colorway": [
           "#636efa",
           "#EF553B",
           "#00cc96",
           "#ab63fa",
           "#FFA15A",
           "#19d3f3",
           "#FF6692",
           "#B6E880",
           "#FF97FF",
           "#FECB52"
          ],
          "font": {
           "color": "#2a3f5f"
          },
          "geo": {
           "bgcolor": "white",
           "lakecolor": "white",
           "landcolor": "#E5ECF6",
           "showlakes": true,
           "showland": true,
           "subunitcolor": "white"
          },
          "hoverlabel": {
           "align": "left"
          },
          "hovermode": "closest",
          "mapbox": {
           "style": "light"
          },
          "paper_bgcolor": "white",
          "plot_bgcolor": "#E5ECF6",
          "polar": {
           "angularaxis": {
            "gridcolor": "white",
            "linecolor": "white",
            "ticks": ""
           },
           "bgcolor": "#E5ECF6",
           "radialaxis": {
            "gridcolor": "white",
            "linecolor": "white",
            "ticks": ""
           }
          },
          "scene": {
           "xaxis": {
            "backgroundcolor": "#E5ECF6",
            "gridcolor": "white",
            "gridwidth": 2,
            "linecolor": "white",
            "showbackground": true,
            "ticks": "",
            "zerolinecolor": "white"
           },
           "yaxis": {
            "backgroundcolor": "#E5ECF6",
            "gridcolor": "white",
            "gridwidth": 2,
            "linecolor": "white",
            "showbackground": true,
            "ticks": "",
            "zerolinecolor": "white"
           },
           "zaxis": {
            "backgroundcolor": "#E5ECF6",
            "gridcolor": "white",
            "gridwidth": 2,
            "linecolor": "white",
            "showbackground": true,
            "ticks": "",
            "zerolinecolor": "white"
           }
          },
          "shapedefaults": {
           "line": {
            "color": "#2a3f5f"
           }
          },
          "ternary": {
           "aaxis": {
            "gridcolor": "white",
            "linecolor": "white",
            "ticks": ""
           },
           "baxis": {
            "gridcolor": "white",
            "linecolor": "white",
            "ticks": ""
           },
           "bgcolor": "#E5ECF6",
           "caxis": {
            "gridcolor": "white",
            "linecolor": "white",
            "ticks": ""
           }
          },
          "title": {
           "x": 0.05
          },
          "xaxis": {
           "automargin": true,
           "gridcolor": "white",
           "linecolor": "white",
           "ticks": "",
           "title": {
            "standoff": 15
           },
           "zerolinecolor": "white",
           "zerolinewidth": 2
          },
          "yaxis": {
           "automargin": true,
           "gridcolor": "white",
           "linecolor": "white",
           "ticks": "",
           "title": {
            "standoff": 15
           },
           "zerolinecolor": "white",
           "zerolinewidth": 2
          }
         }
        },
        "title": {
         "automargin": true,
         "pad": {
          "b": 10,
          "l": 10,
          "r": 10,
          "t": 10
         },
         "text": "Évolution de la proportion d'articles publiés invoquant le thème du genre (def extensive et statistique)"
        },
        "updatemenus": [
         {
          "buttons": [
           {
            "args": [
             {
              "visible": [
               true,
               true,
               true,
               true,
               true,
               true,
               true,
               true
              ]
             },
             {
              "title": "Évolution de la proportion d'articlespubliés invoquant le thème du genre (def extensive et statistique)"
             }
            ],
            "label": "Toutes les courbes",
            "method": "update"
           },
           {
            "args": [
             {
              "visible": [
               true,
               true,
               false,
               false,
               false,
               false,
               false,
               false
              ]
             },
             {
              "title": "Évolution de la proportion d'articles publiés invoquant le thème du genre  (def extensive et statistique)\n Toutes les revues confondues"
             }
            ],
            "label": "Toutes les revues",
            "method": "update"
           },
           {
            "args": [
             {
              "visible": [
               false,
               false,
               true,
               true,
               true,
               true,
               true,
               true
              ]
             },
             {
              "title": "Évolution de la proportion d'articles publiés invoquant le thème du genre  (def extensive et statistique)\n ARSS, groupe TYPE et GENERALE"
             }
            ],
            "label": "Revues spéciales",
            "method": "update"
           },
           {
            "args": [
             {
              "visible": [
               true,
               false,
               true,
               false,
               true,
               false,
               true,
               false
              ]
             },
             {
              "title": "Évolution de la proportion d'articles publiés invoquant le thème du genre  (def extensive)"
             }
            ],
            "label": "Définition extensive uniquement",
            "method": "update"
           },
           {
            "args": [
             {
              "visible": [
               false,
               true,
               false,
               true,
               false,
               true,
               false,
               true
              ]
             },
             {
              "title": "Évolution de la proportion d'articles publiés invoquant le thème du genre (def statistique)"
             }
            ],
            "label": "Définition statistique uniquement",
            "method": "update"
           }
          ],
          "direction": "left",
          "pad": {
           "b": 10,
           "l": 10,
           "r": 10,
           "t": 10
          },
          "showactive": true,
          "type": "buttons",
          "x": 0.05,
          "xanchor": "left",
          "y": 1.1,
          "yanchor": "top"
         }
        ],
        "width": 1000,
        "xaxis": {
         "anchor": "y",
         "domain": [
          0,
          1
         ],
         "linecolor": "rgb(20,20,20)",
         "linewidth": 2,
         "showgrid": false,
         "showline": true,
         "showticklabels": true,
         "tickangle": 0,
         "tickfont": {
          "color": "rgb(80,80,80)",
          "family": "Arial",
          "size": 12
         },
         "ticks": "outside",
         "tickvals": [
          2004,
          2008,
          2012,
          2016,
          2020
         ],
         "title": {
          "text": "Année de publication"
         }
        },
        "yaxis": {
         "anchor": "x",
         "autorange": false,
         "domain": [
          0,
          1
         ],
         "gridcolor": "rgb(80,80,80)",
         "gridwidth": 1,
         "range": [
          -0.001,
          30
         ],
         "showgrid": true,
         "showline": false,
         "showticklabels": true,
         "tickangle": 0,
         "tickfont": {
          "color": "rgb(80,80,80)",
          "family": "Arial",
          "size": 12
         },
         "ticks": "outside",
         "ticksuffix": "%",
         "tickvals": [
          0,
          10,
          20
         ],
         "tickwidth": 1,
         "title": {
          "text": "Part des articles qui invoquent le concept du genre"
         }
        }
       }
      }
     },
     "metadata": {},
     "output_type": "display_data"
    }
   ],
   "source": [
    "fig.show()#{'responsive' : False})"
   ]
  },
  {
   "cell_type": "code",
   "execution_count": 223,
   "metadata": {},
   "outputs": [
    {
     "ename": "PlotlyKeyError",
     "evalue": "Invalid property specified for object of type plotly.graph_objs.Scatter: 'onclick'\n\nDid you mean \"line\"?\n\n    Valid properties:\n        alignmentgroup\n            Set several traces linked to the same position axis or\n            matching axes to the same alignmentgroup. This controls\n            whether bars compute their positional range dependently\n            or independently.\n        cliponaxis\n            Determines whether or not markers and text nodes are\n            clipped about the subplot axes. To show markers and\n            text nodes above axis lines and tick labels, make sure\n            to set `xaxis.layer` and `yaxis.layer` to *below\n            traces*.\n        connectgaps\n            Determines whether or not gaps (i.e. {nan} or missing\n            values) in the provided data arrays are connected.\n        customdata\n            Assigns extra data each datum. This may be useful when\n            listening to hover, click and selection events. Note\n            that, \"scatter\" traces also appends customdata items in\n            the markers DOM elements\n        customdatasrc\n            Sets the source reference on Chart Studio Cloud for\n            `customdata`.\n        dx\n            Sets the x coordinate step. See `x0` for more info.\n        dy\n            Sets the y coordinate step. See `y0` for more info.\n        error_x\n            :class:`plotly.graph_objects.scatter.ErrorX` instance\n            or dict with compatible properties\n        error_y\n            :class:`plotly.graph_objects.scatter.ErrorY` instance\n            or dict with compatible properties\n        fill\n            Sets the area to fill with a solid color. Defaults to\n            \"none\" unless this trace is stacked, then it gets\n            \"tonexty\" (\"tonextx\") if `orientation` is \"v\" (\"h\") Use\n            with `fillcolor` if not \"none\". \"tozerox\" and \"tozeroy\"\n            fill to x=0 and y=0 respectively. \"tonextx\" and\n            \"tonexty\" fill between the endpoints of this trace and\n            the endpoints of the trace before it, connecting those\n            endpoints with straight lines (to make a stacked area\n            graph); if there is no trace before it, they behave\n            like \"tozerox\" and \"tozeroy\". \"toself\" connects the\n            endpoints of the trace (or each segment of the trace if\n            it has gaps) into a closed shape. \"tonext\" fills the\n            space between two traces if one completely encloses the\n            other (eg consecutive contour lines), and behaves like\n            \"toself\" if there is no trace before it. \"tonext\"\n            should not be used if one trace does not enclose the\n            other. Traces in a `stackgroup` will only fill to (or\n            be filled to) other traces in the same group. With\n            multiple `stackgroup`s or some traces stacked and some\n            not, if fill-linked traces are not already consecutive,\n            the later ones will be pushed down in the drawing\n            order.\n        fillcolor\n            Sets the fill color. Defaults to a half-transparent\n            variant of the line color, marker color, or marker line\n            color, whichever is available. If fillgradient is\n            specified, fillcolor is ignored except for setting the\n            background color of the hover label, if any.\n        fillgradient\n            Sets a fill gradient. If not specified, the fillcolor\n            is used instead.\n        fillpattern\n            Sets the pattern within the marker.\n        groupnorm\n            Only relevant when `stackgroup` is used, and only the\n            first `groupnorm` found in the `stackgroup` will be\n            used - including if `visible` is \"legendonly\" but not\n            if it is `false`. Sets the normalization for the sum of\n            this `stackgroup`. With \"fraction\", the value of each\n            trace at each location is divided by the sum of all\n            trace values at that location. \"percent\" is the same\n            but multiplied by 100 to show percentages. If there are\n            multiple subplots, or multiple `stackgroup`s on one\n            subplot, each will be normalized within its own set.\n        hoverinfo\n            Determines which trace information appear on hover. If\n            `none` or `skip` are set, no information is displayed\n            upon hovering. But, if `none` is set, click and hover\n            events are still fired.\n        hoverinfosrc\n            Sets the source reference on Chart Studio Cloud for\n            `hoverinfo`.\n        hoverlabel\n            :class:`plotly.graph_objects.scatter.Hoverlabel`\n            instance or dict with compatible properties\n        hoveron\n            Do the hover effects highlight individual points\n            (markers or line points) or do they highlight filled\n            regions? If the fill is \"toself\" or \"tonext\" and there\n            are no markers or text, then the default is \"fills\",\n            otherwise it is \"points\".\n        hovertemplate\n            Template string used for rendering the information that\n            appear on hover box. Note that this will override\n            `hoverinfo`. Variables are inserted using %{variable},\n            for example \"y: %{y}\" as well as %{xother}, {%_xother},\n            {%_xother_}, {%xother_}. When showing info for several\n            points, \"xother\" will be added to those with different\n            x positions from the first point. An underscore before\n            or after \"(x|y)other\" will add a space on that side,\n            only when this field is shown. Numbers are formatted\n            using d3-format's syntax %{variable:d3-format}, for\n            example \"Price: %{y:$.2f}\".\n            https://github.com/d3/d3-format/tree/v1.4.5#d3-format\n            for details on the formatting syntax. Dates are\n            formatted using d3-time-format's syntax\n            %{variable|d3-time-format}, for example \"Day:\n            %{2019-01-01|%A}\". https://github.com/d3/d3-time-\n            format/tree/v2.2.3#locale_format for details on the\n            date formatting syntax. The variables available in\n            `hovertemplate` are the ones emitted as event data\n            described at this link\n            https://plotly.com/javascript/plotlyjs-events/#event-\n            data. Additionally, every attributes that can be\n            specified per-point (the ones that are `arrayOk: true`)\n            are available.  Anything contained in tag `<extra>` is\n            displayed in the secondary box, for example\n            \"<extra>{fullData.name}</extra>\". To hide the secondary\n            box completely, use an empty tag `<extra></extra>`.\n        hovertemplatesrc\n            Sets the source reference on Chart Studio Cloud for\n            `hovertemplate`.\n        hovertext\n            Sets hover text elements associated with each (x,y)\n            pair. If a single string, the same string appears over\n            all the data points. If an array of string, the items\n            are mapped in order to the this trace's (x,y)\n            coordinates. To be seen, trace `hoverinfo` must contain\n            a \"text\" flag.\n        hovertextsrc\n            Sets the source reference on Chart Studio Cloud for\n            `hovertext`.\n        ids\n            Assigns id labels to each datum. These ids for object\n            constancy of data points during animation. Should be an\n            array of strings, not numbers or any other type.\n        idssrc\n            Sets the source reference on Chart Studio Cloud for\n            `ids`.\n        legend\n            Sets the reference to a legend to show this trace in.\n            References to these legends are \"legend\", \"legend2\",\n            \"legend3\", etc. Settings for these legends are set in\n            the layout, under `layout.legend`, `layout.legend2`,\n            etc.\n        legendgroup\n            Sets the legend group for this trace. Traces and shapes\n            part of the same legend group hide/show at the same\n            time when toggling legend items.\n        legendgrouptitle\n            :class:`plotly.graph_objects.scatter.Legendgrouptitle`\n            instance or dict with compatible properties\n        legendrank\n            Sets the legend rank for this trace. Items and groups\n            with smaller ranks are presented on top/left side while\n            with \"reversed\" `legend.traceorder` they are on\n            bottom/right side. The default legendrank is 1000, so\n            that you can use ranks less than 1000 to place certain\n            items before all unranked items, and ranks greater than\n            1000 to go after all unranked items. When having\n            unranked or equal rank items shapes would be displayed\n            after traces i.e. according to their order in data and\n            layout.\n        legendwidth\n            Sets the width (in px or fraction) of the legend for\n            this trace.\n        line\n            :class:`plotly.graph_objects.scatter.Line` instance or\n            dict with compatible properties\n        marker\n            :class:`plotly.graph_objects.scatter.Marker` instance\n            or dict with compatible properties\n        meta\n            Assigns extra meta information associated with this\n            trace that can be used in various text attributes.\n            Attributes such as trace `name`, graph, axis and\n            colorbar `title.text`, annotation `text`\n            `rangeselector`, `updatemenues` and `sliders` `label`\n            text all support `meta`. To access the trace `meta`\n            values in an attribute in the same trace, simply use\n            `%{meta[i]}` where `i` is the index or key of the\n            `meta` item in question. To access trace `meta` in\n            layout attributes, use `%{data[n[.meta[i]}` where `i`\n            is the index or key of the `meta` and `n` is the trace\n            index.\n        metasrc\n            Sets the source reference on Chart Studio Cloud for\n            `meta`.\n        mode\n            Determines the drawing mode for this scatter trace. If\n            the provided `mode` includes \"text\" then the `text`\n            elements appear at the coordinates. Otherwise, the\n            `text` elements appear on hover. If there are less than\n            20 points and the trace is not stacked then the default\n            is \"lines+markers\". Otherwise, \"lines\".\n        name\n            Sets the trace name. The trace name appears as the\n            legend item and on hover.\n        offsetgroup\n            Set several traces linked to the same position axis or\n            matching axes to the same offsetgroup where bars of the\n            same position coordinate will line up.\n        opacity\n            Sets the opacity of the trace.\n        orientation\n            Only relevant in the following cases: 1. when\n            `scattermode` is set to \"group\". 2. when `stackgroup`\n            is used, and only the first `orientation` found in the\n            `stackgroup` will be used - including if `visible` is\n            \"legendonly\" but not if it is `false`. Sets the\n            stacking direction. With \"v\" (\"h\"), the y (x) values of\n            subsequent traces are added. Also affects the default\n            value of `fill`.\n        selected\n            :class:`plotly.graph_objects.scatter.Selected` instance\n            or dict with compatible properties\n        selectedpoints\n            Array containing integer indices of selected points.\n            Has an effect only for traces that support selections.\n            Note that an empty array means an empty selection where\n            the `unselected` are turned on for all points, whereas,\n            any other non-array values means no selection all where\n            the `selected` and `unselected` styles have no effect.\n        showlegend\n            Determines whether or not an item corresponding to this\n            trace is shown in the legend.\n        stackgaps\n            Only relevant when `stackgroup` is used, and only the\n            first `stackgaps` found in the `stackgroup` will be\n            used - including if `visible` is \"legendonly\" but not\n            if it is `false`. Determines how we handle locations at\n            which other traces in this group have data but this one\n            does not. With *infer zero* we insert a zero at these\n            locations. With \"interpolate\" we linearly interpolate\n            between existing values, and extrapolate a constant\n            beyond the existing values.\n        stackgroup\n            Set several scatter traces (on the same subplot) to the\n            same stackgroup in order to add their y values (or\n            their x values if `orientation` is \"h\"). If blank or\n            omitted this trace will not be stacked. Stacking also\n            turns `fill` on by default, using \"tonexty\" (\"tonextx\")\n            if `orientation` is \"h\" (\"v\") and sets the default\n            `mode` to \"lines\" irrespective of point count. You can\n            only stack on a numeric (linear or log) axis. Traces in\n            a `stackgroup` will only fill to (or be filled to)\n            other traces in the same group. With multiple\n            `stackgroup`s or some traces stacked and some not, if\n            fill-linked traces are not already consecutive, the\n            later ones will be pushed down in the drawing order.\n        stream\n            :class:`plotly.graph_objects.scatter.Stream` instance\n            or dict with compatible properties\n        text\n            Sets text elements associated with each (x,y) pair. If\n            a single string, the same string appears over all the\n            data points. If an array of string, the items are\n            mapped in order to the this trace's (x,y) coordinates.\n            If trace `hoverinfo` contains a \"text\" flag and\n            \"hovertext\" is not set, these elements will be seen in\n            the hover labels.\n        textfont\n            Sets the text font.\n        textposition\n            Sets the positions of the `text` elements with respects\n            to the (x,y) coordinates.\n        textpositionsrc\n            Sets the source reference on Chart Studio Cloud for\n            `textposition`.\n        textsrc\n            Sets the source reference on Chart Studio Cloud for\n            `text`.\n        texttemplate\n            Template string used for rendering the information text\n            that appear on points. Note that this will override\n            `textinfo`. Variables are inserted using %{variable},\n            for example \"y: %{y}\". Numbers are formatted using\n            d3-format's syntax %{variable:d3-format}, for example\n            \"Price: %{y:$.2f}\".\n            https://github.com/d3/d3-format/tree/v1.4.5#d3-format\n            for details on the formatting syntax. Dates are\n            formatted using d3-time-format's syntax\n            %{variable|d3-time-format}, for example \"Day:\n            %{2019-01-01|%A}\". https://github.com/d3/d3-time-\n            format/tree/v2.2.3#locale_format for details on the\n            date formatting syntax. Every attributes that can be\n            specified per-point (the ones that are `arrayOk: true`)\n            are available.\n        texttemplatesrc\n            Sets the source reference on Chart Studio Cloud for\n            `texttemplate`.\n        uid\n            Assign an id to this trace, Use this to provide object\n            constancy between traces during animations and\n            transitions.\n        uirevision\n            Controls persistence of some user-driven changes to the\n            trace: `constraintrange` in `parcoords` traces, as well\n            as some `editable: true` modifications such as `name`\n            and `colorbar.title`. Defaults to `layout.uirevision`.\n            Note that other user-driven trace attribute changes are\n            controlled by `layout` attributes: `trace.visible` is\n            controlled by `layout.legend.uirevision`,\n            `selectedpoints` is controlled by\n            `layout.selectionrevision`, and `colorbar.(x|y)`\n            (accessible with `config: {editable: true}`) is\n            controlled by `layout.editrevision`. Trace changes are\n            tracked by `uid`, which only falls back on trace index\n            if no `uid` is provided. So if your app can add/remove\n            traces before the end of the `data` array, such that\n            the same trace has a different index, you can still\n            preserve user-driven changes if you give each trace a\n            `uid` that stays with it as it moves.\n        unselected\n            :class:`plotly.graph_objects.scatter.Unselected`\n            instance or dict with compatible properties\n        visible\n            Determines whether or not this trace is visible. If\n            \"legendonly\", the trace is not drawn, but can appear as\n            a legend item (provided that the legend itself is\n            visible).\n        x\n            Sets the x coordinates.\n        x0\n            Alternate to `x`. Builds a linear space of x\n            coordinates. Use with `dx` where `x0` is the starting\n            coordinate and `dx` the step.\n        xaxis\n            Sets a reference between this trace's x coordinates and\n            a 2D cartesian x axis. If \"x\" (the default value), the\n            x coordinates refer to `layout.xaxis`. If \"x2\", the x\n            coordinates refer to `layout.xaxis2`, and so on.\n        xcalendar\n            Sets the calendar system to use with `x` date data.\n        xhoverformat\n            Sets the hover text formatting rulefor `x`  using d3\n            formatting mini-languages which are very similar to\n            those in Python. For numbers, see:\n            https://github.com/d3/d3-format/tree/v1.4.5#d3-format.\n            And for dates see: https://github.com/d3/d3-time-\n            format/tree/v2.2.3#locale_format. We add two items to\n            d3's date formatter: \"%h\" for half of the year as a\n            decimal number as well as \"%{n}f\" for fractional\n            seconds with n digits. For example, *2016-10-13\n            09:15:23.456* with tickformat \"%H~%M~%S.%2f\" would\n            display *09~15~23.46*By default the values are\n            formatted using `xaxis.hoverformat`.\n        xperiod\n            Only relevant when the axis `type` is \"date\". Sets the\n            period positioning in milliseconds or \"M<n>\" on the x\n            axis. Special values in the form of \"M<n>\" could be\n            used to declare the number of months. In this case `n`\n            must be a positive integer.\n        xperiod0\n            Only relevant when the axis `type` is \"date\". Sets the\n            base for period positioning in milliseconds or date\n            string on the x0 axis. When `x0period` is round number\n            of weeks, the `x0period0` by default would be on a\n            Sunday i.e. 2000-01-02, otherwise it would be at\n            2000-01-01.\n        xperiodalignment\n            Only relevant when the axis `type` is \"date\". Sets the\n            alignment of data points on the x axis.\n        xsrc\n            Sets the source reference on Chart Studio Cloud for\n            `x`.\n        y\n            Sets the y coordinates.\n        y0\n            Alternate to `y`. Builds a linear space of y\n            coordinates. Use with `dy` where `y0` is the starting\n            coordinate and `dy` the step.\n        yaxis\n            Sets a reference between this trace's y coordinates and\n            a 2D cartesian y axis. If \"y\" (the default value), the\n            y coordinates refer to `layout.yaxis`. If \"y2\", the y\n            coordinates refer to `layout.yaxis2`, and so on.\n        ycalendar\n            Sets the calendar system to use with `y` date data.\n        yhoverformat\n            Sets the hover text formatting rulefor `y`  using d3\n            formatting mini-languages which are very similar to\n            those in Python. For numbers, see:\n            https://github.com/d3/d3-format/tree/v1.4.5#d3-format.\n            And for dates see: https://github.com/d3/d3-time-\n            format/tree/v2.2.3#locale_format. We add two items to\n            d3's date formatter: \"%h\" for half of the year as a\n            decimal number as well as \"%{n}f\" for fractional\n            seconds with n digits. For example, *2016-10-13\n            09:15:23.456* with tickformat \"%H~%M~%S.%2f\" would\n            display *09~15~23.46*By default the values are\n            formatted using `yaxis.hoverformat`.\n        yperiod\n            Only relevant when the axis `type` is \"date\". Sets the\n            period positioning in milliseconds or \"M<n>\" on the y\n            axis. Special values in the form of \"M<n>\" could be\n            used to declare the number of months. In this case `n`\n            must be a positive integer.\n        yperiod0\n            Only relevant when the axis `type` is \"date\". Sets the\n            base for period positioning in milliseconds or date\n            string on the y0 axis. When `y0period` is round number\n            of weeks, the `y0period0` by default would be on a\n            Sunday i.e. 2000-01-02, otherwise it would be at\n            2000-01-01.\n        yperiodalignment\n            Only relevant when the axis `type` is \"date\". Sets the\n            alignment of data points on the y axis.\n        ysrc\n            Sets the source reference on Chart Studio Cloud for\n            `y`.\n        zorder\n            Sets the layer on which this trace is displayed,\n            relative to other SVG traces on the same subplot. SVG\n            traces with higher `zorder` appear in front of those\n            with lower `zorder`.\n        \nDid you mean \"line\"?\n",
     "output_type": "error",
     "traceback": [
      "\u001b[0;31m---------------------------------------------------------------------------\u001b[0m",
      "\u001b[0;31mPlotlyKeyError\u001b[0m                            Traceback (most recent call last)",
      "\u001b[1;32m/Users/axelmorin/Library/Mobile Documents/com~apple~CloudDocs/Axel_tout/Professionnel/Stages/TFE/CREST/workdirectory/Genre/dataVis/crest-first/scripts/notebooks/plottingWithNoFunction_Figure2.ipynb Cell 32\u001b[0m line \u001b[0;36m1\n\u001b[0;32m----> <a href='vscode-notebook-cell:/Users/axelmorin/Library/Mobile%20Documents/com~apple~CloudDocs/Axel_tout/Professionnel/Stages/TFE/CREST/workdirectory/Genre/dataVis/crest-first/scripts/notebooks/plottingWithNoFunction_Figure2.ipynb#X60sZmlsZQ%3D%3D?line=0'>1</a>\u001b[0m fig\u001b[39m.\u001b[39;49mdata[\u001b[39m0\u001b[39;49m][\u001b[39m'\u001b[39;49m\u001b[39monclick\u001b[39;49m\u001b[39m'\u001b[39;49m]\n",
      "File \u001b[0;32m/opt/miniconda3/envs/CREST/lib/python3.12/site-packages/plotly/basedatatypes.py:4713\u001b[0m, in \u001b[0;36mBasePlotlyType.__getitem__\u001b[0;34m(self, prop)\u001b[0m\n\u001b[1;32m   4711\u001b[0m prop \u001b[39m=\u001b[39m prop[\u001b[39m0\u001b[39m]\n\u001b[1;32m   4712\u001b[0m \u001b[39mif\u001b[39;00m prop \u001b[39mnot\u001b[39;00m \u001b[39min\u001b[39;00m \u001b[39mself\u001b[39m\u001b[39m.\u001b[39m_valid_props:\n\u001b[0;32m-> 4713\u001b[0m     \u001b[39mself\u001b[39;49m\u001b[39m.\u001b[39;49m_raise_on_invalid_property_error(_error_to_raise\u001b[39m=\u001b[39;49mPlotlyKeyError)(\n\u001b[1;32m   4714\u001b[0m         prop\n\u001b[1;32m   4715\u001b[0m     )\n\u001b[1;32m   4717\u001b[0m validator \u001b[39m=\u001b[39m \u001b[39mself\u001b[39m\u001b[39m.\u001b[39m_get_validator(prop)\n\u001b[1;32m   4719\u001b[0m \u001b[39mif\u001b[39;00m \u001b[39misinstance\u001b[39m(validator, CompoundValidator):\n",
      "File \u001b[0;32m/opt/miniconda3/envs/CREST/lib/python3.12/site-packages/plotly/basedatatypes.py:5087\u001b[0m, in \u001b[0;36mBasePlotlyType._raise_on_invalid_property_error.<locals>._ret\u001b[0;34m(*args)\u001b[0m\n\u001b[1;32m   5085\u001b[0m \u001b[39mif\u001b[39;00m guessed_prop \u001b[39mis\u001b[39;00m \u001b[39mnot\u001b[39;00m \u001b[39mNone\u001b[39;00m:\n\u001b[1;32m   5086\u001b[0m     guessed_prop_suggestion \u001b[39m=\u001b[39m \u001b[39m'\u001b[39m\u001b[39mDid you mean \u001b[39m\u001b[39m\"\u001b[39m\u001b[39m%s\u001b[39;00m\u001b[39m\"\u001b[39m\u001b[39m?\u001b[39m\u001b[39m'\u001b[39m \u001b[39m%\u001b[39m (guessed_prop,)\n\u001b[0;32m-> 5087\u001b[0m \u001b[39mraise\u001b[39;00m _error_to_raise(\n\u001b[1;32m   5088\u001b[0m     \u001b[39m\"\u001b[39m\u001b[39mInvalid \u001b[39m\u001b[39m{prop_str}\u001b[39;00m\u001b[39m specified for object of type \u001b[39m\u001b[39m\"\u001b[39m\n\u001b[1;32m   5089\u001b[0m     \u001b[39m\"\u001b[39m\u001b[39m{full_obj_name}\u001b[39;00m\u001b[39m: \u001b[39m\u001b[39m{invalid_str}\u001b[39;00m\u001b[39m\\n\u001b[39;00m\u001b[39m\"\u001b[39m\n\u001b[1;32m   5090\u001b[0m     \u001b[39m\"\u001b[39m\u001b[39m\\n\u001b[39;00m\u001b[39m{guessed_prop_suggestion}\u001b[39;00m\u001b[39m\\n\u001b[39;00m\u001b[39m\"\u001b[39m\n\u001b[1;32m   5091\u001b[0m     \u001b[39m\"\u001b[39m\u001b[39m\\n\u001b[39;00m\u001b[39m    Valid properties:\u001b[39m\u001b[39m\\n\u001b[39;00m\u001b[39m\"\u001b[39m\n\u001b[1;32m   5092\u001b[0m     \u001b[39m\"\u001b[39m\u001b[39m{prop_descriptions}\u001b[39;00m\u001b[39m\"\u001b[39m\n\u001b[1;32m   5093\u001b[0m     \u001b[39m\"\u001b[39m\u001b[39m\\n\u001b[39;00m\u001b[39m{guessed_prop_suggestion}\u001b[39;00m\u001b[39m\\n\u001b[39;00m\u001b[39m\"\u001b[39m\u001b[39m.\u001b[39mformat(\n\u001b[1;32m   5094\u001b[0m         prop_str\u001b[39m=\u001b[39mprop_str,\n\u001b[1;32m   5095\u001b[0m         full_obj_name\u001b[39m=\u001b[39mfull_obj_name,\n\u001b[1;32m   5096\u001b[0m         invalid_str\u001b[39m=\u001b[39minvalid_str,\n\u001b[1;32m   5097\u001b[0m         prop_descriptions\u001b[39m=\u001b[39m\u001b[39mself\u001b[39m\u001b[39m.\u001b[39m_prop_descriptions,\n\u001b[1;32m   5098\u001b[0m         guessed_prop_suggestion\u001b[39m=\u001b[39mguessed_prop_suggestion,\n\u001b[1;32m   5099\u001b[0m     )\n\u001b[1;32m   5100\u001b[0m )\n",
      "\u001b[0;31mPlotlyKeyError\u001b[0m: Invalid property specified for object of type plotly.graph_objs.Scatter: 'onclick'\n\nDid you mean \"line\"?\n\n    Valid properties:\n        alignmentgroup\n            Set several traces linked to the same position axis or\n            matching axes to the same alignmentgroup. This controls\n            whether bars compute their positional range dependently\n            or independently.\n        cliponaxis\n            Determines whether or not markers and text nodes are\n            clipped about the subplot axes. To show markers and\n            text nodes above axis lines and tick labels, make sure\n            to set `xaxis.layer` and `yaxis.layer` to *below\n            traces*.\n        connectgaps\n            Determines whether or not gaps (i.e. {nan} or missing\n            values) in the provided data arrays are connected.\n        customdata\n            Assigns extra data each datum. This may be useful when\n            listening to hover, click and selection events. Note\n            that, \"scatter\" traces also appends customdata items in\n            the markers DOM elements\n        customdatasrc\n            Sets the source reference on Chart Studio Cloud for\n            `customdata`.\n        dx\n            Sets the x coordinate step. See `x0` for more info.\n        dy\n            Sets the y coordinate step. See `y0` for more info.\n        error_x\n            :class:`plotly.graph_objects.scatter.ErrorX` instance\n            or dict with compatible properties\n        error_y\n            :class:`plotly.graph_objects.scatter.ErrorY` instance\n            or dict with compatible properties\n        fill\n            Sets the area to fill with a solid color. Defaults to\n            \"none\" unless this trace is stacked, then it gets\n            \"tonexty\" (\"tonextx\") if `orientation` is \"v\" (\"h\") Use\n            with `fillcolor` if not \"none\". \"tozerox\" and \"tozeroy\"\n            fill to x=0 and y=0 respectively. \"tonextx\" and\n            \"tonexty\" fill between the endpoints of this trace and\n            the endpoints of the trace before it, connecting those\n            endpoints with straight lines (to make a stacked area\n            graph); if there is no trace before it, they behave\n            like \"tozerox\" and \"tozeroy\". \"toself\" connects the\n            endpoints of the trace (or each segment of the trace if\n            it has gaps) into a closed shape. \"tonext\" fills the\n            space between two traces if one completely encloses the\n            other (eg consecutive contour lines), and behaves like\n            \"toself\" if there is no trace before it. \"tonext\"\n            should not be used if one trace does not enclose the\n            other. Traces in a `stackgroup` will only fill to (or\n            be filled to) other traces in the same group. With\n            multiple `stackgroup`s or some traces stacked and some\n            not, if fill-linked traces are not already consecutive,\n            the later ones will be pushed down in the drawing\n            order.\n        fillcolor\n            Sets the fill color. Defaults to a half-transparent\n            variant of the line color, marker color, or marker line\n            color, whichever is available. If fillgradient is\n            specified, fillcolor is ignored except for setting the\n            background color of the hover label, if any.\n        fillgradient\n            Sets a fill gradient. If not specified, the fillcolor\n            is used instead.\n        fillpattern\n            Sets the pattern within the marker.\n        groupnorm\n            Only relevant when `stackgroup` is used, and only the\n            first `groupnorm` found in the `stackgroup` will be\n            used - including if `visible` is \"legendonly\" but not\n            if it is `false`. Sets the normalization for the sum of\n            this `stackgroup`. With \"fraction\", the value of each\n            trace at each location is divided by the sum of all\n            trace values at that location. \"percent\" is the same\n            but multiplied by 100 to show percentages. If there are\n            multiple subplots, or multiple `stackgroup`s on one\n            subplot, each will be normalized within its own set.\n        hoverinfo\n            Determines which trace information appear on hover. If\n            `none` or `skip` are set, no information is displayed\n            upon hovering. But, if `none` is set, click and hover\n            events are still fired.\n        hoverinfosrc\n            Sets the source reference on Chart Studio Cloud for\n            `hoverinfo`.\n        hoverlabel\n            :class:`plotly.graph_objects.scatter.Hoverlabel`\n            instance or dict with compatible properties\n        hoveron\n            Do the hover effects highlight individual points\n            (markers or line points) or do they highlight filled\n            regions? If the fill is \"toself\" or \"tonext\" and there\n            are no markers or text, then the default is \"fills\",\n            otherwise it is \"points\".\n        hovertemplate\n            Template string used for rendering the information that\n            appear on hover box. Note that this will override\n            `hoverinfo`. Variables are inserted using %{variable},\n            for example \"y: %{y}\" as well as %{xother}, {%_xother},\n            {%_xother_}, {%xother_}. When showing info for several\n            points, \"xother\" will be added to those with different\n            x positions from the first point. An underscore before\n            or after \"(x|y)other\" will add a space on that side,\n            only when this field is shown. Numbers are formatted\n            using d3-format's syntax %{variable:d3-format}, for\n            example \"Price: %{y:$.2f}\".\n            https://github.com/d3/d3-format/tree/v1.4.5#d3-format\n            for details on the formatting syntax. Dates are\n            formatted using d3-time-format's syntax\n            %{variable|d3-time-format}, for example \"Day:\n            %{2019-01-01|%A}\". https://github.com/d3/d3-time-\n            format/tree/v2.2.3#locale_format for details on the\n            date formatting syntax. The variables available in\n            `hovertemplate` are the ones emitted as event data\n            described at this link\n            https://plotly.com/javascript/plotlyjs-events/#event-\n            data. Additionally, every attributes that can be\n            specified per-point (the ones that are `arrayOk: true`)\n            are available.  Anything contained in tag `<extra>` is\n            displayed in the secondary box, for example\n            \"<extra>{fullData.name}</extra>\". To hide the secondary\n            box completely, use an empty tag `<extra></extra>`.\n        hovertemplatesrc\n            Sets the source reference on Chart Studio Cloud for\n            `hovertemplate`.\n        hovertext\n            Sets hover text elements associated with each (x,y)\n            pair. If a single string, the same string appears over\n            all the data points. If an array of string, the items\n            are mapped in order to the this trace's (x,y)\n            coordinates. To be seen, trace `hoverinfo` must contain\n            a \"text\" flag.\n        hovertextsrc\n            Sets the source reference on Chart Studio Cloud for\n            `hovertext`.\n        ids\n            Assigns id labels to each datum. These ids for object\n            constancy of data points during animation. Should be an\n            array of strings, not numbers or any other type.\n        idssrc\n            Sets the source reference on Chart Studio Cloud for\n            `ids`.\n        legend\n            Sets the reference to a legend to show this trace in.\n            References to these legends are \"legend\", \"legend2\",\n            \"legend3\", etc. Settings for these legends are set in\n            the layout, under `layout.legend`, `layout.legend2`,\n            etc.\n        legendgroup\n            Sets the legend group for this trace. Traces and shapes\n            part of the same legend group hide/show at the same\n            time when toggling legend items.\n        legendgrouptitle\n            :class:`plotly.graph_objects.scatter.Legendgrouptitle`\n            instance or dict with compatible properties\n        legendrank\n            Sets the legend rank for this trace. Items and groups\n            with smaller ranks are presented on top/left side while\n            with \"reversed\" `legend.traceorder` they are on\n            bottom/right side. The default legendrank is 1000, so\n            that you can use ranks less than 1000 to place certain\n            items before all unranked items, and ranks greater than\n            1000 to go after all unranked items. When having\n            unranked or equal rank items shapes would be displayed\n            after traces i.e. according to their order in data and\n            layout.\n        legendwidth\n            Sets the width (in px or fraction) of the legend for\n            this trace.\n        line\n            :class:`plotly.graph_objects.scatter.Line` instance or\n            dict with compatible properties\n        marker\n            :class:`plotly.graph_objects.scatter.Marker` instance\n            or dict with compatible properties\n        meta\n            Assigns extra meta information associated with this\n            trace that can be used in various text attributes.\n            Attributes such as trace `name`, graph, axis and\n            colorbar `title.text`, annotation `text`\n            `rangeselector`, `updatemenues` and `sliders` `label`\n            text all support `meta`. To access the trace `meta`\n            values in an attribute in the same trace, simply use\n            `%{meta[i]}` where `i` is the index or key of the\n            `meta` item in question. To access trace `meta` in\n            layout attributes, use `%{data[n[.meta[i]}` where `i`\n            is the index or key of the `meta` and `n` is the trace\n            index.\n        metasrc\n            Sets the source reference on Chart Studio Cloud for\n            `meta`.\n        mode\n            Determines the drawing mode for this scatter trace. If\n            the provided `mode` includes \"text\" then the `text`\n            elements appear at the coordinates. Otherwise, the\n            `text` elements appear on hover. If there are less than\n            20 points and the trace is not stacked then the default\n            is \"lines+markers\". Otherwise, \"lines\".\n        name\n            Sets the trace name. The trace name appears as the\n            legend item and on hover.\n        offsetgroup\n            Set several traces linked to the same position axis or\n            matching axes to the same offsetgroup where bars of the\n            same position coordinate will line up.\n        opacity\n            Sets the opacity of the trace.\n        orientation\n            Only relevant in the following cases: 1. when\n            `scattermode` is set to \"group\". 2. when `stackgroup`\n            is used, and only the first `orientation` found in the\n            `stackgroup` will be used - including if `visible` is\n            \"legendonly\" but not if it is `false`. Sets the\n            stacking direction. With \"v\" (\"h\"), the y (x) values of\n            subsequent traces are added. Also affects the default\n            value of `fill`.\n        selected\n            :class:`plotly.graph_objects.scatter.Selected` instance\n            or dict with compatible properties\n        selectedpoints\n            Array containing integer indices of selected points.\n            Has an effect only for traces that support selections.\n            Note that an empty array means an empty selection where\n            the `unselected` are turned on for all points, whereas,\n            any other non-array values means no selection all where\n            the `selected` and `unselected` styles have no effect.\n        showlegend\n            Determines whether or not an item corresponding to this\n            trace is shown in the legend.\n        stackgaps\n            Only relevant when `stackgroup` is used, and only the\n            first `stackgaps` found in the `stackgroup` will be\n            used - including if `visible` is \"legendonly\" but not\n            if it is `false`. Determines how we handle locations at\n            which other traces in this group have data but this one\n            does not. With *infer zero* we insert a zero at these\n            locations. With \"interpolate\" we linearly interpolate\n            between existing values, and extrapolate a constant\n            beyond the existing values.\n        stackgroup\n            Set several scatter traces (on the same subplot) to the\n            same stackgroup in order to add their y values (or\n            their x values if `orientation` is \"h\"). If blank or\n            omitted this trace will not be stacked. Stacking also\n            turns `fill` on by default, using \"tonexty\" (\"tonextx\")\n            if `orientation` is \"h\" (\"v\") and sets the default\n            `mode` to \"lines\" irrespective of point count. You can\n            only stack on a numeric (linear or log) axis. Traces in\n            a `stackgroup` will only fill to (or be filled to)\n            other traces in the same group. With multiple\n            `stackgroup`s or some traces stacked and some not, if\n            fill-linked traces are not already consecutive, the\n            later ones will be pushed down in the drawing order.\n        stream\n            :class:`plotly.graph_objects.scatter.Stream` instance\n            or dict with compatible properties\n        text\n            Sets text elements associated with each (x,y) pair. If\n            a single string, the same string appears over all the\n            data points. If an array of string, the items are\n            mapped in order to the this trace's (x,y) coordinates.\n            If trace `hoverinfo` contains a \"text\" flag and\n            \"hovertext\" is not set, these elements will be seen in\n            the hover labels.\n        textfont\n            Sets the text font.\n        textposition\n            Sets the positions of the `text` elements with respects\n            to the (x,y) coordinates.\n        textpositionsrc\n            Sets the source reference on Chart Studio Cloud for\n            `textposition`.\n        textsrc\n            Sets the source reference on Chart Studio Cloud for\n            `text`.\n        texttemplate\n            Template string used for rendering the information text\n            that appear on points. Note that this will override\n            `textinfo`. Variables are inserted using %{variable},\n            for example \"y: %{y}\". Numbers are formatted using\n            d3-format's syntax %{variable:d3-format}, for example\n            \"Price: %{y:$.2f}\".\n            https://github.com/d3/d3-format/tree/v1.4.5#d3-format\n            for details on the formatting syntax. Dates are\n            formatted using d3-time-format's syntax\n            %{variable|d3-time-format}, for example \"Day:\n            %{2019-01-01|%A}\". https://github.com/d3/d3-time-\n            format/tree/v2.2.3#locale_format for details on the\n            date formatting syntax. Every attributes that can be\n            specified per-point (the ones that are `arrayOk: true`)\n            are available.\n        texttemplatesrc\n            Sets the source reference on Chart Studio Cloud for\n            `texttemplate`.\n        uid\n            Assign an id to this trace, Use this to provide object\n            constancy between traces during animations and\n            transitions.\n        uirevision\n            Controls persistence of some user-driven changes to the\n            trace: `constraintrange` in `parcoords` traces, as well\n            as some `editable: true` modifications such as `name`\n            and `colorbar.title`. Defaults to `layout.uirevision`.\n            Note that other user-driven trace attribute changes are\n            controlled by `layout` attributes: `trace.visible` is\n            controlled by `layout.legend.uirevision`,\n            `selectedpoints` is controlled by\n            `layout.selectionrevision`, and `colorbar.(x|y)`\n            (accessible with `config: {editable: true}`) is\n            controlled by `layout.editrevision`. Trace changes are\n            tracked by `uid`, which only falls back on trace index\n            if no `uid` is provided. So if your app can add/remove\n            traces before the end of the `data` array, such that\n            the same trace has a different index, you can still\n            preserve user-driven changes if you give each trace a\n            `uid` that stays with it as it moves.\n        unselected\n            :class:`plotly.graph_objects.scatter.Unselected`\n            instance or dict with compatible properties\n        visible\n            Determines whether or not this trace is visible. If\n            \"legendonly\", the trace is not drawn, but can appear as\n            a legend item (provided that the legend itself is\n            visible).\n        x\n            Sets the x coordinates.\n        x0\n            Alternate to `x`. Builds a linear space of x\n            coordinates. Use with `dx` where `x0` is the starting\n            coordinate and `dx` the step.\n        xaxis\n            Sets a reference between this trace's x coordinates and\n            a 2D cartesian x axis. If \"x\" (the default value), the\n            x coordinates refer to `layout.xaxis`. If \"x2\", the x\n            coordinates refer to `layout.xaxis2`, and so on.\n        xcalendar\n            Sets the calendar system to use with `x` date data.\n        xhoverformat\n            Sets the hover text formatting rulefor `x`  using d3\n            formatting mini-languages which are very similar to\n            those in Python. For numbers, see:\n            https://github.com/d3/d3-format/tree/v1.4.5#d3-format.\n            And for dates see: https://github.com/d3/d3-time-\n            format/tree/v2.2.3#locale_format. We add two items to\n            d3's date formatter: \"%h\" for half of the year as a\n            decimal number as well as \"%{n}f\" for fractional\n            seconds with n digits. For example, *2016-10-13\n            09:15:23.456* with tickformat \"%H~%M~%S.%2f\" would\n            display *09~15~23.46*By default the values are\n            formatted using `xaxis.hoverformat`.\n        xperiod\n            Only relevant when the axis `type` is \"date\". Sets the\n            period positioning in milliseconds or \"M<n>\" on the x\n            axis. Special values in the form of \"M<n>\" could be\n            used to declare the number of months. In this case `n`\n            must be a positive integer.\n        xperiod0\n            Only relevant when the axis `type` is \"date\". Sets the\n            base for period positioning in milliseconds or date\n            string on the x0 axis. When `x0period` is round number\n            of weeks, the `x0period0` by default would be on a\n            Sunday i.e. 2000-01-02, otherwise it would be at\n            2000-01-01.\n        xperiodalignment\n            Only relevant when the axis `type` is \"date\". Sets the\n            alignment of data points on the x axis.\n        xsrc\n            Sets the source reference on Chart Studio Cloud for\n            `x`.\n        y\n            Sets the y coordinates.\n        y0\n            Alternate to `y`. Builds a linear space of y\n            coordinates. Use with `dy` where `y0` is the starting\n            coordinate and `dy` the step.\n        yaxis\n            Sets a reference between this trace's y coordinates and\n            a 2D cartesian y axis. If \"y\" (the default value), the\n            y coordinates refer to `layout.yaxis`. If \"y2\", the y\n            coordinates refer to `layout.yaxis2`, and so on.\n        ycalendar\n            Sets the calendar system to use with `y` date data.\n        yhoverformat\n            Sets the hover text formatting rulefor `y`  using d3\n            formatting mini-languages which are very similar to\n            those in Python. For numbers, see:\n            https://github.com/d3/d3-format/tree/v1.4.5#d3-format.\n            And for dates see: https://github.com/d3/d3-time-\n            format/tree/v2.2.3#locale_format. We add two items to\n            d3's date formatter: \"%h\" for half of the year as a\n            decimal number as well as \"%{n}f\" for fractional\n            seconds with n digits. For example, *2016-10-13\n            09:15:23.456* with tickformat \"%H~%M~%S.%2f\" would\n            display *09~15~23.46*By default the values are\n            formatted using `yaxis.hoverformat`.\n        yperiod\n            Only relevant when the axis `type` is \"date\". Sets the\n            period positioning in milliseconds or \"M<n>\" on the y\n            axis. Special values in the form of \"M<n>\" could be\n            used to declare the number of months. In this case `n`\n            must be a positive integer.\n        yperiod0\n            Only relevant when the axis `type` is \"date\". Sets the\n            base for period positioning in milliseconds or date\n            string on the y0 axis. When `y0period` is round number\n            of weeks, the `y0period0` by default would be on a\n            Sunday i.e. 2000-01-02, otherwise it would be at\n            2000-01-01.\n        yperiodalignment\n            Only relevant when the axis `type` is \"date\". Sets the\n            alignment of data points on the y axis.\n        ysrc\n            Sets the source reference on Chart Studio Cloud for\n            `y`.\n        zorder\n            Sets the layer on which this trace is displayed,\n            relative to other SVG traces on the same subplot. SVG\n            traces with higher `zorder` appear in front of those\n            with lower `zorder`.\n        \nDid you mean \"line\"?\n"
     ]
    }
   ],
   "source": [
    "fig.data[0]['onclick']"
   ]
  },
  {
   "cell_type": "code",
   "execution_count": null,
   "metadata": {},
   "outputs": [],
   "source": [
    "# TODO double click pour griser plutôt que faire disparaitre "
   ]
  },
  {
   "cell_type": "code",
   "execution_count": 56,
   "metadata": {},
   "outputs": [],
   "source": [
    "# Write as html file\n",
    "with open('test.html','w') as file:\n",
    "    file.write(fig.to_html())\n",
    "\n",
    "# https://plotly.com/python/interactive-html-export/#full-parameter-documentation\n",
    "fig.write_html('test_.html', include_plotlyjs = False)"
   ]
  }
 ],
 "metadata": {
  "kernelspec": {
   "display_name": "CREST",
   "language": "python",
   "name": "python3"
  },
  "language_info": {
   "codemirror_mode": {
    "name": "ipython",
    "version": 3
   },
   "file_extension": ".py",
   "mimetype": "text/x-python",
   "name": "python",
   "nbconvert_exporter": "python",
   "pygments_lexer": "ipython3",
   "version": "3.12.7"
  }
 },
 "nbformat": 4,
 "nbformat_minor": 2
}
