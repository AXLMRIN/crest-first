{
 "cells": [
  {
   "cell_type": "markdown",
   "metadata": {},
   "source": [
    "This notebook goal is to plot a figure using no custom function before we get to design and write useful ones"
   ]
  },
  {
   "cell_type": "markdown",
   "metadata": {},
   "source": [
    "# Imports"
   ]
  },
  {
   "cell_type": "code",
   "execution_count": 53,
   "metadata": {},
   "outputs": [],
   "source": [
    "# Third Parties\n",
    "import pandas as pd\n",
    "import plotly.express as px\n",
    "import plotly.graph_objs as go\n",
    "import numpy as np \n",
    "\n",
    "# Native\n",
    "\n",
    "# Custom \n",
    "# /\n",
    "\n",
    "# Classes\n",
    "from plotly.graph_objs._figure import Figure as goFigure\n",
    "# Functions\n",
    "from plotly.subplots import make_subplots\n",
    "from itertools import product"
   ]
  },
  {
   "cell_type": "markdown",
   "metadata": {},
   "source": [
    "# Open file and prepare for plotting"
   ]
  },
  {
   "cell_type": "code",
   "execution_count": 54,
   "metadata": {},
   "outputs": [
    {
     "name": "stderr",
     "output_type": "stream",
     "text": [
      "/var/folders/xs/d90v1vkn16db_7z493h6kwt40000gn/T/ipykernel_25815/3563665539.py:1: DtypeWarning: Columns (0) have mixed types. Specify dtype option on import or set low_memory=False.\n",
      "  articles = pd.read_csv(\n"
     ]
    }
   ],
   "source": [
    "articles = pd.read_csv(\n",
    "    '../../data/2025-01-07-2024-10-29-quinquadef4-neat-abstract-bert.csv'\n",
    ")\n",
    "\n",
    "revues = pd.read_csv(\n",
    "    '../../data/Classification revues - Feuille 1.csv'\n",
    ")"
   ]
  },
  {
   "cell_type": "code",
   "execution_count": 55,
   "metadata": {},
   "outputs": [
    {
     "data": {
      "text/plain": [
       "Index(['iddef', 'titre', 'soustitre', 'auteurs', 'annee', 'revue', 'num_titre',\n",
       "       'num_num', 'abstract', 'url_art', 'auteurs_fam', 'auteurs_prenom',\n",
       "       'source', 'n_auteurs', 'femme', 'annee5', 'majo_femmes', 'sexe3',\n",
       "       'tag_race', 'tag_inclusif', 'bert_pronoms', 'bert_quanti', 'bert_quali',\n",
       "       'bert_genre', 'bert_genre_stat', 'bert_classe_large',\n",
       "       'bert_classe_stricte', 'bert_genre_pas_stat', 'bert_monostricte',\n",
       "       'bert_interstricte_2plus', 'bert_interstricte_3',\n",
       "       'bert_interstricte_GC', 'bert_interstricte_GR', 'bert_interstricte_CR',\n",
       "       'bert_interstricte_cl', 'bert_interstricte_cl2', 'bert_monolarge',\n",
       "       'bert_interlarge_2plus', 'bert_interlarge_3', 'bert_interlarge_GC',\n",
       "       'bert_interlarge_GR', 'bert_interlarge_CR', 'bert_interlarge_cl',\n",
       "       'bert_interlarge_cl2'],\n",
       "      dtype='object')"
      ]
     },
     "execution_count": 55,
     "metadata": {},
     "output_type": "execute_result"
    }
   ],
   "source": [
    "articles.columns"
   ]
  },
  {
   "cell_type": "code",
   "execution_count": 56,
   "metadata": {},
   "outputs": [
    {
     "data": {
      "text/plain": [
       "Index(['revue', 'Dominante', 'Aréale', 'Anthropo', 'Demo', 'Eco', 'Genre',\n",
       "       'Géographie', 'Histoire', 'SIC', 'Sociologie', 'SciencePo'],\n",
       "      dtype='object')"
      ]
     },
     "execution_count": 56,
     "metadata": {},
     "output_type": "execute_result"
    }
   ],
   "source": [
    "revues.columns"
   ]
  },
  {
   "cell_type": "markdown",
   "metadata": {},
   "source": [
    "## Doing non-sense because i am stupid"
   ]
  },
  {
   "cell_type": "code",
   "execution_count": 52,
   "metadata": {},
   "outputs": [
    {
     "name": "stderr",
     "output_type": "stream",
     "text": [
      "/var/folders/xs/d90v1vkn16db_7z493h6kwt40000gn/T/ipykernel_25815/1780883791.py:4: FutureWarning: Downcasting behavior in `replace` is deprecated and will be removed in a future version. To retain the old behavior, explicitly call `result.infer_objects(copy=False)`. To opt-in to the future behavior, set `pd.set_option('future.no_silent_downcasting', True)`\n",
      "  revues = revues.replace({'x' : True})\n"
     ]
    }
   ],
   "source": [
    "# Transforming cells, where NaN -> False and where x -> True\n",
    "# revues.replace({np.nan: False, 'x' : True})\n",
    "revues = revues.fillna(False)\n",
    "revues = revues.replace({'x' : True})\n",
    "revues = revues.astype({\n",
    "    'revue'         : str,\n",
    "    'Dominante'     : str,\n",
    "    'Aréale'        : bool,\n",
    "    'Anthropo'      : bool,\n",
    "    'Demo'          : bool,\n",
    "    'Eco'           : bool,\n",
    "    'Genre'         : bool,\n",
    "    'Géographie'    : bool,\n",
    "    'Histoire'      : bool,\n",
    "    'SIC'           : bool,\n",
    "    'Sociologie'    : bool,\n",
    "    'SciencePo'     : bool\n",
    "})\n",
    "revues.loc[:,'Dominante'] = revues.loc[:,'Dominante'].replace({'Économie' : 'Economie'})"
   ]
  },
  {
   "cell_type": "code",
   "execution_count": 32,
   "metadata": {},
   "outputs": [],
   "source": [
    "CAT = [\n",
    "    'Aréale'    ,\n",
    "    'Anthropologie'  ,\n",
    "    'Démographie'      ,\n",
    "    'Economie'       ,\n",
    "    'Genre'     ,\n",
    "    'Géographie',\n",
    "    'Histoire'  ,\n",
    "    'SIC'       ,\n",
    "    'Sociologie',\n",
    "    'Science politique' \n",
    "]\n",
    "\n",
    "df = pd.DataFrame({\n",
    "    \"annee\"         : [],\n",
    "    'Aréale'        : [],\n",
    "    'Anthropologie' : [],\n",
    "    'Démographie'   : [],\n",
    "    'Economie'      : [],\n",
    "    'Genre'         : [],\n",
    "    'Géographie'    : [],\n",
    "    'Histoire'      : [],\n",
    "    'SIC'           : [],\n",
    "    'Sociologie'    : [],\n",
    "    'Science politique'         : [],\n",
    "    'Autre interdisciplinaire'  : []\n",
    "})\n"
   ]
  },
  {
   "cell_type": "code",
   "execution_count": 33,
   "metadata": {},
   "outputs": [
    {
     "data": {
      "text/html": [
       "<div>\n",
       "<style scoped>\n",
       "    .dataframe tbody tr th:only-of-type {\n",
       "        vertical-align: middle;\n",
       "    }\n",
       "\n",
       "    .dataframe tbody tr th {\n",
       "        vertical-align: top;\n",
       "    }\n",
       "\n",
       "    .dataframe thead th {\n",
       "        text-align: right;\n",
       "    }\n",
       "</style>\n",
       "<table border=\"1\" class=\"dataframe\">\n",
       "  <thead>\n",
       "    <tr style=\"text-align: right;\">\n",
       "      <th></th>\n",
       "      <th>revue</th>\n",
       "      <th>Dominante</th>\n",
       "      <th>Aréale</th>\n",
       "      <th>Anthropo</th>\n",
       "      <th>Demo</th>\n",
       "      <th>Eco</th>\n",
       "      <th>Genre</th>\n",
       "      <th>Géographie</th>\n",
       "      <th>Histoire</th>\n",
       "      <th>SIC</th>\n",
       "      <th>Sociologie</th>\n",
       "      <th>SciencePo</th>\n",
       "    </tr>\n",
       "  </thead>\n",
       "  <tbody>\n",
       "    <tr>\n",
       "      <th>0</th>\n",
       "      <td>Les Études Sociales</td>\n",
       "      <td>Autre interdisciplinaire</td>\n",
       "      <td>False</td>\n",
       "      <td>False</td>\n",
       "      <td>False</td>\n",
       "      <td>False</td>\n",
       "      <td>False</td>\n",
       "      <td>False</td>\n",
       "      <td>True</td>\n",
       "      <td>False</td>\n",
       "      <td>True</td>\n",
       "      <td>False</td>\n",
       "    </tr>\n",
       "    <tr>\n",
       "      <th>1</th>\n",
       "      <td>Ethnologie française</td>\n",
       "      <td>Anthropologie</td>\n",
       "      <td>False</td>\n",
       "      <td>True</td>\n",
       "      <td>False</td>\n",
       "      <td>False</td>\n",
       "      <td>False</td>\n",
       "      <td>False</td>\n",
       "      <td>False</td>\n",
       "      <td>False</td>\n",
       "      <td>True</td>\n",
       "      <td>False</td>\n",
       "    </tr>\n",
       "    <tr>\n",
       "      <th>2</th>\n",
       "      <td>Hommes &amp; Migrations</td>\n",
       "      <td>Anthropologie</td>\n",
       "      <td>False</td>\n",
       "      <td>True</td>\n",
       "      <td>False</td>\n",
       "      <td>False</td>\n",
       "      <td>False</td>\n",
       "      <td>False</td>\n",
       "      <td>False</td>\n",
       "      <td>False</td>\n",
       "      <td>False</td>\n",
       "      <td>False</td>\n",
       "    </tr>\n",
       "    <tr>\n",
       "      <th>3</th>\n",
       "      <td>Journal des anthropologues</td>\n",
       "      <td>Anthropologie</td>\n",
       "      <td>False</td>\n",
       "      <td>True</td>\n",
       "      <td>False</td>\n",
       "      <td>False</td>\n",
       "      <td>False</td>\n",
       "      <td>False</td>\n",
       "      <td>False</td>\n",
       "      <td>False</td>\n",
       "      <td>False</td>\n",
       "      <td>False</td>\n",
       "    </tr>\n",
       "    <tr>\n",
       "      <th>4</th>\n",
       "      <td>L’Homme</td>\n",
       "      <td>Anthropologie</td>\n",
       "      <td>False</td>\n",
       "      <td>True</td>\n",
       "      <td>False</td>\n",
       "      <td>False</td>\n",
       "      <td>False</td>\n",
       "      <td>False</td>\n",
       "      <td>False</td>\n",
       "      <td>False</td>\n",
       "      <td>False</td>\n",
       "      <td>False</td>\n",
       "    </tr>\n",
       "  </tbody>\n",
       "</table>\n",
       "</div>"
      ],
      "text/plain": [
       "                        revue                 Dominante  Aréale  Anthropo  \\\n",
       "0         Les Études Sociales  Autre interdisciplinaire   False     False   \n",
       "1        Ethnologie française             Anthropologie   False      True   \n",
       "2         Hommes & Migrations             Anthropologie   False      True   \n",
       "3  Journal des anthropologues             Anthropologie   False      True   \n",
       "4                     L’Homme             Anthropologie   False      True   \n",
       "\n",
       "    Demo    Eco  Genre  Géographie  Histoire    SIC  Sociologie  SciencePo  \n",
       "0  False  False  False       False      True  False        True      False  \n",
       "1  False  False  False       False     False  False        True      False  \n",
       "2  False  False  False       False     False  False       False      False  \n",
       "3  False  False  False       False     False  False       False      False  \n",
       "4  False  False  False       False     False  False       False      False  "
      ]
     },
     "execution_count": 33,
     "metadata": {},
     "output_type": "execute_result"
    }
   ],
   "source": [
    "revues.head()"
   ]
  },
  {
   "cell_type": "code",
   "execution_count": 34,
   "metadata": {},
   "outputs": [
    {
     "data": {
      "text/html": [
       "<div>\n",
       "<style scoped>\n",
       "    .dataframe tbody tr th:only-of-type {\n",
       "        vertical-align: middle;\n",
       "    }\n",
       "\n",
       "    .dataframe tbody tr th {\n",
       "        vertical-align: top;\n",
       "    }\n",
       "\n",
       "    .dataframe thead th {\n",
       "        text-align: right;\n",
       "    }\n",
       "</style>\n",
       "<table border=\"1\" class=\"dataframe\">\n",
       "  <thead>\n",
       "    <tr style=\"text-align: right;\">\n",
       "      <th></th>\n",
       "      <th>annee</th>\n",
       "      <th>Aréale</th>\n",
       "      <th>Anthropologie</th>\n",
       "      <th>Démographie</th>\n",
       "      <th>Economie</th>\n",
       "      <th>Genre</th>\n",
       "      <th>Géographie</th>\n",
       "      <th>Histoire</th>\n",
       "      <th>SIC</th>\n",
       "      <th>Sociologie</th>\n",
       "      <th>Science politique</th>\n",
       "      <th>Autre interdisciplinaire</th>\n",
       "    </tr>\n",
       "  </thead>\n",
       "  <tbody>\n",
       "  </tbody>\n",
       "</table>\n",
       "</div>"
      ],
      "text/plain": [
       "Empty DataFrame\n",
       "Columns: [annee, Aréale, Anthropologie, Démographie, Economie, Genre, Géographie, Histoire, SIC, Sociologie, Science politique, Autre interdisciplinaire]\n",
       "Index: []"
      ]
     },
     "execution_count": 34,
     "metadata": {},
     "output_type": "execute_result"
    }
   ],
   "source": [
    "df"
   ]
  },
  {
   "cell_type": "code",
   "execution_count": 35,
   "metadata": {},
   "outputs": [],
   "source": [
    "unknown_revues = []\n",
    "unknown_categories = []\n",
    "for i in range(len(articles)): \n",
    "    # retrieve the publication year and the name of the revue\n",
    "    revue_i : str = articles.loc[i,'revue']\n",
    "    annee_i : int = int(articles.loc[i,'annee'])\n",
    "\n",
    "    # find if the category\n",
    "    try : \n",
    "        found_categorie : str = revues.loc[\n",
    "                                    revues.revue == revue_i,\n",
    "                                    'Dominante'].item()\n",
    "    except:\n",
    "        unknown_revues.append(revue_i)\n",
    "        pass\n",
    "\n",
    "    if found_categorie in CAT : \n",
    "        cat_label : str = found_categorie\n",
    "    else : \n",
    "        if found_categorie != 'Autre interdisciplinaire' : \n",
    "            unknown_categories.append(found_categorie)\n",
    "            \n",
    "        cat_label : str = 'Autre interdisciplinaire'\n",
    "\n",
    "    # Make sure the row for the year exists\n",
    "    if annee_i not in df['annee'].values:\n",
    "        # if not, create it\n",
    "        df.loc[len(df),:] = [annee_i] + [0] * (len(df.columns) - 1)\n",
    "    \n",
    "    # add data to df\n",
    "    df.loc[\n",
    "        df['annee'] == annee_i,\n",
    "        cat_label\n",
    "    ] += 1\n",
    "    "
   ]
  },
  {
   "cell_type": "code",
   "execution_count": 36,
   "metadata": {},
   "outputs": [
    {
     "data": {
      "text/plain": [
       "{'Commentaire', 'Éducation & formations'}"
      ]
     },
     "execution_count": 36,
     "metadata": {},
     "output_type": "execute_result"
    }
   ],
   "source": [
    "set(unknown_revues)"
   ]
  },
  {
   "cell_type": "code",
   "execution_count": 37,
   "metadata": {},
   "outputs": [
    {
     "data": {
      "text/plain": [
       "set()"
      ]
     },
     "execution_count": 37,
     "metadata": {},
     "output_type": "execute_result"
    }
   ],
   "source": [
    "set(unknown_categories)"
   ]
  },
  {
   "cell_type": "code",
   "execution_count": 38,
   "metadata": {},
   "outputs": [
    {
     "data": {
      "text/html": [
       "<div>\n",
       "<style scoped>\n",
       "    .dataframe tbody tr th:only-of-type {\n",
       "        vertical-align: middle;\n",
       "    }\n",
       "\n",
       "    .dataframe tbody tr th {\n",
       "        vertical-align: top;\n",
       "    }\n",
       "\n",
       "    .dataframe thead th {\n",
       "        text-align: right;\n",
       "    }\n",
       "</style>\n",
       "<table border=\"1\" class=\"dataframe\">\n",
       "  <thead>\n",
       "    <tr style=\"text-align: right;\">\n",
       "      <th></th>\n",
       "      <th>annee</th>\n",
       "      <th>Aréale</th>\n",
       "      <th>Anthropologie</th>\n",
       "      <th>Démographie</th>\n",
       "      <th>Economie</th>\n",
       "      <th>Genre</th>\n",
       "      <th>Géographie</th>\n",
       "      <th>Histoire</th>\n",
       "      <th>SIC</th>\n",
       "      <th>Sociologie</th>\n",
       "      <th>Science politique</th>\n",
       "      <th>Autre interdisciplinaire</th>\n",
       "    </tr>\n",
       "  </thead>\n",
       "  <tbody>\n",
       "    <tr>\n",
       "      <th>0</th>\n",
       "      <td>2001</td>\n",
       "      <td>56</td>\n",
       "      <td>80</td>\n",
       "      <td>4</td>\n",
       "      <td>29</td>\n",
       "      <td>54</td>\n",
       "      <td>15</td>\n",
       "      <td>153</td>\n",
       "      <td>87</td>\n",
       "      <td>165</td>\n",
       "      <td>200</td>\n",
       "      <td>170</td>\n",
       "    </tr>\n",
       "    <tr>\n",
       "      <th>1</th>\n",
       "      <td>2002</td>\n",
       "      <td>73</td>\n",
       "      <td>82</td>\n",
       "      <td>25</td>\n",
       "      <td>61</td>\n",
       "      <td>57</td>\n",
       "      <td>14</td>\n",
       "      <td>185</td>\n",
       "      <td>131</td>\n",
       "      <td>157</td>\n",
       "      <td>171</td>\n",
       "      <td>185</td>\n",
       "    </tr>\n",
       "    <tr>\n",
       "      <th>2</th>\n",
       "      <td>2003</td>\n",
       "      <td>146</td>\n",
       "      <td>79</td>\n",
       "      <td>23</td>\n",
       "      <td>95</td>\n",
       "      <td>72</td>\n",
       "      <td>15</td>\n",
       "      <td>176</td>\n",
       "      <td>145</td>\n",
       "      <td>200</td>\n",
       "      <td>191</td>\n",
       "      <td>253</td>\n",
       "    </tr>\n",
       "    <tr>\n",
       "      <th>3</th>\n",
       "      <td>2004</td>\n",
       "      <td>122</td>\n",
       "      <td>88</td>\n",
       "      <td>20</td>\n",
       "      <td>94</td>\n",
       "      <td>67</td>\n",
       "      <td>36</td>\n",
       "      <td>188</td>\n",
       "      <td>162</td>\n",
       "      <td>197</td>\n",
       "      <td>206</td>\n",
       "      <td>348</td>\n",
       "    </tr>\n",
       "    <tr>\n",
       "      <th>4</th>\n",
       "      <td>2005</td>\n",
       "      <td>104</td>\n",
       "      <td>87</td>\n",
       "      <td>17</td>\n",
       "      <td>109</td>\n",
       "      <td>69</td>\n",
       "      <td>45</td>\n",
       "      <td>189</td>\n",
       "      <td>130</td>\n",
       "      <td>224</td>\n",
       "      <td>159</td>\n",
       "      <td>411</td>\n",
       "    </tr>\n",
       "    <tr>\n",
       "      <th>5</th>\n",
       "      <td>2006</td>\n",
       "      <td>153</td>\n",
       "      <td>93</td>\n",
       "      <td>21</td>\n",
       "      <td>153</td>\n",
       "      <td>81</td>\n",
       "      <td>48</td>\n",
       "      <td>187</td>\n",
       "      <td>144</td>\n",
       "      <td>203</td>\n",
       "      <td>170</td>\n",
       "      <td>492</td>\n",
       "    </tr>\n",
       "    <tr>\n",
       "      <th>6</th>\n",
       "      <td>2007</td>\n",
       "      <td>139</td>\n",
       "      <td>108</td>\n",
       "      <td>36</td>\n",
       "      <td>180</td>\n",
       "      <td>64</td>\n",
       "      <td>37</td>\n",
       "      <td>238</td>\n",
       "      <td>127</td>\n",
       "      <td>285</td>\n",
       "      <td>239</td>\n",
       "      <td>524</td>\n",
       "    </tr>\n",
       "    <tr>\n",
       "      <th>7</th>\n",
       "      <td>2008</td>\n",
       "      <td>186</td>\n",
       "      <td>106</td>\n",
       "      <td>32</td>\n",
       "      <td>164</td>\n",
       "      <td>67</td>\n",
       "      <td>47</td>\n",
       "      <td>265</td>\n",
       "      <td>170</td>\n",
       "      <td>334</td>\n",
       "      <td>254</td>\n",
       "      <td>468</td>\n",
       "    </tr>\n",
       "    <tr>\n",
       "      <th>8</th>\n",
       "      <td>2009</td>\n",
       "      <td>244</td>\n",
       "      <td>91</td>\n",
       "      <td>26</td>\n",
       "      <td>120</td>\n",
       "      <td>89</td>\n",
       "      <td>39</td>\n",
       "      <td>277</td>\n",
       "      <td>184</td>\n",
       "      <td>334</td>\n",
       "      <td>236</td>\n",
       "      <td>524</td>\n",
       "    </tr>\n",
       "    <tr>\n",
       "      <th>9</th>\n",
       "      <td>2010</td>\n",
       "      <td>233</td>\n",
       "      <td>108</td>\n",
       "      <td>50</td>\n",
       "      <td>146</td>\n",
       "      <td>83</td>\n",
       "      <td>45</td>\n",
       "      <td>279</td>\n",
       "      <td>181</td>\n",
       "      <td>344</td>\n",
       "      <td>271</td>\n",
       "      <td>569</td>\n",
       "    </tr>\n",
       "    <tr>\n",
       "      <th>10</th>\n",
       "      <td>2011</td>\n",
       "      <td>225</td>\n",
       "      <td>129</td>\n",
       "      <td>34</td>\n",
       "      <td>126</td>\n",
       "      <td>94</td>\n",
       "      <td>45</td>\n",
       "      <td>286</td>\n",
       "      <td>187</td>\n",
       "      <td>431</td>\n",
       "      <td>257</td>\n",
       "      <td>537</td>\n",
       "    </tr>\n",
       "    <tr>\n",
       "      <th>11</th>\n",
       "      <td>2012</td>\n",
       "      <td>230</td>\n",
       "      <td>109</td>\n",
       "      <td>37</td>\n",
       "      <td>134</td>\n",
       "      <td>80</td>\n",
       "      <td>42</td>\n",
       "      <td>295</td>\n",
       "      <td>181</td>\n",
       "      <td>377</td>\n",
       "      <td>282</td>\n",
       "      <td>554</td>\n",
       "    </tr>\n",
       "    <tr>\n",
       "      <th>12</th>\n",
       "      <td>2013</td>\n",
       "      <td>247</td>\n",
       "      <td>106</td>\n",
       "      <td>36</td>\n",
       "      <td>141</td>\n",
       "      <td>81</td>\n",
       "      <td>44</td>\n",
       "      <td>259</td>\n",
       "      <td>156</td>\n",
       "      <td>351</td>\n",
       "      <td>281</td>\n",
       "      <td>507</td>\n",
       "    </tr>\n",
       "    <tr>\n",
       "      <th>13</th>\n",
       "      <td>2014</td>\n",
       "      <td>205</td>\n",
       "      <td>123</td>\n",
       "      <td>30</td>\n",
       "      <td>139</td>\n",
       "      <td>71</td>\n",
       "      <td>44</td>\n",
       "      <td>277</td>\n",
       "      <td>196</td>\n",
       "      <td>385</td>\n",
       "      <td>305</td>\n",
       "      <td>592</td>\n",
       "    </tr>\n",
       "    <tr>\n",
       "      <th>14</th>\n",
       "      <td>2015</td>\n",
       "      <td>268</td>\n",
       "      <td>110</td>\n",
       "      <td>31</td>\n",
       "      <td>156</td>\n",
       "      <td>66</td>\n",
       "      <td>46</td>\n",
       "      <td>296</td>\n",
       "      <td>216</td>\n",
       "      <td>411</td>\n",
       "      <td>259</td>\n",
       "      <td>516</td>\n",
       "    </tr>\n",
       "    <tr>\n",
       "      <th>15</th>\n",
       "      <td>2016</td>\n",
       "      <td>272</td>\n",
       "      <td>116</td>\n",
       "      <td>38</td>\n",
       "      <td>195</td>\n",
       "      <td>100</td>\n",
       "      <td>41</td>\n",
       "      <td>263</td>\n",
       "      <td>159</td>\n",
       "      <td>389</td>\n",
       "      <td>339</td>\n",
       "      <td>568</td>\n",
       "    </tr>\n",
       "    <tr>\n",
       "      <th>16</th>\n",
       "      <td>2017</td>\n",
       "      <td>251</td>\n",
       "      <td>116</td>\n",
       "      <td>32</td>\n",
       "      <td>162</td>\n",
       "      <td>88</td>\n",
       "      <td>67</td>\n",
       "      <td>250</td>\n",
       "      <td>191</td>\n",
       "      <td>363</td>\n",
       "      <td>281</td>\n",
       "      <td>568</td>\n",
       "    </tr>\n",
       "    <tr>\n",
       "      <th>17</th>\n",
       "      <td>2018</td>\n",
       "      <td>233</td>\n",
       "      <td>111</td>\n",
       "      <td>30</td>\n",
       "      <td>165</td>\n",
       "      <td>79</td>\n",
       "      <td>32</td>\n",
       "      <td>312</td>\n",
       "      <td>205</td>\n",
       "      <td>398</td>\n",
       "      <td>299</td>\n",
       "      <td>619</td>\n",
       "    </tr>\n",
       "    <tr>\n",
       "      <th>18</th>\n",
       "      <td>2019</td>\n",
       "      <td>256</td>\n",
       "      <td>104</td>\n",
       "      <td>39</td>\n",
       "      <td>177</td>\n",
       "      <td>72</td>\n",
       "      <td>44</td>\n",
       "      <td>334</td>\n",
       "      <td>173</td>\n",
       "      <td>383</td>\n",
       "      <td>293</td>\n",
       "      <td>501</td>\n",
       "    </tr>\n",
       "    <tr>\n",
       "      <th>19</th>\n",
       "      <td>2020</td>\n",
       "      <td>224</td>\n",
       "      <td>78</td>\n",
       "      <td>21</td>\n",
       "      <td>149</td>\n",
       "      <td>60</td>\n",
       "      <td>51</td>\n",
       "      <td>305</td>\n",
       "      <td>148</td>\n",
       "      <td>335</td>\n",
       "      <td>268</td>\n",
       "      <td>470</td>\n",
       "    </tr>\n",
       "    <tr>\n",
       "      <th>20</th>\n",
       "      <td>2021</td>\n",
       "      <td>255</td>\n",
       "      <td>210</td>\n",
       "      <td>29</td>\n",
       "      <td>153</td>\n",
       "      <td>108</td>\n",
       "      <td>59</td>\n",
       "      <td>325</td>\n",
       "      <td>189</td>\n",
       "      <td>373</td>\n",
       "      <td>308</td>\n",
       "      <td>585</td>\n",
       "    </tr>\n",
       "    <tr>\n",
       "      <th>21</th>\n",
       "      <td>2022</td>\n",
       "      <td>219</td>\n",
       "      <td>241</td>\n",
       "      <td>28</td>\n",
       "      <td>162</td>\n",
       "      <td>92</td>\n",
       "      <td>49</td>\n",
       "      <td>323</td>\n",
       "      <td>180</td>\n",
       "      <td>324</td>\n",
       "      <td>304</td>\n",
       "      <td>558</td>\n",
       "    </tr>\n",
       "    <tr>\n",
       "      <th>22</th>\n",
       "      <td>2023</td>\n",
       "      <td>191</td>\n",
       "      <td>163</td>\n",
       "      <td>10</td>\n",
       "      <td>90</td>\n",
       "      <td>74</td>\n",
       "      <td>28</td>\n",
       "      <td>214</td>\n",
       "      <td>104</td>\n",
       "      <td>208</td>\n",
       "      <td>222</td>\n",
       "      <td>434</td>\n",
       "    </tr>\n",
       "  </tbody>\n",
       "</table>\n",
       "</div>"
      ],
      "text/plain": [
       "    annee  Aréale  Anthropologie  Démographie  Economie  Genre  Géographie  \\\n",
       "0    2001      56             80            4        29     54          15   \n",
       "1    2002      73             82           25        61     57          14   \n",
       "2    2003     146             79           23        95     72          15   \n",
       "3    2004     122             88           20        94     67          36   \n",
       "4    2005     104             87           17       109     69          45   \n",
       "5    2006     153             93           21       153     81          48   \n",
       "6    2007     139            108           36       180     64          37   \n",
       "7    2008     186            106           32       164     67          47   \n",
       "8    2009     244             91           26       120     89          39   \n",
       "9    2010     233            108           50       146     83          45   \n",
       "10   2011     225            129           34       126     94          45   \n",
       "11   2012     230            109           37       134     80          42   \n",
       "12   2013     247            106           36       141     81          44   \n",
       "13   2014     205            123           30       139     71          44   \n",
       "14   2015     268            110           31       156     66          46   \n",
       "15   2016     272            116           38       195    100          41   \n",
       "16   2017     251            116           32       162     88          67   \n",
       "17   2018     233            111           30       165     79          32   \n",
       "18   2019     256            104           39       177     72          44   \n",
       "19   2020     224             78           21       149     60          51   \n",
       "20   2021     255            210           29       153    108          59   \n",
       "21   2022     219            241           28       162     92          49   \n",
       "22   2023     191            163           10        90     74          28   \n",
       "\n",
       "    Histoire  SIC  Sociologie  Science politique  Autre interdisciplinaire  \n",
       "0        153   87         165                200                       170  \n",
       "1        185  131         157                171                       185  \n",
       "2        176  145         200                191                       253  \n",
       "3        188  162         197                206                       348  \n",
       "4        189  130         224                159                       411  \n",
       "5        187  144         203                170                       492  \n",
       "6        238  127         285                239                       524  \n",
       "7        265  170         334                254                       468  \n",
       "8        277  184         334                236                       524  \n",
       "9        279  181         344                271                       569  \n",
       "10       286  187         431                257                       537  \n",
       "11       295  181         377                282                       554  \n",
       "12       259  156         351                281                       507  \n",
       "13       277  196         385                305                       592  \n",
       "14       296  216         411                259                       516  \n",
       "15       263  159         389                339                       568  \n",
       "16       250  191         363                281                       568  \n",
       "17       312  205         398                299                       619  \n",
       "18       334  173         383                293                       501  \n",
       "19       305  148         335                268                       470  \n",
       "20       325  189         373                308                       585  \n",
       "21       323  180         324                304                       558  \n",
       "22       214  104         208                222                       434  "
      ]
     },
     "execution_count": 38,
     "metadata": {},
     "output_type": "execute_result"
    }
   ],
   "source": [
    "df = df.astype({\n",
    "    \"annee\"         : int,\n",
    "    'Aréale'        : int,\n",
    "    'Anthropologie' : int,\n",
    "    'Démographie'   : int,\n",
    "    'Economie'      : int,\n",
    "    'Genre'         : int,\n",
    "    'Géographie'    : int,\n",
    "    'Histoire'      : int,\n",
    "    'SIC'           : int,\n",
    "    'Sociologie'    : int,\n",
    "    'Science politique'         : int,\n",
    "    'Autre interdisciplinaire'  : int\n",
    "})\n",
    "df = df.sort_values('annee')\n",
    "df.index = np.arange(0,len(df))\n",
    "df"
   ]
  },
  {
   "cell_type": "code",
   "execution_count": 39,
   "metadata": {},
   "outputs": [],
   "source": [
    "df.to_csv('../../data/checkpoints/categories_DRAFT.csv')"
   ]
  },
  {
   "cell_type": "markdown",
   "metadata": {},
   "source": [
    "## Being smart starts now"
   ]
  },
  {
   "cell_type": "code",
   "execution_count": 57,
   "metadata": {},
   "outputs": [],
   "source": [
    "unknown_revues = []\n",
    "unknown_categories = []\n",
    "\n",
    "found_categorie : list[str] = []\n",
    "\n",
    "for i in range(len(articles)): \n",
    "    # retrieve the publication year and the name of the revue\n",
    "    revue_i : str = articles.loc[i,'revue']\n",
    "\n",
    "    # find if the category\n",
    "    try : \n",
    "        found_categorie_i : str = revues.loc[\n",
    "                                    revues.revue == revue_i,\n",
    "                                    'Dominante'].item()\n",
    "    except:\n",
    "        unknown_revues.append(revue_i)\n",
    "        found_categorie_i = \"NaN\"\n",
    "\n",
    "    if found_categorie_i in CAT : \n",
    "        cat_label : str = found_categorie_i\n",
    "    if found_categorie_i == \"NaN\":\n",
    "        cat_label : str = \"NaN\"\n",
    "    else : \n",
    "        if found_categorie_i != 'Autre interdisciplinaire' : \n",
    "            unknown_categories.append(found_categorie)\n",
    "            \n",
    "        cat_label : str = 'Autre interdisciplinaire'\n",
    "    found_categorie.append(found_categorie_i)\n"
   ]
  },
  {
   "cell_type": "code",
   "execution_count": 58,
   "metadata": {},
   "outputs": [
    {
     "data": {
      "text/plain": [
       "['Commentaire',\n",
       " 'Commentaire',\n",
       " 'Commentaire',\n",
       " 'Commentaire',\n",
       " 'Commentaire',\n",
       " 'Commentaire',\n",
       " 'Commentaire',\n",
       " 'Commentaire',\n",
       " 'Commentaire',\n",
       " 'Commentaire',\n",
       " 'Commentaire',\n",
       " 'Commentaire',\n",
       " 'Commentaire',\n",
       " 'Commentaire',\n",
       " 'Commentaire',\n",
       " 'Commentaire',\n",
       " 'Commentaire',\n",
       " 'Éducation & formations',\n",
       " 'Éducation & formations',\n",
       " 'Éducation & formations',\n",
       " 'Éducation & formations',\n",
       " 'Éducation & formations',\n",
       " 'Éducation & formations']"
      ]
     },
     "execution_count": 58,
     "metadata": {},
     "output_type": "execute_result"
    }
   ],
   "source": [
    "unknown_revues"
   ]
  },
  {
   "cell_type": "code",
   "execution_count": 59,
   "metadata": {},
   "outputs": [
    {
     "data": {
      "text/plain": [
       "{'Anthropologie',\n",
       " 'Aréale',\n",
       " 'Autre interdisciplinaire',\n",
       " 'Démographie',\n",
       " 'Economie',\n",
       " 'Genre',\n",
       " 'Géographie',\n",
       " 'Histoire',\n",
       " 'NaN',\n",
       " 'SIC',\n",
       " 'Science politique',\n",
       " 'Sociologie',\n",
       " 'Économie'}"
      ]
     },
     "execution_count": 59,
     "metadata": {},
     "output_type": "execute_result"
    }
   ],
   "source": [
    "set(found_categorie)"
   ]
  },
  {
   "cell_type": "code",
   "execution_count": 60,
   "metadata": {},
   "outputs": [],
   "source": [
    "articles['Discipline'] = found_categorie"
   ]
  },
  {
   "cell_type": "code",
   "execution_count": 61,
   "metadata": {},
   "outputs": [
    {
     "data": {
      "text/html": [
       "<div>\n",
       "<style scoped>\n",
       "    .dataframe tbody tr th:only-of-type {\n",
       "        vertical-align: middle;\n",
       "    }\n",
       "\n",
       "    .dataframe tbody tr th {\n",
       "        vertical-align: top;\n",
       "    }\n",
       "\n",
       "    .dataframe thead th {\n",
       "        text-align: right;\n",
       "    }\n",
       "</style>\n",
       "<table border=\"1\" class=\"dataframe\">\n",
       "  <thead>\n",
       "    <tr style=\"text-align: right;\">\n",
       "      <th></th>\n",
       "      <th>revue</th>\n",
       "      <th>Discipline</th>\n",
       "    </tr>\n",
       "  </thead>\n",
       "  <tbody>\n",
       "    <tr>\n",
       "      <th>5916</th>\n",
       "      <td>Commentaire</td>\n",
       "      <td>NaN</td>\n",
       "    </tr>\n",
       "    <tr>\n",
       "      <th>5917</th>\n",
       "      <td>Commentaire</td>\n",
       "      <td>NaN</td>\n",
       "    </tr>\n",
       "    <tr>\n",
       "      <th>5918</th>\n",
       "      <td>Commentaire</td>\n",
       "      <td>NaN</td>\n",
       "    </tr>\n",
       "    <tr>\n",
       "      <th>5919</th>\n",
       "      <td>Commentaire</td>\n",
       "      <td>NaN</td>\n",
       "    </tr>\n",
       "    <tr>\n",
       "      <th>5920</th>\n",
       "      <td>Commentaire</td>\n",
       "      <td>NaN</td>\n",
       "    </tr>\n",
       "    <tr>\n",
       "      <th>5921</th>\n",
       "      <td>Commentaire</td>\n",
       "      <td>NaN</td>\n",
       "    </tr>\n",
       "    <tr>\n",
       "      <th>5922</th>\n",
       "      <td>Commentaire</td>\n",
       "      <td>NaN</td>\n",
       "    </tr>\n",
       "    <tr>\n",
       "      <th>5923</th>\n",
       "      <td>Commentaire</td>\n",
       "      <td>NaN</td>\n",
       "    </tr>\n",
       "    <tr>\n",
       "      <th>5924</th>\n",
       "      <td>Commentaire</td>\n",
       "      <td>NaN</td>\n",
       "    </tr>\n",
       "    <tr>\n",
       "      <th>5925</th>\n",
       "      <td>Commentaire</td>\n",
       "      <td>NaN</td>\n",
       "    </tr>\n",
       "    <tr>\n",
       "      <th>5926</th>\n",
       "      <td>Commentaire</td>\n",
       "      <td>NaN</td>\n",
       "    </tr>\n",
       "    <tr>\n",
       "      <th>5927</th>\n",
       "      <td>Commentaire</td>\n",
       "      <td>NaN</td>\n",
       "    </tr>\n",
       "    <tr>\n",
       "      <th>5928</th>\n",
       "      <td>Commentaire</td>\n",
       "      <td>NaN</td>\n",
       "    </tr>\n",
       "    <tr>\n",
       "      <th>5929</th>\n",
       "      <td>Commentaire</td>\n",
       "      <td>NaN</td>\n",
       "    </tr>\n",
       "    <tr>\n",
       "      <th>5930</th>\n",
       "      <td>Commentaire</td>\n",
       "      <td>NaN</td>\n",
       "    </tr>\n",
       "    <tr>\n",
       "      <th>5931</th>\n",
       "      <td>Commentaire</td>\n",
       "      <td>NaN</td>\n",
       "    </tr>\n",
       "    <tr>\n",
       "      <th>5932</th>\n",
       "      <td>Commentaire</td>\n",
       "      <td>NaN</td>\n",
       "    </tr>\n",
       "    <tr>\n",
       "      <th>8679</th>\n",
       "      <td>Éducation &amp; formations</td>\n",
       "      <td>NaN</td>\n",
       "    </tr>\n",
       "    <tr>\n",
       "      <th>8680</th>\n",
       "      <td>Éducation &amp; formations</td>\n",
       "      <td>NaN</td>\n",
       "    </tr>\n",
       "    <tr>\n",
       "      <th>8681</th>\n",
       "      <td>Éducation &amp; formations</td>\n",
       "      <td>NaN</td>\n",
       "    </tr>\n",
       "    <tr>\n",
       "      <th>8682</th>\n",
       "      <td>Éducation &amp; formations</td>\n",
       "      <td>NaN</td>\n",
       "    </tr>\n",
       "    <tr>\n",
       "      <th>8683</th>\n",
       "      <td>Éducation &amp; formations</td>\n",
       "      <td>NaN</td>\n",
       "    </tr>\n",
       "    <tr>\n",
       "      <th>8684</th>\n",
       "      <td>Éducation &amp; formations</td>\n",
       "      <td>NaN</td>\n",
       "    </tr>\n",
       "  </tbody>\n",
       "</table>\n",
       "</div>"
      ],
      "text/plain": [
       "                       revue Discipline\n",
       "5916             Commentaire        NaN\n",
       "5917             Commentaire        NaN\n",
       "5918             Commentaire        NaN\n",
       "5919             Commentaire        NaN\n",
       "5920             Commentaire        NaN\n",
       "5921             Commentaire        NaN\n",
       "5922             Commentaire        NaN\n",
       "5923             Commentaire        NaN\n",
       "5924             Commentaire        NaN\n",
       "5925             Commentaire        NaN\n",
       "5926             Commentaire        NaN\n",
       "5927             Commentaire        NaN\n",
       "5928             Commentaire        NaN\n",
       "5929             Commentaire        NaN\n",
       "5930             Commentaire        NaN\n",
       "5931             Commentaire        NaN\n",
       "5932             Commentaire        NaN\n",
       "8679  Éducation & formations        NaN\n",
       "8680  Éducation & formations        NaN\n",
       "8681  Éducation & formations        NaN\n",
       "8682  Éducation & formations        NaN\n",
       "8683  Éducation & formations        NaN\n",
       "8684  Éducation & formations        NaN"
      ]
     },
     "execution_count": 61,
     "metadata": {},
     "output_type": "execute_result"
    }
   ],
   "source": [
    "articles.loc[articles.Discipline == \"NaN\",['revue','Discipline']]"
   ]
  },
  {
   "cell_type": "code",
   "execution_count": 62,
   "metadata": {},
   "outputs": [
    {
     "data": {
      "text/html": [
       "<div>\n",
       "<style scoped>\n",
       "    .dataframe tbody tr th:only-of-type {\n",
       "        vertical-align: middle;\n",
       "    }\n",
       "\n",
       "    .dataframe tbody tr th {\n",
       "        vertical-align: top;\n",
       "    }\n",
       "\n",
       "    .dataframe thead th {\n",
       "        text-align: right;\n",
       "    }\n",
       "</style>\n",
       "<table border=\"1\" class=\"dataframe\">\n",
       "  <thead>\n",
       "    <tr style=\"text-align: right;\">\n",
       "      <th></th>\n",
       "      <th>annee</th>\n",
       "      <th>bert_genre</th>\n",
       "      <th>Discipline</th>\n",
       "    </tr>\n",
       "  </thead>\n",
       "  <tbody>\n",
       "    <tr>\n",
       "      <th>0</th>\n",
       "      <td>2001</td>\n",
       "      <td>False</td>\n",
       "      <td>Histoire</td>\n",
       "    </tr>\n",
       "    <tr>\n",
       "      <th>1</th>\n",
       "      <td>2001</td>\n",
       "      <td>False</td>\n",
       "      <td>Science politique</td>\n",
       "    </tr>\n",
       "    <tr>\n",
       "      <th>2</th>\n",
       "      <td>2001</td>\n",
       "      <td>False</td>\n",
       "      <td>Science politique</td>\n",
       "    </tr>\n",
       "    <tr>\n",
       "      <th>3</th>\n",
       "      <td>2001</td>\n",
       "      <td>False</td>\n",
       "      <td>Science politique</td>\n",
       "    </tr>\n",
       "    <tr>\n",
       "      <th>4</th>\n",
       "      <td>2001</td>\n",
       "      <td>False</td>\n",
       "      <td>Science politique</td>\n",
       "    </tr>\n",
       "  </tbody>\n",
       "</table>\n",
       "</div>"
      ],
      "text/plain": [
       "   annee  bert_genre         Discipline\n",
       "0   2001       False           Histoire\n",
       "1   2001       False  Science politique\n",
       "2   2001       False  Science politique\n",
       "3   2001       False  Science politique\n",
       "4   2001       False  Science politique"
      ]
     },
     "execution_count": 62,
     "metadata": {},
     "output_type": "execute_result"
    }
   ],
   "source": [
    "# Create usable df\n",
    "df = articles.loc[\n",
    "    articles.Discipline != \"NaN\",\n",
    "    [\"annee\", \"bert_genre\", \"Discipline\"]\n",
    "]\n",
    "df = df.sort_values('annee')\n",
    "df.index = np.arange(0,len(df))\n",
    "df.head()"
   ]
  },
  {
   "cell_type": "code",
   "execution_count": 63,
   "metadata": {},
   "outputs": [
    {
     "data": {
      "text/plain": [
       "{'Anthropologie',\n",
       " 'Aréale',\n",
       " 'Autre interdisciplinaire',\n",
       " 'Démographie',\n",
       " 'Economie',\n",
       " 'Genre',\n",
       " 'Géographie',\n",
       " 'Histoire',\n",
       " 'SIC',\n",
       " 'Science politique',\n",
       " 'Sociologie',\n",
       " 'Économie'}"
      ]
     },
     "execution_count": 63,
     "metadata": {},
     "output_type": "execute_result"
    }
   ],
   "source": [
    "set(df.Discipline)"
   ]
  },
  {
   "cell_type": "markdown",
   "metadata": {},
   "source": [
    "### organisation dataframe en 3 colonnes (useless, kept cause i want to feel like working means something to me, the world, and people around me)"
   ]
  },
  {
   "cell_type": "code",
   "execution_count": 47,
   "metadata": {},
   "outputs": [],
   "source": [
    "# create the df to plot for all the categories\n",
    "# NOTE mind the nan in bert_genre\n",
    "annee, discipline, pourcentage = [],[],[]\n",
    "\n",
    "for y,cat in product(set(df.annee), set(df.Discipline)):\n",
    "    annee.append(y)\n",
    "    discipline.append(cat)\n",
    "    pourcentage.append(\n",
    "        df.loc[\n",
    "            (df.annee == y) & (df.Discipline == cat),\n",
    "            \"bert_genre\"\n",
    "        ].mean() * 100\n",
    "    )\n",
    "\n",
    "# Add the \"Toutes\" groupe\n",
    "for y in set(df.annee):\n",
    "    annee.append(y)\n",
    "    discipline.append(\"Toutes\")\n",
    "    pourcentage.append(\n",
    "        df.loc[\n",
    "            (df.annee == y),\n",
    "            \"bert_genre\"\n",
    "        ].mean() * 100\n",
    "    )\n",
    "\n",
    "# Add the \"Toutes Sauf Genre\" groupe\n",
    "for y in set(df.annee):\n",
    "    annee.append(y)\n",
    "    discipline.append(\"Toutes sauf Genre\")\n",
    "    pourcentage.append(\n",
    "        df.loc[\n",
    "            (df.annee == y) & (df.Discipline != 'Genre'),\n",
    "            \"bert_genre\"\n",
    "        ].mean() * 100\n",
    "    )"
   ]
  },
  {
   "cell_type": "code",
   "execution_count": 25,
   "metadata": {},
   "outputs": [
    {
     "data": {
      "text/html": [
       "<div>\n",
       "<style scoped>\n",
       "    .dataframe tbody tr th:only-of-type {\n",
       "        vertical-align: middle;\n",
       "    }\n",
       "\n",
       "    .dataframe tbody tr th {\n",
       "        vertical-align: top;\n",
       "    }\n",
       "\n",
       "    .dataframe thead th {\n",
       "        text-align: right;\n",
       "    }\n",
       "</style>\n",
       "<table border=\"1\" class=\"dataframe\">\n",
       "  <thead>\n",
       "    <tr style=\"text-align: right;\">\n",
       "      <th></th>\n",
       "      <th>annee</th>\n",
       "      <th>Discipline</th>\n",
       "      <th>pourcentage</th>\n",
       "    </tr>\n",
       "  </thead>\n",
       "  <tbody>\n",
       "    <tr>\n",
       "      <th>0</th>\n",
       "      <td>2001</td>\n",
       "      <td>Genre</td>\n",
       "      <td>92.592593</td>\n",
       "    </tr>\n",
       "    <tr>\n",
       "      <th>1</th>\n",
       "      <td>2001</td>\n",
       "      <td>Sociologie</td>\n",
       "      <td>4.242424</td>\n",
       "    </tr>\n",
       "    <tr>\n",
       "      <th>2</th>\n",
       "      <td>2001</td>\n",
       "      <td>Science politique</td>\n",
       "      <td>1.000000</td>\n",
       "    </tr>\n",
       "    <tr>\n",
       "      <th>3</th>\n",
       "      <td>2001</td>\n",
       "      <td>Economie</td>\n",
       "      <td>0.000000</td>\n",
       "    </tr>\n",
       "    <tr>\n",
       "      <th>4</th>\n",
       "      <td>2001</td>\n",
       "      <td>Histoire</td>\n",
       "      <td>2.614379</td>\n",
       "    </tr>\n",
       "    <tr>\n",
       "      <th>...</th>\n",
       "      <td>...</td>\n",
       "      <td>...</td>\n",
       "      <td>...</td>\n",
       "    </tr>\n",
       "    <tr>\n",
       "      <th>294</th>\n",
       "      <td>2019</td>\n",
       "      <td>Toutes sauf Genre</td>\n",
       "      <td>7.855903</td>\n",
       "    </tr>\n",
       "    <tr>\n",
       "      <th>295</th>\n",
       "      <td>2020</td>\n",
       "      <td>Toutes sauf Genre</td>\n",
       "      <td>8.247926</td>\n",
       "    </tr>\n",
       "    <tr>\n",
       "      <th>296</th>\n",
       "      <td>2021</td>\n",
       "      <td>Toutes sauf Genre</td>\n",
       "      <td>7.441673</td>\n",
       "    </tr>\n",
       "    <tr>\n",
       "      <th>297</th>\n",
       "      <td>2022</td>\n",
       "      <td>Toutes sauf Genre</td>\n",
       "      <td>9.003350</td>\n",
       "    </tr>\n",
       "    <tr>\n",
       "      <th>298</th>\n",
       "      <td>2023</td>\n",
       "      <td>Toutes sauf Genre</td>\n",
       "      <td>9.770808</td>\n",
       "    </tr>\n",
       "  </tbody>\n",
       "</table>\n",
       "<p>299 rows × 3 columns</p>\n",
       "</div>"
      ],
      "text/plain": [
       "     annee         Discipline  pourcentage\n",
       "0     2001              Genre    92.592593\n",
       "1     2001         Sociologie     4.242424\n",
       "2     2001  Science politique     1.000000\n",
       "3     2001           Economie     0.000000\n",
       "4     2001           Histoire     2.614379\n",
       "..     ...                ...          ...\n",
       "294   2019  Toutes sauf Genre     7.855903\n",
       "295   2020  Toutes sauf Genre     8.247926\n",
       "296   2021  Toutes sauf Genre     7.441673\n",
       "297   2022  Toutes sauf Genre     9.003350\n",
       "298   2023  Toutes sauf Genre     9.770808\n",
       "\n",
       "[299 rows x 3 columns]"
      ]
     },
     "execution_count": 25,
     "metadata": {},
     "output_type": "execute_result"
    }
   ],
   "source": [
    "# running mean : https://stackoverflow.com/questions/13728392/moving-average-or-running-mean\n",
    "running_mean_window_lenght = 2\n",
    "window = np.ones(running_mean_window_lenght) / running_mean_window_lenght\n",
    "\n",
    "# TODO deal with running mean\n",
    "\n",
    "dfPlot = pd.DataFrame({\n",
    "    \"annee\" : annee,\n",
    "    \"Discipline\" : discipline,\n",
    "    \"pourcentage\" : pourcentage,\n",
    "})\n",
    "dfPlot"
   ]
  },
  {
   "cell_type": "markdown",
   "metadata": {},
   "source": [
    "### Organisation dataframe en N colonnes"
   ]
  },
  {
   "cell_type": "code",
   "execution_count": 64,
   "metadata": {},
   "outputs": [],
   "source": [
    "# Autre df (peut être plus simple)\n",
    "\n",
    "# create the df to plot for all the categories\n",
    "# NOTE mind the nan in bert_genre\n",
    "\n",
    "dfPlot = {\n",
    "    'annee' : list(set(df.annee))\n",
    "                        # already sorted because of previous manipulations\n",
    "}\n",
    "\n",
    "\n",
    "for y,cat in product(dfPlot['annee'], set(df.Discipline)):\n",
    "\n",
    "    if cat not in dfPlot:\n",
    "        dfPlot[cat] = []\n",
    "    dfPlot[cat].append(\n",
    "        df.loc[\n",
    "            (df.annee == y) & (df.Discipline == cat),\n",
    "            \"bert_genre\"\n",
    "        ].mean() * 100\n",
    "    )\n",
    "\n",
    "# Add the \"Toutes\" groupe\n",
    "dfPlot['Toutes'] = []\n",
    "for y in dfPlot['annee']:\n",
    "\n",
    "    dfPlot['Toutes'].append(\n",
    "        df.loc[\n",
    "            (df.annee == y),\n",
    "            \"bert_genre\"\n",
    "        ].mean() * 100\n",
    "    )\n",
    "\n",
    "# Add the \"Toutes Sauf Genre\" groupe\n",
    "dfPlot['Toutes sauf Genre'] = []\n",
    "for y in dfPlot['annee']:\n",
    "\n",
    "    dfPlot['Toutes sauf Genre'].append(\n",
    "        df.loc[\n",
    "            (df.annee == y) & df.Discipline != \"Genre\",\n",
    "            \"bert_genre\"\n",
    "        ].mean() * 100\n",
    "    )\n",
    "\n",
    "# FIXME /!\\ GENDER STUDIES !!!!"
   ]
  },
  {
   "cell_type": "code",
   "execution_count": 65,
   "metadata": {},
   "outputs": [
    {
     "data": {
      "text/html": [
       "<div>\n",
       "<style scoped>\n",
       "    .dataframe tbody tr th:only-of-type {\n",
       "        vertical-align: middle;\n",
       "    }\n",
       "\n",
       "    .dataframe tbody tr th {\n",
       "        vertical-align: top;\n",
       "    }\n",
       "\n",
       "    .dataframe thead th {\n",
       "        text-align: right;\n",
       "    }\n",
       "</style>\n",
       "<table border=\"1\" class=\"dataframe\">\n",
       "  <thead>\n",
       "    <tr style=\"text-align: right;\">\n",
       "      <th></th>\n",
       "      <th>annee</th>\n",
       "      <th>Genre</th>\n",
       "      <th>Sociologie</th>\n",
       "      <th>Science politique</th>\n",
       "      <th>Economie</th>\n",
       "      <th>Histoire</th>\n",
       "      <th>Aréale</th>\n",
       "      <th>SIC</th>\n",
       "      <th>Géographie</th>\n",
       "      <th>Démographie</th>\n",
       "      <th>Économie</th>\n",
       "      <th>Autre interdisciplinaire</th>\n",
       "      <th>Anthropologie</th>\n",
       "      <th>Toutes</th>\n",
       "      <th>Toutes sauf Genre</th>\n",
       "    </tr>\n",
       "  </thead>\n",
       "  <tbody>\n",
       "    <tr>\n",
       "      <th>0</th>\n",
       "      <td>2001</td>\n",
       "      <td>92.592593</td>\n",
       "      <td>4.242424</td>\n",
       "      <td>1.000000</td>\n",
       "      <td>NaN</td>\n",
       "      <td>2.614379</td>\n",
       "      <td>3.571429</td>\n",
       "      <td>3.448276</td>\n",
       "      <td>0.000000</td>\n",
       "      <td>25.000000</td>\n",
       "      <td>0.000000</td>\n",
       "      <td>0.588235</td>\n",
       "      <td>8.750000</td>\n",
       "      <td>7.601185</td>\n",
       "      <td>9.72676</td>\n",
       "    </tr>\n",
       "    <tr>\n",
       "      <th>1</th>\n",
       "      <td>2002</td>\n",
       "      <td>91.228070</td>\n",
       "      <td>3.184713</td>\n",
       "      <td>4.678363</td>\n",
       "      <td>0.000000</td>\n",
       "      <td>11.351351</td>\n",
       "      <td>4.109589</td>\n",
       "      <td>0.000000</td>\n",
       "      <td>0.000000</td>\n",
       "      <td>24.000000</td>\n",
       "      <td>3.333333</td>\n",
       "      <td>8.108108</td>\n",
       "      <td>7.317073</td>\n",
       "      <td>10.254163</td>\n",
       "      <td>9.72676</td>\n",
       "    </tr>\n",
       "    <tr>\n",
       "      <th>2</th>\n",
       "      <td>2003</td>\n",
       "      <td>83.333333</td>\n",
       "      <td>8.500000</td>\n",
       "      <td>3.141361</td>\n",
       "      <td>0.000000</td>\n",
       "      <td>1.704545</td>\n",
       "      <td>2.739726</td>\n",
       "      <td>7.586207</td>\n",
       "      <td>0.000000</td>\n",
       "      <td>26.086957</td>\n",
       "      <td>0.000000</td>\n",
       "      <td>6.719368</td>\n",
       "      <td>7.594937</td>\n",
       "      <td>9.318996</td>\n",
       "      <td>9.72676</td>\n",
       "    </tr>\n",
       "    <tr>\n",
       "      <th>3</th>\n",
       "      <td>2004</td>\n",
       "      <td>95.522388</td>\n",
       "      <td>6.091371</td>\n",
       "      <td>2.427184</td>\n",
       "      <td>9.589041</td>\n",
       "      <td>3.191489</td>\n",
       "      <td>7.377049</td>\n",
       "      <td>2.469136</td>\n",
       "      <td>0.000000</td>\n",
       "      <td>15.000000</td>\n",
       "      <td>0.000000</td>\n",
       "      <td>3.448276</td>\n",
       "      <td>5.681818</td>\n",
       "      <td>8.311518</td>\n",
       "      <td>9.72676</td>\n",
       "    </tr>\n",
       "    <tr>\n",
       "      <th>4</th>\n",
       "      <td>2005</td>\n",
       "      <td>89.855072</td>\n",
       "      <td>3.125000</td>\n",
       "      <td>2.515723</td>\n",
       "      <td>0.000000</td>\n",
       "      <td>4.232804</td>\n",
       "      <td>1.923077</td>\n",
       "      <td>5.384615</td>\n",
       "      <td>0.000000</td>\n",
       "      <td>29.411765</td>\n",
       "      <td>0.000000</td>\n",
       "      <td>9.489051</td>\n",
       "      <td>17.241379</td>\n",
       "      <td>9.650259</td>\n",
       "      <td>9.72676</td>\n",
       "    </tr>\n",
       "    <tr>\n",
       "      <th>5</th>\n",
       "      <td>2006</td>\n",
       "      <td>93.827160</td>\n",
       "      <td>5.418719</td>\n",
       "      <td>7.647059</td>\n",
       "      <td>0.000000</td>\n",
       "      <td>10.695187</td>\n",
       "      <td>1.307190</td>\n",
       "      <td>1.388889</td>\n",
       "      <td>0.000000</td>\n",
       "      <td>23.809524</td>\n",
       "      <td>0.000000</td>\n",
       "      <td>5.894309</td>\n",
       "      <td>8.602151</td>\n",
       "      <td>9.512894</td>\n",
       "      <td>9.72676</td>\n",
       "    </tr>\n",
       "    <tr>\n",
       "      <th>6</th>\n",
       "      <td>2007</td>\n",
       "      <td>90.625000</td>\n",
       "      <td>15.087719</td>\n",
       "      <td>4.184100</td>\n",
       "      <td>1.204819</td>\n",
       "      <td>3.781513</td>\n",
       "      <td>5.035971</td>\n",
       "      <td>1.574803</td>\n",
       "      <td>2.702703</td>\n",
       "      <td>30.555556</td>\n",
       "      <td>1.030928</td>\n",
       "      <td>6.488550</td>\n",
       "      <td>4.629630</td>\n",
       "      <td>9.205867</td>\n",
       "      <td>9.72676</td>\n",
       "    </tr>\n",
       "    <tr>\n",
       "      <th>7</th>\n",
       "      <td>2008</td>\n",
       "      <td>91.044776</td>\n",
       "      <td>6.287425</td>\n",
       "      <td>1.968504</td>\n",
       "      <td>0.000000</td>\n",
       "      <td>3.396226</td>\n",
       "      <td>2.688172</td>\n",
       "      <td>2.352941</td>\n",
       "      <td>2.127660</td>\n",
       "      <td>15.625000</td>\n",
       "      <td>0.000000</td>\n",
       "      <td>4.273504</td>\n",
       "      <td>3.773585</td>\n",
       "      <td>6.450072</td>\n",
       "      <td>9.72676</td>\n",
       "    </tr>\n",
       "    <tr>\n",
       "      <th>8</th>\n",
       "      <td>2009</td>\n",
       "      <td>83.146067</td>\n",
       "      <td>5.389222</td>\n",
       "      <td>5.084746</td>\n",
       "      <td>1.282051</td>\n",
       "      <td>5.415162</td>\n",
       "      <td>5.327869</td>\n",
       "      <td>7.065217</td>\n",
       "      <td>2.564103</td>\n",
       "      <td>11.538462</td>\n",
       "      <td>2.380952</td>\n",
       "      <td>12.213740</td>\n",
       "      <td>6.593407</td>\n",
       "      <td>10.212569</td>\n",
       "      <td>9.72676</td>\n",
       "    </tr>\n",
       "    <tr>\n",
       "      <th>9</th>\n",
       "      <td>2010</td>\n",
       "      <td>95.180723</td>\n",
       "      <td>5.523256</td>\n",
       "      <td>1.107011</td>\n",
       "      <td>2.857143</td>\n",
       "      <td>1.433692</td>\n",
       "      <td>4.291845</td>\n",
       "      <td>2.762431</td>\n",
       "      <td>2.222222</td>\n",
       "      <td>26.000000</td>\n",
       "      <td>0.000000</td>\n",
       "      <td>6.151142</td>\n",
       "      <td>15.740741</td>\n",
       "      <td>8.185362</td>\n",
       "      <td>9.72676</td>\n",
       "    </tr>\n",
       "    <tr>\n",
       "      <th>10</th>\n",
       "      <td>2011</td>\n",
       "      <td>87.234043</td>\n",
       "      <td>6.264501</td>\n",
       "      <td>2.334630</td>\n",
       "      <td>0.000000</td>\n",
       "      <td>1.748252</td>\n",
       "      <td>1.333333</td>\n",
       "      <td>4.812834</td>\n",
       "      <td>0.000000</td>\n",
       "      <td>29.411765</td>\n",
       "      <td>3.636364</td>\n",
       "      <td>3.538175</td>\n",
       "      <td>26.356589</td>\n",
       "      <td>8.379413</td>\n",
       "      <td>9.72676</td>\n",
       "    </tr>\n",
       "    <tr>\n",
       "      <th>11</th>\n",
       "      <td>2012</td>\n",
       "      <td>92.500000</td>\n",
       "      <td>17.506631</td>\n",
       "      <td>1.418440</td>\n",
       "      <td>0.000000</td>\n",
       "      <td>6.779661</td>\n",
       "      <td>3.913043</td>\n",
       "      <td>1.657459</td>\n",
       "      <td>4.761905</td>\n",
       "      <td>37.837838</td>\n",
       "      <td>1.666667</td>\n",
       "      <td>10.469314</td>\n",
       "      <td>7.339450</td>\n",
       "      <td>11.158983</td>\n",
       "      <td>9.72676</td>\n",
       "    </tr>\n",
       "    <tr>\n",
       "      <th>12</th>\n",
       "      <td>2013</td>\n",
       "      <td>81.481481</td>\n",
       "      <td>7.122507</td>\n",
       "      <td>6.405694</td>\n",
       "      <td>1.204819</td>\n",
       "      <td>5.405405</td>\n",
       "      <td>3.238866</td>\n",
       "      <td>1.923077</td>\n",
       "      <td>4.545455</td>\n",
       "      <td>27.777778</td>\n",
       "      <td>5.172414</td>\n",
       "      <td>5.325444</td>\n",
       "      <td>16.981132</td>\n",
       "      <td>8.827524</td>\n",
       "      <td>9.72676</td>\n",
       "    </tr>\n",
       "    <tr>\n",
       "      <th>13</th>\n",
       "      <td>2014</td>\n",
       "      <td>88.732394</td>\n",
       "      <td>5.974026</td>\n",
       "      <td>1.967213</td>\n",
       "      <td>1.818182</td>\n",
       "      <td>2.527076</td>\n",
       "      <td>1.951220</td>\n",
       "      <td>7.142857</td>\n",
       "      <td>0.000000</td>\n",
       "      <td>26.666667</td>\n",
       "      <td>22.619048</td>\n",
       "      <td>7.432432</td>\n",
       "      <td>13.821138</td>\n",
       "      <td>8.703000</td>\n",
       "      <td>9.72676</td>\n",
       "    </tr>\n",
       "    <tr>\n",
       "      <th>14</th>\n",
       "      <td>2015</td>\n",
       "      <td>93.939394</td>\n",
       "      <td>8.272506</td>\n",
       "      <td>12.741313</td>\n",
       "      <td>0.000000</td>\n",
       "      <td>4.729730</td>\n",
       "      <td>2.611940</td>\n",
       "      <td>4.166667</td>\n",
       "      <td>2.173913</td>\n",
       "      <td>19.354839</td>\n",
       "      <td>0.000000</td>\n",
       "      <td>7.945736</td>\n",
       "      <td>13.636364</td>\n",
       "      <td>9.347368</td>\n",
       "      <td>9.72676</td>\n",
       "    </tr>\n",
       "    <tr>\n",
       "      <th>15</th>\n",
       "      <td>2016</td>\n",
       "      <td>96.000000</td>\n",
       "      <td>8.997429</td>\n",
       "      <td>5.604720</td>\n",
       "      <td>1.298701</td>\n",
       "      <td>3.041825</td>\n",
       "      <td>5.147059</td>\n",
       "      <td>0.000000</td>\n",
       "      <td>2.439024</td>\n",
       "      <td>23.684211</td>\n",
       "      <td>0.847458</td>\n",
       "      <td>5.809859</td>\n",
       "      <td>19.827586</td>\n",
       "      <td>9.677419</td>\n",
       "      <td>9.72676</td>\n",
       "    </tr>\n",
       "    <tr>\n",
       "      <th>16</th>\n",
       "      <td>2017</td>\n",
       "      <td>91.549296</td>\n",
       "      <td>12.672176</td>\n",
       "      <td>3.202847</td>\n",
       "      <td>2.000000</td>\n",
       "      <td>1.600000</td>\n",
       "      <td>7.171315</td>\n",
       "      <td>3.664921</td>\n",
       "      <td>0.000000</td>\n",
       "      <td>25.000000</td>\n",
       "      <td>3.571429</td>\n",
       "      <td>12.500000</td>\n",
       "      <td>22.413793</td>\n",
       "      <td>11.011905</td>\n",
       "      <td>9.72676</td>\n",
       "    </tr>\n",
       "    <tr>\n",
       "      <th>17</th>\n",
       "      <td>2018</td>\n",
       "      <td>93.670886</td>\n",
       "      <td>11.557789</td>\n",
       "      <td>1.337793</td>\n",
       "      <td>0.000000</td>\n",
       "      <td>3.205128</td>\n",
       "      <td>6.437768</td>\n",
       "      <td>2.926829</td>\n",
       "      <td>3.125000</td>\n",
       "      <td>26.666667</td>\n",
       "      <td>2.777778</td>\n",
       "      <td>6.138934</td>\n",
       "      <td>13.513514</td>\n",
       "      <td>8.860250</td>\n",
       "      <td>9.72676</td>\n",
       "    </tr>\n",
       "    <tr>\n",
       "      <th>18</th>\n",
       "      <td>2019</td>\n",
       "      <td>93.055556</td>\n",
       "      <td>8.877285</td>\n",
       "      <td>3.071672</td>\n",
       "      <td>0.000000</td>\n",
       "      <td>4.491018</td>\n",
       "      <td>8.203125</td>\n",
       "      <td>5.202312</td>\n",
       "      <td>0.000000</td>\n",
       "      <td>28.205128</td>\n",
       "      <td>4.201681</td>\n",
       "      <td>11.377246</td>\n",
       "      <td>19.230769</td>\n",
       "      <td>10.437710</td>\n",
       "      <td>9.72676</td>\n",
       "    </tr>\n",
       "    <tr>\n",
       "      <th>19</th>\n",
       "      <td>2020</td>\n",
       "      <td>95.000000</td>\n",
       "      <td>8.955224</td>\n",
       "      <td>6.343284</td>\n",
       "      <td>1.923077</td>\n",
       "      <td>9.180328</td>\n",
       "      <td>4.910714</td>\n",
       "      <td>6.081081</td>\n",
       "      <td>0.000000</td>\n",
       "      <td>28.571429</td>\n",
       "      <td>4.123711</td>\n",
       "      <td>11.702128</td>\n",
       "      <td>10.256410</td>\n",
       "      <td>10.715979</td>\n",
       "      <td>9.72676</td>\n",
       "    </tr>\n",
       "    <tr>\n",
       "      <th>20</th>\n",
       "      <td>2021</td>\n",
       "      <td>95.370370</td>\n",
       "      <td>7.774799</td>\n",
       "      <td>5.844156</td>\n",
       "      <td>1.562500</td>\n",
       "      <td>4.923077</td>\n",
       "      <td>9.803922</td>\n",
       "      <td>2.116402</td>\n",
       "      <td>0.000000</td>\n",
       "      <td>17.241379</td>\n",
       "      <td>6.741573</td>\n",
       "      <td>11.111111</td>\n",
       "      <td>7.619048</td>\n",
       "      <td>11.102544</td>\n",
       "      <td>9.72676</td>\n",
       "    </tr>\n",
       "    <tr>\n",
       "      <th>21</th>\n",
       "      <td>2022</td>\n",
       "      <td>91.304348</td>\n",
       "      <td>15.123457</td>\n",
       "      <td>8.552632</td>\n",
       "      <td>2.222222</td>\n",
       "      <td>8.359133</td>\n",
       "      <td>10.502283</td>\n",
       "      <td>4.444444</td>\n",
       "      <td>2.040816</td>\n",
       "      <td>32.142857</td>\n",
       "      <td>5.128205</td>\n",
       "      <td>8.960573</td>\n",
       "      <td>6.224066</td>\n",
       "      <td>12.056452</td>\n",
       "      <td>9.72676</td>\n",
       "    </tr>\n",
       "    <tr>\n",
       "      <th>22</th>\n",
       "      <td>2023</td>\n",
       "      <td>95.945946</td>\n",
       "      <td>8.415842</td>\n",
       "      <td>7.657658</td>\n",
       "      <td>0.000000</td>\n",
       "      <td>10.280374</td>\n",
       "      <td>13.612565</td>\n",
       "      <td>8.653846</td>\n",
       "      <td>0.000000</td>\n",
       "      <td>40.000000</td>\n",
       "      <td>2.469136</td>\n",
       "      <td>12.442396</td>\n",
       "      <td>6.748466</td>\n",
       "      <td>13.452656</td>\n",
       "      <td>9.72676</td>\n",
       "    </tr>\n",
       "  </tbody>\n",
       "</table>\n",
       "</div>"
      ],
      "text/plain": [
       "    annee      Genre  Sociologie  Science politique  Economie   Histoire  \\\n",
       "0    2001  92.592593    4.242424           1.000000       NaN   2.614379   \n",
       "1    2002  91.228070    3.184713           4.678363  0.000000  11.351351   \n",
       "2    2003  83.333333    8.500000           3.141361  0.000000   1.704545   \n",
       "3    2004  95.522388    6.091371           2.427184  9.589041   3.191489   \n",
       "4    2005  89.855072    3.125000           2.515723  0.000000   4.232804   \n",
       "5    2006  93.827160    5.418719           7.647059  0.000000  10.695187   \n",
       "6    2007  90.625000   15.087719           4.184100  1.204819   3.781513   \n",
       "7    2008  91.044776    6.287425           1.968504  0.000000   3.396226   \n",
       "8    2009  83.146067    5.389222           5.084746  1.282051   5.415162   \n",
       "9    2010  95.180723    5.523256           1.107011  2.857143   1.433692   \n",
       "10   2011  87.234043    6.264501           2.334630  0.000000   1.748252   \n",
       "11   2012  92.500000   17.506631           1.418440  0.000000   6.779661   \n",
       "12   2013  81.481481    7.122507           6.405694  1.204819   5.405405   \n",
       "13   2014  88.732394    5.974026           1.967213  1.818182   2.527076   \n",
       "14   2015  93.939394    8.272506          12.741313  0.000000   4.729730   \n",
       "15   2016  96.000000    8.997429           5.604720  1.298701   3.041825   \n",
       "16   2017  91.549296   12.672176           3.202847  2.000000   1.600000   \n",
       "17   2018  93.670886   11.557789           1.337793  0.000000   3.205128   \n",
       "18   2019  93.055556    8.877285           3.071672  0.000000   4.491018   \n",
       "19   2020  95.000000    8.955224           6.343284  1.923077   9.180328   \n",
       "20   2021  95.370370    7.774799           5.844156  1.562500   4.923077   \n",
       "21   2022  91.304348   15.123457           8.552632  2.222222   8.359133   \n",
       "22   2023  95.945946    8.415842           7.657658  0.000000  10.280374   \n",
       "\n",
       "       Aréale       SIC  Géographie  Démographie   Économie  \\\n",
       "0    3.571429  3.448276    0.000000    25.000000   0.000000   \n",
       "1    4.109589  0.000000    0.000000    24.000000   3.333333   \n",
       "2    2.739726  7.586207    0.000000    26.086957   0.000000   \n",
       "3    7.377049  2.469136    0.000000    15.000000   0.000000   \n",
       "4    1.923077  5.384615    0.000000    29.411765   0.000000   \n",
       "5    1.307190  1.388889    0.000000    23.809524   0.000000   \n",
       "6    5.035971  1.574803    2.702703    30.555556   1.030928   \n",
       "7    2.688172  2.352941    2.127660    15.625000   0.000000   \n",
       "8    5.327869  7.065217    2.564103    11.538462   2.380952   \n",
       "9    4.291845  2.762431    2.222222    26.000000   0.000000   \n",
       "10   1.333333  4.812834    0.000000    29.411765   3.636364   \n",
       "11   3.913043  1.657459    4.761905    37.837838   1.666667   \n",
       "12   3.238866  1.923077    4.545455    27.777778   5.172414   \n",
       "13   1.951220  7.142857    0.000000    26.666667  22.619048   \n",
       "14   2.611940  4.166667    2.173913    19.354839   0.000000   \n",
       "15   5.147059  0.000000    2.439024    23.684211   0.847458   \n",
       "16   7.171315  3.664921    0.000000    25.000000   3.571429   \n",
       "17   6.437768  2.926829    3.125000    26.666667   2.777778   \n",
       "18   8.203125  5.202312    0.000000    28.205128   4.201681   \n",
       "19   4.910714  6.081081    0.000000    28.571429   4.123711   \n",
       "20   9.803922  2.116402    0.000000    17.241379   6.741573   \n",
       "21  10.502283  4.444444    2.040816    32.142857   5.128205   \n",
       "22  13.612565  8.653846    0.000000    40.000000   2.469136   \n",
       "\n",
       "    Autre interdisciplinaire  Anthropologie     Toutes  Toutes sauf Genre  \n",
       "0                   0.588235       8.750000   7.601185            9.72676  \n",
       "1                   8.108108       7.317073  10.254163            9.72676  \n",
       "2                   6.719368       7.594937   9.318996            9.72676  \n",
       "3                   3.448276       5.681818   8.311518            9.72676  \n",
       "4                   9.489051      17.241379   9.650259            9.72676  \n",
       "5                   5.894309       8.602151   9.512894            9.72676  \n",
       "6                   6.488550       4.629630   9.205867            9.72676  \n",
       "7                   4.273504       3.773585   6.450072            9.72676  \n",
       "8                  12.213740       6.593407  10.212569            9.72676  \n",
       "9                   6.151142      15.740741   8.185362            9.72676  \n",
       "10                  3.538175      26.356589   8.379413            9.72676  \n",
       "11                 10.469314       7.339450  11.158983            9.72676  \n",
       "12                  5.325444      16.981132   8.827524            9.72676  \n",
       "13                  7.432432      13.821138   8.703000            9.72676  \n",
       "14                  7.945736      13.636364   9.347368            9.72676  \n",
       "15                  5.809859      19.827586   9.677419            9.72676  \n",
       "16                 12.500000      22.413793  11.011905            9.72676  \n",
       "17                  6.138934      13.513514   8.860250            9.72676  \n",
       "18                 11.377246      19.230769  10.437710            9.72676  \n",
       "19                 11.702128      10.256410  10.715979            9.72676  \n",
       "20                 11.111111       7.619048  11.102544            9.72676  \n",
       "21                  8.960573       6.224066  12.056452            9.72676  \n",
       "22                 12.442396       6.748466  13.452656            9.72676  "
      ]
     },
     "execution_count": 65,
     "metadata": {},
     "output_type": "execute_result"
    }
   ],
   "source": [
    "dfPlot = pd.DataFrame(dfPlot)\n",
    "dfPlot"
   ]
  },
  {
   "cell_type": "markdown",
   "metadata": {},
   "source": [
    "# Plotting"
   ]
  },
  {
   "cell_type": "code",
   "execution_count": 68,
   "metadata": {},
   "outputs": [],
   "source": [
    "toute_discipline = list(set(dfPlot.columns) - set(['annee']))\n",
    "fig = px.line(\n",
    "    dfPlot,\n",
    "    x = 'annee', y = toute_discipline,\n",
    "    # color = 'Discipline',\n",
    "    # labels = {\n",
    "    #         'y' : 'Dominante de la revue',\n",
    "    #     }\n",
    ")"
   ]
  },
  {
   "cell_type": "code",
   "execution_count": 69,
   "metadata": {},
   "outputs": [
    {
     "data": {
      "application/vnd.plotly.v1+json": {
       "config": {
        "plotlyServerURL": "https://plot.ly"
       },
       "data": [
        {
         "hovertemplate": "variable=Genre<br>annee=%{x}<br>value=%{y}<extra></extra>",
         "legendgroup": "Genre",
         "line": {
          "color": "#636efa",
          "dash": "solid"
         },
         "marker": {
          "symbol": "circle"
         },
         "mode": "lines",
         "name": "Genre",
         "orientation": "v",
         "showlegend": true,
         "type": "scatter",
         "x": [
          2001,
          2002,
          2003,
          2004,
          2005,
          2006,
          2007,
          2008,
          2009,
          2010,
          2011,
          2012,
          2013,
          2014,
          2015,
          2016,
          2017,
          2018,
          2019,
          2020,
          2021,
          2022,
          2023
         ],
         "xaxis": "x",
         "y": [
          92.5925925925926,
          91.22807017543859,
          83.33333333333334,
          95.52238805970148,
          89.85507246376811,
          93.82716049382715,
          90.625,
          91.04477611940298,
          83.14606741573034,
          95.18072289156626,
          87.2340425531915,
          92.5,
          81.48148148148148,
          88.73239436619718,
          93.93939393939394,
          96,
          91.54929577464789,
          93.67088607594937,
          93.05555555555556,
          95,
          95.37037037037037,
          91.30434782608695,
          95.94594594594594
         ],
         "yaxis": "y"
        },
        {
         "hovertemplate": "variable=Sociologie<br>annee=%{x}<br>value=%{y}<extra></extra>",
         "legendgroup": "Sociologie",
         "line": {
          "color": "#EF553B",
          "dash": "solid"
         },
         "marker": {
          "symbol": "circle"
         },
         "mode": "lines",
         "name": "Sociologie",
         "orientation": "v",
         "showlegend": true,
         "type": "scatter",
         "x": [
          2001,
          2002,
          2003,
          2004,
          2005,
          2006,
          2007,
          2008,
          2009,
          2010,
          2011,
          2012,
          2013,
          2014,
          2015,
          2016,
          2017,
          2018,
          2019,
          2020,
          2021,
          2022,
          2023
         ],
         "xaxis": "x",
         "y": [
          4.242424242424243,
          3.1847133757961785,
          8.5,
          6.091370558375635,
          3.125,
          5.41871921182266,
          15.087719298245613,
          6.287425149700598,
          5.389221556886228,
          5.523255813953488,
          6.2645011600928076,
          17.50663129973475,
          7.122507122507122,
          5.974025974025974,
          8.27250608272506,
          8.997429305912597,
          12.672176308539946,
          11.557788944723619,
          8.87728459530026,
          8.955223880597014,
          7.774798927613941,
          15.123456790123457,
          8.415841584158416
         ],
         "yaxis": "y"
        },
        {
         "hovertemplate": "variable=Science politique<br>annee=%{x}<br>value=%{y}<extra></extra>",
         "legendgroup": "Science politique",
         "line": {
          "color": "#00cc96",
          "dash": "solid"
         },
         "marker": {
          "symbol": "circle"
         },
         "mode": "lines",
         "name": "Science politique",
         "orientation": "v",
         "showlegend": true,
         "type": "scatter",
         "x": [
          2001,
          2002,
          2003,
          2004,
          2005,
          2006,
          2007,
          2008,
          2009,
          2010,
          2011,
          2012,
          2013,
          2014,
          2015,
          2016,
          2017,
          2018,
          2019,
          2020,
          2021,
          2022,
          2023
         ],
         "xaxis": "x",
         "y": [
          1,
          4.678362573099415,
          3.1413612565445024,
          2.4271844660194173,
          2.515723270440252,
          7.647058823529412,
          4.184100418410042,
          1.968503937007874,
          5.084745762711865,
          1.107011070110701,
          2.3346303501945527,
          1.4184397163120568,
          6.405693950177936,
          1.9672131147540985,
          12.741312741312742,
          5.604719764011799,
          3.202846975088968,
          1.3377926421404682,
          3.0716723549488054,
          6.343283582089552,
          5.844155844155844,
          8.552631578947368,
          7.657657657657657
         ],
         "yaxis": "y"
        },
        {
         "hovertemplate": "variable=Economie<br>annee=%{x}<br>value=%{y}<extra></extra>",
         "legendgroup": "Economie",
         "line": {
          "color": "#ab63fa",
          "dash": "solid"
         },
         "marker": {
          "symbol": "circle"
         },
         "mode": "lines",
         "name": "Economie",
         "orientation": "v",
         "showlegend": true,
         "type": "scatter",
         "x": [
          2001,
          2002,
          2003,
          2004,
          2005,
          2006,
          2007,
          2008,
          2009,
          2010,
          2011,
          2012,
          2013,
          2014,
          2015,
          2016,
          2017,
          2018,
          2019,
          2020,
          2021,
          2022,
          2023
         ],
         "xaxis": "x",
         "y": [
          null,
          0,
          0,
          9.58904109589041,
          0,
          0,
          1.2048192771084338,
          0,
          1.282051282051282,
          2.857142857142857,
          0,
          0,
          1.2048192771084338,
          1.8181818181818181,
          0,
          1.2987012987012987,
          2,
          0,
          0,
          1.9230769230769231,
          1.5625,
          2.2222222222222223,
          0
         ],
         "yaxis": "y"
        },
        {
         "hovertemplate": "variable=Histoire<br>annee=%{x}<br>value=%{y}<extra></extra>",
         "legendgroup": "Histoire",
         "line": {
          "color": "#FFA15A",
          "dash": "solid"
         },
         "marker": {
          "symbol": "circle"
         },
         "mode": "lines",
         "name": "Histoire",
         "orientation": "v",
         "showlegend": true,
         "type": "scatter",
         "x": [
          2001,
          2002,
          2003,
          2004,
          2005,
          2006,
          2007,
          2008,
          2009,
          2010,
          2011,
          2012,
          2013,
          2014,
          2015,
          2016,
          2017,
          2018,
          2019,
          2020,
          2021,
          2022,
          2023
         ],
         "xaxis": "x",
         "y": [
          2.6143790849673203,
          11.351351351351353,
          1.7045454545454544,
          3.1914893617021276,
          4.232804232804233,
          10.695187165775401,
          3.7815126050420167,
          3.3962264150943398,
          5.415162454873646,
          1.4336917562724014,
          1.7482517482517483,
          6.779661016949152,
          5.405405405405405,
          2.527075812274368,
          4.72972972972973,
          3.041825095057034,
          1.6,
          3.205128205128205,
          4.491017964071856,
          9.180327868852459,
          4.923076923076923,
          8.359133126934983,
          10.2803738317757
         ],
         "yaxis": "y"
        },
        {
         "hovertemplate": "variable=Aréale<br>annee=%{x}<br>value=%{y}<extra></extra>",
         "legendgroup": "Aréale",
         "line": {
          "color": "#19d3f3",
          "dash": "solid"
         },
         "marker": {
          "symbol": "circle"
         },
         "mode": "lines",
         "name": "Aréale",
         "orientation": "v",
         "showlegend": true,
         "type": "scatter",
         "x": [
          2001,
          2002,
          2003,
          2004,
          2005,
          2006,
          2007,
          2008,
          2009,
          2010,
          2011,
          2012,
          2013,
          2014,
          2015,
          2016,
          2017,
          2018,
          2019,
          2020,
          2021,
          2022,
          2023
         ],
         "xaxis": "x",
         "y": [
          3.571428571428571,
          4.10958904109589,
          2.73972602739726,
          7.377049180327869,
          1.9230769230769231,
          1.3071895424836601,
          5.0359712230215825,
          2.6881720430107525,
          5.327868852459016,
          4.291845493562231,
          1.3333333333333335,
          3.91304347826087,
          3.2388663967611335,
          1.951219512195122,
          2.6119402985074625,
          5.147058823529411,
          7.171314741035857,
          6.437768240343347,
          8.203125,
          4.910714285714286,
          9.803921568627452,
          10.50228310502283,
          13.612565445026178
         ],
         "yaxis": "y"
        },
        {
         "hovertemplate": "variable=Toutes sauf Genre<br>annee=%{x}<br>value=%{y}<extra></extra>",
         "legendgroup": "Toutes sauf Genre",
         "line": {
          "color": "#FF6692",
          "dash": "solid"
         },
         "marker": {
          "symbol": "circle"
         },
         "mode": "lines",
         "name": "Toutes sauf Genre",
         "orientation": "v",
         "showlegend": true,
         "type": "scatter",
         "x": [
          2001,
          2002,
          2003,
          2004,
          2005,
          2006,
          2007,
          2008,
          2009,
          2010,
          2011,
          2012,
          2013,
          2014,
          2015,
          2016,
          2017,
          2018,
          2019,
          2020,
          2021,
          2022,
          2023
         ],
         "xaxis": "x",
         "y": [
          9.726759726759726,
          9.726759726759726,
          9.726759726759726,
          9.726759726759726,
          9.726759726759726,
          9.726759726759726,
          9.726759726759726,
          9.726759726759726,
          9.726759726759726,
          9.726759726759726,
          9.726759726759726,
          9.726759726759726,
          9.726759726759726,
          9.726759726759726,
          9.726759726759726,
          9.726759726759726,
          9.726759726759726,
          9.726759726759726,
          9.726759726759726,
          9.726759726759726,
          9.726759726759726,
          9.726759726759726,
          9.726759726759726
         ],
         "yaxis": "y"
        },
        {
         "hovertemplate": "variable=SIC<br>annee=%{x}<br>value=%{y}<extra></extra>",
         "legendgroup": "SIC",
         "line": {
          "color": "#B6E880",
          "dash": "solid"
         },
         "marker": {
          "symbol": "circle"
         },
         "mode": "lines",
         "name": "SIC",
         "orientation": "v",
         "showlegend": true,
         "type": "scatter",
         "x": [
          2001,
          2002,
          2003,
          2004,
          2005,
          2006,
          2007,
          2008,
          2009,
          2010,
          2011,
          2012,
          2013,
          2014,
          2015,
          2016,
          2017,
          2018,
          2019,
          2020,
          2021,
          2022,
          2023
         ],
         "xaxis": "x",
         "y": [
          3.4482758620689653,
          0,
          7.586206896551724,
          2.4691358024691357,
          5.384615384615385,
          1.3888888888888888,
          1.574803149606299,
          2.3529411764705883,
          7.065217391304348,
          2.7624309392265194,
          4.81283422459893,
          1.6574585635359116,
          1.9230769230769231,
          7.142857142857142,
          4.166666666666666,
          0,
          3.664921465968586,
          2.9268292682926833,
          5.202312138728324,
          6.081081081081082,
          2.1164021164021163,
          4.444444444444445,
          8.653846153846153
         ],
         "yaxis": "y"
        },
        {
         "hovertemplate": "variable=Géographie<br>annee=%{x}<br>value=%{y}<extra></extra>",
         "legendgroup": "Géographie",
         "line": {
          "color": "#FF97FF",
          "dash": "solid"
         },
         "marker": {
          "symbol": "circle"
         },
         "mode": "lines",
         "name": "Géographie",
         "orientation": "v",
         "showlegend": true,
         "type": "scatter",
         "x": [
          2001,
          2002,
          2003,
          2004,
          2005,
          2006,
          2007,
          2008,
          2009,
          2010,
          2011,
          2012,
          2013,
          2014,
          2015,
          2016,
          2017,
          2018,
          2019,
          2020,
          2021,
          2022,
          2023
         ],
         "xaxis": "x",
         "y": [
          0,
          0,
          0,
          0,
          0,
          0,
          2.7027027027027026,
          2.127659574468085,
          2.564102564102564,
          2.2222222222222223,
          0,
          4.761904761904762,
          4.545454545454546,
          0,
          2.1739130434782608,
          2.4390243902439024,
          0,
          3.125,
          0,
          0,
          0,
          2.0408163265306123,
          0
         ],
         "yaxis": "y"
        },
        {
         "hovertemplate": "variable=Démographie<br>annee=%{x}<br>value=%{y}<extra></extra>",
         "legendgroup": "Démographie",
         "line": {
          "color": "#FECB52",
          "dash": "solid"
         },
         "marker": {
          "symbol": "circle"
         },
         "mode": "lines",
         "name": "Démographie",
         "orientation": "v",
         "showlegend": true,
         "type": "scatter",
         "x": [
          2001,
          2002,
          2003,
          2004,
          2005,
          2006,
          2007,
          2008,
          2009,
          2010,
          2011,
          2012,
          2013,
          2014,
          2015,
          2016,
          2017,
          2018,
          2019,
          2020,
          2021,
          2022,
          2023
         ],
         "xaxis": "x",
         "y": [
          25,
          24,
          26.08695652173913,
          15,
          29.411764705882355,
          23.809523809523807,
          30.555555555555557,
          15.625,
          11.538461538461538,
          26,
          29.411764705882355,
          37.83783783783784,
          27.77777777777778,
          26.666666666666668,
          19.35483870967742,
          23.684210526315788,
          25,
          26.666666666666668,
          28.205128205128204,
          28.57142857142857,
          17.24137931034483,
          32.142857142857146,
          40
         ],
         "yaxis": "y"
        },
        {
         "hovertemplate": "variable=Économie<br>annee=%{x}<br>value=%{y}<extra></extra>",
         "legendgroup": "Économie",
         "line": {
          "color": "#636efa",
          "dash": "solid"
         },
         "marker": {
          "symbol": "circle"
         },
         "mode": "lines",
         "name": "Économie",
         "orientation": "v",
         "showlegend": true,
         "type": "scatter",
         "x": [
          2001,
          2002,
          2003,
          2004,
          2005,
          2006,
          2007,
          2008,
          2009,
          2010,
          2011,
          2012,
          2013,
          2014,
          2015,
          2016,
          2017,
          2018,
          2019,
          2020,
          2021,
          2022,
          2023
         ],
         "xaxis": "x",
         "y": [
          0,
          3.3333333333333335,
          0,
          0,
          0,
          0,
          1.0309278350515463,
          0,
          2.380952380952381,
          0,
          3.6363636363636362,
          1.6666666666666667,
          5.172413793103448,
          22.61904761904762,
          0,
          0.847457627118644,
          3.571428571428571,
          2.7777777777777777,
          4.201680672268908,
          4.123711340206185,
          6.741573033707865,
          5.128205128205128,
          2.4691358024691357
         ],
         "yaxis": "y"
        },
        {
         "hovertemplate": "variable=Toutes<br>annee=%{x}<br>value=%{y}<extra></extra>",
         "legendgroup": "Toutes",
         "line": {
          "color": "#EF553B",
          "dash": "solid"
         },
         "marker": {
          "symbol": "circle"
         },
         "mode": "lines",
         "name": "Toutes",
         "orientation": "v",
         "showlegend": true,
         "type": "scatter",
         "x": [
          2001,
          2002,
          2003,
          2004,
          2005,
          2006,
          2007,
          2008,
          2009,
          2010,
          2011,
          2012,
          2013,
          2014,
          2015,
          2016,
          2017,
          2018,
          2019,
          2020,
          2021,
          2022,
          2023
         ],
         "xaxis": "x",
         "y": [
          7.601184600197433,
          10.254163014899213,
          9.31899641577061,
          8.311518324607329,
          9.650259067357512,
          9.512893982808022,
          9.205867475973697,
          6.4500716674629714,
          10.21256931608133,
          8.185361628410567,
          8.379413015737985,
          11.15898319689789,
          8.82752376641014,
          8.702999577524292,
          9.347368421052632,
          9.67741935483871,
          11.011904761904761,
          8.860249697946033,
          10.437710437710438,
          10.715979137031768,
          11.10254433307633,
          12.056451612903226,
          13.452655889145495
         ],
         "yaxis": "y"
        },
        {
         "hovertemplate": "variable=Autre interdisciplinaire<br>annee=%{x}<br>value=%{y}<extra></extra>",
         "legendgroup": "Autre interdisciplinaire",
         "line": {
          "color": "#00cc96",
          "dash": "solid"
         },
         "marker": {
          "symbol": "circle"
         },
         "mode": "lines",
         "name": "Autre interdisciplinaire",
         "orientation": "v",
         "showlegend": true,
         "type": "scatter",
         "x": [
          2001,
          2002,
          2003,
          2004,
          2005,
          2006,
          2007,
          2008,
          2009,
          2010,
          2011,
          2012,
          2013,
          2014,
          2015,
          2016,
          2017,
          2018,
          2019,
          2020,
          2021,
          2022,
          2023
         ],
         "xaxis": "x",
         "y": [
          0.5882352941176471,
          8.108108108108109,
          6.719367588932807,
          3.4482758620689653,
          9.48905109489051,
          5.894308943089431,
          6.488549618320611,
          4.273504273504273,
          12.213740458015266,
          6.151142355008787,
          3.5381750465549344,
          10.469314079422382,
          5.325443786982249,
          7.4324324324324325,
          7.945736434108527,
          5.809859154929577,
          12.5,
          6.138933764135703,
          11.377245508982035,
          11.702127659574469,
          11.11111111111111,
          8.960573476702509,
          12.442396313364055
         ],
         "yaxis": "y"
        },
        {
         "hovertemplate": "variable=Anthropologie<br>annee=%{x}<br>value=%{y}<extra></extra>",
         "legendgroup": "Anthropologie",
         "line": {
          "color": "#ab63fa",
          "dash": "solid"
         },
         "marker": {
          "symbol": "circle"
         },
         "mode": "lines",
         "name": "Anthropologie",
         "orientation": "v",
         "showlegend": true,
         "type": "scatter",
         "x": [
          2001,
          2002,
          2003,
          2004,
          2005,
          2006,
          2007,
          2008,
          2009,
          2010,
          2011,
          2012,
          2013,
          2014,
          2015,
          2016,
          2017,
          2018,
          2019,
          2020,
          2021,
          2022,
          2023
         ],
         "xaxis": "x",
         "y": [
          8.75,
          7.317073170731707,
          7.59493670886076,
          5.681818181818182,
          17.24137931034483,
          8.60215053763441,
          4.62962962962963,
          3.7735849056603774,
          6.593406593406594,
          15.74074074074074,
          26.356589147286826,
          7.339449541284404,
          16.9811320754717,
          13.821138211382115,
          13.636363636363635,
          19.82758620689655,
          22.413793103448278,
          13.513513513513514,
          19.230769230769234,
          10.256410256410255,
          7.6190476190476195,
          6.224066390041494,
          6.748466257668712
         ],
         "yaxis": "y"
        }
       ],
       "layout": {
        "legend": {
         "title": {
          "text": "variable"
         },
         "tracegroupgap": 0
        },
        "margin": {
         "t": 60
        },
        "template": {
         "data": {
          "bar": [
           {
            "error_x": {
             "color": "#2a3f5f"
            },
            "error_y": {
             "color": "#2a3f5f"
            },
            "marker": {
             "line": {
              "color": "#E5ECF6",
              "width": 0.5
             },
             "pattern": {
              "fillmode": "overlay",
              "size": 10,
              "solidity": 0.2
             }
            },
            "type": "bar"
           }
          ],
          "barpolar": [
           {
            "marker": {
             "line": {
              "color": "#E5ECF6",
              "width": 0.5
             },
             "pattern": {
              "fillmode": "overlay",
              "size": 10,
              "solidity": 0.2
             }
            },
            "type": "barpolar"
           }
          ],
          "carpet": [
           {
            "aaxis": {
             "endlinecolor": "#2a3f5f",
             "gridcolor": "white",
             "linecolor": "white",
             "minorgridcolor": "white",
             "startlinecolor": "#2a3f5f"
            },
            "baxis": {
             "endlinecolor": "#2a3f5f",
             "gridcolor": "white",
             "linecolor": "white",
             "minorgridcolor": "white",
             "startlinecolor": "#2a3f5f"
            },
            "type": "carpet"
           }
          ],
          "choropleth": [
           {
            "colorbar": {
             "outlinewidth": 0,
             "ticks": ""
            },
            "type": "choropleth"
           }
          ],
          "contour": [
           {
            "colorbar": {
             "outlinewidth": 0,
             "ticks": ""
            },
            "colorscale": [
             [
              0,
              "#0d0887"
             ],
             [
              0.1111111111111111,
              "#46039f"
             ],
             [
              0.2222222222222222,
              "#7201a8"
             ],
             [
              0.3333333333333333,
              "#9c179e"
             ],
             [
              0.4444444444444444,
              "#bd3786"
             ],
             [
              0.5555555555555556,
              "#d8576b"
             ],
             [
              0.6666666666666666,
              "#ed7953"
             ],
             [
              0.7777777777777778,
              "#fb9f3a"
             ],
             [
              0.8888888888888888,
              "#fdca26"
             ],
             [
              1,
              "#f0f921"
             ]
            ],
            "type": "contour"
           }
          ],
          "contourcarpet": [
           {
            "colorbar": {
             "outlinewidth": 0,
             "ticks": ""
            },
            "type": "contourcarpet"
           }
          ],
          "heatmap": [
           {
            "colorbar": {
             "outlinewidth": 0,
             "ticks": ""
            },
            "colorscale": [
             [
              0,
              "#0d0887"
             ],
             [
              0.1111111111111111,
              "#46039f"
             ],
             [
              0.2222222222222222,
              "#7201a8"
             ],
             [
              0.3333333333333333,
              "#9c179e"
             ],
             [
              0.4444444444444444,
              "#bd3786"
             ],
             [
              0.5555555555555556,
              "#d8576b"
             ],
             [
              0.6666666666666666,
              "#ed7953"
             ],
             [
              0.7777777777777778,
              "#fb9f3a"
             ],
             [
              0.8888888888888888,
              "#fdca26"
             ],
             [
              1,
              "#f0f921"
             ]
            ],
            "type": "heatmap"
           }
          ],
          "heatmapgl": [
           {
            "colorbar": {
             "outlinewidth": 0,
             "ticks": ""
            },
            "colorscale": [
             [
              0,
              "#0d0887"
             ],
             [
              0.1111111111111111,
              "#46039f"
             ],
             [
              0.2222222222222222,
              "#7201a8"
             ],
             [
              0.3333333333333333,
              "#9c179e"
             ],
             [
              0.4444444444444444,
              "#bd3786"
             ],
             [
              0.5555555555555556,
              "#d8576b"
             ],
             [
              0.6666666666666666,
              "#ed7953"
             ],
             [
              0.7777777777777778,
              "#fb9f3a"
             ],
             [
              0.8888888888888888,
              "#fdca26"
             ],
             [
              1,
              "#f0f921"
             ]
            ],
            "type": "heatmapgl"
           }
          ],
          "histogram": [
           {
            "marker": {
             "pattern": {
              "fillmode": "overlay",
              "size": 10,
              "solidity": 0.2
             }
            },
            "type": "histogram"
           }
          ],
          "histogram2d": [
           {
            "colorbar": {
             "outlinewidth": 0,
             "ticks": ""
            },
            "colorscale": [
             [
              0,
              "#0d0887"
             ],
             [
              0.1111111111111111,
              "#46039f"
             ],
             [
              0.2222222222222222,
              "#7201a8"
             ],
             [
              0.3333333333333333,
              "#9c179e"
             ],
             [
              0.4444444444444444,
              "#bd3786"
             ],
             [
              0.5555555555555556,
              "#d8576b"
             ],
             [
              0.6666666666666666,
              "#ed7953"
             ],
             [
              0.7777777777777778,
              "#fb9f3a"
             ],
             [
              0.8888888888888888,
              "#fdca26"
             ],
             [
              1,
              "#f0f921"
             ]
            ],
            "type": "histogram2d"
           }
          ],
          "histogram2dcontour": [
           {
            "colorbar": {
             "outlinewidth": 0,
             "ticks": ""
            },
            "colorscale": [
             [
              0,
              "#0d0887"
             ],
             [
              0.1111111111111111,
              "#46039f"
             ],
             [
              0.2222222222222222,
              "#7201a8"
             ],
             [
              0.3333333333333333,
              "#9c179e"
             ],
             [
              0.4444444444444444,
              "#bd3786"
             ],
             [
              0.5555555555555556,
              "#d8576b"
             ],
             [
              0.6666666666666666,
              "#ed7953"
             ],
             [
              0.7777777777777778,
              "#fb9f3a"
             ],
             [
              0.8888888888888888,
              "#fdca26"
             ],
             [
              1,
              "#f0f921"
             ]
            ],
            "type": "histogram2dcontour"
           }
          ],
          "mesh3d": [
           {
            "colorbar": {
             "outlinewidth": 0,
             "ticks": ""
            },
            "type": "mesh3d"
           }
          ],
          "parcoords": [
           {
            "line": {
             "colorbar": {
              "outlinewidth": 0,
              "ticks": ""
             }
            },
            "type": "parcoords"
           }
          ],
          "pie": [
           {
            "automargin": true,
            "type": "pie"
           }
          ],
          "scatter": [
           {
            "fillpattern": {
             "fillmode": "overlay",
             "size": 10,
             "solidity": 0.2
            },
            "type": "scatter"
           }
          ],
          "scatter3d": [
           {
            "line": {
             "colorbar": {
              "outlinewidth": 0,
              "ticks": ""
             }
            },
            "marker": {
             "colorbar": {
              "outlinewidth": 0,
              "ticks": ""
             }
            },
            "type": "scatter3d"
           }
          ],
          "scattercarpet": [
           {
            "marker": {
             "colorbar": {
              "outlinewidth": 0,
              "ticks": ""
             }
            },
            "type": "scattercarpet"
           }
          ],
          "scattergeo": [
           {
            "marker": {
             "colorbar": {
              "outlinewidth": 0,
              "ticks": ""
             }
            },
            "type": "scattergeo"
           }
          ],
          "scattergl": [
           {
            "marker": {
             "colorbar": {
              "outlinewidth": 0,
              "ticks": ""
             }
            },
            "type": "scattergl"
           }
          ],
          "scattermapbox": [
           {
            "marker": {
             "colorbar": {
              "outlinewidth": 0,
              "ticks": ""
             }
            },
            "type": "scattermapbox"
           }
          ],
          "scatterpolar": [
           {
            "marker": {
             "colorbar": {
              "outlinewidth": 0,
              "ticks": ""
             }
            },
            "type": "scatterpolar"
           }
          ],
          "scatterpolargl": [
           {
            "marker": {
             "colorbar": {
              "outlinewidth": 0,
              "ticks": ""
             }
            },
            "type": "scatterpolargl"
           }
          ],
          "scatterternary": [
           {
            "marker": {
             "colorbar": {
              "outlinewidth": 0,
              "ticks": ""
             }
            },
            "type": "scatterternary"
           }
          ],
          "surface": [
           {
            "colorbar": {
             "outlinewidth": 0,
             "ticks": ""
            },
            "colorscale": [
             [
              0,
              "#0d0887"
             ],
             [
              0.1111111111111111,
              "#46039f"
             ],
             [
              0.2222222222222222,
              "#7201a8"
             ],
             [
              0.3333333333333333,
              "#9c179e"
             ],
             [
              0.4444444444444444,
              "#bd3786"
             ],
             [
              0.5555555555555556,
              "#d8576b"
             ],
             [
              0.6666666666666666,
              "#ed7953"
             ],
             [
              0.7777777777777778,
              "#fb9f3a"
             ],
             [
              0.8888888888888888,
              "#fdca26"
             ],
             [
              1,
              "#f0f921"
             ]
            ],
            "type": "surface"
           }
          ],
          "table": [
           {
            "cells": {
             "fill": {
              "color": "#EBF0F8"
             },
             "line": {
              "color": "white"
             }
            },
            "header": {
             "fill": {
              "color": "#C8D4E3"
             },
             "line": {
              "color": "white"
             }
            },
            "type": "table"
           }
          ]
         },
         "layout": {
          "annotationdefaults": {
           "arrowcolor": "#2a3f5f",
           "arrowhead": 0,
           "arrowwidth": 1
          },
          "autotypenumbers": "strict",
          "coloraxis": {
           "colorbar": {
            "outlinewidth": 0,
            "ticks": ""
           }
          },
          "colorscale": {
           "diverging": [
            [
             0,
             "#8e0152"
            ],
            [
             0.1,
             "#c51b7d"
            ],
            [
             0.2,
             "#de77ae"
            ],
            [
             0.3,
             "#f1b6da"
            ],
            [
             0.4,
             "#fde0ef"
            ],
            [
             0.5,
             "#f7f7f7"
            ],
            [
             0.6,
             "#e6f5d0"
            ],
            [
             0.7,
             "#b8e186"
            ],
            [
             0.8,
             "#7fbc41"
            ],
            [
             0.9,
             "#4d9221"
            ],
            [
             1,
             "#276419"
            ]
           ],
           "sequential": [
            [
             0,
             "#0d0887"
            ],
            [
             0.1111111111111111,
             "#46039f"
            ],
            [
             0.2222222222222222,
             "#7201a8"
            ],
            [
             0.3333333333333333,
             "#9c179e"
            ],
            [
             0.4444444444444444,
             "#bd3786"
            ],
            [
             0.5555555555555556,
             "#d8576b"
            ],
            [
             0.6666666666666666,
             "#ed7953"
            ],
            [
             0.7777777777777778,
             "#fb9f3a"
            ],
            [
             0.8888888888888888,
             "#fdca26"
            ],
            [
             1,
             "#f0f921"
            ]
           ],
           "sequentialminus": [
            [
             0,
             "#0d0887"
            ],
            [
             0.1111111111111111,
             "#46039f"
            ],
            [
             0.2222222222222222,
             "#7201a8"
            ],
            [
             0.3333333333333333,
             "#9c179e"
            ],
            [
             0.4444444444444444,
             "#bd3786"
            ],
            [
             0.5555555555555556,
             "#d8576b"
            ],
            [
             0.6666666666666666,
             "#ed7953"
            ],
            [
             0.7777777777777778,
             "#fb9f3a"
            ],
            [
             0.8888888888888888,
             "#fdca26"
            ],
            [
             1,
             "#f0f921"
            ]
           ]
          },
          "colorway": [
           "#636efa",
           "#EF553B",
           "#00cc96",
           "#ab63fa",
           "#FFA15A",
           "#19d3f3",
           "#FF6692",
           "#B6E880",
           "#FF97FF",
           "#FECB52"
          ],
          "font": {
           "color": "#2a3f5f"
          },
          "geo": {
           "bgcolor": "white",
           "lakecolor": "white",
           "landcolor": "#E5ECF6",
           "showlakes": true,
           "showland": true,
           "subunitcolor": "white"
          },
          "hoverlabel": {
           "align": "left"
          },
          "hovermode": "closest",
          "mapbox": {
           "style": "light"
          },
          "paper_bgcolor": "white",
          "plot_bgcolor": "#E5ECF6",
          "polar": {
           "angularaxis": {
            "gridcolor": "white",
            "linecolor": "white",
            "ticks": ""
           },
           "bgcolor": "#E5ECF6",
           "radialaxis": {
            "gridcolor": "white",
            "linecolor": "white",
            "ticks": ""
           }
          },
          "scene": {
           "xaxis": {
            "backgroundcolor": "#E5ECF6",
            "gridcolor": "white",
            "gridwidth": 2,
            "linecolor": "white",
            "showbackground": true,
            "ticks": "",
            "zerolinecolor": "white"
           },
           "yaxis": {
            "backgroundcolor": "#E5ECF6",
            "gridcolor": "white",
            "gridwidth": 2,
            "linecolor": "white",
            "showbackground": true,
            "ticks": "",
            "zerolinecolor": "white"
           },
           "zaxis": {
            "backgroundcolor": "#E5ECF6",
            "gridcolor": "white",
            "gridwidth": 2,
            "linecolor": "white",
            "showbackground": true,
            "ticks": "",
            "zerolinecolor": "white"
           }
          },
          "shapedefaults": {
           "line": {
            "color": "#2a3f5f"
           }
          },
          "ternary": {
           "aaxis": {
            "gridcolor": "white",
            "linecolor": "white",
            "ticks": ""
           },
           "baxis": {
            "gridcolor": "white",
            "linecolor": "white",
            "ticks": ""
           },
           "bgcolor": "#E5ECF6",
           "caxis": {
            "gridcolor": "white",
            "linecolor": "white",
            "ticks": ""
           }
          },
          "title": {
           "x": 0.05
          },
          "xaxis": {
           "automargin": true,
           "gridcolor": "white",
           "linecolor": "white",
           "ticks": "",
           "title": {
            "standoff": 15
           },
           "zerolinecolor": "white",
           "zerolinewidth": 2
          },
          "yaxis": {
           "automargin": true,
           "gridcolor": "white",
           "linecolor": "white",
           "ticks": "",
           "title": {
            "standoff": 15
           },
           "zerolinecolor": "white",
           "zerolinewidth": 2
          }
         }
        },
        "xaxis": {
         "anchor": "y",
         "domain": [
          0,
          1
         ],
         "title": {
          "text": "annee"
         }
        },
        "yaxis": {
         "anchor": "x",
         "domain": [
          0,
          1
         ],
         "title": {
          "text": "value"
         }
        }
       }
      }
     },
     "metadata": {},
     "output_type": "display_data"
    }
   ],
   "source": [
    "# Default parameters\n",
    "fig"
   ]
  },
  {
   "cell_type": "markdown",
   "metadata": {},
   "source": [
    "### Customisation"
   ]
  },
  {
   "cell_type": "code",
   "execution_count": 70,
   "metadata": {},
   "outputs": [
    {
     "name": "stdout",
     "output_type": "stream",
     "text": [
      "This is the format of your plot grid:\n",
      "[ (1,1) x,y               -        ]  [ (1,3) x2,y2   ]\n",
      "[ (2,1) x3,y3   ]  [ (2,2) x4,y4   ]  [ (2,3) x5,y5   ]\n",
      "[ (3,1) x6,y6   ]  [ (3,2) x7,y7   ]  [ (3,3) x8,y8   ]\n",
      "[ (4,1) x9,y9   ]  [ (4,2) x10,y10 ]  [ (4,3) x11,y11 ]\n",
      "[ (5,1) x12,y12 ]  [ (5,2) x13,y13 ]  [ (5,3) x14,y14 ]\n",
      "\n"
     ]
    }
   ],
   "source": [
    "# all_direction_pad = \n",
    "# Facetting\n",
    "fig = make_subplots(\n",
    "    rows=5, cols=3,\n",
    "    specs=[\n",
    "              [{\"colspan\": 2}, None , {}],\n",
    "              [{},{},{}],\n",
    "              [{},{},{}],\n",
    "              [{},{},{}],\n",
    "              [{},{},{}],\n",
    "           ],\n",
    "    subplot_titles=(\n",
    "       \"Général\",\"\",\"Science Politique\",\"Sociologie\",\"Genre\",\"Anthropologie\",\n",
    "       \"Histoire\", \"Démographie\", \"Économie\",\"SIC\", \"Géographie\", \"Aréales\", \n",
    "       \"Autre interdisciplinaire\"),\n",
    "\n",
    "       shared_xaxes = 'rows',\n",
    "       shared_yaxes = 'rows',\n",
    "       print_grid = True,\n",
    "\n",
    "       x_title = 'Année de publication',\n",
    "       y_title = 'Part des articles qui invoquent le concept du genre'\n",
    ")\n",
    "\n",
    "# Setting title and axis names\n",
    "fig = fig.update_layout(dict(\n",
    "    title = dict(\n",
    "            text = (\"Évolution de la proportion d'articles publiés invoquant le \"\n",
    "                    \"thème du genre (def extensive et statistique)\"),\n",
    "             automargin = True, \n",
    "             pad = dict(t = 10, b = 10 , r = 10, l = 10)),\n",
    "    width = 1150, height = 700\n",
    "))"
   ]
  },
  {
   "cell_type": "code",
   "execution_count": 71,
   "metadata": {},
   "outputs": [],
   "source": [
    "all_categories = [\n",
    "    'Science politique',\n",
    "    'Sociologie'\t,\n",
    "    'Anthropologie'\t,\n",
    "    'Histoire'\t,\n",
    "    'Autre interdisciplinaire'\t,\n",
    "    'Démographie',\n",
    "    'Economie',\n",
    "    'SIC'\t,\n",
    "    'Géographie'\t,\n",
    "    'Aréale']\n",
    "\n",
    "\n",
    "def add_traces_to_subplot(fig : goFigure, df : pd.DataFrame,\n",
    "                          x : str, columns : list[str], names : list[str],\n",
    "                          colours : list[str],\n",
    "                          row : int, col : int, \n",
    "                          reorder : bool = False) -> None:\n",
    "    if reorder: \n",
    "        # UPGRADE create a new way of ordering, for now we only add the traces\n",
    "        # so that the colors are on top of the grey ones\n",
    "        # in a very not nice way either\n",
    "        df_temp = pd.DataFrame({\n",
    "            \"colours\" : colours, 'names' : names, 'columns' : columns\n",
    "        })\n",
    "        df_temp_grey = df_temp.loc[\n",
    "            df_temp['colours'] == 'rgba(200,200,200,80)',:]\n",
    "        df_temp_not_grey = df_temp.loc[\n",
    "            df_temp['colours'] != 'rgba(200,200,200,80)',:]\n",
    "        \n",
    "        colours = list(df_temp_grey['colours']) + list(df_temp_not_grey['colours'])\n",
    "        names   = list(df_temp_grey['names'] )+ list(df_temp_not_grey['names'])\n",
    "        columns = list(df_temp_grey['columns']) + list(df_temp_not_grey['columns'])\n",
    "                       \n",
    "    for column, name,colour in zip(columns,names, colours):\n",
    "        fig.add_trace(\n",
    "            go.Scatter( \n",
    "                x = df[x], y = df[column], name = name,mode = \"lines\",\n",
    "                line = dict(color = colour)\n",
    "                ),\n",
    "            row = row, col = col\n",
    "            )\n",
    "\n",
    "\n",
    "def greying(\n",
    "        n : int,new_color : int = \"blue\",\n",
    "        N : int = len(all_categories)) -> list[str]: \n",
    "    grey = [\"rgba(200,200,200,80)\"] * N\n",
    "    grey[n] = new_color\n",
    "    return grey\n",
    "\n",
    "# TOP\n",
    "add_traces_to_subplot(\n",
    "    fig, dfPlot, x = 'annee',\n",
    "    columns = ['Toutes', 'Genre', 'Toutes sauf Genre'],\n",
    "    names = [\"Toutes les disciplines\", \"Études de Genre\", \n",
    "             \"Toutes les disciplines sauf Études de Genre\"],\n",
    "    colours = [\"red\",\"blue\",\"green\"],\n",
    "    row = 1, col = 1\n",
    ")\n",
    "\n",
    "# Science Politique\n",
    "add_traces_to_subplot(\n",
    "    fig, dfPlot, x = 'annee',\n",
    "    columns = ['Toutes'] + all_categories ,\n",
    "    names = [\"\"] * (len(all_categories) + 1),\n",
    "    colours = [\"red\"] + greying(0),\n",
    "    row = 2, col = 1, reorder = True\n",
    ")\n",
    "\n",
    "# Sociologie\n",
    "add_traces_to_subplot(\n",
    "    fig, dfPlot, x = 'annee',\n",
    "    columns = ['Toutes'] + all_categories ,\n",
    "    names = [\"\"] * (len(all_categories) + 1),\n",
    "    colours = [\"red\"] + greying(1),\n",
    "    row = 2, col = 2, reorder = True\n",
    ")\n",
    "\n",
    "# Anthropologie\n",
    "add_traces_to_subplot(\n",
    "    fig, dfPlot, x = 'annee',\n",
    "    columns = ['Toutes'] + all_categories ,\n",
    "    names = [\"\"] * (len(all_categories) + 1),\n",
    "    colours = [\"red\"] + greying(2),\n",
    "    row = 3, col = 1, reorder = True\n",
    ")\n",
    "\n",
    "# Histoire\n",
    "add_traces_to_subplot(\n",
    "    fig, dfPlot, x = 'annee',\n",
    "    columns = ['Toutes'] + all_categories ,\n",
    "    names = [\"\"] * (len(all_categories) + 1),\n",
    "    colours = [\"red\"] + greying(3),\n",
    "    row = 3, col = 2, reorder = True\n",
    ")\n",
    "\n",
    "# Démographie\n",
    "add_traces_to_subplot(\n",
    "    fig, dfPlot, x = 'annee',\n",
    "    columns = ['Toutes'] + all_categories ,\n",
    "    names = [\"\"] * (len(all_categories) + 1),\n",
    "    colours = [\"red\"] + greying(5),\n",
    "    row = 3, col = 3, reorder = True\n",
    ")\n",
    "\n",
    "# Economie\n",
    "add_traces_to_subplot(\n",
    "    fig, dfPlot, x = 'annee',\n",
    "    columns = ['Toutes'] + all_categories ,\n",
    "    names = [\"\"] * (len(all_categories) + 1),\n",
    "    colours = [\"red\"] + greying(6),\n",
    "    row = 4, col = 1, reorder = True\n",
    ")\n",
    "\n",
    "#SIC\n",
    "add_traces_to_subplot(\n",
    "    fig, dfPlot, x = 'annee',\n",
    "    columns = ['Toutes'] + all_categories ,\n",
    "    names = [\"\"] * (len(all_categories) + 1),\n",
    "    colours = [\"red\"] + greying(7),\n",
    "    row = 4, col = 2, reorder = True\n",
    ")\n",
    "\n",
    "#Géographie\n",
    "add_traces_to_subplot(\n",
    "    fig, dfPlot, x = 'annee',\n",
    "    columns = ['Toutes'] + all_categories ,\n",
    "    names = [\"\"] * (len(all_categories) + 1),\n",
    "    colours = [\"red\"] + greying(8),\n",
    "    row = 4, col = 3, reorder = True\n",
    ")\n",
    "\n",
    "# Aréales\n",
    "add_traces_to_subplot(\n",
    "    fig, dfPlot, x = 'annee',\n",
    "    columns = ['Toutes'] + all_categories ,\n",
    "    names = [\"\"] * (len(all_categories) + 1),\n",
    "    colours = [\"red\"] + greying(9),\n",
    "    row = 5, col = 1, reorder = True\n",
    ")\n",
    "\n",
    "# Autres\n",
    "add_traces_to_subplot(\n",
    "    fig, dfPlot, x = 'annee',\n",
    "    columns = ['Toutes'] + all_categories ,\n",
    "    names = [\"\"] * (len(all_categories) + 1),\n",
    "    colours = [\"red\"] + greying(4),\n",
    "    row = 5, col = 2, reorder = True\n",
    ")\n",
    "\n"
   ]
  },
  {
   "cell_type": "code",
   "execution_count": 74,
   "metadata": {},
   "outputs": [
    {
     "data": {
      "application/vnd.plotly.v1+json": {
       "config": {
        "plotlyServerURL": "https://plot.ly"
       },
       "data": [
        {
         "line": {
          "color": "red"
         },
         "mode": "lines",
         "name": "Toutes les disciplines",
         "type": "scatter",
         "x": [
          2001,
          2002,
          2003,
          2004,
          2005,
          2006,
          2007,
          2008,
          2009,
          2010,
          2011,
          2012,
          2013,
          2014,
          2015,
          2016,
          2017,
          2018,
          2019,
          2020,
          2021,
          2022,
          2023
         ],
         "xaxis": "x",
         "y": [
          7.601184600197433,
          10.254163014899213,
          9.31899641577061,
          8.311518324607329,
          9.650259067357512,
          9.512893982808022,
          9.205867475973697,
          6.4500716674629714,
          10.21256931608133,
          8.185361628410567,
          8.379413015737985,
          11.15898319689789,
          8.82752376641014,
          8.702999577524292,
          9.347368421052632,
          9.67741935483871,
          11.011904761904761,
          8.860249697946033,
          10.437710437710438,
          10.715979137031768,
          11.10254433307633,
          12.056451612903226,
          13.452655889145495
         ],
         "yaxis": "y"
        },
        {
         "line": {
          "color": "blue"
         },
         "mode": "lines",
         "name": "Études de Genre",
         "type": "scatter",
         "x": [
          2001,
          2002,
          2003,
          2004,
          2005,
          2006,
          2007,
          2008,
          2009,
          2010,
          2011,
          2012,
          2013,
          2014,
          2015,
          2016,
          2017,
          2018,
          2019,
          2020,
          2021,
          2022,
          2023
         ],
         "xaxis": "x",
         "y": [
          92.5925925925926,
          91.22807017543859,
          83.33333333333334,
          95.52238805970148,
          89.85507246376811,
          93.82716049382715,
          90.625,
          91.04477611940298,
          83.14606741573034,
          95.18072289156626,
          87.2340425531915,
          92.5,
          81.48148148148148,
          88.73239436619718,
          93.93939393939394,
          96,
          91.54929577464789,
          93.67088607594937,
          93.05555555555556,
          95,
          95.37037037037037,
          91.30434782608695,
          95.94594594594594
         ],
         "yaxis": "y"
        },
        {
         "line": {
          "color": "green"
         },
         "mode": "lines",
         "name": "Toutes les disciplines sauf Études de Genre",
         "type": "scatter",
         "x": [
          2001,
          2002,
          2003,
          2004,
          2005,
          2006,
          2007,
          2008,
          2009,
          2010,
          2011,
          2012,
          2013,
          2014,
          2015,
          2016,
          2017,
          2018,
          2019,
          2020,
          2021,
          2022,
          2023
         ],
         "xaxis": "x",
         "y": [
          9.726759726759726,
          9.726759726759726,
          9.726759726759726,
          9.726759726759726,
          9.726759726759726,
          9.726759726759726,
          9.726759726759726,
          9.726759726759726,
          9.726759726759726,
          9.726759726759726,
          9.726759726759726,
          9.726759726759726,
          9.726759726759726,
          9.726759726759726,
          9.726759726759726,
          9.726759726759726,
          9.726759726759726,
          9.726759726759726,
          9.726759726759726,
          9.726759726759726,
          9.726759726759726,
          9.726759726759726,
          9.726759726759726
         ],
         "yaxis": "y"
        },
        {
         "line": {
          "color": "rgba(200,200,200,80)"
         },
         "mode": "lines",
         "name": "",
         "type": "scatter",
         "x": [
          2001,
          2002,
          2003,
          2004,
          2005,
          2006,
          2007,
          2008,
          2009,
          2010,
          2011,
          2012,
          2013,
          2014,
          2015,
          2016,
          2017,
          2018,
          2019,
          2020,
          2021,
          2022,
          2023
         ],
         "xaxis": "x3",
         "y": [
          4.242424242424243,
          3.1847133757961785,
          8.5,
          6.091370558375635,
          3.125,
          5.41871921182266,
          15.087719298245613,
          6.287425149700598,
          5.389221556886228,
          5.523255813953488,
          6.2645011600928076,
          17.50663129973475,
          7.122507122507122,
          5.974025974025974,
          8.27250608272506,
          8.997429305912597,
          12.672176308539946,
          11.557788944723619,
          8.87728459530026,
          8.955223880597014,
          7.774798927613941,
          15.123456790123457,
          8.415841584158416
         ],
         "yaxis": "y3"
        },
        {
         "line": {
          "color": "rgba(200,200,200,80)"
         },
         "mode": "lines",
         "name": "",
         "type": "scatter",
         "x": [
          2001,
          2002,
          2003,
          2004,
          2005,
          2006,
          2007,
          2008,
          2009,
          2010,
          2011,
          2012,
          2013,
          2014,
          2015,
          2016,
          2017,
          2018,
          2019,
          2020,
          2021,
          2022,
          2023
         ],
         "xaxis": "x3",
         "y": [
          8.75,
          7.317073170731707,
          7.59493670886076,
          5.681818181818182,
          17.24137931034483,
          8.60215053763441,
          4.62962962962963,
          3.7735849056603774,
          6.593406593406594,
          15.74074074074074,
          26.356589147286826,
          7.339449541284404,
          16.9811320754717,
          13.821138211382115,
          13.636363636363635,
          19.82758620689655,
          22.413793103448278,
          13.513513513513514,
          19.230769230769234,
          10.256410256410255,
          7.6190476190476195,
          6.224066390041494,
          6.748466257668712
         ],
         "yaxis": "y3"
        },
        {
         "line": {
          "color": "rgba(200,200,200,80)"
         },
         "mode": "lines",
         "name": "",
         "type": "scatter",
         "x": [
          2001,
          2002,
          2003,
          2004,
          2005,
          2006,
          2007,
          2008,
          2009,
          2010,
          2011,
          2012,
          2013,
          2014,
          2015,
          2016,
          2017,
          2018,
          2019,
          2020,
          2021,
          2022,
          2023
         ],
         "xaxis": "x3",
         "y": [
          2.6143790849673203,
          11.351351351351353,
          1.7045454545454544,
          3.1914893617021276,
          4.232804232804233,
          10.695187165775401,
          3.7815126050420167,
          3.3962264150943398,
          5.415162454873646,
          1.4336917562724014,
          1.7482517482517483,
          6.779661016949152,
          5.405405405405405,
          2.527075812274368,
          4.72972972972973,
          3.041825095057034,
          1.6,
          3.205128205128205,
          4.491017964071856,
          9.180327868852459,
          4.923076923076923,
          8.359133126934983,
          10.2803738317757
         ],
         "yaxis": "y3"
        },
        {
         "line": {
          "color": "rgba(200,200,200,80)"
         },
         "mode": "lines",
         "name": "",
         "type": "scatter",
         "x": [
          2001,
          2002,
          2003,
          2004,
          2005,
          2006,
          2007,
          2008,
          2009,
          2010,
          2011,
          2012,
          2013,
          2014,
          2015,
          2016,
          2017,
          2018,
          2019,
          2020,
          2021,
          2022,
          2023
         ],
         "xaxis": "x3",
         "y": [
          0.5882352941176471,
          8.108108108108109,
          6.719367588932807,
          3.4482758620689653,
          9.48905109489051,
          5.894308943089431,
          6.488549618320611,
          4.273504273504273,
          12.213740458015266,
          6.151142355008787,
          3.5381750465549344,
          10.469314079422382,
          5.325443786982249,
          7.4324324324324325,
          7.945736434108527,
          5.809859154929577,
          12.5,
          6.138933764135703,
          11.377245508982035,
          11.702127659574469,
          11.11111111111111,
          8.960573476702509,
          12.442396313364055
         ],
         "yaxis": "y3"
        },
        {
         "line": {
          "color": "rgba(200,200,200,80)"
         },
         "mode": "lines",
         "name": "",
         "type": "scatter",
         "x": [
          2001,
          2002,
          2003,
          2004,
          2005,
          2006,
          2007,
          2008,
          2009,
          2010,
          2011,
          2012,
          2013,
          2014,
          2015,
          2016,
          2017,
          2018,
          2019,
          2020,
          2021,
          2022,
          2023
         ],
         "xaxis": "x3",
         "y": [
          25,
          24,
          26.08695652173913,
          15,
          29.411764705882355,
          23.809523809523807,
          30.555555555555557,
          15.625,
          11.538461538461538,
          26,
          29.411764705882355,
          37.83783783783784,
          27.77777777777778,
          26.666666666666668,
          19.35483870967742,
          23.684210526315788,
          25,
          26.666666666666668,
          28.205128205128204,
          28.57142857142857,
          17.24137931034483,
          32.142857142857146,
          40
         ],
         "yaxis": "y3"
        },
        {
         "line": {
          "color": "rgba(200,200,200,80)"
         },
         "mode": "lines",
         "name": "",
         "type": "scatter",
         "x": [
          2001,
          2002,
          2003,
          2004,
          2005,
          2006,
          2007,
          2008,
          2009,
          2010,
          2011,
          2012,
          2013,
          2014,
          2015,
          2016,
          2017,
          2018,
          2019,
          2020,
          2021,
          2022,
          2023
         ],
         "xaxis": "x3",
         "y": [
          null,
          0,
          0,
          9.58904109589041,
          0,
          0,
          1.2048192771084338,
          0,
          1.282051282051282,
          2.857142857142857,
          0,
          0,
          1.2048192771084338,
          1.8181818181818181,
          0,
          1.2987012987012987,
          2,
          0,
          0,
          1.9230769230769231,
          1.5625,
          2.2222222222222223,
          0
         ],
         "yaxis": "y3"
        },
        {
         "line": {
          "color": "rgba(200,200,200,80)"
         },
         "mode": "lines",
         "name": "",
         "type": "scatter",
         "x": [
          2001,
          2002,
          2003,
          2004,
          2005,
          2006,
          2007,
          2008,
          2009,
          2010,
          2011,
          2012,
          2013,
          2014,
          2015,
          2016,
          2017,
          2018,
          2019,
          2020,
          2021,
          2022,
          2023
         ],
         "xaxis": "x3",
         "y": [
          3.4482758620689653,
          0,
          7.586206896551724,
          2.4691358024691357,
          5.384615384615385,
          1.3888888888888888,
          1.574803149606299,
          2.3529411764705883,
          7.065217391304348,
          2.7624309392265194,
          4.81283422459893,
          1.6574585635359116,
          1.9230769230769231,
          7.142857142857142,
          4.166666666666666,
          0,
          3.664921465968586,
          2.9268292682926833,
          5.202312138728324,
          6.081081081081082,
          2.1164021164021163,
          4.444444444444445,
          8.653846153846153
         ],
         "yaxis": "y3"
        },
        {
         "line": {
          "color": "rgba(200,200,200,80)"
         },
         "mode": "lines",
         "name": "",
         "type": "scatter",
         "x": [
          2001,
          2002,
          2003,
          2004,
          2005,
          2006,
          2007,
          2008,
          2009,
          2010,
          2011,
          2012,
          2013,
          2014,
          2015,
          2016,
          2017,
          2018,
          2019,
          2020,
          2021,
          2022,
          2023
         ],
         "xaxis": "x3",
         "y": [
          0,
          0,
          0,
          0,
          0,
          0,
          2.7027027027027026,
          2.127659574468085,
          2.564102564102564,
          2.2222222222222223,
          0,
          4.761904761904762,
          4.545454545454546,
          0,
          2.1739130434782608,
          2.4390243902439024,
          0,
          3.125,
          0,
          0,
          0,
          2.0408163265306123,
          0
         ],
         "yaxis": "y3"
        },
        {
         "line": {
          "color": "rgba(200,200,200,80)"
         },
         "mode": "lines",
         "name": "",
         "type": "scatter",
         "x": [
          2001,
          2002,
          2003,
          2004,
          2005,
          2006,
          2007,
          2008,
          2009,
          2010,
          2011,
          2012,
          2013,
          2014,
          2015,
          2016,
          2017,
          2018,
          2019,
          2020,
          2021,
          2022,
          2023
         ],
         "xaxis": "x3",
         "y": [
          3.571428571428571,
          4.10958904109589,
          2.73972602739726,
          7.377049180327869,
          1.9230769230769231,
          1.3071895424836601,
          5.0359712230215825,
          2.6881720430107525,
          5.327868852459016,
          4.291845493562231,
          1.3333333333333335,
          3.91304347826087,
          3.2388663967611335,
          1.951219512195122,
          2.6119402985074625,
          5.147058823529411,
          7.171314741035857,
          6.437768240343347,
          8.203125,
          4.910714285714286,
          9.803921568627452,
          10.50228310502283,
          13.612565445026178
         ],
         "yaxis": "y3"
        },
        {
         "line": {
          "color": "red"
         },
         "mode": "lines",
         "name": "",
         "type": "scatter",
         "x": [
          2001,
          2002,
          2003,
          2004,
          2005,
          2006,
          2007,
          2008,
          2009,
          2010,
          2011,
          2012,
          2013,
          2014,
          2015,
          2016,
          2017,
          2018,
          2019,
          2020,
          2021,
          2022,
          2023
         ],
         "xaxis": "x3",
         "y": [
          7.601184600197433,
          10.254163014899213,
          9.31899641577061,
          8.311518324607329,
          9.650259067357512,
          9.512893982808022,
          9.205867475973697,
          6.4500716674629714,
          10.21256931608133,
          8.185361628410567,
          8.379413015737985,
          11.15898319689789,
          8.82752376641014,
          8.702999577524292,
          9.347368421052632,
          9.67741935483871,
          11.011904761904761,
          8.860249697946033,
          10.437710437710438,
          10.715979137031768,
          11.10254433307633,
          12.056451612903226,
          13.452655889145495
         ],
         "yaxis": "y3"
        },
        {
         "line": {
          "color": "blue"
         },
         "mode": "lines",
         "name": "",
         "type": "scatter",
         "x": [
          2001,
          2002,
          2003,
          2004,
          2005,
          2006,
          2007,
          2008,
          2009,
          2010,
          2011,
          2012,
          2013,
          2014,
          2015,
          2016,
          2017,
          2018,
          2019,
          2020,
          2021,
          2022,
          2023
         ],
         "xaxis": "x3",
         "y": [
          1,
          4.678362573099415,
          3.1413612565445024,
          2.4271844660194173,
          2.515723270440252,
          7.647058823529412,
          4.184100418410042,
          1.968503937007874,
          5.084745762711865,
          1.107011070110701,
          2.3346303501945527,
          1.4184397163120568,
          6.405693950177936,
          1.9672131147540985,
          12.741312741312742,
          5.604719764011799,
          3.202846975088968,
          1.3377926421404682,
          3.0716723549488054,
          6.343283582089552,
          5.844155844155844,
          8.552631578947368,
          7.657657657657657
         ],
         "yaxis": "y3"
        },
        {
         "line": {
          "color": "rgba(200,200,200,80)"
         },
         "mode": "lines",
         "name": "",
         "type": "scatter",
         "x": [
          2001,
          2002,
          2003,
          2004,
          2005,
          2006,
          2007,
          2008,
          2009,
          2010,
          2011,
          2012,
          2013,
          2014,
          2015,
          2016,
          2017,
          2018,
          2019,
          2020,
          2021,
          2022,
          2023
         ],
         "xaxis": "x4",
         "y": [
          1,
          4.678362573099415,
          3.1413612565445024,
          2.4271844660194173,
          2.515723270440252,
          7.647058823529412,
          4.184100418410042,
          1.968503937007874,
          5.084745762711865,
          1.107011070110701,
          2.3346303501945527,
          1.4184397163120568,
          6.405693950177936,
          1.9672131147540985,
          12.741312741312742,
          5.604719764011799,
          3.202846975088968,
          1.3377926421404682,
          3.0716723549488054,
          6.343283582089552,
          5.844155844155844,
          8.552631578947368,
          7.657657657657657
         ],
         "yaxis": "y4"
        },
        {
         "line": {
          "color": "rgba(200,200,200,80)"
         },
         "mode": "lines",
         "name": "",
         "type": "scatter",
         "x": [
          2001,
          2002,
          2003,
          2004,
          2005,
          2006,
          2007,
          2008,
          2009,
          2010,
          2011,
          2012,
          2013,
          2014,
          2015,
          2016,
          2017,
          2018,
          2019,
          2020,
          2021,
          2022,
          2023
         ],
         "xaxis": "x4",
         "y": [
          8.75,
          7.317073170731707,
          7.59493670886076,
          5.681818181818182,
          17.24137931034483,
          8.60215053763441,
          4.62962962962963,
          3.7735849056603774,
          6.593406593406594,
          15.74074074074074,
          26.356589147286826,
          7.339449541284404,
          16.9811320754717,
          13.821138211382115,
          13.636363636363635,
          19.82758620689655,
          22.413793103448278,
          13.513513513513514,
          19.230769230769234,
          10.256410256410255,
          7.6190476190476195,
          6.224066390041494,
          6.748466257668712
         ],
         "yaxis": "y4"
        },
        {
         "line": {
          "color": "rgba(200,200,200,80)"
         },
         "mode": "lines",
         "name": "",
         "type": "scatter",
         "x": [
          2001,
          2002,
          2003,
          2004,
          2005,
          2006,
          2007,
          2008,
          2009,
          2010,
          2011,
          2012,
          2013,
          2014,
          2015,
          2016,
          2017,
          2018,
          2019,
          2020,
          2021,
          2022,
          2023
         ],
         "xaxis": "x4",
         "y": [
          2.6143790849673203,
          11.351351351351353,
          1.7045454545454544,
          3.1914893617021276,
          4.232804232804233,
          10.695187165775401,
          3.7815126050420167,
          3.3962264150943398,
          5.415162454873646,
          1.4336917562724014,
          1.7482517482517483,
          6.779661016949152,
          5.405405405405405,
          2.527075812274368,
          4.72972972972973,
          3.041825095057034,
          1.6,
          3.205128205128205,
          4.491017964071856,
          9.180327868852459,
          4.923076923076923,
          8.359133126934983,
          10.2803738317757
         ],
         "yaxis": "y4"
        },
        {
         "line": {
          "color": "rgba(200,200,200,80)"
         },
         "mode": "lines",
         "name": "",
         "type": "scatter",
         "x": [
          2001,
          2002,
          2003,
          2004,
          2005,
          2006,
          2007,
          2008,
          2009,
          2010,
          2011,
          2012,
          2013,
          2014,
          2015,
          2016,
          2017,
          2018,
          2019,
          2020,
          2021,
          2022,
          2023
         ],
         "xaxis": "x4",
         "y": [
          0.5882352941176471,
          8.108108108108109,
          6.719367588932807,
          3.4482758620689653,
          9.48905109489051,
          5.894308943089431,
          6.488549618320611,
          4.273504273504273,
          12.213740458015266,
          6.151142355008787,
          3.5381750465549344,
          10.469314079422382,
          5.325443786982249,
          7.4324324324324325,
          7.945736434108527,
          5.809859154929577,
          12.5,
          6.138933764135703,
          11.377245508982035,
          11.702127659574469,
          11.11111111111111,
          8.960573476702509,
          12.442396313364055
         ],
         "yaxis": "y4"
        },
        {
         "line": {
          "color": "rgba(200,200,200,80)"
         },
         "mode": "lines",
         "name": "",
         "type": "scatter",
         "x": [
          2001,
          2002,
          2003,
          2004,
          2005,
          2006,
          2007,
          2008,
          2009,
          2010,
          2011,
          2012,
          2013,
          2014,
          2015,
          2016,
          2017,
          2018,
          2019,
          2020,
          2021,
          2022,
          2023
         ],
         "xaxis": "x4",
         "y": [
          25,
          24,
          26.08695652173913,
          15,
          29.411764705882355,
          23.809523809523807,
          30.555555555555557,
          15.625,
          11.538461538461538,
          26,
          29.411764705882355,
          37.83783783783784,
          27.77777777777778,
          26.666666666666668,
          19.35483870967742,
          23.684210526315788,
          25,
          26.666666666666668,
          28.205128205128204,
          28.57142857142857,
          17.24137931034483,
          32.142857142857146,
          40
         ],
         "yaxis": "y4"
        },
        {
         "line": {
          "color": "rgba(200,200,200,80)"
         },
         "mode": "lines",
         "name": "",
         "type": "scatter",
         "x": [
          2001,
          2002,
          2003,
          2004,
          2005,
          2006,
          2007,
          2008,
          2009,
          2010,
          2011,
          2012,
          2013,
          2014,
          2015,
          2016,
          2017,
          2018,
          2019,
          2020,
          2021,
          2022,
          2023
         ],
         "xaxis": "x4",
         "y": [
          null,
          0,
          0,
          9.58904109589041,
          0,
          0,
          1.2048192771084338,
          0,
          1.282051282051282,
          2.857142857142857,
          0,
          0,
          1.2048192771084338,
          1.8181818181818181,
          0,
          1.2987012987012987,
          2,
          0,
          0,
          1.9230769230769231,
          1.5625,
          2.2222222222222223,
          0
         ],
         "yaxis": "y4"
        },
        {
         "line": {
          "color": "rgba(200,200,200,80)"
         },
         "mode": "lines",
         "name": "",
         "type": "scatter",
         "x": [
          2001,
          2002,
          2003,
          2004,
          2005,
          2006,
          2007,
          2008,
          2009,
          2010,
          2011,
          2012,
          2013,
          2014,
          2015,
          2016,
          2017,
          2018,
          2019,
          2020,
          2021,
          2022,
          2023
         ],
         "xaxis": "x4",
         "y": [
          3.4482758620689653,
          0,
          7.586206896551724,
          2.4691358024691357,
          5.384615384615385,
          1.3888888888888888,
          1.574803149606299,
          2.3529411764705883,
          7.065217391304348,
          2.7624309392265194,
          4.81283422459893,
          1.6574585635359116,
          1.9230769230769231,
          7.142857142857142,
          4.166666666666666,
          0,
          3.664921465968586,
          2.9268292682926833,
          5.202312138728324,
          6.081081081081082,
          2.1164021164021163,
          4.444444444444445,
          8.653846153846153
         ],
         "yaxis": "y4"
        },
        {
         "line": {
          "color": "rgba(200,200,200,80)"
         },
         "mode": "lines",
         "name": "",
         "type": "scatter",
         "x": [
          2001,
          2002,
          2003,
          2004,
          2005,
          2006,
          2007,
          2008,
          2009,
          2010,
          2011,
          2012,
          2013,
          2014,
          2015,
          2016,
          2017,
          2018,
          2019,
          2020,
          2021,
          2022,
          2023
         ],
         "xaxis": "x4",
         "y": [
          0,
          0,
          0,
          0,
          0,
          0,
          2.7027027027027026,
          2.127659574468085,
          2.564102564102564,
          2.2222222222222223,
          0,
          4.761904761904762,
          4.545454545454546,
          0,
          2.1739130434782608,
          2.4390243902439024,
          0,
          3.125,
          0,
          0,
          0,
          2.0408163265306123,
          0
         ],
         "yaxis": "y4"
        },
        {
         "line": {
          "color": "rgba(200,200,200,80)"
         },
         "mode": "lines",
         "name": "",
         "type": "scatter",
         "x": [
          2001,
          2002,
          2003,
          2004,
          2005,
          2006,
          2007,
          2008,
          2009,
          2010,
          2011,
          2012,
          2013,
          2014,
          2015,
          2016,
          2017,
          2018,
          2019,
          2020,
          2021,
          2022,
          2023
         ],
         "xaxis": "x4",
         "y": [
          3.571428571428571,
          4.10958904109589,
          2.73972602739726,
          7.377049180327869,
          1.9230769230769231,
          1.3071895424836601,
          5.0359712230215825,
          2.6881720430107525,
          5.327868852459016,
          4.291845493562231,
          1.3333333333333335,
          3.91304347826087,
          3.2388663967611335,
          1.951219512195122,
          2.6119402985074625,
          5.147058823529411,
          7.171314741035857,
          6.437768240343347,
          8.203125,
          4.910714285714286,
          9.803921568627452,
          10.50228310502283,
          13.612565445026178
         ],
         "yaxis": "y4"
        },
        {
         "line": {
          "color": "red"
         },
         "mode": "lines",
         "name": "",
         "type": "scatter",
         "x": [
          2001,
          2002,
          2003,
          2004,
          2005,
          2006,
          2007,
          2008,
          2009,
          2010,
          2011,
          2012,
          2013,
          2014,
          2015,
          2016,
          2017,
          2018,
          2019,
          2020,
          2021,
          2022,
          2023
         ],
         "xaxis": "x4",
         "y": [
          7.601184600197433,
          10.254163014899213,
          9.31899641577061,
          8.311518324607329,
          9.650259067357512,
          9.512893982808022,
          9.205867475973697,
          6.4500716674629714,
          10.21256931608133,
          8.185361628410567,
          8.379413015737985,
          11.15898319689789,
          8.82752376641014,
          8.702999577524292,
          9.347368421052632,
          9.67741935483871,
          11.011904761904761,
          8.860249697946033,
          10.437710437710438,
          10.715979137031768,
          11.10254433307633,
          12.056451612903226,
          13.452655889145495
         ],
         "yaxis": "y4"
        },
        {
         "line": {
          "color": "blue"
         },
         "mode": "lines",
         "name": "",
         "type": "scatter",
         "x": [
          2001,
          2002,
          2003,
          2004,
          2005,
          2006,
          2007,
          2008,
          2009,
          2010,
          2011,
          2012,
          2013,
          2014,
          2015,
          2016,
          2017,
          2018,
          2019,
          2020,
          2021,
          2022,
          2023
         ],
         "xaxis": "x4",
         "y": [
          4.242424242424243,
          3.1847133757961785,
          8.5,
          6.091370558375635,
          3.125,
          5.41871921182266,
          15.087719298245613,
          6.287425149700598,
          5.389221556886228,
          5.523255813953488,
          6.2645011600928076,
          17.50663129973475,
          7.122507122507122,
          5.974025974025974,
          8.27250608272506,
          8.997429305912597,
          12.672176308539946,
          11.557788944723619,
          8.87728459530026,
          8.955223880597014,
          7.774798927613941,
          15.123456790123457,
          8.415841584158416
         ],
         "yaxis": "y4"
        },
        {
         "line": {
          "color": "rgba(200,200,200,80)"
         },
         "mode": "lines",
         "name": "",
         "type": "scatter",
         "x": [
          2001,
          2002,
          2003,
          2004,
          2005,
          2006,
          2007,
          2008,
          2009,
          2010,
          2011,
          2012,
          2013,
          2014,
          2015,
          2016,
          2017,
          2018,
          2019,
          2020,
          2021,
          2022,
          2023
         ],
         "xaxis": "x6",
         "y": [
          1,
          4.678362573099415,
          3.1413612565445024,
          2.4271844660194173,
          2.515723270440252,
          7.647058823529412,
          4.184100418410042,
          1.968503937007874,
          5.084745762711865,
          1.107011070110701,
          2.3346303501945527,
          1.4184397163120568,
          6.405693950177936,
          1.9672131147540985,
          12.741312741312742,
          5.604719764011799,
          3.202846975088968,
          1.3377926421404682,
          3.0716723549488054,
          6.343283582089552,
          5.844155844155844,
          8.552631578947368,
          7.657657657657657
         ],
         "yaxis": "y6"
        },
        {
         "line": {
          "color": "rgba(200,200,200,80)"
         },
         "mode": "lines",
         "name": "",
         "type": "scatter",
         "x": [
          2001,
          2002,
          2003,
          2004,
          2005,
          2006,
          2007,
          2008,
          2009,
          2010,
          2011,
          2012,
          2013,
          2014,
          2015,
          2016,
          2017,
          2018,
          2019,
          2020,
          2021,
          2022,
          2023
         ],
         "xaxis": "x6",
         "y": [
          4.242424242424243,
          3.1847133757961785,
          8.5,
          6.091370558375635,
          3.125,
          5.41871921182266,
          15.087719298245613,
          6.287425149700598,
          5.389221556886228,
          5.523255813953488,
          6.2645011600928076,
          17.50663129973475,
          7.122507122507122,
          5.974025974025974,
          8.27250608272506,
          8.997429305912597,
          12.672176308539946,
          11.557788944723619,
          8.87728459530026,
          8.955223880597014,
          7.774798927613941,
          15.123456790123457,
          8.415841584158416
         ],
         "yaxis": "y6"
        },
        {
         "line": {
          "color": "rgba(200,200,200,80)"
         },
         "mode": "lines",
         "name": "",
         "type": "scatter",
         "x": [
          2001,
          2002,
          2003,
          2004,
          2005,
          2006,
          2007,
          2008,
          2009,
          2010,
          2011,
          2012,
          2013,
          2014,
          2015,
          2016,
          2017,
          2018,
          2019,
          2020,
          2021,
          2022,
          2023
         ],
         "xaxis": "x6",
         "y": [
          2.6143790849673203,
          11.351351351351353,
          1.7045454545454544,
          3.1914893617021276,
          4.232804232804233,
          10.695187165775401,
          3.7815126050420167,
          3.3962264150943398,
          5.415162454873646,
          1.4336917562724014,
          1.7482517482517483,
          6.779661016949152,
          5.405405405405405,
          2.527075812274368,
          4.72972972972973,
          3.041825095057034,
          1.6,
          3.205128205128205,
          4.491017964071856,
          9.180327868852459,
          4.923076923076923,
          8.359133126934983,
          10.2803738317757
         ],
         "yaxis": "y6"
        },
        {
         "line": {
          "color": "rgba(200,200,200,80)"
         },
         "mode": "lines",
         "name": "",
         "type": "scatter",
         "x": [
          2001,
          2002,
          2003,
          2004,
          2005,
          2006,
          2007,
          2008,
          2009,
          2010,
          2011,
          2012,
          2013,
          2014,
          2015,
          2016,
          2017,
          2018,
          2019,
          2020,
          2021,
          2022,
          2023
         ],
         "xaxis": "x6",
         "y": [
          0.5882352941176471,
          8.108108108108109,
          6.719367588932807,
          3.4482758620689653,
          9.48905109489051,
          5.894308943089431,
          6.488549618320611,
          4.273504273504273,
          12.213740458015266,
          6.151142355008787,
          3.5381750465549344,
          10.469314079422382,
          5.325443786982249,
          7.4324324324324325,
          7.945736434108527,
          5.809859154929577,
          12.5,
          6.138933764135703,
          11.377245508982035,
          11.702127659574469,
          11.11111111111111,
          8.960573476702509,
          12.442396313364055
         ],
         "yaxis": "y6"
        },
        {
         "line": {
          "color": "rgba(200,200,200,80)"
         },
         "mode": "lines",
         "name": "",
         "type": "scatter",
         "x": [
          2001,
          2002,
          2003,
          2004,
          2005,
          2006,
          2007,
          2008,
          2009,
          2010,
          2011,
          2012,
          2013,
          2014,
          2015,
          2016,
          2017,
          2018,
          2019,
          2020,
          2021,
          2022,
          2023
         ],
         "xaxis": "x6",
         "y": [
          25,
          24,
          26.08695652173913,
          15,
          29.411764705882355,
          23.809523809523807,
          30.555555555555557,
          15.625,
          11.538461538461538,
          26,
          29.411764705882355,
          37.83783783783784,
          27.77777777777778,
          26.666666666666668,
          19.35483870967742,
          23.684210526315788,
          25,
          26.666666666666668,
          28.205128205128204,
          28.57142857142857,
          17.24137931034483,
          32.142857142857146,
          40
         ],
         "yaxis": "y6"
        },
        {
         "line": {
          "color": "rgba(200,200,200,80)"
         },
         "mode": "lines",
         "name": "",
         "type": "scatter",
         "x": [
          2001,
          2002,
          2003,
          2004,
          2005,
          2006,
          2007,
          2008,
          2009,
          2010,
          2011,
          2012,
          2013,
          2014,
          2015,
          2016,
          2017,
          2018,
          2019,
          2020,
          2021,
          2022,
          2023
         ],
         "xaxis": "x6",
         "y": [
          null,
          0,
          0,
          9.58904109589041,
          0,
          0,
          1.2048192771084338,
          0,
          1.282051282051282,
          2.857142857142857,
          0,
          0,
          1.2048192771084338,
          1.8181818181818181,
          0,
          1.2987012987012987,
          2,
          0,
          0,
          1.9230769230769231,
          1.5625,
          2.2222222222222223,
          0
         ],
         "yaxis": "y6"
        },
        {
         "line": {
          "color": "rgba(200,200,200,80)"
         },
         "mode": "lines",
         "name": "",
         "type": "scatter",
         "x": [
          2001,
          2002,
          2003,
          2004,
          2005,
          2006,
          2007,
          2008,
          2009,
          2010,
          2011,
          2012,
          2013,
          2014,
          2015,
          2016,
          2017,
          2018,
          2019,
          2020,
          2021,
          2022,
          2023
         ],
         "xaxis": "x6",
         "y": [
          3.4482758620689653,
          0,
          7.586206896551724,
          2.4691358024691357,
          5.384615384615385,
          1.3888888888888888,
          1.574803149606299,
          2.3529411764705883,
          7.065217391304348,
          2.7624309392265194,
          4.81283422459893,
          1.6574585635359116,
          1.9230769230769231,
          7.142857142857142,
          4.166666666666666,
          0,
          3.664921465968586,
          2.9268292682926833,
          5.202312138728324,
          6.081081081081082,
          2.1164021164021163,
          4.444444444444445,
          8.653846153846153
         ],
         "yaxis": "y6"
        },
        {
         "line": {
          "color": "rgba(200,200,200,80)"
         },
         "mode": "lines",
         "name": "",
         "type": "scatter",
         "x": [
          2001,
          2002,
          2003,
          2004,
          2005,
          2006,
          2007,
          2008,
          2009,
          2010,
          2011,
          2012,
          2013,
          2014,
          2015,
          2016,
          2017,
          2018,
          2019,
          2020,
          2021,
          2022,
          2023
         ],
         "xaxis": "x6",
         "y": [
          0,
          0,
          0,
          0,
          0,
          0,
          2.7027027027027026,
          2.127659574468085,
          2.564102564102564,
          2.2222222222222223,
          0,
          4.761904761904762,
          4.545454545454546,
          0,
          2.1739130434782608,
          2.4390243902439024,
          0,
          3.125,
          0,
          0,
          0,
          2.0408163265306123,
          0
         ],
         "yaxis": "y6"
        },
        {
         "line": {
          "color": "rgba(200,200,200,80)"
         },
         "mode": "lines",
         "name": "",
         "type": "scatter",
         "x": [
          2001,
          2002,
          2003,
          2004,
          2005,
          2006,
          2007,
          2008,
          2009,
          2010,
          2011,
          2012,
          2013,
          2014,
          2015,
          2016,
          2017,
          2018,
          2019,
          2020,
          2021,
          2022,
          2023
         ],
         "xaxis": "x6",
         "y": [
          3.571428571428571,
          4.10958904109589,
          2.73972602739726,
          7.377049180327869,
          1.9230769230769231,
          1.3071895424836601,
          5.0359712230215825,
          2.6881720430107525,
          5.327868852459016,
          4.291845493562231,
          1.3333333333333335,
          3.91304347826087,
          3.2388663967611335,
          1.951219512195122,
          2.6119402985074625,
          5.147058823529411,
          7.171314741035857,
          6.437768240343347,
          8.203125,
          4.910714285714286,
          9.803921568627452,
          10.50228310502283,
          13.612565445026178
         ],
         "yaxis": "y6"
        },
        {
         "line": {
          "color": "red"
         },
         "mode": "lines",
         "name": "",
         "type": "scatter",
         "x": [
          2001,
          2002,
          2003,
          2004,
          2005,
          2006,
          2007,
          2008,
          2009,
          2010,
          2011,
          2012,
          2013,
          2014,
          2015,
          2016,
          2017,
          2018,
          2019,
          2020,
          2021,
          2022,
          2023
         ],
         "xaxis": "x6",
         "y": [
          7.601184600197433,
          10.254163014899213,
          9.31899641577061,
          8.311518324607329,
          9.650259067357512,
          9.512893982808022,
          9.205867475973697,
          6.4500716674629714,
          10.21256931608133,
          8.185361628410567,
          8.379413015737985,
          11.15898319689789,
          8.82752376641014,
          8.702999577524292,
          9.347368421052632,
          9.67741935483871,
          11.011904761904761,
          8.860249697946033,
          10.437710437710438,
          10.715979137031768,
          11.10254433307633,
          12.056451612903226,
          13.452655889145495
         ],
         "yaxis": "y6"
        },
        {
         "line": {
          "color": "blue"
         },
         "mode": "lines",
         "name": "",
         "type": "scatter",
         "x": [
          2001,
          2002,
          2003,
          2004,
          2005,
          2006,
          2007,
          2008,
          2009,
          2010,
          2011,
          2012,
          2013,
          2014,
          2015,
          2016,
          2017,
          2018,
          2019,
          2020,
          2021,
          2022,
          2023
         ],
         "xaxis": "x6",
         "y": [
          8.75,
          7.317073170731707,
          7.59493670886076,
          5.681818181818182,
          17.24137931034483,
          8.60215053763441,
          4.62962962962963,
          3.7735849056603774,
          6.593406593406594,
          15.74074074074074,
          26.356589147286826,
          7.339449541284404,
          16.9811320754717,
          13.821138211382115,
          13.636363636363635,
          19.82758620689655,
          22.413793103448278,
          13.513513513513514,
          19.230769230769234,
          10.256410256410255,
          7.6190476190476195,
          6.224066390041494,
          6.748466257668712
         ],
         "yaxis": "y6"
        },
        {
         "line": {
          "color": "rgba(200,200,200,80)"
         },
         "mode": "lines",
         "name": "",
         "type": "scatter",
         "x": [
          2001,
          2002,
          2003,
          2004,
          2005,
          2006,
          2007,
          2008,
          2009,
          2010,
          2011,
          2012,
          2013,
          2014,
          2015,
          2016,
          2017,
          2018,
          2019,
          2020,
          2021,
          2022,
          2023
         ],
         "xaxis": "x7",
         "y": [
          1,
          4.678362573099415,
          3.1413612565445024,
          2.4271844660194173,
          2.515723270440252,
          7.647058823529412,
          4.184100418410042,
          1.968503937007874,
          5.084745762711865,
          1.107011070110701,
          2.3346303501945527,
          1.4184397163120568,
          6.405693950177936,
          1.9672131147540985,
          12.741312741312742,
          5.604719764011799,
          3.202846975088968,
          1.3377926421404682,
          3.0716723549488054,
          6.343283582089552,
          5.844155844155844,
          8.552631578947368,
          7.657657657657657
         ],
         "yaxis": "y7"
        },
        {
         "line": {
          "color": "rgba(200,200,200,80)"
         },
         "mode": "lines",
         "name": "",
         "type": "scatter",
         "x": [
          2001,
          2002,
          2003,
          2004,
          2005,
          2006,
          2007,
          2008,
          2009,
          2010,
          2011,
          2012,
          2013,
          2014,
          2015,
          2016,
          2017,
          2018,
          2019,
          2020,
          2021,
          2022,
          2023
         ],
         "xaxis": "x7",
         "y": [
          4.242424242424243,
          3.1847133757961785,
          8.5,
          6.091370558375635,
          3.125,
          5.41871921182266,
          15.087719298245613,
          6.287425149700598,
          5.389221556886228,
          5.523255813953488,
          6.2645011600928076,
          17.50663129973475,
          7.122507122507122,
          5.974025974025974,
          8.27250608272506,
          8.997429305912597,
          12.672176308539946,
          11.557788944723619,
          8.87728459530026,
          8.955223880597014,
          7.774798927613941,
          15.123456790123457,
          8.415841584158416
         ],
         "yaxis": "y7"
        },
        {
         "line": {
          "color": "rgba(200,200,200,80)"
         },
         "mode": "lines",
         "name": "",
         "type": "scatter",
         "x": [
          2001,
          2002,
          2003,
          2004,
          2005,
          2006,
          2007,
          2008,
          2009,
          2010,
          2011,
          2012,
          2013,
          2014,
          2015,
          2016,
          2017,
          2018,
          2019,
          2020,
          2021,
          2022,
          2023
         ],
         "xaxis": "x7",
         "y": [
          8.75,
          7.317073170731707,
          7.59493670886076,
          5.681818181818182,
          17.24137931034483,
          8.60215053763441,
          4.62962962962963,
          3.7735849056603774,
          6.593406593406594,
          15.74074074074074,
          26.356589147286826,
          7.339449541284404,
          16.9811320754717,
          13.821138211382115,
          13.636363636363635,
          19.82758620689655,
          22.413793103448278,
          13.513513513513514,
          19.230769230769234,
          10.256410256410255,
          7.6190476190476195,
          6.224066390041494,
          6.748466257668712
         ],
         "yaxis": "y7"
        },
        {
         "line": {
          "color": "rgba(200,200,200,80)"
         },
         "mode": "lines",
         "name": "",
         "type": "scatter",
         "x": [
          2001,
          2002,
          2003,
          2004,
          2005,
          2006,
          2007,
          2008,
          2009,
          2010,
          2011,
          2012,
          2013,
          2014,
          2015,
          2016,
          2017,
          2018,
          2019,
          2020,
          2021,
          2022,
          2023
         ],
         "xaxis": "x7",
         "y": [
          0.5882352941176471,
          8.108108108108109,
          6.719367588932807,
          3.4482758620689653,
          9.48905109489051,
          5.894308943089431,
          6.488549618320611,
          4.273504273504273,
          12.213740458015266,
          6.151142355008787,
          3.5381750465549344,
          10.469314079422382,
          5.325443786982249,
          7.4324324324324325,
          7.945736434108527,
          5.809859154929577,
          12.5,
          6.138933764135703,
          11.377245508982035,
          11.702127659574469,
          11.11111111111111,
          8.960573476702509,
          12.442396313364055
         ],
         "yaxis": "y7"
        },
        {
         "line": {
          "color": "rgba(200,200,200,80)"
         },
         "mode": "lines",
         "name": "",
         "type": "scatter",
         "x": [
          2001,
          2002,
          2003,
          2004,
          2005,
          2006,
          2007,
          2008,
          2009,
          2010,
          2011,
          2012,
          2013,
          2014,
          2015,
          2016,
          2017,
          2018,
          2019,
          2020,
          2021,
          2022,
          2023
         ],
         "xaxis": "x7",
         "y": [
          25,
          24,
          26.08695652173913,
          15,
          29.411764705882355,
          23.809523809523807,
          30.555555555555557,
          15.625,
          11.538461538461538,
          26,
          29.411764705882355,
          37.83783783783784,
          27.77777777777778,
          26.666666666666668,
          19.35483870967742,
          23.684210526315788,
          25,
          26.666666666666668,
          28.205128205128204,
          28.57142857142857,
          17.24137931034483,
          32.142857142857146,
          40
         ],
         "yaxis": "y7"
        },
        {
         "line": {
          "color": "rgba(200,200,200,80)"
         },
         "mode": "lines",
         "name": "",
         "type": "scatter",
         "x": [
          2001,
          2002,
          2003,
          2004,
          2005,
          2006,
          2007,
          2008,
          2009,
          2010,
          2011,
          2012,
          2013,
          2014,
          2015,
          2016,
          2017,
          2018,
          2019,
          2020,
          2021,
          2022,
          2023
         ],
         "xaxis": "x7",
         "y": [
          null,
          0,
          0,
          9.58904109589041,
          0,
          0,
          1.2048192771084338,
          0,
          1.282051282051282,
          2.857142857142857,
          0,
          0,
          1.2048192771084338,
          1.8181818181818181,
          0,
          1.2987012987012987,
          2,
          0,
          0,
          1.9230769230769231,
          1.5625,
          2.2222222222222223,
          0
         ],
         "yaxis": "y7"
        },
        {
         "line": {
          "color": "rgba(200,200,200,80)"
         },
         "mode": "lines",
         "name": "",
         "type": "scatter",
         "x": [
          2001,
          2002,
          2003,
          2004,
          2005,
          2006,
          2007,
          2008,
          2009,
          2010,
          2011,
          2012,
          2013,
          2014,
          2015,
          2016,
          2017,
          2018,
          2019,
          2020,
          2021,
          2022,
          2023
         ],
         "xaxis": "x7",
         "y": [
          3.4482758620689653,
          0,
          7.586206896551724,
          2.4691358024691357,
          5.384615384615385,
          1.3888888888888888,
          1.574803149606299,
          2.3529411764705883,
          7.065217391304348,
          2.7624309392265194,
          4.81283422459893,
          1.6574585635359116,
          1.9230769230769231,
          7.142857142857142,
          4.166666666666666,
          0,
          3.664921465968586,
          2.9268292682926833,
          5.202312138728324,
          6.081081081081082,
          2.1164021164021163,
          4.444444444444445,
          8.653846153846153
         ],
         "yaxis": "y7"
        },
        {
         "line": {
          "color": "rgba(200,200,200,80)"
         },
         "mode": "lines",
         "name": "",
         "type": "scatter",
         "x": [
          2001,
          2002,
          2003,
          2004,
          2005,
          2006,
          2007,
          2008,
          2009,
          2010,
          2011,
          2012,
          2013,
          2014,
          2015,
          2016,
          2017,
          2018,
          2019,
          2020,
          2021,
          2022,
          2023
         ],
         "xaxis": "x7",
         "y": [
          0,
          0,
          0,
          0,
          0,
          0,
          2.7027027027027026,
          2.127659574468085,
          2.564102564102564,
          2.2222222222222223,
          0,
          4.761904761904762,
          4.545454545454546,
          0,
          2.1739130434782608,
          2.4390243902439024,
          0,
          3.125,
          0,
          0,
          0,
          2.0408163265306123,
          0
         ],
         "yaxis": "y7"
        },
        {
         "line": {
          "color": "rgba(200,200,200,80)"
         },
         "mode": "lines",
         "name": "",
         "type": "scatter",
         "x": [
          2001,
          2002,
          2003,
          2004,
          2005,
          2006,
          2007,
          2008,
          2009,
          2010,
          2011,
          2012,
          2013,
          2014,
          2015,
          2016,
          2017,
          2018,
          2019,
          2020,
          2021,
          2022,
          2023
         ],
         "xaxis": "x7",
         "y": [
          3.571428571428571,
          4.10958904109589,
          2.73972602739726,
          7.377049180327869,
          1.9230769230769231,
          1.3071895424836601,
          5.0359712230215825,
          2.6881720430107525,
          5.327868852459016,
          4.291845493562231,
          1.3333333333333335,
          3.91304347826087,
          3.2388663967611335,
          1.951219512195122,
          2.6119402985074625,
          5.147058823529411,
          7.171314741035857,
          6.437768240343347,
          8.203125,
          4.910714285714286,
          9.803921568627452,
          10.50228310502283,
          13.612565445026178
         ],
         "yaxis": "y7"
        },
        {
         "line": {
          "color": "red"
         },
         "mode": "lines",
         "name": "",
         "type": "scatter",
         "x": [
          2001,
          2002,
          2003,
          2004,
          2005,
          2006,
          2007,
          2008,
          2009,
          2010,
          2011,
          2012,
          2013,
          2014,
          2015,
          2016,
          2017,
          2018,
          2019,
          2020,
          2021,
          2022,
          2023
         ],
         "xaxis": "x7",
         "y": [
          7.601184600197433,
          10.254163014899213,
          9.31899641577061,
          8.311518324607329,
          9.650259067357512,
          9.512893982808022,
          9.205867475973697,
          6.4500716674629714,
          10.21256931608133,
          8.185361628410567,
          8.379413015737985,
          11.15898319689789,
          8.82752376641014,
          8.702999577524292,
          9.347368421052632,
          9.67741935483871,
          11.011904761904761,
          8.860249697946033,
          10.437710437710438,
          10.715979137031768,
          11.10254433307633,
          12.056451612903226,
          13.452655889145495
         ],
         "yaxis": "y7"
        },
        {
         "line": {
          "color": "blue"
         },
         "mode": "lines",
         "name": "",
         "type": "scatter",
         "x": [
          2001,
          2002,
          2003,
          2004,
          2005,
          2006,
          2007,
          2008,
          2009,
          2010,
          2011,
          2012,
          2013,
          2014,
          2015,
          2016,
          2017,
          2018,
          2019,
          2020,
          2021,
          2022,
          2023
         ],
         "xaxis": "x7",
         "y": [
          2.6143790849673203,
          11.351351351351353,
          1.7045454545454544,
          3.1914893617021276,
          4.232804232804233,
          10.695187165775401,
          3.7815126050420167,
          3.3962264150943398,
          5.415162454873646,
          1.4336917562724014,
          1.7482517482517483,
          6.779661016949152,
          5.405405405405405,
          2.527075812274368,
          4.72972972972973,
          3.041825095057034,
          1.6,
          3.205128205128205,
          4.491017964071856,
          9.180327868852459,
          4.923076923076923,
          8.359133126934983,
          10.2803738317757
         ],
         "yaxis": "y7"
        },
        {
         "line": {
          "color": "rgba(200,200,200,80)"
         },
         "mode": "lines",
         "name": "",
         "type": "scatter",
         "x": [
          2001,
          2002,
          2003,
          2004,
          2005,
          2006,
          2007,
          2008,
          2009,
          2010,
          2011,
          2012,
          2013,
          2014,
          2015,
          2016,
          2017,
          2018,
          2019,
          2020,
          2021,
          2022,
          2023
         ],
         "xaxis": "x8",
         "y": [
          1,
          4.678362573099415,
          3.1413612565445024,
          2.4271844660194173,
          2.515723270440252,
          7.647058823529412,
          4.184100418410042,
          1.968503937007874,
          5.084745762711865,
          1.107011070110701,
          2.3346303501945527,
          1.4184397163120568,
          6.405693950177936,
          1.9672131147540985,
          12.741312741312742,
          5.604719764011799,
          3.202846975088968,
          1.3377926421404682,
          3.0716723549488054,
          6.343283582089552,
          5.844155844155844,
          8.552631578947368,
          7.657657657657657
         ],
         "yaxis": "y8"
        },
        {
         "line": {
          "color": "rgba(200,200,200,80)"
         },
         "mode": "lines",
         "name": "",
         "type": "scatter",
         "x": [
          2001,
          2002,
          2003,
          2004,
          2005,
          2006,
          2007,
          2008,
          2009,
          2010,
          2011,
          2012,
          2013,
          2014,
          2015,
          2016,
          2017,
          2018,
          2019,
          2020,
          2021,
          2022,
          2023
         ],
         "xaxis": "x8",
         "y": [
          4.242424242424243,
          3.1847133757961785,
          8.5,
          6.091370558375635,
          3.125,
          5.41871921182266,
          15.087719298245613,
          6.287425149700598,
          5.389221556886228,
          5.523255813953488,
          6.2645011600928076,
          17.50663129973475,
          7.122507122507122,
          5.974025974025974,
          8.27250608272506,
          8.997429305912597,
          12.672176308539946,
          11.557788944723619,
          8.87728459530026,
          8.955223880597014,
          7.774798927613941,
          15.123456790123457,
          8.415841584158416
         ],
         "yaxis": "y8"
        },
        {
         "line": {
          "color": "rgba(200,200,200,80)"
         },
         "mode": "lines",
         "name": "",
         "type": "scatter",
         "x": [
          2001,
          2002,
          2003,
          2004,
          2005,
          2006,
          2007,
          2008,
          2009,
          2010,
          2011,
          2012,
          2013,
          2014,
          2015,
          2016,
          2017,
          2018,
          2019,
          2020,
          2021,
          2022,
          2023
         ],
         "xaxis": "x8",
         "y": [
          8.75,
          7.317073170731707,
          7.59493670886076,
          5.681818181818182,
          17.24137931034483,
          8.60215053763441,
          4.62962962962963,
          3.7735849056603774,
          6.593406593406594,
          15.74074074074074,
          26.356589147286826,
          7.339449541284404,
          16.9811320754717,
          13.821138211382115,
          13.636363636363635,
          19.82758620689655,
          22.413793103448278,
          13.513513513513514,
          19.230769230769234,
          10.256410256410255,
          7.6190476190476195,
          6.224066390041494,
          6.748466257668712
         ],
         "yaxis": "y8"
        },
        {
         "line": {
          "color": "rgba(200,200,200,80)"
         },
         "mode": "lines",
         "name": "",
         "type": "scatter",
         "x": [
          2001,
          2002,
          2003,
          2004,
          2005,
          2006,
          2007,
          2008,
          2009,
          2010,
          2011,
          2012,
          2013,
          2014,
          2015,
          2016,
          2017,
          2018,
          2019,
          2020,
          2021,
          2022,
          2023
         ],
         "xaxis": "x8",
         "y": [
          2.6143790849673203,
          11.351351351351353,
          1.7045454545454544,
          3.1914893617021276,
          4.232804232804233,
          10.695187165775401,
          3.7815126050420167,
          3.3962264150943398,
          5.415162454873646,
          1.4336917562724014,
          1.7482517482517483,
          6.779661016949152,
          5.405405405405405,
          2.527075812274368,
          4.72972972972973,
          3.041825095057034,
          1.6,
          3.205128205128205,
          4.491017964071856,
          9.180327868852459,
          4.923076923076923,
          8.359133126934983,
          10.2803738317757
         ],
         "yaxis": "y8"
        },
        {
         "line": {
          "color": "rgba(200,200,200,80)"
         },
         "mode": "lines",
         "name": "",
         "type": "scatter",
         "x": [
          2001,
          2002,
          2003,
          2004,
          2005,
          2006,
          2007,
          2008,
          2009,
          2010,
          2011,
          2012,
          2013,
          2014,
          2015,
          2016,
          2017,
          2018,
          2019,
          2020,
          2021,
          2022,
          2023
         ],
         "xaxis": "x8",
         "y": [
          0.5882352941176471,
          8.108108108108109,
          6.719367588932807,
          3.4482758620689653,
          9.48905109489051,
          5.894308943089431,
          6.488549618320611,
          4.273504273504273,
          12.213740458015266,
          6.151142355008787,
          3.5381750465549344,
          10.469314079422382,
          5.325443786982249,
          7.4324324324324325,
          7.945736434108527,
          5.809859154929577,
          12.5,
          6.138933764135703,
          11.377245508982035,
          11.702127659574469,
          11.11111111111111,
          8.960573476702509,
          12.442396313364055
         ],
         "yaxis": "y8"
        },
        {
         "line": {
          "color": "rgba(200,200,200,80)"
         },
         "mode": "lines",
         "name": "",
         "type": "scatter",
         "x": [
          2001,
          2002,
          2003,
          2004,
          2005,
          2006,
          2007,
          2008,
          2009,
          2010,
          2011,
          2012,
          2013,
          2014,
          2015,
          2016,
          2017,
          2018,
          2019,
          2020,
          2021,
          2022,
          2023
         ],
         "xaxis": "x8",
         "y": [
          null,
          0,
          0,
          9.58904109589041,
          0,
          0,
          1.2048192771084338,
          0,
          1.282051282051282,
          2.857142857142857,
          0,
          0,
          1.2048192771084338,
          1.8181818181818181,
          0,
          1.2987012987012987,
          2,
          0,
          0,
          1.9230769230769231,
          1.5625,
          2.2222222222222223,
          0
         ],
         "yaxis": "y8"
        },
        {
         "line": {
          "color": "rgba(200,200,200,80)"
         },
         "mode": "lines",
         "name": "",
         "type": "scatter",
         "x": [
          2001,
          2002,
          2003,
          2004,
          2005,
          2006,
          2007,
          2008,
          2009,
          2010,
          2011,
          2012,
          2013,
          2014,
          2015,
          2016,
          2017,
          2018,
          2019,
          2020,
          2021,
          2022,
          2023
         ],
         "xaxis": "x8",
         "y": [
          3.4482758620689653,
          0,
          7.586206896551724,
          2.4691358024691357,
          5.384615384615385,
          1.3888888888888888,
          1.574803149606299,
          2.3529411764705883,
          7.065217391304348,
          2.7624309392265194,
          4.81283422459893,
          1.6574585635359116,
          1.9230769230769231,
          7.142857142857142,
          4.166666666666666,
          0,
          3.664921465968586,
          2.9268292682926833,
          5.202312138728324,
          6.081081081081082,
          2.1164021164021163,
          4.444444444444445,
          8.653846153846153
         ],
         "yaxis": "y8"
        },
        {
         "line": {
          "color": "rgba(200,200,200,80)"
         },
         "mode": "lines",
         "name": "",
         "type": "scatter",
         "x": [
          2001,
          2002,
          2003,
          2004,
          2005,
          2006,
          2007,
          2008,
          2009,
          2010,
          2011,
          2012,
          2013,
          2014,
          2015,
          2016,
          2017,
          2018,
          2019,
          2020,
          2021,
          2022,
          2023
         ],
         "xaxis": "x8",
         "y": [
          0,
          0,
          0,
          0,
          0,
          0,
          2.7027027027027026,
          2.127659574468085,
          2.564102564102564,
          2.2222222222222223,
          0,
          4.761904761904762,
          4.545454545454546,
          0,
          2.1739130434782608,
          2.4390243902439024,
          0,
          3.125,
          0,
          0,
          0,
          2.0408163265306123,
          0
         ],
         "yaxis": "y8"
        },
        {
         "line": {
          "color": "rgba(200,200,200,80)"
         },
         "mode": "lines",
         "name": "",
         "type": "scatter",
         "x": [
          2001,
          2002,
          2003,
          2004,
          2005,
          2006,
          2007,
          2008,
          2009,
          2010,
          2011,
          2012,
          2013,
          2014,
          2015,
          2016,
          2017,
          2018,
          2019,
          2020,
          2021,
          2022,
          2023
         ],
         "xaxis": "x8",
         "y": [
          3.571428571428571,
          4.10958904109589,
          2.73972602739726,
          7.377049180327869,
          1.9230769230769231,
          1.3071895424836601,
          5.0359712230215825,
          2.6881720430107525,
          5.327868852459016,
          4.291845493562231,
          1.3333333333333335,
          3.91304347826087,
          3.2388663967611335,
          1.951219512195122,
          2.6119402985074625,
          5.147058823529411,
          7.171314741035857,
          6.437768240343347,
          8.203125,
          4.910714285714286,
          9.803921568627452,
          10.50228310502283,
          13.612565445026178
         ],
         "yaxis": "y8"
        },
        {
         "line": {
          "color": "red"
         },
         "mode": "lines",
         "name": "",
         "type": "scatter",
         "x": [
          2001,
          2002,
          2003,
          2004,
          2005,
          2006,
          2007,
          2008,
          2009,
          2010,
          2011,
          2012,
          2013,
          2014,
          2015,
          2016,
          2017,
          2018,
          2019,
          2020,
          2021,
          2022,
          2023
         ],
         "xaxis": "x8",
         "y": [
          7.601184600197433,
          10.254163014899213,
          9.31899641577061,
          8.311518324607329,
          9.650259067357512,
          9.512893982808022,
          9.205867475973697,
          6.4500716674629714,
          10.21256931608133,
          8.185361628410567,
          8.379413015737985,
          11.15898319689789,
          8.82752376641014,
          8.702999577524292,
          9.347368421052632,
          9.67741935483871,
          11.011904761904761,
          8.860249697946033,
          10.437710437710438,
          10.715979137031768,
          11.10254433307633,
          12.056451612903226,
          13.452655889145495
         ],
         "yaxis": "y8"
        },
        {
         "line": {
          "color": "blue"
         },
         "mode": "lines",
         "name": "",
         "type": "scatter",
         "x": [
          2001,
          2002,
          2003,
          2004,
          2005,
          2006,
          2007,
          2008,
          2009,
          2010,
          2011,
          2012,
          2013,
          2014,
          2015,
          2016,
          2017,
          2018,
          2019,
          2020,
          2021,
          2022,
          2023
         ],
         "xaxis": "x8",
         "y": [
          25,
          24,
          26.08695652173913,
          15,
          29.411764705882355,
          23.809523809523807,
          30.555555555555557,
          15.625,
          11.538461538461538,
          26,
          29.411764705882355,
          37.83783783783784,
          27.77777777777778,
          26.666666666666668,
          19.35483870967742,
          23.684210526315788,
          25,
          26.666666666666668,
          28.205128205128204,
          28.57142857142857,
          17.24137931034483,
          32.142857142857146,
          40
         ],
         "yaxis": "y8"
        },
        {
         "line": {
          "color": "rgba(200,200,200,80)"
         },
         "mode": "lines",
         "name": "",
         "type": "scatter",
         "x": [
          2001,
          2002,
          2003,
          2004,
          2005,
          2006,
          2007,
          2008,
          2009,
          2010,
          2011,
          2012,
          2013,
          2014,
          2015,
          2016,
          2017,
          2018,
          2019,
          2020,
          2021,
          2022,
          2023
         ],
         "xaxis": "x9",
         "y": [
          1,
          4.678362573099415,
          3.1413612565445024,
          2.4271844660194173,
          2.515723270440252,
          7.647058823529412,
          4.184100418410042,
          1.968503937007874,
          5.084745762711865,
          1.107011070110701,
          2.3346303501945527,
          1.4184397163120568,
          6.405693950177936,
          1.9672131147540985,
          12.741312741312742,
          5.604719764011799,
          3.202846975088968,
          1.3377926421404682,
          3.0716723549488054,
          6.343283582089552,
          5.844155844155844,
          8.552631578947368,
          7.657657657657657
         ],
         "yaxis": "y9"
        },
        {
         "line": {
          "color": "rgba(200,200,200,80)"
         },
         "mode": "lines",
         "name": "",
         "type": "scatter",
         "x": [
          2001,
          2002,
          2003,
          2004,
          2005,
          2006,
          2007,
          2008,
          2009,
          2010,
          2011,
          2012,
          2013,
          2014,
          2015,
          2016,
          2017,
          2018,
          2019,
          2020,
          2021,
          2022,
          2023
         ],
         "xaxis": "x9",
         "y": [
          4.242424242424243,
          3.1847133757961785,
          8.5,
          6.091370558375635,
          3.125,
          5.41871921182266,
          15.087719298245613,
          6.287425149700598,
          5.389221556886228,
          5.523255813953488,
          6.2645011600928076,
          17.50663129973475,
          7.122507122507122,
          5.974025974025974,
          8.27250608272506,
          8.997429305912597,
          12.672176308539946,
          11.557788944723619,
          8.87728459530026,
          8.955223880597014,
          7.774798927613941,
          15.123456790123457,
          8.415841584158416
         ],
         "yaxis": "y9"
        },
        {
         "line": {
          "color": "rgba(200,200,200,80)"
         },
         "mode": "lines",
         "name": "",
         "type": "scatter",
         "x": [
          2001,
          2002,
          2003,
          2004,
          2005,
          2006,
          2007,
          2008,
          2009,
          2010,
          2011,
          2012,
          2013,
          2014,
          2015,
          2016,
          2017,
          2018,
          2019,
          2020,
          2021,
          2022,
          2023
         ],
         "xaxis": "x9",
         "y": [
          8.75,
          7.317073170731707,
          7.59493670886076,
          5.681818181818182,
          17.24137931034483,
          8.60215053763441,
          4.62962962962963,
          3.7735849056603774,
          6.593406593406594,
          15.74074074074074,
          26.356589147286826,
          7.339449541284404,
          16.9811320754717,
          13.821138211382115,
          13.636363636363635,
          19.82758620689655,
          22.413793103448278,
          13.513513513513514,
          19.230769230769234,
          10.256410256410255,
          7.6190476190476195,
          6.224066390041494,
          6.748466257668712
         ],
         "yaxis": "y9"
        },
        {
         "line": {
          "color": "rgba(200,200,200,80)"
         },
         "mode": "lines",
         "name": "",
         "type": "scatter",
         "x": [
          2001,
          2002,
          2003,
          2004,
          2005,
          2006,
          2007,
          2008,
          2009,
          2010,
          2011,
          2012,
          2013,
          2014,
          2015,
          2016,
          2017,
          2018,
          2019,
          2020,
          2021,
          2022,
          2023
         ],
         "xaxis": "x9",
         "y": [
          2.6143790849673203,
          11.351351351351353,
          1.7045454545454544,
          3.1914893617021276,
          4.232804232804233,
          10.695187165775401,
          3.7815126050420167,
          3.3962264150943398,
          5.415162454873646,
          1.4336917562724014,
          1.7482517482517483,
          6.779661016949152,
          5.405405405405405,
          2.527075812274368,
          4.72972972972973,
          3.041825095057034,
          1.6,
          3.205128205128205,
          4.491017964071856,
          9.180327868852459,
          4.923076923076923,
          8.359133126934983,
          10.2803738317757
         ],
         "yaxis": "y9"
        },
        {
         "line": {
          "color": "rgba(200,200,200,80)"
         },
         "mode": "lines",
         "name": "",
         "type": "scatter",
         "x": [
          2001,
          2002,
          2003,
          2004,
          2005,
          2006,
          2007,
          2008,
          2009,
          2010,
          2011,
          2012,
          2013,
          2014,
          2015,
          2016,
          2017,
          2018,
          2019,
          2020,
          2021,
          2022,
          2023
         ],
         "xaxis": "x9",
         "y": [
          0.5882352941176471,
          8.108108108108109,
          6.719367588932807,
          3.4482758620689653,
          9.48905109489051,
          5.894308943089431,
          6.488549618320611,
          4.273504273504273,
          12.213740458015266,
          6.151142355008787,
          3.5381750465549344,
          10.469314079422382,
          5.325443786982249,
          7.4324324324324325,
          7.945736434108527,
          5.809859154929577,
          12.5,
          6.138933764135703,
          11.377245508982035,
          11.702127659574469,
          11.11111111111111,
          8.960573476702509,
          12.442396313364055
         ],
         "yaxis": "y9"
        },
        {
         "line": {
          "color": "rgba(200,200,200,80)"
         },
         "mode": "lines",
         "name": "",
         "type": "scatter",
         "x": [
          2001,
          2002,
          2003,
          2004,
          2005,
          2006,
          2007,
          2008,
          2009,
          2010,
          2011,
          2012,
          2013,
          2014,
          2015,
          2016,
          2017,
          2018,
          2019,
          2020,
          2021,
          2022,
          2023
         ],
         "xaxis": "x9",
         "y": [
          25,
          24,
          26.08695652173913,
          15,
          29.411764705882355,
          23.809523809523807,
          30.555555555555557,
          15.625,
          11.538461538461538,
          26,
          29.411764705882355,
          37.83783783783784,
          27.77777777777778,
          26.666666666666668,
          19.35483870967742,
          23.684210526315788,
          25,
          26.666666666666668,
          28.205128205128204,
          28.57142857142857,
          17.24137931034483,
          32.142857142857146,
          40
         ],
         "yaxis": "y9"
        },
        {
         "line": {
          "color": "rgba(200,200,200,80)"
         },
         "mode": "lines",
         "name": "",
         "type": "scatter",
         "x": [
          2001,
          2002,
          2003,
          2004,
          2005,
          2006,
          2007,
          2008,
          2009,
          2010,
          2011,
          2012,
          2013,
          2014,
          2015,
          2016,
          2017,
          2018,
          2019,
          2020,
          2021,
          2022,
          2023
         ],
         "xaxis": "x9",
         "y": [
          3.4482758620689653,
          0,
          7.586206896551724,
          2.4691358024691357,
          5.384615384615385,
          1.3888888888888888,
          1.574803149606299,
          2.3529411764705883,
          7.065217391304348,
          2.7624309392265194,
          4.81283422459893,
          1.6574585635359116,
          1.9230769230769231,
          7.142857142857142,
          4.166666666666666,
          0,
          3.664921465968586,
          2.9268292682926833,
          5.202312138728324,
          6.081081081081082,
          2.1164021164021163,
          4.444444444444445,
          8.653846153846153
         ],
         "yaxis": "y9"
        },
        {
         "line": {
          "color": "rgba(200,200,200,80)"
         },
         "mode": "lines",
         "name": "",
         "type": "scatter",
         "x": [
          2001,
          2002,
          2003,
          2004,
          2005,
          2006,
          2007,
          2008,
          2009,
          2010,
          2011,
          2012,
          2013,
          2014,
          2015,
          2016,
          2017,
          2018,
          2019,
          2020,
          2021,
          2022,
          2023
         ],
         "xaxis": "x9",
         "y": [
          0,
          0,
          0,
          0,
          0,
          0,
          2.7027027027027026,
          2.127659574468085,
          2.564102564102564,
          2.2222222222222223,
          0,
          4.761904761904762,
          4.545454545454546,
          0,
          2.1739130434782608,
          2.4390243902439024,
          0,
          3.125,
          0,
          0,
          0,
          2.0408163265306123,
          0
         ],
         "yaxis": "y9"
        },
        {
         "line": {
          "color": "rgba(200,200,200,80)"
         },
         "mode": "lines",
         "name": "",
         "type": "scatter",
         "x": [
          2001,
          2002,
          2003,
          2004,
          2005,
          2006,
          2007,
          2008,
          2009,
          2010,
          2011,
          2012,
          2013,
          2014,
          2015,
          2016,
          2017,
          2018,
          2019,
          2020,
          2021,
          2022,
          2023
         ],
         "xaxis": "x9",
         "y": [
          3.571428571428571,
          4.10958904109589,
          2.73972602739726,
          7.377049180327869,
          1.9230769230769231,
          1.3071895424836601,
          5.0359712230215825,
          2.6881720430107525,
          5.327868852459016,
          4.291845493562231,
          1.3333333333333335,
          3.91304347826087,
          3.2388663967611335,
          1.951219512195122,
          2.6119402985074625,
          5.147058823529411,
          7.171314741035857,
          6.437768240343347,
          8.203125,
          4.910714285714286,
          9.803921568627452,
          10.50228310502283,
          13.612565445026178
         ],
         "yaxis": "y9"
        },
        {
         "line": {
          "color": "red"
         },
         "mode": "lines",
         "name": "",
         "type": "scatter",
         "x": [
          2001,
          2002,
          2003,
          2004,
          2005,
          2006,
          2007,
          2008,
          2009,
          2010,
          2011,
          2012,
          2013,
          2014,
          2015,
          2016,
          2017,
          2018,
          2019,
          2020,
          2021,
          2022,
          2023
         ],
         "xaxis": "x9",
         "y": [
          7.601184600197433,
          10.254163014899213,
          9.31899641577061,
          8.311518324607329,
          9.650259067357512,
          9.512893982808022,
          9.205867475973697,
          6.4500716674629714,
          10.21256931608133,
          8.185361628410567,
          8.379413015737985,
          11.15898319689789,
          8.82752376641014,
          8.702999577524292,
          9.347368421052632,
          9.67741935483871,
          11.011904761904761,
          8.860249697946033,
          10.437710437710438,
          10.715979137031768,
          11.10254433307633,
          12.056451612903226,
          13.452655889145495
         ],
         "yaxis": "y9"
        },
        {
         "line": {
          "color": "blue"
         },
         "mode": "lines",
         "name": "",
         "type": "scatter",
         "x": [
          2001,
          2002,
          2003,
          2004,
          2005,
          2006,
          2007,
          2008,
          2009,
          2010,
          2011,
          2012,
          2013,
          2014,
          2015,
          2016,
          2017,
          2018,
          2019,
          2020,
          2021,
          2022,
          2023
         ],
         "xaxis": "x9",
         "y": [
          null,
          0,
          0,
          9.58904109589041,
          0,
          0,
          1.2048192771084338,
          0,
          1.282051282051282,
          2.857142857142857,
          0,
          0,
          1.2048192771084338,
          1.8181818181818181,
          0,
          1.2987012987012987,
          2,
          0,
          0,
          1.9230769230769231,
          1.5625,
          2.2222222222222223,
          0
         ],
         "yaxis": "y9"
        },
        {
         "line": {
          "color": "rgba(200,200,200,80)"
         },
         "mode": "lines",
         "name": "",
         "type": "scatter",
         "x": [
          2001,
          2002,
          2003,
          2004,
          2005,
          2006,
          2007,
          2008,
          2009,
          2010,
          2011,
          2012,
          2013,
          2014,
          2015,
          2016,
          2017,
          2018,
          2019,
          2020,
          2021,
          2022,
          2023
         ],
         "xaxis": "x10",
         "y": [
          1,
          4.678362573099415,
          3.1413612565445024,
          2.4271844660194173,
          2.515723270440252,
          7.647058823529412,
          4.184100418410042,
          1.968503937007874,
          5.084745762711865,
          1.107011070110701,
          2.3346303501945527,
          1.4184397163120568,
          6.405693950177936,
          1.9672131147540985,
          12.741312741312742,
          5.604719764011799,
          3.202846975088968,
          1.3377926421404682,
          3.0716723549488054,
          6.343283582089552,
          5.844155844155844,
          8.552631578947368,
          7.657657657657657
         ],
         "yaxis": "y10"
        },
        {
         "line": {
          "color": "rgba(200,200,200,80)"
         },
         "mode": "lines",
         "name": "",
         "type": "scatter",
         "x": [
          2001,
          2002,
          2003,
          2004,
          2005,
          2006,
          2007,
          2008,
          2009,
          2010,
          2011,
          2012,
          2013,
          2014,
          2015,
          2016,
          2017,
          2018,
          2019,
          2020,
          2021,
          2022,
          2023
         ],
         "xaxis": "x10",
         "y": [
          4.242424242424243,
          3.1847133757961785,
          8.5,
          6.091370558375635,
          3.125,
          5.41871921182266,
          15.087719298245613,
          6.287425149700598,
          5.389221556886228,
          5.523255813953488,
          6.2645011600928076,
          17.50663129973475,
          7.122507122507122,
          5.974025974025974,
          8.27250608272506,
          8.997429305912597,
          12.672176308539946,
          11.557788944723619,
          8.87728459530026,
          8.955223880597014,
          7.774798927613941,
          15.123456790123457,
          8.415841584158416
         ],
         "yaxis": "y10"
        },
        {
         "line": {
          "color": "rgba(200,200,200,80)"
         },
         "mode": "lines",
         "name": "",
         "type": "scatter",
         "x": [
          2001,
          2002,
          2003,
          2004,
          2005,
          2006,
          2007,
          2008,
          2009,
          2010,
          2011,
          2012,
          2013,
          2014,
          2015,
          2016,
          2017,
          2018,
          2019,
          2020,
          2021,
          2022,
          2023
         ],
         "xaxis": "x10",
         "y": [
          8.75,
          7.317073170731707,
          7.59493670886076,
          5.681818181818182,
          17.24137931034483,
          8.60215053763441,
          4.62962962962963,
          3.7735849056603774,
          6.593406593406594,
          15.74074074074074,
          26.356589147286826,
          7.339449541284404,
          16.9811320754717,
          13.821138211382115,
          13.636363636363635,
          19.82758620689655,
          22.413793103448278,
          13.513513513513514,
          19.230769230769234,
          10.256410256410255,
          7.6190476190476195,
          6.224066390041494,
          6.748466257668712
         ],
         "yaxis": "y10"
        },
        {
         "line": {
          "color": "rgba(200,200,200,80)"
         },
         "mode": "lines",
         "name": "",
         "type": "scatter",
         "x": [
          2001,
          2002,
          2003,
          2004,
          2005,
          2006,
          2007,
          2008,
          2009,
          2010,
          2011,
          2012,
          2013,
          2014,
          2015,
          2016,
          2017,
          2018,
          2019,
          2020,
          2021,
          2022,
          2023
         ],
         "xaxis": "x10",
         "y": [
          2.6143790849673203,
          11.351351351351353,
          1.7045454545454544,
          3.1914893617021276,
          4.232804232804233,
          10.695187165775401,
          3.7815126050420167,
          3.3962264150943398,
          5.415162454873646,
          1.4336917562724014,
          1.7482517482517483,
          6.779661016949152,
          5.405405405405405,
          2.527075812274368,
          4.72972972972973,
          3.041825095057034,
          1.6,
          3.205128205128205,
          4.491017964071856,
          9.180327868852459,
          4.923076923076923,
          8.359133126934983,
          10.2803738317757
         ],
         "yaxis": "y10"
        },
        {
         "line": {
          "color": "rgba(200,200,200,80)"
         },
         "mode": "lines",
         "name": "",
         "type": "scatter",
         "x": [
          2001,
          2002,
          2003,
          2004,
          2005,
          2006,
          2007,
          2008,
          2009,
          2010,
          2011,
          2012,
          2013,
          2014,
          2015,
          2016,
          2017,
          2018,
          2019,
          2020,
          2021,
          2022,
          2023
         ],
         "xaxis": "x10",
         "y": [
          0.5882352941176471,
          8.108108108108109,
          6.719367588932807,
          3.4482758620689653,
          9.48905109489051,
          5.894308943089431,
          6.488549618320611,
          4.273504273504273,
          12.213740458015266,
          6.151142355008787,
          3.5381750465549344,
          10.469314079422382,
          5.325443786982249,
          7.4324324324324325,
          7.945736434108527,
          5.809859154929577,
          12.5,
          6.138933764135703,
          11.377245508982035,
          11.702127659574469,
          11.11111111111111,
          8.960573476702509,
          12.442396313364055
         ],
         "yaxis": "y10"
        },
        {
         "line": {
          "color": "rgba(200,200,200,80)"
         },
         "mode": "lines",
         "name": "",
         "type": "scatter",
         "x": [
          2001,
          2002,
          2003,
          2004,
          2005,
          2006,
          2007,
          2008,
          2009,
          2010,
          2011,
          2012,
          2013,
          2014,
          2015,
          2016,
          2017,
          2018,
          2019,
          2020,
          2021,
          2022,
          2023
         ],
         "xaxis": "x10",
         "y": [
          25,
          24,
          26.08695652173913,
          15,
          29.411764705882355,
          23.809523809523807,
          30.555555555555557,
          15.625,
          11.538461538461538,
          26,
          29.411764705882355,
          37.83783783783784,
          27.77777777777778,
          26.666666666666668,
          19.35483870967742,
          23.684210526315788,
          25,
          26.666666666666668,
          28.205128205128204,
          28.57142857142857,
          17.24137931034483,
          32.142857142857146,
          40
         ],
         "yaxis": "y10"
        },
        {
         "line": {
          "color": "rgba(200,200,200,80)"
         },
         "mode": "lines",
         "name": "",
         "type": "scatter",
         "x": [
          2001,
          2002,
          2003,
          2004,
          2005,
          2006,
          2007,
          2008,
          2009,
          2010,
          2011,
          2012,
          2013,
          2014,
          2015,
          2016,
          2017,
          2018,
          2019,
          2020,
          2021,
          2022,
          2023
         ],
         "xaxis": "x10",
         "y": [
          null,
          0,
          0,
          9.58904109589041,
          0,
          0,
          1.2048192771084338,
          0,
          1.282051282051282,
          2.857142857142857,
          0,
          0,
          1.2048192771084338,
          1.8181818181818181,
          0,
          1.2987012987012987,
          2,
          0,
          0,
          1.9230769230769231,
          1.5625,
          2.2222222222222223,
          0
         ],
         "yaxis": "y10"
        },
        {
         "line": {
          "color": "rgba(200,200,200,80)"
         },
         "mode": "lines",
         "name": "",
         "type": "scatter",
         "x": [
          2001,
          2002,
          2003,
          2004,
          2005,
          2006,
          2007,
          2008,
          2009,
          2010,
          2011,
          2012,
          2013,
          2014,
          2015,
          2016,
          2017,
          2018,
          2019,
          2020,
          2021,
          2022,
          2023
         ],
         "xaxis": "x10",
         "y": [
          0,
          0,
          0,
          0,
          0,
          0,
          2.7027027027027026,
          2.127659574468085,
          2.564102564102564,
          2.2222222222222223,
          0,
          4.761904761904762,
          4.545454545454546,
          0,
          2.1739130434782608,
          2.4390243902439024,
          0,
          3.125,
          0,
          0,
          0,
          2.0408163265306123,
          0
         ],
         "yaxis": "y10"
        },
        {
         "line": {
          "color": "rgba(200,200,200,80)"
         },
         "mode": "lines",
         "name": "",
         "type": "scatter",
         "x": [
          2001,
          2002,
          2003,
          2004,
          2005,
          2006,
          2007,
          2008,
          2009,
          2010,
          2011,
          2012,
          2013,
          2014,
          2015,
          2016,
          2017,
          2018,
          2019,
          2020,
          2021,
          2022,
          2023
         ],
         "xaxis": "x10",
         "y": [
          3.571428571428571,
          4.10958904109589,
          2.73972602739726,
          7.377049180327869,
          1.9230769230769231,
          1.3071895424836601,
          5.0359712230215825,
          2.6881720430107525,
          5.327868852459016,
          4.291845493562231,
          1.3333333333333335,
          3.91304347826087,
          3.2388663967611335,
          1.951219512195122,
          2.6119402985074625,
          5.147058823529411,
          7.171314741035857,
          6.437768240343347,
          8.203125,
          4.910714285714286,
          9.803921568627452,
          10.50228310502283,
          13.612565445026178
         ],
         "yaxis": "y10"
        },
        {
         "line": {
          "color": "red"
         },
         "mode": "lines",
         "name": "",
         "type": "scatter",
         "x": [
          2001,
          2002,
          2003,
          2004,
          2005,
          2006,
          2007,
          2008,
          2009,
          2010,
          2011,
          2012,
          2013,
          2014,
          2015,
          2016,
          2017,
          2018,
          2019,
          2020,
          2021,
          2022,
          2023
         ],
         "xaxis": "x10",
         "y": [
          7.601184600197433,
          10.254163014899213,
          9.31899641577061,
          8.311518324607329,
          9.650259067357512,
          9.512893982808022,
          9.205867475973697,
          6.4500716674629714,
          10.21256931608133,
          8.185361628410567,
          8.379413015737985,
          11.15898319689789,
          8.82752376641014,
          8.702999577524292,
          9.347368421052632,
          9.67741935483871,
          11.011904761904761,
          8.860249697946033,
          10.437710437710438,
          10.715979137031768,
          11.10254433307633,
          12.056451612903226,
          13.452655889145495
         ],
         "yaxis": "y10"
        },
        {
         "line": {
          "color": "blue"
         },
         "mode": "lines",
         "name": "",
         "type": "scatter",
         "x": [
          2001,
          2002,
          2003,
          2004,
          2005,
          2006,
          2007,
          2008,
          2009,
          2010,
          2011,
          2012,
          2013,
          2014,
          2015,
          2016,
          2017,
          2018,
          2019,
          2020,
          2021,
          2022,
          2023
         ],
         "xaxis": "x10",
         "y": [
          3.4482758620689653,
          0,
          7.586206896551724,
          2.4691358024691357,
          5.384615384615385,
          1.3888888888888888,
          1.574803149606299,
          2.3529411764705883,
          7.065217391304348,
          2.7624309392265194,
          4.81283422459893,
          1.6574585635359116,
          1.9230769230769231,
          7.142857142857142,
          4.166666666666666,
          0,
          3.664921465968586,
          2.9268292682926833,
          5.202312138728324,
          6.081081081081082,
          2.1164021164021163,
          4.444444444444445,
          8.653846153846153
         ],
         "yaxis": "y10"
        },
        {
         "line": {
          "color": "rgba(200,200,200,80)"
         },
         "mode": "lines",
         "name": "",
         "type": "scatter",
         "x": [
          2001,
          2002,
          2003,
          2004,
          2005,
          2006,
          2007,
          2008,
          2009,
          2010,
          2011,
          2012,
          2013,
          2014,
          2015,
          2016,
          2017,
          2018,
          2019,
          2020,
          2021,
          2022,
          2023
         ],
         "xaxis": "x11",
         "y": [
          1,
          4.678362573099415,
          3.1413612565445024,
          2.4271844660194173,
          2.515723270440252,
          7.647058823529412,
          4.184100418410042,
          1.968503937007874,
          5.084745762711865,
          1.107011070110701,
          2.3346303501945527,
          1.4184397163120568,
          6.405693950177936,
          1.9672131147540985,
          12.741312741312742,
          5.604719764011799,
          3.202846975088968,
          1.3377926421404682,
          3.0716723549488054,
          6.343283582089552,
          5.844155844155844,
          8.552631578947368,
          7.657657657657657
         ],
         "yaxis": "y11"
        },
        {
         "line": {
          "color": "rgba(200,200,200,80)"
         },
         "mode": "lines",
         "name": "",
         "type": "scatter",
         "x": [
          2001,
          2002,
          2003,
          2004,
          2005,
          2006,
          2007,
          2008,
          2009,
          2010,
          2011,
          2012,
          2013,
          2014,
          2015,
          2016,
          2017,
          2018,
          2019,
          2020,
          2021,
          2022,
          2023
         ],
         "xaxis": "x11",
         "y": [
          4.242424242424243,
          3.1847133757961785,
          8.5,
          6.091370558375635,
          3.125,
          5.41871921182266,
          15.087719298245613,
          6.287425149700598,
          5.389221556886228,
          5.523255813953488,
          6.2645011600928076,
          17.50663129973475,
          7.122507122507122,
          5.974025974025974,
          8.27250608272506,
          8.997429305912597,
          12.672176308539946,
          11.557788944723619,
          8.87728459530026,
          8.955223880597014,
          7.774798927613941,
          15.123456790123457,
          8.415841584158416
         ],
         "yaxis": "y11"
        },
        {
         "line": {
          "color": "rgba(200,200,200,80)"
         },
         "mode": "lines",
         "name": "",
         "type": "scatter",
         "x": [
          2001,
          2002,
          2003,
          2004,
          2005,
          2006,
          2007,
          2008,
          2009,
          2010,
          2011,
          2012,
          2013,
          2014,
          2015,
          2016,
          2017,
          2018,
          2019,
          2020,
          2021,
          2022,
          2023
         ],
         "xaxis": "x11",
         "y": [
          8.75,
          7.317073170731707,
          7.59493670886076,
          5.681818181818182,
          17.24137931034483,
          8.60215053763441,
          4.62962962962963,
          3.7735849056603774,
          6.593406593406594,
          15.74074074074074,
          26.356589147286826,
          7.339449541284404,
          16.9811320754717,
          13.821138211382115,
          13.636363636363635,
          19.82758620689655,
          22.413793103448278,
          13.513513513513514,
          19.230769230769234,
          10.256410256410255,
          7.6190476190476195,
          6.224066390041494,
          6.748466257668712
         ],
         "yaxis": "y11"
        },
        {
         "line": {
          "color": "rgba(200,200,200,80)"
         },
         "mode": "lines",
         "name": "",
         "type": "scatter",
         "x": [
          2001,
          2002,
          2003,
          2004,
          2005,
          2006,
          2007,
          2008,
          2009,
          2010,
          2011,
          2012,
          2013,
          2014,
          2015,
          2016,
          2017,
          2018,
          2019,
          2020,
          2021,
          2022,
          2023
         ],
         "xaxis": "x11",
         "y": [
          2.6143790849673203,
          11.351351351351353,
          1.7045454545454544,
          3.1914893617021276,
          4.232804232804233,
          10.695187165775401,
          3.7815126050420167,
          3.3962264150943398,
          5.415162454873646,
          1.4336917562724014,
          1.7482517482517483,
          6.779661016949152,
          5.405405405405405,
          2.527075812274368,
          4.72972972972973,
          3.041825095057034,
          1.6,
          3.205128205128205,
          4.491017964071856,
          9.180327868852459,
          4.923076923076923,
          8.359133126934983,
          10.2803738317757
         ],
         "yaxis": "y11"
        },
        {
         "line": {
          "color": "rgba(200,200,200,80)"
         },
         "mode": "lines",
         "name": "",
         "type": "scatter",
         "x": [
          2001,
          2002,
          2003,
          2004,
          2005,
          2006,
          2007,
          2008,
          2009,
          2010,
          2011,
          2012,
          2013,
          2014,
          2015,
          2016,
          2017,
          2018,
          2019,
          2020,
          2021,
          2022,
          2023
         ],
         "xaxis": "x11",
         "y": [
          0.5882352941176471,
          8.108108108108109,
          6.719367588932807,
          3.4482758620689653,
          9.48905109489051,
          5.894308943089431,
          6.488549618320611,
          4.273504273504273,
          12.213740458015266,
          6.151142355008787,
          3.5381750465549344,
          10.469314079422382,
          5.325443786982249,
          7.4324324324324325,
          7.945736434108527,
          5.809859154929577,
          12.5,
          6.138933764135703,
          11.377245508982035,
          11.702127659574469,
          11.11111111111111,
          8.960573476702509,
          12.442396313364055
         ],
         "yaxis": "y11"
        },
        {
         "line": {
          "color": "rgba(200,200,200,80)"
         },
         "mode": "lines",
         "name": "",
         "type": "scatter",
         "x": [
          2001,
          2002,
          2003,
          2004,
          2005,
          2006,
          2007,
          2008,
          2009,
          2010,
          2011,
          2012,
          2013,
          2014,
          2015,
          2016,
          2017,
          2018,
          2019,
          2020,
          2021,
          2022,
          2023
         ],
         "xaxis": "x11",
         "y": [
          25,
          24,
          26.08695652173913,
          15,
          29.411764705882355,
          23.809523809523807,
          30.555555555555557,
          15.625,
          11.538461538461538,
          26,
          29.411764705882355,
          37.83783783783784,
          27.77777777777778,
          26.666666666666668,
          19.35483870967742,
          23.684210526315788,
          25,
          26.666666666666668,
          28.205128205128204,
          28.57142857142857,
          17.24137931034483,
          32.142857142857146,
          40
         ],
         "yaxis": "y11"
        },
        {
         "line": {
          "color": "rgba(200,200,200,80)"
         },
         "mode": "lines",
         "name": "",
         "type": "scatter",
         "x": [
          2001,
          2002,
          2003,
          2004,
          2005,
          2006,
          2007,
          2008,
          2009,
          2010,
          2011,
          2012,
          2013,
          2014,
          2015,
          2016,
          2017,
          2018,
          2019,
          2020,
          2021,
          2022,
          2023
         ],
         "xaxis": "x11",
         "y": [
          null,
          0,
          0,
          9.58904109589041,
          0,
          0,
          1.2048192771084338,
          0,
          1.282051282051282,
          2.857142857142857,
          0,
          0,
          1.2048192771084338,
          1.8181818181818181,
          0,
          1.2987012987012987,
          2,
          0,
          0,
          1.9230769230769231,
          1.5625,
          2.2222222222222223,
          0
         ],
         "yaxis": "y11"
        },
        {
         "line": {
          "color": "rgba(200,200,200,80)"
         },
         "mode": "lines",
         "name": "",
         "type": "scatter",
         "x": [
          2001,
          2002,
          2003,
          2004,
          2005,
          2006,
          2007,
          2008,
          2009,
          2010,
          2011,
          2012,
          2013,
          2014,
          2015,
          2016,
          2017,
          2018,
          2019,
          2020,
          2021,
          2022,
          2023
         ],
         "xaxis": "x11",
         "y": [
          3.4482758620689653,
          0,
          7.586206896551724,
          2.4691358024691357,
          5.384615384615385,
          1.3888888888888888,
          1.574803149606299,
          2.3529411764705883,
          7.065217391304348,
          2.7624309392265194,
          4.81283422459893,
          1.6574585635359116,
          1.9230769230769231,
          7.142857142857142,
          4.166666666666666,
          0,
          3.664921465968586,
          2.9268292682926833,
          5.202312138728324,
          6.081081081081082,
          2.1164021164021163,
          4.444444444444445,
          8.653846153846153
         ],
         "yaxis": "y11"
        },
        {
         "line": {
          "color": "rgba(200,200,200,80)"
         },
         "mode": "lines",
         "name": "",
         "type": "scatter",
         "x": [
          2001,
          2002,
          2003,
          2004,
          2005,
          2006,
          2007,
          2008,
          2009,
          2010,
          2011,
          2012,
          2013,
          2014,
          2015,
          2016,
          2017,
          2018,
          2019,
          2020,
          2021,
          2022,
          2023
         ],
         "xaxis": "x11",
         "y": [
          3.571428571428571,
          4.10958904109589,
          2.73972602739726,
          7.377049180327869,
          1.9230769230769231,
          1.3071895424836601,
          5.0359712230215825,
          2.6881720430107525,
          5.327868852459016,
          4.291845493562231,
          1.3333333333333335,
          3.91304347826087,
          3.2388663967611335,
          1.951219512195122,
          2.6119402985074625,
          5.147058823529411,
          7.171314741035857,
          6.437768240343347,
          8.203125,
          4.910714285714286,
          9.803921568627452,
          10.50228310502283,
          13.612565445026178
         ],
         "yaxis": "y11"
        },
        {
         "line": {
          "color": "red"
         },
         "mode": "lines",
         "name": "",
         "type": "scatter",
         "x": [
          2001,
          2002,
          2003,
          2004,
          2005,
          2006,
          2007,
          2008,
          2009,
          2010,
          2011,
          2012,
          2013,
          2014,
          2015,
          2016,
          2017,
          2018,
          2019,
          2020,
          2021,
          2022,
          2023
         ],
         "xaxis": "x11",
         "y": [
          7.601184600197433,
          10.254163014899213,
          9.31899641577061,
          8.311518324607329,
          9.650259067357512,
          9.512893982808022,
          9.205867475973697,
          6.4500716674629714,
          10.21256931608133,
          8.185361628410567,
          8.379413015737985,
          11.15898319689789,
          8.82752376641014,
          8.702999577524292,
          9.347368421052632,
          9.67741935483871,
          11.011904761904761,
          8.860249697946033,
          10.437710437710438,
          10.715979137031768,
          11.10254433307633,
          12.056451612903226,
          13.452655889145495
         ],
         "yaxis": "y11"
        },
        {
         "line": {
          "color": "blue"
         },
         "mode": "lines",
         "name": "",
         "type": "scatter",
         "x": [
          2001,
          2002,
          2003,
          2004,
          2005,
          2006,
          2007,
          2008,
          2009,
          2010,
          2011,
          2012,
          2013,
          2014,
          2015,
          2016,
          2017,
          2018,
          2019,
          2020,
          2021,
          2022,
          2023
         ],
         "xaxis": "x11",
         "y": [
          0,
          0,
          0,
          0,
          0,
          0,
          2.7027027027027026,
          2.127659574468085,
          2.564102564102564,
          2.2222222222222223,
          0,
          4.761904761904762,
          4.545454545454546,
          0,
          2.1739130434782608,
          2.4390243902439024,
          0,
          3.125,
          0,
          0,
          0,
          2.0408163265306123,
          0
         ],
         "yaxis": "y11"
        },
        {
         "line": {
          "color": "rgba(200,200,200,80)"
         },
         "mode": "lines",
         "name": "",
         "type": "scatter",
         "x": [
          2001,
          2002,
          2003,
          2004,
          2005,
          2006,
          2007,
          2008,
          2009,
          2010,
          2011,
          2012,
          2013,
          2014,
          2015,
          2016,
          2017,
          2018,
          2019,
          2020,
          2021,
          2022,
          2023
         ],
         "xaxis": "x12",
         "y": [
          1,
          4.678362573099415,
          3.1413612565445024,
          2.4271844660194173,
          2.515723270440252,
          7.647058823529412,
          4.184100418410042,
          1.968503937007874,
          5.084745762711865,
          1.107011070110701,
          2.3346303501945527,
          1.4184397163120568,
          6.405693950177936,
          1.9672131147540985,
          12.741312741312742,
          5.604719764011799,
          3.202846975088968,
          1.3377926421404682,
          3.0716723549488054,
          6.343283582089552,
          5.844155844155844,
          8.552631578947368,
          7.657657657657657
         ],
         "yaxis": "y12"
        },
        {
         "line": {
          "color": "rgba(200,200,200,80)"
         },
         "mode": "lines",
         "name": "",
         "type": "scatter",
         "x": [
          2001,
          2002,
          2003,
          2004,
          2005,
          2006,
          2007,
          2008,
          2009,
          2010,
          2011,
          2012,
          2013,
          2014,
          2015,
          2016,
          2017,
          2018,
          2019,
          2020,
          2021,
          2022,
          2023
         ],
         "xaxis": "x12",
         "y": [
          4.242424242424243,
          3.1847133757961785,
          8.5,
          6.091370558375635,
          3.125,
          5.41871921182266,
          15.087719298245613,
          6.287425149700598,
          5.389221556886228,
          5.523255813953488,
          6.2645011600928076,
          17.50663129973475,
          7.122507122507122,
          5.974025974025974,
          8.27250608272506,
          8.997429305912597,
          12.672176308539946,
          11.557788944723619,
          8.87728459530026,
          8.955223880597014,
          7.774798927613941,
          15.123456790123457,
          8.415841584158416
         ],
         "yaxis": "y12"
        },
        {
         "line": {
          "color": "rgba(200,200,200,80)"
         },
         "mode": "lines",
         "name": "",
         "type": "scatter",
         "x": [
          2001,
          2002,
          2003,
          2004,
          2005,
          2006,
          2007,
          2008,
          2009,
          2010,
          2011,
          2012,
          2013,
          2014,
          2015,
          2016,
          2017,
          2018,
          2019,
          2020,
          2021,
          2022,
          2023
         ],
         "xaxis": "x12",
         "y": [
          8.75,
          7.317073170731707,
          7.59493670886076,
          5.681818181818182,
          17.24137931034483,
          8.60215053763441,
          4.62962962962963,
          3.7735849056603774,
          6.593406593406594,
          15.74074074074074,
          26.356589147286826,
          7.339449541284404,
          16.9811320754717,
          13.821138211382115,
          13.636363636363635,
          19.82758620689655,
          22.413793103448278,
          13.513513513513514,
          19.230769230769234,
          10.256410256410255,
          7.6190476190476195,
          6.224066390041494,
          6.748466257668712
         ],
         "yaxis": "y12"
        },
        {
         "line": {
          "color": "rgba(200,200,200,80)"
         },
         "mode": "lines",
         "name": "",
         "type": "scatter",
         "x": [
          2001,
          2002,
          2003,
          2004,
          2005,
          2006,
          2007,
          2008,
          2009,
          2010,
          2011,
          2012,
          2013,
          2014,
          2015,
          2016,
          2017,
          2018,
          2019,
          2020,
          2021,
          2022,
          2023
         ],
         "xaxis": "x12",
         "y": [
          2.6143790849673203,
          11.351351351351353,
          1.7045454545454544,
          3.1914893617021276,
          4.232804232804233,
          10.695187165775401,
          3.7815126050420167,
          3.3962264150943398,
          5.415162454873646,
          1.4336917562724014,
          1.7482517482517483,
          6.779661016949152,
          5.405405405405405,
          2.527075812274368,
          4.72972972972973,
          3.041825095057034,
          1.6,
          3.205128205128205,
          4.491017964071856,
          9.180327868852459,
          4.923076923076923,
          8.359133126934983,
          10.2803738317757
         ],
         "yaxis": "y12"
        },
        {
         "line": {
          "color": "rgba(200,200,200,80)"
         },
         "mode": "lines",
         "name": "",
         "type": "scatter",
         "x": [
          2001,
          2002,
          2003,
          2004,
          2005,
          2006,
          2007,
          2008,
          2009,
          2010,
          2011,
          2012,
          2013,
          2014,
          2015,
          2016,
          2017,
          2018,
          2019,
          2020,
          2021,
          2022,
          2023
         ],
         "xaxis": "x12",
         "y": [
          0.5882352941176471,
          8.108108108108109,
          6.719367588932807,
          3.4482758620689653,
          9.48905109489051,
          5.894308943089431,
          6.488549618320611,
          4.273504273504273,
          12.213740458015266,
          6.151142355008787,
          3.5381750465549344,
          10.469314079422382,
          5.325443786982249,
          7.4324324324324325,
          7.945736434108527,
          5.809859154929577,
          12.5,
          6.138933764135703,
          11.377245508982035,
          11.702127659574469,
          11.11111111111111,
          8.960573476702509,
          12.442396313364055
         ],
         "yaxis": "y12"
        },
        {
         "line": {
          "color": "rgba(200,200,200,80)"
         },
         "mode": "lines",
         "name": "",
         "type": "scatter",
         "x": [
          2001,
          2002,
          2003,
          2004,
          2005,
          2006,
          2007,
          2008,
          2009,
          2010,
          2011,
          2012,
          2013,
          2014,
          2015,
          2016,
          2017,
          2018,
          2019,
          2020,
          2021,
          2022,
          2023
         ],
         "xaxis": "x12",
         "y": [
          25,
          24,
          26.08695652173913,
          15,
          29.411764705882355,
          23.809523809523807,
          30.555555555555557,
          15.625,
          11.538461538461538,
          26,
          29.411764705882355,
          37.83783783783784,
          27.77777777777778,
          26.666666666666668,
          19.35483870967742,
          23.684210526315788,
          25,
          26.666666666666668,
          28.205128205128204,
          28.57142857142857,
          17.24137931034483,
          32.142857142857146,
          40
         ],
         "yaxis": "y12"
        },
        {
         "line": {
          "color": "rgba(200,200,200,80)"
         },
         "mode": "lines",
         "name": "",
         "type": "scatter",
         "x": [
          2001,
          2002,
          2003,
          2004,
          2005,
          2006,
          2007,
          2008,
          2009,
          2010,
          2011,
          2012,
          2013,
          2014,
          2015,
          2016,
          2017,
          2018,
          2019,
          2020,
          2021,
          2022,
          2023
         ],
         "xaxis": "x12",
         "y": [
          null,
          0,
          0,
          9.58904109589041,
          0,
          0,
          1.2048192771084338,
          0,
          1.282051282051282,
          2.857142857142857,
          0,
          0,
          1.2048192771084338,
          1.8181818181818181,
          0,
          1.2987012987012987,
          2,
          0,
          0,
          1.9230769230769231,
          1.5625,
          2.2222222222222223,
          0
         ],
         "yaxis": "y12"
        },
        {
         "line": {
          "color": "rgba(200,200,200,80)"
         },
         "mode": "lines",
         "name": "",
         "type": "scatter",
         "x": [
          2001,
          2002,
          2003,
          2004,
          2005,
          2006,
          2007,
          2008,
          2009,
          2010,
          2011,
          2012,
          2013,
          2014,
          2015,
          2016,
          2017,
          2018,
          2019,
          2020,
          2021,
          2022,
          2023
         ],
         "xaxis": "x12",
         "y": [
          3.4482758620689653,
          0,
          7.586206896551724,
          2.4691358024691357,
          5.384615384615385,
          1.3888888888888888,
          1.574803149606299,
          2.3529411764705883,
          7.065217391304348,
          2.7624309392265194,
          4.81283422459893,
          1.6574585635359116,
          1.9230769230769231,
          7.142857142857142,
          4.166666666666666,
          0,
          3.664921465968586,
          2.9268292682926833,
          5.202312138728324,
          6.081081081081082,
          2.1164021164021163,
          4.444444444444445,
          8.653846153846153
         ],
         "yaxis": "y12"
        },
        {
         "line": {
          "color": "rgba(200,200,200,80)"
         },
         "mode": "lines",
         "name": "",
         "type": "scatter",
         "x": [
          2001,
          2002,
          2003,
          2004,
          2005,
          2006,
          2007,
          2008,
          2009,
          2010,
          2011,
          2012,
          2013,
          2014,
          2015,
          2016,
          2017,
          2018,
          2019,
          2020,
          2021,
          2022,
          2023
         ],
         "xaxis": "x12",
         "y": [
          0,
          0,
          0,
          0,
          0,
          0,
          2.7027027027027026,
          2.127659574468085,
          2.564102564102564,
          2.2222222222222223,
          0,
          4.761904761904762,
          4.545454545454546,
          0,
          2.1739130434782608,
          2.4390243902439024,
          0,
          3.125,
          0,
          0,
          0,
          2.0408163265306123,
          0
         ],
         "yaxis": "y12"
        },
        {
         "line": {
          "color": "red"
         },
         "mode": "lines",
         "name": "",
         "type": "scatter",
         "x": [
          2001,
          2002,
          2003,
          2004,
          2005,
          2006,
          2007,
          2008,
          2009,
          2010,
          2011,
          2012,
          2013,
          2014,
          2015,
          2016,
          2017,
          2018,
          2019,
          2020,
          2021,
          2022,
          2023
         ],
         "xaxis": "x12",
         "y": [
          7.601184600197433,
          10.254163014899213,
          9.31899641577061,
          8.311518324607329,
          9.650259067357512,
          9.512893982808022,
          9.205867475973697,
          6.4500716674629714,
          10.21256931608133,
          8.185361628410567,
          8.379413015737985,
          11.15898319689789,
          8.82752376641014,
          8.702999577524292,
          9.347368421052632,
          9.67741935483871,
          11.011904761904761,
          8.860249697946033,
          10.437710437710438,
          10.715979137031768,
          11.10254433307633,
          12.056451612903226,
          13.452655889145495
         ],
         "yaxis": "y12"
        },
        {
         "line": {
          "color": "blue"
         },
         "mode": "lines",
         "name": "",
         "type": "scatter",
         "x": [
          2001,
          2002,
          2003,
          2004,
          2005,
          2006,
          2007,
          2008,
          2009,
          2010,
          2011,
          2012,
          2013,
          2014,
          2015,
          2016,
          2017,
          2018,
          2019,
          2020,
          2021,
          2022,
          2023
         ],
         "xaxis": "x12",
         "y": [
          3.571428571428571,
          4.10958904109589,
          2.73972602739726,
          7.377049180327869,
          1.9230769230769231,
          1.3071895424836601,
          5.0359712230215825,
          2.6881720430107525,
          5.327868852459016,
          4.291845493562231,
          1.3333333333333335,
          3.91304347826087,
          3.2388663967611335,
          1.951219512195122,
          2.6119402985074625,
          5.147058823529411,
          7.171314741035857,
          6.437768240343347,
          8.203125,
          4.910714285714286,
          9.803921568627452,
          10.50228310502283,
          13.612565445026178
         ],
         "yaxis": "y12"
        },
        {
         "line": {
          "color": "rgba(200,200,200,80)"
         },
         "mode": "lines",
         "name": "",
         "type": "scatter",
         "x": [
          2001,
          2002,
          2003,
          2004,
          2005,
          2006,
          2007,
          2008,
          2009,
          2010,
          2011,
          2012,
          2013,
          2014,
          2015,
          2016,
          2017,
          2018,
          2019,
          2020,
          2021,
          2022,
          2023
         ],
         "xaxis": "x13",
         "y": [
          1,
          4.678362573099415,
          3.1413612565445024,
          2.4271844660194173,
          2.515723270440252,
          7.647058823529412,
          4.184100418410042,
          1.968503937007874,
          5.084745762711865,
          1.107011070110701,
          2.3346303501945527,
          1.4184397163120568,
          6.405693950177936,
          1.9672131147540985,
          12.741312741312742,
          5.604719764011799,
          3.202846975088968,
          1.3377926421404682,
          3.0716723549488054,
          6.343283582089552,
          5.844155844155844,
          8.552631578947368,
          7.657657657657657
         ],
         "yaxis": "y13"
        },
        {
         "line": {
          "color": "rgba(200,200,200,80)"
         },
         "mode": "lines",
         "name": "",
         "type": "scatter",
         "x": [
          2001,
          2002,
          2003,
          2004,
          2005,
          2006,
          2007,
          2008,
          2009,
          2010,
          2011,
          2012,
          2013,
          2014,
          2015,
          2016,
          2017,
          2018,
          2019,
          2020,
          2021,
          2022,
          2023
         ],
         "xaxis": "x13",
         "y": [
          4.242424242424243,
          3.1847133757961785,
          8.5,
          6.091370558375635,
          3.125,
          5.41871921182266,
          15.087719298245613,
          6.287425149700598,
          5.389221556886228,
          5.523255813953488,
          6.2645011600928076,
          17.50663129973475,
          7.122507122507122,
          5.974025974025974,
          8.27250608272506,
          8.997429305912597,
          12.672176308539946,
          11.557788944723619,
          8.87728459530026,
          8.955223880597014,
          7.774798927613941,
          15.123456790123457,
          8.415841584158416
         ],
         "yaxis": "y13"
        },
        {
         "line": {
          "color": "rgba(200,200,200,80)"
         },
         "mode": "lines",
         "name": "",
         "type": "scatter",
         "x": [
          2001,
          2002,
          2003,
          2004,
          2005,
          2006,
          2007,
          2008,
          2009,
          2010,
          2011,
          2012,
          2013,
          2014,
          2015,
          2016,
          2017,
          2018,
          2019,
          2020,
          2021,
          2022,
          2023
         ],
         "xaxis": "x13",
         "y": [
          8.75,
          7.317073170731707,
          7.59493670886076,
          5.681818181818182,
          17.24137931034483,
          8.60215053763441,
          4.62962962962963,
          3.7735849056603774,
          6.593406593406594,
          15.74074074074074,
          26.356589147286826,
          7.339449541284404,
          16.9811320754717,
          13.821138211382115,
          13.636363636363635,
          19.82758620689655,
          22.413793103448278,
          13.513513513513514,
          19.230769230769234,
          10.256410256410255,
          7.6190476190476195,
          6.224066390041494,
          6.748466257668712
         ],
         "yaxis": "y13"
        },
        {
         "line": {
          "color": "rgba(200,200,200,80)"
         },
         "mode": "lines",
         "name": "",
         "type": "scatter",
         "x": [
          2001,
          2002,
          2003,
          2004,
          2005,
          2006,
          2007,
          2008,
          2009,
          2010,
          2011,
          2012,
          2013,
          2014,
          2015,
          2016,
          2017,
          2018,
          2019,
          2020,
          2021,
          2022,
          2023
         ],
         "xaxis": "x13",
         "y": [
          2.6143790849673203,
          11.351351351351353,
          1.7045454545454544,
          3.1914893617021276,
          4.232804232804233,
          10.695187165775401,
          3.7815126050420167,
          3.3962264150943398,
          5.415162454873646,
          1.4336917562724014,
          1.7482517482517483,
          6.779661016949152,
          5.405405405405405,
          2.527075812274368,
          4.72972972972973,
          3.041825095057034,
          1.6,
          3.205128205128205,
          4.491017964071856,
          9.180327868852459,
          4.923076923076923,
          8.359133126934983,
          10.2803738317757
         ],
         "yaxis": "y13"
        },
        {
         "line": {
          "color": "rgba(200,200,200,80)"
         },
         "mode": "lines",
         "name": "",
         "type": "scatter",
         "x": [
          2001,
          2002,
          2003,
          2004,
          2005,
          2006,
          2007,
          2008,
          2009,
          2010,
          2011,
          2012,
          2013,
          2014,
          2015,
          2016,
          2017,
          2018,
          2019,
          2020,
          2021,
          2022,
          2023
         ],
         "xaxis": "x13",
         "y": [
          25,
          24,
          26.08695652173913,
          15,
          29.411764705882355,
          23.809523809523807,
          30.555555555555557,
          15.625,
          11.538461538461538,
          26,
          29.411764705882355,
          37.83783783783784,
          27.77777777777778,
          26.666666666666668,
          19.35483870967742,
          23.684210526315788,
          25,
          26.666666666666668,
          28.205128205128204,
          28.57142857142857,
          17.24137931034483,
          32.142857142857146,
          40
         ],
         "yaxis": "y13"
        },
        {
         "line": {
          "color": "rgba(200,200,200,80)"
         },
         "mode": "lines",
         "name": "",
         "type": "scatter",
         "x": [
          2001,
          2002,
          2003,
          2004,
          2005,
          2006,
          2007,
          2008,
          2009,
          2010,
          2011,
          2012,
          2013,
          2014,
          2015,
          2016,
          2017,
          2018,
          2019,
          2020,
          2021,
          2022,
          2023
         ],
         "xaxis": "x13",
         "y": [
          null,
          0,
          0,
          9.58904109589041,
          0,
          0,
          1.2048192771084338,
          0,
          1.282051282051282,
          2.857142857142857,
          0,
          0,
          1.2048192771084338,
          1.8181818181818181,
          0,
          1.2987012987012987,
          2,
          0,
          0,
          1.9230769230769231,
          1.5625,
          2.2222222222222223,
          0
         ],
         "yaxis": "y13"
        },
        {
         "line": {
          "color": "rgba(200,200,200,80)"
         },
         "mode": "lines",
         "name": "",
         "type": "scatter",
         "x": [
          2001,
          2002,
          2003,
          2004,
          2005,
          2006,
          2007,
          2008,
          2009,
          2010,
          2011,
          2012,
          2013,
          2014,
          2015,
          2016,
          2017,
          2018,
          2019,
          2020,
          2021,
          2022,
          2023
         ],
         "xaxis": "x13",
         "y": [
          3.4482758620689653,
          0,
          7.586206896551724,
          2.4691358024691357,
          5.384615384615385,
          1.3888888888888888,
          1.574803149606299,
          2.3529411764705883,
          7.065217391304348,
          2.7624309392265194,
          4.81283422459893,
          1.6574585635359116,
          1.9230769230769231,
          7.142857142857142,
          4.166666666666666,
          0,
          3.664921465968586,
          2.9268292682926833,
          5.202312138728324,
          6.081081081081082,
          2.1164021164021163,
          4.444444444444445,
          8.653846153846153
         ],
         "yaxis": "y13"
        },
        {
         "line": {
          "color": "rgba(200,200,200,80)"
         },
         "mode": "lines",
         "name": "",
         "type": "scatter",
         "x": [
          2001,
          2002,
          2003,
          2004,
          2005,
          2006,
          2007,
          2008,
          2009,
          2010,
          2011,
          2012,
          2013,
          2014,
          2015,
          2016,
          2017,
          2018,
          2019,
          2020,
          2021,
          2022,
          2023
         ],
         "xaxis": "x13",
         "y": [
          0,
          0,
          0,
          0,
          0,
          0,
          2.7027027027027026,
          2.127659574468085,
          2.564102564102564,
          2.2222222222222223,
          0,
          4.761904761904762,
          4.545454545454546,
          0,
          2.1739130434782608,
          2.4390243902439024,
          0,
          3.125,
          0,
          0,
          0,
          2.0408163265306123,
          0
         ],
         "yaxis": "y13"
        },
        {
         "line": {
          "color": "rgba(200,200,200,80)"
         },
         "mode": "lines",
         "name": "",
         "type": "scatter",
         "x": [
          2001,
          2002,
          2003,
          2004,
          2005,
          2006,
          2007,
          2008,
          2009,
          2010,
          2011,
          2012,
          2013,
          2014,
          2015,
          2016,
          2017,
          2018,
          2019,
          2020,
          2021,
          2022,
          2023
         ],
         "xaxis": "x13",
         "y": [
          3.571428571428571,
          4.10958904109589,
          2.73972602739726,
          7.377049180327869,
          1.9230769230769231,
          1.3071895424836601,
          5.0359712230215825,
          2.6881720430107525,
          5.327868852459016,
          4.291845493562231,
          1.3333333333333335,
          3.91304347826087,
          3.2388663967611335,
          1.951219512195122,
          2.6119402985074625,
          5.147058823529411,
          7.171314741035857,
          6.437768240343347,
          8.203125,
          4.910714285714286,
          9.803921568627452,
          10.50228310502283,
          13.612565445026178
         ],
         "yaxis": "y13"
        },
        {
         "line": {
          "color": "red"
         },
         "mode": "lines",
         "name": "",
         "type": "scatter",
         "x": [
          2001,
          2002,
          2003,
          2004,
          2005,
          2006,
          2007,
          2008,
          2009,
          2010,
          2011,
          2012,
          2013,
          2014,
          2015,
          2016,
          2017,
          2018,
          2019,
          2020,
          2021,
          2022,
          2023
         ],
         "xaxis": "x13",
         "y": [
          7.601184600197433,
          10.254163014899213,
          9.31899641577061,
          8.311518324607329,
          9.650259067357512,
          9.512893982808022,
          9.205867475973697,
          6.4500716674629714,
          10.21256931608133,
          8.185361628410567,
          8.379413015737985,
          11.15898319689789,
          8.82752376641014,
          8.702999577524292,
          9.347368421052632,
          9.67741935483871,
          11.011904761904761,
          8.860249697946033,
          10.437710437710438,
          10.715979137031768,
          11.10254433307633,
          12.056451612903226,
          13.452655889145495
         ],
         "yaxis": "y13"
        },
        {
         "line": {
          "color": "blue"
         },
         "mode": "lines",
         "name": "",
         "type": "scatter",
         "x": [
          2001,
          2002,
          2003,
          2004,
          2005,
          2006,
          2007,
          2008,
          2009,
          2010,
          2011,
          2012,
          2013,
          2014,
          2015,
          2016,
          2017,
          2018,
          2019,
          2020,
          2021,
          2022,
          2023
         ],
         "xaxis": "x13",
         "y": [
          0.5882352941176471,
          8.108108108108109,
          6.719367588932807,
          3.4482758620689653,
          9.48905109489051,
          5.894308943089431,
          6.488549618320611,
          4.273504273504273,
          12.213740458015266,
          6.151142355008787,
          3.5381750465549344,
          10.469314079422382,
          5.325443786982249,
          7.4324324324324325,
          7.945736434108527,
          5.809859154929577,
          12.5,
          6.138933764135703,
          11.377245508982035,
          11.702127659574469,
          11.11111111111111,
          8.960573476702509,
          12.442396313364055
         ],
         "yaxis": "y13"
        }
       ],
       "layout": {
        "annotations": [
         {
          "font": {
           "size": 16
          },
          "showarrow": false,
          "text": "Général",
          "x": 0.32222222222222224,
          "xanchor": "center",
          "xref": "paper",
          "y": 1,
          "yanchor": "bottom",
          "yref": "paper"
         },
         {
          "font": {
           "size": 16
          },
          "showarrow": false,
          "text": "Science Politique",
          "x": 0.14444444444444446,
          "xanchor": "center",
          "xref": "paper",
          "y": 0.78,
          "yanchor": "bottom",
          "yref": "paper"
         },
         {
          "font": {
           "size": 16
          },
          "showarrow": false,
          "text": "Sociologie",
          "x": 0.5,
          "xanchor": "center",
          "xref": "paper",
          "y": 0.78,
          "yanchor": "bottom",
          "yref": "paper"
         },
         {
          "font": {
           "size": 16
          },
          "showarrow": false,
          "text": "Genre",
          "x": 0.8555555555555556,
          "xanchor": "center",
          "xref": "paper",
          "y": 0.78,
          "yanchor": "bottom",
          "yref": "paper"
         },
         {
          "font": {
           "size": 16
          },
          "showarrow": false,
          "text": "Anthropologie",
          "x": 0.14444444444444446,
          "xanchor": "center",
          "xref": "paper",
          "y": 0.56,
          "yanchor": "bottom",
          "yref": "paper"
         },
         {
          "font": {
           "size": 16
          },
          "showarrow": false,
          "text": "Histoire",
          "x": 0.5,
          "xanchor": "center",
          "xref": "paper",
          "y": 0.56,
          "yanchor": "bottom",
          "yref": "paper"
         },
         {
          "font": {
           "size": 16
          },
          "showarrow": false,
          "text": "Démographie",
          "x": 0.8555555555555556,
          "xanchor": "center",
          "xref": "paper",
          "y": 0.56,
          "yanchor": "bottom",
          "yref": "paper"
         },
         {
          "font": {
           "size": 16
          },
          "showarrow": false,
          "text": "Économie",
          "x": 0.14444444444444446,
          "xanchor": "center",
          "xref": "paper",
          "y": 0.33999999999999997,
          "yanchor": "bottom",
          "yref": "paper"
         },
         {
          "font": {
           "size": 16
          },
          "showarrow": false,
          "text": "SIC",
          "x": 0.5,
          "xanchor": "center",
          "xref": "paper",
          "y": 0.33999999999999997,
          "yanchor": "bottom",
          "yref": "paper"
         },
         {
          "font": {
           "size": 16
          },
          "showarrow": false,
          "text": "Géographie",
          "x": 0.8555555555555556,
          "xanchor": "center",
          "xref": "paper",
          "y": 0.33999999999999997,
          "yanchor": "bottom",
          "yref": "paper"
         },
         {
          "font": {
           "size": 16
          },
          "showarrow": false,
          "text": "Aréales",
          "x": 0.14444444444444446,
          "xanchor": "center",
          "xref": "paper",
          "y": 0.12,
          "yanchor": "bottom",
          "yref": "paper"
         },
         {
          "font": {
           "size": 16
          },
          "showarrow": false,
          "text": "Autre interdisciplinaire",
          "x": 0.5,
          "xanchor": "center",
          "xref": "paper",
          "y": 0.12,
          "yanchor": "bottom",
          "yref": "paper"
         },
         {
          "font": {
           "size": 16
          },
          "showarrow": false,
          "text": "Année de publication",
          "x": 0.5,
          "xanchor": "center",
          "xref": "paper",
          "y": 0,
          "yanchor": "top",
          "yref": "paper",
          "yshift": -30
         },
         {
          "font": {
           "size": 16
          },
          "showarrow": false,
          "text": "Part des articles qui invoquent le concept du genre",
          "textangle": -90,
          "x": 0,
          "xanchor": "right",
          "xref": "paper",
          "xshift": -40,
          "y": 0.5,
          "yanchor": "middle",
          "yref": "paper"
         }
        ],
        "height": 700,
        "plot_bgcolor": "white",
        "showlegend": false,
        "template": {
         "data": {
          "bar": [
           {
            "error_x": {
             "color": "#2a3f5f"
            },
            "error_y": {
             "color": "#2a3f5f"
            },
            "marker": {
             "line": {
              "color": "#E5ECF6",
              "width": 0.5
             },
             "pattern": {
              "fillmode": "overlay",
              "size": 10,
              "solidity": 0.2
             }
            },
            "type": "bar"
           }
          ],
          "barpolar": [
           {
            "marker": {
             "line": {
              "color": "#E5ECF6",
              "width": 0.5
             },
             "pattern": {
              "fillmode": "overlay",
              "size": 10,
              "solidity": 0.2
             }
            },
            "type": "barpolar"
           }
          ],
          "carpet": [
           {
            "aaxis": {
             "endlinecolor": "#2a3f5f",
             "gridcolor": "white",
             "linecolor": "white",
             "minorgridcolor": "white",
             "startlinecolor": "#2a3f5f"
            },
            "baxis": {
             "endlinecolor": "#2a3f5f",
             "gridcolor": "white",
             "linecolor": "white",
             "minorgridcolor": "white",
             "startlinecolor": "#2a3f5f"
            },
            "type": "carpet"
           }
          ],
          "choropleth": [
           {
            "colorbar": {
             "outlinewidth": 0,
             "ticks": ""
            },
            "type": "choropleth"
           }
          ],
          "contour": [
           {
            "colorbar": {
             "outlinewidth": 0,
             "ticks": ""
            },
            "colorscale": [
             [
              0,
              "#0d0887"
             ],
             [
              0.1111111111111111,
              "#46039f"
             ],
             [
              0.2222222222222222,
              "#7201a8"
             ],
             [
              0.3333333333333333,
              "#9c179e"
             ],
             [
              0.4444444444444444,
              "#bd3786"
             ],
             [
              0.5555555555555556,
              "#d8576b"
             ],
             [
              0.6666666666666666,
              "#ed7953"
             ],
             [
              0.7777777777777778,
              "#fb9f3a"
             ],
             [
              0.8888888888888888,
              "#fdca26"
             ],
             [
              1,
              "#f0f921"
             ]
            ],
            "type": "contour"
           }
          ],
          "contourcarpet": [
           {
            "colorbar": {
             "outlinewidth": 0,
             "ticks": ""
            },
            "type": "contourcarpet"
           }
          ],
          "heatmap": [
           {
            "colorbar": {
             "outlinewidth": 0,
             "ticks": ""
            },
            "colorscale": [
             [
              0,
              "#0d0887"
             ],
             [
              0.1111111111111111,
              "#46039f"
             ],
             [
              0.2222222222222222,
              "#7201a8"
             ],
             [
              0.3333333333333333,
              "#9c179e"
             ],
             [
              0.4444444444444444,
              "#bd3786"
             ],
             [
              0.5555555555555556,
              "#d8576b"
             ],
             [
              0.6666666666666666,
              "#ed7953"
             ],
             [
              0.7777777777777778,
              "#fb9f3a"
             ],
             [
              0.8888888888888888,
              "#fdca26"
             ],
             [
              1,
              "#f0f921"
             ]
            ],
            "type": "heatmap"
           }
          ],
          "heatmapgl": [
           {
            "colorbar": {
             "outlinewidth": 0,
             "ticks": ""
            },
            "colorscale": [
             [
              0,
              "#0d0887"
             ],
             [
              0.1111111111111111,
              "#46039f"
             ],
             [
              0.2222222222222222,
              "#7201a8"
             ],
             [
              0.3333333333333333,
              "#9c179e"
             ],
             [
              0.4444444444444444,
              "#bd3786"
             ],
             [
              0.5555555555555556,
              "#d8576b"
             ],
             [
              0.6666666666666666,
              "#ed7953"
             ],
             [
              0.7777777777777778,
              "#fb9f3a"
             ],
             [
              0.8888888888888888,
              "#fdca26"
             ],
             [
              1,
              "#f0f921"
             ]
            ],
            "type": "heatmapgl"
           }
          ],
          "histogram": [
           {
            "marker": {
             "pattern": {
              "fillmode": "overlay",
              "size": 10,
              "solidity": 0.2
             }
            },
            "type": "histogram"
           }
          ],
          "histogram2d": [
           {
            "colorbar": {
             "outlinewidth": 0,
             "ticks": ""
            },
            "colorscale": [
             [
              0,
              "#0d0887"
             ],
             [
              0.1111111111111111,
              "#46039f"
             ],
             [
              0.2222222222222222,
              "#7201a8"
             ],
             [
              0.3333333333333333,
              "#9c179e"
             ],
             [
              0.4444444444444444,
              "#bd3786"
             ],
             [
              0.5555555555555556,
              "#d8576b"
             ],
             [
              0.6666666666666666,
              "#ed7953"
             ],
             [
              0.7777777777777778,
              "#fb9f3a"
             ],
             [
              0.8888888888888888,
              "#fdca26"
             ],
             [
              1,
              "#f0f921"
             ]
            ],
            "type": "histogram2d"
           }
          ],
          "histogram2dcontour": [
           {
            "colorbar": {
             "outlinewidth": 0,
             "ticks": ""
            },
            "colorscale": [
             [
              0,
              "#0d0887"
             ],
             [
              0.1111111111111111,
              "#46039f"
             ],
             [
              0.2222222222222222,
              "#7201a8"
             ],
             [
              0.3333333333333333,
              "#9c179e"
             ],
             [
              0.4444444444444444,
              "#bd3786"
             ],
             [
              0.5555555555555556,
              "#d8576b"
             ],
             [
              0.6666666666666666,
              "#ed7953"
             ],
             [
              0.7777777777777778,
              "#fb9f3a"
             ],
             [
              0.8888888888888888,
              "#fdca26"
             ],
             [
              1,
              "#f0f921"
             ]
            ],
            "type": "histogram2dcontour"
           }
          ],
          "mesh3d": [
           {
            "colorbar": {
             "outlinewidth": 0,
             "ticks": ""
            },
            "type": "mesh3d"
           }
          ],
          "parcoords": [
           {
            "line": {
             "colorbar": {
              "outlinewidth": 0,
              "ticks": ""
             }
            },
            "type": "parcoords"
           }
          ],
          "pie": [
           {
            "automargin": true,
            "type": "pie"
           }
          ],
          "scatter": [
           {
            "fillpattern": {
             "fillmode": "overlay",
             "size": 10,
             "solidity": 0.2
            },
            "type": "scatter"
           }
          ],
          "scatter3d": [
           {
            "line": {
             "colorbar": {
              "outlinewidth": 0,
              "ticks": ""
             }
            },
            "marker": {
             "colorbar": {
              "outlinewidth": 0,
              "ticks": ""
             }
            },
            "type": "scatter3d"
           }
          ],
          "scattercarpet": [
           {
            "marker": {
             "colorbar": {
              "outlinewidth": 0,
              "ticks": ""
             }
            },
            "type": "scattercarpet"
           }
          ],
          "scattergeo": [
           {
            "marker": {
             "colorbar": {
              "outlinewidth": 0,
              "ticks": ""
             }
            },
            "type": "scattergeo"
           }
          ],
          "scattergl": [
           {
            "marker": {
             "colorbar": {
              "outlinewidth": 0,
              "ticks": ""
             }
            },
            "type": "scattergl"
           }
          ],
          "scattermapbox": [
           {
            "marker": {
             "colorbar": {
              "outlinewidth": 0,
              "ticks": ""
             }
            },
            "type": "scattermapbox"
           }
          ],
          "scatterpolar": [
           {
            "marker": {
             "colorbar": {
              "outlinewidth": 0,
              "ticks": ""
             }
            },
            "type": "scatterpolar"
           }
          ],
          "scatterpolargl": [
           {
            "marker": {
             "colorbar": {
              "outlinewidth": 0,
              "ticks": ""
             }
            },
            "type": "scatterpolargl"
           }
          ],
          "scatterternary": [
           {
            "marker": {
             "colorbar": {
              "outlinewidth": 0,
              "ticks": ""
             }
            },
            "type": "scatterternary"
           }
          ],
          "surface": [
           {
            "colorbar": {
             "outlinewidth": 0,
             "ticks": ""
            },
            "colorscale": [
             [
              0,
              "#0d0887"
             ],
             [
              0.1111111111111111,
              "#46039f"
             ],
             [
              0.2222222222222222,
              "#7201a8"
             ],
             [
              0.3333333333333333,
              "#9c179e"
             ],
             [
              0.4444444444444444,
              "#bd3786"
             ],
             [
              0.5555555555555556,
              "#d8576b"
             ],
             [
              0.6666666666666666,
              "#ed7953"
             ],
             [
              0.7777777777777778,
              "#fb9f3a"
             ],
             [
              0.8888888888888888,
              "#fdca26"
             ],
             [
              1,
              "#f0f921"
             ]
            ],
            "type": "surface"
           }
          ],
          "table": [
           {
            "cells": {
             "fill": {
              "color": "#EBF0F8"
             },
             "line": {
              "color": "white"
             }
            },
            "header": {
             "fill": {
              "color": "#C8D4E3"
             },
             "line": {
              "color": "white"
             }
            },
            "type": "table"
           }
          ]
         },
         "layout": {
          "annotationdefaults": {
           "arrowcolor": "#2a3f5f",
           "arrowhead": 0,
           "arrowwidth": 1
          },
          "autotypenumbers": "strict",
          "coloraxis": {
           "colorbar": {
            "outlinewidth": 0,
            "ticks": ""
           }
          },
          "colorscale": {
           "diverging": [
            [
             0,
             "#8e0152"
            ],
            [
             0.1,
             "#c51b7d"
            ],
            [
             0.2,
             "#de77ae"
            ],
            [
             0.3,
             "#f1b6da"
            ],
            [
             0.4,
             "#fde0ef"
            ],
            [
             0.5,
             "#f7f7f7"
            ],
            [
             0.6,
             "#e6f5d0"
            ],
            [
             0.7,
             "#b8e186"
            ],
            [
             0.8,
             "#7fbc41"
            ],
            [
             0.9,
             "#4d9221"
            ],
            [
             1,
             "#276419"
            ]
           ],
           "sequential": [
            [
             0,
             "#0d0887"
            ],
            [
             0.1111111111111111,
             "#46039f"
            ],
            [
             0.2222222222222222,
             "#7201a8"
            ],
            [
             0.3333333333333333,
             "#9c179e"
            ],
            [
             0.4444444444444444,
             "#bd3786"
            ],
            [
             0.5555555555555556,
             "#d8576b"
            ],
            [
             0.6666666666666666,
             "#ed7953"
            ],
            [
             0.7777777777777778,
             "#fb9f3a"
            ],
            [
             0.8888888888888888,
             "#fdca26"
            ],
            [
             1,
             "#f0f921"
            ]
           ],
           "sequentialminus": [
            [
             0,
             "#0d0887"
            ],
            [
             0.1111111111111111,
             "#46039f"
            ],
            [
             0.2222222222222222,
             "#7201a8"
            ],
            [
             0.3333333333333333,
             "#9c179e"
            ],
            [
             0.4444444444444444,
             "#bd3786"
            ],
            [
             0.5555555555555556,
             "#d8576b"
            ],
            [
             0.6666666666666666,
             "#ed7953"
            ],
            [
             0.7777777777777778,
             "#fb9f3a"
            ],
            [
             0.8888888888888888,
             "#fdca26"
            ],
            [
             1,
             "#f0f921"
            ]
           ]
          },
          "colorway": [
           "#636efa",
           "#EF553B",
           "#00cc96",
           "#ab63fa",
           "#FFA15A",
           "#19d3f3",
           "#FF6692",
           "#B6E880",
           "#FF97FF",
           "#FECB52"
          ],
          "font": {
           "color": "#2a3f5f"
          },
          "geo": {
           "bgcolor": "white",
           "lakecolor": "white",
           "landcolor": "#E5ECF6",
           "showlakes": true,
           "showland": true,
           "subunitcolor": "white"
          },
          "hoverlabel": {
           "align": "left"
          },
          "hovermode": "closest",
          "mapbox": {
           "style": "light"
          },
          "paper_bgcolor": "white",
          "plot_bgcolor": "#E5ECF6",
          "polar": {
           "angularaxis": {
            "gridcolor": "white",
            "linecolor": "white",
            "ticks": ""
           },
           "bgcolor": "#E5ECF6",
           "radialaxis": {
            "gridcolor": "white",
            "linecolor": "white",
            "ticks": ""
           }
          },
          "scene": {
           "xaxis": {
            "backgroundcolor": "#E5ECF6",
            "gridcolor": "white",
            "gridwidth": 2,
            "linecolor": "white",
            "showbackground": true,
            "ticks": "",
            "zerolinecolor": "white"
           },
           "yaxis": {
            "backgroundcolor": "#E5ECF6",
            "gridcolor": "white",
            "gridwidth": 2,
            "linecolor": "white",
            "showbackground": true,
            "ticks": "",
            "zerolinecolor": "white"
           },
           "zaxis": {
            "backgroundcolor": "#E5ECF6",
            "gridcolor": "white",
            "gridwidth": 2,
            "linecolor": "white",
            "showbackground": true,
            "ticks": "",
            "zerolinecolor": "white"
           }
          },
          "shapedefaults": {
           "line": {
            "color": "#2a3f5f"
           }
          },
          "ternary": {
           "aaxis": {
            "gridcolor": "white",
            "linecolor": "white",
            "ticks": ""
           },
           "baxis": {
            "gridcolor": "white",
            "linecolor": "white",
            "ticks": ""
           },
           "bgcolor": "#E5ECF6",
           "caxis": {
            "gridcolor": "white",
            "linecolor": "white",
            "ticks": ""
           }
          },
          "title": {
           "x": 0.05
          },
          "xaxis": {
           "automargin": true,
           "gridcolor": "white",
           "linecolor": "white",
           "ticks": "",
           "title": {
            "standoff": 15
           },
           "zerolinecolor": "white",
           "zerolinewidth": 2
          },
          "yaxis": {
           "automargin": true,
           "gridcolor": "white",
           "linecolor": "white",
           "ticks": "",
           "title": {
            "standoff": 15
           },
           "zerolinecolor": "white",
           "zerolinewidth": 2
          }
         }
        },
        "title": {
         "automargin": true,
         "pad": {
          "b": 10,
          "l": 10,
          "r": 10,
          "t": 10
         },
         "text": "Évolution de la proportion d'articles publiés invoquant le thème du genre (def extensive et statistique)"
        },
        "width": 1150,
        "xaxis": {
         "anchor": "y",
         "domain": [
          0,
          0.6444444444444445
         ]
        },
        "xaxis10": {
         "anchor": "y10",
         "domain": [
          0.35555555555555557,
          0.6444444444444445
         ],
         "matches": "x9"
        },
        "xaxis11": {
         "anchor": "y11",
         "domain": [
          0.7111111111111111,
          1
         ],
         "matches": "x9"
        },
        "xaxis12": {
         "anchor": "y12",
         "domain": [
          0,
          0.2888888888888889
         ]
        },
        "xaxis13": {
         "anchor": "y13",
         "domain": [
          0.35555555555555557,
          0.6444444444444445
         ],
         "matches": "x12"
        },
        "xaxis14": {
         "anchor": "y14",
         "domain": [
          0.7111111111111111,
          1
         ],
         "matches": "x12"
        },
        "xaxis2": {
         "anchor": "y2",
         "domain": [
          0.7111111111111111,
          1
         ]
        },
        "xaxis3": {
         "anchor": "y3",
         "domain": [
          0,
          0.2888888888888889
         ]
        },
        "xaxis4": {
         "anchor": "y4",
         "domain": [
          0.35555555555555557,
          0.6444444444444445
         ],
         "matches": "x3"
        },
        "xaxis5": {
         "anchor": "y5",
         "domain": [
          0.7111111111111111,
          1
         ],
         "matches": "x3"
        },
        "xaxis6": {
         "anchor": "y6",
         "domain": [
          0,
          0.2888888888888889
         ]
        },
        "xaxis7": {
         "anchor": "y7",
         "domain": [
          0.35555555555555557,
          0.6444444444444445
         ],
         "matches": "x6"
        },
        "xaxis8": {
         "anchor": "y8",
         "domain": [
          0.7111111111111111,
          1
         ],
         "matches": "x6"
        },
        "xaxis9": {
         "anchor": "y9",
         "domain": [
          0,
          0.2888888888888889
         ]
        },
        "yaxis": {
         "anchor": "x",
         "domain": [
          0.88,
          1
         ]
        },
        "yaxis10": {
         "anchor": "x10",
         "domain": [
          0.22,
          0.33999999999999997
         ],
         "matches": "y9",
         "showticklabels": false
        },
        "yaxis11": {
         "anchor": "x11",
         "domain": [
          0.22,
          0.33999999999999997
         ],
         "matches": "y9",
         "showticklabels": false
        },
        "yaxis12": {
         "anchor": "x12",
         "domain": [
          0,
          0.12
         ]
        },
        "yaxis13": {
         "anchor": "x13",
         "domain": [
          0,
          0.12
         ],
         "matches": "y12",
         "showticklabels": false
        },
        "yaxis14": {
         "anchor": "x14",
         "domain": [
          0,
          0.12
         ],
         "matches": "y12",
         "showticklabels": false
        },
        "yaxis2": {
         "anchor": "x2",
         "domain": [
          0.88,
          1
         ],
         "matches": "y",
         "showticklabels": false
        },
        "yaxis3": {
         "anchor": "x3",
         "domain": [
          0.66,
          0.78
         ]
        },
        "yaxis4": {
         "anchor": "x4",
         "domain": [
          0.66,
          0.78
         ],
         "matches": "y3",
         "showticklabels": false
        },
        "yaxis5": {
         "anchor": "x5",
         "domain": [
          0.66,
          0.78
         ],
         "matches": "y3",
         "showticklabels": false
        },
        "yaxis6": {
         "anchor": "x6",
         "domain": [
          0.44,
          0.56
         ]
        },
        "yaxis7": {
         "anchor": "x7",
         "domain": [
          0.44,
          0.56
         ],
         "matches": "y6",
         "showticklabels": false
        },
        "yaxis8": {
         "anchor": "x8",
         "domain": [
          0.44,
          0.56
         ],
         "matches": "y6",
         "showticklabels": false
        },
        "yaxis9": {
         "anchor": "x9",
         "domain": [
          0.22,
          0.33999999999999997
         ]
        }
       }
      }
     },
     "metadata": {},
     "output_type": "display_data"
    }
   ],
   "source": [
    "fig = fig.update_layout(plot_bgcolor = 'white')\n",
    "fig = fig.update_layout(showlegend = False)\n",
    "fig.show()"
   ]
  }
 ],
 "metadata": {
  "kernelspec": {
   "display_name": "CREST",
   "language": "python",
   "name": "python3"
  },
  "language_info": {
   "codemirror_mode": {
    "name": "ipython",
    "version": 3
   },
   "file_extension": ".py",
   "mimetype": "text/x-python",
   "name": "python",
   "nbconvert_exporter": "python",
   "pygments_lexer": "ipython3",
   "version": "3.12.7"
  }
 },
 "nbformat": 4,
 "nbformat_minor": 2
}
